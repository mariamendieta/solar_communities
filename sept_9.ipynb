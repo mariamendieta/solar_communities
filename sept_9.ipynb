{
 "cells": [
  {
   "cell_type": "code",
   "execution_count": 1,
   "metadata": {
    "collapsed": true
   },
   "outputs": [],
   "source": [
    "import pandas as pd\n",
    "import matplotlib.pyplot as plt\n",
    "import numpy as np\n",
    "import sys\n",
    "sys.path.insert(0,'src/')\n",
    "import acs5\n",
    "import nyserda_acs\n",
    "import prices\n",
    "import project_sunroof\n",
    "import nyserda\n",
    "from sklearn.model_selection import GridSearchCV\n",
    "from sklearn.ensemble import GradientBoostingClassifier\n",
    "from sklearn.model_selection import train_test_split\n",
    "from sklearn.preprocessing import Imputer\n",
    "\n",
    "\n",
    "%matplotlib inline"
   ]
  },
  {
   "cell_type": "code",
   "execution_count": 2,
   "metadata": {
    "collapsed": true
   },
   "outputs": [],
   "source": [
    "acs = nyserda_acs.merging_data()\n",
    "acs=acs[acs['households']>0]"
   ]
  },
  {
   "cell_type": "code",
   "execution_count": 3,
   "metadata": {},
   "outputs": [
    {
     "data": {
      "text/plain": [
       "0       36001000100\n",
       "1       36001000200\n",
       "2       36001000300\n",
       "3       36001000401\n",
       "4       36001000403\n",
       "5       36001000404\n",
       "6       36001000501\n",
       "7       36001000502\n",
       "8       36001000600\n",
       "9       36001000700\n",
       "10      36001000800\n",
       "11      36001001100\n",
       "12      36001001400\n",
       "13      36001001500\n",
       "14      36001001600\n",
       "15      36001001700\n",
       "16      36001001801\n",
       "17      36001001802\n",
       "18      36001001901\n",
       "19      36001001902\n",
       "20      36001002000\n",
       "21      36001002100\n",
       "22      36001002200\n",
       "23      36001002300\n",
       "24      36001002500\n",
       "25      36001002600\n",
       "26      36001012700\n",
       "27      36001012800\n",
       "28      36001012900\n",
       "29      36001013000\n",
       "           ...     \n",
       "4885    36119014805\n",
       "4886    36119014806\n",
       "4887    36119014808\n",
       "4888    36119014809\n",
       "4889    36119014810\n",
       "4890    36119014811\n",
       "4891    36119014901\n",
       "4892    36119014903\n",
       "4893    36119014907\n",
       "4894    36119014908\n",
       "4895    36119014909\n",
       "4896    36119015000\n",
       "4897    36119981000\n",
       "4900    36119984000\n",
       "4902    36121970100\n",
       "4903    36121970200\n",
       "4904    36121970300\n",
       "4905    36121970400\n",
       "4906    36121970500\n",
       "4907    36121970600\n",
       "4908    36121970700\n",
       "4909    36121970800\n",
       "4910    36121970900\n",
       "4911    36121971000\n",
       "4912    36121971100\n",
       "4913    36123150100\n",
       "4914    36123150200\n",
       "4915    36123150300\n",
       "4916    36123150400\n",
       "4917    36123150500\n",
       "Name: GEOID10, Length: 4831, dtype: int64"
      ]
     },
     "execution_count": 3,
     "metadata": {},
     "output_type": "execute_result"
    }
   ],
   "source": [
    "acs.GEOID10"
   ]
  },
  {
   "cell_type": "code",
   "execution_count": 4,
   "metadata": {},
   "outputs": [
    {
     "data": {
      "text/plain": [
       "0.24715379838542745"
      ]
     },
     "execution_count": 4,
     "metadata": {},
     "output_type": "execute_result"
    }
   ],
   "source": [
    "np.mean(acs.Project_yes)"
   ]
  },
  {
   "cell_type": "code",
   "execution_count": 5,
   "metadata": {
    "collapsed": true
   },
   "outputs": [],
   "source": [
    "a = acs5.Get_census_data()\n",
    "b = a.get_acs_all()"
   ]
  },
  {
   "cell_type": "code",
   "execution_count": 6,
   "metadata": {
    "collapsed": true
   },
   "outputs": [],
   "source": [
    "acs_variables = a.education_percent + a.other_households + a.units_percent + a.heating_percent + a.rooms_percent"
   ]
  },
  {
   "cell_type": "code",
   "execution_count": 7,
   "metadata": {},
   "outputs": [
    {
     "data": {
      "text/plain": [
       "['Percent_Less_9th',\n",
       " 'Percent_12th_no_dip',\n",
       " 'Percent_HighSchool',\n",
       " 'Percent_Some_college',\n",
       " 'Percent_Associate',\n",
       " 'Percent_Bachelors',\n",
       " 'Percent_Graduate',\n",
       " 'Percent_more_than_hs',\n",
       " 'Avg_hh_size',\n",
       " 'Median_age',\n",
       " 'Percent_hh_w_children',\n",
       " 'Percent_1_unit_detached',\n",
       " 'Percent_1_unit_attached',\n",
       " 'Percent_2_units',\n",
       " 'Percent_3_4_units',\n",
       " 'Percent_5_9_units',\n",
       " 'Percent_10_19_units',\n",
       " 'Percent_20+_units',\n",
       " 'Percent_10+_units',\n",
       " 'Percent_1_unit',\n",
       " 'Percent_Heating_gas',\n",
       " 'Percent_Heating_gas_tank',\n",
       " 'Percent_Heating_electricity',\n",
       " 'Percent_Heating_fuelkero',\n",
       " 'Percent_Heating_coal_coke',\n",
       " 'Percent_Heating_wood',\n",
       " 'Percent_Heating_solar',\n",
       " 'Percent_Heating_other',\n",
       " 'Percent_Heating_no',\n",
       " 'Percent_1_room',\n",
       " 'Percent_2_rooms',\n",
       " 'Percent_3_rooms',\n",
       " 'Percent_4_rooms',\n",
       " 'Percent_5_rooms',\n",
       " 'Percent_6_rooms',\n",
       " 'Percent_7_rooms',\n",
       " 'Percent_8_rooms',\n",
       " 'Percent_9_more_rooms',\n",
       " 'median_rooms']"
      ]
     },
     "execution_count": 7,
     "metadata": {},
     "output_type": "execute_result"
    }
   ],
   "source": [
    "acs_variables"
   ]
  },
  {
   "cell_type": "code",
   "execution_count": 8,
   "metadata": {},
   "outputs": [
    {
     "name": "stderr",
     "output_type": "stream",
     "text": [
      "/Users/mariamendieta/anaconda2/lib/python2.7/site-packages/pandas/core/indexing.py:517: SettingWithCopyWarning: \n",
      "A value is trying to be set on a copy of a slice from a DataFrame.\n",
      "Try using .loc[row_indexer,col_indexer] = value instead\n",
      "\n",
      "See the caveats in the documentation: http://pandas.pydata.org/pandas-docs/stable/indexing.html#indexing-view-versus-copy\n",
      "  self.obj[item] = s\n",
      "/Users/mariamendieta/anaconda2/lib/python2.7/site-packages/pandas/core/indexing.py:337: SettingWithCopyWarning: \n",
      "A value is trying to be set on a copy of a slice from a DataFrame.\n",
      "Try using .loc[row_indexer,col_indexer] = value instead\n",
      "\n",
      "See the caveats in the documentation: http://pandas.pydata.org/pandas-docs/stable/indexing.html#indexing-view-versus-copy\n",
      "  self.obj[key] = _infer_fill_value(value)\n"
     ]
    }
   ],
   "source": [
    "#Creating new dataframe with only positive cases\n",
    "temp = acs.loc[acs['Project_yes']==1,:]\n",
    "#Creating weights for negative class in positive cases\n",
    "temp.loc[:,'Project_yes'] =0\n",
    "temp.loc[:,'weight'] = temp.loc[:,'households']-temp.loc[:,'Project_Number']\n",
    "temp=temp[temp['weight']>0]\n",
    "#Creating weights for positive class\n",
    "temp2 = acs.loc[acs['Project_yes']==1,:]\n",
    "temp2.loc[:,'weight']=temp2.loc[:,'Project_Number']\n",
    "#Creating weights for negative classe\n",
    "temp3 =acs.loc[acs['Project_yes']==0,:]\n",
    "temp3.loc[:,'weight']=temp3.loc[:,'households']\n",
    "#Concatenating\n",
    "data = temp.append(temp2.append(temp3, ignore_index=True), ignore_index=True)"
   ]
  },
  {
   "cell_type": "code",
   "execution_count": 9,
   "metadata": {},
   "outputs": [
    {
     "data": {
      "text/html": [
       "<div>\n",
       "<style>\n",
       "    .dataframe thead tr:only-child th {\n",
       "        text-align: right;\n",
       "    }\n",
       "\n",
       "    .dataframe thead th {\n",
       "        text-align: left;\n",
       "    }\n",
       "\n",
       "    .dataframe tbody tr th {\n",
       "        vertical-align: top;\n",
       "    }\n",
       "</style>\n",
       "<table border=\"1\" class=\"dataframe\">\n",
       "  <thead>\n",
       "    <tr style=\"text-align: right;\">\n",
       "      <th></th>\n",
       "      <th>12th_no_dip</th>\n",
       "      <th>Some_college</th>\n",
       "      <th>Total_households_by_type</th>\n",
       "      <th>Median_income</th>\n",
       "      <th>Bachelors</th>\n",
       "      <th>75k_100k</th>\n",
       "      <th>150k_200k</th>\n",
       "      <th>Pop_over_25</th>\n",
       "      <th>Avg_hh_size</th>\n",
       "      <th>Hh_w_children</th>\n",
       "      <th>...</th>\n",
       "      <th>yearly_sunlight_kwh_w</th>\n",
       "      <th>yearly_sunlight_kwh_f</th>\n",
       "      <th>yearly_sunlight_kwh_median</th>\n",
       "      <th>yearly_sunlight_kwh_total</th>\n",
       "      <th>carbon_offset_metric_tons</th>\n",
       "      <th>existing_installs_count</th>\n",
       "      <th>Mean_price</th>\n",
       "      <th>Var_price</th>\n",
       "      <th>Project_yes</th>\n",
       "      <th>weight</th>\n",
       "    </tr>\n",
       "  </thead>\n",
       "  <tbody>\n",
       "    <tr>\n",
       "      <th>count</th>\n",
       "      <td>6022.000000</td>\n",
       "      <td>6022.000000</td>\n",
       "      <td>6022.000000</td>\n",
       "      <td>5976.000000</td>\n",
       "      <td>6022.000000</td>\n",
       "      <td>6022.000000</td>\n",
       "      <td>6022.000000</td>\n",
       "      <td>6022.000000</td>\n",
       "      <td>6016.000000</td>\n",
       "      <td>6022.000000</td>\n",
       "      <td>...</td>\n",
       "      <td>4.334000e+03</td>\n",
       "      <td>4.334000e+03</td>\n",
       "      <td>4.334000e+03</td>\n",
       "      <td>4.334000e+03</td>\n",
       "      <td>4334.000000</td>\n",
       "      <td>4334.000000</td>\n",
       "      <td>6022.000000</td>\n",
       "      <td>6022.000000</td>\n",
       "      <td>6022.000000</td>\n",
       "      <td>6022.000000</td>\n",
       "    </tr>\n",
       "    <tr>\n",
       "      <th>mean</th>\n",
       "      <td>210.570741</td>\n",
       "      <td>465.383926</td>\n",
       "      <td>1536.995018</td>\n",
       "      <td>65091.963186</td>\n",
       "      <td>544.032713</td>\n",
       "      <td>185.634009</td>\n",
       "      <td>99.758718</td>\n",
       "      <td>2837.645965</td>\n",
       "      <td>2.691910</td>\n",
       "      <td>423.684158</td>\n",
       "      <td>...</td>\n",
       "      <td>1.258109e+06</td>\n",
       "      <td>5.394020e+06</td>\n",
       "      <td>1.011119e+04</td>\n",
       "      <td>9.921398e+06</td>\n",
       "      <td>4917.810014</td>\n",
       "      <td>6.080757</td>\n",
       "      <td>28.992411</td>\n",
       "      <td>209.900863</td>\n",
       "      <td>0.198273</td>\n",
       "      <td>1205.975590</td>\n",
       "    </tr>\n",
       "    <tr>\n",
       "      <th>std</th>\n",
       "      <td>179.112913</td>\n",
       "      <td>259.917002</td>\n",
       "      <td>798.584848</td>\n",
       "      <td>31415.378176</td>\n",
       "      <td>458.777865</td>\n",
       "      <td>119.817811</td>\n",
       "      <td>102.452284</td>\n",
       "      <td>1391.941038</td>\n",
       "      <td>0.531699</td>\n",
       "      <td>222.113201</td>\n",
       "      <td>...</td>\n",
       "      <td>1.715719e+06</td>\n",
       "      <td>8.947681e+06</td>\n",
       "      <td>2.089893e+04</td>\n",
       "      <td>1.233842e+07</td>\n",
       "      <td>6366.517959</td>\n",
       "      <td>14.943464</td>\n",
       "      <td>4.220938</td>\n",
       "      <td>109.370253</td>\n",
       "      <td>0.398732</td>\n",
       "      <td>908.509944</td>\n",
       "    </tr>\n",
       "    <tr>\n",
       "      <th>min</th>\n",
       "      <td>0.000000</td>\n",
       "      <td>0.000000</td>\n",
       "      <td>2.000000</td>\n",
       "      <td>8942.000000</td>\n",
       "      <td>0.000000</td>\n",
       "      <td>0.000000</td>\n",
       "      <td>0.000000</td>\n",
       "      <td>4.000000</td>\n",
       "      <td>1.030000</td>\n",
       "      <td>0.000000</td>\n",
       "      <td>...</td>\n",
       "      <td>0.000000e+00</td>\n",
       "      <td>0.000000e+00</td>\n",
       "      <td>2.178341e+03</td>\n",
       "      <td>2.178341e+03</td>\n",
       "      <td>0.796007</td>\n",
       "      <td>0.000000</td>\n",
       "      <td>18.309167</td>\n",
       "      <td>95.470254</td>\n",
       "      <td>0.000000</td>\n",
       "      <td>1.000000</td>\n",
       "    </tr>\n",
       "    <tr>\n",
       "      <th>25%</th>\n",
       "      <td>91.000000</td>\n",
       "      <td>281.000000</td>\n",
       "      <td>1013.000000</td>\n",
       "      <td>44504.500000</td>\n",
       "      <td>247.000000</td>\n",
       "      <td>101.000000</td>\n",
       "      <td>28.000000</td>\n",
       "      <td>1870.250000</td>\n",
       "      <td>2.350000</td>\n",
       "      <td>263.000000</td>\n",
       "      <td>...</td>\n",
       "      <td>6.139277e+04</td>\n",
       "      <td>1.732421e+06</td>\n",
       "      <td>5.894846e+03</td>\n",
       "      <td>3.022043e+06</td>\n",
       "      <td>1632.011003</td>\n",
       "      <td>0.000000</td>\n",
       "      <td>25.463787</td>\n",
       "      <td>163.361579</td>\n",
       "      <td>0.000000</td>\n",
       "      <td>575.000000</td>\n",
       "    </tr>\n",
       "    <tr>\n",
       "      <th>50%</th>\n",
       "      <td>167.000000</td>\n",
       "      <td>427.000000</td>\n",
       "      <td>1444.000000</td>\n",
       "      <td>58744.000000</td>\n",
       "      <td>424.000000</td>\n",
       "      <td>166.000000</td>\n",
       "      <td>65.000000</td>\n",
       "      <td>2665.000000</td>\n",
       "      <td>2.610000</td>\n",
       "      <td>394.000000</td>\n",
       "      <td>...</td>\n",
       "      <td>4.723928e+05</td>\n",
       "      <td>3.118269e+06</td>\n",
       "      <td>7.253804e+03</td>\n",
       "      <td>5.319199e+06</td>\n",
       "      <td>2718.112472</td>\n",
       "      <td>1.000000</td>\n",
       "      <td>30.932676</td>\n",
       "      <td>188.915562</td>\n",
       "      <td>0.000000</td>\n",
       "      <td>1176.500000</td>\n",
       "    </tr>\n",
       "    <tr>\n",
       "      <th>75%</th>\n",
       "      <td>273.000000</td>\n",
       "      <td>607.000000</td>\n",
       "      <td>1912.750000</td>\n",
       "      <td>81290.750000</td>\n",
       "      <td>715.000000</td>\n",
       "      <td>245.000000</td>\n",
       "      <td>145.000000</td>\n",
       "      <td>3577.000000</td>\n",
       "      <td>2.980000</td>\n",
       "      <td>556.750000</td>\n",
       "      <td>...</td>\n",
       "      <td>1.906141e+06</td>\n",
       "      <td>5.447937e+06</td>\n",
       "      <td>8.864285e+03</td>\n",
       "      <td>1.294382e+07</td>\n",
       "      <td>6034.326853</td>\n",
       "      <td>4.000000</td>\n",
       "      <td>30.932676</td>\n",
       "      <td>195.928370</td>\n",
       "      <td>0.000000</td>\n",
       "      <td>1717.750000</td>\n",
       "    </tr>\n",
       "    <tr>\n",
       "      <th>max</th>\n",
       "      <td>1660.000000</td>\n",
       "      <td>4982.000000</td>\n",
       "      <td>12316.000000</td>\n",
       "      <td>247868.000000</td>\n",
       "      <td>5777.000000</td>\n",
       "      <td>1307.000000</td>\n",
       "      <td>1163.000000</td>\n",
       "      <td>21953.000000</td>\n",
       "      <td>6.270000</td>\n",
       "      <td>2308.000000</td>\n",
       "      <td>...</td>\n",
       "      <td>1.461371e+07</td>\n",
       "      <td>1.657917e+08</td>\n",
       "      <td>1.144766e+06</td>\n",
       "      <td>1.720241e+08</td>\n",
       "      <td>104842.111072</td>\n",
       "      <td>258.000000</td>\n",
       "      <td>35.571604</td>\n",
       "      <td>477.108098</td>\n",
       "      <td>1.000000</td>\n",
       "      <td>12305.000000</td>\n",
       "    </tr>\n",
       "  </tbody>\n",
       "</table>\n",
       "<p>8 rows × 150 columns</p>\n",
       "</div>"
      ],
      "text/plain": [
       "       12th_no_dip  Some_college  Total_households_by_type  Median_income  \\\n",
       "count  6022.000000   6022.000000               6022.000000    5976.000000   \n",
       "mean    210.570741    465.383926               1536.995018   65091.963186   \n",
       "std     179.112913    259.917002                798.584848   31415.378176   \n",
       "min       0.000000      0.000000                  2.000000    8942.000000   \n",
       "25%      91.000000    281.000000               1013.000000   44504.500000   \n",
       "50%     167.000000    427.000000               1444.000000   58744.000000   \n",
       "75%     273.000000    607.000000               1912.750000   81290.750000   \n",
       "max    1660.000000   4982.000000              12316.000000  247868.000000   \n",
       "\n",
       "         Bachelors     75k_100k    150k_200k   Pop_over_25  Avg_hh_size  \\\n",
       "count  6022.000000  6022.000000  6022.000000   6022.000000  6016.000000   \n",
       "mean    544.032713   185.634009    99.758718   2837.645965     2.691910   \n",
       "std     458.777865   119.817811   102.452284   1391.941038     0.531699   \n",
       "min       0.000000     0.000000     0.000000      4.000000     1.030000   \n",
       "25%     247.000000   101.000000    28.000000   1870.250000     2.350000   \n",
       "50%     424.000000   166.000000    65.000000   2665.000000     2.610000   \n",
       "75%     715.000000   245.000000   145.000000   3577.000000     2.980000   \n",
       "max    5777.000000  1307.000000  1163.000000  21953.000000     6.270000   \n",
       "\n",
       "       Hh_w_children      ...       yearly_sunlight_kwh_w  \\\n",
       "count    6022.000000      ...                4.334000e+03   \n",
       "mean      423.684158      ...                1.258109e+06   \n",
       "std       222.113201      ...                1.715719e+06   \n",
       "min         0.000000      ...                0.000000e+00   \n",
       "25%       263.000000      ...                6.139277e+04   \n",
       "50%       394.000000      ...                4.723928e+05   \n",
       "75%       556.750000      ...                1.906141e+06   \n",
       "max      2308.000000      ...                1.461371e+07   \n",
       "\n",
       "       yearly_sunlight_kwh_f  yearly_sunlight_kwh_median  \\\n",
       "count           4.334000e+03                4.334000e+03   \n",
       "mean            5.394020e+06                1.011119e+04   \n",
       "std             8.947681e+06                2.089893e+04   \n",
       "min             0.000000e+00                2.178341e+03   \n",
       "25%             1.732421e+06                5.894846e+03   \n",
       "50%             3.118269e+06                7.253804e+03   \n",
       "75%             5.447937e+06                8.864285e+03   \n",
       "max             1.657917e+08                1.144766e+06   \n",
       "\n",
       "       yearly_sunlight_kwh_total  carbon_offset_metric_tons  \\\n",
       "count               4.334000e+03                4334.000000   \n",
       "mean                9.921398e+06                4917.810014   \n",
       "std                 1.233842e+07                6366.517959   \n",
       "min                 2.178341e+03                   0.796007   \n",
       "25%                 3.022043e+06                1632.011003   \n",
       "50%                 5.319199e+06                2718.112472   \n",
       "75%                 1.294382e+07                6034.326853   \n",
       "max                 1.720241e+08              104842.111072   \n",
       "\n",
       "       existing_installs_count   Mean_price    Var_price  Project_yes  \\\n",
       "count              4334.000000  6022.000000  6022.000000  6022.000000   \n",
       "mean                  6.080757    28.992411   209.900863     0.198273   \n",
       "std                  14.943464     4.220938   109.370253     0.398732   \n",
       "min                   0.000000    18.309167    95.470254     0.000000   \n",
       "25%                   0.000000    25.463787   163.361579     0.000000   \n",
       "50%                   1.000000    30.932676   188.915562     0.000000   \n",
       "75%                   4.000000    30.932676   195.928370     0.000000   \n",
       "max                 258.000000    35.571604   477.108098     1.000000   \n",
       "\n",
       "             weight  \n",
       "count   6022.000000  \n",
       "mean    1205.975590  \n",
       "std      908.509944  \n",
       "min        1.000000  \n",
       "25%      575.000000  \n",
       "50%     1176.500000  \n",
       "75%     1717.750000  \n",
       "max    12305.000000  \n",
       "\n",
       "[8 rows x 150 columns]"
      ]
     },
     "execution_count": 9,
     "metadata": {},
     "output_type": "execute_result"
    }
   ],
   "source": [
    "data.describe()"
   ]
  },
  {
   "cell_type": "code",
   "execution_count": 10,
   "metadata": {},
   "outputs": [
    {
     "data": {
      "text/html": [
       "<div>\n",
       "<style>\n",
       "    .dataframe thead tr:only-child th {\n",
       "        text-align: right;\n",
       "    }\n",
       "\n",
       "    .dataframe thead th {\n",
       "        text-align: left;\n",
       "    }\n",
       "\n",
       "    .dataframe tbody tr th {\n",
       "        vertical-align: top;\n",
       "    }\n",
       "</style>\n",
       "<table border=\"1\" class=\"dataframe\">\n",
       "  <thead>\n",
       "    <tr style=\"text-align: right;\">\n",
       "      <th></th>\n",
       "      <th>12th_no_dip</th>\n",
       "      <th>Some_college</th>\n",
       "      <th>Total_households_by_type</th>\n",
       "      <th>Median_income</th>\n",
       "      <th>Bachelors</th>\n",
       "      <th>75k_100k</th>\n",
       "      <th>150k_200k</th>\n",
       "      <th>Pop_over_25</th>\n",
       "      <th>Avg_hh_size</th>\n",
       "      <th>Hh_w_children</th>\n",
       "      <th>...</th>\n",
       "      <th>yearly_sunlight_kwh_total</th>\n",
       "      <th>install_size_kw_buckets_json</th>\n",
       "      <th>carbon_offset_metric_tons</th>\n",
       "      <th>existing_installs_count</th>\n",
       "      <th>Region</th>\n",
       "      <th>Mean_price</th>\n",
       "      <th>Var_price</th>\n",
       "      <th>county_name</th>\n",
       "      <th>Project_yes</th>\n",
       "      <th>weight</th>\n",
       "    </tr>\n",
       "  </thead>\n",
       "  <tbody>\n",
       "  </tbody>\n",
       "</table>\n",
       "<p>0 rows × 158 columns</p>\n",
       "</div>"
      ],
      "text/plain": [
       "Empty DataFrame\n",
       "Columns: [12th_no_dip, Some_college, Total_households_by_type, Median_income, Bachelors, 75k_100k, 150k_200k, Pop_over_25, Avg_hh_size, Hh_w_children, 35k_50k, 15k_25k, Less_10k, Under_5_years, HighSchool, Associate, Mean_income, 200k_more, Graduate, 100k_150k, 10k_15k, Less_9th, households, Total_population, 50k_75k, 25k_35k, Median_age, GEOID10, Percent_Less_10k, Percent_10k_15k, Percent_15k_25k, Percent_25k_35k, Percent_35k_50k, Percent_50k_75k, Percent_75k_100k, Percent_100k_150k, Percent_150k_200k, Percent_200k_more, Percent_less_35k, Percent_Less_9th, Percent_12th_no_dip, Percent_HighSchool, Percent_Some_college, Percent_Associate, Percent_Bachelors, Percent_Graduate, Percent_more_than_hs, Percent_hh_w_children, Occupied_units, 5_9_units, 3_4_units, Heating_coal_coke, Occupied_units_heating, Rental_vacancy_rate, Heating_solar, Total_units_structure, 8_rooms, 1_unit_detached, Heating_gas_tank, Total_housing_units_Rooms, Heating_no, 2_rooms, 6_rooms, Heating_other, 5_rooms, 20+_units, Housing_Units, 7_rooms, 1_unit_attached, 2_units, 3_rooms, 1_room, 9_more_rooms, 4_rooms, 10_19_units, Heating_electricity, median_rooms, Heating_gas, Heating_wood, Median_unit_values, Heating_fuelkero, NAME, state, county, tract, Percent_occupied, Percent_1_unit_detached, Percent_1_unit_attached, Percent_2_units, Percent_3_4_units, Percent_5_9_units, Percent_10_19_units, Percent_20+_units, Percent_10+_units, Percent_1_unit, Percent_1_room, Percent_2_rooms, Percent_3_rooms, Percent_4_rooms, Percent_5_rooms, ...]\n",
       "Index: []\n",
       "\n",
       "[0 rows x 158 columns]"
      ]
     },
     "execution_count": 10,
     "metadata": {},
     "output_type": "execute_result"
    }
   ],
   "source": [
    "data[data['weight']==0]"
   ]
  },
  {
   "cell_type": "code",
   "execution_count": 11,
   "metadata": {},
   "outputs": [
    {
     "data": {
      "text/html": [
       "<div>\n",
       "<style>\n",
       "    .dataframe thead tr:only-child th {\n",
       "        text-align: right;\n",
       "    }\n",
       "\n",
       "    .dataframe thead th {\n",
       "        text-align: left;\n",
       "    }\n",
       "\n",
       "    .dataframe tbody tr th {\n",
       "        vertical-align: top;\n",
       "    }\n",
       "</style>\n",
       "<table border=\"1\" class=\"dataframe\">\n",
       "  <thead>\n",
       "    <tr style=\"text-align: right;\">\n",
       "      <th></th>\n",
       "      <th>Percent_Less_9th</th>\n",
       "      <th>Percent_12th_no_dip</th>\n",
       "      <th>Percent_HighSchool</th>\n",
       "      <th>Percent_Some_college</th>\n",
       "      <th>Percent_Associate</th>\n",
       "      <th>Percent_Bachelors</th>\n",
       "      <th>Percent_Graduate</th>\n",
       "      <th>Percent_more_than_hs</th>\n",
       "      <th>Avg_hh_size</th>\n",
       "      <th>Median_age</th>\n",
       "      <th>...</th>\n",
       "      <th>Percent_9_more_rooms</th>\n",
       "      <th>median_rooms</th>\n",
       "      <th>Project_yes</th>\n",
       "      <th>Mean_price</th>\n",
       "      <th>Var_price</th>\n",
       "      <th>percent_qualified</th>\n",
       "      <th>yearly_sunlight_kwh_total</th>\n",
       "      <th>number_of_panels_median</th>\n",
       "      <th>kw_median</th>\n",
       "      <th>weight</th>\n",
       "    </tr>\n",
       "  </thead>\n",
       "  <tbody>\n",
       "    <tr>\n",
       "      <th>count</th>\n",
       "      <td>6022.000000</td>\n",
       "      <td>6022.000000</td>\n",
       "      <td>6022.000000</td>\n",
       "      <td>6022.000000</td>\n",
       "      <td>6022.000000</td>\n",
       "      <td>6022.000000</td>\n",
       "      <td>6022.000000</td>\n",
       "      <td>6022.000000</td>\n",
       "      <td>6016.000000</td>\n",
       "      <td>6015.000000</td>\n",
       "      <td>...</td>\n",
       "      <td>6022.000000</td>\n",
       "      <td>5968.000000</td>\n",
       "      <td>6022.000000</td>\n",
       "      <td>6022.000000</td>\n",
       "      <td>6022.000000</td>\n",
       "      <td>4334.000000</td>\n",
       "      <td>4.334000e+03</td>\n",
       "      <td>4334.000000</td>\n",
       "      <td>4334.000000</td>\n",
       "      <td>6022.000000</td>\n",
       "    </tr>\n",
       "    <tr>\n",
       "      <th>mean</th>\n",
       "      <td>0.061967</td>\n",
       "      <td>0.077948</td>\n",
       "      <td>0.279996</td>\n",
       "      <td>0.166751</td>\n",
       "      <td>0.089023</td>\n",
       "      <td>0.183827</td>\n",
       "      <td>0.140489</td>\n",
       "      <td>0.580089</td>\n",
       "      <td>2.691910</td>\n",
       "      <td>39.544472</td>\n",
       "      <td>...</td>\n",
       "      <td>0.101986</td>\n",
       "      <td>5.320409</td>\n",
       "      <td>0.198273</td>\n",
       "      <td>28.992411</td>\n",
       "      <td>209.900863</td>\n",
       "      <td>73.957591</td>\n",
       "      <td>9.921398e+06</td>\n",
       "      <td>35.464698</td>\n",
       "      <td>8.866174</td>\n",
       "      <td>1205.975590</td>\n",
       "    </tr>\n",
       "    <tr>\n",
       "      <th>std</th>\n",
       "      <td>0.063333</td>\n",
       "      <td>0.054221</td>\n",
       "      <td>0.100521</td>\n",
       "      <td>0.053400</td>\n",
       "      <td>0.041828</td>\n",
       "      <td>0.092332</td>\n",
       "      <td>0.105947</td>\n",
       "      <td>0.160649</td>\n",
       "      <td>0.531699</td>\n",
       "      <td>7.017340</td>\n",
       "      <td>...</td>\n",
       "      <td>0.091860</td>\n",
       "      <td>1.210531</td>\n",
       "      <td>0.398732</td>\n",
       "      <td>4.220938</td>\n",
       "      <td>109.370253</td>\n",
       "      <td>13.109499</td>\n",
       "      <td>1.233842e+07</td>\n",
       "      <td>72.975933</td>\n",
       "      <td>18.243983</td>\n",
       "      <td>908.509944</td>\n",
       "    </tr>\n",
       "    <tr>\n",
       "      <th>min</th>\n",
       "      <td>0.000000</td>\n",
       "      <td>0.000000</td>\n",
       "      <td>0.000000</td>\n",
       "      <td>0.000000</td>\n",
       "      <td>0.000000</td>\n",
       "      <td>0.000000</td>\n",
       "      <td>0.000000</td>\n",
       "      <td>0.000000</td>\n",
       "      <td>1.030000</td>\n",
       "      <td>11.300000</td>\n",
       "      <td>...</td>\n",
       "      <td>0.000000</td>\n",
       "      <td>1.300000</td>\n",
       "      <td>0.000000</td>\n",
       "      <td>18.309167</td>\n",
       "      <td>95.470254</td>\n",
       "      <td>21.212121</td>\n",
       "      <td>2.178341e+03</td>\n",
       "      <td>8.000000</td>\n",
       "      <td>2.000000</td>\n",
       "      <td>1.000000</td>\n",
       "    </tr>\n",
       "    <tr>\n",
       "      <th>25%</th>\n",
       "      <td>0.019415</td>\n",
       "      <td>0.037299</td>\n",
       "      <td>0.218787</td>\n",
       "      <td>0.133193</td>\n",
       "      <td>0.058894</td>\n",
       "      <td>0.114487</td>\n",
       "      <td>0.063992</td>\n",
       "      <td>0.462997</td>\n",
       "      <td>2.350000</td>\n",
       "      <td>34.700000</td>\n",
       "      <td>...</td>\n",
       "      <td>0.033550</td>\n",
       "      <td>4.200000</td>\n",
       "      <td>0.000000</td>\n",
       "      <td>25.463787</td>\n",
       "      <td>163.361579</td>\n",
       "      <td>66.166192</td>\n",
       "      <td>3.022043e+06</td>\n",
       "      <td>20.000000</td>\n",
       "      <td>5.000000</td>\n",
       "      <td>575.000000</td>\n",
       "    </tr>\n",
       "    <tr>\n",
       "      <th>50%</th>\n",
       "      <td>0.038274</td>\n",
       "      <td>0.067073</td>\n",
       "      <td>0.286477</td>\n",
       "      <td>0.167410</td>\n",
       "      <td>0.086880</td>\n",
       "      <td>0.169615</td>\n",
       "      <td>0.111104</td>\n",
       "      <td>0.572390</td>\n",
       "      <td>2.610000</td>\n",
       "      <td>40.300000</td>\n",
       "      <td>...</td>\n",
       "      <td>0.085869</td>\n",
       "      <td>5.500000</td>\n",
       "      <td>0.000000</td>\n",
       "      <td>30.932676</td>\n",
       "      <td>188.915562</td>\n",
       "      <td>75.756407</td>\n",
       "      <td>5.319199e+06</td>\n",
       "      <td>25.000000</td>\n",
       "      <td>6.250000</td>\n",
       "      <td>1176.500000</td>\n",
       "    </tr>\n",
       "    <tr>\n",
       "      <th>75%</th>\n",
       "      <td>0.082944</td>\n",
       "      <td>0.105995</td>\n",
       "      <td>0.350874</td>\n",
       "      <td>0.198676</td>\n",
       "      <td>0.116209</td>\n",
       "      <td>0.238077</td>\n",
       "      <td>0.187383</td>\n",
       "      <td>0.688009</td>\n",
       "      <td>2.980000</td>\n",
       "      <td>44.400000</td>\n",
       "      <td>...</td>\n",
       "      <td>0.144573</td>\n",
       "      <td>6.200000</td>\n",
       "      <td>0.000000</td>\n",
       "      <td>30.932676</td>\n",
       "      <td>195.928370</td>\n",
       "      <td>83.435121</td>\n",
       "      <td>1.294382e+07</td>\n",
       "      <td>31.000000</td>\n",
       "      <td>7.750000</td>\n",
       "      <td>1717.750000</td>\n",
       "    </tr>\n",
       "    <tr>\n",
       "      <th>max</th>\n",
       "      <td>0.445956</td>\n",
       "      <td>0.400000</td>\n",
       "      <td>0.793103</td>\n",
       "      <td>1.000000</td>\n",
       "      <td>1.000000</td>\n",
       "      <td>1.000000</td>\n",
       "      <td>1.000000</td>\n",
       "      <td>1.000000</td>\n",
       "      <td>6.270000</td>\n",
       "      <td>82.000000</td>\n",
       "      <td>...</td>\n",
       "      <td>1.000000</td>\n",
       "      <td>8.500000</td>\n",
       "      <td>1.000000</td>\n",
       "      <td>35.571604</td>\n",
       "      <td>477.108098</td>\n",
       "      <td>100.000000</td>\n",
       "      <td>1.720241e+08</td>\n",
       "      <td>3980.000000</td>\n",
       "      <td>995.000000</td>\n",
       "      <td>12305.000000</td>\n",
       "    </tr>\n",
       "  </tbody>\n",
       "</table>\n",
       "<p>8 rows × 47 columns</p>\n",
       "</div>"
      ],
      "text/plain": [
       "       Percent_Less_9th  Percent_12th_no_dip  Percent_HighSchool  \\\n",
       "count       6022.000000          6022.000000         6022.000000   \n",
       "mean           0.061967             0.077948            0.279996   \n",
       "std            0.063333             0.054221            0.100521   \n",
       "min            0.000000             0.000000            0.000000   \n",
       "25%            0.019415             0.037299            0.218787   \n",
       "50%            0.038274             0.067073            0.286477   \n",
       "75%            0.082944             0.105995            0.350874   \n",
       "max            0.445956             0.400000            0.793103   \n",
       "\n",
       "       Percent_Some_college  Percent_Associate  Percent_Bachelors  \\\n",
       "count           6022.000000        6022.000000        6022.000000   \n",
       "mean               0.166751           0.089023           0.183827   \n",
       "std                0.053400           0.041828           0.092332   \n",
       "min                0.000000           0.000000           0.000000   \n",
       "25%                0.133193           0.058894           0.114487   \n",
       "50%                0.167410           0.086880           0.169615   \n",
       "75%                0.198676           0.116209           0.238077   \n",
       "max                1.000000           1.000000           1.000000   \n",
       "\n",
       "       Percent_Graduate  Percent_more_than_hs  Avg_hh_size   Median_age  \\\n",
       "count       6022.000000           6022.000000  6016.000000  6015.000000   \n",
       "mean           0.140489              0.580089     2.691910    39.544472   \n",
       "std            0.105947              0.160649     0.531699     7.017340   \n",
       "min            0.000000              0.000000     1.030000    11.300000   \n",
       "25%            0.063992              0.462997     2.350000    34.700000   \n",
       "50%            0.111104              0.572390     2.610000    40.300000   \n",
       "75%            0.187383              0.688009     2.980000    44.400000   \n",
       "max            1.000000              1.000000     6.270000    82.000000   \n",
       "\n",
       "           ...       Percent_9_more_rooms  median_rooms  Project_yes  \\\n",
       "count      ...                6022.000000   5968.000000  6022.000000   \n",
       "mean       ...                   0.101986      5.320409     0.198273   \n",
       "std        ...                   0.091860      1.210531     0.398732   \n",
       "min        ...                   0.000000      1.300000     0.000000   \n",
       "25%        ...                   0.033550      4.200000     0.000000   \n",
       "50%        ...                   0.085869      5.500000     0.000000   \n",
       "75%        ...                   0.144573      6.200000     0.000000   \n",
       "max        ...                   1.000000      8.500000     1.000000   \n",
       "\n",
       "        Mean_price    Var_price  percent_qualified  yearly_sunlight_kwh_total  \\\n",
       "count  6022.000000  6022.000000        4334.000000               4.334000e+03   \n",
       "mean     28.992411   209.900863          73.957591               9.921398e+06   \n",
       "std       4.220938   109.370253          13.109499               1.233842e+07   \n",
       "min      18.309167    95.470254          21.212121               2.178341e+03   \n",
       "25%      25.463787   163.361579          66.166192               3.022043e+06   \n",
       "50%      30.932676   188.915562          75.756407               5.319199e+06   \n",
       "75%      30.932676   195.928370          83.435121               1.294382e+07   \n",
       "max      35.571604   477.108098         100.000000               1.720241e+08   \n",
       "\n",
       "       number_of_panels_median    kw_median        weight  \n",
       "count              4334.000000  4334.000000   6022.000000  \n",
       "mean                 35.464698     8.866174   1205.975590  \n",
       "std                  72.975933    18.243983    908.509944  \n",
       "min                   8.000000     2.000000      1.000000  \n",
       "25%                  20.000000     5.000000    575.000000  \n",
       "50%                  25.000000     6.250000   1176.500000  \n",
       "75%                  31.000000     7.750000   1717.750000  \n",
       "max                3980.000000   995.000000  12305.000000  \n",
       "\n",
       "[8 rows x 47 columns]"
      ]
     },
     "execution_count": 11,
     "metadata": {},
     "output_type": "execute_result"
    }
   ],
   "source": [
    "acs_variables.append('Project_yes')\n",
    "acs_variables.append('Mean_price')\n",
    "acs_variables.append('Var_price')\n",
    "acs_variables.append('percent_qualified')\n",
    "acs_variables.append('yearly_sunlight_kwh_total')\n",
    "acs_variables.append('number_of_panels_median')\n",
    "acs_variables.append('kw_median')\n",
    "acs_variables.append('weight')\n",
    "X=data[acs_variables]\n",
    "X.describe()\n"
   ]
  },
  {
   "cell_type": "code",
   "execution_count": 129,
   "metadata": {},
   "outputs": [
    {
     "ename": "AttributeError",
     "evalue": "'numpy.ndarray' object has no attribute 'weights'",
     "output_type": "error",
     "traceback": [
      "\u001b[0;31m---------------------------------------------------------------------------\u001b[0m",
      "\u001b[0;31mAttributeError\u001b[0m                            Traceback (most recent call last)",
      "\u001b[0;32m<ipython-input-129-e6d2666f5943>\u001b[0m in \u001b[0;36m<module>\u001b[0;34m()\u001b[0m\n\u001b[0;32m----> 1\u001b[0;31m \u001b[0mX\u001b[0m\u001b[0;34m.\u001b[0m\u001b[0mweights\u001b[0m\u001b[0;34m\u001b[0m\u001b[0m\n\u001b[0m",
      "\u001b[0;31mAttributeError\u001b[0m: 'numpy.ndarray' object has no attribute 'weights'"
     ]
    }
   ],
   "source": []
  },
  {
   "cell_type": "code",
   "execution_count": null,
   "metadata": {},
   "outputs": [],
   "source": [
    "X.Project_yes.unique()"
   ]
  },
  {
   "cell_type": "code",
   "execution_count": null,
   "metadata": {},
   "outputs": [],
   "source": [
    "np.mean(X.Project_yes)"
   ]
  },
  {
   "cell_type": "code",
   "execution_count": null,
   "metadata": {
    "collapsed": true
   },
   "outputs": [],
   "source": []
  },
  {
   "cell_type": "code",
   "execution_count": 12,
   "metadata": {},
   "outputs": [],
   "source": [
    "y=X['Project_yes']\n",
    "weights=X['weight']\n",
    "X=X.drop(['Project_yes', 'weight'], axis=1)\n",
    "imp = Imputer(missing_values='NaN', strategy='mean', axis=0)\n",
    "X=imp.fit_transform(X)"
   ]
  },
  {
   "cell_type": "code",
   "execution_count": 155,
   "metadata": {},
   "outputs": [
    {
     "ename": "AttributeError",
     "evalue": "'DataFrame' object has no attribute 'unique'",
     "output_type": "error",
     "traceback": [
      "\u001b[0;31m---------------------------------------------------------------------------\u001b[0m",
      "\u001b[0;31mAttributeError\u001b[0m                            Traceback (most recent call last)",
      "\u001b[0;32m<ipython-input-155-a40075647de0>\u001b[0m in \u001b[0;36m<module>\u001b[0;34m()\u001b[0m\n\u001b[0;32m----> 1\u001b[0;31m \u001b[0my\u001b[0m\u001b[0;34m.\u001b[0m\u001b[0munique\u001b[0m\u001b[0;34m(\u001b[0m\u001b[0;34m)\u001b[0m\u001b[0;34m\u001b[0m\u001b[0m\n\u001b[0m",
      "\u001b[0;32m/Users/mariamendieta/anaconda2/lib/python2.7/site-packages/pandas/core/generic.pyc\u001b[0m in \u001b[0;36m__getattr__\u001b[0;34m(self, name)\u001b[0m\n\u001b[1;32m   2968\u001b[0m             \u001b[0;32mif\u001b[0m \u001b[0mname\u001b[0m \u001b[0;32min\u001b[0m \u001b[0mself\u001b[0m\u001b[0;34m.\u001b[0m\u001b[0m_info_axis\u001b[0m\u001b[0;34m:\u001b[0m\u001b[0;34m\u001b[0m\u001b[0m\n\u001b[1;32m   2969\u001b[0m                 \u001b[0;32mreturn\u001b[0m \u001b[0mself\u001b[0m\u001b[0;34m[\u001b[0m\u001b[0mname\u001b[0m\u001b[0;34m]\u001b[0m\u001b[0;34m\u001b[0m\u001b[0m\n\u001b[0;32m-> 2970\u001b[0;31m             \u001b[0;32mreturn\u001b[0m \u001b[0mobject\u001b[0m\u001b[0;34m.\u001b[0m\u001b[0m__getattribute__\u001b[0m\u001b[0;34m(\u001b[0m\u001b[0mself\u001b[0m\u001b[0;34m,\u001b[0m \u001b[0mname\u001b[0m\u001b[0;34m)\u001b[0m\u001b[0;34m\u001b[0m\u001b[0m\n\u001b[0m\u001b[1;32m   2971\u001b[0m \u001b[0;34m\u001b[0m\u001b[0m\n\u001b[1;32m   2972\u001b[0m     \u001b[0;32mdef\u001b[0m \u001b[0m__setattr__\u001b[0m\u001b[0;34m(\u001b[0m\u001b[0mself\u001b[0m\u001b[0;34m,\u001b[0m \u001b[0mname\u001b[0m\u001b[0;34m,\u001b[0m \u001b[0mvalue\u001b[0m\u001b[0;34m)\u001b[0m\u001b[0;34m:\u001b[0m\u001b[0;34m\u001b[0m\u001b[0m\n",
      "\u001b[0;31mAttributeError\u001b[0m: 'DataFrame' object has no attribute 'unique'"
     ]
    }
   ],
   "source": [
    "y.unique()"
   ]
  },
  {
   "cell_type": "code",
   "execution_count": 47,
   "metadata": {
    "collapsed": true
   },
   "outputs": [],
   "source": [
    "X_train, X_test, y_train, y_test, weights_train, weights_test = train_test_split(X, y, weights, test_size=0.3, random_state=42)"
   ]
  },
  {
   "cell_type": "code",
   "execution_count": null,
   "metadata": {
    "collapsed": true
   },
   "outputs": [],
   "source": [
    "model = GradientBoostingClassifier()\n",
    "search = GridSearchCV(model, param_grid = {'n_estimators' : [500, 1000], 'subsample' :[0.5,0.8],\n",
    "                                           'max_depth': [2,3,4,5], 'learning_rate' : [0.01, 0.001]}, \n",
    "             scoring='recall', fit_params={'sample_weight': weights_train}, n_jobs=1, iid=True, refit=True, \n",
    "             cv=None, verbose=5, pre_dispatch='2*n_jobs', error_score='raise', return_train_score=True)"
   ]
  },
  {
   "cell_type": "code",
   "execution_count": null,
   "metadata": {
    "collapsed": true,
    "scrolled": true
   },
   "outputs": [],
   "source": [
    "fitted = search.fit(X_train,y_train)"
   ]
  },
  {
   "cell_type": "code",
   "execution_count": null,
   "metadata": {},
   "outputs": [],
   "source": [
    "y_train"
   ]
  },
  {
   "cell_type": "code",
   "execution_count": null,
   "metadata": {
    "collapsed": true
   },
   "outputs": [],
   "source": [
    "fitted.best_score_"
   ]
  },
  {
   "cell_type": "code",
   "execution_count": null,
   "metadata": {
    "collapsed": true
   },
   "outputs": [],
   "source": [
    "fitted.best_params_"
   ]
  },
  {
   "cell_type": "code",
   "execution_count": 60,
   "metadata": {
    "collapsed": true
   },
   "outputs": [],
   "source": [
    "model = GradientBoostingClassifier(learning_rate=0.01, max_depth=5, n_estimators=1000, subsample=0.8)"
   ]
  },
  {
   "cell_type": "code",
   "execution_count": 61,
   "metadata": {},
   "outputs": [],
   "source": [
    "fitted = model.fit(X_train,y_train, sample_weight= weights_train)"
   ]
  },
  {
   "cell_type": "code",
   "execution_count": 62,
   "metadata": {},
   "outputs": [
    {
     "data": {
      "text/plain": [
       "0.97800922205597063"
      ]
     },
     "execution_count": 62,
     "metadata": {},
     "output_type": "execute_result"
    }
   ],
   "source": [
    "fitted.score(X_test,y_test, sample_weight= weights_test)"
   ]
  },
  {
   "cell_type": "code",
   "execution_count": 63,
   "metadata": {},
   "outputs": [
    {
     "data": {
      "text/plain": [
       "array([ 0.01125359,  0.01193536,  0.00691949,  0.01450805,  0.03683914,\n",
       "        0.00644373,  0.00617734,  0.00447493,  0.01172338,  0.00739624,\n",
       "        0.00726872,  0.01575744,  0.0155557 ,  0.02488798,  0.01231154,\n",
       "        0.00540407,  0.00738767,  0.0051124 ,  0.00762908,  0.01902951,\n",
       "        0.04318098,  0.01435595,  0.01466155,  0.23945885,  0.04912324,\n",
       "        0.00903821,  0.00317703,  0.00568943,  0.00486486,  0.00583531,\n",
       "        0.01017777,  0.02238551,  0.01863945,  0.0120701 ,  0.01972542,\n",
       "        0.11849364,  0.04150483,  0.02431001,  0.04362377,  0.01083976,\n",
       "        0.00120708,  0.01216293,  0.02852198,  0.00514694,  0.0037901 ])"
      ]
     },
     "execution_count": 63,
     "metadata": {},
     "output_type": "execute_result"
    }
   ],
   "source": [
    "fitted.feature_importances_"
   ]
  },
  {
   "cell_type": "code",
   "execution_count": 36,
   "metadata": {},
   "outputs": [
    {
     "data": {
      "text/plain": [
       "0.98938074855876335"
      ]
     },
     "execution_count": 36,
     "metadata": {},
     "output_type": "execute_result"
    }
   ],
   "source": [
    "sum(np.unique(s)[:-3])"
   ]
  },
  {
   "cell_type": "code",
   "execution_count": 55,
   "metadata": {},
   "outputs": [],
   "source": [
    "n_features = len(fitted.feature_importances_)"
   ]
  },
  {
   "cell_type": "code",
   "execution_count": 86,
   "metadata": {},
   "outputs": [
    {
     "ename": "SyntaxError",
     "evalue": "invalid syntax (<ipython-input-86-dd508eae933c>, line 3)",
     "output_type": "error",
     "traceback": [
      "\u001b[0;36m  File \u001b[0;32m\"<ipython-input-86-dd508eae933c>\"\u001b[0;36m, line \u001b[0;32m3\u001b[0m\n\u001b[0;31m    for tree[0]\u001b[0m\n\u001b[0m                ^\u001b[0m\n\u001b[0;31mSyntaxError\u001b[0m\u001b[0;31m:\u001b[0m invalid syntax\n"
     ]
    }
   ],
   "source": [
    "foo = []\n",
    "for i, tree in enumerate(fitted.estimators_):\n",
    "    for tree[0] \n",
    "    if len(tree[0].feature_importances_) != n_features:\n",
    "        foo.append(i)\n",
    "        "
   ]
  },
  {
   "cell_type": "code",
   "execution_count": 85,
   "metadata": {},
   "outputs": [
    {
     "data": {
      "text/plain": [
       "[]"
      ]
     },
     "execution_count": 85,
     "metadata": {},
     "output_type": "execute_result"
    }
   ],
   "source": [
    "foo"
   ]
  },
  {
   "cell_type": "code",
   "execution_count": 87,
   "metadata": {
    "collapsed": true
   },
   "outputs": [],
   "source": [
    "feature_importaces = np.array([\n",
    "    tree[0].feature_importances_\n",
    "    for tree in fitted.estimators_\n",
    "])"
   ]
  },
  {
   "cell_type": "code",
   "execution_count": 88,
   "metadata": {},
   "outputs": [
    {
     "data": {
      "text/plain": [
       "(1000, 45)"
      ]
     },
     "execution_count": 88,
     "metadata": {},
     "output_type": "execute_result"
    }
   ],
   "source": [
    "feature_importaces"
   ]
  },
  {
   "cell_type": "code",
   "execution_count": 96,
   "metadata": {},
   "outputs": [
    {
     "data": {
      "text/plain": [
       "(array([105, 634, 924]),)"
      ]
     },
     "execution_count": 96,
     "metadata": {},
     "output_type": "execute_result"
    }
   ],
   "source": [
    "np.where(np.isnan(feature_importaces.mean(axis=1)))"
   ]
  },
  {
   "cell_type": "code",
   "execution_count": 92,
   "metadata": {
    "collapsed": true
   },
   "outputs": [],
   "source": [
    "from collections import Counter"
   ]
  },
  {
   "cell_type": "code",
   "execution_count": 109,
   "metadata": {},
   "outputs": [],
   "source": [
    "badtree = fitted.estimators_[105][0].tree_"
   ]
  },
  {
   "cell_type": "code",
   "execution_count": 110,
   "metadata": {},
   "outputs": [
    {
     "data": {
      "text/plain": [
       "array([  5.84337950e-01,   1.21336006e-01,   3.37783366e-01,\n",
       "         2.70738676e-02,   3.98966908e-01,  -2.00000000e+00,\n",
       "        -2.00000000e+00,   1.72126830e-01,  -2.00000000e+00,\n",
       "        -2.00000000e+00,   1.76958233e-01,  -2.00000000e+00,\n",
       "         3.15964520e-01,  -2.00000000e+00,  -2.00000000e+00,\n",
       "         6.26566412e-04,  -2.00000000e+00,  -2.00000000e+00,\n",
       "        -2.00000000e+00])"
      ]
     },
     "execution_count": 110,
     "metadata": {},
     "output_type": "execute_result"
    }
   ],
   "source": [
    "badtree.threshold"
   ]
  },
  {
   "cell_type": "code",
   "execution_count": 111,
   "metadata": {},
   "outputs": [
    {
     "data": {
      "text/plain": [
       "array([ 1,  2,  3,  4,  5, -1, -1,  8, -1, -1, 11, -1, 13, -1, -1, 16, -1,\n",
       "       -1, -1])"
      ]
     },
     "execution_count": 111,
     "metadata": {},
     "output_type": "execute_result"
    }
   ],
   "source": [
    "badtree.children_left"
   ]
  },
  {
   "cell_type": "code",
   "execution_count": 112,
   "metadata": {},
   "outputs": [
    {
     "data": {
      "text/plain": [
       "array([18, 15, 10,  7,  6, -1, -1,  9, -1, -1, 12, -1, 14, -1, -1, 17, -1,\n",
       "       -1, -1])"
      ]
     },
     "execution_count": 112,
     "metadata": {},
     "output_type": "execute_result"
    }
   ],
   "source": [
    "badtree.children_right"
   ]
  },
  {
   "cell_type": "code",
   "execution_count": 120,
   "metadata": {},
   "outputs": [
    {
     "data": {
      "text/plain": [
       "array([35, 24, 36, 25, 35, -2, -2, 17, -2, -2,  2, -2,  3, -2, -2, 18, -2,\n",
       "       -2, -2])"
      ]
     },
     "execution_count": 120,
     "metadata": {},
     "output_type": "execute_result"
    }
   ],
   "source": [
    "badtree.feature"
   ]
  },
  {
   "cell_type": "code",
   "execution_count": 118,
   "metadata": {},
   "outputs": [
    {
     "data": {
      "text/plain": [
       "array([  9.56628104e-03,   9.58454798e-03,   9.57655162e-03,\n",
       "         9.52004760e-03,   7.86530018e-03,   7.85801884e-03,\n",
       "         1.04416475e-13,   1.89902571e-02,   1.89714492e-02,\n",
       "                    nan,   9.67752724e-02,   4.91632373e-02,\n",
       "         6.26543914e-06,   1.54507961e-07,  -4.38017678e-17,\n",
       "         1.86003734e-05,  -1.11022302e-16,  -1.88737914e-15,\n",
       "        -5.49769888e+00])"
      ]
     },
     "execution_count": 118,
     "metadata": {},
     "output_type": "execute_result"
    }
   ],
   "source": [
    "badtree.impurity"
   ]
  },
  {
   "cell_type": "code",
   "execution_count": 128,
   "metadata": {},
   "outputs": [
    {
     "data": {
      "text/plain": [
       "array([  4.06031200e+06,   4.06027300e+06,   4.06022000e+06,\n",
       "         4.05796700e+06,   3.45711900e+06,   3.45696600e+06,\n",
       "         1.53000000e+02,   6.00848000e+05,   6.00848000e+05,\n",
       "         0.00000000e+00,   2.25300000e+03,   4.05000000e+02,\n",
       "         1.84800000e+03,   1.84100000e+03,   7.00000000e+00,\n",
       "         5.30000000e+01,   4.90000000e+01,   4.00000000e+00,\n",
       "         3.90000000e+01])"
      ]
     },
     "execution_count": 128,
     "metadata": {},
     "output_type": "execute_result"
    }
   ],
   "source": [
    "badtree.weighted_n_node_samples"
   ]
  },
  {
   "cell_type": "code",
   "execution_count": null,
   "metadata": {
    "collapsed": true
   },
   "outputs": [],
   "source": []
  },
  {
   "cell_type": "code",
   "execution_count": 78,
   "metadata": {},
   "outputs": [
    {
     "data": {
      "text/plain": [
       "array([  0, 652, 653, 654, 655, 656, 657, 658, 659, 660, 661, 662, 663,\n",
       "       651, 664, 666, 667, 668, 669, 670, 671, 672, 674, 677, 678, 679,\n",
       "       680, 665, 681, 649, 647, 617, 618, 619, 620, 621, 623, 624, 625,\n",
       "       626, 627, 628, 629, 648, 630, 632, 633, 635, 636, 638, 639, 640,\n",
       "       642, 643, 644, 645, 646, 631, 682, 683, 684, 718, 719, 720, 721,\n",
       "       723, 724, 725, 727, 728, 729, 730, 731, 717, 732, 734, 735, 736,\n",
       "       737, 738, 739, 740, 741, 742, 743, 744, 745, 733, 716, 715, 714,\n",
       "       685, 686, 687, 688, 689, 690, 691, 692, 693, 694, 695, 696, 698,\n",
       "       699, 700, 701, 703, 704, 705, 706, 707, 708, 709, 710, 711, 712,\n",
       "       713, 615, 746, 614, 612, 520, 521, 522, 523, 524, 525, 526, 527,\n",
       "       528, 529, 530, 531, 518, 532, 534, 535, 537, 538, 539, 540, 541,\n",
       "       542, 543, 544, 545, 546, 533, 547, 517, 515, 486, 487, 488, 489,\n",
       "       490, 491, 492, 493, 494, 495, 496, 498, 516, 998, 501, 502, 503,\n",
       "       504, 505, 507, 508, 509, 510, 511, 512, 514, 500, 548, 549, 550,\n",
       "       583, 584, 585, 586, 587, 588, 589, 590, 591, 592, 593, 594, 582,\n",
       "       595, 597, 598, 599, 601, 602, 604, 606, 607, 608, 609, 610, 611,\n",
       "       596, 581, 580, 579, 551, 552, 553, 554, 555, 556, 557, 558, 559,\n",
       "       560, 561, 562, 563, 564, 565, 566, 567, 568, 569, 570, 572, 573,\n",
       "       574, 575, 576, 577, 578, 613, 485, 747, 749, 907, 908, 909, 910,\n",
       "       911, 912, 914, 916, 917, 918, 919, 920, 906, 921, 923, 924, 925,\n",
       "       926, 927, 928, 929, 930, 931, 934, 935, 936, 922, 937, 905, 903,\n",
       "       876, 877, 878, 879, 880, 881, 882, 883, 884, 885, 886, 887, 904,\n",
       "       888, 890, 891, 892, 893, 894, 895, 897, 898, 899, 900, 901, 902,\n",
       "       889, 938, 939, 940, 972, 973, 974, 975, 976, 977, 978, 979, 980,\n",
       "       981, 982, 983, 971, 984, 986, 987, 988, 989, 990, 991, 992, 993,\n",
       "       994, 995, 996, 997, 985, 970, 969, 968, 941, 942, 943, 944, 945,\n",
       "       946, 947, 948, 949, 950, 951, 952, 953, 954, 955, 956, 957, 958,\n",
       "       959, 960, 961, 962, 963, 964, 965, 966, 967, 875, 748, 874, 870,\n",
       "       781, 782, 783, 784, 785, 786, 787, 788, 789, 790, 791, 792, 780,\n",
       "       793, 795, 796, 797, 798, 799, 800, 801, 802, 803, 804, 805, 806,\n",
       "       794, 807, 779, 777, 750, 751, 752, 753, 754, 755, 756, 757, 758,\n",
       "       759, 760, 761, 778, 762, 765, 766, 767, 768, 769, 770, 771, 772,\n",
       "       773, 774, 775, 776, 763, 808, 809, 810, 843, 844, 845, 846, 847,\n",
       "       848, 849, 850, 851, 852, 853, 854, 842, 855, 858, 859, 860, 861,\n",
       "       862, 863, 864, 865, 866, 867, 868, 869, 857, 841, 840, 839, 811,\n",
       "       812, 813, 814, 815, 816, 817, 818, 819, 820, 821, 822, 823, 824,\n",
       "       825, 826, 827, 828, 829, 831, 832, 833, 834, 835, 836, 837, 838,\n",
       "       872, 484, 499, 482, 167, 169, 171, 172, 173, 174, 175, 176, 177,\n",
       "       178, 179, 180, 166, 182, 184, 185, 186, 187, 188, 189, 190, 191,\n",
       "       192, 193, 194, 195, 183, 164, 163, 162, 135, 136, 137, 138, 139,\n",
       "       140, 141, 142, 143, 144, 145, 146, 147, 148, 149, 150, 151, 152,\n",
       "       153, 154, 155, 156, 157, 158, 159, 160, 161, 196, 134, 197, 199,\n",
       "       232, 233, 234, 235, 236, 237, 238, 239, 240, 241, 242, 243, 231,\n",
       "       244, 246, 483, 248, 249, 250, 251, 252, 253, 254, 255, 256, 257,\n",
       "       245, 230, 229, 228, 200, 201, 203, 204, 205, 206, 207, 208, 209,\n",
       "       210, 211, 212, 213, 214, 215, 216, 217, 218, 219, 220, 221, 222,\n",
       "       223, 224, 225, 226, 227, 198, 133, 132, 131,  34,  35,  36,  37,\n",
       "        39,  40,  41,  42,  43,  45,  46,  48,  33,  49,  52,  53,  54,\n",
       "        55,  57,  58,  59,  60,  61,  62,  63,  64,  51,  31,  29,  28,\n",
       "         1,   2,   3,   4,   5,   6,   7,   8,   9,  10,  11,  12,  13,\n",
       "        14,  15,  16,  17,  18,  19,  20,  21,  22,  23,  24,  25,  26,\n",
       "        27,  65,  66,  68,  69, 104, 105, 106, 107, 108, 109, 110, 111,\n",
       "       112, 113, 114, 115, 116, 117, 118, 119, 120, 121, 122, 123, 124,\n",
       "       125, 126, 127, 128, 129, 130, 103, 258, 102, 100,  70,  71,  72,\n",
       "        74,  75,  76,  77,  78,  79,  80,  81,  83,  84,  85,  86,  87,\n",
       "        88,  89,  91,  92,  93,  94,  95,  96,  97,  98,  99, 101, 259,\n",
       "       247, 261, 395, 396, 397, 398, 399, 400, 401, 402, 403, 404, 405,\n",
       "       406, 407, 408, 409, 410, 411, 412, 413, 414, 415, 416, 417, 418,\n",
       "       419, 393, 391, 390, 389, 364, 365, 366, 367, 368, 369, 370, 371,\n",
       "       372, 260, 373, 374, 420, 375, 377, 378, 379, 380, 381, 382, 383,\n",
       "       384, 385, 386, 387, 388, 376, 361, 421, 423, 456, 457, 458, 459,\n",
       "       460, 461, 462, 463, 464, 466, 467, 468, 469, 470, 471, 472, 473,\n",
       "       474, 475, 476, 477, 478, 479, 480, 481, 455, 454, 453, 452, 424,\n",
       "       425, 426, 427, 428, 429, 430, 431, 433, 434, 435, 436, 422, 437,\n",
       "       439, 440, 441, 442, 443, 444, 445, 446, 447, 448, 449, 450, 438,\n",
       "       360, 999, 327, 359, 310, 311, 312, 313, 314, 315, 280, 316, 279,\n",
       "       278, 317, 318, 319, 277, 276, 322, 323, 325, 326, 290, 309, 281,\n",
       "       308, 282, 292, 293, 294, 289, 295, 296, 297, 298, 299, 288, 328,\n",
       "       300, 302, 303, 304, 305, 287, 286, 285, 307, 284, 283, 301, 329,\n",
       "       291, 275, 330, 267, 344, 266, 345, 346, 347, 348, 349, 350, 343,\n",
       "       265, 264, 352, 353, 263, 354, 355, 356, 262, 357, 358, 351, 269,\n",
       "       268, 338, 334, 273, 342, 335, 272, 331, 336, 337, 332, 274, 339,\n",
       "       271, 340, 341, 270, 333, 432, 181, 202, 362,  90,  38,  47, 170,\n",
       "       637, 650, 497, 622, 465, 616, 600, 519,  30,  44,  50, 722, 871,\n",
       "       697, 873, 506,  82, 306, 392, 603, 702, 451, 513, 605, 536, 915,\n",
       "       165, 896, 933, 571, 913, 764, 676, 394, 673, 168, 932,  56, 726,\n",
       "       675,  67, 321, 363, 856, 641,  32, 830, 324,  73, 320, 634])"
      ]
     },
     "execution_count": 78,
     "metadata": {},
     "output_type": "execute_result"
    }
   ],
   "source": [
    "np.argsort(feature_importaces[:,6])"
   ]
  },
  {
   "cell_type": "code",
   "execution_count": 79,
   "metadata": {},
   "outputs": [
    {
     "data": {
      "text/plain": [
       "nan"
      ]
     },
     "execution_count": 79,
     "metadata": {},
     "output_type": "execute_result"
    }
   ],
   "source": [
    "feature_importaces[:,6][634]"
   ]
  },
  {
   "cell_type": "code",
   "execution_count": 84,
   "metadata": {},
   "outputs": [
    {
     "data": {
      "text/plain": [
       "array([ True,  True,  True,  True,  True, False, False,  True,  True,\n",
       "        True,  True,  True,  True,  True,  True,  True,  True,  True,\n",
       "        True,  True,  True,  True,  True, False,  True,  True,  True,\n",
       "        True,  True,  True,  True,  True,  True,  True,  True, False,\n",
       "        True,  True,  True,  True,  True,  True, False,  True,  True], dtype=bool)"
      ]
     },
     "execution_count": 84,
     "metadata": {},
     "output_type": "execute_result"
    }
   ],
   "source": [
    "fitted.estimators_[634][0].feature_importances_ == 0"
   ]
  },
  {
   "cell_type": "code",
   "execution_count": 48,
   "metadata": {},
   "outputs": [
    {
     "data": {
      "text/plain": [
       "1.0000000000000002"
      ]
     },
     "execution_count": 48,
     "metadata": {},
     "output_type": "execute_result"
    }
   ],
   "source": [
    "np.sum(fitted.estimators_[3][0].feature_importances_)"
   ]
  },
  {
   "cell_type": "code",
   "execution_count": 57,
   "metadata": {},
   "outputs": [
    {
     "data": {
      "text/plain": [
       "0"
      ]
     },
     "execution_count": 57,
     "metadata": {},
     "output_type": "execute_result"
    }
   ],
   "source": [
    "len(foo)"
   ]
  },
  {
   "cell_type": "code",
   "execution_count": 41,
   "metadata": {},
   "outputs": [
    {
     "data": {
      "text/plain": [
       "DecisionTreeRegressor(criterion='friedman_mse', max_depth=5,\n",
       "           max_features=None, max_leaf_nodes=None,\n",
       "           min_impurity_split=1e-07, min_samples_leaf=1,\n",
       "           min_samples_split=2, min_weight_fraction_leaf=0.0,\n",
       "           presort='auto',\n",
       "           random_state=<mtrand.RandomState object at 0x10e8df0f0>,\n",
       "           splitter='best')"
      ]
     },
     "execution_count": 41,
     "metadata": {},
     "output_type": "execute_result"
    }
   ],
   "source": [
    "fitted.estimators_[0][0]"
   ]
  },
  {
   "cell_type": "code",
   "execution_count": null,
   "metadata": {
    "collapsed": true
   },
   "outputs": [],
   "source": []
  },
  {
   "cell_type": "code",
   "execution_count": 38,
   "metadata": {},
   "outputs": [
    {
     "data": {
      "text/plain": [
       "1000"
      ]
     },
     "execution_count": 38,
     "metadata": {},
     "output_type": "execute_result"
    }
   ],
   "source": [
    "len(fitted.estimators_)"
   ]
  },
  {
   "cell_type": "code",
   "execution_count": null,
   "metadata": {
    "collapsed": true
   },
   "outputs": [],
   "source": []
  },
  {
   "cell_type": "code",
   "execution_count": null,
   "metadata": {
    "collapsed": true
   },
   "outputs": [],
   "source": [
    "from sklearn.metrics import recall_score\n",
    "\n",
    "recall_score(y, fitted.predict(X))"
   ]
  },
  {
   "cell_type": "code",
   "execution_count": null,
   "metadata": {
    "collapsed": true
   },
   "outputs": [],
   "source": [
    "fitted.feature_importances_\n",
    "feature_importances = 100*fitted.feature_importances_ / np.sum(fitted.feature_importances_)\n",
    "feature_importances, feature_names, feature_idxs = zip(*sorted(zip(feature_importances, list(X.columns), range(len(X.columns)))))\n",
    "\n",
    "width = 0.8\n",
    "\n",
    "idx = np.arange(len(X.columns))\n",
    "\n",
    "fig, ax = plt.subplots(figsize=(10,12))\n",
    "ax.barh(idx, feature_importances, align='center')\n",
    "plt.yticks(idx, feature_names, fontsize=8)\n",
    "\n",
    "ax.set_title(\"Feature Importances in Gradient Booster\")\n",
    "ax.set_xlabel('Relative Importance of Feature', fontsize=10)\n",
    "ax.set_ylabel('Feature Name', fontsize=14)\n",
    "fig.savefig('feat_imp_sep8.png')"
   ]
  },
  {
   "cell_type": "code",
   "execution_count": null,
   "metadata": {
    "collapsed": true
   },
   "outputs": [],
   "source": [
    "list(X.columns)"
   ]
  },
  {
   "cell_type": "code",
   "execution_count": null,
   "metadata": {},
   "outputs": [],
   "source": [
    "X2_variables = ['Percent_Less_9th','Percent_more_than_hs', 'Percent_1_unit','Avg_hh_size',\n",
    "                'Percent_hh_w_children', 'Percent_10+_units', 'Percent_Heating_electricity',\n",
    "                'yearly_sunlight_kwh_total'  , 'Percent_6_rooms', 'percent_qualified',\n",
    "                'Project_yes','weight']"
   ]
  },
  {
   "cell_type": "code",
   "execution_count": null,
   "metadata": {},
   "outputs": [],
   "source": [
    "len(X2_variables)"
   ]
  },
  {
   "cell_type": "code",
   "execution_count": null,
   "metadata": {},
   "outputs": [],
   "source": [
    "X2=data[X2_variables]\n"
   ]
  },
  {
   "cell_type": "code",
   "execution_count": null,
   "metadata": {},
   "outputs": [],
   "source": [
    "X2.head()"
   ]
  },
  {
   "cell_type": "code",
   "execution_count": null,
   "metadata": {},
   "outputs": [],
   "source": [
    "y=X2['Project_yes']\n",
    "weights=X2['weight']\n",
    "X3=X2.drop(['Project_yes', 'weight'], axis=1)\n",
    "imp = Imputer(missing_values='NaN', strategy='mean', axis=0)\n",
    "X4 =imp.fit_transform(X3)"
   ]
  },
  {
   "cell_type": "code",
   "execution_count": null,
   "metadata": {
    "collapsed": true
   },
   "outputs": [],
   "source": [
    "X_train, X_test, y_train, y_test, weights_train, weights_test = train_test_split(X4, y, weights, test_size=0.3, random_state=42)"
   ]
  },
  {
   "cell_type": "code",
   "execution_count": null,
   "metadata": {
    "collapsed": true
   },
   "outputs": [],
   "source": [
    "model = GradientBoostingClassifier(learning_rate=0.01, max_depth=5, n_estimators=1000, subsample=0.5)"
   ]
  },
  {
   "cell_type": "code",
   "execution_count": null,
   "metadata": {},
   "outputs": [],
   "source": [
    "X_train.head()"
   ]
  },
  {
   "cell_type": "code",
   "execution_count": null,
   "metadata": {},
   "outputs": [],
   "source": [
    "fitted = model.fit(X_train,y_train, sample_weight= weights_train)"
   ]
  },
  {
   "cell_type": "code",
   "execution_count": null,
   "metadata": {},
   "outputs": [],
   "source": [
    "fitted.score(X_test,y_test, sample_weight= weights_test)"
   ]
  },
  {
   "cell_type": "code",
   "execution_count": null,
   "metadata": {},
   "outputs": [],
   "source": [
    "len(fitted.feature_importances_)"
   ]
  },
  {
   "cell_type": "code",
   "execution_count": null,
   "metadata": {},
   "outputs": [],
   "source": [
    "from sklearn.metrics import recall_score\n",
    "\n",
    "recall_score(y_test, fitted.predict(X_test))"
   ]
  },
  {
   "cell_type": "code",
   "execution_count": null,
   "metadata": {},
   "outputs": [],
   "source": [
    "fitted.feature_importances_"
   ]
  },
  {
   "cell_type": "code",
   "execution_count": null,
   "metadata": {},
   "outputs": [],
   "source": [
    "fitted.feature_importances_\n",
    "feature_importances = 100*fitted.feature_importances_ / np.sum(fitted.feature_importances_)\n",
    "feature_importances, feature_names, feature_idxs = zip(*sorted(zip(feature_importances, list(X3.columns), range(len(X3.columns)))))\n",
    "\n",
    "width = 0.8\n",
    "\n",
    "idx = np.arange(len(X3.columns))\n",
    "\n",
    "fig, ax = plt.subplots(figsize=(10,12))\n",
    "ax.barh(idx, feature_importances, align='center')\n",
    "plt.yticks(idx, feature_names, fontsize=8)\n",
    "\n",
    "ax.set_title(\"Feature Importances in Gradient Booster\")\n",
    "ax.set_xlabel('Relative Importance of Feature', fontsize=10)\n",
    "ax.set_ylabel('Feature Name', fontsize=14)\n",
    "fig.savefig('feat_imp_sep11.png')"
   ]
  },
  {
   "cell_type": "code",
   "execution_count": null,
   "metadata": {
    "collapsed": true
   },
   "outputs": [],
   "source": [
    "model = GradientBoostingClassifier()\n",
    "search = GridSearchCV(model, param_grid = {'n_estimators' : [500, 1000], 'subsample' :[0.5,0.8],\n",
    "                                           'max_depth': [2,3,4,5], 'learning_rate' : [0.01, 0.001]}, \n",
    "             scoring='recall', fit_params={'sample_weight': weights_train}, n_jobs=1, iid=True, refit=True, \n",
    "             cv=None, verbose=5, pre_dispatch='2*n_jobs', error_score='raise', return_train_score=True)"
   ]
  },
  {
   "cell_type": "code",
   "execution_count": null,
   "metadata": {
    "collapsed": true
   },
   "outputs": [],
   "source": [
    "fitted = search.fit(X_train,y_train)"
   ]
  },
  {
   "cell_type": "code",
   "execution_count": null,
   "metadata": {
    "collapsed": true
   },
   "outputs": [],
   "source": [
    "fitted.score(X_train,y_train)"
   ]
  },
  {
   "cell_type": "code",
   "execution_count": null,
   "metadata": {
    "collapsed": true
   },
   "outputs": [],
   "source": [
    "fitted.best_params_"
   ]
  },
  {
   "cell_type": "code",
   "execution_count": null,
   "metadata": {
    "collapsed": true
   },
   "outputs": [],
   "source": [
    "result = fitted.predict_proba(X4)[:,1]"
   ]
  },
  {
   "cell_type": "code",
   "execution_count": null,
   "metadata": {},
   "outputs": [],
   "source": [
    "X2['result']=result"
   ]
  },
  {
   "cell_type": "code",
   "execution_count": null,
   "metadata": {},
   "outputs": [],
   "source": [
    "X2['GEOID10']=acs.GEOID10"
   ]
  },
  {
   "cell_type": "code",
   "execution_count": null,
   "metadata": {
    "collapsed": true
   },
   "outputs": [],
   "source": [
    "X2.to_csv('sept11result.csv')"
   ]
  },
  {
   "cell_type": "code",
   "execution_count": null,
   "metadata": {
    "collapsed": true
   },
   "outputs": [],
   "source": []
  }
 ],
 "metadata": {
  "kernelspec": {
   "display_name": "Python 2",
   "language": "python",
   "name": "python2"
  },
  "language_info": {
   "codemirror_mode": {
    "name": "ipython",
    "version": 2
   },
   "file_extension": ".py",
   "mimetype": "text/x-python",
   "name": "python",
   "nbconvert_exporter": "python",
   "pygments_lexer": "ipython2",
   "version": "2.7.13"
  }
 },
 "nbformat": 4,
 "nbformat_minor": 2
}

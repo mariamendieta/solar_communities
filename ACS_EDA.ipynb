{
 "cells": [
  {
   "cell_type": "code",
   "execution_count": 2,
   "metadata": {
    "collapsed": true
   },
   "outputs": [],
   "source": [
    "import pandas as pd\n",
    "import matplotlib.pyplot as plt\n",
    "import numpy as np\n",
    "import sys\n",
    "sys.path.insert(0,'src/')\n",
    "import acs5\n",
    "\n",
    "\n",
    "%matplotlib inline"
   ]
  },
  {
   "cell_type": "code",
   "execution_count": 3,
   "metadata": {
    "collapsed": true
   },
   "outputs": [],
   "source": [
    "# Importing Data \n",
    "df=acs5.get_acs_all()"
   ]
  },
  {
   "cell_type": "code",
   "execution_count": 4,
   "metadata": {},
   "outputs": [
    {
     "data": {
      "text/plain": [
       "(4918, 65)"
      ]
     },
     "execution_count": 4,
     "metadata": {},
     "output_type": "execute_result"
    }
   ],
   "source": [
    "df.shape"
   ]
  },
  {
   "cell_type": "code",
   "execution_count": 5,
   "metadata": {},
   "outputs": [],
   "source": [
    "#Identifying tracts with population = 0 \n",
    "zero_pop = df[df['Total_population']==0]\n",
    "# Census tracts with population = 0 are parks and other public areas http://maps.nyc.gov/census/"
   ]
  },
  {
   "cell_type": "code",
   "execution_count": 6,
   "metadata": {},
   "outputs": [
    {
     "data": {
      "text/plain": [
       "(61, 65)"
      ]
     },
     "execution_count": 6,
     "metadata": {},
     "output_type": "execute_result"
    }
   ],
   "source": [
    "zero_pop.shape"
   ]
  },
  {
   "cell_type": "code",
   "execution_count": 7,
   "metadata": {
    "collapsed": true
   },
   "outputs": [],
   "source": [
    "# Dropping tracts with no population for EDA\n",
    "acs = df[df['Total_population']>0]"
   ]
  },
  {
   "cell_type": "code",
   "execution_count": 8,
   "metadata": {},
   "outputs": [
    {
     "data": {
      "text/plain": [
       "(4857, 65)"
      ]
     },
     "execution_count": 8,
     "metadata": {},
     "output_type": "execute_result"
    }
   ],
   "source": [
    "acs.shape"
   ]
  },
  {
   "cell_type": "code",
   "execution_count": 9,
   "metadata": {},
   "outputs": [
    {
     "name": "stderr",
     "output_type": "stream",
     "text": [
      "/Users/mariamendieta/anaconda2/lib/python2.7/site-packages/ipykernel_launcher.py:5: SettingWithCopyWarning: \n",
      "A value is trying to be set on a copy of a slice from a DataFrame.\n",
      "Try using .loc[row_indexer,col_indexer] = value instead\n",
      "\n",
      "See the caveats in the documentation: http://pandas.pydata.org/pandas-docs/stable/indexing.html#indexing-view-versus-copy\n",
      "  \"\"\"\n"
     ]
    }
   ],
   "source": [
    "#Creating percentage data \n",
    "income = ['Less_10k','10k_15k','15k_25k','25k_35k','35k_50k','50k_75k','75k_100k',\n",
    "          '100k_150k','150k_200k','200k_more']\n",
    "for i in income:\n",
    "    acs['Percent_{}'.format(i)]=acs[i]/acs['households']"
   ]
  },
  {
   "cell_type": "code",
   "execution_count": 10,
   "metadata": {},
   "outputs": [
    {
     "name": "stderr",
     "output_type": "stream",
     "text": [
      "/Users/mariamendieta/anaconda2/lib/python2.7/site-packages/ipykernel_launcher.py:4: SettingWithCopyWarning: \n",
      "A value is trying to be set on a copy of a slice from a DataFrame.\n",
      "Try using .loc[row_indexer,col_indexer] = value instead\n",
      "\n",
      "See the caveats in the documentation: http://pandas.pydata.org/pandas-docs/stable/indexing.html#indexing-view-versus-copy\n",
      "  after removing the cwd from sys.path.\n"
     ]
    }
   ],
   "source": [
    "education = ['Less_9th', '12th_no_dip','HighSchool', \n",
    "             'Some_college','Associate', 'Bachelors','Graduate']\n",
    "for i in education:\n",
    "    acs['Percent_{}'.format(i)]=acs[i]/acs['Pop_over_25']"
   ]
  },
  {
   "cell_type": "code",
   "execution_count": 12,
   "metadata": {},
   "outputs": [
    {
     "name": "stderr",
     "output_type": "stream",
     "text": [
      "/Users/mariamendieta/anaconda2/lib/python2.7/site-packages/ipykernel_launcher.py:1: SettingWithCopyWarning: \n",
      "A value is trying to be set on a copy of a slice from a DataFrame.\n",
      "Try using .loc[row_indexer,col_indexer] = value instead\n",
      "\n",
      "See the caveats in the documentation: http://pandas.pydata.org/pandas-docs/stable/indexing.html#indexing-view-versus-copy\n",
      "  \"\"\"Entry point for launching an IPython kernel.\n"
     ]
    }
   ],
   "source": [
    "acs['Percent_hh_w_children']=acs['Hh_w_children']/acs['Total_hh_by_type']"
   ]
  },
  {
   "cell_type": "code",
   "execution_count": 13,
   "metadata": {},
   "outputs": [
    {
     "name": "stderr",
     "output_type": "stream",
     "text": [
      "/Users/mariamendieta/anaconda2/lib/python2.7/site-packages/ipykernel_launcher.py:1: SettingWithCopyWarning: \n",
      "A value is trying to be set on a copy of a slice from a DataFrame.\n",
      "Try using .loc[row_indexer,col_indexer] = value instead\n",
      "\n",
      "See the caveats in the documentation: http://pandas.pydata.org/pandas-docs/stable/indexing.html#indexing-view-versus-copy\n",
      "  \"\"\"Entry point for launching an IPython kernel.\n"
     ]
    }
   ],
   "source": [
    "acs['Percent_occupied'] = acs['Occupied_units']/acs['Housing_Units']"
   ]
  },
  {
   "cell_type": "code",
   "execution_count": 14,
   "metadata": {},
   "outputs": [
    {
     "name": "stderr",
     "output_type": "stream",
     "text": [
      "/Users/mariamendieta/anaconda2/lib/python2.7/site-packages/ipykernel_launcher.py:4: SettingWithCopyWarning: \n",
      "A value is trying to be set on a copy of a slice from a DataFrame.\n",
      "Try using .loc[row_indexer,col_indexer] = value instead\n",
      "\n",
      "See the caveats in the documentation: http://pandas.pydata.org/pandas-docs/stable/indexing.html#indexing-view-versus-copy\n",
      "  after removing the cwd from sys.path.\n"
     ]
    }
   ],
   "source": [
    "units = ['1_unit_detached','1_unit_attached','2_units',\n",
    "       '3_4_units','5_9_units','10_19_units','20+_units']\n",
    "for i in units:\n",
    "    acs['Percent_{}'.format(i)]=acs[i]/acs['Total_units_structure']"
   ]
  },
  {
   "cell_type": "code",
   "execution_count": 16,
   "metadata": {},
   "outputs": [
    {
     "name": "stderr",
     "output_type": "stream",
     "text": [
      "/Users/mariamendieta/anaconda2/lib/python2.7/site-packages/ipykernel_launcher.py:3: SettingWithCopyWarning: \n",
      "A value is trying to be set on a copy of a slice from a DataFrame.\n",
      "Try using .loc[row_indexer,col_indexer] = value instead\n",
      "\n",
      "See the caveats in the documentation: http://pandas.pydata.org/pandas-docs/stable/indexing.html#indexing-view-versus-copy\n",
      "  This is separate from the ipykernel package so we can avoid doing imports until\n"
     ]
    }
   ],
   "source": [
    "rooms = ['1_room','2_rooms','3_rooms','4_rooms','5_rooms','6_rooms','7_rooms','8_rooms','9_more_rooms']\n",
    "for i in rooms:\n",
    "    acs['Percent_{}'.format(i)]=acs[i]/acs['Total_housing_units_Rooms']"
   ]
  },
  {
   "cell_type": "code",
   "execution_count": 15,
   "metadata": {},
   "outputs": [
    {
     "name": "stderr",
     "output_type": "stream",
     "text": [
      "/Users/mariamendieta/anaconda2/lib/python2.7/site-packages/ipykernel_launcher.py:4: SettingWithCopyWarning: \n",
      "A value is trying to be set on a copy of a slice from a DataFrame.\n",
      "Try using .loc[row_indexer,col_indexer] = value instead\n",
      "\n",
      "See the caveats in the documentation: http://pandas.pydata.org/pandas-docs/stable/indexing.html#indexing-view-versus-copy\n",
      "  after removing the cwd from sys.path.\n"
     ]
    }
   ],
   "source": [
    "heating = ['Heating_gas','Heating_gas_tank','Heating_electricity','Heating_fuelkero',\n",
    "           'Heating_coal_coke','Heating_wood','Heating_solar','Heating_other','Heating_no']\n",
    "for i in heating:\n",
    "    acs['Percent_{}'.format(i)]=acs[i]/acs['Occupied_units_heating']"
   ]
  },
  {
   "cell_type": "code",
   "execution_count": 21,
   "metadata": {},
   "outputs": [
    {
     "data": {
      "text/html": [
       "<div>\n",
       "<style>\n",
       "    .dataframe thead tr:only-child th {\n",
       "        text-align: right;\n",
       "    }\n",
       "\n",
       "    .dataframe thead th {\n",
       "        text-align: left;\n",
       "    }\n",
       "\n",
       "    .dataframe tbody tr th {\n",
       "        vertical-align: top;\n",
       "    }\n",
       "</style>\n",
       "<table border=\"1\" class=\"dataframe\">\n",
       "  <thead>\n",
       "    <tr style=\"text-align: right;\">\n",
       "      <th></th>\n",
       "      <th>Less_9th</th>\n",
       "      <th>12th_no_dip</th>\n",
       "      <th>HighSchool</th>\n",
       "      <th>Some_college</th>\n",
       "      <th>Associate</th>\n",
       "      <th>Bachelors</th>\n",
       "      <th>Graduate</th>\n",
       "    </tr>\n",
       "  </thead>\n",
       "  <tbody>\n",
       "    <tr>\n",
       "      <th>count</th>\n",
       "      <td>4857.000000</td>\n",
       "      <td>4857.000000</td>\n",
       "      <td>4857.000000</td>\n",
       "      <td>4857.000000</td>\n",
       "      <td>4857.000000</td>\n",
       "      <td>4857.000000</td>\n",
       "      <td>4857.000000</td>\n",
       "    </tr>\n",
       "    <tr>\n",
       "      <th>mean</th>\n",
       "      <td>184.144740</td>\n",
       "      <td>213.243978</td>\n",
       "      <td>738.911674</td>\n",
       "      <td>448.076796</td>\n",
       "      <td>235.608606</td>\n",
       "      <td>536.149269</td>\n",
       "      <td>410.139386</td>\n",
       "    </tr>\n",
       "    <tr>\n",
       "      <th>std</th>\n",
       "      <td>235.495387</td>\n",
       "      <td>187.607222</td>\n",
       "      <td>424.660044</td>\n",
       "      <td>252.100593</td>\n",
       "      <td>159.833406</td>\n",
       "      <td>459.033661</td>\n",
       "      <td>455.820975</td>\n",
       "    </tr>\n",
       "    <tr>\n",
       "      <th>min</th>\n",
       "      <td>0.000000</td>\n",
       "      <td>0.000000</td>\n",
       "      <td>0.000000</td>\n",
       "      <td>0.000000</td>\n",
       "      <td>0.000000</td>\n",
       "      <td>0.000000</td>\n",
       "      <td>0.000000</td>\n",
       "    </tr>\n",
       "    <tr>\n",
       "      <th>25%</th>\n",
       "      <td>49.000000</td>\n",
       "      <td>90.000000</td>\n",
       "      <td>437.000000</td>\n",
       "      <td>268.000000</td>\n",
       "      <td>119.000000</td>\n",
       "      <td>238.000000</td>\n",
       "      <td>132.000000</td>\n",
       "    </tr>\n",
       "    <tr>\n",
       "      <th>50%</th>\n",
       "      <td>103.000000</td>\n",
       "      <td>166.000000</td>\n",
       "      <td>673.000000</td>\n",
       "      <td>412.000000</td>\n",
       "      <td>200.000000</td>\n",
       "      <td>419.000000</td>\n",
       "      <td>272.000000</td>\n",
       "    </tr>\n",
       "    <tr>\n",
       "      <th>75%</th>\n",
       "      <td>224.000000</td>\n",
       "      <td>278.000000</td>\n",
       "      <td>970.000000</td>\n",
       "      <td>585.000000</td>\n",
       "      <td>318.000000</td>\n",
       "      <td>706.000000</td>\n",
       "      <td>521.000000</td>\n",
       "    </tr>\n",
       "    <tr>\n",
       "      <th>max</th>\n",
       "      <td>2987.000000</td>\n",
       "      <td>2824.000000</td>\n",
       "      <td>6512.000000</td>\n",
       "      <td>4982.000000</td>\n",
       "      <td>1757.000000</td>\n",
       "      <td>5777.000000</td>\n",
       "      <td>4694.000000</td>\n",
       "    </tr>\n",
       "  </tbody>\n",
       "</table>\n",
       "</div>"
      ],
      "text/plain": [
       "          Less_9th  12th_no_dip   HighSchool  Some_college    Associate  \\\n",
       "count  4857.000000  4857.000000  4857.000000   4857.000000  4857.000000   \n",
       "mean    184.144740   213.243978   738.911674    448.076796   235.608606   \n",
       "std     235.495387   187.607222   424.660044    252.100593   159.833406   \n",
       "min       0.000000     0.000000     0.000000      0.000000     0.000000   \n",
       "25%      49.000000    90.000000   437.000000    268.000000   119.000000   \n",
       "50%     103.000000   166.000000   673.000000    412.000000   200.000000   \n",
       "75%     224.000000   278.000000   970.000000    585.000000   318.000000   \n",
       "max    2987.000000  2824.000000  6512.000000   4982.000000  1757.000000   \n",
       "\n",
       "         Bachelors     Graduate  \n",
       "count  4857.000000  4857.000000  \n",
       "mean    536.149269   410.139386  \n",
       "std     459.033661   455.820975  \n",
       "min       0.000000     0.000000  \n",
       "25%     238.000000   132.000000  \n",
       "50%     419.000000   272.000000  \n",
       "75%     706.000000   521.000000  \n",
       "max    5777.000000  4694.000000  "
      ]
     },
     "execution_count": 21,
     "metadata": {},
     "output_type": "execute_result"
    }
   ],
   "source": [
    "acs[education].describe()"
   ]
  },
  {
   "cell_type": "code",
   "execution_count": null,
   "metadata": {
    "collapsed": true
   },
   "outputs": [],
   "source": []
  }
 ],
 "metadata": {
  "kernelspec": {
   "display_name": "Python 2",
   "language": "python",
   "name": "python2"
  },
  "language_info": {
   "codemirror_mode": {
    "name": "ipython",
    "version": 2
   },
   "file_extension": ".py",
   "mimetype": "text/x-python",
   "name": "python",
   "nbconvert_exporter": "python",
   "pygments_lexer": "ipython2",
   "version": "2.7.13"
  }
 },
 "nbformat": 4,
 "nbformat_minor": 2
}

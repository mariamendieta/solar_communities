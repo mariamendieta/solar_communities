{
 "cells": [
  {
   "cell_type": "code",
   "execution_count": 1,
   "metadata": {
    "collapsed": true
   },
   "outputs": [],
   "source": [
    "import pandas as pd\n",
    "import matplotlib.pyplot as plt\n",
    "import numpy as np\n",
    "import sys\n",
    "sys.path.insert(0,'src/')\n",
    "import acs5\n",
    "import nyserda_acs\n",
    "import prices\n",
    "import project_sunroof\n",
    "import nyserda\n",
    "from sklearn.model_selection import GridSearchCV\n",
    "from sklearn.ensemble import GradientBoostingClassifier\n",
    "from sklearn.model_selection import train_test_split\n",
    "from sklearn.preprocessing import Imputer\n",
    "from sklearn.metrics import recall_score\n",
    "\n",
    "#https://www.analyticsvidhya.com/blog/2016/02/complete-guide-parameter-tuning-gradient-boosting-gbm-python/\n",
    "\n",
    "\n",
    "%matplotlib inline"
   ]
  },
  {
   "cell_type": "code",
   "execution_count": 2,
   "metadata": {
    "collapsed": true
   },
   "outputs": [],
   "source": [
    "raw_data = nyserda_acs.merging_data()\n",
    "raw_data=raw_data[raw_data['households']>0]"
   ]
  },
  {
   "cell_type": "code",
   "execution_count": 3,
   "metadata": {},
   "outputs": [
    {
     "data": {
      "text/plain": [
       "(4831, 157)"
      ]
     },
     "execution_count": 3,
     "metadata": {},
     "output_type": "execute_result"
    }
   ],
   "source": [
    "raw_data.shape"
   ]
  },
  {
   "cell_type": "markdown",
   "metadata": {},
   "source": [
    "## Weights"
   ]
  },
  {
   "cell_type": "code",
   "execution_count": 4,
   "metadata": {},
   "outputs": [
    {
     "name": "stderr",
     "output_type": "stream",
     "text": [
      "/home/ubuntu/anaconda/lib/python2.7/site-packages/pandas/core/indexing.py:517: SettingWithCopyWarning: \n",
      "A value is trying to be set on a copy of a slice from a DataFrame.\n",
      "Try using .loc[row_indexer,col_indexer] = value instead\n",
      "\n",
      "See the caveats in the documentation: http://pandas.pydata.org/pandas-docs/stable/indexing.html#indexing-view-versus-copy\n",
      "  self.obj[item] = s\n",
      "/home/ubuntu/anaconda/lib/python2.7/site-packages/pandas/core/indexing.py:337: SettingWithCopyWarning: \n",
      "A value is trying to be set on a copy of a slice from a DataFrame.\n",
      "Try using .loc[row_indexer,col_indexer] = value instead\n",
      "\n",
      "See the caveats in the documentation: http://pandas.pydata.org/pandas-docs/stable/indexing.html#indexing-view-versus-copy\n",
      "  self.obj[key] = _infer_fill_value(value)\n"
     ]
    }
   ],
   "source": [
    "#Duplicate positive rows\n",
    "duplic = raw_data.loc[raw_data['Project_yes']==1,:]\n",
    "duplic.loc[:,'Project_yes'] =0\n",
    "duplic.loc[:,'Duplicate'] = 'Yes'\n",
    "duplic.loc[:,'weight'] = (duplic.loc[:,'households']-duplic.loc[:,'Project_Number'])\n",
    "duplic=duplic[duplic['weight']>0]\n",
    "#Creating weights in old data\n",
    "raw_data.loc[raw_data['Project_yes'] == 1, 'weight'] = raw_data['Project_Number']\n",
    "raw_data.loc[raw_data['Project_yes'] == 0, 'weight'] = raw_data['households']\n",
    "raw_data['Duplicate']='No'\n",
    "#Merging data \n",
    "#Concatenating\n",
    "all_data = raw_data.append(duplic, ignore_index=True)"
   ]
  },
  {
   "cell_type": "code",
   "execution_count": 5,
   "metadata": {},
   "outputs": [
    {
     "data": {
      "text/plain": [
       "(6022, 159)"
      ]
     },
     "execution_count": 5,
     "metadata": {},
     "output_type": "execute_result"
    }
   ],
   "source": [
    "all_data.shape"
   ]
  },
  {
   "cell_type": "code",
   "execution_count": 6,
   "metadata": {},
   "outputs": [
    {
     "data": {
      "text/plain": [
       "7262279L"
      ]
     },
     "execution_count": 6,
     "metadata": {},
     "output_type": "execute_result"
    }
   ],
   "source": [
    "raw_data['households'].sum(axis=None, skipna=True, level=None, numeric_only=None)"
   ]
  },
  {
   "cell_type": "code",
   "execution_count": 7,
   "metadata": {},
   "outputs": [
    {
     "data": {
      "text/plain": [
       "0.010750482045649858"
      ]
     },
     "execution_count": 7,
     "metadata": {},
     "output_type": "execute_result"
    }
   ],
   "source": [
    "raw_data['Project_Number'].sum(axis=None, skipna=True, level=None, numeric_only=None)/raw_data['households'].sum(axis=None, skipna=True, level=None, numeric_only=None)"
   ]
  },
  {
   "cell_type": "markdown",
   "metadata": {},
   "source": [
    "## Columns"
   ]
  },
  {
   "cell_type": "code",
   "execution_count": 8,
   "metadata": {
    "collapsed": true
   },
   "outputs": [],
   "source": [
    "all_columns = list(all_data.columns)"
   ]
  },
  {
   "cell_type": "code",
   "execution_count": 9,
   "metadata": {},
   "outputs": [
    {
     "data": {
      "text/plain": [
       "159"
      ]
     },
     "execution_count": 9,
     "metadata": {},
     "output_type": "execute_result"
    }
   ],
   "source": [
    "len(all_columns)"
   ]
  },
  {
   "cell_type": "code",
   "execution_count": 10,
   "metadata": {
    "collapsed": true
   },
   "outputs": [],
   "source": [
    "acs= acs5.Get_census_data()\n",
    "acs_data = acs.get_acs_all()"
   ]
  },
  {
   "cell_type": "code",
   "execution_count": 11,
   "metadata": {
    "collapsed": true
   },
   "outputs": [],
   "source": [
    "acs_percent_variables = acs.education_percent + acs.other_households + acs.units_percent + acs.heating_percent + acs.rooms_percent"
   ]
  },
  {
   "cell_type": "markdown",
   "metadata": {},
   "source": [
    "## More complex model"
   ]
  },
  {
   "cell_type": "code",
   "execution_count": 12,
   "metadata": {},
   "outputs": [
    {
     "data": {
      "text/html": [
       "<div>\n",
       "<style>\n",
       "    .dataframe thead tr:only-child th {\n",
       "        text-align: right;\n",
       "    }\n",
       "\n",
       "    .dataframe thead th {\n",
       "        text-align: left;\n",
       "    }\n",
       "\n",
       "    .dataframe tbody tr th {\n",
       "        vertical-align: top;\n",
       "    }\n",
       "</style>\n",
       "<table border=\"1\" class=\"dataframe\">\n",
       "  <thead>\n",
       "    <tr style=\"text-align: right;\">\n",
       "      <th></th>\n",
       "      <th>Percent_Less_9th</th>\n",
       "      <th>Percent_12th_no_dip</th>\n",
       "      <th>Percent_HighSchool</th>\n",
       "      <th>Percent_Some_college</th>\n",
       "      <th>Percent_Associate</th>\n",
       "      <th>Percent_Bachelors</th>\n",
       "      <th>Percent_Graduate</th>\n",
       "      <th>Percent_more_than_hs</th>\n",
       "      <th>Avg_hh_size</th>\n",
       "      <th>Median_age</th>\n",
       "      <th>...</th>\n",
       "      <th>Percent_7_rooms</th>\n",
       "      <th>Percent_8_rooms</th>\n",
       "      <th>Percent_9_more_rooms</th>\n",
       "      <th>median_rooms</th>\n",
       "      <th>Project_yes</th>\n",
       "      <th>Mean_price</th>\n",
       "      <th>Var_price</th>\n",
       "      <th>percent_qualified</th>\n",
       "      <th>yearly_sunlight_kwh_total</th>\n",
       "      <th>weight</th>\n",
       "    </tr>\n",
       "  </thead>\n",
       "  <tbody>\n",
       "    <tr>\n",
       "      <th>count</th>\n",
       "      <td>4831.000000</td>\n",
       "      <td>4831.000000</td>\n",
       "      <td>4831.000000</td>\n",
       "      <td>4831.000000</td>\n",
       "      <td>4831.000000</td>\n",
       "      <td>4831.000000</td>\n",
       "      <td>4831.000000</td>\n",
       "      <td>4831.000000</td>\n",
       "      <td>4825.000000</td>\n",
       "      <td>4824.000000</td>\n",
       "      <td>...</td>\n",
       "      <td>4831.000000</td>\n",
       "      <td>4831.000000</td>\n",
       "      <td>4831.000000</td>\n",
       "      <td>4788.000000</td>\n",
       "      <td>4831.000000</td>\n",
       "      <td>4831.000000</td>\n",
       "      <td>4831.000000</td>\n",
       "      <td>3739.000000</td>\n",
       "      <td>3.739000e+03</td>\n",
       "      <td>4831.000000</td>\n",
       "    </tr>\n",
       "    <tr>\n",
       "      <th>mean</th>\n",
       "      <td>0.067086</td>\n",
       "      <td>0.080560</td>\n",
       "      <td>0.275853</td>\n",
       "      <td>0.165348</td>\n",
       "      <td>0.086049</td>\n",
       "      <td>0.185672</td>\n",
       "      <td>0.139433</td>\n",
       "      <td>0.576501</td>\n",
       "      <td>2.713188</td>\n",
       "      <td>38.942123</td>\n",
       "      <td>...</td>\n",
       "      <td>0.106449</td>\n",
       "      <td>0.076928</td>\n",
       "      <td>0.094757</td>\n",
       "      <td>5.211863</td>\n",
       "      <td>0.247154</td>\n",
       "      <td>29.261230</td>\n",
       "      <td>211.348431</td>\n",
       "      <td>74.146273</td>\n",
       "      <td>9.249323e+06</td>\n",
       "      <td>1106.759677</td>\n",
       "    </tr>\n",
       "    <tr>\n",
       "      <th>std</th>\n",
       "      <td>0.066355</td>\n",
       "      <td>0.056599</td>\n",
       "      <td>0.099750</td>\n",
       "      <td>0.055167</td>\n",
       "      <td>0.041968</td>\n",
       "      <td>0.094119</td>\n",
       "      <td>0.107784</td>\n",
       "      <td>0.164563</td>\n",
       "      <td>0.554915</td>\n",
       "      <td>7.057367</td>\n",
       "      <td>...</td>\n",
       "      <td>0.081541</td>\n",
       "      <td>0.069176</td>\n",
       "      <td>0.090909</td>\n",
       "      <td>1.227910</td>\n",
       "      <td>0.431402</td>\n",
       "      <td>4.082159</td>\n",
       "      <td>107.281626</td>\n",
       "      <td>13.161878</td>\n",
       "      <td>1.175220e+07</td>\n",
       "      <td>904.993411</td>\n",
       "    </tr>\n",
       "    <tr>\n",
       "      <th>min</th>\n",
       "      <td>0.000000</td>\n",
       "      <td>0.000000</td>\n",
       "      <td>0.000000</td>\n",
       "      <td>0.000000</td>\n",
       "      <td>0.000000</td>\n",
       "      <td>0.000000</td>\n",
       "      <td>0.000000</td>\n",
       "      <td>0.000000</td>\n",
       "      <td>1.030000</td>\n",
       "      <td>11.300000</td>\n",
       "      <td>...</td>\n",
       "      <td>0.000000</td>\n",
       "      <td>0.000000</td>\n",
       "      <td>0.000000</td>\n",
       "      <td>1.300000</td>\n",
       "      <td>0.000000</td>\n",
       "      <td>18.309167</td>\n",
       "      <td>95.470254</td>\n",
       "      <td>21.212121</td>\n",
       "      <td>2.178341e+03</td>\n",
       "      <td>1.000000</td>\n",
       "    </tr>\n",
       "    <tr>\n",
       "      <th>25%</th>\n",
       "      <td>0.020387</td>\n",
       "      <td>0.037663</td>\n",
       "      <td>0.215810</td>\n",
       "      <td>0.130533</td>\n",
       "      <td>0.056277</td>\n",
       "      <td>0.115651</td>\n",
       "      <td>0.061744</td>\n",
       "      <td>0.458327</td>\n",
       "      <td>2.350000</td>\n",
       "      <td>34.000000</td>\n",
       "      <td>...</td>\n",
       "      <td>0.033590</td>\n",
       "      <td>0.018128</td>\n",
       "      <td>0.028009</td>\n",
       "      <td>4.100000</td>\n",
       "      <td>0.000000</td>\n",
       "      <td>25.463787</td>\n",
       "      <td>170.939219</td>\n",
       "      <td>66.218202</td>\n",
       "      <td>2.905493e+06</td>\n",
       "      <td>298.500000</td>\n",
       "    </tr>\n",
       "    <tr>\n",
       "      <th>50%</th>\n",
       "      <td>0.043080</td>\n",
       "      <td>0.068670</td>\n",
       "      <td>0.282483</td>\n",
       "      <td>0.165488</td>\n",
       "      <td>0.083572</td>\n",
       "      <td>0.171992</td>\n",
       "      <td>0.110048</td>\n",
       "      <td>0.570190</td>\n",
       "      <td>2.640000</td>\n",
       "      <td>39.400000</td>\n",
       "      <td>...</td>\n",
       "      <td>0.104424</td>\n",
       "      <td>0.063299</td>\n",
       "      <td>0.074373</td>\n",
       "      <td>5.400000</td>\n",
       "      <td>0.000000</td>\n",
       "      <td>30.932676</td>\n",
       "      <td>188.915562</td>\n",
       "      <td>75.939850</td>\n",
       "      <td>4.895547e+06</td>\n",
       "      <td>1065.000000</td>\n",
       "    </tr>\n",
       "    <tr>\n",
       "      <th>75%</th>\n",
       "      <td>0.094349</td>\n",
       "      <td>0.110509</td>\n",
       "      <td>0.344857</td>\n",
       "      <td>0.198129</td>\n",
       "      <td>0.112512</td>\n",
       "      <td>0.239580</td>\n",
       "      <td>0.185739</td>\n",
       "      <td>0.686537</td>\n",
       "      <td>3.030000</td>\n",
       "      <td>43.800000</td>\n",
       "      <td>...</td>\n",
       "      <td>0.160991</td>\n",
       "      <td>0.117477</td>\n",
       "      <td>0.134913</td>\n",
       "      <td>6.100000</td>\n",
       "      <td>0.000000</td>\n",
       "      <td>30.932676</td>\n",
       "      <td>195.928370</td>\n",
       "      <td>83.643871</td>\n",
       "      <td>1.175304e+07</td>\n",
       "      <td>1621.000000</td>\n",
       "    </tr>\n",
       "    <tr>\n",
       "      <th>max</th>\n",
       "      <td>0.445956</td>\n",
       "      <td>0.400000</td>\n",
       "      <td>0.793103</td>\n",
       "      <td>1.000000</td>\n",
       "      <td>1.000000</td>\n",
       "      <td>1.000000</td>\n",
       "      <td>1.000000</td>\n",
       "      <td>1.000000</td>\n",
       "      <td>6.270000</td>\n",
       "      <td>82.000000</td>\n",
       "      <td>...</td>\n",
       "      <td>1.000000</td>\n",
       "      <td>0.809524</td>\n",
       "      <td>1.000000</td>\n",
       "      <td>8.500000</td>\n",
       "      <td>1.000000</td>\n",
       "      <td>35.571604</td>\n",
       "      <td>477.108098</td>\n",
       "      <td>100.000000</td>\n",
       "      <td>1.720241e+08</td>\n",
       "      <td>8674.000000</td>\n",
       "    </tr>\n",
       "  </tbody>\n",
       "</table>\n",
       "<p>8 rows × 45 columns</p>\n",
       "</div>"
      ],
      "text/plain": [
       "       Percent_Less_9th  Percent_12th_no_dip  Percent_HighSchool  \\\n",
       "count       4831.000000          4831.000000         4831.000000   \n",
       "mean           0.067086             0.080560            0.275853   \n",
       "std            0.066355             0.056599            0.099750   \n",
       "min            0.000000             0.000000            0.000000   \n",
       "25%            0.020387             0.037663            0.215810   \n",
       "50%            0.043080             0.068670            0.282483   \n",
       "75%            0.094349             0.110509            0.344857   \n",
       "max            0.445956             0.400000            0.793103   \n",
       "\n",
       "       Percent_Some_college  Percent_Associate  Percent_Bachelors  \\\n",
       "count           4831.000000        4831.000000        4831.000000   \n",
       "mean               0.165348           0.086049           0.185672   \n",
       "std                0.055167           0.041968           0.094119   \n",
       "min                0.000000           0.000000           0.000000   \n",
       "25%                0.130533           0.056277           0.115651   \n",
       "50%                0.165488           0.083572           0.171992   \n",
       "75%                0.198129           0.112512           0.239580   \n",
       "max                1.000000           1.000000           1.000000   \n",
       "\n",
       "       Percent_Graduate  Percent_more_than_hs  Avg_hh_size   Median_age  \\\n",
       "count       4831.000000           4831.000000  4825.000000  4824.000000   \n",
       "mean           0.139433              0.576501     2.713188    38.942123   \n",
       "std            0.107784              0.164563     0.554915     7.057367   \n",
       "min            0.000000              0.000000     1.030000    11.300000   \n",
       "25%            0.061744              0.458327     2.350000    34.000000   \n",
       "50%            0.110048              0.570190     2.640000    39.400000   \n",
       "75%            0.185739              0.686537     3.030000    43.800000   \n",
       "max            1.000000              1.000000     6.270000    82.000000   \n",
       "\n",
       "          ...       Percent_7_rooms  Percent_8_rooms  Percent_9_more_rooms  \\\n",
       "count     ...           4831.000000      4831.000000           4831.000000   \n",
       "mean      ...              0.106449         0.076928              0.094757   \n",
       "std       ...              0.081541         0.069176              0.090909   \n",
       "min       ...              0.000000         0.000000              0.000000   \n",
       "25%       ...              0.033590         0.018128              0.028009   \n",
       "50%       ...              0.104424         0.063299              0.074373   \n",
       "75%       ...              0.160991         0.117477              0.134913   \n",
       "max       ...              1.000000         0.809524              1.000000   \n",
       "\n",
       "       median_rooms  Project_yes   Mean_price    Var_price  percent_qualified  \\\n",
       "count   4788.000000  4831.000000  4831.000000  4831.000000        3739.000000   \n",
       "mean       5.211863     0.247154    29.261230   211.348431          74.146273   \n",
       "std        1.227910     0.431402     4.082159   107.281626          13.161878   \n",
       "min        1.300000     0.000000    18.309167    95.470254          21.212121   \n",
       "25%        4.100000     0.000000    25.463787   170.939219          66.218202   \n",
       "50%        5.400000     0.000000    30.932676   188.915562          75.939850   \n",
       "75%        6.100000     0.000000    30.932676   195.928370          83.643871   \n",
       "max        8.500000     1.000000    35.571604   477.108098         100.000000   \n",
       "\n",
       "       yearly_sunlight_kwh_total       weight  \n",
       "count               3.739000e+03  4831.000000  \n",
       "mean                9.249323e+06  1106.759677  \n",
       "std                 1.175220e+07   904.993411  \n",
       "min                 2.178341e+03     1.000000  \n",
       "25%                 2.905493e+06   298.500000  \n",
       "50%                 4.895547e+06  1065.000000  \n",
       "75%                 1.175304e+07  1621.000000  \n",
       "max                 1.720241e+08  8674.000000  \n",
       "\n",
       "[8 rows x 45 columns]"
      ]
     },
     "execution_count": 12,
     "metadata": {},
     "output_type": "execute_result"
    }
   ],
   "source": [
    "acs_percent_variables.append('Project_yes')\n",
    "acs_percent_variables.append('Mean_price')\n",
    "acs_percent_variables.append('Var_price')\n",
    "acs_percent_variables.append('percent_qualified')\n",
    "acs_percent_variables.append('yearly_sunlight_kwh_total')\n",
    "acs_percent_variables.append('weight')\n",
    "acs_percent_variables.append('Duplicate')\n",
    "df=raw_data[acs_percent_variables]\n",
    "df.describe()"
   ]
  },
  {
   "cell_type": "code",
   "execution_count": 13,
   "metadata": {},
   "outputs": [],
   "source": [
    "# Imputing missing values\n",
    "df.loc[df['yearly_sunlight_kwh_total'].isnull(), 'yearly_sunlight_kwh_total'] = 0\n",
    "df.loc[df['percent_qualified'].isnull(), 'percent_qualified'] = 200\n",
    "df.loc[df['Avg_hh_size'].isnull(), 'Avg_hh_size']=np.mean(df.Avg_hh_size)"
   ]
  },
  {
   "cell_type": "code",
   "execution_count": 14,
   "metadata": {},
   "outputs": [
    {
     "data": {
      "text/html": [
       "<div>\n",
       "<style>\n",
       "    .dataframe thead tr:only-child th {\n",
       "        text-align: right;\n",
       "    }\n",
       "\n",
       "    .dataframe thead th {\n",
       "        text-align: left;\n",
       "    }\n",
       "\n",
       "    .dataframe tbody tr th {\n",
       "        vertical-align: top;\n",
       "    }\n",
       "</style>\n",
       "<table border=\"1\" class=\"dataframe\">\n",
       "  <thead>\n",
       "    <tr style=\"text-align: right;\">\n",
       "      <th></th>\n",
       "      <th>Percent_Less_9th</th>\n",
       "      <th>Percent_12th_no_dip</th>\n",
       "      <th>Percent_HighSchool</th>\n",
       "      <th>Percent_Some_college</th>\n",
       "      <th>Percent_Associate</th>\n",
       "      <th>Percent_Bachelors</th>\n",
       "      <th>Percent_Graduate</th>\n",
       "      <th>Percent_more_than_hs</th>\n",
       "      <th>Avg_hh_size</th>\n",
       "      <th>Median_age</th>\n",
       "      <th>...</th>\n",
       "      <th>Percent_7_rooms</th>\n",
       "      <th>Percent_8_rooms</th>\n",
       "      <th>Percent_9_more_rooms</th>\n",
       "      <th>median_rooms</th>\n",
       "      <th>Project_yes</th>\n",
       "      <th>Mean_price</th>\n",
       "      <th>Var_price</th>\n",
       "      <th>percent_qualified</th>\n",
       "      <th>yearly_sunlight_kwh_total</th>\n",
       "      <th>weight</th>\n",
       "    </tr>\n",
       "  </thead>\n",
       "  <tbody>\n",
       "    <tr>\n",
       "      <th>count</th>\n",
       "      <td>4831.000000</td>\n",
       "      <td>4831.000000</td>\n",
       "      <td>4831.000000</td>\n",
       "      <td>4831.000000</td>\n",
       "      <td>4831.000000</td>\n",
       "      <td>4831.000000</td>\n",
       "      <td>4831.000000</td>\n",
       "      <td>4831.000000</td>\n",
       "      <td>4831.000000</td>\n",
       "      <td>4824.000000</td>\n",
       "      <td>...</td>\n",
       "      <td>4831.000000</td>\n",
       "      <td>4831.000000</td>\n",
       "      <td>4831.000000</td>\n",
       "      <td>4788.000000</td>\n",
       "      <td>4831.000000</td>\n",
       "      <td>4831.000000</td>\n",
       "      <td>4831.000000</td>\n",
       "      <td>4831.000000</td>\n",
       "      <td>4.831000e+03</td>\n",
       "      <td>4831.000000</td>\n",
       "    </tr>\n",
       "    <tr>\n",
       "      <th>mean</th>\n",
       "      <td>0.067086</td>\n",
       "      <td>0.080560</td>\n",
       "      <td>0.275853</td>\n",
       "      <td>0.165348</td>\n",
       "      <td>0.086049</td>\n",
       "      <td>0.185672</td>\n",
       "      <td>0.139433</td>\n",
       "      <td>0.576501</td>\n",
       "      <td>2.713188</td>\n",
       "      <td>38.942123</td>\n",
       "      <td>...</td>\n",
       "      <td>0.106449</td>\n",
       "      <td>0.076928</td>\n",
       "      <td>0.094757</td>\n",
       "      <td>5.211863</td>\n",
       "      <td>0.247154</td>\n",
       "      <td>29.261230</td>\n",
       "      <td>211.348431</td>\n",
       "      <td>102.594269</td>\n",
       "      <td>7.158605e+06</td>\n",
       "      <td>1106.759677</td>\n",
       "    </tr>\n",
       "    <tr>\n",
       "      <th>std</th>\n",
       "      <td>0.066355</td>\n",
       "      <td>0.056599</td>\n",
       "      <td>0.099750</td>\n",
       "      <td>0.055167</td>\n",
       "      <td>0.041968</td>\n",
       "      <td>0.094119</td>\n",
       "      <td>0.107784</td>\n",
       "      <td>0.164563</td>\n",
       "      <td>0.554570</td>\n",
       "      <td>7.057367</td>\n",
       "      <td>...</td>\n",
       "      <td>0.081541</td>\n",
       "      <td>0.069176</td>\n",
       "      <td>0.090909</td>\n",
       "      <td>1.227910</td>\n",
       "      <td>0.431402</td>\n",
       "      <td>4.082159</td>\n",
       "      <td>107.281626</td>\n",
       "      <td>53.903993</td>\n",
       "      <td>1.103894e+07</td>\n",
       "      <td>904.993411</td>\n",
       "    </tr>\n",
       "    <tr>\n",
       "      <th>min</th>\n",
       "      <td>0.000000</td>\n",
       "      <td>0.000000</td>\n",
       "      <td>0.000000</td>\n",
       "      <td>0.000000</td>\n",
       "      <td>0.000000</td>\n",
       "      <td>0.000000</td>\n",
       "      <td>0.000000</td>\n",
       "      <td>0.000000</td>\n",
       "      <td>1.030000</td>\n",
       "      <td>11.300000</td>\n",
       "      <td>...</td>\n",
       "      <td>0.000000</td>\n",
       "      <td>0.000000</td>\n",
       "      <td>0.000000</td>\n",
       "      <td>1.300000</td>\n",
       "      <td>0.000000</td>\n",
       "      <td>18.309167</td>\n",
       "      <td>95.470254</td>\n",
       "      <td>21.212121</td>\n",
       "      <td>0.000000e+00</td>\n",
       "      <td>1.000000</td>\n",
       "    </tr>\n",
       "    <tr>\n",
       "      <th>25%</th>\n",
       "      <td>0.020387</td>\n",
       "      <td>0.037663</td>\n",
       "      <td>0.215810</td>\n",
       "      <td>0.130533</td>\n",
       "      <td>0.056277</td>\n",
       "      <td>0.115651</td>\n",
       "      <td>0.061744</td>\n",
       "      <td>0.458327</td>\n",
       "      <td>2.350000</td>\n",
       "      <td>34.000000</td>\n",
       "      <td>...</td>\n",
       "      <td>0.033590</td>\n",
       "      <td>0.018128</td>\n",
       "      <td>0.028009</td>\n",
       "      <td>4.100000</td>\n",
       "      <td>0.000000</td>\n",
       "      <td>25.463787</td>\n",
       "      <td>170.939219</td>\n",
       "      <td>69.403086</td>\n",
       "      <td>9.854517e+05</td>\n",
       "      <td>298.500000</td>\n",
       "    </tr>\n",
       "    <tr>\n",
       "      <th>50%</th>\n",
       "      <td>0.043080</td>\n",
       "      <td>0.068670</td>\n",
       "      <td>0.282483</td>\n",
       "      <td>0.165488</td>\n",
       "      <td>0.083572</td>\n",
       "      <td>0.171992</td>\n",
       "      <td>0.110048</td>\n",
       "      <td>0.570190</td>\n",
       "      <td>2.640000</td>\n",
       "      <td>39.400000</td>\n",
       "      <td>...</td>\n",
       "      <td>0.104424</td>\n",
       "      <td>0.063299</td>\n",
       "      <td>0.074373</td>\n",
       "      <td>5.400000</td>\n",
       "      <td>0.000000</td>\n",
       "      <td>30.932676</td>\n",
       "      <td>188.915562</td>\n",
       "      <td>80.549683</td>\n",
       "      <td>3.585665e+06</td>\n",
       "      <td>1065.000000</td>\n",
       "    </tr>\n",
       "    <tr>\n",
       "      <th>75%</th>\n",
       "      <td>0.094349</td>\n",
       "      <td>0.110509</td>\n",
       "      <td>0.344857</td>\n",
       "      <td>0.198129</td>\n",
       "      <td>0.112512</td>\n",
       "      <td>0.239580</td>\n",
       "      <td>0.185739</td>\n",
       "      <td>0.686537</td>\n",
       "      <td>3.030000</td>\n",
       "      <td>43.800000</td>\n",
       "      <td>...</td>\n",
       "      <td>0.160991</td>\n",
       "      <td>0.117477</td>\n",
       "      <td>0.134913</td>\n",
       "      <td>6.100000</td>\n",
       "      <td>0.000000</td>\n",
       "      <td>30.932676</td>\n",
       "      <td>195.928370</td>\n",
       "      <td>94.555336</td>\n",
       "      <td>8.907324e+06</td>\n",
       "      <td>1621.000000</td>\n",
       "    </tr>\n",
       "    <tr>\n",
       "      <th>max</th>\n",
       "      <td>0.445956</td>\n",
       "      <td>0.400000</td>\n",
       "      <td>0.793103</td>\n",
       "      <td>1.000000</td>\n",
       "      <td>1.000000</td>\n",
       "      <td>1.000000</td>\n",
       "      <td>1.000000</td>\n",
       "      <td>1.000000</td>\n",
       "      <td>6.270000</td>\n",
       "      <td>82.000000</td>\n",
       "      <td>...</td>\n",
       "      <td>1.000000</td>\n",
       "      <td>0.809524</td>\n",
       "      <td>1.000000</td>\n",
       "      <td>8.500000</td>\n",
       "      <td>1.000000</td>\n",
       "      <td>35.571604</td>\n",
       "      <td>477.108098</td>\n",
       "      <td>200.000000</td>\n",
       "      <td>1.720241e+08</td>\n",
       "      <td>8674.000000</td>\n",
       "    </tr>\n",
       "  </tbody>\n",
       "</table>\n",
       "<p>8 rows × 45 columns</p>\n",
       "</div>"
      ],
      "text/plain": [
       "       Percent_Less_9th  Percent_12th_no_dip  Percent_HighSchool  \\\n",
       "count       4831.000000          4831.000000         4831.000000   \n",
       "mean           0.067086             0.080560            0.275853   \n",
       "std            0.066355             0.056599            0.099750   \n",
       "min            0.000000             0.000000            0.000000   \n",
       "25%            0.020387             0.037663            0.215810   \n",
       "50%            0.043080             0.068670            0.282483   \n",
       "75%            0.094349             0.110509            0.344857   \n",
       "max            0.445956             0.400000            0.793103   \n",
       "\n",
       "       Percent_Some_college  Percent_Associate  Percent_Bachelors  \\\n",
       "count           4831.000000        4831.000000        4831.000000   \n",
       "mean               0.165348           0.086049           0.185672   \n",
       "std                0.055167           0.041968           0.094119   \n",
       "min                0.000000           0.000000           0.000000   \n",
       "25%                0.130533           0.056277           0.115651   \n",
       "50%                0.165488           0.083572           0.171992   \n",
       "75%                0.198129           0.112512           0.239580   \n",
       "max                1.000000           1.000000           1.000000   \n",
       "\n",
       "       Percent_Graduate  Percent_more_than_hs  Avg_hh_size   Median_age  \\\n",
       "count       4831.000000           4831.000000  4831.000000  4824.000000   \n",
       "mean           0.139433              0.576501     2.713188    38.942123   \n",
       "std            0.107784              0.164563     0.554570     7.057367   \n",
       "min            0.000000              0.000000     1.030000    11.300000   \n",
       "25%            0.061744              0.458327     2.350000    34.000000   \n",
       "50%            0.110048              0.570190     2.640000    39.400000   \n",
       "75%            0.185739              0.686537     3.030000    43.800000   \n",
       "max            1.000000              1.000000     6.270000    82.000000   \n",
       "\n",
       "          ...       Percent_7_rooms  Percent_8_rooms  Percent_9_more_rooms  \\\n",
       "count     ...           4831.000000      4831.000000           4831.000000   \n",
       "mean      ...              0.106449         0.076928              0.094757   \n",
       "std       ...              0.081541         0.069176              0.090909   \n",
       "min       ...              0.000000         0.000000              0.000000   \n",
       "25%       ...              0.033590         0.018128              0.028009   \n",
       "50%       ...              0.104424         0.063299              0.074373   \n",
       "75%       ...              0.160991         0.117477              0.134913   \n",
       "max       ...              1.000000         0.809524              1.000000   \n",
       "\n",
       "       median_rooms  Project_yes   Mean_price    Var_price  percent_qualified  \\\n",
       "count   4788.000000  4831.000000  4831.000000  4831.000000        4831.000000   \n",
       "mean       5.211863     0.247154    29.261230   211.348431         102.594269   \n",
       "std        1.227910     0.431402     4.082159   107.281626          53.903993   \n",
       "min        1.300000     0.000000    18.309167    95.470254          21.212121   \n",
       "25%        4.100000     0.000000    25.463787   170.939219          69.403086   \n",
       "50%        5.400000     0.000000    30.932676   188.915562          80.549683   \n",
       "75%        6.100000     0.000000    30.932676   195.928370          94.555336   \n",
       "max        8.500000     1.000000    35.571604   477.108098         200.000000   \n",
       "\n",
       "       yearly_sunlight_kwh_total       weight  \n",
       "count               4.831000e+03  4831.000000  \n",
       "mean                7.158605e+06  1106.759677  \n",
       "std                 1.103894e+07   904.993411  \n",
       "min                 0.000000e+00     1.000000  \n",
       "25%                 9.854517e+05   298.500000  \n",
       "50%                 3.585665e+06  1065.000000  \n",
       "75%                 8.907324e+06  1621.000000  \n",
       "max                 1.720241e+08  8674.000000  \n",
       "\n",
       "[8 rows x 45 columns]"
      ]
     },
     "execution_count": 14,
     "metadata": {},
     "output_type": "execute_result"
    }
   ],
   "source": [
    "df.describe()"
   ]
  },
  {
   "cell_type": "code",
   "execution_count": null,
   "metadata": {
    "collapsed": true
   },
   "outputs": [],
   "source": [
    "df1=df.dropna()\n",
    "y=df['Project_yes']\n",
    "weights=df['weight']\n",
    "features=df.drop(['Project_yes', 'weight','Duplicate'], axis=1)"
   ]
  },
  {
   "cell_type": "code",
   "execution_count": null,
   "metadata": {},
   "outputs": [],
   "source": [
    "features.shape"
   ]
  },
  {
   "cell_type": "code",
   "execution_count": null,
   "metadata": {
    "collapsed": true
   },
   "outputs": [],
   "source": [
    "from sklearn.metrics import make_scorer\n",
    "from sklearn.metrics import roc_curve, auc\n",
    "\n",
    "# define scoring function \n",
    "def custom_auc(ground_truth, predictions):\n",
    "    # I need only one column of predictions[\"0\" and \"1\"]. You can get an error here\n",
    "    # while trying to return both columns at once\n",
    "    fpr, tpr, _ = roc_curve(ground_truth, predictions[:, 1], pos_label=1)    \n",
    "    return auc(fpr, tpr)\n",
    "\n",
    "# to be standart sklearn's scorer        \n",
    "my_auc = make_scorer(custom_auc, greater_is_better=True, needs_proba=True)"
   ]
  },
  {
   "cell_type": "code",
   "execution_count": null,
   "metadata": {
    "collapsed": true
   },
   "outputs": [],
   "source": [
    "X_train, X_test, y_train, y_test, weights_train, weights_test = train_test_split(features, y, weights, test_size=0.3, random_state=42)"
   ]
  },
  {
   "cell_type": "code",
   "execution_count": null,
   "metadata": {
    "collapsed": true
   },
   "outputs": [],
   "source": [
    "model = GradientBoostingClassifier()\n",
    "search = GridSearchCV(model, param_grid = {'n_estimators' : [50000], 'subsample' :[0.8],\n",
    "                                           'max_depth': [2,3,4,5], 'learning_rate' : [0.001]}, \n",
    "                     scoring=my_auc, fit_params={'sample_weight': weights_train}, n_jobs=1, iid=True, refit=True, \n",
    "             cv=None, verbose=5, pre_dispatch='2*n_jobs', error_score='raise', return_train_score=True)"
   ]
  },
  {
   "cell_type": "code",
   "execution_count": null,
   "metadata": {},
   "outputs": [],
   "source": [
    "fitted = search.fit(X_train,y_train)"
   ]
  },
  {
   "cell_type": "code",
   "execution_count": null,
   "metadata": {},
   "outputs": [],
   "source": [
    "fitted.score(X_test, y_test)"
   ]
  },
  {
   "cell_type": "code",
   "execution_count": null,
   "metadata": {},
   "outputs": [],
   "source": [
    "recall_score(y_test, fitted.predict(X_test))"
   ]
  },
  {
   "cell_type": "code",
   "execution_count": null,
   "metadata": {},
   "outputs": [],
   "source": [
    "fitted.best_params_"
   ]
  },
  {
   "cell_type": "code",
   "execution_count": null,
   "metadata": {},
   "outputs": [],
   "source": [
    "# Adding results to orginal Data Frames\n",
    "df1['result']=fitted.predict_proba(features)[:,1]"
   ]
  },
  {
   "cell_type": "code",
   "execution_count": null,
   "metadata": {},
   "outputs": [],
   "source": [
    "np.mean(df1['result'])"
   ]
  },
  {
   "cell_type": "markdown",
   "metadata": {},
   "source": [
    "## ROC Curve"
   ]
  },
  {
   "cell_type": "code",
   "execution_count": null,
   "metadata": {},
   "outputs": [],
   "source": [
    "from sklearn import metrics\n",
    "# calculate the fpr and tpr for all thresholds of the classification\n",
    "probs = fitted.predict_proba(X_test)[:,1]\n",
    "fpr, tpr, threshold = metrics.roc_curve(y_test, probs)\n",
    "roc_auc = metrics.auc(fpr, tpr)\n",
    "\n",
    "# method I: plt\n",
    "import matplotlib.pyplot as plt\n",
    "fig, ax = plt.subplots(figsize=(12,12))\n",
    "ax.set_title('Receiver Operating Characteristic')\n",
    "ax.plot(fpr, tpr, 'b', label = 'AUC = %0.2f' % roc_auc)\n",
    "ax.legend(loc = 'lower right')\n",
    "ax.plot([0, 1], [0, 1],'r--')\n",
    "ax.set_xlim([0, 1])\n",
    "ax.set_ylim([0, 1])\n",
    "ax.set_ylabel('True Positive Rate')\n",
    "ax.set_xlabel('False Positive Rate')\n",
    "fig.savefig('roc_sep8.png')\n",
    "plt.show()\n"
   ]
  },
  {
   "cell_type": "markdown",
   "metadata": {},
   "source": [
    "## Feature importance"
   ]
  },
  {
   "cell_type": "code",
   "execution_count": null,
   "metadata": {
    "collapsed": true
   },
   "outputs": [],
   "source": [
    "model = GradientBoostingClassifier(learning_rate=0.001, max_depth=2, n_estimators=50000, subsample=0.5)"
   ]
  },
  {
   "cell_type": "code",
   "execution_count": null,
   "metadata": {
    "collapsed": true
   },
   "outputs": [],
   "source": [
    "fitted = model.fit(features, y, sample_weight=weights)"
   ]
  },
  {
   "cell_type": "code",
   "execution_count": null,
   "metadata": {},
   "outputs": [],
   "source": [
    "fitted.feature_importances_"
   ]
  },
  {
   "cell_type": "code",
   "execution_count": null,
   "metadata": {},
   "outputs": [],
   "source": [
    "fitted.feature_importances_\n",
    "feature_importances = 100*fitted.feature_importances_ / np.sum(fitted.feature_importances_)\n",
    "feature_importances, feature_names, feature_idxs = zip(*sorted(zip(feature_importances, list(features.columns), range(len(features.columns)))))\n",
    "\n",
    "width = 0.8\n",
    "\n",
    "idx = np.arange(len(features.columns))\n",
    "\n",
    "fig, ax = plt.subplots(figsize=(10,12))\n",
    "ax.barh(idx, feature_importances, align='center')\n",
    "plt.yticks(idx, feature_names, fontsize=8)\n",
    "\n",
    "ax.set_title(\"Feature Importances in Gradient Booster\")\n",
    "ax.set_xlabel('Relative Importance of Feature', fontsize=10)\n",
    "ax.set_ylabel('Feature Name', fontsize=14)\n",
    "fig.savefig('feat_imp_sep8.png')"
   ]
  },
  {
   "cell_type": "markdown",
   "metadata": {
    "collapsed": true
   },
   "source": [
    "## Boosting Stages"
   ]
  },
  {
   "cell_type": "code",
   "execution_count": null,
   "metadata": {
    "collapsed": true
   },
   "outputs": [],
   "source": [
    "N_ESTIMATORS =50000"
   ]
  },
  {
   "cell_type": "code",
   "execution_count": null,
   "metadata": {
    "collapsed": true
   },
   "outputs": [],
   "source": [
    "model = GradientBoostingClassifier(n_estimators=N_ESTIMATORS,max_depth=2, learning_rate=0.001, subsample=0.8)\n",
    "model.fit(X_train, y_train, sample_weight=weights_train)"
   ]
  },
  {
   "cell_type": "code",
   "execution_count": null,
   "metadata": {},
   "outputs": [],
   "source": [
    "train_score = np.zeros(N_ESTIMATORS)\n",
    "for i, y_pred in enumerate(model.staged_predict(X_train)):\n",
    "    train_score[i] = model.loss_(y_train, y_pred)\n",
    "\n",
    "test_score = np.zeros(N_ESTIMATORS)\n",
    "for i, y_pred in enumerate(model.staged_predict(X_test)):\n",
    "    test_score[i] = model.loss_(y_test, y_pred)\n",
    "\n",
    "optimal_n_trees = np.argmin(test_score)\n",
    "optimal_score = test_score[optimal_n_trees]\n",
    "\n",
    "plt.plot(np.arange(N_ESTIMATORS) + 1, train_score,\n",
    "        label=\"Training Error\")\n",
    "plt.plot(np.arange(N_ESTIMATORS) + 1, test_score,\n",
    "        label=\"Testing Error\")\n",
    "plt.title(\"Training and Hold Out Error by Boosting Stages\")\n",
    "plt.xlabel('Number of Boosting Stages', fontsize=14)\n",
    "plt.ylabel('Average Squared Error', fontsize=14)\n",
    "plt.legend(loc=\"upper right\")\n",
    "plt.ylim([1.35, 1.4])\n",
    "\n",
    "plt.savefig('training-and-testing-error.png', bbox_inches='tight')"
   ]
  },
  {
   "cell_type": "code",
   "execution_count": null,
   "metadata": {},
   "outputs": [],
   "source": [
    "model = GradientBoostingClassifier(n_estimators=9000,max_depth=2, learning_rate=0.001, subsample=0.8)\n",
    "model.fit(X_train, y_train, sample_weight=weights_train)"
   ]
  },
  {
   "cell_type": "code",
   "execution_count": null,
   "metadata": {},
   "outputs": [],
   "source": [
    "# calculate the fpr and tpr for all thresholds of the classification\n",
    "probs = model.predict_proba(X_test)[:,1]\n",
    "fpr, tpr, threshold = metrics.roc_curve(y_test, probs)\n",
    "roc_auc = metrics.auc(fpr, tpr)\n",
    "\n",
    "# method I: plt\n",
    "import matplotlib.pyplot as plt\n",
    "fig, ax = plt.subplots(figsize=(12,12))\n",
    "ax.set_title('Receiver Operating Characteristic')\n",
    "ax.plot(fpr, tpr, 'b', label = 'AUC = %0.2f' % roc_auc)\n",
    "ax.legend(loc = 'lower right')\n",
    "ax.plot([0, 1], [0, 1],'r--')\n",
    "ax.set_xlim([0, 1])\n",
    "ax.set_ylim([0, 1])\n",
    "ax.set_ylabel('True Positive Rate')\n",
    "ax.set_xlabel('False Positive Rate')\n",
    "fig.savefig('roc_sep8.png')\n",
    "plt.show()"
   ]
  },
  {
   "cell_type": "code",
   "execution_count": null,
   "metadata": {
    "collapsed": true
   },
   "outputs": [],
   "source": []
  }
 ],
 "metadata": {
  "kernelspec": {
   "display_name": "Python 2",
   "language": "python",
   "name": "python2"
  },
  "language_info": {
   "codemirror_mode": {
    "name": "ipython",
    "version": 2
   },
   "file_extension": ".py",
   "mimetype": "text/x-python",
   "name": "python",
   "nbconvert_exporter": "python",
   "pygments_lexer": "ipython2",
   "version": "2.7.13"
  }
 },
 "nbformat": 4,
 "nbformat_minor": 2
}

{
 "cells": [
  {
   "cell_type": "code",
   "execution_count": 1,
   "metadata": {
    "collapsed": true
   },
   "outputs": [],
   "source": [
    "from ast import literal_eval\n",
    "import urllib, json\n",
    "import requests\n",
    "import pandas as pd\n",
    "import matplotlib.pyplot as plt\n",
    "import numpy as np\n",
    "from sklearn.linear_model import LinearRegression\n",
    "\n",
    "\n",
    "%matplotlib inline\n"
   ]
  },
  {
   "cell_type": "markdown",
   "metadata": {},
   "source": [
    "# OPEN PV Data "
   ]
  },
  {
   "cell_type": "code",
   "execution_count": null,
   "metadata": {
    "collapsed": true
   },
   "outputs": [],
   "source": [
    "import pprint\n",
    "\n",
    "url = \"https://developer.nrel.gov/api/solar/open_pv/installs/index?api_key=ROJZYfbyM45G3pDcZiEEBCL7gvOrtlvOOz1HBhu7\"\n",
    "response = requests.get(url)\n",
    "\n",
    "print(response.text)\n",
    "\n",
    "json_dct =response.json()\n",
    "\n",
    "pprint.pprint(json_dct[\"result\"])"
   ]
  },
  {
   "cell_type": "code",
   "execution_count": null,
   "metadata": {
    "collapsed": true
   },
   "outputs": [],
   "source": [
    "pd.DataFrame(json_dct[\"result\"])"
   ]
  },
  {
   "cell_type": "code",
   "execution_count": null,
   "metadata": {
    "collapsed": true
   },
   "outputs": [],
   "source": [
    "openpv_NY = pd.read_csv('OpenPV_NY.csv')"
   ]
  },
  {
   "cell_type": "code",
   "execution_count": null,
   "metadata": {
    "collapsed": true
   },
   "outputs": [],
   "source": [
    "openpv_NY.head()"
   ]
  },
  {
   "cell_type": "code",
   "execution_count": null,
   "metadata": {
    "collapsed": true
   },
   "outputs": [],
   "source": [
    "openpv_NY.columns"
   ]
  },
  {
   "cell_type": "code",
   "execution_count": null,
   "metadata": {
    "collapsed": true
   },
   "outputs": [],
   "source": [
    "openpv_NY.describe()"
   ]
  },
  {
   "cell_type": "code",
   "execution_count": null,
   "metadata": {
    "collapsed": true
   },
   "outputs": [],
   "source": [
    "sum(openpv_NY['cost'].isnull())"
   ]
  },
  {
   "cell_type": "code",
   "execution_count": null,
   "metadata": {
    "collapsed": true
   },
   "outputs": [],
   "source": [
    "openpv_NY['date_installed'] = pd.datetools.to_datetime(openpv_NY['date_installed'])\n",
    "openpv_NY.sort_values('date_installed', axis=0, ascending=True, inplace=True, kind='quicksort', na_position='last')\n",
    "\n",
    "df = openpv_NY[openpv_NY['install_type']=='residential']\n",
    "fig, ax = plt.subplots()\n",
    "\n",
    "ax.plot(df['date_installed'], df['cost_per_watt'])"
   ]
  },
  {
   "cell_type": "code",
   "execution_count": null,
   "metadata": {
    "collapsed": true
   },
   "outputs": [],
   "source": [
    "openpv_NY['cost']= openpv_NY['cost'].convert_objects(convert_dates=False, convert_numeric=True, convert_timedeltas=True, copy=True)\n"
   ]
  },
  {
   "cell_type": "code",
   "execution_count": null,
   "metadata": {
    "collapsed": true
   },
   "outputs": [],
   "source": [
    "openpv_NY['cost'].mean()"
   ]
  },
  {
   "cell_type": "code",
   "execution_count": null,
   "metadata": {
    "collapsed": true
   },
   "outputs": [],
   "source": [
    "pd.pivot_table(openpv_NY, values=\"cost\", index='install_type', columns='type')"
   ]
  },
  {
   "cell_type": "code",
   "execution_count": null,
   "metadata": {
    "collapsed": true
   },
   "outputs": [],
   "source": [
    "openpv_NY['install_type']=openpv_NY['install_type'].str.lower()\n",
    "pd.pivot_table(openpv_NY, values=\"size_kw\", index='install_type', columns='type', aggfunc=len)"
   ]
  },
  {
   "cell_type": "code",
   "execution_count": null,
   "metadata": {
    "collapsed": true
   },
   "outputs": [],
   "source": [
    "#Avg. size of installation per use \n",
    "pd.pivot_table(openpv_NY, values=\"size_kw\", index='install_type', columns='type')"
   ]
  },
  {
   "cell_type": "code",
   "execution_count": null,
   "metadata": {
    "collapsed": true
   },
   "outputs": [],
   "source": [
    "#Cost per watt\n",
    "pd.pivot_table(openpv_NY, values=\"cost_per_watt\", index='install_type', columns='type')"
   ]
  },
  {
   "cell_type": "markdown",
   "metadata": {},
   "source": [
    "# PV Watts Data"
   ]
  },
  {
   "cell_type": "code",
   "execution_count": null,
   "metadata": {
    "collapsed": true
   },
   "outputs": [],
   "source": [
    "url_pvwatts = 'https://developer.nrel.gov/api/pvwatts/v5.json?api_key=ROJZYfbyM45G3pDcZiEEBCL7gvOrtlvOOz1HBhu7&azimuth=180'\n",
    "\n",
    "payload = \"names=2012&leap_day=false&interval=60&utc=false&full_name=Honored%2BUser&email=honored.user%40gmail.com&affiliation=NREL&mailing_list=true&reason=Academic&attributes=dhi%2Cdni%2Cwind_speed_10m_nwp%2Csurface_air_temperature_nwp&wkt=MULTIPOINT(-106.22%2032.9741%2C-106.18%2032.9741%2C-106.1%2032.9741)\"\n",
    "\n",
    "headers = {\n",
    "    'content-type': \"application/x-www-form-urlencoded\",\n",
    "    'cache-control': \"no-cache\"\n",
    "}\n",
    "\n",
    "#response = requests.request(\"POST\", url, data=payload, headers=headers)\n",
    "\n",
    "response = requests.get(url_pvwatts)\n",
    "print(response.text)"
   ]
  },
  {
   "cell_type": "markdown",
   "metadata": {},
   "source": [
    "# Energy Survey Data"
   ]
  },
  {
   "cell_type": "code",
   "execution_count": null,
   "metadata": {
    "collapsed": true
   },
   "outputs": [],
   "source": [
    "energy_survey = pd.read_csv('energyconsupmtionsurvey.csv')"
   ]
  },
  {
   "cell_type": "code",
   "execution_count": null,
   "metadata": {
    "collapsed": true
   },
   "outputs": [],
   "source": [
    "energy_survey.head()"
   ]
  },
  {
   "cell_type": "code",
   "execution_count": null,
   "metadata": {
    "collapsed": true
   },
   "outputs": [],
   "source": [
    "plt.hist(energy_survey.SOLAR)"
   ]
  },
  {
   "cell_type": "code",
   "execution_count": null,
   "metadata": {
    "collapsed": true
   },
   "outputs": [],
   "source": [
    "plt.hist(energy_survey.MONEYPY)"
   ]
  },
  {
   "cell_type": "code",
   "execution_count": null,
   "metadata": {
    "collapsed": true
   },
   "outputs": [],
   "source": [
    "#Most of solar panel users are high income\n",
    "pd.crosstab(energy_survey.SOLAR, energy_survey.MONEYPY)"
   ]
  },
  {
   "cell_type": "code",
   "execution_count": null,
   "metadata": {
    "collapsed": true
   },
   "outputs": [],
   "source": [
    "pd.crosstab(energy_survey.SOLAR, energy_survey.REGIONC)"
   ]
  },
  {
   "cell_type": "markdown",
   "metadata": {},
   "source": [
    "# NY Low-Middle Income Communities"
   ]
  },
  {
   "cell_type": "code",
   "execution_count": null,
   "metadata": {
    "collapsed": true
   },
   "outputs": [],
   "source": [
    "NY = pd.read_csv('NYLowIncome.csv')"
   ]
  },
  {
   "cell_type": "code",
   "execution_count": null,
   "metadata": {
    "collapsed": true
   },
   "outputs": [],
   "source": [
    "len(NY['TRACT INDEX'].unique())"
   ]
  },
  {
   "cell_type": "code",
   "execution_count": null,
   "metadata": {
    "collapsed": true
   },
   "outputs": [],
   "source": [
    "NY.shape"
   ]
  },
  {
   "cell_type": "code",
   "execution_count": null,
   "metadata": {
    "collapsed": true
   },
   "outputs": [],
   "source": [
    "NY.shape"
   ]
  },
  {
   "cell_type": "markdown",
   "metadata": {},
   "source": [
    "# Google Project Sunroof"
   ]
  },
  {
   "cell_type": "code",
   "execution_count": 4,
   "metadata": {},
   "outputs": [],
   "source": [
    "google_sunroof=pd.read_csv('input/project-sunroof-google-08282017.csv')"
   ]
  },
  {
   "cell_type": "code",
   "execution_count": 5,
   "metadata": {},
   "outputs": [
    {
     "data": {
      "text/html": [
       "<div>\n",
       "<style>\n",
       "    .dataframe thead tr:only-child th {\n",
       "        text-align: right;\n",
       "    }\n",
       "\n",
       "    .dataframe thead th {\n",
       "        text-align: left;\n",
       "    }\n",
       "\n",
       "    .dataframe tbody tr th {\n",
       "        vertical-align: top;\n",
       "    }\n",
       "</style>\n",
       "<table border=\"1\" class=\"dataframe\">\n",
       "  <thead>\n",
       "    <tr style=\"text-align: right;\">\n",
       "      <th></th>\n",
       "      <th>region_name</th>\n",
       "      <th>state_name</th>\n",
       "      <th>lat_max</th>\n",
       "      <th>lat_min</th>\n",
       "      <th>lng_max</th>\n",
       "      <th>lng_min</th>\n",
       "      <th>lat_avg</th>\n",
       "      <th>lng_avg</th>\n",
       "      <th>yearly_sunlight_kwh_kw_threshold_avg</th>\n",
       "      <th>count_qualified</th>\n",
       "      <th>...</th>\n",
       "      <th>yearly_sunlight_kwh_n</th>\n",
       "      <th>yearly_sunlight_kwh_s</th>\n",
       "      <th>yearly_sunlight_kwh_e</th>\n",
       "      <th>yearly_sunlight_kwh_w</th>\n",
       "      <th>yearly_sunlight_kwh_f</th>\n",
       "      <th>yearly_sunlight_kwh_median</th>\n",
       "      <th>yearly_sunlight_kwh_total</th>\n",
       "      <th>install_size_kw_buckets_json</th>\n",
       "      <th>carbon_offset_metric_tons</th>\n",
       "      <th>existing_installs_count</th>\n",
       "    </tr>\n",
       "  </thead>\n",
       "  <tbody>\n",
       "    <tr>\n",
       "      <th>0</th>\n",
       "      <td>1001020100</td>\n",
       "      <td>Alabama</td>\n",
       "      <td>32.505161</td>\n",
       "      <td>32.449730</td>\n",
       "      <td>-86.475128</td>\n",
       "      <td>-86.510422</td>\n",
       "      <td>32.477184</td>\n",
       "      <td>-86.490082</td>\n",
       "      <td>1100.750000</td>\n",
       "      <td>549</td>\n",
       "      <td>...</td>\n",
       "      <td>5.311241e+05</td>\n",
       "      <td>2.877740e+06</td>\n",
       "      <td>1.996974e+06</td>\n",
       "      <td>2.243116e+06</td>\n",
       "      <td>2.383935e+06</td>\n",
       "      <td>11629.680078</td>\n",
       "      <td>1.003289e+07</td>\n",
       "      <td>[[0,102],[5,186],[10,115],[15,62],[20,31],[25,...</td>\n",
       "      <td>5965.415459</td>\n",
       "      <td>0</td>\n",
       "    </tr>\n",
       "    <tr>\n",
       "      <th>1</th>\n",
       "      <td>1001020200</td>\n",
       "      <td>Alabama</td>\n",
       "      <td>32.489342</td>\n",
       "      <td>32.456120</td>\n",
       "      <td>-86.465378</td>\n",
       "      <td>-86.481270</td>\n",
       "      <td>32.474255</td>\n",
       "      <td>-86.473381</td>\n",
       "      <td>1100.750000</td>\n",
       "      <td>668</td>\n",
       "      <td>...</td>\n",
       "      <td>1.022209e+06</td>\n",
       "      <td>3.744571e+06</td>\n",
       "      <td>2.412537e+06</td>\n",
       "      <td>2.518632e+06</td>\n",
       "      <td>6.577281e+06</td>\n",
       "      <td>10710.713867</td>\n",
       "      <td>1.627523e+07</td>\n",
       "      <td>[[0,152],[5,225],[10,136],[15,56],[20,21],[25,...</td>\n",
       "      <td>9677.025227</td>\n",
       "      <td>0</td>\n",
       "    </tr>\n",
       "    <tr>\n",
       "      <th>2</th>\n",
       "      <td>1001020300</td>\n",
       "      <td>Alabama</td>\n",
       "      <td>32.491909</td>\n",
       "      <td>32.459209</td>\n",
       "      <td>-86.450684</td>\n",
       "      <td>-86.470871</td>\n",
       "      <td>32.475426</td>\n",
       "      <td>-86.460190</td>\n",
       "      <td>1100.750000</td>\n",
       "      <td>1034</td>\n",
       "      <td>...</td>\n",
       "      <td>1.528836e+06</td>\n",
       "      <td>5.578409e+06</td>\n",
       "      <td>2.952972e+06</td>\n",
       "      <td>3.303605e+06</td>\n",
       "      <td>7.919555e+06</td>\n",
       "      <td>10554.883093</td>\n",
       "      <td>2.128338e+07</td>\n",
       "      <td>[[0,245],[5,372],[10,231],[15,72],[20,25],[25,...</td>\n",
       "      <td>12654.799546</td>\n",
       "      <td>1</td>\n",
       "    </tr>\n",
       "    <tr>\n",
       "      <th>3</th>\n",
       "      <td>1001020400</td>\n",
       "      <td>Alabama</td>\n",
       "      <td>32.493690</td>\n",
       "      <td>32.447208</td>\n",
       "      <td>-86.432381</td>\n",
       "      <td>-86.453941</td>\n",
       "      <td>32.472000</td>\n",
       "      <td>-86.443619</td>\n",
       "      <td>1100.750000</td>\n",
       "      <td>1428</td>\n",
       "      <td>...</td>\n",
       "      <td>2.285756e+06</td>\n",
       "      <td>7.947657e+06</td>\n",
       "      <td>4.260433e+06</td>\n",
       "      <td>5.146429e+06</td>\n",
       "      <td>4.440952e+06</td>\n",
       "      <td>13055.584131</td>\n",
       "      <td>2.408123e+07</td>\n",
       "      <td>[[0,244],[5,417],[10,371],[15,211],[20,100],[2...</td>\n",
       "      <td>14318.362881</td>\n",
       "      <td>0</td>\n",
       "    </tr>\n",
       "    <tr>\n",
       "      <th>4</th>\n",
       "      <td>1001020500</td>\n",
       "      <td>Alabama</td>\n",
       "      <td>32.485748</td>\n",
       "      <td>32.424000</td>\n",
       "      <td>-86.411346</td>\n",
       "      <td>-86.438423</td>\n",
       "      <td>32.458832</td>\n",
       "      <td>-86.422661</td>\n",
       "      <td>1100.751184</td>\n",
       "      <td>3275</td>\n",
       "      <td>...</td>\n",
       "      <td>4.593113e+06</td>\n",
       "      <td>2.253283e+07</td>\n",
       "      <td>1.226113e+07</td>\n",
       "      <td>1.450706e+07</td>\n",
       "      <td>1.394497e+07</td>\n",
       "      <td>13334.037469</td>\n",
       "      <td>6.783911e+07</td>\n",
       "      <td>[[0,352],[5,1230],[10,905],[15,446],[20,120],[...</td>\n",
       "      <td>40336.188292</td>\n",
       "      <td>8</td>\n",
       "    </tr>\n",
       "  </tbody>\n",
       "</table>\n",
       "<p>5 rows × 31 columns</p>\n",
       "</div>"
      ],
      "text/plain": [
       "   region_name state_name    lat_max    lat_min    lng_max    lng_min  \\\n",
       "0   1001020100    Alabama  32.505161  32.449730 -86.475128 -86.510422   \n",
       "1   1001020200    Alabama  32.489342  32.456120 -86.465378 -86.481270   \n",
       "2   1001020300    Alabama  32.491909  32.459209 -86.450684 -86.470871   \n",
       "3   1001020400    Alabama  32.493690  32.447208 -86.432381 -86.453941   \n",
       "4   1001020500    Alabama  32.485748  32.424000 -86.411346 -86.438423   \n",
       "\n",
       "     lat_avg    lng_avg  yearly_sunlight_kwh_kw_threshold_avg  \\\n",
       "0  32.477184 -86.490082                           1100.750000   \n",
       "1  32.474255 -86.473381                           1100.750000   \n",
       "2  32.475426 -86.460190                           1100.750000   \n",
       "3  32.472000 -86.443619                           1100.750000   \n",
       "4  32.458832 -86.422661                           1100.751184   \n",
       "\n",
       "   count_qualified           ...             yearly_sunlight_kwh_n  \\\n",
       "0              549           ...                      5.311241e+05   \n",
       "1              668           ...                      1.022209e+06   \n",
       "2             1034           ...                      1.528836e+06   \n",
       "3             1428           ...                      2.285756e+06   \n",
       "4             3275           ...                      4.593113e+06   \n",
       "\n",
       "   yearly_sunlight_kwh_s  yearly_sunlight_kwh_e  yearly_sunlight_kwh_w  \\\n",
       "0           2.877740e+06           1.996974e+06           2.243116e+06   \n",
       "1           3.744571e+06           2.412537e+06           2.518632e+06   \n",
       "2           5.578409e+06           2.952972e+06           3.303605e+06   \n",
       "3           7.947657e+06           4.260433e+06           5.146429e+06   \n",
       "4           2.253283e+07           1.226113e+07           1.450706e+07   \n",
       "\n",
       "   yearly_sunlight_kwh_f  yearly_sunlight_kwh_median  \\\n",
       "0           2.383935e+06                11629.680078   \n",
       "1           6.577281e+06                10710.713867   \n",
       "2           7.919555e+06                10554.883093   \n",
       "3           4.440952e+06                13055.584131   \n",
       "4           1.394497e+07                13334.037469   \n",
       "\n",
       "   yearly_sunlight_kwh_total  \\\n",
       "0               1.003289e+07   \n",
       "1               1.627523e+07   \n",
       "2               2.128338e+07   \n",
       "3               2.408123e+07   \n",
       "4               6.783911e+07   \n",
       "\n",
       "                        install_size_kw_buckets_json  \\\n",
       "0  [[0,102],[5,186],[10,115],[15,62],[20,31],[25,...   \n",
       "1  [[0,152],[5,225],[10,136],[15,56],[20,21],[25,...   \n",
       "2  [[0,245],[5,372],[10,231],[15,72],[20,25],[25,...   \n",
       "3  [[0,244],[5,417],[10,371],[15,211],[20,100],[2...   \n",
       "4  [[0,352],[5,1230],[10,905],[15,446],[20,120],[...   \n",
       "\n",
       "   carbon_offset_metric_tons  existing_installs_count  \n",
       "0                5965.415459                        0  \n",
       "1                9677.025227                        0  \n",
       "2               12654.799546                        1  \n",
       "3               14318.362881                        0  \n",
       "4               40336.188292                        8  \n",
       "\n",
       "[5 rows x 31 columns]"
      ]
     },
     "execution_count": 5,
     "metadata": {},
     "output_type": "execute_result"
    }
   ],
   "source": [
    "google_sunroof.head()"
   ]
  },
  {
   "cell_type": "code",
   "execution_count": 7,
   "metadata": {},
   "outputs": [
    {
     "data": {
      "text/plain": [
       "(48722, 31)"
      ]
     },
     "execution_count": 7,
     "metadata": {},
     "output_type": "execute_result"
    }
   ],
   "source": [
    "google_sunroof.shape"
   ]
  },
  {
   "cell_type": "code",
   "execution_count": 11,
   "metadata": {
    "collapsed": true
   },
   "outputs": [],
   "source": [
    "google_NY = google_sunroof[google_sunroof['state_name']=='New York']"
   ]
  },
  {
   "cell_type": "code",
   "execution_count": 12,
   "metadata": {},
   "outputs": [
    {
     "data": {
      "text/plain": [
       "(3789, 31)"
      ]
     },
     "execution_count": 12,
     "metadata": {},
     "output_type": "execute_result"
    }
   ],
   "source": [
    "google_NY.shape"
   ]
  },
  {
   "cell_type": "code",
   "execution_count": 13,
   "metadata": {},
   "outputs": [
    {
     "data": {
      "text/plain": [
       "Index([u'region_name', u'state_name', u'lat_max', u'lat_min', u'lng_max',\n",
       "       u'lng_min', u'lat_avg', u'lng_avg',\n",
       "       u'yearly_sunlight_kwh_kw_threshold_avg', u'count_qualified',\n",
       "       u'percent_covered', u'percent_qualified', u'number_of_panels_n',\n",
       "       u'number_of_panels_s', u'number_of_panels_e', u'number_of_panels_w',\n",
       "       u'number_of_panels_f', u'number_of_panels_median',\n",
       "       u'number_of_panels_total', u'kw_median', u'kw_total',\n",
       "       u'yearly_sunlight_kwh_n', u'yearly_sunlight_kwh_s',\n",
       "       u'yearly_sunlight_kwh_e', u'yearly_sunlight_kwh_w',\n",
       "       u'yearly_sunlight_kwh_f', u'yearly_sunlight_kwh_median',\n",
       "       u'yearly_sunlight_kwh_total', u'install_size_kw_buckets_json',\n",
       "       u'carbon_offset_metric_tons', u'existing_installs_count'],\n",
       "      dtype='object')"
      ]
     },
     "execution_count": 13,
     "metadata": {},
     "output_type": "execute_result"
    }
   ],
   "source": [
    "google_NY.columns"
   ]
  },
  {
   "cell_type": "code",
   "execution_count": 14,
   "metadata": {},
   "outputs": [
    {
     "data": {
      "text/plain": [
       "29230    36001000100\n",
       "29231    36001000200\n",
       "29232    36001000300\n",
       "29233    36001000401\n",
       "29234    36001000403\n",
       "29235    36001000404\n",
       "29236    36001000501\n",
       "29237    36001000502\n",
       "29238    36001000600\n",
       "29239    36001000700\n",
       "29240    36001000800\n",
       "29241    36001001100\n",
       "29242    36001001400\n",
       "29243    36001001500\n",
       "29244    36001001600\n",
       "29245    36001001700\n",
       "29246    36001001801\n",
       "29247    36001001802\n",
       "29248    36001001901\n",
       "29249    36001001902\n",
       "29250    36001002000\n",
       "29251    36001002100\n",
       "29252    36001002200\n",
       "29253    36001002300\n",
       "29254    36001002500\n",
       "29255    36001002600\n",
       "29256    36001012700\n",
       "29257    36001012800\n",
       "29258    36001012900\n",
       "29259    36001013000\n",
       "            ...     \n",
       "32989    36119013800\n",
       "32990    36119013900\n",
       "32991    36119014000\n",
       "32992    36119014100\n",
       "32993    36119014200\n",
       "32994    36119014300\n",
       "32995    36119014400\n",
       "32996    36119014500\n",
       "32997    36119014604\n",
       "32998    36119014605\n",
       "32999    36119014606\n",
       "33000    36119014607\n",
       "33001    36119014701\n",
       "33002    36119014703\n",
       "33003    36119014704\n",
       "33004    36119014804\n",
       "33005    36119014805\n",
       "33006    36119014806\n",
       "33007    36119014808\n",
       "33008    36119014809\n",
       "33009    36119014810\n",
       "33010    36119014811\n",
       "33011    36119014901\n",
       "33012    36119014903\n",
       "33013    36119014907\n",
       "33014    36119014908\n",
       "33015    36119014909\n",
       "33016    36119015000\n",
       "33017    36119983000\n",
       "33018    36119984000\n",
       "Name: region_name, Length: 3789, dtype: int64"
      ]
     },
     "execution_count": 14,
     "metadata": {},
     "output_type": "execute_result"
    }
   ],
   "source": [
    "google_NY.region_name"
   ]
  },
  {
   "cell_type": "code",
   "execution_count": null,
   "metadata": {
    "collapsed": true
   },
   "outputs": [],
   "source": [
    "np.mean(google_NY['count_qualified'])"
   ]
  },
  {
   "cell_type": "code",
   "execution_count": null,
   "metadata": {
    "collapsed": true
   },
   "outputs": [],
   "source": [
    "sum(google_NY['existing_installs_count'])"
   ]
  },
  {
   "cell_type": "code",
   "execution_count": null,
   "metadata": {
    "collapsed": true
   },
   "outputs": [],
   "source": [
    "google_NY['percent_qualified'].mean()"
   ]
  },
  {
   "cell_type": "markdown",
   "metadata": {},
   "source": [
    "# NY Solar Installations"
   ]
  },
  {
   "cell_type": "code",
   "execution_count": null,
   "metadata": {
    "collapsed": true
   },
   "outputs": [],
   "source": [
    "serda_solar=pd.read_csv('Solar_Electric_Programs_Reported_by_NYSERDA__Beginning_2000.csv')"
   ]
  },
  {
   "cell_type": "code",
   "execution_count": null,
   "metadata": {
    "collapsed": true
   },
   "outputs": [],
   "source": [
    "serda_solar.shape"
   ]
  },
  {
   "cell_type": "code",
   "execution_count": null,
   "metadata": {
    "collapsed": true
   },
   "outputs": [],
   "source": [
    "serda_solar.columns = serda_solar.columns.str.replace('\\s+', '_')\n",
    "serda_solar.head().T"
   ]
  },
  {
   "cell_type": "code",
   "execution_count": null,
   "metadata": {
    "collapsed": true
   },
   "outputs": [],
   "source": [
    "serda_solar.columns"
   ]
  },
  {
   "cell_type": "code",
   "execution_count": null,
   "metadata": {
    "collapsed": true
   },
   "outputs": [],
   "source": [
    "serda_solar['Sector'].unique()"
   ]
  },
  {
   "cell_type": "code",
   "execution_count": null,
   "metadata": {
    "collapsed": true
   },
   "outputs": [],
   "source": [
    "np.mean(serda_solar['Total_Nameplate_kW_DC'])"
   ]
  },
  {
   "cell_type": "code",
   "execution_count": null,
   "metadata": {
    "collapsed": true
   },
   "outputs": [],
   "source": [
    "np.mean(serda_solar['Total_PV_Module_Quantity'])"
   ]
  },
  {
   "cell_type": "code",
   "execution_count": null,
   "metadata": {
    "collapsed": true
   },
   "outputs": [],
   "source": [
    "plt.plot(serda_solar.index, serda_solar['Total_PV_Module_Quantity'])"
   ]
  },
  {
   "cell_type": "code",
   "execution_count": null,
   "metadata": {
    "collapsed": true
   },
   "outputs": [],
   "source": [
    "serda_solar.Affordable_Solar.unique()"
   ]
  },
  {
   "cell_type": "code",
   "execution_count": null,
   "metadata": {
    "collapsed": true
   },
   "outputs": [],
   "source": [
    "sum(serda_solar.Affordable_Solar=='Yes')"
   ]
  },
  {
   "cell_type": "code",
   "execution_count": null,
   "metadata": {
    "collapsed": true
   },
   "outputs": [],
   "source": [
    "serda_solar['Project_Cost'] = serda_solar['Project_Cost'].str.replace('$', '')\n",
    "\n",
    "serda_solar['Project_Cost'] = pd.to_numeric(serda_solar['Project_Cost'])"
   ]
  },
  {
   "cell_type": "code",
   "execution_count": null,
   "metadata": {
    "collapsed": true
   },
   "outputs": [],
   "source": [
    "serda_solar['Date_Completed'] = pd.datetools.to_datetime(serda_solar['Date_Completed'])\n",
    "serda_solar.sort_values('Date_Completed', axis=0, ascending=True, inplace=True, kind='quicksort', na_position='last')\n",
    "serda_solar['Cost_per_Kw'] =serda_solar['Project_Cost']/serda_solar['Total_Nameplate_kW_DC']\n",
    "fig, ax = plt.subplots()\n",
    "\n",
    "ax.scatter(serda_solar['Total_Nameplate_kW_DC'], serda_solar['Project_Cost'])\n",
    "ax.set_xlim(0,3000)\n"
   ]
  },
  {
   "cell_type": "code",
   "execution_count": null,
   "metadata": {
    "collapsed": true
   },
   "outputs": [],
   "source": [
    "serda_solar1 = serda_solar['Location_1'].row.str.split('\\n',).tolist(), columns = ['coutny','lat_lon']"
   ]
  },
  {
   "cell_type": "code",
   "execution_count": null,
   "metadata": {
    "collapsed": true
   },
   "outputs": [],
   "source": [
    "serda_solar1 = serda_solar['Location_1'].str.split(pat='\\n', n=-1, expand=False)"
   ]
  },
  {
   "cell_type": "code",
   "execution_count": null,
   "metadata": {
    "collapsed": true
   },
   "outputs": [],
   "source": [
    "serda_solar['county'], serda_solar['lat_lon'], serda_solar['other'] = serda_solar['Location_1'].str.split(pat='\\n', n=-1, expand=False).str"
   ]
  },
  {
   "cell_type": "code",
   "execution_count": null,
   "metadata": {
    "collapsed": true
   },
   "outputs": [],
   "source": [
    "serda_solar['lat_lon']"
   ]
  },
  {
   "cell_type": "code",
   "execution_count": null,
   "metadata": {
    "collapsed": true
   },
   "outputs": [],
   "source": [
    "serda_solar['lat'], serda_solar['lon'] = serda_solar['lat_lon'].str.split(pat=', ', n=-1, expand=False).str"
   ]
  },
  {
   "cell_type": "code",
   "execution_count": null,
   "metadata": {
    "collapsed": true
   },
   "outputs": [],
   "source": [
    "serda_solar['lat'] = serda_solar['lat'].map(lambda x: str(x)[1:])\n",
    "serda_solar['lat']"
   ]
  },
  {
   "cell_type": "code",
   "execution_count": null,
   "metadata": {
    "collapsed": true
   },
   "outputs": [],
   "source": [
    "serda_solar['lon'] = serda_solar['lon'].map(lambda x: str(x)[:-1])\n",
    "serda_solar['lon']"
   ]
  },
  {
   "cell_type": "code",
   "execution_count": null,
   "metadata": {
    "collapsed": true
   },
   "outputs": [],
   "source": [
    "serda_solar.to_csv('serda_solar.csv')"
   ]
  },
  {
   "cell_type": "markdown",
   "metadata": {
    "collapsed": true
   },
   "source": [
    "# Census Data"
   ]
  },
  {
   "cell_type": "code",
   "execution_count": null,
   "metadata": {
    "collapsed": true
   },
   "outputs": [],
   "source": [
    "import fiona"
   ]
  },
  {
   "cell_type": "code",
   "execution_count": null,
   "metadata": {
    "collapsed": true
   },
   "outputs": [],
   "source": [
    "ny_tracts = fiona.open('NYShapefiles/ny_tracts10/tl_2010_36_tract10.shp')"
   ]
  },
  {
   "cell_type": "code",
   "execution_count": null,
   "metadata": {
    "collapsed": true
   },
   "outputs": [],
   "source": [
    "data.meta"
   ]
  },
  {
   "cell_type": "code",
   "execution_count": null,
   "metadata": {
    "collapsed": true
   },
   "outputs": [],
   "source": [
    "lst= ['H0100001','H0110001','H0130002', 'P0020002','P0120001', 'P0160001','P0010001','P0030001']\n",
    "var = ','.join(lst)\n",
    "url_census = 'http://api.census.gov/data/2010/sf1?get={}&for=tract:*&in=state:33&key=ff3aee5f79063ffd4c2fa0b7912d2b83f974b2f8'.format(var)\n"
   ]
  },
  {
   "cell_type": "code",
   "execution_count": null,
   "metadata": {
    "collapsed": true
   },
   "outputs": [],
   "source": [
    "response = requests.get(url_census)\n",
    "print(response.text)"
   ]
  },
  {
   "cell_type": "code",
   "execution_count": null,
   "metadata": {
    "collapsed": true
   },
   "outputs": [],
   "source": [
    "solar_tract = pd.read_csv('serda_tract.csv')"
   ]
  },
  {
   "cell_type": "code",
   "execution_count": null,
   "metadata": {
    "collapsed": true
   },
   "outputs": [],
   "source": [
    "solar_tract.head()"
   ]
  },
  {
   "cell_type": "code",
   "execution_count": null,
   "metadata": {
    "collapsed": true
   },
   "outputs": [],
   "source": [
    "solar_tract.columns"
   ]
  },
  {
   "cell_type": "code",
   "execution_count": null,
   "metadata": {
    "collapsed": true
   },
   "outputs": [],
   "source": [
    "solar_tract.describe()"
   ]
  },
  {
   "cell_type": "code",
   "execution_count": null,
   "metadata": {
    "collapsed": true
   },
   "outputs": [],
   "source": [
    "len(solar_tract.TRACTCE10.unique())"
   ]
  },
  {
   "cell_type": "code",
   "execution_count": null,
   "metadata": {
    "collapsed": true
   },
   "outputs": [],
   "source": [
    "solar_tract[solar_tract['COUNTYFP10']==1]"
   ]
  },
  {
   "cell_type": "markdown",
   "metadata": {
    "collapsed": true
   },
   "source": [
    "## American Community Survey "
   ]
  },
  {
   "cell_type": "code",
   "execution_count": 36,
   "metadata": {
    "collapsed": true
   },
   "outputs": [],
   "source": [
    "lst = ['DP03_0062E','DP03_0051E', 'DP03_0051M', 'DP03_0051PE']\n",
    "var = ','.join(lst)\n",
    "url_income = 'http://api.census.gov/data/2015/acs5/profile?get={},NAME&for=tract:*&in=state:36&key=ff3aee5f79063ffd4c2fa0b7912d2b83f974b2f8'.format(var)"
   ]
  },
  {
   "cell_type": "code",
   "execution_count": 37,
   "metadata": {},
   "outputs": [
    {
     "data": {
      "text/plain": [
       "unicode"
      ]
     },
     "execution_count": 37,
     "metadata": {},
     "output_type": "execute_result"
    }
   ],
   "source": [
    "response = requests.get(url_income)\n",
    "type(response.text)"
   ]
  },
  {
   "cell_type": "code",
   "execution_count": 38,
   "metadata": {
    "collapsed": true
   },
   "outputs": [],
   "source": [
    "request_content_list = literal_eval(response.text)"
   ]
  },
  {
   "cell_type": "code",
   "execution_count": 39,
   "metadata": {},
   "outputs": [
    {
     "data": {
      "text/html": [
       "<div>\n",
       "<style>\n",
       "    .dataframe thead tr:only-child th {\n",
       "        text-align: right;\n",
       "    }\n",
       "\n",
       "    .dataframe thead th {\n",
       "        text-align: left;\n",
       "    }\n",
       "\n",
       "    .dataframe tbody tr th {\n",
       "        vertical-align: top;\n",
       "    }\n",
       "</style>\n",
       "<table border=\"1\" class=\"dataframe\">\n",
       "  <thead>\n",
       "    <tr style=\"text-align: right;\">\n",
       "      <th></th>\n",
       "      <th>DP03_0062E</th>\n",
       "      <th>DP03_0051E</th>\n",
       "      <th>DP03_0051M</th>\n",
       "      <th>DP03_0051PE</th>\n",
       "      <th>NAME</th>\n",
       "      <th>state</th>\n",
       "      <th>county</th>\n",
       "      <th>tract</th>\n",
       "    </tr>\n",
       "  </thead>\n",
       "  <tbody>\n",
       "    <tr>\n",
       "      <th>0</th>\n",
       "      <td>25179</td>\n",
       "      <td>815</td>\n",
       "      <td>73</td>\n",
       "      <td>815</td>\n",
       "      <td>Census Tract 1, Albany County, New York</td>\n",
       "      <td>36</td>\n",
       "      <td>001</td>\n",
       "      <td>000100</td>\n",
       "    </tr>\n",
       "    <tr>\n",
       "      <th>1</th>\n",
       "      <td>26337</td>\n",
       "      <td>2006</td>\n",
       "      <td>228</td>\n",
       "      <td>2006</td>\n",
       "      <td>Census Tract 2, Albany County, New York</td>\n",
       "      <td>36</td>\n",
       "      <td>001</td>\n",
       "      <td>000200</td>\n",
       "    </tr>\n",
       "    <tr>\n",
       "      <th>2</th>\n",
       "      <td>32244</td>\n",
       "      <td>2311</td>\n",
       "      <td>156</td>\n",
       "      <td>2311</td>\n",
       "      <td>Census Tract 3, Albany County, New York</td>\n",
       "      <td>36</td>\n",
       "      <td>001</td>\n",
       "      <td>000300</td>\n",
       "    </tr>\n",
       "    <tr>\n",
       "      <th>3</th>\n",
       "      <td>72168</td>\n",
       "      <td>1037</td>\n",
       "      <td>82</td>\n",
       "      <td>1037</td>\n",
       "      <td>Census Tract 4.01, Albany County, New York</td>\n",
       "      <td>36</td>\n",
       "      <td>001</td>\n",
       "      <td>000401</td>\n",
       "    </tr>\n",
       "    <tr>\n",
       "      <th>4</th>\n",
       "      <td>52857</td>\n",
       "      <td>2300</td>\n",
       "      <td>195</td>\n",
       "      <td>2300</td>\n",
       "      <td>Census Tract 4.03, Albany County, New York</td>\n",
       "      <td>36</td>\n",
       "      <td>001</td>\n",
       "      <td>000403</td>\n",
       "    </tr>\n",
       "  </tbody>\n",
       "</table>\n",
       "</div>"
      ],
      "text/plain": [
       "  DP03_0062E DP03_0051E DP03_0051M DP03_0051PE  \\\n",
       "0      25179        815         73         815   \n",
       "1      26337       2006        228        2006   \n",
       "2      32244       2311        156        2311   \n",
       "3      72168       1037         82        1037   \n",
       "4      52857       2300        195        2300   \n",
       "\n",
       "                                         NAME state county   tract  \n",
       "0     Census Tract 1, Albany County, New York    36    001  000100  \n",
       "1     Census Tract 2, Albany County, New York    36    001  000200  \n",
       "2     Census Tract 3, Albany County, New York    36    001  000300  \n",
       "3  Census Tract 4.01, Albany County, New York    36    001  000401  \n",
       "4  Census Tract 4.03, Albany County, New York    36    001  000403  "
      ]
     },
     "execution_count": 39,
     "metadata": {},
     "output_type": "execute_result"
    }
   ],
   "source": [
    "headers = request_content_list.pop(0)\n",
    "acs_1115 = pd.DataFrame(request_content_list, columns=headers)\n",
    "acs_1115.head()"
   ]
  },
  {
   "cell_type": "code",
   "execution_count": 40,
   "metadata": {
    "collapsed": true
   },
   "outputs": [],
   "source": [
    "acs_1115[\"GEOID10\"] = acs_1115[\"state\"].map(str) + acs_1115[\"county\"].map(str) + acs_1115[\"tract\"].map(str) "
   ]
  },
  {
   "cell_type": "code",
   "execution_count": 17,
   "metadata": {},
   "outputs": [
    {
     "data": {
      "text/plain": [
       "<bound method Series.sort_values of 0       36001000100\n",
       "1       36001000200\n",
       "2       36001000300\n",
       "3       36001000401\n",
       "4       36001000403\n",
       "5       36001000404\n",
       "6       36001000501\n",
       "7       36001000502\n",
       "8       36001000600\n",
       "9       36001000700\n",
       "10      36001000800\n",
       "11      36001001100\n",
       "12      36001001400\n",
       "13      36001001500\n",
       "14      36001001600\n",
       "15      36001001700\n",
       "16      36001001801\n",
       "17      36001001802\n",
       "18      36001001901\n",
       "19      36001001902\n",
       "20      36001002000\n",
       "21      36001002100\n",
       "22      36001002200\n",
       "23      36001002300\n",
       "24      36001002500\n",
       "25      36001002600\n",
       "26      36001012700\n",
       "27      36001012800\n",
       "28      36001012900\n",
       "29      36001013000\n",
       "           ...     \n",
       "4888    36119014809\n",
       "4889    36119014810\n",
       "4890    36119014811\n",
       "4891    36119014901\n",
       "4892    36119014903\n",
       "4893    36119014907\n",
       "4894    36119014908\n",
       "4895    36119014909\n",
       "4896    36119015000\n",
       "4897    36119981000\n",
       "4898    36119982000\n",
       "4899    36119983000\n",
       "4900    36119984000\n",
       "4901    36119985000\n",
       "4902    36121970100\n",
       "4903    36121970200\n",
       "4904    36121970300\n",
       "4905    36121970400\n",
       "4906    36121970500\n",
       "4907    36121970600\n",
       "4908    36121970700\n",
       "4909    36121970800\n",
       "4910    36121970900\n",
       "4911    36121971000\n",
       "4912    36121971100\n",
       "4913    36123150100\n",
       "4914    36123150200\n",
       "4915    36123150300\n",
       "4916    36123150400\n",
       "4917    36123150500\n",
       "Name: GEOID10, Length: 4918, dtype: object>"
      ]
     },
     "execution_count": 17,
     "metadata": {},
     "output_type": "execute_result"
    }
   ],
   "source": [
    "acs_1115[\"GEOID10\"].sort_values\n"
   ]
  },
  {
   "cell_type": "code",
   "execution_count": 25,
   "metadata": {},
   "outputs": [
    {
     "data": {
      "text/plain": [
       "1"
      ]
     },
     "execution_count": 25,
     "metadata": {},
     "output_type": "execute_result"
    }
   ],
   "source": [
    "sum(acs_1115[\"GEOID10\"]=='36005021100')"
   ]
  },
  {
   "cell_type": "code",
   "execution_count": 18,
   "metadata": {},
   "outputs": [
    {
     "data": {
      "text/plain": [
       "<bound method Series.sort_values of 0        36039081102\n",
       "1        36039080201\n",
       "2        36103158104\n",
       "3        36091061800\n",
       "4        36079010900\n",
       "5        36111954400\n",
       "6        36027050203\n",
       "7        36093032402\n",
       "8        36111952900\n",
       "9        36103158112\n",
       "10       36093021800\n",
       "11       36111953700\n",
       "12       36071010300\n",
       "13       36039081102\n",
       "14       36027221100\n",
       "15       36027150004\n",
       "16       36001013902\n",
       "17       36071011102\n",
       "18       36119013700\n",
       "19       36079010500\n",
       "20       36027150005\n",
       "21       36027060400\n",
       "22       36113070701\n",
       "23       36111953700\n",
       "24       36091062503\n",
       "25       36039080300\n",
       "26       36001013507\n",
       "27       36113070701\n",
       "28       36027170000\n",
       "29       36059414800\n",
       "            ...     \n",
       "79040    36067004600\n",
       "79041    36081052600\n",
       "79042    36081084000\n",
       "79043    36085020803\n",
       "79044    36015010700\n",
       "79045    36093021800\n",
       "79046    36057070900\n",
       "79047    36081089200\n",
       "79048    36059518000\n",
       "79049    36027210101\n",
       "79050    36031960900\n",
       "79051    36083052004\n",
       "79052    36091061701\n",
       "79053    36081055200\n",
       "79054    36085017005\n",
       "79055    36085027301\n",
       "79056    36085013400\n",
       "79057    36119014701\n",
       "79058    36091061701\n",
       "79059    36035970600\n",
       "79060    36027190204\n",
       "79061    36005021100\n",
       "79062    36119008200\n",
       "79063    36111953900\n",
       "79064    36119001504\n",
       "79065    36005021100\n",
       "79066    36067016700\n",
       "79067    36119014701\n",
       "79068    36081048200\n",
       "79069    36083052003\n",
       "Name: GEOID10, Length: 79070, dtype: int64>"
      ]
     },
     "execution_count": 18,
     "metadata": {},
     "output_type": "execute_result"
    }
   ],
   "source": [
    "solar_instal[\"GEOID10\"].sort_values"
   ]
  },
  {
   "cell_type": "code",
   "execution_count": 7,
   "metadata": {
    "collapsed": true
   },
   "outputs": [],
   "source": [
    "solar_instal = pd.read_csv('serda_tract.csv')"
   ]
  },
  {
   "cell_type": "code",
   "execution_count": 8,
   "metadata": {
    "collapsed": true
   },
   "outputs": [],
   "source": [
    "merged=solar_instal.merge(acs_1115, left_on='GEOID10', right_on='GEOID10', how='left')"
   ]
  },
  {
   "cell_type": "code",
   "execution_count": 41,
   "metadata": {
    "collapsed": true
   },
   "outputs": [],
   "source": [
    "result = pd.concat([solar_instal, acs_1115], axis=1)"
   ]
  },
  {
   "cell_type": "code",
   "execution_count": 42,
   "metadata": {},
   "outputs": [
    {
     "data": {
      "text/html": [
       "<div>\n",
       "<style>\n",
       "    .dataframe thead tr:only-child th {\n",
       "        text-align: right;\n",
       "    }\n",
       "\n",
       "    .dataframe thead th {\n",
       "        text-align: left;\n",
       "    }\n",
       "\n",
       "    .dataframe tbody tr th {\n",
       "        vertical-align: top;\n",
       "    }\n",
       "</style>\n",
       "<table border=\"1\" class=\"dataframe\">\n",
       "  <thead>\n",
       "    <tr style=\"text-align: right;\">\n",
       "      <th></th>\n",
       "      <th>X</th>\n",
       "      <th>Y</th>\n",
       "      <th>Index</th>\n",
       "      <th>Reporting_Period</th>\n",
       "      <th>Project_Number</th>\n",
       "      <th>City</th>\n",
       "      <th>County</th>\n",
       "      <th>State</th>\n",
       "      <th>Zip_Code</th>\n",
       "      <th>Sector</th>\n",
       "      <th>...</th>\n",
       "      <th>INTPTLON10</th>\n",
       "      <th>DP03_0062E</th>\n",
       "      <th>DP03_0051E</th>\n",
       "      <th>DP03_0051M</th>\n",
       "      <th>DP03_0051PE</th>\n",
       "      <th>NAME</th>\n",
       "      <th>state</th>\n",
       "      <th>county</th>\n",
       "      <th>tract</th>\n",
       "      <th>GEOID10</th>\n",
       "    </tr>\n",
       "  </thead>\n",
       "  <tbody>\n",
       "    <tr>\n",
       "      <th>0</th>\n",
       "      <td>-73.914148</td>\n",
       "      <td>42.225955</td>\n",
       "      <td>0</td>\n",
       "      <td>7/31/17</td>\n",
       "      <td>4704-46572</td>\n",
       "      <td>Catskill</td>\n",
       "      <td>Greene</td>\n",
       "      <td>NY</td>\n",
       "      <td>12414</td>\n",
       "      <td>Residential</td>\n",
       "      <td>...</td>\n",
       "      <td>-73.916360</td>\n",
       "      <td>25179</td>\n",
       "      <td>815</td>\n",
       "      <td>73</td>\n",
       "      <td>815</td>\n",
       "      <td>Census Tract 1, Albany County, New York</td>\n",
       "      <td>36</td>\n",
       "      <td>001</td>\n",
       "      <td>000100</td>\n",
       "      <td>36001000100</td>\n",
       "    </tr>\n",
       "    <tr>\n",
       "      <th>1</th>\n",
       "      <td>-74.031420</td>\n",
       "      <td>42.426414</td>\n",
       "      <td>1</td>\n",
       "      <td>7/31/17</td>\n",
       "      <td>4704-42684</td>\n",
       "      <td>Greenville</td>\n",
       "      <td>Greene</td>\n",
       "      <td>NY</td>\n",
       "      <td>12083</td>\n",
       "      <td>Residential</td>\n",
       "      <td>...</td>\n",
       "      <td>-74.014683</td>\n",
       "      <td>26337</td>\n",
       "      <td>2006</td>\n",
       "      <td>228</td>\n",
       "      <td>2006</td>\n",
       "      <td>Census Tract 2, Albany County, New York</td>\n",
       "      <td>36</td>\n",
       "      <td>001</td>\n",
       "      <td>000200</td>\n",
       "      <td>36001000200</td>\n",
       "    </tr>\n",
       "    <tr>\n",
       "      <th>2</th>\n",
       "      <td>-73.081448</td>\n",
       "      <td>40.871411</td>\n",
       "      <td>2</td>\n",
       "      <td>7/31/17</td>\n",
       "      <td>4704-45656</td>\n",
       "      <td>Centereach</td>\n",
       "      <td>Suffolk</td>\n",
       "      <td>NY</td>\n",
       "      <td>11720</td>\n",
       "      <td>Residential</td>\n",
       "      <td>...</td>\n",
       "      <td>-73.080949</td>\n",
       "      <td>32244</td>\n",
       "      <td>2311</td>\n",
       "      <td>156</td>\n",
       "      <td>2311</td>\n",
       "      <td>Census Tract 3, Albany County, New York</td>\n",
       "      <td>36</td>\n",
       "      <td>001</td>\n",
       "      <td>000300</td>\n",
       "      <td>36001000300</td>\n",
       "    </tr>\n",
       "    <tr>\n",
       "      <th>3</th>\n",
       "      <td>-73.854217</td>\n",
       "      <td>43.004269</td>\n",
       "      <td>3</td>\n",
       "      <td>7/31/17</td>\n",
       "      <td>4704-44415</td>\n",
       "      <td>Ballston Spa</td>\n",
       "      <td>Saratoga</td>\n",
       "      <td>NY</td>\n",
       "      <td>12020</td>\n",
       "      <td>Residential</td>\n",
       "      <td>...</td>\n",
       "      <td>-73.854458</td>\n",
       "      <td>72168</td>\n",
       "      <td>1037</td>\n",
       "      <td>82</td>\n",
       "      <td>1037</td>\n",
       "      <td>Census Tract 4.01, Albany County, New York</td>\n",
       "      <td>36</td>\n",
       "      <td>001</td>\n",
       "      <td>000401</td>\n",
       "      <td>36001000401</td>\n",
       "    </tr>\n",
       "    <tr>\n",
       "      <th>4</th>\n",
       "      <td>-73.836873</td>\n",
       "      <td>41.385975</td>\n",
       "      <td>4</td>\n",
       "      <td>7/31/17</td>\n",
       "      <td>4704-46152</td>\n",
       "      <td>Putnam Valley</td>\n",
       "      <td>Putnam</td>\n",
       "      <td>NY</td>\n",
       "      <td>10579</td>\n",
       "      <td>Residential</td>\n",
       "      <td>...</td>\n",
       "      <td>-73.862046</td>\n",
       "      <td>52857</td>\n",
       "      <td>2300</td>\n",
       "      <td>195</td>\n",
       "      <td>2300</td>\n",
       "      <td>Census Tract 4.03, Albany County, New York</td>\n",
       "      <td>36</td>\n",
       "      <td>001</td>\n",
       "      <td>000403</td>\n",
       "      <td>36001000403</td>\n",
       "    </tr>\n",
       "  </tbody>\n",
       "</table>\n",
       "<p>5 rows × 61 columns</p>\n",
       "</div>"
      ],
      "text/plain": [
       "           X          Y  Index Reporting_Period Project_Number           City  \\\n",
       "0 -73.914148  42.225955      0          7/31/17     4704-46572       Catskill   \n",
       "1 -74.031420  42.426414      1          7/31/17     4704-42684     Greenville   \n",
       "2 -73.081448  40.871411      2          7/31/17     4704-45656     Centereach   \n",
       "3 -73.854217  43.004269      3          7/31/17     4704-44415   Ballston Spa   \n",
       "4 -73.836873  41.385975      4          7/31/17     4704-46152  Putnam Valley   \n",
       "\n",
       "     County State  Zip_Code       Sector     ...      INTPTLON10 DP03_0062E  \\\n",
       "0    Greene    NY     12414  Residential     ...      -73.916360      25179   \n",
       "1    Greene    NY     12083  Residential     ...      -74.014683      26337   \n",
       "2   Suffolk    NY     11720  Residential     ...      -73.080949      32244   \n",
       "3  Saratoga    NY     12020  Residential     ...      -73.854458      72168   \n",
       "4    Putnam    NY     10579  Residential     ...      -73.862046      52857   \n",
       "\n",
       "  DP03_0051E DP03_0051M DP03_0051PE  \\\n",
       "0        815         73         815   \n",
       "1       2006        228        2006   \n",
       "2       2311        156        2311   \n",
       "3       1037         82        1037   \n",
       "4       2300        195        2300   \n",
       "\n",
       "                                         NAME state county   tract  \\\n",
       "0     Census Tract 1, Albany County, New York    36    001  000100   \n",
       "1     Census Tract 2, Albany County, New York    36    001  000200   \n",
       "2     Census Tract 3, Albany County, New York    36    001  000300   \n",
       "3  Census Tract 4.01, Albany County, New York    36    001  000401   \n",
       "4  Census Tract 4.03, Albany County, New York    36    001  000403   \n",
       "\n",
       "       GEOID10  \n",
       "0  36001000100  \n",
       "1  36001000200  \n",
       "2  36001000300  \n",
       "3  36001000401  \n",
       "4  36001000403  \n",
       "\n",
       "[5 rows x 61 columns]"
      ]
     },
     "execution_count": 42,
     "metadata": {},
     "output_type": "execute_result"
    }
   ],
   "source": [
    "result.head()"
   ]
  },
  {
   "cell_type": "code",
   "execution_count": 54,
   "metadata": {},
   "outputs": [
    {
     "data": {
      "text/plain": [
       "(0, 50)"
      ]
     },
     "execution_count": 54,
     "metadata": {},
     "output_type": "execute_result"
    },
    {
     "data": {
      "image/png": "[encoded data removed]",
      "text/plain": [
       "<matplotlib.figure.Figure at 0x10f96d050>"
      ]
     },
     "metadata": {},
     "output_type": "display_data"
    }
   ],
   "source": [
    "plt.scatter(result['DP03_0062E'], result['Total_Nameplate_kW_DC'],alpha=0.7)\n",
    "plt.ylim(0,50)"
   ]
  },
  {
   "cell_type": "code",
   "execution_count": 160,
   "metadata": {},
   "outputs": [
    {
     "data": {
      "text/plain": [
       "(79070, 60)"
      ]
     },
     "execution_count": 160,
     "metadata": {},
     "output_type": "execute_result"
    }
   ],
   "source": [
    "merged.shape"
   ]
  },
  {
   "cell_type": "code",
   "execution_count": 162,
   "metadata": {},
   "outputs": [
    {
     "data": {
      "text/plain": [
       "(4918, 8)"
      ]
     },
     "execution_count": 162,
     "metadata": {},
     "output_type": "execute_result"
    }
   ],
   "source": [
    "acs_1115.shape"
   ]
  },
  {
   "cell_type": "code",
   "execution_count": 163,
   "metadata": {},
   "outputs": [
    {
     "data": {
      "text/plain": [
       "(79070, 53)"
      ]
     },
     "execution_count": 163,
     "metadata": {},
     "output_type": "execute_result"
    }
   ],
   "source": [
    "solar_instal.shape"
   ]
  },
  {
   "cell_type": "code",
   "execution_count": 154,
   "metadata": {
    "collapsed": true
   },
   "outputs": [],
   "source": []
  },
  {
   "cell_type": "code",
   "execution_count": 156,
   "metadata": {},
   "outputs": [
    {
     "data": {
      "text/plain": [
       "0    36001000100\n",
       "1    36001000200\n",
       "2    36001000300\n",
       "3    36001000401\n",
       "4    36001000403\n",
       "Name: GEOID10, dtype: object"
      ]
     },
     "execution_count": 156,
     "metadata": {},
     "output_type": "execute_result"
    }
   ],
   "source": [
    "acs_1115[\"GEOID10\"].head()"
   ]
  },
  {
   "cell_type": "code",
   "execution_count": 158,
   "metadata": {},
   "outputs": [
    {
     "data": {
      "text/plain": [
       "0    36039081102\n",
       "1    36039080201\n",
       "2    36103158104\n",
       "3    36091061800\n",
       "4    36079010900\n",
       "Name: GEOID10, dtype: int64"
      ]
     },
     "execution_count": 158,
     "metadata": {},
     "output_type": "execute_result"
    }
   ],
   "source": [
    "solar_instal[\"GEOID10\"].head()"
   ]
  },
  {
   "cell_type": "code",
   "execution_count": 51,
   "metadata": {
    "collapsed": true
   },
   "outputs": [],
   "source": [
    "result['DP03_0062E'] = pd.to_numeric(result['DP03_0062E'], errors='coerce', downcast='float')"
   ]
  },
  {
   "cell_type": "code",
   "execution_count": 146,
   "metadata": {},
   "outputs": [
    {
     "data": {
      "text/plain": [
       "017005    1030\n",
       "027301     931\n",
       "000800     799\n",
       "011400     746\n",
       "013400     689\n",
       "124001     648\n",
       "122902     642\n",
       "112102     557\n",
       "147200     555\n",
       "020803     544\n",
       "408900     526\n",
       "521000     510\n",
       "010300     486\n",
       "014202     480\n",
       "145604     479\n",
       "014604     466\n",
       "159102     438\n",
       "950100     433\n",
       "408200     432\n",
       "190204     423\n",
       "001600     402\n",
       "080201     401\n",
       "416600     400\n",
       "122601     397\n",
       "146613     395\n",
       "002000     395\n",
       "052004     394\n",
       "414800     392\n",
       "158104     392\n",
       "158608     387\n",
       "          ... \n",
       "099900       2\n",
       "492400       2\n",
       "962100       2\n",
       "080104       2\n",
       "190800       1\n",
       "022800       1\n",
       "024101       1\n",
       "021402       1\n",
       "013101       1\n",
       "023801       1\n",
       "029103       1\n",
       "962000       1\n",
       "962700       1\n",
       "014208       1\n",
       "980100       1\n",
       "035700       1\n",
       "490400       1\n",
       "070500       1\n",
       "011903       1\n",
       "519300       1\n",
       "015300       1\n",
       "025003       1\n",
       "009000       1\n",
       "410000       1\n",
       "124500       1\n",
       "016500       1\n",
       "021600       1\n",
       "590600       1\n",
       "014806       1\n",
       "160003       1\n",
       "Name: tract, Length: 918, dtype: int64"
      ]
     },
     "execution_count": 146,
     "metadata": {},
     "output_type": "execute_result"
    }
   ],
   "source": [
    "solar_instal.tract.value_counts()"
   ]
  },
  {
   "cell_type": "code",
   "execution_count": null,
   "metadata": {
    "collapsed": true
   },
   "outputs": [],
   "source": [
    "for i in solar_instal['GEOID10']:\n",
    "    for j in acs_1115['GEOID10']:\n",
    "        if j==i:\n",
    "            print i"
   ]
  },
  {
   "cell_type": "code",
   "execution_count": null,
   "metadata": {
    "collapsed": true
   },
   "outputs": [],
   "source": [
    "acs_1115['DP03_0051E'].head()"
   ]
  },
  {
   "cell_type": "code",
   "execution_count": 56,
   "metadata": {
    "collapsed": true
   },
   "outputs": [],
   "source": [
    "model = LinearRegression()"
   ]
  },
  {
   "cell_type": "code",
   "execution_count": 105,
   "metadata": {},
   "outputs": [
    {
     "data": {
      "text/html": [
       "<div>\n",
       "<style>\n",
       "    .dataframe thead tr:only-child th {\n",
       "        text-align: right;\n",
       "    }\n",
       "\n",
       "    .dataframe thead th {\n",
       "        text-align: left;\n",
       "    }\n",
       "\n",
       "    .dataframe tbody tr th {\n",
       "        vertical-align: top;\n",
       "    }\n",
       "</style>\n",
       "<table border=\"1\" class=\"dataframe\">\n",
       "  <thead>\n",
       "    <tr style=\"text-align: right;\">\n",
       "      <th></th>\n",
       "      <th>DP03_0062E</th>\n",
       "      <th>Total_Nameplate_kW_DC</th>\n",
       "    </tr>\n",
       "  </thead>\n",
       "  <tbody>\n",
       "    <tr>\n",
       "      <th>0</th>\n",
       "      <td>25179.0</td>\n",
       "      <td>5.10</td>\n",
       "    </tr>\n",
       "    <tr>\n",
       "      <th>1</th>\n",
       "      <td>26337.0</td>\n",
       "      <td>10.50</td>\n",
       "    </tr>\n",
       "    <tr>\n",
       "      <th>2</th>\n",
       "      <td>32244.0</td>\n",
       "      <td>8.00</td>\n",
       "    </tr>\n",
       "    <tr>\n",
       "      <th>3</th>\n",
       "      <td>72168.0</td>\n",
       "      <td>3.57</td>\n",
       "    </tr>\n",
       "    <tr>\n",
       "      <th>4</th>\n",
       "      <td>52857.0</td>\n",
       "      <td>5.50</td>\n",
       "    </tr>\n",
       "  </tbody>\n",
       "</table>\n",
       "</div>"
      ],
      "text/plain": [
       "   DP03_0062E  Total_Nameplate_kW_DC\n",
       "0     25179.0                   5.10\n",
       "1     26337.0                  10.50\n",
       "2     32244.0                   8.00\n",
       "3     72168.0                   3.57\n",
       "4     52857.0                   5.50"
      ]
     },
     "execution_count": 105,
     "metadata": {},
     "output_type": "execute_result"
    }
   ],
   "source": [
    "temp = result[['DP03_0062E', 'Total_Nameplate_kW_DC']]\n",
    "temp.head()"
   ]
  },
  {
   "cell_type": "code",
   "execution_count": 106,
   "metadata": {
    "collapsed": true
   },
   "outputs": [],
   "source": [
    "result1 = temp.dropna(axis=0, how='any')"
   ]
  },
  {
   "cell_type": "code",
   "execution_count": 75,
   "metadata": {},
   "outputs": [
    {
     "data": {
      "text/plain": [
       "(4918, 2)"
      ]
     },
     "execution_count": 75,
     "metadata": {},
     "output_type": "execute_result"
    }
   ],
   "source": [
    "result1.shape"
   ]
  },
  {
   "cell_type": "code",
   "execution_count": 76,
   "metadata": {},
   "outputs": [
    {
     "data": {
      "text/plain": [
       "7.745433102887338"
      ]
     },
     "execution_count": 76,
     "metadata": {},
     "output_type": "execute_result"
    }
   ],
   "source": [
    "np.mean(result1['Total_Nameplate_kW_DC'])"
   ]
  },
  {
   "cell_type": "code",
   "execution_count": 107,
   "metadata": {},
   "outputs": [
    {
     "name": "stderr",
     "output_type": "stream",
     "text": [
      "/Users/mariamendieta/anaconda2/lib/python2.7/site-packages/ipykernel_launcher.py:1: SettingWithCopyWarning: \n",
      "A value is trying to be set on a copy of a slice from a DataFrame.\n",
      "Try using .loc[row_indexer,col_indexer] = value instead\n",
      "\n",
      "See the caveats in the documentation: http://pandas.pydata.org/pandas-docs/stable/indexing.html#indexing-view-versus-copy\n",
      "  \"\"\"Entry point for launching an IPython kernel.\n"
     ]
    }
   ],
   "source": [
    "result1['DP03_0062E'] = pd.to_numeric(result1['DP03_0062E'], errors='coerce', downcast='float')"
   ]
  },
  {
   "cell_type": "code",
   "execution_count": 108,
   "metadata": {},
   "outputs": [
    {
     "data": {
      "text/plain": [
       "dtype('float32')"
      ]
     },
     "execution_count": 108,
     "metadata": {},
     "output_type": "execute_result"
    }
   ],
   "source": [
    "result1['DP03_0062E'].dtype"
   ]
  },
  {
   "cell_type": "code",
   "execution_count": 109,
   "metadata": {},
   "outputs": [
    {
     "name": "stderr",
     "output_type": "stream",
     "text": [
      "/Users/mariamendieta/anaconda2/lib/python2.7/site-packages/ipykernel_launcher.py:1: FutureWarning: reshape is deprecated and will raise in a subsequent release. Please use .values.reshape(...) instead\n",
      "  \"\"\"Entry point for launching an IPython kernel.\n"
     ]
    }
   ],
   "source": [
    "X = result1['DP03_0062E'].reshape(-1, 1)"
   ]
  },
  {
   "cell_type": "code",
   "execution_count": 110,
   "metadata": {},
   "outputs": [
    {
     "name": "stderr",
     "output_type": "stream",
     "text": [
      "/Users/mariamendieta/anaconda2/lib/python2.7/site-packages/ipykernel_launcher.py:1: FutureWarning: reshape is deprecated and will raise in a subsequent release. Please use .values.reshape(...) instead\n",
      "  \"\"\"Entry point for launching an IPython kernel.\n"
     ]
    }
   ],
   "source": [
    "y = result1['Total_Nameplate_kW_DC'].reshape(-1, 1)"
   ]
  },
  {
   "cell_type": "code",
   "execution_count": 111,
   "metadata": {
    "collapsed": true
   },
   "outputs": [],
   "source": [
    "fitted = model.fit(X, y)"
   ]
  },
  {
   "cell_type": "code",
   "execution_count": 115,
   "metadata": {},
   "outputs": [
    {
     "data": {
      "text/plain": [
       "3.4042594236893819e-06"
      ]
     },
     "execution_count": 115,
     "metadata": {},
     "output_type": "execute_result"
    }
   ],
   "source": [
    "model.score(X,y)"
   ]
  },
  {
   "cell_type": "code",
   "execution_count": 169,
   "metadata": {},
   "outputs": [
    {
     "data": {
      "text/plain": [
       "<bound method Series.unique of 0       36001000100\n",
       "1       36001000200\n",
       "2       36001000300\n",
       "3       36001000401\n",
       "4       36001000403\n",
       "5       36001000404\n",
       "6       36001000501\n",
       "7       36001000502\n",
       "8       36001000600\n",
       "9       36001000700\n",
       "10      36001000800\n",
       "11      36001001100\n",
       "12      36001001400\n",
       "13      36001001500\n",
       "14      36001001600\n",
       "15      36001001700\n",
       "16      36001001801\n",
       "17      36001001802\n",
       "18      36001001901\n",
       "19      36001001902\n",
       "20      36001002000\n",
       "21      36001002100\n",
       "22      36001002200\n",
       "23      36001002300\n",
       "24      36001002500\n",
       "25      36001002600\n",
       "26      36001012700\n",
       "27      36001012800\n",
       "28      36001012900\n",
       "29      36001013000\n",
       "           ...     \n",
       "4888    36119014809\n",
       "4889    36119014810\n",
       "4890    36119014811\n",
       "4891    36119014901\n",
       "4892    36119014903\n",
       "4893    36119014907\n",
       "4894    36119014908\n",
       "4895    36119014909\n",
       "4896    36119015000\n",
       "4897    36119981000\n",
       "4898    36119982000\n",
       "4899    36119983000\n",
       "4900    36119984000\n",
       "4901    36119985000\n",
       "4902    36121970100\n",
       "4903    36121970200\n",
       "4904    36121970300\n",
       "4905    36121970400\n",
       "4906    36121970500\n",
       "4907    36121970600\n",
       "4908    36121970700\n",
       "4909    36121970800\n",
       "4910    36121970900\n",
       "4911    36121971000\n",
       "4912    36121971100\n",
       "4913    36123150100\n",
       "4914    36123150200\n",
       "4915    36123150300\n",
       "4916    36123150400\n",
       "4917    36123150500\n",
       "Name: GEOID10, Length: 4918, dtype: object>"
      ]
     },
     "execution_count": 169,
     "metadata": {},
     "output_type": "execute_result"
    }
   ],
   "source": [
    "(acs_1115.GEOID10.unique)"
   ]
  },
  {
   "cell_type": "code",
   "execution_count": 111,
   "metadata": {},
   "outputs": [
    {
     "data": {
      "text/plain": [
       "<bound method Series.isnull of 0          4704-46572\n",
       "1          4704-42684\n",
       "2          4704-42684\n",
       "3          4704-45656\n",
       "4          4704-44415\n",
       "5          4704-44415\n",
       "6          4704-44415\n",
       "7          4704-46152\n",
       "8          4704-46152\n",
       "9          4704-46152\n",
       "10         4704-46152\n",
       "11         4704-46152\n",
       "12         4704-46473\n",
       "13         4704-43944\n",
       "14         4704-42781\n",
       "15         4704-46571\n",
       "16         4704-45932\n",
       "17         4704-42179\n",
       "18         4704-42179\n",
       "19         4704-42179\n",
       "20         4704-42179\n",
       "21         4704-42179\n",
       "22         4704-42567\n",
       "23         4704-43949\n",
       "24         4704-43949\n",
       "25         4704-43949\n",
       "26         4704-43949\n",
       "27         4704-43949\n",
       "28         4704-43949\n",
       "29         4704-43949\n",
       "             ...     \n",
       "208712    5397-100564\n",
       "208713    5397-100564\n",
       "208714    5373-102236\n",
       "208715     5407-88817\n",
       "208716     5407-88817\n",
       "208717     5407-88817\n",
       "208718     5407-88817\n",
       "208719     5407-88817\n",
       "208720    5425-102755\n",
       "208721    5425-102755\n",
       "208722    5425-102755\n",
       "208723    5425-102755\n",
       "208724    5425-102642\n",
       "208725     5388-88146\n",
       "208726     5407-88815\n",
       "208727     5407-88815\n",
       "208728     5407-88815\n",
       "208729     5407-88815\n",
       "208730     5407-88815\n",
       "208731     5352-83966\n",
       "208732     5352-83966\n",
       "208733     5352-83966\n",
       "208734     5352-83966\n",
       "208735     5352-83966\n",
       "208736    5438-101462\n",
       "208737    5438-101462\n",
       "208738    5438-101462\n",
       "208739     5400-93895\n",
       "208740     5400-93895\n",
       "208741     5377-97130\n",
       "Name: Project_Number, Length: 208742, dtype: object>"
      ]
     },
     "execution_count": 111,
     "metadata": {},
     "output_type": "execute_result"
    }
   ],
   "source": []
  }
 ],
 "metadata": {
  "kernelspec": {
   "display_name": "Python 2",
   "language": "python",
   "name": "python2"
  },
  "language_info": {
   "codemirror_mode": {
    "name": "ipython",
    "version": 2
   },
   "file_extension": ".py",
   "mimetype": "text/x-python",
   "name": "python",
   "nbconvert_exporter": "python",
   "pygments_lexer": "ipython2",
   "version": "2.7.13"
  }
 },
 "nbformat": 4,
 "nbformat_minor": 2
}

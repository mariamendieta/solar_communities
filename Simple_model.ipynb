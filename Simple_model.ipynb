{
 "cells": [
  {
   "cell_type": "code",
   "execution_count": 1,
   "metadata": {
    "collapsed": true
   },
   "outputs": [],
   "source": [
    "import pandas as pd\n",
    "import matplotlib.pyplot as plt\n",
    "import numpy as np\n",
    "import sys\n",
    "sys.path.insert(0,'src/')\n",
    "import acs5\n",
    "import nyserda_acs\n",
    "import prices\n",
    "import project_sunroof\n",
    "import nyserda\n",
    "from sklearn.model_selection import GridSearchCV\n",
    "from sklearn.ensemble import GradientBoostingClassifier\n",
    "from sklearn.model_selection import train_test_split\n",
    "from sklearn.preprocessing import Imputer\n",
    "from sklearn.metrics import recall_score\n",
    "\n",
    "\n",
    "\n",
    "\n",
    "%matplotlib inline"
   ]
  },
  {
   "cell_type": "code",
   "execution_count": 2,
   "metadata": {
    "collapsed": true
   },
   "outputs": [],
   "source": [
    "raw_data = nyserda_acs.merging_data()\n",
    "raw_data=raw_data[raw_data['households']>0]"
   ]
  },
  {
   "cell_type": "code",
   "execution_count": 3,
   "metadata": {},
   "outputs": [
    {
     "data": {
      "text/plain": [
       "(4831, 157)"
      ]
     },
     "execution_count": 3,
     "metadata": {},
     "output_type": "execute_result"
    }
   ],
   "source": [
    "raw_data.shape"
   ]
  },
  {
   "cell_type": "markdown",
   "metadata": {},
   "source": [
    "## Weights"
   ]
  },
  {
   "cell_type": "code",
   "execution_count": 4,
   "metadata": {},
   "outputs": [
    {
     "name": "stderr",
     "output_type": "stream",
     "text": [
      "/Users/mariamendieta/anaconda2/lib/python2.7/site-packages/pandas/core/indexing.py:517: SettingWithCopyWarning: \n",
      "A value is trying to be set on a copy of a slice from a DataFrame.\n",
      "Try using .loc[row_indexer,col_indexer] = value instead\n",
      "\n",
      "See the caveats in the documentation: http://pandas.pydata.org/pandas-docs/stable/indexing.html#indexing-view-versus-copy\n",
      "  self.obj[item] = s\n",
      "/Users/mariamendieta/anaconda2/lib/python2.7/site-packages/pandas/core/indexing.py:337: SettingWithCopyWarning: \n",
      "A value is trying to be set on a copy of a slice from a DataFrame.\n",
      "Try using .loc[row_indexer,col_indexer] = value instead\n",
      "\n",
      "See the caveats in the documentation: http://pandas.pydata.org/pandas-docs/stable/indexing.html#indexing-view-versus-copy\n",
      "  self.obj[key] = _infer_fill_value(value)\n"
     ]
    }
   ],
   "source": [
    "#Duplicate positive rows\n",
    "duplic = raw_data.loc[raw_data['Project_yes']==1,:]\n",
    "duplic.loc[:,'Project_yes'] =0\n",
    "duplic.loc[:,'Duplicate'] = 'Yes'\n",
    "duplic.loc[:,'weight'] = (duplic.loc[:,'households']-duplic.loc[:,'Project_Number'])\n",
    "duplic=duplic[duplic['weight']>0]\n",
    "#Creating weights in old data\n",
    "raw_data.loc[raw_data['Project_yes'] == 1, 'weight'] = raw_data['Project_Number']\n",
    "raw_data.loc[raw_data['Project_yes'] == 0, 'weight'] = raw_data['households']\n",
    "raw_data['Duplicate']='No'\n",
    "#Merging data \n",
    "#Concatenating\n",
    "all_data = raw_data.append(duplic, ignore_index=True)"
   ]
  },
  {
   "cell_type": "code",
   "execution_count": 5,
   "metadata": {},
   "outputs": [
    {
     "data": {
      "text/plain": [
       "(6022, 159)"
      ]
     },
     "execution_count": 5,
     "metadata": {},
     "output_type": "execute_result"
    }
   ],
   "source": [
    "all_data.shape"
   ]
  },
  {
   "cell_type": "code",
   "execution_count": 6,
   "metadata": {},
   "outputs": [
    {
     "data": {
      "text/plain": [
       "7262279L"
      ]
     },
     "execution_count": 6,
     "metadata": {},
     "output_type": "execute_result"
    }
   ],
   "source": [
    "raw_data['households'].sum(axis=None, skipna=True, level=None, numeric_only=None)"
   ]
  },
  {
   "cell_type": "code",
   "execution_count": 7,
   "metadata": {},
   "outputs": [
    {
     "data": {
      "text/plain": [
       "0.010750482045649858"
      ]
     },
     "execution_count": 7,
     "metadata": {},
     "output_type": "execute_result"
    }
   ],
   "source": [
    "raw_data['Project_Number'].sum(axis=None, skipna=True, level=None, numeric_only=None)/raw_data['households'].sum(axis=None, skipna=True, level=None, numeric_only=None)"
   ]
  },
  {
   "cell_type": "markdown",
   "metadata": {},
   "source": [
    "## Columns"
   ]
  },
  {
   "cell_type": "code",
   "execution_count": 6,
   "metadata": {
    "collapsed": true
   },
   "outputs": [],
   "source": [
    "acs_percent_variables = ['Percent_Less_9th','Percent_more_than_hs', 'Percent_1_unit','Avg_hh_size',\n",
    "                'Percent_hh_w_children', 'Percent_10+_units', 'Percent_Heating_electricity',\n",
    "                'yearly_sunlight_kwh_total'  , 'Percent_6_rooms', 'percent_qualified',\n",
    "                'Project_yes','weight','Duplicate']"
   ]
  },
  {
   "cell_type": "markdown",
   "metadata": {},
   "source": [
    "## Simple model"
   ]
  },
  {
   "cell_type": "code",
   "execution_count": 7,
   "metadata": {},
   "outputs": [
    {
     "data": {
      "text/html": [
       "<div>\n",
       "<style>\n",
       "    .dataframe thead tr:only-child th {\n",
       "        text-align: right;\n",
       "    }\n",
       "\n",
       "    .dataframe thead th {\n",
       "        text-align: left;\n",
       "    }\n",
       "\n",
       "    .dataframe tbody tr th {\n",
       "        vertical-align: top;\n",
       "    }\n",
       "</style>\n",
       "<table border=\"1\" class=\"dataframe\">\n",
       "  <thead>\n",
       "    <tr style=\"text-align: right;\">\n",
       "      <th></th>\n",
       "      <th>Percent_Less_9th</th>\n",
       "      <th>Percent_more_than_hs</th>\n",
       "      <th>Percent_1_unit</th>\n",
       "      <th>Avg_hh_size</th>\n",
       "      <th>Percent_hh_w_children</th>\n",
       "      <th>Percent_10+_units</th>\n",
       "      <th>Percent_Heating_electricity</th>\n",
       "      <th>yearly_sunlight_kwh_total</th>\n",
       "      <th>Percent_6_rooms</th>\n",
       "      <th>percent_qualified</th>\n",
       "      <th>Project_yes</th>\n",
       "      <th>weight</th>\n",
       "    </tr>\n",
       "  </thead>\n",
       "  <tbody>\n",
       "    <tr>\n",
       "      <th>count</th>\n",
       "      <td>6022.000000</td>\n",
       "      <td>6022.000000</td>\n",
       "      <td>6022.000000</td>\n",
       "      <td>6016.000000</td>\n",
       "      <td>6022.000000</td>\n",
       "      <td>6022.000000</td>\n",
       "      <td>6022.000000</td>\n",
       "      <td>4.334000e+03</td>\n",
       "      <td>6022.000000</td>\n",
       "      <td>4334.000000</td>\n",
       "      <td>6022.000000</td>\n",
       "      <td>6022.000000</td>\n",
       "    </tr>\n",
       "    <tr>\n",
       "      <th>mean</th>\n",
       "      <td>0.061967</td>\n",
       "      <td>0.580089</td>\n",
       "      <td>0.519272</td>\n",
       "      <td>2.691910</td>\n",
       "      <td>0.284319</td>\n",
       "      <td>0.207292</td>\n",
       "      <td>0.097257</td>\n",
       "      <td>9.921398e+06</td>\n",
       "      <td>0.160951</td>\n",
       "      <td>73.957591</td>\n",
       "      <td>0.198273</td>\n",
       "      <td>1205.975590</td>\n",
       "    </tr>\n",
       "    <tr>\n",
       "      <th>std</th>\n",
       "      <td>0.063333</td>\n",
       "      <td>0.160649</td>\n",
       "      <td>0.329400</td>\n",
       "      <td>0.531699</td>\n",
       "      <td>0.096968</td>\n",
       "      <td>0.292366</td>\n",
       "      <td>0.099723</td>\n",
       "      <td>1.233842e+07</td>\n",
       "      <td>0.086711</td>\n",
       "      <td>13.109499</td>\n",
       "      <td>0.398732</td>\n",
       "      <td>908.509944</td>\n",
       "    </tr>\n",
       "    <tr>\n",
       "      <th>min</th>\n",
       "      <td>0.000000</td>\n",
       "      <td>0.000000</td>\n",
       "      <td>0.000000</td>\n",
       "      <td>1.030000</td>\n",
       "      <td>0.000000</td>\n",
       "      <td>0.000000</td>\n",
       "      <td>0.000000</td>\n",
       "      <td>2.178341e+03</td>\n",
       "      <td>0.000000</td>\n",
       "      <td>21.212121</td>\n",
       "      <td>0.000000</td>\n",
       "      <td>1.000000</td>\n",
       "    </tr>\n",
       "    <tr>\n",
       "      <th>25%</th>\n",
       "      <td>0.019415</td>\n",
       "      <td>0.462997</td>\n",
       "      <td>0.177321</td>\n",
       "      <td>2.350000</td>\n",
       "      <td>0.226530</td>\n",
       "      <td>0.009474</td>\n",
       "      <td>0.035761</td>\n",
       "      <td>3.022043e+06</td>\n",
       "      <td>0.094095</td>\n",
       "      <td>66.166192</td>\n",
       "      <td>0.000000</td>\n",
       "      <td>575.000000</td>\n",
       "    </tr>\n",
       "    <tr>\n",
       "      <th>50%</th>\n",
       "      <td>0.038274</td>\n",
       "      <td>0.572390</td>\n",
       "      <td>0.608207</td>\n",
       "      <td>2.610000</td>\n",
       "      <td>0.280668</td>\n",
       "      <td>0.059813</td>\n",
       "      <td>0.067727</td>\n",
       "      <td>5.319199e+06</td>\n",
       "      <td>0.166377</td>\n",
       "      <td>75.756407</td>\n",
       "      <td>0.000000</td>\n",
       "      <td>1176.500000</td>\n",
       "    </tr>\n",
       "    <tr>\n",
       "      <th>75%</th>\n",
       "      <td>0.082944</td>\n",
       "      <td>0.688009</td>\n",
       "      <td>0.805185</td>\n",
       "      <td>2.980000</td>\n",
       "      <td>0.341275</td>\n",
       "      <td>0.266650</td>\n",
       "      <td>0.121480</td>\n",
       "      <td>1.294382e+07</td>\n",
       "      <td>0.217519</td>\n",
       "      <td>83.435121</td>\n",
       "      <td>0.000000</td>\n",
       "      <td>1717.750000</td>\n",
       "    </tr>\n",
       "    <tr>\n",
       "      <th>max</th>\n",
       "      <td>0.445956</td>\n",
       "      <td>1.000000</td>\n",
       "      <td>1.000000</td>\n",
       "      <td>6.270000</td>\n",
       "      <td>1.000000</td>\n",
       "      <td>1.000000</td>\n",
       "      <td>1.000000</td>\n",
       "      <td>1.720241e+08</td>\n",
       "      <td>1.000000</td>\n",
       "      <td>100.000000</td>\n",
       "      <td>1.000000</td>\n",
       "      <td>12305.000000</td>\n",
       "    </tr>\n",
       "  </tbody>\n",
       "</table>\n",
       "</div>"
      ],
      "text/plain": [
       "       Percent_Less_9th  Percent_more_than_hs  Percent_1_unit  Avg_hh_size  \\\n",
       "count       6022.000000           6022.000000     6022.000000  6016.000000   \n",
       "mean           0.061967              0.580089        0.519272     2.691910   \n",
       "std            0.063333              0.160649        0.329400     0.531699   \n",
       "min            0.000000              0.000000        0.000000     1.030000   \n",
       "25%            0.019415              0.462997        0.177321     2.350000   \n",
       "50%            0.038274              0.572390        0.608207     2.610000   \n",
       "75%            0.082944              0.688009        0.805185     2.980000   \n",
       "max            0.445956              1.000000        1.000000     6.270000   \n",
       "\n",
       "       Percent_hh_w_children  Percent_10+_units  Percent_Heating_electricity  \\\n",
       "count            6022.000000        6022.000000                  6022.000000   \n",
       "mean                0.284319           0.207292                     0.097257   \n",
       "std                 0.096968           0.292366                     0.099723   \n",
       "min                 0.000000           0.000000                     0.000000   \n",
       "25%                 0.226530           0.009474                     0.035761   \n",
       "50%                 0.280668           0.059813                     0.067727   \n",
       "75%                 0.341275           0.266650                     0.121480   \n",
       "max                 1.000000           1.000000                     1.000000   \n",
       "\n",
       "       yearly_sunlight_kwh_total  Percent_6_rooms  percent_qualified  \\\n",
       "count               4.334000e+03      6022.000000        4334.000000   \n",
       "mean                9.921398e+06         0.160951          73.957591   \n",
       "std                 1.233842e+07         0.086711          13.109499   \n",
       "min                 2.178341e+03         0.000000          21.212121   \n",
       "25%                 3.022043e+06         0.094095          66.166192   \n",
       "50%                 5.319199e+06         0.166377          75.756407   \n",
       "75%                 1.294382e+07         0.217519          83.435121   \n",
       "max                 1.720241e+08         1.000000         100.000000   \n",
       "\n",
       "       Project_yes        weight  \n",
       "count  6022.000000   6022.000000  \n",
       "mean      0.198273   1205.975590  \n",
       "std       0.398732    908.509944  \n",
       "min       0.000000      1.000000  \n",
       "25%       0.000000    575.000000  \n",
       "50%       0.000000   1176.500000  \n",
       "75%       0.000000   1717.750000  \n",
       "max       1.000000  12305.000000  "
      ]
     },
     "execution_count": 7,
     "metadata": {},
     "output_type": "execute_result"
    }
   ],
   "source": [
    "df=all_data[acs_percent_variables]\n",
    "df.describe()"
   ]
  },
  {
   "cell_type": "code",
   "execution_count": 8,
   "metadata": {},
   "outputs": [
    {
     "data": {
      "text/plain": [
       "(6022, 13)"
      ]
     },
     "execution_count": 8,
     "metadata": {},
     "output_type": "execute_result"
    }
   ],
   "source": [
    "df.shape"
   ]
  },
  {
   "cell_type": "code",
   "execution_count": 9,
   "metadata": {
    "collapsed": true
   },
   "outputs": [],
   "source": [
    "# Imputing missing values\n",
    "df.loc[df['yearly_sunlight_kwh_total'].isnull(), 'yearly_sunlight_kwh_total'] = 0\n",
    "df.loc[df['percent_qualified'].isnull(), 'percent_qualified'] = 200\n",
    "df.loc[df['Avg_hh_size'].isnull(), 'Avg_hh_size']=np.mean(df.Avg_hh_size)"
   ]
  },
  {
   "cell_type": "code",
   "execution_count": 10,
   "metadata": {},
   "outputs": [
    {
     "data": {
      "text/html": [
       "<div>\n",
       "<style>\n",
       "    .dataframe thead tr:only-child th {\n",
       "        text-align: right;\n",
       "    }\n",
       "\n",
       "    .dataframe thead th {\n",
       "        text-align: left;\n",
       "    }\n",
       "\n",
       "    .dataframe tbody tr th {\n",
       "        vertical-align: top;\n",
       "    }\n",
       "</style>\n",
       "<table border=\"1\" class=\"dataframe\">\n",
       "  <thead>\n",
       "    <tr style=\"text-align: right;\">\n",
       "      <th></th>\n",
       "      <th>Percent_Less_9th</th>\n",
       "      <th>Percent_more_than_hs</th>\n",
       "      <th>Percent_1_unit</th>\n",
       "      <th>Avg_hh_size</th>\n",
       "      <th>Percent_hh_w_children</th>\n",
       "      <th>Percent_10+_units</th>\n",
       "      <th>Percent_Heating_electricity</th>\n",
       "      <th>yearly_sunlight_kwh_total</th>\n",
       "      <th>Percent_6_rooms</th>\n",
       "      <th>percent_qualified</th>\n",
       "      <th>Project_yes</th>\n",
       "      <th>weight</th>\n",
       "    </tr>\n",
       "  </thead>\n",
       "  <tbody>\n",
       "    <tr>\n",
       "      <th>count</th>\n",
       "      <td>6022.000000</td>\n",
       "      <td>6022.000000</td>\n",
       "      <td>6022.000000</td>\n",
       "      <td>6022.000000</td>\n",
       "      <td>6022.000000</td>\n",
       "      <td>6022.000000</td>\n",
       "      <td>6022.000000</td>\n",
       "      <td>6.022000e+03</td>\n",
       "      <td>6022.000000</td>\n",
       "      <td>6022.000000</td>\n",
       "      <td>6022.000000</td>\n",
       "      <td>6022.000000</td>\n",
       "    </tr>\n",
       "    <tr>\n",
       "      <th>mean</th>\n",
       "      <td>0.061967</td>\n",
       "      <td>0.580089</td>\n",
       "      <td>0.519272</td>\n",
       "      <td>2.691910</td>\n",
       "      <td>0.284319</td>\n",
       "      <td>0.207292</td>\n",
       "      <td>0.097257</td>\n",
       "      <td>7.140375e+06</td>\n",
       "      <td>0.160951</td>\n",
       "      <td>109.287977</td>\n",
       "      <td>0.198273</td>\n",
       "      <td>1205.975590</td>\n",
       "    </tr>\n",
       "    <tr>\n",
       "      <th>std</th>\n",
       "      <td>0.063333</td>\n",
       "      <td>0.160649</td>\n",
       "      <td>0.329400</td>\n",
       "      <td>0.531434</td>\n",
       "      <td>0.096968</td>\n",
       "      <td>0.292366</td>\n",
       "      <td>0.099723</td>\n",
       "      <td>1.137619e+07</td>\n",
       "      <td>0.086711</td>\n",
       "      <td>57.698362</td>\n",
       "      <td>0.398732</td>\n",
       "      <td>908.509944</td>\n",
       "    </tr>\n",
       "    <tr>\n",
       "      <th>min</th>\n",
       "      <td>0.000000</td>\n",
       "      <td>0.000000</td>\n",
       "      <td>0.000000</td>\n",
       "      <td>1.030000</td>\n",
       "      <td>0.000000</td>\n",
       "      <td>0.000000</td>\n",
       "      <td>0.000000</td>\n",
       "      <td>0.000000e+00</td>\n",
       "      <td>0.000000</td>\n",
       "      <td>21.212121</td>\n",
       "      <td>0.000000</td>\n",
       "      <td>1.000000</td>\n",
       "    </tr>\n",
       "    <tr>\n",
       "      <th>25%</th>\n",
       "      <td>0.019415</td>\n",
       "      <td>0.462997</td>\n",
       "      <td>0.177321</td>\n",
       "      <td>2.350000</td>\n",
       "      <td>0.226530</td>\n",
       "      <td>0.009474</td>\n",
       "      <td>0.035761</td>\n",
       "      <td>0.000000e+00</td>\n",
       "      <td>0.094095</td>\n",
       "      <td>70.092198</td>\n",
       "      <td>0.000000</td>\n",
       "      <td>575.000000</td>\n",
       "    </tr>\n",
       "    <tr>\n",
       "      <th>50%</th>\n",
       "      <td>0.038274</td>\n",
       "      <td>0.572390</td>\n",
       "      <td>0.608207</td>\n",
       "      <td>2.610000</td>\n",
       "      <td>0.280668</td>\n",
       "      <td>0.059813</td>\n",
       "      <td>0.067727</td>\n",
       "      <td>3.374421e+06</td>\n",
       "      <td>0.166377</td>\n",
       "      <td>81.747944</td>\n",
       "      <td>0.000000</td>\n",
       "      <td>1176.500000</td>\n",
       "    </tr>\n",
       "    <tr>\n",
       "      <th>75%</th>\n",
       "      <td>0.082944</td>\n",
       "      <td>0.688009</td>\n",
       "      <td>0.805185</td>\n",
       "      <td>2.980000</td>\n",
       "      <td>0.341275</td>\n",
       "      <td>0.266650</td>\n",
       "      <td>0.121480</td>\n",
       "      <td>8.996928e+06</td>\n",
       "      <td>0.217519</td>\n",
       "      <td>200.000000</td>\n",
       "      <td>0.000000</td>\n",
       "      <td>1717.750000</td>\n",
       "    </tr>\n",
       "    <tr>\n",
       "      <th>max</th>\n",
       "      <td>0.445956</td>\n",
       "      <td>1.000000</td>\n",
       "      <td>1.000000</td>\n",
       "      <td>6.270000</td>\n",
       "      <td>1.000000</td>\n",
       "      <td>1.000000</td>\n",
       "      <td>1.000000</td>\n",
       "      <td>1.720241e+08</td>\n",
       "      <td>1.000000</td>\n",
       "      <td>200.000000</td>\n",
       "      <td>1.000000</td>\n",
       "      <td>12305.000000</td>\n",
       "    </tr>\n",
       "  </tbody>\n",
       "</table>\n",
       "</div>"
      ],
      "text/plain": [
       "       Percent_Less_9th  Percent_more_than_hs  Percent_1_unit  Avg_hh_size  \\\n",
       "count       6022.000000           6022.000000     6022.000000  6022.000000   \n",
       "mean           0.061967              0.580089        0.519272     2.691910   \n",
       "std            0.063333              0.160649        0.329400     0.531434   \n",
       "min            0.000000              0.000000        0.000000     1.030000   \n",
       "25%            0.019415              0.462997        0.177321     2.350000   \n",
       "50%            0.038274              0.572390        0.608207     2.610000   \n",
       "75%            0.082944              0.688009        0.805185     2.980000   \n",
       "max            0.445956              1.000000        1.000000     6.270000   \n",
       "\n",
       "       Percent_hh_w_children  Percent_10+_units  Percent_Heating_electricity  \\\n",
       "count            6022.000000        6022.000000                  6022.000000   \n",
       "mean                0.284319           0.207292                     0.097257   \n",
       "std                 0.096968           0.292366                     0.099723   \n",
       "min                 0.000000           0.000000                     0.000000   \n",
       "25%                 0.226530           0.009474                     0.035761   \n",
       "50%                 0.280668           0.059813                     0.067727   \n",
       "75%                 0.341275           0.266650                     0.121480   \n",
       "max                 1.000000           1.000000                     1.000000   \n",
       "\n",
       "       yearly_sunlight_kwh_total  Percent_6_rooms  percent_qualified  \\\n",
       "count               6.022000e+03      6022.000000        6022.000000   \n",
       "mean                7.140375e+06         0.160951         109.287977   \n",
       "std                 1.137619e+07         0.086711          57.698362   \n",
       "min                 0.000000e+00         0.000000          21.212121   \n",
       "25%                 0.000000e+00         0.094095          70.092198   \n",
       "50%                 3.374421e+06         0.166377          81.747944   \n",
       "75%                 8.996928e+06         0.217519         200.000000   \n",
       "max                 1.720241e+08         1.000000         200.000000   \n",
       "\n",
       "       Project_yes        weight  \n",
       "count  6022.000000   6022.000000  \n",
       "mean      0.198273   1205.975590  \n",
       "std       0.398732    908.509944  \n",
       "min       0.000000      1.000000  \n",
       "25%       0.000000    575.000000  \n",
       "50%       0.000000   1176.500000  \n",
       "75%       0.000000   1717.750000  \n",
       "max       1.000000  12305.000000  "
      ]
     },
     "execution_count": 10,
     "metadata": {},
     "output_type": "execute_result"
    }
   ],
   "source": [
    "df.describe()"
   ]
  },
  {
   "cell_type": "code",
   "execution_count": 11,
   "metadata": {
    "collapsed": true
   },
   "outputs": [],
   "source": [
    "y=df['Project_yes']\n",
    "weights=df['weight']\n",
    "features=df.drop(['Project_yes', 'weight','Duplicate'], axis=1)\n"
   ]
  },
  {
   "cell_type": "code",
   "execution_count": 12,
   "metadata": {},
   "outputs": [
    {
     "data": {
      "text/plain": [
       "(6022, 10)"
      ]
     },
     "execution_count": 12,
     "metadata": {},
     "output_type": "execute_result"
    }
   ],
   "source": [
    "features.shape"
   ]
  },
  {
   "cell_type": "markdown",
   "metadata": {},
   "source": [
    "## My score - AUC"
   ]
  },
  {
   "cell_type": "code",
   "execution_count": 13,
   "metadata": {
    "collapsed": true
   },
   "outputs": [],
   "source": [
    "from sklearn.metrics import make_scorer\n",
    "from sklearn.metrics import roc_curve, auc\n",
    "\n",
    "# define scoring function \n",
    "def custom_auc(ground_truth, predictions):\n",
    "    # I need only one column of predictions[\"0\" and \"1\"]. You can get an error here\n",
    "    # while trying to return both columns at once\n",
    "    fpr, tpr, _ = roc_curve(ground_truth, predictions[:, 1], pos_label=1)    \n",
    "    return auc(fpr, tpr)\n",
    "\n",
    "# to be standart sklearn's scorer        \n",
    "my_auc = make_scorer(custom_auc, greater_is_better=True, needs_proba=True)"
   ]
  },
  {
   "cell_type": "code",
   "execution_count": 14,
   "metadata": {
    "collapsed": true
   },
   "outputs": [],
   "source": [
    "X_train, X_test, y_train, y_test, weights_train, weights_test = train_test_split(features, y, weights, test_size=0.3, random_state=42)"
   ]
  },
  {
   "cell_type": "code",
   "execution_count": 15,
   "metadata": {
    "collapsed": true
   },
   "outputs": [],
   "source": [
    "model = GradientBoostingClassifier()\n",
    "search = GridSearchCV(model, param_grid = {'n_estimators' : [500, 1000, 2000], 'subsample' :[0.5,0.8],\n",
    "                                           'max_depth': [2,3,4,5], 'learning_rate' : [0.1, 0.01, 0.001]}, \n",
    "                      scoring=my_auc, fit_params={'sample_weight': weights_train}, n_jobs=1, iid=True, refit=True, \n",
    "             cv=None, verbose=5, pre_dispatch='2*n_jobs', error_score='raise', return_train_score=True)"
   ]
  },
  {
   "cell_type": "code",
   "execution_count": 16,
   "metadata": {},
   "outputs": [
    {
     "name": "stdout",
     "output_type": "stream",
     "text": [
      "Fitting 3 folds for each of 72 candidates, totalling 216 fits\n",
      "[CV] n_estimators=500, subsample=0.5, learning_rate=0.1, max_depth=2 .\n",
      "[CV]  n_estimators=500, subsample=0.5, learning_rate=0.1, max_depth=2, score=0.604473, total=   1.1s\n",
      "[CV] n_estimators=500, subsample=0.5, learning_rate=0.1, max_depth=2 .\n"
     ]
    },
    {
     "name": "stderr",
     "output_type": "stream",
     "text": [
      "[Parallel(n_jobs=1)]: Done   1 out of   1 | elapsed:    1.2s remaining:    0.0s\n"
     ]
    },
    {
     "name": "stdout",
     "output_type": "stream",
     "text": [
      "[CV]  n_estimators=500, subsample=0.5, learning_rate=0.1, max_depth=2, score=0.580610, total=   1.1s\n",
      "[CV] n_estimators=500, subsample=0.5, learning_rate=0.1, max_depth=2 .\n"
     ]
    },
    {
     "name": "stderr",
     "output_type": "stream",
     "text": [
      "[Parallel(n_jobs=1)]: Done   2 out of   2 | elapsed:    2.3s remaining:    0.0s\n"
     ]
    },
    {
     "name": "stdout",
     "output_type": "stream",
     "text": [
      "[CV]  n_estimators=500, subsample=0.5, learning_rate=0.1, max_depth=2, score=0.570397, total=   1.1s\n",
      "[CV] n_estimators=500, subsample=0.8, learning_rate=0.1, max_depth=2 .\n"
     ]
    },
    {
     "name": "stderr",
     "output_type": "stream",
     "text": [
      "[Parallel(n_jobs=1)]: Done   3 out of   3 | elapsed:    3.4s remaining:    0.0s\n"
     ]
    },
    {
     "name": "stdout",
     "output_type": "stream",
     "text": [
      "[CV]  n_estimators=500, subsample=0.8, learning_rate=0.1, max_depth=2, score=0.604975, total=   1.3s\n",
      "[CV] n_estimators=500, subsample=0.8, learning_rate=0.1, max_depth=2 .\n"
     ]
    },
    {
     "name": "stderr",
     "output_type": "stream",
     "text": [
      "[Parallel(n_jobs=1)]: Done   4 out of   4 | elapsed:    4.8s remaining:    0.0s\n"
     ]
    },
    {
     "name": "stdout",
     "output_type": "stream",
     "text": [
      "[CV]  n_estimators=500, subsample=0.8, learning_rate=0.1, max_depth=2, score=0.595495, total=   1.3s\n",
      "[CV] n_estimators=500, subsample=0.8, learning_rate=0.1, max_depth=2 .\n",
      "[CV]  n_estimators=500, subsample=0.8, learning_rate=0.1, max_depth=2, score=0.554070, total=   1.2s\n",
      "[CV] n_estimators=1000, subsample=0.5, learning_rate=0.1, max_depth=2 \n",
      "[CV]  n_estimators=1000, subsample=0.5, learning_rate=0.1, max_depth=2, score=0.587241, total=   2.3s\n",
      "[CV] n_estimators=1000, subsample=0.5, learning_rate=0.1, max_depth=2 \n",
      "[CV]  n_estimators=1000, subsample=0.5, learning_rate=0.1, max_depth=2, score=0.563561, total=   2.5s\n",
      "[CV] n_estimators=1000, subsample=0.5, learning_rate=0.1, max_depth=2 \n",
      "[CV]  n_estimators=1000, subsample=0.5, learning_rate=0.1, max_depth=2, score=0.564727, total=   2.4s\n",
      "[CV] n_estimators=1000, subsample=0.8, learning_rate=0.1, max_depth=2 \n",
      "[CV]  n_estimators=1000, subsample=0.8, learning_rate=0.1, max_depth=2, score=0.581459, total=   2.5s\n",
      "[CV] n_estimators=1000, subsample=0.8, learning_rate=0.1, max_depth=2 \n",
      "[CV]  n_estimators=1000, subsample=0.8, learning_rate=0.1, max_depth=2, score=0.561975, total=   2.5s\n",
      "[CV] n_estimators=1000, subsample=0.8, learning_rate=0.1, max_depth=2 \n",
      "[CV]  n_estimators=1000, subsample=0.8, learning_rate=0.1, max_depth=2, score=0.620654, total=   2.6s\n",
      "[CV] n_estimators=2000, subsample=0.5, learning_rate=0.1, max_depth=2 \n",
      "[CV]  n_estimators=2000, subsample=0.5, learning_rate=0.1, max_depth=2, score=0.588094, total=   4.5s\n",
      "[CV] n_estimators=2000, subsample=0.5, learning_rate=0.1, max_depth=2 \n",
      "[CV]  n_estimators=2000, subsample=0.5, learning_rate=0.1, max_depth=2, score=0.600314, total=   4.4s\n",
      "[CV] n_estimators=2000, subsample=0.5, learning_rate=0.1, max_depth=2 \n",
      "[CV]  n_estimators=2000, subsample=0.5, learning_rate=0.1, max_depth=2, score=0.589945, total=   4.5s\n",
      "[CV] n_estimators=2000, subsample=0.8, learning_rate=0.1, max_depth=2 \n",
      "[CV]  n_estimators=2000, subsample=0.8, learning_rate=0.1, max_depth=2, score=0.521870, total=   5.1s\n",
      "[CV] n_estimators=2000, subsample=0.8, learning_rate=0.1, max_depth=2 \n",
      "[CV]  n_estimators=2000, subsample=0.8, learning_rate=0.1, max_depth=2, score=0.581619, total=   6.1s\n",
      "[CV] n_estimators=2000, subsample=0.8, learning_rate=0.1, max_depth=2 \n",
      "[CV]  n_estimators=2000, subsample=0.8, learning_rate=0.1, max_depth=2, score=0.599550, total=   5.8s\n",
      "[CV] n_estimators=500, subsample=0.5, learning_rate=0.1, max_depth=3 .\n",
      "[CV]  n_estimators=500, subsample=0.5, learning_rate=0.1, max_depth=3, score=0.586775, total=   1.8s\n",
      "[CV] n_estimators=500, subsample=0.5, learning_rate=0.1, max_depth=3 .\n",
      "[CV]  n_estimators=500, subsample=0.5, learning_rate=0.1, max_depth=3, score=0.544713, total=   2.2s\n",
      "[CV] n_estimators=500, subsample=0.5, learning_rate=0.1, max_depth=3 .\n",
      "[CV]  n_estimators=500, subsample=0.5, learning_rate=0.1, max_depth=3, score=0.580829, total=   1.9s\n",
      "[CV] n_estimators=500, subsample=0.8, learning_rate=0.1, max_depth=3 .\n",
      "[CV]  n_estimators=500, subsample=0.8, learning_rate=0.1, max_depth=3, score=0.556652, total=   2.5s\n",
      "[CV] n_estimators=500, subsample=0.8, learning_rate=0.1, max_depth=3 .\n",
      "[CV]  n_estimators=500, subsample=0.8, learning_rate=0.1, max_depth=3, score=0.564262, total=   2.8s\n",
      "[CV] n_estimators=500, subsample=0.8, learning_rate=0.1, max_depth=3 .\n",
      "[CV]  n_estimators=500, subsample=0.8, learning_rate=0.1, max_depth=3, score=0.581358, total=   2.3s\n",
      "[CV] n_estimators=1000, subsample=0.5, learning_rate=0.1, max_depth=3 \n",
      "[CV]  n_estimators=1000, subsample=0.5, learning_rate=0.1, max_depth=3, score=0.565165, total=   3.5s\n",
      "[CV] n_estimators=1000, subsample=0.5, learning_rate=0.1, max_depth=3 \n",
      "[CV]  n_estimators=1000, subsample=0.5, learning_rate=0.1, max_depth=3, score=0.590294, total=   3.6s\n",
      "[CV] n_estimators=1000, subsample=0.5, learning_rate=0.1, max_depth=3 \n",
      "[CV]  n_estimators=1000, subsample=0.5, learning_rate=0.1, max_depth=3, score=0.561145, total=   3.3s\n",
      "[CV] n_estimators=1000, subsample=0.8, learning_rate=0.1, max_depth=3 \n",
      "[CV]  n_estimators=1000, subsample=0.8, learning_rate=0.1, max_depth=3, score=0.581821, total=   3.4s\n",
      "[CV] n_estimators=1000, subsample=0.8, learning_rate=0.1, max_depth=3 \n",
      "[CV]  n_estimators=1000, subsample=0.8, learning_rate=0.1, max_depth=3, score=0.552969, total=   3.5s\n",
      "[CV] n_estimators=1000, subsample=0.8, learning_rate=0.1, max_depth=3 \n",
      "[CV]  n_estimators=1000, subsample=0.8, learning_rate=0.1, max_depth=3, score=0.611642, total=   3.6s\n",
      "[CV] n_estimators=2000, subsample=0.5, learning_rate=0.1, max_depth=3 \n",
      "[CV]  n_estimators=2000, subsample=0.5, learning_rate=0.1, max_depth=3, score=0.590104, total=   6.1s\n",
      "[CV] n_estimators=2000, subsample=0.5, learning_rate=0.1, max_depth=3 \n",
      "[CV]  n_estimators=2000, subsample=0.5, learning_rate=0.1, max_depth=3, score=0.593130, total=   6.1s\n",
      "[CV] n_estimators=2000, subsample=0.5, learning_rate=0.1, max_depth=3 \n",
      "[CV]  n_estimators=2000, subsample=0.5, learning_rate=0.1, max_depth=3, score=0.573936, total=   6.2s\n",
      "[CV] n_estimators=2000, subsample=0.8, learning_rate=0.1, max_depth=3 \n",
      "[CV]  n_estimators=2000, subsample=0.8, learning_rate=0.1, max_depth=3, score=0.588621, total=   6.2s\n",
      "[CV] n_estimators=2000, subsample=0.8, learning_rate=0.1, max_depth=3 \n",
      "[CV]  n_estimators=2000, subsample=0.8, learning_rate=0.1, max_depth=3, score=0.519616, total=   6.2s\n",
      "[CV] n_estimators=2000, subsample=0.8, learning_rate=0.1, max_depth=3 \n",
      "[CV]  n_estimators=2000, subsample=0.8, learning_rate=0.1, max_depth=3, score=0.557769, total=   6.1s\n",
      "[CV] n_estimators=500, subsample=0.5, learning_rate=0.1, max_depth=4 .\n",
      "[CV]  n_estimators=500, subsample=0.5, learning_rate=0.1, max_depth=4, score=0.578761, total=   1.8s\n",
      "[CV] n_estimators=500, subsample=0.5, learning_rate=0.1, max_depth=4 .\n",
      "[CV]  n_estimators=500, subsample=0.5, learning_rate=0.1, max_depth=4, score=0.583351, total=   1.8s\n",
      "[CV] n_estimators=500, subsample=0.5, learning_rate=0.1, max_depth=4 .\n",
      "[CV]  n_estimators=500, subsample=0.5, learning_rate=0.1, max_depth=4, score=0.435358, total=   2.0s\n",
      "[CV] n_estimators=500, subsample=0.8, learning_rate=0.1, max_depth=4 .\n",
      "[CV]  n_estimators=500, subsample=0.8, learning_rate=0.1, max_depth=4, score=0.560475, total=   2.2s\n",
      "[CV] n_estimators=500, subsample=0.8, learning_rate=0.1, max_depth=4 .\n",
      "[CV]  n_estimators=500, subsample=0.8, learning_rate=0.1, max_depth=4, score=0.566580, total=   2.1s\n",
      "[CV] n_estimators=500, subsample=0.8, learning_rate=0.1, max_depth=4 .\n",
      "[CV]  n_estimators=500, subsample=0.8, learning_rate=0.1, max_depth=4, score=0.537782, total=   2.2s\n",
      "[CV] n_estimators=1000, subsample=0.5, learning_rate=0.1, max_depth=4 \n",
      "[CV]  n_estimators=1000, subsample=0.5, learning_rate=0.1, max_depth=4, score=0.524293, total=   4.3s\n",
      "[CV] n_estimators=1000, subsample=0.5, learning_rate=0.1, max_depth=4 \n",
      "[CV]  n_estimators=1000, subsample=0.5, learning_rate=0.1, max_depth=4, score=0.568284, total=   4.3s\n",
      "[CV] n_estimators=1000, subsample=0.5, learning_rate=0.1, max_depth=4 \n",
      "[CV]  n_estimators=1000, subsample=0.5, learning_rate=0.1, max_depth=4, score=0.547387, total=   4.1s\n",
      "[CV] n_estimators=1000, subsample=0.8, learning_rate=0.1, max_depth=4 \n",
      "[CV]  n_estimators=1000, subsample=0.8, learning_rate=0.1, max_depth=4, score=0.568525, total=   4.4s\n",
      "[CV] n_estimators=1000, subsample=0.8, learning_rate=0.1, max_depth=4 \n",
      "[CV]  n_estimators=1000, subsample=0.8, learning_rate=0.1, max_depth=4, score=0.546175, total=   4.1s\n",
      "[CV] n_estimators=1000, subsample=0.8, learning_rate=0.1, max_depth=4 \n",
      "[CV]  n_estimators=1000, subsample=0.8, learning_rate=0.1, max_depth=4, score=0.534086, total=   4.1s\n",
      "[CV] n_estimators=2000, subsample=0.5, learning_rate=0.1, max_depth=4 \n",
      "[CV]  n_estimators=2000, subsample=0.5, learning_rate=0.1, max_depth=4, score=0.577987, total=   7.1s\n",
      "[CV] n_estimators=2000, subsample=0.5, learning_rate=0.1, max_depth=4 \n",
      "[CV]  n_estimators=2000, subsample=0.5, learning_rate=0.1, max_depth=4, score=0.550725, total=   7.6s\n",
      "[CV] n_estimators=2000, subsample=0.5, learning_rate=0.1, max_depth=4 \n",
      "[CV]  n_estimators=2000, subsample=0.5, learning_rate=0.1, max_depth=4, score=0.580527, total=   7.4s\n",
      "[CV] n_estimators=2000, subsample=0.8, learning_rate=0.1, max_depth=4 \n",
      "[CV]  n_estimators=2000, subsample=0.8, learning_rate=0.1, max_depth=4, score=0.581088, total=   8.0s\n",
      "[CV] n_estimators=2000, subsample=0.8, learning_rate=0.1, max_depth=4 \n"
     ]
    },
    {
     "name": "stdout",
     "output_type": "stream",
     "text": [
      "[CV]  n_estimators=2000, subsample=0.8, learning_rate=0.1, max_depth=4, score=0.497674, total=   8.2s\n",
      "[CV] n_estimators=2000, subsample=0.8, learning_rate=0.1, max_depth=4 \n",
      "[CV]  n_estimators=2000, subsample=0.8, learning_rate=0.1, max_depth=4, score=0.552648, total=   8.3s\n",
      "[CV] n_estimators=500, subsample=0.5, learning_rate=0.1, max_depth=5 .\n",
      "[CV]  n_estimators=500, subsample=0.5, learning_rate=0.1, max_depth=5, score=0.592040, total=   2.2s\n",
      "[CV] n_estimators=500, subsample=0.5, learning_rate=0.1, max_depth=5 .\n",
      "[CV]  n_estimators=500, subsample=0.5, learning_rate=0.1, max_depth=5, score=0.520806, total=   2.5s\n",
      "[CV] n_estimators=500, subsample=0.5, learning_rate=0.1, max_depth=5 .\n",
      "[CV]  n_estimators=500, subsample=0.5, learning_rate=0.1, max_depth=5, score=0.521473, total=   2.5s\n",
      "[CV] n_estimators=500, subsample=0.8, learning_rate=0.1, max_depth=5 .\n",
      "[CV]  n_estimators=500, subsample=0.8, learning_rate=0.1, max_depth=5, score=0.580871, total=   2.4s\n",
      "[CV] n_estimators=500, subsample=0.8, learning_rate=0.1, max_depth=5 .\n",
      "[CV]  n_estimators=500, subsample=0.8, learning_rate=0.1, max_depth=5, score=0.511781, total=   2.6s\n",
      "[CV] n_estimators=500, subsample=0.8, learning_rate=0.1, max_depth=5 .\n",
      "[CV]  n_estimators=500, subsample=0.8, learning_rate=0.1, max_depth=5, score=0.565442, total=   2.6s\n",
      "[CV] n_estimators=1000, subsample=0.5, learning_rate=0.1, max_depth=5 \n",
      "[CV]  n_estimators=1000, subsample=0.5, learning_rate=0.1, max_depth=5, score=0.601567, total=   5.1s\n",
      "[CV] n_estimators=1000, subsample=0.5, learning_rate=0.1, max_depth=5 \n",
      "[CV]  n_estimators=1000, subsample=0.5, learning_rate=0.1, max_depth=5, score=0.546331, total=   6.0s\n",
      "[CV] n_estimators=1000, subsample=0.5, learning_rate=0.1, max_depth=5 \n",
      "[CV]  n_estimators=1000, subsample=0.5, learning_rate=0.1, max_depth=5, score=0.529785, total=   6.1s\n",
      "[CV] n_estimators=1000, subsample=0.8, learning_rate=0.1, max_depth=5 \n",
      "[CV]  n_estimators=1000, subsample=0.8, learning_rate=0.1, max_depth=5, score=0.529124, total=   7.1s\n",
      "[CV] n_estimators=1000, subsample=0.8, learning_rate=0.1, max_depth=5 \n",
      "[CV]  n_estimators=1000, subsample=0.8, learning_rate=0.1, max_depth=5, score=0.540663, total=   6.5s\n",
      "[CV] n_estimators=1000, subsample=0.8, learning_rate=0.1, max_depth=5 \n",
      "[CV]  n_estimators=1000, subsample=0.8, learning_rate=0.1, max_depth=5, score=0.549385, total=   5.3s\n",
      "[CV] n_estimators=2000, subsample=0.5, learning_rate=0.1, max_depth=5 \n",
      "[CV]  n_estimators=2000, subsample=0.5, learning_rate=0.1, max_depth=5, score=0.556578, total=   9.9s\n",
      "[CV] n_estimators=2000, subsample=0.5, learning_rate=0.1, max_depth=5 \n",
      "[CV]  n_estimators=2000, subsample=0.5, learning_rate=0.1, max_depth=5, score=0.510982, total=  11.4s\n",
      "[CV] n_estimators=2000, subsample=0.5, learning_rate=0.1, max_depth=5 \n",
      "[CV]  n_estimators=2000, subsample=0.5, learning_rate=0.1, max_depth=5, score=0.502497, total=  11.9s\n",
      "[CV] n_estimators=2000, subsample=0.8, learning_rate=0.1, max_depth=5 \n",
      "[CV]  n_estimators=2000, subsample=0.8, learning_rate=0.1, max_depth=5, score=0.569136, total=  13.0s\n",
      "[CV] n_estimators=2000, subsample=0.8, learning_rate=0.1, max_depth=5 \n",
      "[CV]  n_estimators=2000, subsample=0.8, learning_rate=0.1, max_depth=5, score=0.564757, total=  10.7s\n",
      "[CV] n_estimators=2000, subsample=0.8, learning_rate=0.1, max_depth=5 \n",
      "[CV]  n_estimators=2000, subsample=0.8, learning_rate=0.1, max_depth=5, score=0.533261, total=  11.3s\n",
      "[CV] n_estimators=500, subsample=0.5, learning_rate=0.01, max_depth=2 \n",
      "[CV]  n_estimators=500, subsample=0.5, learning_rate=0.01, max_depth=2, score=0.620063, total=   1.2s\n",
      "[CV] n_estimators=500, subsample=0.5, learning_rate=0.01, max_depth=2 \n",
      "[CV]  n_estimators=500, subsample=0.5, learning_rate=0.01, max_depth=2, score=0.622520, total=   1.2s\n",
      "[CV] n_estimators=500, subsample=0.5, learning_rate=0.01, max_depth=2 \n",
      "[CV]  n_estimators=500, subsample=0.5, learning_rate=0.01, max_depth=2, score=0.634000, total=   1.3s\n",
      "[CV] n_estimators=500, subsample=0.8, learning_rate=0.01, max_depth=2 \n",
      "[CV]  n_estimators=500, subsample=0.8, learning_rate=0.01, max_depth=2, score=0.626688, total=   1.3s\n",
      "[CV] n_estimators=500, subsample=0.8, learning_rate=0.01, max_depth=2 \n",
      "[CV]  n_estimators=500, subsample=0.8, learning_rate=0.01, max_depth=2, score=0.612506, total=   1.4s\n",
      "[CV] n_estimators=500, subsample=0.8, learning_rate=0.01, max_depth=2 \n",
      "[CV]  n_estimators=500, subsample=0.8, learning_rate=0.01, max_depth=2, score=0.635009, total=   1.4s\n",
      "[CV] n_estimators=1000, subsample=0.5, learning_rate=0.01, max_depth=2 \n",
      "[CV]  n_estimators=1000, subsample=0.5, learning_rate=0.01, max_depth=2, score=0.619263, total=   2.5s\n",
      "[CV] n_estimators=1000, subsample=0.5, learning_rate=0.01, max_depth=2 \n",
      "[CV]  n_estimators=1000, subsample=0.5, learning_rate=0.01, max_depth=2, score=0.619516, total=   2.3s\n",
      "[CV] n_estimators=1000, subsample=0.5, learning_rate=0.01, max_depth=2 \n",
      "[CV]  n_estimators=1000, subsample=0.5, learning_rate=0.01, max_depth=2, score=0.612383, total=   2.2s\n",
      "[CV] n_estimators=1000, subsample=0.8, learning_rate=0.01, max_depth=2 \n",
      "[CV]  n_estimators=1000, subsample=0.8, learning_rate=0.01, max_depth=2, score=0.616959, total=   2.5s\n",
      "[CV] n_estimators=1000, subsample=0.8, learning_rate=0.01, max_depth=2 \n",
      "[CV]  n_estimators=1000, subsample=0.8, learning_rate=0.01, max_depth=2, score=0.605504, total=   2.4s\n",
      "[CV] n_estimators=1000, subsample=0.8, learning_rate=0.01, max_depth=2 \n",
      "[CV]  n_estimators=1000, subsample=0.8, learning_rate=0.01, max_depth=2, score=0.615744, total=   2.4s\n",
      "[CV] n_estimators=2000, subsample=0.5, learning_rate=0.01, max_depth=2 \n",
      "[CV]  n_estimators=2000, subsample=0.5, learning_rate=0.01, max_depth=2, score=0.617608, total=   4.4s\n",
      "[CV] n_estimators=2000, subsample=0.5, learning_rate=0.01, max_depth=2 \n",
      "[CV]  n_estimators=2000, subsample=0.5, learning_rate=0.01, max_depth=2, score=0.607384, total=   4.3s\n",
      "[CV] n_estimators=2000, subsample=0.5, learning_rate=0.01, max_depth=2 \n",
      "[CV]  n_estimators=2000, subsample=0.5, learning_rate=0.01, max_depth=2, score=0.611465, total=   4.4s\n",
      "[CV] n_estimators=2000, subsample=0.8, learning_rate=0.01, max_depth=2 \n",
      "[CV]  n_estimators=2000, subsample=0.8, learning_rate=0.01, max_depth=2, score=0.615593, total=   4.7s\n",
      "[CV] n_estimators=2000, subsample=0.8, learning_rate=0.01, max_depth=2 \n",
      "[CV]  n_estimators=2000, subsample=0.8, learning_rate=0.01, max_depth=2, score=0.597240, total=   4.7s\n",
      "[CV] n_estimators=2000, subsample=0.8, learning_rate=0.01, max_depth=2 \n",
      "[CV]  n_estimators=2000, subsample=0.8, learning_rate=0.01, max_depth=2, score=0.606010, total=   4.9s\n",
      "[CV] n_estimators=500, subsample=0.5, learning_rate=0.01, max_depth=3 \n",
      "[CV]  n_estimators=500, subsample=0.5, learning_rate=0.01, max_depth=3, score=0.610263, total=   1.4s\n",
      "[CV] n_estimators=500, subsample=0.5, learning_rate=0.01, max_depth=3 \n",
      "[CV]  n_estimators=500, subsample=0.5, learning_rate=0.01, max_depth=3, score=0.598102, total=   1.5s\n",
      "[CV] n_estimators=500, subsample=0.5, learning_rate=0.01, max_depth=3 \n",
      "[CV]  n_estimators=500, subsample=0.5, learning_rate=0.01, max_depth=3, score=0.608617, total=   1.5s\n",
      "[CV] n_estimators=500, subsample=0.8, learning_rate=0.01, max_depth=3 \n",
      "[CV]  n_estimators=500, subsample=0.8, learning_rate=0.01, max_depth=3, score=0.611657, total=   1.6s\n",
      "[CV] n_estimators=500, subsample=0.8, learning_rate=0.01, max_depth=3 \n",
      "[CV]  n_estimators=500, subsample=0.8, learning_rate=0.01, max_depth=3, score=0.595746, total=   1.7s\n",
      "[CV] n_estimators=500, subsample=0.8, learning_rate=0.01, max_depth=3 \n",
      "[CV]  n_estimators=500, subsample=0.8, learning_rate=0.01, max_depth=3, score=0.609196, total=   1.7s\n",
      "[CV] n_estimators=1000, subsample=0.5, learning_rate=0.01, max_depth=3 \n",
      "[CV]  n_estimators=1000, subsample=0.5, learning_rate=0.01, max_depth=3, score=0.607019, total=   2.9s\n",
      "[CV] n_estimators=1000, subsample=0.5, learning_rate=0.01, max_depth=3 \n",
      "[CV]  n_estimators=1000, subsample=0.5, learning_rate=0.01, max_depth=3, score=0.601395, total=   2.9s\n",
      "[CV] n_estimators=1000, subsample=0.5, learning_rate=0.01, max_depth=3 \n",
      "[CV]  n_estimators=1000, subsample=0.5, learning_rate=0.01, max_depth=3, score=0.591209, total=   2.9s\n",
      "[CV] n_estimators=1000, subsample=0.8, learning_rate=0.01, max_depth=3 \n",
      "[CV]  n_estimators=1000, subsample=0.8, learning_rate=0.01, max_depth=3, score=0.603664, total=   3.3s\n",
      "[CV] n_estimators=1000, subsample=0.8, learning_rate=0.01, max_depth=3 \n"
     ]
    },
    {
     "name": "stdout",
     "output_type": "stream",
     "text": [
      "[CV]  n_estimators=1000, subsample=0.8, learning_rate=0.01, max_depth=3, score=0.592936, total=   3.3s\n",
      "[CV] n_estimators=1000, subsample=0.8, learning_rate=0.01, max_depth=3 \n",
      "[CV]  n_estimators=1000, subsample=0.8, learning_rate=0.01, max_depth=3, score=0.598155, total=   3.4s\n",
      "[CV] n_estimators=2000, subsample=0.5, learning_rate=0.01, max_depth=3 \n",
      "[CV]  n_estimators=2000, subsample=0.5, learning_rate=0.01, max_depth=3, score=0.600139, total=   5.8s\n",
      "[CV] n_estimators=2000, subsample=0.5, learning_rate=0.01, max_depth=3 \n",
      "[CV]  n_estimators=2000, subsample=0.5, learning_rate=0.01, max_depth=3, score=0.567052, total=   5.9s\n",
      "[CV] n_estimators=2000, subsample=0.5, learning_rate=0.01, max_depth=3 \n",
      "[CV]  n_estimators=2000, subsample=0.5, learning_rate=0.01, max_depth=3, score=0.580633, total=   5.9s\n",
      "[CV] n_estimators=2000, subsample=0.8, learning_rate=0.01, max_depth=3 \n",
      "[CV]  n_estimators=2000, subsample=0.8, learning_rate=0.01, max_depth=3, score=0.604064, total=   6.5s\n",
      "[CV] n_estimators=2000, subsample=0.8, learning_rate=0.01, max_depth=3 \n",
      "[CV]  n_estimators=2000, subsample=0.8, learning_rate=0.01, max_depth=3, score=0.574214, total=   6.5s\n",
      "[CV] n_estimators=2000, subsample=0.8, learning_rate=0.01, max_depth=3 \n",
      "[CV]  n_estimators=2000, subsample=0.8, learning_rate=0.01, max_depth=3, score=0.567907, total=   6.6s\n",
      "[CV] n_estimators=500, subsample=0.5, learning_rate=0.01, max_depth=4 \n",
      "[CV]  n_estimators=500, subsample=0.5, learning_rate=0.01, max_depth=4, score=0.593737, total=   1.8s\n",
      "[CV] n_estimators=500, subsample=0.5, learning_rate=0.01, max_depth=4 \n",
      "[CV]  n_estimators=500, subsample=0.5, learning_rate=0.01, max_depth=4, score=0.564716, total=   1.9s\n",
      "[CV] n_estimators=500, subsample=0.5, learning_rate=0.01, max_depth=4 \n",
      "[CV]  n_estimators=500, subsample=0.5, learning_rate=0.01, max_depth=4, score=0.603983, total=   1.8s\n",
      "[CV] n_estimators=500, subsample=0.8, learning_rate=0.01, max_depth=4 \n",
      "[CV]  n_estimators=500, subsample=0.8, learning_rate=0.01, max_depth=4, score=0.600663, total=   2.2s\n",
      "[CV] n_estimators=500, subsample=0.8, learning_rate=0.01, max_depth=4 \n",
      "[CV]  n_estimators=500, subsample=0.8, learning_rate=0.01, max_depth=4, score=0.584000, total=   2.2s\n",
      "[CV] n_estimators=500, subsample=0.8, learning_rate=0.01, max_depth=4 \n",
      "[CV]  n_estimators=500, subsample=0.8, learning_rate=0.01, max_depth=4, score=0.597774, total=   2.1s\n",
      "[CV] n_estimators=1000, subsample=0.5, learning_rate=0.01, max_depth=4 \n",
      "[CV]  n_estimators=1000, subsample=0.5, learning_rate=0.01, max_depth=4, score=0.592916, total=   3.6s\n",
      "[CV] n_estimators=1000, subsample=0.5, learning_rate=0.01, max_depth=4 \n",
      "[CV]  n_estimators=1000, subsample=0.5, learning_rate=0.01, max_depth=4, score=0.558934, total=   3.7s\n",
      "[CV] n_estimators=1000, subsample=0.5, learning_rate=0.01, max_depth=4 \n",
      "[CV]  n_estimators=1000, subsample=0.5, learning_rate=0.01, max_depth=4, score=0.592445, total=   3.6s\n",
      "[CV] n_estimators=1000, subsample=0.8, learning_rate=0.01, max_depth=4 \n",
      "[CV]  n_estimators=1000, subsample=0.8, learning_rate=0.01, max_depth=4, score=0.584842, total=   4.2s\n",
      "[CV] n_estimators=1000, subsample=0.8, learning_rate=0.01, max_depth=4 \n",
      "[CV]  n_estimators=1000, subsample=0.8, learning_rate=0.01, max_depth=4, score=0.563061, total=   4.4s\n",
      "[CV] n_estimators=1000, subsample=0.8, learning_rate=0.01, max_depth=4 \n",
      "[CV]  n_estimators=1000, subsample=0.8, learning_rate=0.01, max_depth=4, score=0.585429, total=   4.3s\n",
      "[CV] n_estimators=2000, subsample=0.5, learning_rate=0.01, max_depth=4 \n",
      "[CV]  n_estimators=2000, subsample=0.5, learning_rate=0.01, max_depth=4, score=0.577205, total=   7.2s\n",
      "[CV] n_estimators=2000, subsample=0.5, learning_rate=0.01, max_depth=4 \n",
      "[CV]  n_estimators=2000, subsample=0.5, learning_rate=0.01, max_depth=4, score=0.561814, total=   7.3s\n",
      "[CV] n_estimators=2000, subsample=0.5, learning_rate=0.01, max_depth=4 \n",
      "[CV]  n_estimators=2000, subsample=0.5, learning_rate=0.01, max_depth=4, score=0.546305, total=   7.6s\n",
      "[CV] n_estimators=2000, subsample=0.8, learning_rate=0.01, max_depth=4 \n",
      "[CV]  n_estimators=2000, subsample=0.8, learning_rate=0.01, max_depth=4, score=0.581228, total=   8.3s\n",
      "[CV] n_estimators=2000, subsample=0.8, learning_rate=0.01, max_depth=4 \n",
      "[CV]  n_estimators=2000, subsample=0.8, learning_rate=0.01, max_depth=4, score=0.562641, total=   8.5s\n",
      "[CV] n_estimators=2000, subsample=0.8, learning_rate=0.01, max_depth=4 \n",
      "[CV]  n_estimators=2000, subsample=0.8, learning_rate=0.01, max_depth=4, score=0.557370, total=   8.6s\n",
      "[CV] n_estimators=500, subsample=0.5, learning_rate=0.01, max_depth=5 \n",
      "[CV]  n_estimators=500, subsample=0.5, learning_rate=0.01, max_depth=5, score=0.589785, total=   2.4s\n",
      "[CV] n_estimators=500, subsample=0.5, learning_rate=0.01, max_depth=5 \n",
      "[CV]  n_estimators=500, subsample=0.5, learning_rate=0.01, max_depth=5, score=0.563972, total=   2.2s\n",
      "[CV] n_estimators=500, subsample=0.5, learning_rate=0.01, max_depth=5 \n",
      "[CV]  n_estimators=500, subsample=0.5, learning_rate=0.01, max_depth=5, score=0.580173, total=   2.3s\n",
      "[CV] n_estimators=500, subsample=0.8, learning_rate=0.01, max_depth=5 \n",
      "[CV]  n_estimators=500, subsample=0.8, learning_rate=0.01, max_depth=5, score=0.581872, total=   2.7s\n",
      "[CV] n_estimators=500, subsample=0.8, learning_rate=0.01, max_depth=5 \n",
      "[CV]  n_estimators=500, subsample=0.8, learning_rate=0.01, max_depth=5, score=0.556973, total=   2.8s\n",
      "[CV] n_estimators=500, subsample=0.8, learning_rate=0.01, max_depth=5 \n",
      "[CV]  n_estimators=500, subsample=0.8, learning_rate=0.01, max_depth=5, score=0.577913, total=   2.8s\n",
      "[CV] n_estimators=1000, subsample=0.5, learning_rate=0.01, max_depth=5 \n",
      "[CV]  n_estimators=1000, subsample=0.5, learning_rate=0.01, max_depth=5, score=0.559445, total=   4.6s\n",
      "[CV] n_estimators=1000, subsample=0.5, learning_rate=0.01, max_depth=5 \n",
      "[CV]  n_estimators=1000, subsample=0.5, learning_rate=0.01, max_depth=5, score=0.528487, total=   5.6s\n",
      "[CV] n_estimators=1000, subsample=0.5, learning_rate=0.01, max_depth=5 \n",
      "[CV]  n_estimators=1000, subsample=0.5, learning_rate=0.01, max_depth=5, score=0.566621, total=   5.3s\n",
      "[CV] n_estimators=1000, subsample=0.8, learning_rate=0.01, max_depth=5 \n",
      "[CV]  n_estimators=1000, subsample=0.8, learning_rate=0.01, max_depth=5, score=0.571431, total=   6.0s\n",
      "[CV] n_estimators=1000, subsample=0.8, learning_rate=0.01, max_depth=5 \n",
      "[CV]  n_estimators=1000, subsample=0.8, learning_rate=0.01, max_depth=5, score=0.548974, total=   5.3s\n",
      "[CV] n_estimators=1000, subsample=0.8, learning_rate=0.01, max_depth=5 \n",
      "[CV]  n_estimators=1000, subsample=0.8, learning_rate=0.01, max_depth=5, score=0.558745, total=   5.4s\n",
      "[CV] n_estimators=2000, subsample=0.5, learning_rate=0.01, max_depth=5 \n",
      "[CV]  n_estimators=2000, subsample=0.5, learning_rate=0.01, max_depth=5, score=0.539886, total=   9.0s\n",
      "[CV] n_estimators=2000, subsample=0.5, learning_rate=0.01, max_depth=5 \n",
      "[CV]  n_estimators=2000, subsample=0.5, learning_rate=0.01, max_depth=5, score=0.518727, total=   8.9s\n",
      "[CV] n_estimators=2000, subsample=0.5, learning_rate=0.01, max_depth=5 \n",
      "[CV]  n_estimators=2000, subsample=0.5, learning_rate=0.01, max_depth=5, score=0.523182, total=   9.2s\n",
      "[CV] n_estimators=2000, subsample=0.8, learning_rate=0.01, max_depth=5 \n",
      "[CV]  n_estimators=2000, subsample=0.8, learning_rate=0.01, max_depth=5, score=0.558897, total=  10.5s\n",
      "[CV] n_estimators=2000, subsample=0.8, learning_rate=0.01, max_depth=5 \n",
      "[CV]  n_estimators=2000, subsample=0.8, learning_rate=0.01, max_depth=5, score=0.535516, total=  10.6s\n",
      "[CV] n_estimators=2000, subsample=0.8, learning_rate=0.01, max_depth=5 \n",
      "[CV]  n_estimators=2000, subsample=0.8, learning_rate=0.01, max_depth=5, score=0.553255, total=  10.5s\n",
      "[CV] n_estimators=500, subsample=0.5, learning_rate=0.001, max_depth=2 \n",
      "[CV]  n_estimators=500, subsample=0.5, learning_rate=0.001, max_depth=2, score=0.626176, total=   1.1s\n",
      "[CV] n_estimators=500, subsample=0.5, learning_rate=0.001, max_depth=2 \n",
      "[CV]  n_estimators=500, subsample=0.5, learning_rate=0.001, max_depth=2, score=0.618785, total=   1.1s\n",
      "[CV] n_estimators=500, subsample=0.5, learning_rate=0.001, max_depth=2 \n",
      "[CV]  n_estimators=500, subsample=0.5, learning_rate=0.001, max_depth=2, score=0.638990, total=   1.1s\n",
      "[CV] n_estimators=500, subsample=0.8, learning_rate=0.001, max_depth=2 \n"
     ]
    },
    {
     "name": "stdout",
     "output_type": "stream",
     "text": [
      "[CV]  n_estimators=500, subsample=0.8, learning_rate=0.001, max_depth=2, score=0.627657, total=   1.3s\n",
      "[CV] n_estimators=500, subsample=0.8, learning_rate=0.001, max_depth=2 \n",
      "[CV]  n_estimators=500, subsample=0.8, learning_rate=0.001, max_depth=2, score=0.631083, total=   1.3s\n",
      "[CV] n_estimators=500, subsample=0.8, learning_rate=0.001, max_depth=2 \n",
      "[CV]  n_estimators=500, subsample=0.8, learning_rate=0.001, max_depth=2, score=0.643856, total=   1.2s\n",
      "[CV] n_estimators=1000, subsample=0.5, learning_rate=0.001, max_depth=2 \n",
      "[CV]  n_estimators=1000, subsample=0.5, learning_rate=0.001, max_depth=2, score=0.628786, total=   2.3s\n",
      "[CV] n_estimators=1000, subsample=0.5, learning_rate=0.001, max_depth=2 \n",
      "[CV]  n_estimators=1000, subsample=0.5, learning_rate=0.001, max_depth=2, score=0.610188, total=   2.3s\n",
      "[CV] n_estimators=1000, subsample=0.5, learning_rate=0.001, max_depth=2 \n",
      "[CV]  n_estimators=1000, subsample=0.5, learning_rate=0.001, max_depth=2, score=0.633652, total=   2.2s\n",
      "[CV] n_estimators=1000, subsample=0.8, learning_rate=0.001, max_depth=2 \n",
      "[CV]  n_estimators=1000, subsample=0.8, learning_rate=0.001, max_depth=2, score=0.631116, total=   2.5s\n",
      "[CV] n_estimators=1000, subsample=0.8, learning_rate=0.001, max_depth=2 \n",
      "[CV]  n_estimators=1000, subsample=0.8, learning_rate=0.001, max_depth=2, score=0.626872, total=   2.5s\n",
      "[CV] n_estimators=1000, subsample=0.8, learning_rate=0.001, max_depth=2 \n",
      "[CV]  n_estimators=1000, subsample=0.8, learning_rate=0.001, max_depth=2, score=0.641906, total=   2.4s\n",
      "[CV] n_estimators=2000, subsample=0.5, learning_rate=0.001, max_depth=2 \n",
      "[CV]  n_estimators=2000, subsample=0.5, learning_rate=0.001, max_depth=2, score=0.625380, total=   4.4s\n",
      "[CV] n_estimators=2000, subsample=0.5, learning_rate=0.001, max_depth=2 \n",
      "[CV]  n_estimators=2000, subsample=0.5, learning_rate=0.001, max_depth=2, score=0.616428, total=   4.4s\n",
      "[CV] n_estimators=2000, subsample=0.5, learning_rate=0.001, max_depth=2 \n",
      "[CV]  n_estimators=2000, subsample=0.5, learning_rate=0.001, max_depth=2, score=0.629456, total=   4.4s\n",
      "[CV] n_estimators=2000, subsample=0.8, learning_rate=0.001, max_depth=2 \n",
      "[CV]  n_estimators=2000, subsample=0.8, learning_rate=0.001, max_depth=2, score=0.627160, total=   5.0s\n",
      "[CV] n_estimators=2000, subsample=0.8, learning_rate=0.001, max_depth=2 \n",
      "[CV]  n_estimators=2000, subsample=0.8, learning_rate=0.001, max_depth=2, score=0.622190, total=   5.0s\n",
      "[CV] n_estimators=2000, subsample=0.8, learning_rate=0.001, max_depth=2 \n",
      "[CV]  n_estimators=2000, subsample=0.8, learning_rate=0.001, max_depth=2, score=0.632001, total=   5.0s\n",
      "[CV] n_estimators=500, subsample=0.5, learning_rate=0.001, max_depth=3 \n",
      "[CV]  n_estimators=500, subsample=0.5, learning_rate=0.001, max_depth=3, score=0.608579, total=   1.6s\n",
      "[CV] n_estimators=500, subsample=0.5, learning_rate=0.001, max_depth=3 \n",
      "[CV]  n_estimators=500, subsample=0.5, learning_rate=0.001, max_depth=3, score=0.602676, total=   1.8s\n",
      "[CV] n_estimators=500, subsample=0.5, learning_rate=0.001, max_depth=3 \n",
      "[CV]  n_estimators=500, subsample=0.5, learning_rate=0.001, max_depth=3, score=0.612985, total=   1.5s\n",
      "[CV] n_estimators=500, subsample=0.8, learning_rate=0.001, max_depth=3 \n",
      "[CV]  n_estimators=500, subsample=0.8, learning_rate=0.001, max_depth=3, score=0.612008, total=   1.7s\n",
      "[CV] n_estimators=500, subsample=0.8, learning_rate=0.001, max_depth=3 \n",
      "[CV]  n_estimators=500, subsample=0.8, learning_rate=0.001, max_depth=3, score=0.615864, total=   1.8s\n",
      "[CV] n_estimators=500, subsample=0.8, learning_rate=0.001, max_depth=3 \n",
      "[CV]  n_estimators=500, subsample=0.8, learning_rate=0.001, max_depth=3, score=0.619110, total=   1.8s\n",
      "[CV] n_estimators=1000, subsample=0.5, learning_rate=0.001, max_depth=3 \n",
      "[CV]  n_estimators=1000, subsample=0.5, learning_rate=0.001, max_depth=3, score=0.610936, total=   3.1s\n",
      "[CV] n_estimators=1000, subsample=0.5, learning_rate=0.001, max_depth=3 \n",
      "[CV]  n_estimators=1000, subsample=0.5, learning_rate=0.001, max_depth=3, score=0.601891, total=   3.0s\n",
      "[CV] n_estimators=1000, subsample=0.5, learning_rate=0.001, max_depth=3 \n",
      "[CV]  n_estimators=1000, subsample=0.5, learning_rate=0.001, max_depth=3, score=0.617628, total=   3.0s\n",
      "[CV] n_estimators=1000, subsample=0.8, learning_rate=0.001, max_depth=3 \n",
      "[CV]  n_estimators=1000, subsample=0.8, learning_rate=0.001, max_depth=3, score=0.613021, total=   3.8s\n",
      "[CV] n_estimators=1000, subsample=0.8, learning_rate=0.001, max_depth=3 \n",
      "[CV]  n_estimators=1000, subsample=0.8, learning_rate=0.001, max_depth=3, score=0.618177, total=   3.5s\n",
      "[CV] n_estimators=1000, subsample=0.8, learning_rate=0.001, max_depth=3 \n",
      "[CV]  n_estimators=1000, subsample=0.8, learning_rate=0.001, max_depth=3, score=0.623873, total=   3.5s\n",
      "[CV] n_estimators=2000, subsample=0.5, learning_rate=0.001, max_depth=3 \n",
      "[CV]  n_estimators=2000, subsample=0.5, learning_rate=0.001, max_depth=3, score=0.615494, total=   6.5s\n",
      "[CV] n_estimators=2000, subsample=0.5, learning_rate=0.001, max_depth=3 \n",
      "[CV]  n_estimators=2000, subsample=0.5, learning_rate=0.001, max_depth=3, score=0.599690, total=   6.1s\n",
      "[CV] n_estimators=2000, subsample=0.5, learning_rate=0.001, max_depth=3 \n",
      "[CV]  n_estimators=2000, subsample=0.5, learning_rate=0.001, max_depth=3, score=0.620356, total=   6.5s\n",
      "[CV] n_estimators=2000, subsample=0.8, learning_rate=0.001, max_depth=3 \n",
      "[CV]  n_estimators=2000, subsample=0.8, learning_rate=0.001, max_depth=3, score=0.615192, total=   7.4s\n",
      "[CV] n_estimators=2000, subsample=0.8, learning_rate=0.001, max_depth=3 \n",
      "[CV]  n_estimators=2000, subsample=0.8, learning_rate=0.001, max_depth=3, score=0.606411, total=   7.1s\n",
      "[CV] n_estimators=2000, subsample=0.8, learning_rate=0.001, max_depth=3 \n",
      "[CV]  n_estimators=2000, subsample=0.8, learning_rate=0.001, max_depth=3, score=0.620555, total=   7.3s\n",
      "[CV] n_estimators=500, subsample=0.5, learning_rate=0.001, max_depth=4 \n",
      "[CV]  n_estimators=500, subsample=0.5, learning_rate=0.001, max_depth=4, score=0.586296, total=   1.9s\n",
      "[CV] n_estimators=500, subsample=0.5, learning_rate=0.001, max_depth=4 \n",
      "[CV]  n_estimators=500, subsample=0.5, learning_rate=0.001, max_depth=4, score=0.576639, total=   2.0s\n",
      "[CV] n_estimators=500, subsample=0.5, learning_rate=0.001, max_depth=4 \n",
      "[CV]  n_estimators=500, subsample=0.5, learning_rate=0.001, max_depth=4, score=0.584233, total=   1.9s\n",
      "[CV] n_estimators=500, subsample=0.8, learning_rate=0.001, max_depth=4 \n",
      "[CV]  n_estimators=500, subsample=0.8, learning_rate=0.001, max_depth=4, score=0.597971, total=   2.3s\n",
      "[CV] n_estimators=500, subsample=0.8, learning_rate=0.001, max_depth=4 \n",
      "[CV]  n_estimators=500, subsample=0.8, learning_rate=0.001, max_depth=4, score=0.588561, total=   2.4s\n",
      "[CV] n_estimators=500, subsample=0.8, learning_rate=0.001, max_depth=4 \n",
      "[CV]  n_estimators=500, subsample=0.8, learning_rate=0.001, max_depth=4, score=0.597470, total=   2.3s\n",
      "[CV] n_estimators=1000, subsample=0.5, learning_rate=0.001, max_depth=4 \n",
      "[CV]  n_estimators=1000, subsample=0.5, learning_rate=0.001, max_depth=4, score=0.593693, total=   4.0s\n",
      "[CV] n_estimators=1000, subsample=0.5, learning_rate=0.001, max_depth=4 \n",
      "[CV]  n_estimators=1000, subsample=0.5, learning_rate=0.001, max_depth=4, score=0.586036, total=   3.9s\n",
      "[CV] n_estimators=1000, subsample=0.5, learning_rate=0.001, max_depth=4 \n",
      "[CV]  n_estimators=1000, subsample=0.5, learning_rate=0.001, max_depth=4, score=0.592840, total=   4.0s\n",
      "[CV] n_estimators=1000, subsample=0.8, learning_rate=0.001, max_depth=4 \n",
      "[CV]  n_estimators=1000, subsample=0.8, learning_rate=0.001, max_depth=4, score=0.599486, total=   5.2s\n",
      "[CV] n_estimators=1000, subsample=0.8, learning_rate=0.001, max_depth=4 \n",
      "[CV]  n_estimators=1000, subsample=0.8, learning_rate=0.001, max_depth=4, score=0.595942, total=   4.8s\n",
      "[CV] n_estimators=1000, subsample=0.8, learning_rate=0.001, max_depth=4 \n",
      "[CV]  n_estimators=1000, subsample=0.8, learning_rate=0.001, max_depth=4, score=0.604321, total=   4.6s\n",
      "[CV] n_estimators=2000, subsample=0.5, learning_rate=0.001, max_depth=4 \n",
      "[CV]  n_estimators=2000, subsample=0.5, learning_rate=0.001, max_depth=4, score=0.596654, total=   7.4s\n",
      "[CV] n_estimators=2000, subsample=0.5, learning_rate=0.001, max_depth=4 \n",
      "[CV]  n_estimators=2000, subsample=0.5, learning_rate=0.001, max_depth=4, score=0.583627, total=   7.7s\n",
      "[CV] n_estimators=2000, subsample=0.5, learning_rate=0.001, max_depth=4 \n"
     ]
    },
    {
     "name": "stdout",
     "output_type": "stream",
     "text": [
      "[CV]  n_estimators=2000, subsample=0.5, learning_rate=0.001, max_depth=4, score=0.603317, total=   7.3s\n",
      "[CV] n_estimators=2000, subsample=0.8, learning_rate=0.001, max_depth=4 \n",
      "[CV]  n_estimators=2000, subsample=0.8, learning_rate=0.001, max_depth=4, score=0.601251, total=   8.8s\n",
      "[CV] n_estimators=2000, subsample=0.8, learning_rate=0.001, max_depth=4 \n",
      "[CV]  n_estimators=2000, subsample=0.8, learning_rate=0.001, max_depth=4, score=0.586974, total=   9.2s\n",
      "[CV] n_estimators=2000, subsample=0.8, learning_rate=0.001, max_depth=4 \n",
      "[CV]  n_estimators=2000, subsample=0.8, learning_rate=0.001, max_depth=4, score=0.604847, total=   9.2s\n",
      "[CV] n_estimators=500, subsample=0.5, learning_rate=0.001, max_depth=5 \n",
      "[CV]  n_estimators=500, subsample=0.5, learning_rate=0.001, max_depth=5, score=0.571147, total=   2.5s\n",
      "[CV] n_estimators=500, subsample=0.5, learning_rate=0.001, max_depth=5 \n",
      "[CV]  n_estimators=500, subsample=0.5, learning_rate=0.001, max_depth=5, score=0.559254, total=   2.4s\n",
      "[CV] n_estimators=500, subsample=0.5, learning_rate=0.001, max_depth=5 \n",
      "[CV]  n_estimators=500, subsample=0.5, learning_rate=0.001, max_depth=5, score=0.563517, total=   2.4s\n",
      "[CV] n_estimators=500, subsample=0.8, learning_rate=0.001, max_depth=5 \n",
      "[CV]  n_estimators=500, subsample=0.8, learning_rate=0.001, max_depth=5, score=0.582798, total=   3.0s\n",
      "[CV] n_estimators=500, subsample=0.8, learning_rate=0.001, max_depth=5 \n",
      "[CV]  n_estimators=500, subsample=0.8, learning_rate=0.001, max_depth=5, score=0.571263, total=   3.0s\n",
      "[CV] n_estimators=500, subsample=0.8, learning_rate=0.001, max_depth=5 \n",
      "[CV]  n_estimators=500, subsample=0.8, learning_rate=0.001, max_depth=5, score=0.571878, total=   3.0s\n",
      "[CV] n_estimators=1000, subsample=0.5, learning_rate=0.001, max_depth=5 \n",
      "[CV]  n_estimators=1000, subsample=0.5, learning_rate=0.001, max_depth=5, score=0.580095, total=   4.7s\n",
      "[CV] n_estimators=1000, subsample=0.5, learning_rate=0.001, max_depth=5 \n",
      "[CV]  n_estimators=1000, subsample=0.5, learning_rate=0.001, max_depth=5, score=0.561864, total=   4.7s\n",
      "[CV] n_estimators=1000, subsample=0.5, learning_rate=0.001, max_depth=5 \n",
      "[CV]  n_estimators=1000, subsample=0.5, learning_rate=0.001, max_depth=5, score=0.575603, total=   5.2s\n",
      "[CV] n_estimators=1000, subsample=0.8, learning_rate=0.001, max_depth=5 \n",
      "[CV]  n_estimators=1000, subsample=0.8, learning_rate=0.001, max_depth=5, score=0.578931, total=   6.2s\n",
      "[CV] n_estimators=1000, subsample=0.8, learning_rate=0.001, max_depth=5 \n",
      "[CV]  n_estimators=1000, subsample=0.8, learning_rate=0.001, max_depth=5, score=0.570835, total=   5.9s\n",
      "[CV] n_estimators=1000, subsample=0.8, learning_rate=0.001, max_depth=5 \n",
      "[CV]  n_estimators=1000, subsample=0.8, learning_rate=0.001, max_depth=5, score=0.579937, total=   6.0s\n",
      "[CV] n_estimators=2000, subsample=0.5, learning_rate=0.001, max_depth=5 \n",
      "[CV]  n_estimators=2000, subsample=0.5, learning_rate=0.001, max_depth=5, score=0.579416, total=   9.3s\n",
      "[CV] n_estimators=2000, subsample=0.5, learning_rate=0.001, max_depth=5 \n",
      "[CV]  n_estimators=2000, subsample=0.5, learning_rate=0.001, max_depth=5, score=0.565192, total=   9.1s\n",
      "[CV] n_estimators=2000, subsample=0.5, learning_rate=0.001, max_depth=5 \n",
      "[CV]  n_estimators=2000, subsample=0.5, learning_rate=0.001, max_depth=5, score=0.581718, total=   9.3s\n",
      "[CV] n_estimators=2000, subsample=0.8, learning_rate=0.001, max_depth=5 \n",
      "[CV]  n_estimators=2000, subsample=0.8, learning_rate=0.001, max_depth=5, score=0.582270, total=  11.3s\n",
      "[CV] n_estimators=2000, subsample=0.8, learning_rate=0.001, max_depth=5 \n",
      "[CV]  n_estimators=2000, subsample=0.8, learning_rate=0.001, max_depth=5, score=0.564924, total=  11.2s\n",
      "[CV] n_estimators=2000, subsample=0.8, learning_rate=0.001, max_depth=5 \n",
      "[CV]  n_estimators=2000, subsample=0.8, learning_rate=0.001, max_depth=5, score=0.580385, total=  11.6s\n"
     ]
    },
    {
     "name": "stderr",
     "output_type": "stream",
     "text": [
      "[Parallel(n_jobs=1)]: Done 216 out of 216 | elapsed: 16.1min finished\n"
     ]
    }
   ],
   "source": [
    "fitted = search.fit(X_train,y_train)"
   ]
  },
  {
   "cell_type": "code",
   "execution_count": 19,
   "metadata": {},
   "outputs": [
    {
     "data": {
      "text/plain": [
       "0.75562360283159458"
      ]
     },
     "execution_count": 19,
     "metadata": {},
     "output_type": "execute_result"
    }
   ],
   "source": [
    "fitted.score(X_test, y_test)"
   ]
  },
  {
   "cell_type": "code",
   "execution_count": 20,
   "metadata": {},
   "outputs": [
    {
     "data": {
      "text/plain": [
       "0.0"
      ]
     },
     "execution_count": 20,
     "metadata": {},
     "output_type": "execute_result"
    }
   ],
   "source": [
    "recall_score(y_test, fitted.predict(X_test))"
   ]
  },
  {
   "cell_type": "code",
   "execution_count": 21,
   "metadata": {},
   "outputs": [
    {
     "data": {
      "text/plain": [
       "{'learning_rate': 0.001,\n",
       " 'max_depth': 2,\n",
       " 'n_estimators': 2000,\n",
       " 'subsample': 0.8}"
      ]
     },
     "execution_count": 21,
     "metadata": {},
     "output_type": "execute_result"
    }
   ],
   "source": [
    "fitted.best_params_"
   ]
  },
  {
   "cell_type": "code",
   "execution_count": 22,
   "metadata": {},
   "outputs": [
    {
     "name": "stderr",
     "output_type": "stream",
     "text": [
      "/Users/mariamendieta/anaconda2/lib/python2.7/site-packages/ipykernel_launcher.py:2: SettingWithCopyWarning: \n",
      "A value is trying to be set on a copy of a slice from a DataFrame.\n",
      "Try using .loc[row_indexer,col_indexer] = value instead\n",
      "\n",
      "See the caveats in the documentation: http://pandas.pydata.org/pandas-docs/stable/indexing.html#indexing-view-versus-copy\n",
      "  \n"
     ]
    }
   ],
   "source": [
    "# Adding results to orginal Data Frames\n",
    "df['result']=fitted.predict_proba(features)[:,1]"
   ]
  },
  {
   "cell_type": "code",
   "execution_count": 23,
   "metadata": {},
   "outputs": [
    {
     "data": {
      "text/plain": [
       "0.02005980508546362"
      ]
     },
     "execution_count": 23,
     "metadata": {},
     "output_type": "execute_result"
    }
   ],
   "source": [
    "np.mean(df['result'])"
   ]
  },
  {
   "cell_type": "markdown",
   "metadata": {},
   "source": [
    "## ROC Curve"
   ]
  },
  {
   "cell_type": "code",
   "execution_count": 24,
   "metadata": {
    "collapsed": true
   },
   "outputs": [],
   "source": [
    "model = GradientBoostingClassifier(learning_rate=0.01, max_depth=2, n_estimators=500, subsample=0.8)"
   ]
  },
  {
   "cell_type": "code",
   "execution_count": 25,
   "metadata": {
    "collapsed": true
   },
   "outputs": [],
   "source": [
    "fitted = model.fit(X_train, y_train, sample_weight=weights_train)"
   ]
  },
  {
   "cell_type": "code",
   "execution_count": 26,
   "metadata": {},
   "outputs": [
    {
     "data": {
      "image/png": "[encoded data removed]",
      "text/plain": [
       "<matplotlib.figure.Figure at 0x120945990>"
      ]
     },
     "metadata": {},
     "output_type": "display_data"
    }
   ],
   "source": [
    "from sklearn import metrics\n",
    "# calculate the fpr and tpr for all thresholds of the classification\n",
    "probs = fitted.predict_proba(X_test)[:,1]\n",
    "fpr, tpr, threshold = metrics.roc_curve(y_test, probs)\n",
    "roc_auc = metrics.auc(fpr, tpr)\n",
    "\n",
    "# method I: plt\n",
    "import matplotlib.pyplot as plt\n",
    "fig, ax = plt.subplots(figsize=(12,12))\n",
    "ax.set_title('Receiver Operating Characteristic')\n",
    "ax.plot(fpr, tpr, 'b', label = 'AUC = %0.2f' % roc_auc)\n",
    "ax.legend(loc = 'lower right')\n",
    "ax.plot([0, 1], [0, 1],'r--')\n",
    "ax.set_xlim([0, 1])\n",
    "ax.set_ylim([0, 1])\n",
    "ax.set_ylabel('True Positive Rate')\n",
    "ax.set_xlabel('False Positive Rate')\n",
    "fig.savefig('roc_sep8.png')\n",
    "plt.show()\n"
   ]
  },
  {
   "cell_type": "markdown",
   "metadata": {},
   "source": [
    "## Feature importance"
   ]
  },
  {
   "cell_type": "code",
   "execution_count": 27,
   "metadata": {
    "collapsed": true
   },
   "outputs": [],
   "source": [
    "model = GradientBoostingClassifier(learning_rate=0.01, max_depth=2, n_estimators=500, subsample=0.8)"
   ]
  },
  {
   "cell_type": "code",
   "execution_count": 28,
   "metadata": {
    "collapsed": true
   },
   "outputs": [],
   "source": [
    "fitted = model.fit(features, y, sample_weight=weights)"
   ]
  },
  {
   "cell_type": "code",
   "execution_count": 29,
   "metadata": {},
   "outputs": [
    {
     "data": {
      "text/plain": [
       "array([ 0.10723793,  0.04884219,  0.26959572,  0.02838482,  0.01424682,\n",
       "        0.12604903,  0.03881487,  0.17108052,  0.16959338,  0.02615471])"
      ]
     },
     "execution_count": 29,
     "metadata": {},
     "output_type": "execute_result"
    }
   ],
   "source": [
    "fitted.feature_importances_"
   ]
  },
  {
   "cell_type": "code",
   "execution_count": 30,
   "metadata": {},
   "outputs": [
    {
     "data": {
      "image/png": "[encoded data removed]",
      "text/plain": [
       "<matplotlib.figure.Figure at 0x110edb190>"
      ]
     },
     "metadata": {},
     "output_type": "display_data"
    }
   ],
   "source": [
    "fitted.feature_importances_\n",
    "feature_importances = 100*fitted.feature_importances_ / np.sum(fitted.feature_importances_)\n",
    "feature_importances, feature_names, feature_idxs = zip(*sorted(zip(feature_importances, list(features.columns), range(len(features.columns)))))\n",
    "\n",
    "width = 0.8\n",
    "\n",
    "idx = np.arange(len(features.columns))\n",
    "\n",
    "fig, ax = plt.subplots(figsize=(10,12))\n",
    "ax.barh(idx, feature_importances, align='center')\n",
    "plt.yticks(idx, feature_names, fontsize=8)\n",
    "\n",
    "ax.set_title(\"Feature Importances in Gradient Booster\")\n",
    "ax.set_xlabel('Relative Importance of Feature', fontsize=10)\n",
    "ax.set_ylabel('Feature Name', fontsize=14)\n",
    "fig.savefig('feat_imp_sep8.png')"
   ]
  },
  {
   "cell_type": "markdown",
   "metadata": {
    "collapsed": true
   },
   "source": [
    "## Saving data with results"
   ]
  },
  {
   "cell_type": "code",
   "execution_count": 31,
   "metadata": {
    "collapsed": true
   },
   "outputs": [],
   "source": [
    "result = fitted.predict_proba(features)[:,1]\n",
    "raw_data['result']=result\n",
    "raw_data[raw_data['Project_yes']==0]\n",
    "raw_data[raw_data['Project_yes']==0].to_csv('output_sep11.csv')"
   ]
  },
  {
   "cell_type": "code",
   "execution_count": 32,
   "metadata": {},
   "outputs": [
    {
     "data": {
      "text/plain": [
       "0.012390710470171686"
      ]
     },
     "execution_count": 32,
     "metadata": {},
     "output_type": "execute_result"
    }
   ],
   "source": [
    "np.median(result)"
   ]
  },
  {
   "cell_type": "code",
   "execution_count": 44,
   "metadata": {
    "collapsed": true
   },
   "outputs": [],
   "source": [
    "N_ESTIMATORS = 500"
   ]
  },
  {
   "cell_type": "code",
   "execution_count": null,
   "metadata": {
    "collapsed": true
   },
   "outputs": [],
   "source": [
    "model = GradientBoostingClassifier(learning_rate=0.01, max_depth=2, n_estimators=N_ESTIMATORS, subsample=0.8)\n",
    "model.fit(X_train, y_train, sample_weight=weights_train)\n",
    "\n",
    "train_score = np.zeros(N_ESTIMATORS)\n",
    "for i, y_pred in enumerate(model.staged_predict(X_train)):\n",
    "    train_score[i] = model.loss_(y_train, y_pred)\n",
    "\n",
    "test_score = np.zeros(N_ESTIMATORS)\n",
    "for i, y_pred in enumerate(model.staged_predict(X_test)):\n",
    "    test_score[i] = model.loss_(y_test, y_pred)\n",
    " "
   ]
  },
  {
   "cell_type": "code",
   "execution_count": 46,
   "metadata": {},
   "outputs": [
    {
     "data": {
      "image/png": "[encoded data removed]",
      "text/plain": [
       "<matplotlib.figure.Figure at 0x11faa3050>"
      ]
     },
     "metadata": {},
     "output_type": "display_data"
    }
   ],
   "source": [
    "   \n",
    "plt.plot(np.arange(N_ESTIMATORS) + 1, train_score,\n",
    "        label=\"Training Error\")\n",
    "plt.plot(np.arange(N_ESTIMATORS) + 1, test_score,\n",
    "        label=\"Testing Error\")\n",
    "plt.title(\"Training and Hold Out Error by Boosting Stages\")\n",
    "plt.xlabel('Number of Boosting Stages', fontsize=14)\n",
    "plt.ylabel('Average Squared Error', fontsize=14)\n",
    "plt.legend(loc=\"upper right\")\n",
    "plt.ylim([1.38, 1.39])\n",
    "\n",
    "plt.savefig('training-and-testing-error.png', bbox_inches='tight')"
   ]
  },
  {
   "cell_type": "code",
   "execution_count": null,
   "metadata": {
    "collapsed": true
   },
   "outputs": [],
   "source": []
  }
 ],
 "metadata": {
  "kernelspec": {
   "display_name": "Python 2",
   "language": "python",
   "name": "python2"
  },
  "language_info": {
   "codemirror_mode": {
    "name": "ipython",
    "version": 2
   },
   "file_extension": ".py",
   "mimetype": "text/x-python",
   "name": "python",
   "nbconvert_exporter": "python",
   "pygments_lexer": "ipython2",
   "version": "2.7.13"
  }
 },
 "nbformat": 4,
 "nbformat_minor": 2
}

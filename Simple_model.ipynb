{
 "cells": [
  {
   "cell_type": "code",
   "execution_count": 1,
   "metadata": {
    "collapsed": true
   },
   "outputs": [],
   "source": [
    "import pandas as pd\n",
    "import matplotlib.pyplot as plt\n",
    "import numpy as np\n",
    "import sys\n",
    "sys.path.insert(0,'src/')\n",
    "import acs5\n",
    "import nyserda_acs\n",
    "import prices\n",
    "import project_sunroof\n",
    "import nyserda\n",
    "from sklearn.model_selection import GridSearchCV\n",
    "from sklearn.ensemble import GradientBoostingClassifier\n",
    "from sklearn.model_selection import train_test_split\n",
    "from sklearn.preprocessing import Imputer\n",
    "from sklearn.metrics import recall_score\n",
    "\n",
    "\n",
    "\n",
    "\n",
    "%matplotlib inline"
   ]
  },
  {
   "cell_type": "code",
   "execution_count": 2,
   "metadata": {},
   "outputs": [],
   "source": [
    "raw_data = nyserda_acs.merging_data()\n",
    "raw_data=raw_data[raw_data['households']>0]"
   ]
  },
  {
   "cell_type": "code",
   "execution_count": 3,
   "metadata": {},
   "outputs": [
    {
     "data": {
      "text/plain": [
       "(4831, 157)"
      ]
     },
     "execution_count": 3,
     "metadata": {},
     "output_type": "execute_result"
    }
   ],
   "source": [
    "raw_data.shape"
   ]
  },
  {
   "cell_type": "markdown",
   "metadata": {},
   "source": [
    "## Weights"
   ]
  },
  {
   "cell_type": "code",
   "execution_count": 4,
   "metadata": {},
   "outputs": [
    {
     "name": "stderr",
     "output_type": "stream",
     "text": [
      "/Users/mariamendieta/anaconda2/lib/python2.7/site-packages/pandas/core/indexing.py:517: SettingWithCopyWarning: \n",
      "A value is trying to be set on a copy of a slice from a DataFrame.\n",
      "Try using .loc[row_indexer,col_indexer] = value instead\n",
      "\n",
      "See the caveats in the documentation: http://pandas.pydata.org/pandas-docs/stable/indexing.html#indexing-view-versus-copy\n",
      "  self.obj[item] = s\n",
      "/Users/mariamendieta/anaconda2/lib/python2.7/site-packages/pandas/core/indexing.py:337: SettingWithCopyWarning: \n",
      "A value is trying to be set on a copy of a slice from a DataFrame.\n",
      "Try using .loc[row_indexer,col_indexer] = value instead\n",
      "\n",
      "See the caveats in the documentation: http://pandas.pydata.org/pandas-docs/stable/indexing.html#indexing-view-versus-copy\n",
      "  self.obj[key] = _infer_fill_value(value)\n"
     ]
    }
   ],
   "source": [
    "#Duplicate positive rows\n",
    "duplic = raw_data.loc[raw_data['Project_yes']==1,:]\n",
    "duplic.loc[:,'Project_yes'] =0\n",
    "duplic.loc[:,'Duplicate'] = 'Yes'\n",
    "duplic.loc[:,'weight'] = (duplic.loc[:,'households']-duplic.loc[:,'Project_Number'])\n",
    "duplic=duplic[duplic['weight']>0]\n",
    "#Creating weights in old data\n",
    "raw_data.loc[raw_data['Project_yes'] == 1, 'weight'] = raw_data['Project_Number']\n",
    "raw_data.loc[raw_data['Project_yes'] == 0, 'weight'] = raw_data['households']\n",
    "raw_data['Duplicate']='No'\n",
    "#Merging data \n",
    "#Concatenating\n",
    "all_data = raw_data.append(duplic, ignore_index=True)"
   ]
  },
  {
   "cell_type": "code",
   "execution_count": 5,
   "metadata": {},
   "outputs": [
    {
     "data": {
      "text/plain": [
       "(6022, 159)"
      ]
     },
     "execution_count": 5,
     "metadata": {},
     "output_type": "execute_result"
    }
   ],
   "source": [
    "all_data.shape"
   ]
  },
  {
   "cell_type": "code",
   "execution_count": 6,
   "metadata": {},
   "outputs": [
    {
     "data": {
      "text/plain": [
       "7262279L"
      ]
     },
     "execution_count": 6,
     "metadata": {},
     "output_type": "execute_result"
    }
   ],
   "source": [
    "raw_data['households'].sum(axis=None, skipna=True, level=None, numeric_only=None)"
   ]
  },
  {
   "cell_type": "code",
   "execution_count": 7,
   "metadata": {},
   "outputs": [
    {
     "data": {
      "text/plain": [
       "0.010750482045649858"
      ]
     },
     "execution_count": 7,
     "metadata": {},
     "output_type": "execute_result"
    }
   ],
   "source": [
    "raw_data['Project_Number'].sum(axis=None, skipna=True, level=None, numeric_only=None)/raw_data['households'].sum(axis=None, skipna=True, level=None, numeric_only=None)"
   ]
  },
  {
   "cell_type": "markdown",
   "metadata": {},
   "source": [
    "## Columns"
   ]
  },
  {
   "cell_type": "code",
   "execution_count": 8,
   "metadata": {
    "collapsed": true
   },
   "outputs": [],
   "source": [
    "acs_percent_variables = ['Percent_Less_9th','Percent_more_than_hs', 'Percent_1_unit','Avg_hh_size',\n",
    "                'Percent_hh_w_children', 'Percent_10+_units', 'Percent_Heating_electricity',\n",
    "                'yearly_sunlight_kwh_total'  , 'Percent_6_rooms', 'percent_qualified',\n",
    "                'Project_yes','weight','Duplicate']"
   ]
  },
  {
   "cell_type": "markdown",
   "metadata": {},
   "source": [
    "## Simple model"
   ]
  },
  {
   "cell_type": "code",
   "execution_count": 9,
   "metadata": {},
   "outputs": [
    {
     "data": {
      "text/html": [
       "<div>\n",
       "<style>\n",
       "    .dataframe thead tr:only-child th {\n",
       "        text-align: right;\n",
       "    }\n",
       "\n",
       "    .dataframe thead th {\n",
       "        text-align: left;\n",
       "    }\n",
       "\n",
       "    .dataframe tbody tr th {\n",
       "        vertical-align: top;\n",
       "    }\n",
       "</style>\n",
       "<table border=\"1\" class=\"dataframe\">\n",
       "  <thead>\n",
       "    <tr style=\"text-align: right;\">\n",
       "      <th></th>\n",
       "      <th>Percent_Less_9th</th>\n",
       "      <th>Percent_more_than_hs</th>\n",
       "      <th>Percent_1_unit</th>\n",
       "      <th>Avg_hh_size</th>\n",
       "      <th>Percent_hh_w_children</th>\n",
       "      <th>Percent_10+_units</th>\n",
       "      <th>Percent_Heating_electricity</th>\n",
       "      <th>yearly_sunlight_kwh_total</th>\n",
       "      <th>Percent_6_rooms</th>\n",
       "      <th>percent_qualified</th>\n",
       "      <th>Project_yes</th>\n",
       "      <th>weight</th>\n",
       "    </tr>\n",
       "  </thead>\n",
       "  <tbody>\n",
       "    <tr>\n",
       "      <th>count</th>\n",
       "      <td>4831.000000</td>\n",
       "      <td>4831.000000</td>\n",
       "      <td>4831.000000</td>\n",
       "      <td>4825.000000</td>\n",
       "      <td>4831.000000</td>\n",
       "      <td>4831.000000</td>\n",
       "      <td>4831.000000</td>\n",
       "      <td>3.739000e+03</td>\n",
       "      <td>4831.000000</td>\n",
       "      <td>3739.000000</td>\n",
       "      <td>4831.000000</td>\n",
       "      <td>4831.000000</td>\n",
       "    </tr>\n",
       "    <tr>\n",
       "      <th>mean</th>\n",
       "      <td>0.067086</td>\n",
       "      <td>0.576501</td>\n",
       "      <td>0.482588</td>\n",
       "      <td>2.713188</td>\n",
       "      <td>0.286205</td>\n",
       "      <td>0.230209</td>\n",
       "      <td>0.095650</td>\n",
       "      <td>9.249323e+06</td>\n",
       "      <td>0.157265</td>\n",
       "      <td>74.146273</td>\n",
       "      <td>0.247154</td>\n",
       "      <td>1106.759677</td>\n",
       "    </tr>\n",
       "    <tr>\n",
       "      <th>std</th>\n",
       "      <td>0.066355</td>\n",
       "      <td>0.164563</td>\n",
       "      <td>0.333066</td>\n",
       "      <td>0.554915</td>\n",
       "      <td>0.100208</td>\n",
       "      <td>0.302982</td>\n",
       "      <td>0.100251</td>\n",
       "      <td>1.175220e+07</td>\n",
       "      <td>0.090244</td>\n",
       "      <td>13.161878</td>\n",
       "      <td>0.431402</td>\n",
       "      <td>904.993411</td>\n",
       "    </tr>\n",
       "    <tr>\n",
       "      <th>min</th>\n",
       "      <td>0.000000</td>\n",
       "      <td>0.000000</td>\n",
       "      <td>0.000000</td>\n",
       "      <td>1.030000</td>\n",
       "      <td>0.000000</td>\n",
       "      <td>0.000000</td>\n",
       "      <td>0.000000</td>\n",
       "      <td>2.178341e+03</td>\n",
       "      <td>0.000000</td>\n",
       "      <td>21.212121</td>\n",
       "      <td>0.000000</td>\n",
       "      <td>1.000000</td>\n",
       "    </tr>\n",
       "    <tr>\n",
       "      <th>25%</th>\n",
       "      <td>0.020387</td>\n",
       "      <td>0.458327</td>\n",
       "      <td>0.132480</td>\n",
       "      <td>2.350000</td>\n",
       "      <td>0.226397</td>\n",
       "      <td>0.011958</td>\n",
       "      <td>0.033696</td>\n",
       "      <td>2.905493e+06</td>\n",
       "      <td>0.084387</td>\n",
       "      <td>66.218202</td>\n",
       "      <td>0.000000</td>\n",
       "      <td>298.500000</td>\n",
       "    </tr>\n",
       "    <tr>\n",
       "      <th>50%</th>\n",
       "      <td>0.043080</td>\n",
       "      <td>0.570190</td>\n",
       "      <td>0.522355</td>\n",
       "      <td>2.640000</td>\n",
       "      <td>0.283035</td>\n",
       "      <td>0.077684</td>\n",
       "      <td>0.065364</td>\n",
       "      <td>4.895547e+06</td>\n",
       "      <td>0.158165</td>\n",
       "      <td>75.939850</td>\n",
       "      <td>0.000000</td>\n",
       "      <td>1065.000000</td>\n",
       "    </tr>\n",
       "    <tr>\n",
       "      <th>75%</th>\n",
       "      <td>0.094349</td>\n",
       "      <td>0.686537</td>\n",
       "      <td>0.784092</td>\n",
       "      <td>3.030000</td>\n",
       "      <td>0.346515</td>\n",
       "      <td>0.343447</td>\n",
       "      <td>0.120509</td>\n",
       "      <td>1.175304e+07</td>\n",
       "      <td>0.218540</td>\n",
       "      <td>83.643871</td>\n",
       "      <td>0.000000</td>\n",
       "      <td>1621.000000</td>\n",
       "    </tr>\n",
       "    <tr>\n",
       "      <th>max</th>\n",
       "      <td>0.445956</td>\n",
       "      <td>1.000000</td>\n",
       "      <td>1.000000</td>\n",
       "      <td>6.270000</td>\n",
       "      <td>1.000000</td>\n",
       "      <td>1.000000</td>\n",
       "      <td>1.000000</td>\n",
       "      <td>1.720241e+08</td>\n",
       "      <td>1.000000</td>\n",
       "      <td>100.000000</td>\n",
       "      <td>1.000000</td>\n",
       "      <td>8674.000000</td>\n",
       "    </tr>\n",
       "  </tbody>\n",
       "</table>\n",
       "</div>"
      ],
      "text/plain": [
       "       Percent_Less_9th  Percent_more_than_hs  Percent_1_unit  Avg_hh_size  \\\n",
       "count       4831.000000           4831.000000     4831.000000  4825.000000   \n",
       "mean           0.067086              0.576501        0.482588     2.713188   \n",
       "std            0.066355              0.164563        0.333066     0.554915   \n",
       "min            0.000000              0.000000        0.000000     1.030000   \n",
       "25%            0.020387              0.458327        0.132480     2.350000   \n",
       "50%            0.043080              0.570190        0.522355     2.640000   \n",
       "75%            0.094349              0.686537        0.784092     3.030000   \n",
       "max            0.445956              1.000000        1.000000     6.270000   \n",
       "\n",
       "       Percent_hh_w_children  Percent_10+_units  Percent_Heating_electricity  \\\n",
       "count            4831.000000        4831.000000                  4831.000000   \n",
       "mean                0.286205           0.230209                     0.095650   \n",
       "std                 0.100208           0.302982                     0.100251   \n",
       "min                 0.000000           0.000000                     0.000000   \n",
       "25%                 0.226397           0.011958                     0.033696   \n",
       "50%                 0.283035           0.077684                     0.065364   \n",
       "75%                 0.346515           0.343447                     0.120509   \n",
       "max                 1.000000           1.000000                     1.000000   \n",
       "\n",
       "       yearly_sunlight_kwh_total  Percent_6_rooms  percent_qualified  \\\n",
       "count               3.739000e+03      4831.000000        3739.000000   \n",
       "mean                9.249323e+06         0.157265          74.146273   \n",
       "std                 1.175220e+07         0.090244          13.161878   \n",
       "min                 2.178341e+03         0.000000          21.212121   \n",
       "25%                 2.905493e+06         0.084387          66.218202   \n",
       "50%                 4.895547e+06         0.158165          75.939850   \n",
       "75%                 1.175304e+07         0.218540          83.643871   \n",
       "max                 1.720241e+08         1.000000         100.000000   \n",
       "\n",
       "       Project_yes       weight  \n",
       "count  4831.000000  4831.000000  \n",
       "mean      0.247154  1106.759677  \n",
       "std       0.431402   904.993411  \n",
       "min       0.000000     1.000000  \n",
       "25%       0.000000   298.500000  \n",
       "50%       0.000000  1065.000000  \n",
       "75%       0.000000  1621.000000  \n",
       "max       1.000000  8674.000000  "
      ]
     },
     "execution_count": 9,
     "metadata": {},
     "output_type": "execute_result"
    }
   ],
   "source": [
    "df=raw_data[acs_percent_variables]\n",
    "df.describe()"
   ]
  },
  {
   "cell_type": "code",
   "execution_count": 10,
   "metadata": {},
   "outputs": [
    {
     "data": {
      "text/plain": [
       "(4831, 13)"
      ]
     },
     "execution_count": 10,
     "metadata": {},
     "output_type": "execute_result"
    }
   ],
   "source": [
    "df.shape"
   ]
  },
  {
   "cell_type": "code",
   "execution_count": 22,
   "metadata": {},
   "outputs": [],
   "source": [
    "# Imputing missing values\n",
    "df.loc[df['yearly_sunlight_kwh_total'].isnull(), 'yearly_sunlight_kwh_total'] = 0\n",
    "df.loc[df['percent_qualified'].isnull(), 'percent_qualified'] = 200\n",
    "df.loc[df['Avg_hh_size'].isnull(), 'Avg_hh_size']=np.mean(df.Avg_hh_size)"
   ]
  },
  {
   "cell_type": "code",
   "execution_count": 23,
   "metadata": {},
   "outputs": [
    {
     "data": {
      "text/html": [
       "<div>\n",
       "<style>\n",
       "    .dataframe thead tr:only-child th {\n",
       "        text-align: right;\n",
       "    }\n",
       "\n",
       "    .dataframe thead th {\n",
       "        text-align: left;\n",
       "    }\n",
       "\n",
       "    .dataframe tbody tr th {\n",
       "        vertical-align: top;\n",
       "    }\n",
       "</style>\n",
       "<table border=\"1\" class=\"dataframe\">\n",
       "  <thead>\n",
       "    <tr style=\"text-align: right;\">\n",
       "      <th></th>\n",
       "      <th>Percent_Less_9th</th>\n",
       "      <th>Percent_more_than_hs</th>\n",
       "      <th>Percent_1_unit</th>\n",
       "      <th>Avg_hh_size</th>\n",
       "      <th>Percent_hh_w_children</th>\n",
       "      <th>Percent_10+_units</th>\n",
       "      <th>Percent_Heating_electricity</th>\n",
       "      <th>yearly_sunlight_kwh_total</th>\n",
       "      <th>Percent_6_rooms</th>\n",
       "      <th>percent_qualified</th>\n",
       "      <th>Project_yes</th>\n",
       "      <th>weight</th>\n",
       "    </tr>\n",
       "  </thead>\n",
       "  <tbody>\n",
       "    <tr>\n",
       "      <th>count</th>\n",
       "      <td>4831.000000</td>\n",
       "      <td>4831.000000</td>\n",
       "      <td>4831.000000</td>\n",
       "      <td>4831.000000</td>\n",
       "      <td>4831.000000</td>\n",
       "      <td>4831.000000</td>\n",
       "      <td>4831.000000</td>\n",
       "      <td>4.831000e+03</td>\n",
       "      <td>4831.000000</td>\n",
       "      <td>4831.000000</td>\n",
       "      <td>4831.000000</td>\n",
       "      <td>4831.000000</td>\n",
       "    </tr>\n",
       "    <tr>\n",
       "      <th>mean</th>\n",
       "      <td>0.067086</td>\n",
       "      <td>0.576501</td>\n",
       "      <td>0.482588</td>\n",
       "      <td>2.713188</td>\n",
       "      <td>0.286205</td>\n",
       "      <td>0.230209</td>\n",
       "      <td>0.095650</td>\n",
       "      <td>7.158605e+06</td>\n",
       "      <td>0.157265</td>\n",
       "      <td>102.594269</td>\n",
       "      <td>0.247154</td>\n",
       "      <td>1106.759677</td>\n",
       "    </tr>\n",
       "    <tr>\n",
       "      <th>std</th>\n",
       "      <td>0.066355</td>\n",
       "      <td>0.164563</td>\n",
       "      <td>0.333066</td>\n",
       "      <td>0.554570</td>\n",
       "      <td>0.100208</td>\n",
       "      <td>0.302982</td>\n",
       "      <td>0.100251</td>\n",
       "      <td>1.103894e+07</td>\n",
       "      <td>0.090244</td>\n",
       "      <td>53.903993</td>\n",
       "      <td>0.431402</td>\n",
       "      <td>904.993411</td>\n",
       "    </tr>\n",
       "    <tr>\n",
       "      <th>min</th>\n",
       "      <td>0.000000</td>\n",
       "      <td>0.000000</td>\n",
       "      <td>0.000000</td>\n",
       "      <td>1.030000</td>\n",
       "      <td>0.000000</td>\n",
       "      <td>0.000000</td>\n",
       "      <td>0.000000</td>\n",
       "      <td>0.000000e+00</td>\n",
       "      <td>0.000000</td>\n",
       "      <td>21.212121</td>\n",
       "      <td>0.000000</td>\n",
       "      <td>1.000000</td>\n",
       "    </tr>\n",
       "    <tr>\n",
       "      <th>25%</th>\n",
       "      <td>0.020387</td>\n",
       "      <td>0.458327</td>\n",
       "      <td>0.132480</td>\n",
       "      <td>2.350000</td>\n",
       "      <td>0.226397</td>\n",
       "      <td>0.011958</td>\n",
       "      <td>0.033696</td>\n",
       "      <td>9.854517e+05</td>\n",
       "      <td>0.084387</td>\n",
       "      <td>69.403086</td>\n",
       "      <td>0.000000</td>\n",
       "      <td>298.500000</td>\n",
       "    </tr>\n",
       "    <tr>\n",
       "      <th>50%</th>\n",
       "      <td>0.043080</td>\n",
       "      <td>0.570190</td>\n",
       "      <td>0.522355</td>\n",
       "      <td>2.640000</td>\n",
       "      <td>0.283035</td>\n",
       "      <td>0.077684</td>\n",
       "      <td>0.065364</td>\n",
       "      <td>3.585665e+06</td>\n",
       "      <td>0.158165</td>\n",
       "      <td>80.549683</td>\n",
       "      <td>0.000000</td>\n",
       "      <td>1065.000000</td>\n",
       "    </tr>\n",
       "    <tr>\n",
       "      <th>75%</th>\n",
       "      <td>0.094349</td>\n",
       "      <td>0.686537</td>\n",
       "      <td>0.784092</td>\n",
       "      <td>3.030000</td>\n",
       "      <td>0.346515</td>\n",
       "      <td>0.343447</td>\n",
       "      <td>0.120509</td>\n",
       "      <td>8.907324e+06</td>\n",
       "      <td>0.218540</td>\n",
       "      <td>94.555336</td>\n",
       "      <td>0.000000</td>\n",
       "      <td>1621.000000</td>\n",
       "    </tr>\n",
       "    <tr>\n",
       "      <th>max</th>\n",
       "      <td>0.445956</td>\n",
       "      <td>1.000000</td>\n",
       "      <td>1.000000</td>\n",
       "      <td>6.270000</td>\n",
       "      <td>1.000000</td>\n",
       "      <td>1.000000</td>\n",
       "      <td>1.000000</td>\n",
       "      <td>1.720241e+08</td>\n",
       "      <td>1.000000</td>\n",
       "      <td>200.000000</td>\n",
       "      <td>1.000000</td>\n",
       "      <td>8674.000000</td>\n",
       "    </tr>\n",
       "  </tbody>\n",
       "</table>\n",
       "</div>"
      ],
      "text/plain": [
       "       Percent_Less_9th  Percent_more_than_hs  Percent_1_unit  Avg_hh_size  \\\n",
       "count       4831.000000           4831.000000     4831.000000  4831.000000   \n",
       "mean           0.067086              0.576501        0.482588     2.713188   \n",
       "std            0.066355              0.164563        0.333066     0.554570   \n",
       "min            0.000000              0.000000        0.000000     1.030000   \n",
       "25%            0.020387              0.458327        0.132480     2.350000   \n",
       "50%            0.043080              0.570190        0.522355     2.640000   \n",
       "75%            0.094349              0.686537        0.784092     3.030000   \n",
       "max            0.445956              1.000000        1.000000     6.270000   \n",
       "\n",
       "       Percent_hh_w_children  Percent_10+_units  Percent_Heating_electricity  \\\n",
       "count            4831.000000        4831.000000                  4831.000000   \n",
       "mean                0.286205           0.230209                     0.095650   \n",
       "std                 0.100208           0.302982                     0.100251   \n",
       "min                 0.000000           0.000000                     0.000000   \n",
       "25%                 0.226397           0.011958                     0.033696   \n",
       "50%                 0.283035           0.077684                     0.065364   \n",
       "75%                 0.346515           0.343447                     0.120509   \n",
       "max                 1.000000           1.000000                     1.000000   \n",
       "\n",
       "       yearly_sunlight_kwh_total  Percent_6_rooms  percent_qualified  \\\n",
       "count               4.831000e+03      4831.000000        4831.000000   \n",
       "mean                7.158605e+06         0.157265         102.594269   \n",
       "std                 1.103894e+07         0.090244          53.903993   \n",
       "min                 0.000000e+00         0.000000          21.212121   \n",
       "25%                 9.854517e+05         0.084387          69.403086   \n",
       "50%                 3.585665e+06         0.158165          80.549683   \n",
       "75%                 8.907324e+06         0.218540          94.555336   \n",
       "max                 1.720241e+08         1.000000         200.000000   \n",
       "\n",
       "       Project_yes       weight  \n",
       "count  4831.000000  4831.000000  \n",
       "mean      0.247154  1106.759677  \n",
       "std       0.431402   904.993411  \n",
       "min       0.000000     1.000000  \n",
       "25%       0.000000   298.500000  \n",
       "50%       0.000000  1065.000000  \n",
       "75%       0.000000  1621.000000  \n",
       "max       1.000000  8674.000000  "
      ]
     },
     "execution_count": 23,
     "metadata": {},
     "output_type": "execute_result"
    }
   ],
   "source": [
    "df.describe()"
   ]
  },
  {
   "cell_type": "code",
   "execution_count": 24,
   "metadata": {
    "collapsed": true
   },
   "outputs": [],
   "source": [
    "y=df['Project_yes']\n",
    "weights=df['weight']\n",
    "features=df.drop(['Project_yes', 'weight','Duplicate'], axis=1)\n"
   ]
  },
  {
   "cell_type": "code",
   "execution_count": 25,
   "metadata": {},
   "outputs": [
    {
     "data": {
      "text/plain": [
       "(4831, 10)"
      ]
     },
     "execution_count": 25,
     "metadata": {},
     "output_type": "execute_result"
    }
   ],
   "source": [
    "features.shape"
   ]
  },
  {
   "cell_type": "markdown",
   "metadata": {},
   "source": [
    "## My score - AUC"
   ]
  },
  {
   "cell_type": "code",
   "execution_count": 26,
   "metadata": {
    "collapsed": true
   },
   "outputs": [],
   "source": [
    "from sklearn.metrics import make_scorer\n",
    "from sklearn.metrics import roc_curve, auc\n",
    "\n",
    "# define scoring function \n",
    "def custom_auc(ground_truth, predictions):\n",
    "    # I need only one column of predictions[\"0\" and \"1\"]. You can get an error here\n",
    "    # while trying to return both columns at once\n",
    "    fpr, tpr, _ = roc_curve(ground_truth, predictions[:, 1], pos_label=1)    \n",
    "    return auc(fpr, tpr)\n",
    "\n",
    "# to be standart sklearn's scorer        \n",
    "my_auc = make_scorer(custom_auc, greater_is_better=True, needs_proba=True)"
   ]
  },
  {
   "cell_type": "code",
   "execution_count": 27,
   "metadata": {
    "collapsed": true
   },
   "outputs": [],
   "source": [
    "X_train, X_test, y_train, y_test, weights_train, weights_test = train_test_split(features, y, weights, test_size=0.3, random_state=42)"
   ]
  },
  {
   "cell_type": "code",
   "execution_count": 28,
   "metadata": {},
   "outputs": [],
   "source": [
    "model = GradientBoostingClassifier()\n",
    "search = GridSearchCV(model, param_grid = {'n_estimators' : [500, 1000], 'subsample' :[0.5,0.8],\n",
    "                                           'max_depth': [2,3,4,5], 'learning_rate' : [0.01, 0.001]}, \n",
    "                      scoring=my_auc, fit_params={'sample_weight': weights_train}, n_jobs=1, iid=True, refit=True, \n",
    "             cv=None, verbose=5, pre_dispatch='2*n_jobs', error_score='raise', return_train_score=True)"
   ]
  },
  {
   "cell_type": "code",
   "execution_count": 29,
   "metadata": {},
   "outputs": [
    {
     "name": "stdout",
     "output_type": "stream",
     "text": [
      "Fitting 3 folds for each of 32 candidates, totalling 96 fits\n",
      "[CV] n_estimators=500, subsample=0.5, learning_rate=0.01, max_depth=2 \n",
      "[CV]  n_estimators=500, subsample=0.5, learning_rate=0.01, max_depth=2, score=0.762591, total=   1.0s\n",
      "[CV] n_estimators=500, subsample=0.5, learning_rate=0.01, max_depth=2 \n"
     ]
    },
    {
     "name": "stderr",
     "output_type": "stream",
     "text": [
      "[Parallel(n_jobs=1)]: Done   1 out of   1 | elapsed:    1.1s remaining:    0.0s\n"
     ]
    },
    {
     "name": "stdout",
     "output_type": "stream",
     "text": [
      "[CV]  n_estimators=500, subsample=0.5, learning_rate=0.01, max_depth=2, score=0.758011, total=   0.9s\n",
      "[CV] n_estimators=500, subsample=0.5, learning_rate=0.01, max_depth=2 \n"
     ]
    },
    {
     "name": "stderr",
     "output_type": "stream",
     "text": [
      "[Parallel(n_jobs=1)]: Done   2 out of   2 | elapsed:    2.0s remaining:    0.0s\n"
     ]
    },
    {
     "name": "stdout",
     "output_type": "stream",
     "text": [
      "[CV]  n_estimators=500, subsample=0.5, learning_rate=0.01, max_depth=2, score=0.749947, total=   1.0s\n",
      "[CV] n_estimators=500, subsample=0.8, learning_rate=0.01, max_depth=2 \n"
     ]
    },
    {
     "name": "stderr",
     "output_type": "stream",
     "text": [
      "[Parallel(n_jobs=1)]: Done   3 out of   3 | elapsed:    3.0s remaining:    0.0s\n"
     ]
    },
    {
     "name": "stdout",
     "output_type": "stream",
     "text": [
      "[CV]  n_estimators=500, subsample=0.8, learning_rate=0.01, max_depth=2, score=0.761587, total=   1.0s\n",
      "[CV] n_estimators=500, subsample=0.8, learning_rate=0.01, max_depth=2 \n"
     ]
    },
    {
     "name": "stderr",
     "output_type": "stream",
     "text": [
      "[Parallel(n_jobs=1)]: Done   4 out of   4 | elapsed:    4.0s remaining:    0.0s\n"
     ]
    },
    {
     "name": "stdout",
     "output_type": "stream",
     "text": [
      "[CV]  n_estimators=500, subsample=0.8, learning_rate=0.01, max_depth=2, score=0.758363, total=   1.0s\n",
      "[CV] n_estimators=500, subsample=0.8, learning_rate=0.01, max_depth=2 \n",
      "[CV]  n_estimators=500, subsample=0.8, learning_rate=0.01, max_depth=2, score=0.749500, total=   1.0s\n",
      "[CV] n_estimators=1000, subsample=0.5, learning_rate=0.01, max_depth=2 \n",
      "[CV]  n_estimators=1000, subsample=0.5, learning_rate=0.01, max_depth=2, score=0.763564, total=   1.9s\n",
      "[CV] n_estimators=1000, subsample=0.5, learning_rate=0.01, max_depth=2 \n",
      "[CV]  n_estimators=1000, subsample=0.5, learning_rate=0.01, max_depth=2, score=0.753254, total=   1.8s\n",
      "[CV] n_estimators=1000, subsample=0.5, learning_rate=0.01, max_depth=2 \n",
      "[CV]  n_estimators=1000, subsample=0.5, learning_rate=0.01, max_depth=2, score=0.749377, total=   1.9s\n",
      "[CV] n_estimators=1000, subsample=0.8, learning_rate=0.01, max_depth=2 \n",
      "[CV]  n_estimators=1000, subsample=0.8, learning_rate=0.01, max_depth=2, score=0.762761, total=   2.0s\n",
      "[CV] n_estimators=1000, subsample=0.8, learning_rate=0.01, max_depth=2 \n",
      "[CV]  n_estimators=1000, subsample=0.8, learning_rate=0.01, max_depth=2, score=0.759793, total=   2.1s\n",
      "[CV] n_estimators=1000, subsample=0.8, learning_rate=0.01, max_depth=2 \n",
      "[CV]  n_estimators=1000, subsample=0.8, learning_rate=0.01, max_depth=2, score=0.753764, total=   2.0s\n",
      "[CV] n_estimators=500, subsample=0.5, learning_rate=0.01, max_depth=3 \n",
      "[CV]  n_estimators=500, subsample=0.5, learning_rate=0.01, max_depth=3, score=0.750831, total=   1.2s\n",
      "[CV] n_estimators=500, subsample=0.5, learning_rate=0.01, max_depth=3 \n",
      "[CV]  n_estimators=500, subsample=0.5, learning_rate=0.01, max_depth=3, score=0.760369, total=   1.2s\n",
      "[CV] n_estimators=500, subsample=0.5, learning_rate=0.01, max_depth=3 \n",
      "[CV]  n_estimators=500, subsample=0.5, learning_rate=0.01, max_depth=3, score=0.739894, total=   1.3s\n",
      "[CV] n_estimators=500, subsample=0.8, learning_rate=0.01, max_depth=3 \n",
      "[CV]  n_estimators=500, subsample=0.8, learning_rate=0.01, max_depth=3, score=0.759226, total=   1.4s\n",
      "[CV] n_estimators=500, subsample=0.8, learning_rate=0.01, max_depth=3 \n",
      "[CV]  n_estimators=500, subsample=0.8, learning_rate=0.01, max_depth=3, score=0.755651, total=   1.4s\n",
      "[CV] n_estimators=500, subsample=0.8, learning_rate=0.01, max_depth=3 \n",
      "[CV]  n_estimators=500, subsample=0.8, learning_rate=0.01, max_depth=3, score=0.750135, total=   1.4s\n",
      "[CV] n_estimators=1000, subsample=0.5, learning_rate=0.01, max_depth=3 \n",
      "[CV]  n_estimators=1000, subsample=0.5, learning_rate=0.01, max_depth=3, score=0.749911, total=   2.4s\n",
      "[CV] n_estimators=1000, subsample=0.5, learning_rate=0.01, max_depth=3 \n",
      "[CV]  n_estimators=1000, subsample=0.5, learning_rate=0.01, max_depth=3, score=0.737481, total=   2.5s\n",
      "[CV] n_estimators=1000, subsample=0.5, learning_rate=0.01, max_depth=3 \n",
      "[CV]  n_estimators=1000, subsample=0.5, learning_rate=0.01, max_depth=3, score=0.737048, total=   2.5s\n",
      "[CV] n_estimators=1000, subsample=0.8, learning_rate=0.01, max_depth=3 \n",
      "[CV]  n_estimators=1000, subsample=0.8, learning_rate=0.01, max_depth=3, score=0.757957, total=   2.8s\n",
      "[CV] n_estimators=1000, subsample=0.8, learning_rate=0.01, max_depth=3 \n",
      "[CV]  n_estimators=1000, subsample=0.8, learning_rate=0.01, max_depth=3, score=0.756655, total=   2.9s\n",
      "[CV] n_estimators=1000, subsample=0.8, learning_rate=0.01, max_depth=3 \n",
      "[CV]  n_estimators=1000, subsample=0.8, learning_rate=0.01, max_depth=3, score=0.745871, total=   2.8s\n",
      "[CV] n_estimators=500, subsample=0.5, learning_rate=0.01, max_depth=4 \n",
      "[CV]  n_estimators=500, subsample=0.5, learning_rate=0.01, max_depth=4, score=0.754810, total=   1.5s\n",
      "[CV] n_estimators=500, subsample=0.5, learning_rate=0.01, max_depth=4 \n",
      "[CV]  n_estimators=500, subsample=0.5, learning_rate=0.01, max_depth=4, score=0.737012, total=   1.5s\n",
      "[CV] n_estimators=500, subsample=0.5, learning_rate=0.01, max_depth=4 \n",
      "[CV]  n_estimators=500, subsample=0.5, learning_rate=0.01, max_depth=4, score=0.737527, total=   1.6s\n",
      "[CV] n_estimators=500, subsample=0.8, learning_rate=0.01, max_depth=4 \n",
      "[CV]  n_estimators=500, subsample=0.8, learning_rate=0.01, max_depth=4, score=0.754161, total=   1.8s\n",
      "[CV] n_estimators=500, subsample=0.8, learning_rate=0.01, max_depth=4 \n",
      "[CV]  n_estimators=500, subsample=0.8, learning_rate=0.01, max_depth=4, score=0.753022, total=   1.9s\n",
      "[CV] n_estimators=500, subsample=0.8, learning_rate=0.01, max_depth=4 \n",
      "[CV]  n_estimators=500, subsample=0.8, learning_rate=0.01, max_depth=4, score=0.754549, total=   1.8s\n",
      "[CV] n_estimators=1000, subsample=0.5, learning_rate=0.01, max_depth=4 \n",
      "[CV]  n_estimators=1000, subsample=0.5, learning_rate=0.01, max_depth=4, score=0.739856, total=   3.1s\n",
      "[CV] n_estimators=1000, subsample=0.5, learning_rate=0.01, max_depth=4 \n",
      "[CV]  n_estimators=1000, subsample=0.5, learning_rate=0.01, max_depth=4, score=0.739864, total=   3.1s\n",
      "[CV] n_estimators=1000, subsample=0.5, learning_rate=0.01, max_depth=4 \n",
      "[CV]  n_estimators=1000, subsample=0.5, learning_rate=0.01, max_depth=4, score=0.738807, total=   3.2s\n",
      "[CV] n_estimators=1000, subsample=0.8, learning_rate=0.01, max_depth=4 \n",
      "[CV]  n_estimators=1000, subsample=0.8, learning_rate=0.01, max_depth=4, score=0.745799, total=   3.7s\n",
      "[CV] n_estimators=1000, subsample=0.8, learning_rate=0.01, max_depth=4 \n",
      "[CV]  n_estimators=1000, subsample=0.8, learning_rate=0.01, max_depth=4, score=0.747499, total=   3.8s\n",
      "[CV] n_estimators=1000, subsample=0.8, learning_rate=0.01, max_depth=4 \n",
      "[CV]  n_estimators=1000, subsample=0.8, learning_rate=0.01, max_depth=4, score=0.748168, total=   4.1s\n",
      "[CV] n_estimators=500, subsample=0.5, learning_rate=0.01, max_depth=5 \n",
      "[CV]  n_estimators=500, subsample=0.5, learning_rate=0.01, max_depth=5, score=0.738848, total=   1.9s\n",
      "[CV] n_estimators=500, subsample=0.5, learning_rate=0.01, max_depth=5 \n",
      "[CV]  n_estimators=500, subsample=0.5, learning_rate=0.01, max_depth=5, score=0.724191, total=   2.0s\n",
      "[CV] n_estimators=500, subsample=0.5, learning_rate=0.01, max_depth=5 \n",
      "[CV]  n_estimators=500, subsample=0.5, learning_rate=0.01, max_depth=5, score=0.729437, total=   2.0s\n",
      "[CV] n_estimators=500, subsample=0.8, learning_rate=0.01, max_depth=5 \n",
      "[CV]  n_estimators=500, subsample=0.8, learning_rate=0.01, max_depth=5, score=0.749222, total=   2.4s\n",
      "[CV] n_estimators=500, subsample=0.8, learning_rate=0.01, max_depth=5 \n",
      "[CV]  n_estimators=500, subsample=0.8, learning_rate=0.01, max_depth=5, score=0.741393, total=   2.4s\n",
      "[CV] n_estimators=500, subsample=0.8, learning_rate=0.01, max_depth=5 \n",
      "[CV]  n_estimators=500, subsample=0.8, learning_rate=0.01, max_depth=5, score=0.747083, total=   2.4s\n",
      "[CV] n_estimators=1000, subsample=0.5, learning_rate=0.01, max_depth=5 \n",
      "[CV]  n_estimators=1000, subsample=0.5, learning_rate=0.01, max_depth=5, score=0.743890, total=   4.0s\n",
      "[CV] n_estimators=1000, subsample=0.5, learning_rate=0.01, max_depth=5 \n",
      "[CV]  n_estimators=1000, subsample=0.5, learning_rate=0.01, max_depth=5, score=0.736200, total=   3.9s\n",
      "[CV] n_estimators=1000, subsample=0.5, learning_rate=0.01, max_depth=5 \n",
      "[CV]  n_estimators=1000, subsample=0.5, learning_rate=0.01, max_depth=5, score=0.735360, total=   4.0s\n",
      "[CV] n_estimators=1000, subsample=0.8, learning_rate=0.01, max_depth=5 \n",
      "[CV]  n_estimators=1000, subsample=0.8, learning_rate=0.01, max_depth=5, score=0.750064, total=   4.7s\n",
      "[CV] n_estimators=1000, subsample=0.8, learning_rate=0.01, max_depth=5 \n",
      "[CV]  n_estimators=1000, subsample=0.8, learning_rate=0.01, max_depth=5, score=0.746199, total=   4.6s\n",
      "[CV] n_estimators=1000, subsample=0.8, learning_rate=0.01, max_depth=5 \n",
      "[CV]  n_estimators=1000, subsample=0.8, learning_rate=0.01, max_depth=5, score=0.740649, total=   4.8s\n",
      "[CV] n_estimators=500, subsample=0.5, learning_rate=0.001, max_depth=2 \n",
      "[CV]  n_estimators=500, subsample=0.5, learning_rate=0.001, max_depth=2, score=0.741833, total=   1.0s\n",
      "[CV] n_estimators=500, subsample=0.5, learning_rate=0.001, max_depth=2 \n",
      "[CV]  n_estimators=500, subsample=0.5, learning_rate=0.001, max_depth=2, score=0.736709, total=   0.9s\n",
      "[CV] n_estimators=500, subsample=0.5, learning_rate=0.001, max_depth=2 \n",
      "[CV]  n_estimators=500, subsample=0.5, learning_rate=0.001, max_depth=2, score=0.729988, total=   0.9s\n",
      "[CV] n_estimators=500, subsample=0.8, learning_rate=0.001, max_depth=2 \n",
      "[CV]  n_estimators=500, subsample=0.8, learning_rate=0.001, max_depth=2, score=0.751644, total=   1.0s\n",
      "[CV] n_estimators=500, subsample=0.8, learning_rate=0.001, max_depth=2 \n"
     ]
    },
    {
     "name": "stdout",
     "output_type": "stream",
     "text": [
      "[CV]  n_estimators=500, subsample=0.8, learning_rate=0.001, max_depth=2, score=0.746326, total=   1.0s\n",
      "[CV] n_estimators=500, subsample=0.8, learning_rate=0.001, max_depth=2 \n",
      "[CV]  n_estimators=500, subsample=0.8, learning_rate=0.001, max_depth=2, score=0.731440, total=   1.0s\n",
      "[CV] n_estimators=1000, subsample=0.5, learning_rate=0.001, max_depth=2 \n",
      "[CV]  n_estimators=1000, subsample=0.5, learning_rate=0.001, max_depth=2, score=0.748743, total=   1.9s\n",
      "[CV] n_estimators=1000, subsample=0.5, learning_rate=0.001, max_depth=2 \n",
      "[CV]  n_estimators=1000, subsample=0.5, learning_rate=0.001, max_depth=2, score=0.742043, total=   1.9s\n",
      "[CV] n_estimators=1000, subsample=0.5, learning_rate=0.001, max_depth=2 \n",
      "[CV]  n_estimators=1000, subsample=0.5, learning_rate=0.001, max_depth=2, score=0.738486, total=   2.4s\n",
      "[CV] n_estimators=1000, subsample=0.8, learning_rate=0.001, max_depth=2 \n",
      "[CV]  n_estimators=1000, subsample=0.8, learning_rate=0.001, max_depth=2, score=0.752824, total=   2.4s\n",
      "[CV] n_estimators=1000, subsample=0.8, learning_rate=0.001, max_depth=2 \n",
      "[CV]  n_estimators=1000, subsample=0.8, learning_rate=0.001, max_depth=2, score=0.751895, total=   2.4s\n",
      "[CV] n_estimators=1000, subsample=0.8, learning_rate=0.001, max_depth=2 \n",
      "[CV]  n_estimators=1000, subsample=0.8, learning_rate=0.001, max_depth=2, score=0.746093, total=   2.1s\n",
      "[CV] n_estimators=500, subsample=0.5, learning_rate=0.001, max_depth=3 \n",
      "[CV]  n_estimators=500, subsample=0.5, learning_rate=0.001, max_depth=3, score=0.749094, total=   1.2s\n",
      "[CV] n_estimators=500, subsample=0.5, learning_rate=0.001, max_depth=3 \n",
      "[CV]  n_estimators=500, subsample=0.5, learning_rate=0.001, max_depth=3, score=0.739212, total=   1.3s\n",
      "[CV] n_estimators=500, subsample=0.5, learning_rate=0.001, max_depth=3 \n",
      "[CV]  n_estimators=500, subsample=0.5, learning_rate=0.001, max_depth=3, score=0.740493, total=   1.3s\n",
      "[CV] n_estimators=500, subsample=0.8, learning_rate=0.001, max_depth=3 \n",
      "[CV]  n_estimators=500, subsample=0.8, learning_rate=0.001, max_depth=3, score=0.757165, total=   1.5s\n",
      "[CV] n_estimators=500, subsample=0.8, learning_rate=0.001, max_depth=3 \n",
      "[CV]  n_estimators=500, subsample=0.8, learning_rate=0.001, max_depth=3, score=0.754978, total=   1.4s\n",
      "[CV] n_estimators=500, subsample=0.8, learning_rate=0.001, max_depth=3 \n",
      "[CV]  n_estimators=500, subsample=0.8, learning_rate=0.001, max_depth=3, score=0.755304, total=   1.5s\n",
      "[CV] n_estimators=1000, subsample=0.5, learning_rate=0.001, max_depth=3 \n",
      "[CV]  n_estimators=1000, subsample=0.5, learning_rate=0.001, max_depth=3, score=0.751299, total=   2.5s\n",
      "[CV] n_estimators=1000, subsample=0.5, learning_rate=0.001, max_depth=3 \n",
      "[CV]  n_estimators=1000, subsample=0.5, learning_rate=0.001, max_depth=3, score=0.748517, total=   2.6s\n",
      "[CV] n_estimators=1000, subsample=0.5, learning_rate=0.001, max_depth=3 \n",
      "[CV]  n_estimators=1000, subsample=0.5, learning_rate=0.001, max_depth=3, score=0.747524, total=   2.5s\n",
      "[CV] n_estimators=1000, subsample=0.8, learning_rate=0.001, max_depth=3 \n",
      "[CV]  n_estimators=1000, subsample=0.8, learning_rate=0.001, max_depth=3, score=0.757253, total=   3.0s\n",
      "[CV] n_estimators=1000, subsample=0.8, learning_rate=0.001, max_depth=3 \n",
      "[CV]  n_estimators=1000, subsample=0.8, learning_rate=0.001, max_depth=3, score=0.756625, total=   3.0s\n",
      "[CV] n_estimators=1000, subsample=0.8, learning_rate=0.001, max_depth=3 \n",
      "[CV]  n_estimators=1000, subsample=0.8, learning_rate=0.001, max_depth=3, score=0.756408, total=   2.9s\n",
      "[CV] n_estimators=500, subsample=0.5, learning_rate=0.001, max_depth=4 \n",
      "[CV]  n_estimators=500, subsample=0.5, learning_rate=0.001, max_depth=4, score=0.744291, total=   1.7s\n",
      "[CV] n_estimators=500, subsample=0.5, learning_rate=0.001, max_depth=4 \n",
      "[CV]  n_estimators=500, subsample=0.5, learning_rate=0.001, max_depth=4, score=0.747011, total=   1.6s\n",
      "[CV] n_estimators=500, subsample=0.5, learning_rate=0.001, max_depth=4 \n",
      "[CV]  n_estimators=500, subsample=0.5, learning_rate=0.001, max_depth=4, score=0.749040, total=   1.7s\n",
      "[CV] n_estimators=500, subsample=0.8, learning_rate=0.001, max_depth=4 \n",
      "[CV]  n_estimators=500, subsample=0.8, learning_rate=0.001, max_depth=4, score=0.750364, total=   2.0s\n",
      "[CV] n_estimators=500, subsample=0.8, learning_rate=0.001, max_depth=4 \n",
      "[CV]  n_estimators=500, subsample=0.8, learning_rate=0.001, max_depth=4, score=0.753746, total=   1.9s\n",
      "[CV] n_estimators=500, subsample=0.8, learning_rate=0.001, max_depth=4 \n",
      "[CV]  n_estimators=500, subsample=0.8, learning_rate=0.001, max_depth=4, score=0.757177, total=   2.0s\n",
      "[CV] n_estimators=1000, subsample=0.5, learning_rate=0.001, max_depth=4 \n",
      "[CV]  n_estimators=1000, subsample=0.5, learning_rate=0.001, max_depth=4, score=0.751247, total=   3.2s\n",
      "[CV] n_estimators=1000, subsample=0.5, learning_rate=0.001, max_depth=4 \n",
      "[CV]  n_estimators=1000, subsample=0.5, learning_rate=0.001, max_depth=4, score=0.750072, total=   3.2s\n",
      "[CV] n_estimators=1000, subsample=0.5, learning_rate=0.001, max_depth=4 \n",
      "[CV]  n_estimators=1000, subsample=0.5, learning_rate=0.001, max_depth=4, score=0.750175, total=   3.2s\n",
      "[CV] n_estimators=1000, subsample=0.8, learning_rate=0.001, max_depth=4 \n",
      "[CV]  n_estimators=1000, subsample=0.8, learning_rate=0.001, max_depth=4, score=0.755371, total=   3.8s\n",
      "[CV] n_estimators=1000, subsample=0.8, learning_rate=0.001, max_depth=4 \n",
      "[CV]  n_estimators=1000, subsample=0.8, learning_rate=0.001, max_depth=4, score=0.752455, total=   3.8s\n",
      "[CV] n_estimators=1000, subsample=0.8, learning_rate=0.001, max_depth=4 \n",
      "[CV]  n_estimators=1000, subsample=0.8, learning_rate=0.001, max_depth=4, score=0.760769, total=   3.9s\n",
      "[CV] n_estimators=500, subsample=0.5, learning_rate=0.001, max_depth=5 \n",
      "[CV]  n_estimators=500, subsample=0.5, learning_rate=0.001, max_depth=5, score=0.742100, total=   2.0s\n",
      "[CV] n_estimators=500, subsample=0.5, learning_rate=0.001, max_depth=5 \n",
      "[CV]  n_estimators=500, subsample=0.5, learning_rate=0.001, max_depth=5, score=0.739179, total=   2.0s\n",
      "[CV] n_estimators=500, subsample=0.5, learning_rate=0.001, max_depth=5 \n",
      "[CV]  n_estimators=500, subsample=0.5, learning_rate=0.001, max_depth=5, score=0.747568, total=   2.1s\n",
      "[CV] n_estimators=500, subsample=0.8, learning_rate=0.001, max_depth=5 \n",
      "[CV]  n_estimators=500, subsample=0.8, learning_rate=0.001, max_depth=5, score=0.742201, total=   2.5s\n",
      "[CV] n_estimators=500, subsample=0.8, learning_rate=0.001, max_depth=5 \n",
      "[CV]  n_estimators=500, subsample=0.8, learning_rate=0.001, max_depth=5, score=0.748896, total=   2.5s\n",
      "[CV] n_estimators=500, subsample=0.8, learning_rate=0.001, max_depth=5 \n",
      "[CV]  n_estimators=500, subsample=0.8, learning_rate=0.001, max_depth=5, score=0.753626, total=   2.6s\n",
      "[CV] n_estimators=1000, subsample=0.5, learning_rate=0.001, max_depth=5 \n",
      "[CV]  n_estimators=1000, subsample=0.5, learning_rate=0.001, max_depth=5, score=0.747054, total=   4.0s\n",
      "[CV] n_estimators=1000, subsample=0.5, learning_rate=0.001, max_depth=5 \n",
      "[CV]  n_estimators=1000, subsample=0.5, learning_rate=0.001, max_depth=5, score=0.747461, total=   4.0s\n",
      "[CV] n_estimators=1000, subsample=0.5, learning_rate=0.001, max_depth=5 \n",
      "[CV]  n_estimators=1000, subsample=0.5, learning_rate=0.001, max_depth=5, score=0.751380, total=   4.1s\n",
      "[CV] n_estimators=1000, subsample=0.8, learning_rate=0.001, max_depth=5 \n",
      "[CV]  n_estimators=1000, subsample=0.8, learning_rate=0.001, max_depth=5, score=0.749478, total=   5.0s\n",
      "[CV] n_estimators=1000, subsample=0.8, learning_rate=0.001, max_depth=5 \n",
      "[CV]  n_estimators=1000, subsample=0.8, learning_rate=0.001, max_depth=5, score=0.749624, total=   4.8s\n",
      "[CV] n_estimators=1000, subsample=0.8, learning_rate=0.001, max_depth=5 \n",
      "[CV]  n_estimators=1000, subsample=0.8, learning_rate=0.001, max_depth=5, score=0.756294, total=   5.1s\n"
     ]
    },
    {
     "name": "stderr",
     "output_type": "stream",
     "text": [
      "[Parallel(n_jobs=1)]: Done  96 out of  96 | elapsed:  3.9min finished\n"
     ]
    }
   ],
   "source": [
    "fitted = search.fit(X_train,y_train)"
   ]
  },
  {
   "cell_type": "code",
   "execution_count": 30,
   "metadata": {},
   "outputs": [
    {
     "data": {
      "text/plain": [
       "0.75436485759231664"
      ]
     },
     "execution_count": 30,
     "metadata": {},
     "output_type": "execute_result"
    }
   ],
   "source": [
    "fitted.score(X_test, y_test)"
   ]
  },
  {
   "cell_type": "code",
   "execution_count": 31,
   "metadata": {},
   "outputs": [
    {
     "data": {
      "text/plain": [
       "0.0"
      ]
     },
     "execution_count": 31,
     "metadata": {},
     "output_type": "execute_result"
    }
   ],
   "source": [
    "recall_score(y_test, fitted.predict(X_test))"
   ]
  },
  {
   "cell_type": "code",
   "execution_count": 32,
   "metadata": {},
   "outputs": [
    {
     "data": {
      "text/plain": [
       "{'learning_rate': 0.01, 'max_depth': 2, 'n_estimators': 1000, 'subsample': 0.8}"
      ]
     },
     "execution_count": 32,
     "metadata": {},
     "output_type": "execute_result"
    }
   ],
   "source": [
    "fitted.best_params_"
   ]
  },
  {
   "cell_type": "code",
   "execution_count": 34,
   "metadata": {},
   "outputs": [
    {
     "name": "stderr",
     "output_type": "stream",
     "text": [
      "/Users/mariamendieta/anaconda2/lib/python2.7/site-packages/ipykernel_launcher.py:2: SettingWithCopyWarning: \n",
      "A value is trying to be set on a copy of a slice from a DataFrame.\n",
      "Try using .loc[row_indexer,col_indexer] = value instead\n",
      "\n",
      "See the caveats in the documentation: http://pandas.pydata.org/pandas-docs/stable/indexing.html#indexing-view-versus-copy\n",
      "  \n"
     ]
    }
   ],
   "source": [
    "# Adding results to orginal Data Frames\n",
    "df['result']=fitted.predict_proba(features)[:,1]"
   ]
  },
  {
   "cell_type": "code",
   "execution_count": 36,
   "metadata": {},
   "outputs": [
    {
     "data": {
      "text/plain": [
       "0.026975101468309105"
      ]
     },
     "execution_count": 36,
     "metadata": {},
     "output_type": "execute_result"
    }
   ],
   "source": [
    "np.mean(df['result'])"
   ]
  },
  {
   "cell_type": "markdown",
   "metadata": {},
   "source": [
    "## ROC Curve"
   ]
  },
  {
   "cell_type": "code",
   "execution_count": 50,
   "metadata": {},
   "outputs": [
    {
     "data": {
      "image/png": "[encoded data removed]",
      "text/plain": [
       "<matplotlib.figure.Figure at 0x111992390>"
      ]
     },
     "metadata": {},
     "output_type": "display_data"
    }
   ],
   "source": [
    "from sklearn import metrics\n",
    "# calculate the fpr and tpr for all thresholds of the classification\n",
    "probs = fitted.predict_proba(features)[:,1]\n",
    "fpr, tpr, threshold = metrics.roc_curve(y, probs)\n",
    "roc_auc = metrics.auc(fpr, tpr)\n",
    "\n",
    "# method I: plt\n",
    "import matplotlib.pyplot as plt\n",
    "fig, ax = plt.subplots(figsize=(12,12))\n",
    "ax.set_title('Receiver Operating Characteristic')\n",
    "ax.plot(fpr, tpr, 'b', label = 'AUC = %0.2f' % roc_auc)\n",
    "ax.legend(loc = 'lower right')\n",
    "ax.plot([0, 1], [0, 1],'r--')\n",
    "ax.set_xlim([0, 1])\n",
    "ax.set_ylim([0, 1])\n",
    "ax.set_ylabel('True Positive Rate')\n",
    "ax.set_xlabel('False Positive Rate')\n",
    "fig.savefig('roc_sep8.png')\n",
    "plt.show()\n"
   ]
  },
  {
   "cell_type": "markdown",
   "metadata": {},
   "source": [
    "## Feature importance"
   ]
  },
  {
   "cell_type": "code",
   "execution_count": 38,
   "metadata": {
    "collapsed": true
   },
   "outputs": [],
   "source": [
    "model = GradientBoostingClassifier(learning_rate=0.01, max_depth=2, n_estimators=500, subsample=0.8)"
   ]
  },
  {
   "cell_type": "code",
   "execution_count": 39,
   "metadata": {
    "collapsed": true
   },
   "outputs": [],
   "source": [
    "fitted = model.fit(features, y, sample_weight=weights)"
   ]
  },
  {
   "cell_type": "code",
   "execution_count": 40,
   "metadata": {},
   "outputs": [
    {
     "data": {
      "text/plain": [
       "array([ 0.13192785,  0.05085881,  0.27763346,  0.02584241,  0.02230084,\n",
       "        0.1285954 ,  0.04101624,  0.15623699,  0.13935621,  0.0262318 ])"
      ]
     },
     "execution_count": 40,
     "metadata": {},
     "output_type": "execute_result"
    }
   ],
   "source": [
    "fitted.feature_importances_"
   ]
  },
  {
   "cell_type": "code",
   "execution_count": 41,
   "metadata": {},
   "outputs": [
    {
     "data": {
      "image/png": "[encoded data removed]",
      "text/plain": [
       "<matplotlib.figure.Figure at 0x111676a50>"
      ]
     },
     "metadata": {},
     "output_type": "display_data"
    }
   ],
   "source": [
    "fitted.feature_importances_\n",
    "feature_importances = 100*fitted.feature_importances_ / np.sum(fitted.feature_importances_)\n",
    "feature_importances, feature_names, feature_idxs = zip(*sorted(zip(feature_importances, list(features.columns), range(len(features.columns)))))\n",
    "\n",
    "width = 0.8\n",
    "\n",
    "idx = np.arange(len(features.columns))\n",
    "\n",
    "fig, ax = plt.subplots(figsize=(10,12))\n",
    "ax.barh(idx, feature_importances, align='center')\n",
    "plt.yticks(idx, feature_names, fontsize=8)\n",
    "\n",
    "ax.set_title(\"Feature Importances in Gradient Booster\")\n",
    "ax.set_xlabel('Relative Importance of Feature', fontsize=10)\n",
    "ax.set_ylabel('Feature Name', fontsize=14)\n",
    "fig.savefig('feat_imp_sep8.png')"
   ]
  },
  {
   "cell_type": "markdown",
   "metadata": {
    "collapsed": true
   },
   "source": [
    "## Saving data with results"
   ]
  },
  {
   "cell_type": "code",
   "execution_count": 45,
   "metadata": {},
   "outputs": [],
   "source": [
    "result = fitted.predict_proba(features)[:,1]\n",
    "raw_data['result']=result\n",
    "raw_data[raw_data['Project_yes']==0]\n",
    "raw_data[raw_data['Project_yes']==0].to_csv('output_sep11.csv')"
   ]
  },
  {
   "cell_type": "code",
   "execution_count": null,
   "metadata": {
    "collapsed": true
   },
   "outputs": [],
   "source": []
  }
 ],
 "metadata": {
  "kernelspec": {
   "display_name": "Python 2",
   "language": "python",
   "name": "python2"
  },
  "language_info": {
   "codemirror_mode": {
    "name": "ipython",
    "version": 2
   },
   "file_extension": ".py",
   "mimetype": "text/x-python",
   "name": "python",
   "nbconvert_exporter": "python",
   "pygments_lexer": "ipython2",
   "version": "2.7.13"
  }
 },
 "nbformat": 4,
 "nbformat_minor": 2
}

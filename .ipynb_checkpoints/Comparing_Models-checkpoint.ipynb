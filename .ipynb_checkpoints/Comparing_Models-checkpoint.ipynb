{
 "cells": [
  {
   "cell_type": "code",
   "execution_count": 1,
   "metadata": {
    "collapsed": true
   },
   "outputs": [],
   "source": [
    "import pandas as pd\n",
    "import matplotlib.pyplot as plt\n",
    "import numpy as np\n",
    "import sys\n",
    "sys.path.insert(0,'src/')\n",
    "import acs5\n",
    "import nyserda_acs\n",
    "import prices\n",
    "import project_sunroof\n",
    "import nyserda\n",
    "from sklearn.model_selection import GridSearchCV\n",
    "from sklearn.ensemble import GradientBoostingClassifier\n",
    "from sklearn.linear_model import LogisticRegression\n",
    "from sklearn.ensemble import RandomForestClassifier\n",
    "from sklearn.model_selection import train_test_split\n",
    "from sklearn.preprocessing import Imputer\n",
    "from sklearn.metrics import recall_score\n",
    "from sklearn.metrics import make_scorer\n",
    "from sklearn.metrics import roc_curve, auc\n",
    "\n",
    "%matplotlib inline"
   ]
  },
  {
   "cell_type": "markdown",
   "metadata": {},
   "source": [
    "## Getting the data"
   ]
  },
  {
   "cell_type": "code",
   "execution_count": 2,
   "metadata": {
    "collapsed": true
   },
   "outputs": [],
   "source": [
    "raw_data = nyserda_acs.merging_data()\n",
    "raw_data=raw_data[raw_data['households']>0]"
   ]
  },
  {
   "cell_type": "markdown",
   "metadata": {},
   "source": [
    "## Generating sample weights"
   ]
  },
  {
   "cell_type": "code",
   "execution_count": 3,
   "metadata": {},
   "outputs": [
    {
     "name": "stderr",
     "output_type": "stream",
     "text": [
      "/Users/mariamendieta/anaconda2/lib/python2.7/site-packages/pandas/core/indexing.py:517: SettingWithCopyWarning: \n",
      "A value is trying to be set on a copy of a slice from a DataFrame.\n",
      "Try using .loc[row_indexer,col_indexer] = value instead\n",
      "\n",
      "See the caveats in the documentation: http://pandas.pydata.org/pandas-docs/stable/indexing.html#indexing-view-versus-copy\n",
      "  self.obj[item] = s\n",
      "/Users/mariamendieta/anaconda2/lib/python2.7/site-packages/pandas/core/indexing.py:337: SettingWithCopyWarning: \n",
      "A value is trying to be set on a copy of a slice from a DataFrame.\n",
      "Try using .loc[row_indexer,col_indexer] = value instead\n",
      "\n",
      "See the caveats in the documentation: http://pandas.pydata.org/pandas-docs/stable/indexing.html#indexing-view-versus-copy\n",
      "  self.obj[key] = _infer_fill_value(value)\n"
     ]
    }
   ],
   "source": [
    "#Duplicate positive rows\n",
    "duplic = raw_data.loc[raw_data['Project_yes']==1,:]\n",
    "duplic.loc[:,'Project_yes'] =0\n",
    "duplic.loc[:,'Duplicate'] = 'Yes'\n",
    "duplic.loc[:,'weight'] = (duplic.loc[:,'households']-duplic.loc[:,'Project_Number'])\n",
    "duplic=duplic[duplic['weight']>0]\n",
    "#Creating weights in old data\n",
    "raw_data.loc[raw_data['Project_yes'] == 1, 'weight'] = raw_data['Project_Number']\n",
    "raw_data.loc[raw_data['Project_yes'] == 0, 'weight'] = raw_data['households']\n",
    "raw_data['Duplicate']='No'\n",
    "#Merging data \n",
    "#Concatenating\n",
    "all_data = raw_data.append(duplic, ignore_index=True)"
   ]
  },
  {
   "cell_type": "code",
   "execution_count": 4,
   "metadata": {
    "collapsed": true
   },
   "outputs": [],
   "source": [
    "# Imputing missing values\n",
    "all_data.loc[all_data['yearly_sunlight_kwh_total'].isnull(), 'yearly_sunlight_kwh_total'] = 0\n",
    "all_data.loc[all_data['percent_qualified'].isnull(), 'percent_qualified'] = 200\n",
    "all_data.loc[all_data['Avg_hh_size'].isnull(), 'Avg_hh_size']=np.mean(all_data.Avg_hh_size)\n",
    "all_data.loc[all_data['median_rooms'].isnull(), 'median_rooms']=5.320409"
   ]
  },
  {
   "cell_type": "code",
   "execution_count": 5,
   "metadata": {},
   "outputs": [
    {
     "data": {
      "text/plain": [
       "['100k_150k',\n",
       " '10_19_units',\n",
       " '10k_15k',\n",
       " '12th_no_dip',\n",
       " '150k_200k',\n",
       " '15k_25k',\n",
       " '1_room',\n",
       " '1_unit_attached',\n",
       " '1_unit_detached',\n",
       " '20+_units',\n",
       " '200k_more',\n",
       " '25k_35k',\n",
       " '2_rooms',\n",
       " '2_units',\n",
       " '35k_50k',\n",
       " '3_4_units',\n",
       " '3_rooms',\n",
       " '4_rooms',\n",
       " '50k_75k',\n",
       " '5_9_units',\n",
       " '5_rooms',\n",
       " '6_rooms',\n",
       " '75k_100k',\n",
       " '7_rooms',\n",
       " '8_rooms',\n",
       " '9_more_rooms',\n",
       " 'Affordable_Solar',\n",
       " 'Associate',\n",
       " 'Avg_hh_size',\n",
       " 'Bachelors',\n",
       " 'Community_Distributed_Generation',\n",
       " 'Duplicate',\n",
       " 'Expected_KWh_Annual_Production',\n",
       " 'GEOID10',\n",
       " 'Graduate',\n",
       " 'Heating_coal_coke',\n",
       " 'Heating_electricity',\n",
       " 'Heating_fuelkero',\n",
       " 'Heating_gas',\n",
       " 'Heating_gas_tank',\n",
       " 'Heating_no',\n",
       " 'Heating_other',\n",
       " 'Heating_solar',\n",
       " 'Heating_wood',\n",
       " 'Hh_w_children',\n",
       " 'HighSchool',\n",
       " 'Housing_Units',\n",
       " 'Less_10k',\n",
       " 'Less_9th',\n",
       " 'Mean_income',\n",
       " 'Mean_price',\n",
       " 'Median_age',\n",
       " 'Median_income',\n",
       " 'Median_unit_values',\n",
       " 'NAME',\n",
       " 'Occupied_units',\n",
       " 'Occupied_units_heating',\n",
       " 'Percent_10+_units',\n",
       " 'Percent_100k_150k',\n",
       " 'Percent_10_19_units',\n",
       " 'Percent_10k_15k',\n",
       " 'Percent_12th_no_dip',\n",
       " 'Percent_150k_200k',\n",
       " 'Percent_15k_25k',\n",
       " 'Percent_1_room',\n",
       " 'Percent_1_unit',\n",
       " 'Percent_1_unit_attached',\n",
       " 'Percent_1_unit_detached',\n",
       " 'Percent_20+_units',\n",
       " 'Percent_200k_more',\n",
       " 'Percent_25k_35k',\n",
       " 'Percent_2_rooms',\n",
       " 'Percent_2_units',\n",
       " 'Percent_35k_50k',\n",
       " 'Percent_3_4_units',\n",
       " 'Percent_3_rooms',\n",
       " 'Percent_4_rooms',\n",
       " 'Percent_50k_75k',\n",
       " 'Percent_5_9_units',\n",
       " 'Percent_5_rooms',\n",
       " 'Percent_6_rooms',\n",
       " 'Percent_75k_100k',\n",
       " 'Percent_7_rooms',\n",
       " 'Percent_8_rooms',\n",
       " 'Percent_9_more_rooms',\n",
       " 'Percent_Associate',\n",
       " 'Percent_Bachelors',\n",
       " 'Percent_Graduate',\n",
       " 'Percent_Heating_coal_coke',\n",
       " 'Percent_Heating_electricity',\n",
       " 'Percent_Heating_fuelkero',\n",
       " 'Percent_Heating_gas',\n",
       " 'Percent_Heating_gas_tank',\n",
       " 'Percent_Heating_no',\n",
       " 'Percent_Heating_other',\n",
       " 'Percent_Heating_solar',\n",
       " 'Percent_Heating_wood',\n",
       " 'Percent_HighSchool',\n",
       " 'Percent_Less_10k',\n",
       " 'Percent_Less_9th',\n",
       " 'Percent_Some_college',\n",
       " 'Percent_hh_w_children',\n",
       " 'Percent_less_35k',\n",
       " 'Percent_more_than_hs',\n",
       " 'Percent_occupied',\n",
       " 'Pop_over_25',\n",
       " 'Project_Cost',\n",
       " 'Project_Number',\n",
       " 'Project_yes',\n",
       " 'Region',\n",
       " 'Remote_Net_Metering',\n",
       " 'Rental_vacancy_rate',\n",
       " 'Some_college',\n",
       " 'Total_Nameplate_kW_DC',\n",
       " 'Total_households_by_type',\n",
       " 'Total_housing_units_Rooms',\n",
       " 'Total_population',\n",
       " 'Total_units_structure',\n",
       " 'Under_5_years',\n",
       " 'Var_price',\n",
       " 'carbon_offset_metric_tons',\n",
       " 'cost_Kw',\n",
       " 'count_qualified',\n",
       " 'county',\n",
       " 'county_name',\n",
       " 'existing_installs_count',\n",
       " 'households',\n",
       " 'install_size_kw_buckets_json',\n",
       " 'kw_median',\n",
       " 'kw_total',\n",
       " 'lat_avg',\n",
       " 'lat_max',\n",
       " 'lat_min',\n",
       " 'lng_avg',\n",
       " 'lng_max',\n",
       " 'lng_min',\n",
       " 'median_rooms',\n",
       " 'number_of_panels_e',\n",
       " 'number_of_panels_f',\n",
       " 'number_of_panels_median',\n",
       " 'number_of_panels_n',\n",
       " 'number_of_panels_s',\n",
       " 'number_of_panels_total',\n",
       " 'number_of_panels_w',\n",
       " 'percent_covered',\n",
       " 'percent_qualified',\n",
       " 'region_name',\n",
       " 'state',\n",
       " 'state_name',\n",
       " 'tract',\n",
       " 'weight',\n",
       " 'yearly_sunlight_kwh_e',\n",
       " 'yearly_sunlight_kwh_f',\n",
       " 'yearly_sunlight_kwh_kw_threshold_avg',\n",
       " 'yearly_sunlight_kwh_median',\n",
       " 'yearly_sunlight_kwh_n',\n",
       " 'yearly_sunlight_kwh_s',\n",
       " 'yearly_sunlight_kwh_total',\n",
       " 'yearly_sunlight_kwh_w']"
      ]
     },
     "execution_count": 5,
     "metadata": {},
     "output_type": "execute_result"
    }
   ],
   "source": [
    "list(all_data.columns)"
   ]
  },
  {
   "cell_type": "markdown",
   "metadata": {},
   "source": [
    "## Creating AUC Score"
   ]
  },
  {
   "cell_type": "code",
   "execution_count": 6,
   "metadata": {
    "collapsed": true
   },
   "outputs": [],
   "source": [
    "# define scoring function \n",
    "def custom_auc(ground_truth, predictions):\n",
    "    # I need only one column of predictions[\"0\" and \"1\"]. You can get an error here\n",
    "    # while trying to return both columns at once\n",
    "    fpr, tpr, _ = roc_curve(ground_truth, predictions[:, 1], pos_label=1)    \n",
    "    return auc(fpr, tpr)\n",
    "\n",
    "# to be standart sklearn's scorer        \n",
    "my_auc = make_scorer(custom_auc, greater_is_better=True, needs_proba=True)"
   ]
  },
  {
   "cell_type": "markdown",
   "metadata": {},
   "source": [
    "## Large model matrix"
   ]
  },
  {
   "cell_type": "code",
   "execution_count": 7,
   "metadata": {
    "collapsed": true
   },
   "outputs": [],
   "source": [
    "all_columns = list(all_data.columns)\n",
    "acs= acs5.Get_census_data()\n",
    "acs_data = acs.get_acs_all()\n",
    "variables_large = acs.education_percent + acs.other_households + acs.units_percent + acs.heating_percent + acs.rooms_percent"
   ]
  },
  {
   "cell_type": "code",
   "execution_count": 8,
   "metadata": {
    "collapsed": true
   },
   "outputs": [],
   "source": [
    "variables_large.append('Project_yes')\n",
    "#variables_large.append('Mean_price')\n",
    "#variables_large.append('Var_price')\n",
    "variables_large.append('percent_qualified')\n",
    "variables_large.append('yearly_sunlight_kwh_total')\n",
    "variables_large.append('weight')\n",
    "variables_large.append('Duplicate')\n",
    "variables_large.append('GEOID10')\n",
    "variables_large.append('county_name')\n",
    "variables_large.append('households')\n",
    "df_large=all_data[variables_large]"
   ]
  },
  {
   "cell_type": "code",
   "execution_count": 9,
   "metadata": {
    "collapsed": true
   },
   "outputs": [],
   "source": [
    "df_large =df_large.dropna()\n",
    "y_large=df_large['Project_yes']\n",
    "weights_large=df_large['weight']\n",
    "X_large=df_large.drop(['Project_yes', 'weight','Duplicate', 'GEOID10','county_name', 'households', 'Percent_1_unit'], axis=1)"
   ]
  },
  {
   "cell_type": "code",
   "execution_count": 10,
   "metadata": {},
   "outputs": [
    {
     "data": {
      "text/plain": [
       "(6015, 40)"
      ]
     },
     "execution_count": 10,
     "metadata": {},
     "output_type": "execute_result"
    }
   ],
   "source": [
    "X_large.shape"
   ]
  },
  {
   "cell_type": "markdown",
   "metadata": {},
   "source": [
    "## Models using large matrix"
   ]
  },
  {
   "cell_type": "code",
   "execution_count": 11,
   "metadata": {
    "collapsed": true
   },
   "outputs": [],
   "source": [
    "X_train, X_test, y_train, y_test, weights_train, weights_test = train_test_split(X_large, y_large, weights_large, test_size=0.3, random_state=42)"
   ]
  },
  {
   "cell_type": "markdown",
   "metadata": {},
   "source": [
    " Gradient Boosting Classifier w/sample weights"
   ]
  },
  {
   "cell_type": "code",
   "execution_count": 12,
   "metadata": {
    "collapsed": true
   },
   "outputs": [],
   "source": [
    "gbc = GradientBoostingClassifier()\n",
    "gbc_search = GridSearchCV(gbc, param_grid = {'n_estimators' : [1000, 10000], 'subsample' :[0.8],\n",
    "                                           'max_depth': [2,3], 'learning_rate' : [0.01, 0.001]}, \n",
    "                     scoring=my_auc, fit_params={'sample_weight': weights_train}, n_jobs=1, iid=True, refit=True, \n",
    "             cv=None, verbose=5, pre_dispatch='2*n_jobs', error_score='raise', return_train_score=True)"
   ]
  },
  {
   "cell_type": "code",
   "execution_count": 13,
   "metadata": {
    "scrolled": true
   },
   "outputs": [
    {
     "name": "stdout",
     "output_type": "stream",
     "text": [
      "Fitting 3 folds for each of 8 candidates, totalling 24 fits\n",
      "[CV] n_estimators=1000, subsample=0.8, learning_rate=0.01, max_depth=2 \n",
      "[CV]  n_estimators=1000, subsample=0.8, learning_rate=0.01, max_depth=2, score=0.631125, total=   6.0s\n",
      "[CV] n_estimators=1000, subsample=0.8, learning_rate=0.01, max_depth=2 \n"
     ]
    },
    {
     "name": "stderr",
     "output_type": "stream",
     "text": [
      "[Parallel(n_jobs=1)]: Done   1 out of   1 | elapsed:    6.0s remaining:    0.0s\n"
     ]
    },
    {
     "name": "stdout",
     "output_type": "stream",
     "text": [
      "[CV]  n_estimators=1000, subsample=0.8, learning_rate=0.01, max_depth=2, score=0.656102, total=   6.0s\n",
      "[CV] n_estimators=1000, subsample=0.8, learning_rate=0.01, max_depth=2 \n"
     ]
    },
    {
     "name": "stderr",
     "output_type": "stream",
     "text": [
      "[Parallel(n_jobs=1)]: Done   2 out of   2 | elapsed:   12.0s remaining:    0.0s\n"
     ]
    },
    {
     "name": "stdout",
     "output_type": "stream",
     "text": [
      "[CV]  n_estimators=1000, subsample=0.8, learning_rate=0.01, max_depth=2, score=0.604230, total=   6.3s\n",
      "[CV] n_estimators=10000, subsample=0.8, learning_rate=0.01, max_depth=2 \n"
     ]
    },
    {
     "name": "stderr",
     "output_type": "stream",
     "text": [
      "[Parallel(n_jobs=1)]: Done   3 out of   3 | elapsed:   18.3s remaining:    0.0s\n"
     ]
    },
    {
     "name": "stdout",
     "output_type": "stream",
     "text": [
      "[CV]  n_estimators=10000, subsample=0.8, learning_rate=0.01, max_depth=2, score=0.609004, total=  56.8s\n",
      "[CV] n_estimators=10000, subsample=0.8, learning_rate=0.01, max_depth=2 \n"
     ]
    },
    {
     "name": "stderr",
     "output_type": "stream",
     "text": [
      "[Parallel(n_jobs=1)]: Done   4 out of   4 | elapsed:  1.3min remaining:    0.0s\n"
     ]
    },
    {
     "name": "stdout",
     "output_type": "stream",
     "text": [
      "[CV]  n_estimators=10000, subsample=0.8, learning_rate=0.01, max_depth=2, score=0.625771, total=  56.4s\n",
      "[CV] n_estimators=10000, subsample=0.8, learning_rate=0.01, max_depth=2 \n",
      "[CV]  n_estimators=10000, subsample=0.8, learning_rate=0.01, max_depth=2, score=0.588664, total=  56.6s\n",
      "[CV] n_estimators=1000, subsample=0.8, learning_rate=0.01, max_depth=3 \n",
      "[CV]  n_estimators=1000, subsample=0.8, learning_rate=0.01, max_depth=3, score=0.619718, total=   8.5s\n",
      "[CV] n_estimators=1000, subsample=0.8, learning_rate=0.01, max_depth=3 \n",
      "[CV]  n_estimators=1000, subsample=0.8, learning_rate=0.01, max_depth=3, score=0.634754, total=   8.5s\n",
      "[CV] n_estimators=1000, subsample=0.8, learning_rate=0.01, max_depth=3 \n",
      "[CV]  n_estimators=1000, subsample=0.8, learning_rate=0.01, max_depth=3, score=0.586622, total=   8.4s\n",
      "[CV] n_estimators=10000, subsample=0.8, learning_rate=0.01, max_depth=3 \n",
      "[CV]  n_estimators=10000, subsample=0.8, learning_rate=0.01, max_depth=3, score=0.589818, total= 1.4min\n",
      "[CV] n_estimators=10000, subsample=0.8, learning_rate=0.01, max_depth=3 \n",
      "[CV]  n_estimators=10000, subsample=0.8, learning_rate=0.01, max_depth=3, score=0.595868, total= 1.4min\n",
      "[CV] n_estimators=10000, subsample=0.8, learning_rate=0.01, max_depth=3 \n",
      "[CV]  n_estimators=10000, subsample=0.8, learning_rate=0.01, max_depth=3, score=0.567168, total= 1.4min\n",
      "[CV] n_estimators=1000, subsample=0.8, learning_rate=0.001, max_depth=2 \n",
      "[CV]  n_estimators=1000, subsample=0.8, learning_rate=0.001, max_depth=2, score=0.663881, total=   6.0s\n",
      "[CV] n_estimators=1000, subsample=0.8, learning_rate=0.001, max_depth=2 \n",
      "[CV]  n_estimators=1000, subsample=0.8, learning_rate=0.001, max_depth=2, score=0.658154, total=   6.0s\n",
      "[CV] n_estimators=1000, subsample=0.8, learning_rate=0.001, max_depth=2 \n",
      "[CV]  n_estimators=1000, subsample=0.8, learning_rate=0.001, max_depth=2, score=0.585057, total=   6.2s\n",
      "[CV] n_estimators=10000, subsample=0.8, learning_rate=0.001, max_depth=2 \n",
      "[CV]  n_estimators=10000, subsample=0.8, learning_rate=0.001, max_depth=2, score=0.632542, total=  57.4s\n",
      "[CV] n_estimators=10000, subsample=0.8, learning_rate=0.001, max_depth=2 \n",
      "[CV]  n_estimators=10000, subsample=0.8, learning_rate=0.001, max_depth=2, score=0.649759, total=  58.4s\n",
      "[CV] n_estimators=10000, subsample=0.8, learning_rate=0.001, max_depth=2 \n",
      "[CV]  n_estimators=10000, subsample=0.8, learning_rate=0.001, max_depth=2, score=0.597311, total=  57.7s\n",
      "[CV] n_estimators=1000, subsample=0.8, learning_rate=0.001, max_depth=3 \n",
      "[CV]  n_estimators=1000, subsample=0.8, learning_rate=0.001, max_depth=3, score=0.655385, total=   9.0s\n",
      "[CV] n_estimators=1000, subsample=0.8, learning_rate=0.001, max_depth=3 \n",
      "[CV]  n_estimators=1000, subsample=0.8, learning_rate=0.001, max_depth=3, score=0.655669, total=   8.9s\n",
      "[CV] n_estimators=1000, subsample=0.8, learning_rate=0.001, max_depth=3 \n",
      "[CV]  n_estimators=1000, subsample=0.8, learning_rate=0.001, max_depth=3, score=0.595837, total=   9.6s\n",
      "[CV] n_estimators=10000, subsample=0.8, learning_rate=0.001, max_depth=3 \n",
      "[CV]  n_estimators=10000, subsample=0.8, learning_rate=0.001, max_depth=3, score=0.618160, total= 1.4min\n",
      "[CV] n_estimators=10000, subsample=0.8, learning_rate=0.001, max_depth=3 \n",
      "[CV]  n_estimators=10000, subsample=0.8, learning_rate=0.001, max_depth=3, score=0.633395, total= 1.4min\n",
      "[CV] n_estimators=10000, subsample=0.8, learning_rate=0.001, max_depth=3 \n",
      "[CV]  n_estimators=10000, subsample=0.8, learning_rate=0.001, max_depth=3, score=0.587160, total= 1.5min\n"
     ]
    },
    {
     "name": "stderr",
     "output_type": "stream",
     "text": [
      "[Parallel(n_jobs=1)]: Done  24 out of  24 | elapsed: 15.8min finished\n"
     ]
    }
   ],
   "source": [
    "gbc_fitted = gbc_search.fit(X_train,y_train)"
   ]
  },
  {
   "cell_type": "code",
   "execution_count": 14,
   "metadata": {},
   "outputs": [
    {
     "data": {
      "text/plain": [
       "GradientBoostingClassifier(criterion='friedman_mse', init=None,\n",
       "              learning_rate=0.001, loss='deviance', max_depth=2,\n",
       "              max_features=None, max_leaf_nodes=None,\n",
       "              min_impurity_split=1e-07, min_samples_leaf=1,\n",
       "              min_samples_split=2, min_weight_fraction_leaf=0.0,\n",
       "              n_estimators=1000, presort='auto', random_state=None,\n",
       "              subsample=0.8, verbose=0, warm_start=False)"
      ]
     },
     "execution_count": 14,
     "metadata": {},
     "output_type": "execute_result"
    }
   ],
   "source": [
    "gbc_fitted.best_estimator_"
   ]
  },
  {
   "cell_type": "code",
   "execution_count": 54,
   "metadata": {
    "collapsed": true
   },
   "outputs": [],
   "source": [
    "gbc_best = GradientBoostingClassifier(n_estimators=1220,max_depth=2, learning_rate=0.001, subsample=0.8)\n",
    "gbc_best_fitted = gbc_best.fit(X_large, y_large, sample_weight=weights_large)"
   ]
  },
  {
   "cell_type": "code",
   "execution_count": 55,
   "metadata": {
    "collapsed": true
   },
   "outputs": [],
   "source": [
    "importance_values = gbc_best_fitted.feature_importances_"
   ]
  },
  {
   "cell_type": "code",
   "execution_count": 56,
   "metadata": {
    "collapsed": true
   },
   "outputs": [],
   "source": [
    "feature_importances = 100*gbc_best_fitted.feature_importances_ / np.sum(gbc_best_fitted.feature_importances_)"
   ]
  },
  {
   "cell_type": "code",
   "execution_count": 57,
   "metadata": {
    "collapsed": true
   },
   "outputs": [
    {
     "data": {
      "text/plain": [
       "array([  2.03428173e+00,   4.08316990e-01,   3.89401700e-01,\n",
       "         1.02686585e-01,   1.43042846e+00,   7.32331384e-02,\n",
       "         1.35314306e-01,   4.35563195e-01,   1.69815157e+00,\n",
       "         5.48247553e-02,   1.09042848e-01,   1.76134886e+01,\n",
       "         4.43687045e+00,   1.97296453e+00,   1.50911232e+00,\n",
       "         0.00000000e+00,   2.87250882e-01,   4.03767079e-01,\n",
       "         4.66660596e-01,   9.00228574e-01,   8.70361680e-02,\n",
       "         6.36636873e-02,   1.43343595e+01,   6.25536933e-02,\n",
       "         1.30739342e-01,   1.37989281e-03,   5.53168370e-03,\n",
       "         4.57455773e-02,   1.81023560e+00,   6.30176578e-02,\n",
       "         8.32886253e-01,   5.12678993e+00,   1.05723839e-01,\n",
       "         1.17435622e+00,   1.18058342e+01,   5.53188023e+00,\n",
       "         2.10111093e+01,   2.40706765e+00,   2.72797774e-02,\n",
       "         9.11221452e-01])"
      ]
     },
     "execution_count": 57,
     "metadata": {},
     "output_type": "execute_result"
    }
   ],
   "source": [
    "feature_importances"
   ]
  },
  {
   "cell_type": "code",
   "execution_count": 58,
   "metadata": {
    "collapsed": true
   },
   "outputs": [],
   "source": [
    "columns = np.array(X_large.columns)"
   ]
  },
  {
   "cell_type": "code",
   "execution_count": 59,
   "metadata": {
    "collapsed": true
   },
   "outputs": [],
   "source": [
    "feat = pd.DataFrame()\n",
    "feat['relative_feature_importances']=feature_importances\n",
    "feat['feature_names']=columns\n",
    "feat['feature_importance']=importance_values"
   ]
  },
  {
   "cell_type": "code",
   "execution_count": 60,
   "metadata": {
    "collapsed": true
   },
   "outputs": [],
   "source": [
    "feat.to_csv('feature_imporance.csv')"
   ]
  },
  {
   "cell_type": "code",
   "execution_count": 61,
   "metadata": {},
   "outputs": [
    {
     "data": {
      "image/png": "[encoded data removed]",
      "text/plain": [
       "<matplotlib.figure.Figure at 0x110a9eb10>"
      ]
     },
     "metadata": {},
     "output_type": "display_data"
    }
   ],
   "source": [
    "gbc_best_fitted.feature_importances_\n",
    "feature_importances = 100*gbc_best_fitted.feature_importances_ / np.sum(gbc_best_fitted.feature_importances_)\n",
    "feature_importances, feature_names, feature_idxs = zip(*sorted(zip(feature_importances, list(X_large.columns), range(len(X_large.columns)))))\n",
    "\n",
    "width = 0.8\n",
    "\n",
    "idx = np.arange(len(X_large.columns))\n",
    "\n",
    "fig, ax = plt.subplots(figsize=(10,12))\n",
    "ax.barh(idx, feature_importances, align='center')\n",
    "plt.yticks(idx, feature_names, fontsize=8)\n",
    "\n",
    "ax.set_title(\"Feature Importances in Gradient Booster\")\n",
    "ax.set_xlabel('Relative Importance of Feature', fontsize=10)\n",
    "ax.set_ylabel('Feature Name', fontsize=16)\n",
    "fig.savefig('feat_imp_sep8.png')"
   ]
  },
  {
   "cell_type": "code",
   "execution_count": 62,
   "metadata": {
    "collapsed": true
   },
   "outputs": [],
   "source": [
    "# Adding results to orginal Data Frames\n",
    "df_large['result']=gbc_best_fitted.predict_proba(X_large)[:,1]"
   ]
  },
  {
   "cell_type": "code",
   "execution_count": 63,
   "metadata": {
    "collapsed": true
   },
   "outputs": [],
   "source": [
    "df_to_tableau= df_large[df_large['Project_yes']==0]"
   ]
  },
  {
   "cell_type": "code",
   "execution_count": 64,
   "metadata": {
    "collapsed": true
   },
   "outputs": [],
   "source": [
    "df_to_tableau.to_csv('output_sept19.csv')"
   ]
  },
  {
   "cell_type": "code",
   "execution_count": 65,
   "metadata": {},
   "outputs": [
    {
     "data": {
      "text/html": [
       "<div>\n",
       "<style>\n",
       "    .dataframe thead tr:only-child th {\n",
       "        text-align: right;\n",
       "    }\n",
       "\n",
       "    .dataframe thead th {\n",
       "        text-align: left;\n",
       "    }\n",
       "\n",
       "    .dataframe tbody tr th {\n",
       "        vertical-align: top;\n",
       "    }\n",
       "</style>\n",
       "<table border=\"1\" class=\"dataframe\">\n",
       "  <thead>\n",
       "    <tr style=\"text-align: right;\">\n",
       "      <th></th>\n",
       "      <th>Percent_Less_9th</th>\n",
       "      <th>Percent_12th_no_dip</th>\n",
       "      <th>Percent_HighSchool</th>\n",
       "      <th>Percent_Some_college</th>\n",
       "      <th>Percent_Associate</th>\n",
       "      <th>Percent_Bachelors</th>\n",
       "      <th>Percent_Graduate</th>\n",
       "      <th>Percent_more_than_hs</th>\n",
       "      <th>Avg_hh_size</th>\n",
       "      <th>Median_age</th>\n",
       "      <th>...</th>\n",
       "      <th>Percent_8_rooms</th>\n",
       "      <th>Percent_9_more_rooms</th>\n",
       "      <th>median_rooms</th>\n",
       "      <th>Project_yes</th>\n",
       "      <th>percent_qualified</th>\n",
       "      <th>yearly_sunlight_kwh_total</th>\n",
       "      <th>weight</th>\n",
       "      <th>GEOID10</th>\n",
       "      <th>households</th>\n",
       "      <th>result</th>\n",
       "    </tr>\n",
       "  </thead>\n",
       "  <tbody>\n",
       "    <tr>\n",
       "      <th>count</th>\n",
       "      <td>6015.000000</td>\n",
       "      <td>6015.000000</td>\n",
       "      <td>6015.000000</td>\n",
       "      <td>6015.000000</td>\n",
       "      <td>6015.000000</td>\n",
       "      <td>6015.000000</td>\n",
       "      <td>6015.000000</td>\n",
       "      <td>6015.000000</td>\n",
       "      <td>6015.000000</td>\n",
       "      <td>6015.000000</td>\n",
       "      <td>...</td>\n",
       "      <td>6015.000000</td>\n",
       "      <td>6015.000000</td>\n",
       "      <td>6015.000000</td>\n",
       "      <td>6015.000000</td>\n",
       "      <td>6015.000000</td>\n",
       "      <td>6.015000e+03</td>\n",
       "      <td>6015.000000</td>\n",
       "      <td>6.015000e+03</td>\n",
       "      <td>6015.000000</td>\n",
       "      <td>6015.000000</td>\n",
       "    </tr>\n",
       "    <tr>\n",
       "      <th>mean</th>\n",
       "      <td>0.062039</td>\n",
       "      <td>0.078039</td>\n",
       "      <td>0.280322</td>\n",
       "      <td>0.166529</td>\n",
       "      <td>0.088960</td>\n",
       "      <td>0.183708</td>\n",
       "      <td>0.140403</td>\n",
       "      <td>0.579601</td>\n",
       "      <td>2.692034</td>\n",
       "      <td>39.544472</td>\n",
       "      <td>...</td>\n",
       "      <td>0.082252</td>\n",
       "      <td>0.101888</td>\n",
       "      <td>5.320745</td>\n",
       "      <td>0.198504</td>\n",
       "      <td>109.311963</td>\n",
       "      <td>7.147635e+06</td>\n",
       "      <td>1207.368745</td>\n",
       "      <td>3.606246e+10</td>\n",
       "      <td>1538.773400</td>\n",
       "      <td>0.011931</td>\n",
       "    </tr>\n",
       "    <tr>\n",
       "      <th>std</th>\n",
       "      <td>0.063335</td>\n",
       "      <td>0.054188</td>\n",
       "      <td>0.100124</td>\n",
       "      <td>0.050862</td>\n",
       "      <td>0.040072</td>\n",
       "      <td>0.091024</td>\n",
       "      <td>0.105248</td>\n",
       "      <td>0.160102</td>\n",
       "      <td>0.531530</td>\n",
       "      <td>7.017340</td>\n",
       "      <td>...</td>\n",
       "      <td>0.068406</td>\n",
       "      <td>0.091098</td>\n",
       "      <td>1.205510</td>\n",
       "      <td>0.398907</td>\n",
       "      <td>57.705506</td>\n",
       "      <td>1.138075e+07</td>\n",
       "      <td>908.119485</td>\n",
       "      <td>3.224257e+07</td>\n",
       "      <td>797.344834</td>\n",
       "      <td>0.011668</td>\n",
       "    </tr>\n",
       "    <tr>\n",
       "      <th>min</th>\n",
       "      <td>0.000000</td>\n",
       "      <td>0.000000</td>\n",
       "      <td>0.000000</td>\n",
       "      <td>0.000000</td>\n",
       "      <td>0.000000</td>\n",
       "      <td>0.000000</td>\n",
       "      <td>0.000000</td>\n",
       "      <td>0.000000</td>\n",
       "      <td>1.030000</td>\n",
       "      <td>11.300000</td>\n",
       "      <td>...</td>\n",
       "      <td>0.000000</td>\n",
       "      <td>0.000000</td>\n",
       "      <td>1.300000</td>\n",
       "      <td>0.000000</td>\n",
       "      <td>21.212121</td>\n",
       "      <td>0.000000e+00</td>\n",
       "      <td>1.000000</td>\n",
       "      <td>3.600100e+10</td>\n",
       "      <td>2.000000</td>\n",
       "      <td>0.005269</td>\n",
       "    </tr>\n",
       "    <tr>\n",
       "      <th>25%</th>\n",
       "      <td>0.019440</td>\n",
       "      <td>0.037396</td>\n",
       "      <td>0.219068</td>\n",
       "      <td>0.133333</td>\n",
       "      <td>0.058932</td>\n",
       "      <td>0.114544</td>\n",
       "      <td>0.064054</td>\n",
       "      <td>0.462948</td>\n",
       "      <td>2.350000</td>\n",
       "      <td>34.700000</td>\n",
       "      <td>...</td>\n",
       "      <td>0.023482</td>\n",
       "      <td>0.033709</td>\n",
       "      <td>4.300000</td>\n",
       "      <td>0.000000</td>\n",
       "      <td>70.098957</td>\n",
       "      <td>0.000000e+00</td>\n",
       "      <td>577.000000</td>\n",
       "      <td>3.604701e+10</td>\n",
       "      <td>1014.000000</td>\n",
       "      <td>0.005642</td>\n",
       "    </tr>\n",
       "    <tr>\n",
       "      <th>50%</th>\n",
       "      <td>0.038308</td>\n",
       "      <td>0.067114</td>\n",
       "      <td>0.286698</td>\n",
       "      <td>0.167415</td>\n",
       "      <td>0.086894</td>\n",
       "      <td>0.169708</td>\n",
       "      <td>0.111167</td>\n",
       "      <td>0.572153</td>\n",
       "      <td>2.610000</td>\n",
       "      <td>40.300000</td>\n",
       "      <td>...</td>\n",
       "      <td>0.072031</td>\n",
       "      <td>0.085898</td>\n",
       "      <td>5.500000</td>\n",
       "      <td>0.000000</td>\n",
       "      <td>81.764706</td>\n",
       "      <td>3.381567e+06</td>\n",
       "      <td>1178.000000</td>\n",
       "      <td>3.606101e+10</td>\n",
       "      <td>1445.000000</td>\n",
       "      <td>0.011733</td>\n",
       "    </tr>\n",
       "    <tr>\n",
       "      <th>75%</th>\n",
       "      <td>0.083015</td>\n",
       "      <td>0.106013</td>\n",
       "      <td>0.350957</td>\n",
       "      <td>0.198669</td>\n",
       "      <td>0.116232</td>\n",
       "      <td>0.238077</td>\n",
       "      <td>0.187382</td>\n",
       "      <td>0.687781</td>\n",
       "      <td>2.980000</td>\n",
       "      <td>44.400000</td>\n",
       "      <td>...</td>\n",
       "      <td>0.123052</td>\n",
       "      <td>0.144573</td>\n",
       "      <td>6.200000</td>\n",
       "      <td>0.000000</td>\n",
       "      <td>200.000000</td>\n",
       "      <td>9.007294e+06</td>\n",
       "      <td>1718.500000</td>\n",
       "      <td>3.608305e+10</td>\n",
       "      <td>1913.000000</td>\n",
       "      <td>0.014971</td>\n",
       "    </tr>\n",
       "    <tr>\n",
       "      <th>max</th>\n",
       "      <td>0.445956</td>\n",
       "      <td>0.400000</td>\n",
       "      <td>0.793103</td>\n",
       "      <td>0.448276</td>\n",
       "      <td>0.318182</td>\n",
       "      <td>0.764706</td>\n",
       "      <td>0.695565</td>\n",
       "      <td>1.000000</td>\n",
       "      <td>6.270000</td>\n",
       "      <td>82.000000</td>\n",
       "      <td>...</td>\n",
       "      <td>0.809524</td>\n",
       "      <td>1.000000</td>\n",
       "      <td>8.500000</td>\n",
       "      <td>1.000000</td>\n",
       "      <td>200.000000</td>\n",
       "      <td>1.720241e+08</td>\n",
       "      <td>12305.000000</td>\n",
       "      <td>3.612315e+10</td>\n",
       "      <td>12316.000000</td>\n",
       "      <td>0.658374</td>\n",
       "    </tr>\n",
       "  </tbody>\n",
       "</table>\n",
       "<p>8 rows × 46 columns</p>\n",
       "</div>"
      ],
      "text/plain": [
       "       Percent_Less_9th  Percent_12th_no_dip  Percent_HighSchool  \\\n",
       "count       6015.000000          6015.000000         6015.000000   \n",
       "mean           0.062039             0.078039            0.280322   \n",
       "std            0.063335             0.054188            0.100124   \n",
       "min            0.000000             0.000000            0.000000   \n",
       "25%            0.019440             0.037396            0.219068   \n",
       "50%            0.038308             0.067114            0.286698   \n",
       "75%            0.083015             0.106013            0.350957   \n",
       "max            0.445956             0.400000            0.793103   \n",
       "\n",
       "       Percent_Some_college  Percent_Associate  Percent_Bachelors  \\\n",
       "count           6015.000000        6015.000000        6015.000000   \n",
       "mean               0.166529           0.088960           0.183708   \n",
       "std                0.050862           0.040072           0.091024   \n",
       "min                0.000000           0.000000           0.000000   \n",
       "25%                0.133333           0.058932           0.114544   \n",
       "50%                0.167415           0.086894           0.169708   \n",
       "75%                0.198669           0.116232           0.238077   \n",
       "max                0.448276           0.318182           0.764706   \n",
       "\n",
       "       Percent_Graduate  Percent_more_than_hs  Avg_hh_size   Median_age  \\\n",
       "count       6015.000000           6015.000000  6015.000000  6015.000000   \n",
       "mean           0.140403              0.579601     2.692034    39.544472   \n",
       "std            0.105248              0.160102     0.531530     7.017340   \n",
       "min            0.000000              0.000000     1.030000    11.300000   \n",
       "25%            0.064054              0.462948     2.350000    34.700000   \n",
       "50%            0.111167              0.572153     2.610000    40.300000   \n",
       "75%            0.187382              0.687781     2.980000    44.400000   \n",
       "max            0.695565              1.000000     6.270000    82.000000   \n",
       "\n",
       "          ...       Percent_8_rooms  Percent_9_more_rooms  median_rooms  \\\n",
       "count     ...           6015.000000           6015.000000   6015.000000   \n",
       "mean      ...              0.082252              0.101888      5.320745   \n",
       "std       ...              0.068406              0.091098      1.205510   \n",
       "min       ...              0.000000              0.000000      1.300000   \n",
       "25%       ...              0.023482              0.033709      4.300000   \n",
       "50%       ...              0.072031              0.085898      5.500000   \n",
       "75%       ...              0.123052              0.144573      6.200000   \n",
       "max       ...              0.809524              1.000000      8.500000   \n",
       "\n",
       "       Project_yes  percent_qualified  yearly_sunlight_kwh_total  \\\n",
       "count  6015.000000        6015.000000               6.015000e+03   \n",
       "mean      0.198504         109.311963               7.147635e+06   \n",
       "std       0.398907          57.705506               1.138075e+07   \n",
       "min       0.000000          21.212121               0.000000e+00   \n",
       "25%       0.000000          70.098957               0.000000e+00   \n",
       "50%       0.000000          81.764706               3.381567e+06   \n",
       "75%       0.000000         200.000000               9.007294e+06   \n",
       "max       1.000000         200.000000               1.720241e+08   \n",
       "\n",
       "             weight       GEOID10    households       result  \n",
       "count   6015.000000  6.015000e+03   6015.000000  6015.000000  \n",
       "mean    1207.368745  3.606246e+10   1538.773400     0.011931  \n",
       "std      908.119485  3.224257e+07    797.344834     0.011668  \n",
       "min        1.000000  3.600100e+10      2.000000     0.005269  \n",
       "25%      577.000000  3.604701e+10   1014.000000     0.005642  \n",
       "50%     1178.000000  3.606101e+10   1445.000000     0.011733  \n",
       "75%     1718.500000  3.608305e+10   1913.000000     0.014971  \n",
       "max    12305.000000  3.612315e+10  12316.000000     0.658374  \n",
       "\n",
       "[8 rows x 46 columns]"
      ]
     },
     "execution_count": 65,
     "metadata": {},
     "output_type": "execute_result"
    }
   ],
   "source": [
    "df_large.describe()"
   ]
  },
  {
   "cell_type": "markdown",
   "metadata": {},
   "source": [
    "Logistic Regression w/ sample weights"
   ]
  },
  {
   "cell_type": "code",
   "execution_count": 66,
   "metadata": {
    "collapsed": true
   },
   "outputs": [],
   "source": [
    "log = LogisticRegression()\n",
    "log_fitted = log.fit(X_train,y_train,sample_weight=weights_train)"
   ]
  },
  {
   "cell_type": "code",
   "execution_count": 67,
   "metadata": {
    "collapsed": true
   },
   "outputs": [],
   "source": [
    "log_best = LogisticRegression()\n",
    "log_best_fitted = log_best.fit(X_large,y_large,sample_weight=weights_large)"
   ]
  },
  {
   "cell_type": "markdown",
   "metadata": {},
   "source": [
    "Random Forest w/sample weights"
   ]
  },
  {
   "cell_type": "code",
   "execution_count": 68,
   "metadata": {
    "collapsed": true
   },
   "outputs": [],
   "source": [
    "rf=RandomForestClassifier()\n",
    "\n",
    "rf_search = GridSearchCV(rf, param_grid ={'n_estimators':[10, 20, 100], 'max_features':['sqrt', 'log2'], 'max_depth': [2,3,4,5]}, scoring=my_auc, fit_params={'sample_weight': np.array(weights_train)}, n_jobs=1, iid=True, refit=True, \n",
    "             cv=None, verbose=5, pre_dispatch='2*n_jobs', error_score='raise', return_train_score=True)"
   ]
  },
  {
   "cell_type": "code",
   "execution_count": 30,
   "metadata": {
    "collapsed": true
   },
   "outputs": [
    {
     "name": "stdout",
     "output_type": "stream",
     "text": [
      "Fitting 3 folds for each of 24 candidates, totalling 72 fits\n",
      "[CV] max_features=sqrt, n_estimators=10, max_depth=2 .................\n",
      "[CV]  max_features=sqrt, n_estimators=10, max_depth=2, score=0.659176, total=   0.1s\n",
      "[CV] max_features=sqrt, n_estimators=10, max_depth=2 .................\n",
      "[CV]  max_features=sqrt, n_estimators=10, max_depth=2, score=0.685440, total=   0.1s\n",
      "[CV] max_features=sqrt, n_estimators=10, max_depth=2 .................\n"
     ]
    },
    {
     "name": "stderr",
     "output_type": "stream",
     "text": [
      "[Parallel(n_jobs=1)]: Done   1 out of   1 | elapsed:    0.1s remaining:    0.0s\n",
      "[Parallel(n_jobs=1)]: Done   2 out of   2 | elapsed:    0.2s remaining:    0.0s\n",
      "[Parallel(n_jobs=1)]: Done   3 out of   3 | elapsed:    0.3s remaining:    0.0s\n"
     ]
    },
    {
     "name": "stdout",
     "output_type": "stream",
     "text": [
      "[CV]  max_features=sqrt, n_estimators=10, max_depth=2, score=0.596786, total=   0.1s\n",
      "[CV] max_features=sqrt, n_estimators=20, max_depth=2 .................\n",
      "[CV]  max_features=sqrt, n_estimators=20, max_depth=2, score=0.681563, total=   0.1s\n",
      "[CV] max_features=sqrt, n_estimators=20, max_depth=2 .................\n"
     ]
    },
    {
     "name": "stderr",
     "output_type": "stream",
     "text": [
      "[Parallel(n_jobs=1)]: Done   4 out of   4 | elapsed:    0.4s remaining:    0.0s\n"
     ]
    },
    {
     "name": "stdout",
     "output_type": "stream",
     "text": [
      "[CV]  max_features=sqrt, n_estimators=20, max_depth=2, score=0.662249, total=   0.1s\n",
      "[CV] max_features=sqrt, n_estimators=20, max_depth=2 .................\n",
      "[CV]  max_features=sqrt, n_estimators=20, max_depth=2, score=0.598926, total=   0.1s\n",
      "[CV] max_features=sqrt, n_estimators=100, max_depth=2 ................\n",
      "[CV]  max_features=sqrt, n_estimators=100, max_depth=2, score=0.678901, total=   0.7s\n",
      "[CV] max_features=sqrt, n_estimators=100, max_depth=2 ................\n",
      "[CV]  max_features=sqrt, n_estimators=100, max_depth=2, score=0.669563, total=   0.7s\n",
      "[CV] max_features=sqrt, n_estimators=100, max_depth=2 ................\n",
      "[CV]  max_features=sqrt, n_estimators=100, max_depth=2, score=0.605845, total=   0.7s\n",
      "[CV] max_features=log2, n_estimators=10, max_depth=2 .................\n",
      "[CV]  max_features=log2, n_estimators=10, max_depth=2, score=0.689889, total=   0.1s\n",
      "[CV] max_features=log2, n_estimators=10, max_depth=2 .................\n",
      "[CV]  max_features=log2, n_estimators=10, max_depth=2, score=0.667849, total=   0.1s\n",
      "[CV] max_features=log2, n_estimators=10, max_depth=2 .................\n",
      "[CV]  max_features=log2, n_estimators=10, max_depth=2, score=0.596639, total=   0.1s\n",
      "[CV] max_features=log2, n_estimators=20, max_depth=2 .................\n",
      "[CV]  max_features=log2, n_estimators=20, max_depth=2, score=0.678496, total=   0.1s\n",
      "[CV] max_features=log2, n_estimators=20, max_depth=2 .................\n",
      "[CV]  max_features=log2, n_estimators=20, max_depth=2, score=0.673885, total=   0.1s\n",
      "[CV] max_features=log2, n_estimators=20, max_depth=2 .................\n",
      "[CV]  max_features=log2, n_estimators=20, max_depth=2, score=0.602636, total=   0.1s\n",
      "[CV] max_features=log2, n_estimators=100, max_depth=2 ................\n",
      "[CV]  max_features=log2, n_estimators=100, max_depth=2, score=0.670671, total=   0.7s\n",
      "[CV] max_features=log2, n_estimators=100, max_depth=2 ................\n",
      "[CV]  max_features=log2, n_estimators=100, max_depth=2, score=0.651579, total=   0.6s\n",
      "[CV] max_features=log2, n_estimators=100, max_depth=2 ................\n",
      "[CV]  max_features=log2, n_estimators=100, max_depth=2, score=0.605933, total=   0.7s\n",
      "[CV] max_features=sqrt, n_estimators=10, max_depth=3 .................\n",
      "[CV]  max_features=sqrt, n_estimators=10, max_depth=3, score=0.652295, total=   0.1s\n",
      "[CV] max_features=sqrt, n_estimators=10, max_depth=3 .................\n",
      "[CV]  max_features=sqrt, n_estimators=10, max_depth=3, score=0.679387, total=   0.1s\n",
      "[CV] max_features=sqrt, n_estimators=10, max_depth=3 .................\n",
      "[CV]  max_features=sqrt, n_estimators=10, max_depth=3, score=0.612517, total=   0.1s\n",
      "[CV] max_features=sqrt, n_estimators=20, max_depth=3 .................\n",
      "[CV]  max_features=sqrt, n_estimators=20, max_depth=3, score=0.661569, total=   0.2s\n",
      "[CV] max_features=sqrt, n_estimators=20, max_depth=3 .................\n",
      "[CV]  max_features=sqrt, n_estimators=20, max_depth=3, score=0.639621, total=   0.2s\n",
      "[CV] max_features=sqrt, n_estimators=20, max_depth=3 .................\n",
      "[CV]  max_features=sqrt, n_estimators=20, max_depth=3, score=0.621829, total=   0.2s\n",
      "[CV] max_features=sqrt, n_estimators=100, max_depth=3 ................\n",
      "[CV]  max_features=sqrt, n_estimators=100, max_depth=3, score=0.663799, total=   0.8s\n",
      "[CV] max_features=sqrt, n_estimators=100, max_depth=3 ................\n",
      "[CV]  max_features=sqrt, n_estimators=100, max_depth=3, score=0.649955, total=   0.8s\n",
      "[CV] max_features=sqrt, n_estimators=100, max_depth=3 ................\n",
      "[CV]  max_features=sqrt, n_estimators=100, max_depth=3, score=0.586323, total=   0.8s\n",
      "[CV] max_features=log2, n_estimators=10, max_depth=3 .................\n",
      "[CV]  max_features=log2, n_estimators=10, max_depth=3, score=0.640132, total=   0.1s\n",
      "[CV] max_features=log2, n_estimators=10, max_depth=3 .................\n",
      "[CV]  max_features=log2, n_estimators=10, max_depth=3, score=0.670318, total=   0.1s\n",
      "[CV] max_features=log2, n_estimators=10, max_depth=3 .................\n",
      "[CV]  max_features=log2, n_estimators=10, max_depth=3, score=0.611133, total=   0.1s\n",
      "[CV] max_features=log2, n_estimators=20, max_depth=3 .................\n",
      "[CV]  max_features=log2, n_estimators=20, max_depth=3, score=0.671321, total=   0.2s\n",
      "[CV] max_features=log2, n_estimators=20, max_depth=3 .................\n",
      "[CV]  max_features=log2, n_estimators=20, max_depth=3, score=0.649485, total=   0.2s\n",
      "[CV] max_features=log2, n_estimators=20, max_depth=3 .................\n",
      "[CV]  max_features=log2, n_estimators=20, max_depth=3, score=0.581599, total=   0.1s\n",
      "[CV] max_features=log2, n_estimators=100, max_depth=3 ................\n",
      "[CV]  max_features=log2, n_estimators=100, max_depth=3, score=0.638329, total=   0.7s\n",
      "[CV] max_features=log2, n_estimators=100, max_depth=3 ................\n",
      "[CV]  max_features=log2, n_estimators=100, max_depth=3, score=0.643807, total=   0.7s\n",
      "[CV] max_features=log2, n_estimators=100, max_depth=3 ................\n",
      "[CV]  max_features=log2, n_estimators=100, max_depth=3, score=0.574583, total=   0.7s\n",
      "[CV] max_features=sqrt, n_estimators=10, max_depth=4 .................\n",
      "[CV]  max_features=sqrt, n_estimators=10, max_depth=4, score=0.662931, total=   0.1s\n",
      "[CV] max_features=sqrt, n_estimators=10, max_depth=4 .................\n",
      "[CV]  max_features=sqrt, n_estimators=10, max_depth=4, score=0.623662, total=   0.1s\n",
      "[CV] max_features=sqrt, n_estimators=10, max_depth=4 .................\n",
      "[CV]  max_features=sqrt, n_estimators=10, max_depth=4, score=0.591211, total=   0.1s\n",
      "[CV] max_features=sqrt, n_estimators=20, max_depth=4 .................\n",
      "[CV]  max_features=sqrt, n_estimators=20, max_depth=4, score=0.634724, total=   0.2s\n",
      "[CV] max_features=sqrt, n_estimators=20, max_depth=4 .................\n",
      "[CV]  max_features=sqrt, n_estimators=20, max_depth=4, score=0.636215, total=   0.2s\n",
      "[CV] max_features=sqrt, n_estimators=20, max_depth=4 .................\n",
      "[CV]  max_features=sqrt, n_estimators=20, max_depth=4, score=0.593746, total=   0.2s\n",
      "[CV] max_features=sqrt, n_estimators=100, max_depth=4 ................\n",
      "[CV]  max_features=sqrt, n_estimators=100, max_depth=4, score=0.617854, total=   0.8s\n",
      "[CV] max_features=sqrt, n_estimators=100, max_depth=4 ................\n",
      "[CV]  max_features=sqrt, n_estimators=100, max_depth=4, score=0.611176, total=   0.9s\n",
      "[CV] max_features=sqrt, n_estimators=100, max_depth=4 ................\n",
      "[CV]  max_features=sqrt, n_estimators=100, max_depth=4, score=0.576461, total=   0.9s\n",
      "[CV] max_features=log2, n_estimators=10, max_depth=4 .................\n",
      "[CV]  max_features=log2, n_estimators=10, max_depth=4, score=0.654310, total=   0.1s\n",
      "[CV] max_features=log2, n_estimators=10, max_depth=4 .................\n",
      "[CV]  max_features=log2, n_estimators=10, max_depth=4, score=0.647304, total=   0.1s\n",
      "[CV] max_features=log2, n_estimators=10, max_depth=4 .................\n",
      "[CV]  max_features=log2, n_estimators=10, max_depth=4, score=0.583569, total=   0.1s\n",
      "[CV] max_features=log2, n_estimators=20, max_depth=4 .................\n",
      "[CV]  max_features=log2, n_estimators=20, max_depth=4, score=0.635270, total=   0.2s\n",
      "[CV] max_features=log2, n_estimators=20, max_depth=4 .................\n",
      "[CV]  max_features=log2, n_estimators=20, max_depth=4, score=0.628859, total=   0.2s\n",
      "[CV] max_features=log2, n_estimators=20, max_depth=4 .................\n",
      "[CV]  max_features=log2, n_estimators=20, max_depth=4, score=0.567832, total=   0.2s\n",
      "[CV] max_features=log2, n_estimators=100, max_depth=4 ................\n",
      "[CV]  max_features=log2, n_estimators=100, max_depth=4, score=0.614759, total=   0.8s\n",
      "[CV] max_features=log2, n_estimators=100, max_depth=4 ................\n",
      "[CV]  max_features=log2, n_estimators=100, max_depth=4, score=0.612336, total=   0.8s\n",
      "[CV] max_features=log2, n_estimators=100, max_depth=4 ................\n",
      "[CV]  max_features=log2, n_estimators=100, max_depth=4, score=0.574739, total=   0.8s\n",
      "[CV] max_features=sqrt, n_estimators=10, max_depth=5 .................\n",
      "[CV]  max_features=sqrt, n_estimators=10, max_depth=5, score=0.636091, total=   0.1s\n",
      "[CV] max_features=sqrt, n_estimators=10, max_depth=5 .................\n",
      "[CV]  max_features=sqrt, n_estimators=10, max_depth=5, score=0.643720, total=   0.1s\n",
      "[CV] max_features=sqrt, n_estimators=10, max_depth=5 .................\n",
      "[CV]  max_features=sqrt, n_estimators=10, max_depth=5, score=0.578225, total=   0.1s\n",
      "[CV] max_features=sqrt, n_estimators=20, max_depth=5 .................\n"
     ]
    },
    {
     "name": "stdout",
     "output_type": "stream",
     "text": [
      "[CV]  max_features=sqrt, n_estimators=20, max_depth=5, score=0.641611, total=   0.2s\n",
      "[CV] max_features=sqrt, n_estimators=20, max_depth=5 .................\n",
      "[CV]  max_features=sqrt, n_estimators=20, max_depth=5, score=0.629015, total=   0.2s\n",
      "[CV] max_features=sqrt, n_estimators=20, max_depth=5 .................\n",
      "[CV]  max_features=sqrt, n_estimators=20, max_depth=5, score=0.565214, total=   0.2s\n",
      "[CV] max_features=sqrt, n_estimators=100, max_depth=5 ................\n",
      "[CV]  max_features=sqrt, n_estimators=100, max_depth=5, score=0.584293, total=   1.0s\n",
      "[CV] max_features=sqrt, n_estimators=100, max_depth=5 ................\n",
      "[CV]  max_features=sqrt, n_estimators=100, max_depth=5, score=0.587992, total=   1.0s\n",
      "[CV] max_features=sqrt, n_estimators=100, max_depth=5 ................\n",
      "[CV]  max_features=sqrt, n_estimators=100, max_depth=5, score=0.530716, total=   1.0s\n",
      "[CV] max_features=log2, n_estimators=10, max_depth=5 .................\n",
      "[CV]  max_features=log2, n_estimators=10, max_depth=5, score=0.622899, total=   0.1s\n",
      "[CV] max_features=log2, n_estimators=10, max_depth=5 .................\n",
      "[CV]  max_features=log2, n_estimators=10, max_depth=5, score=0.597967, total=   0.1s\n",
      "[CV] max_features=log2, n_estimators=10, max_depth=5 .................\n",
      "[CV]  max_features=log2, n_estimators=10, max_depth=5, score=0.583595, total=   0.1s\n",
      "[CV] max_features=log2, n_estimators=20, max_depth=5 .................\n",
      "[CV]  max_features=log2, n_estimators=20, max_depth=5, score=0.633072, total=   0.2s\n",
      "[CV] max_features=log2, n_estimators=20, max_depth=5 .................\n",
      "[CV]  max_features=log2, n_estimators=20, max_depth=5, score=0.621421, total=   0.2s\n",
      "[CV] max_features=log2, n_estimators=20, max_depth=5 .................\n",
      "[CV]  max_features=log2, n_estimators=20, max_depth=5, score=0.569841, total=   0.2s\n",
      "[CV] max_features=log2, n_estimators=100, max_depth=5 ................\n",
      "[CV]  max_features=log2, n_estimators=100, max_depth=5, score=0.611164, total=   0.9s\n",
      "[CV] max_features=log2, n_estimators=100, max_depth=5 ................\n",
      "[CV]  max_features=log2, n_estimators=100, max_depth=5, score=0.596599, total=   0.9s\n",
      "[CV] max_features=log2, n_estimators=100, max_depth=5 ................\n",
      "[CV]  max_features=log2, n_estimators=100, max_depth=5, score=0.558162, total=   0.9s\n"
     ]
    },
    {
     "name": "stderr",
     "output_type": "stream",
     "text": [
      "[Parallel(n_jobs=1)]: Done  72 out of  72 | elapsed:   28.6s finished\n"
     ]
    }
   ],
   "source": [
    "rf_fitted = rf_search.fit(X_train,y_train)"
   ]
  },
  {
   "cell_type": "code",
   "execution_count": 31,
   "metadata": {},
   "outputs": [
    {
     "data": {
      "text/plain": [
       "{'max_depth': 2, 'max_features': 'log2', 'n_estimators': 20}"
      ]
     },
     "execution_count": 31,
     "metadata": {},
     "output_type": "execute_result"
    }
   ],
   "source": [
    "rf_fitted.best_params_"
   ]
  },
  {
   "cell_type": "code",
   "execution_count": 69,
   "metadata": {
    "collapsed": true
   },
   "outputs": [],
   "source": [
    "rf_best=RandomForestClassifier(max_depth=2, max_features= 'log2', n_estimators=20)\n",
    "rf_best_fitted = rf_best.fit(X_large, y_large, sample_weight=np.array(weights_large))"
   ]
  },
  {
   "cell_type": "markdown",
   "metadata": {},
   "source": [
    "## ROC Curves"
   ]
  },
  {
   "cell_type": "code",
   "execution_count": 70,
   "metadata": {},
   "outputs": [
    {
     "data": {
      "image/png": "[encoded data removed]",
      "text/plain": [
       "<matplotlib.figure.Figure at 0x1136d7750>"
      ]
     },
     "metadata": {},
     "output_type": "display_data"
    }
   ],
   "source": [
    "from sklearn import metrics\n",
    "import matplotlib \n",
    "\n",
    "font = {'family' : 'normal',\n",
    "        'weight' : 'normal',\n",
    "        'size'   : 22}\n",
    "\n",
    "matplotlib.rc('font', **font)\n",
    "\n",
    "\n",
    "# calculate the fpr and tpr for all thresholds of the classification\n",
    "#Gradient Boosting\n",
    "gbc_probs = gbc_best_fitted.predict_proba(X_large)[:,1]\n",
    "gbc_fpr, gbc_tpr, gbc_threshold = metrics.roc_curve(y_large, gbc_probs, sample_weight=weights_large)\n",
    "gbc_roc_auc = metrics.auc(gbc_fpr, gbc_tpr)\n",
    "\n",
    "#Logistic Regression\n",
    "#log_probs = log_best_fitted.predict_proba(X_large)[:,1]\n",
    "#log_fpr, log_tpr, log_threshold = metrics.roc_curve(y_large, log_probs,sample_weight=weights_large)\n",
    "#log_roc_auc = metrics.auc(log_fpr, log_tpr)\n",
    "\n",
    "#Random Forest\n",
    "rf_probs = rf_best_fitted.predict_proba(X_large)[:,1]\n",
    "rf_fpr, rf_tpr, rf_threshold = metrics.roc_curve(y_large, rf_probs,sample_weight=weights_large)\n",
    "rf_roc_auc = metrics.auc(rf_fpr, rf_tpr)\n",
    "\n",
    "# method I: plt\n",
    "import matplotlib.pyplot as plt\n",
    "fig, ax = plt.subplots(figsize=(12,12))\n",
    "ax.set_title('Receiver Operating Characteristic')\n",
    "ax.plot(gbc_fpr, gbc_tpr, 'b', label = 'AUC_GBC = %0.2f' % gbc_roc_auc, color='green')\n",
    "#ax.plot(log_fpr, log_tpr, 'b', label = 'AUC_LOG = %0.2f' % log_roc_auc, color='red')\n",
    "ax.plot(rf_fpr, rf_tpr, 'b', label = 'AUC_RF = %0.2f' % rf_roc_auc , color='blue')\n",
    "ax.legend(loc = 'lower right')\n",
    "ax.plot([0, 1], [0, 1],'r--')\n",
    "ax.set_xlim([0, 1])\n",
    "ax.set_ylim([0, 1])\n",
    "ax.set_ylabel('True Positive Rate')\n",
    "ax.set_xlabel('False Positive Rate')\n",
    "fig.savefig('roc_sep8.png')\n",
    "plt.show()"
   ]
  },
  {
   "cell_type": "markdown",
   "metadata": {},
   "source": [
    "## Selecting the number of estimators"
   ]
  },
  {
   "cell_type": "code",
   "execution_count": 34,
   "metadata": {},
   "outputs": [
    {
     "data": {
      "text/plain": [
       "{'learning_rate': 0.001,\n",
       " 'max_depth': 2,\n",
       " 'n_estimators': 1000,\n",
       " 'subsample': 0.8}"
      ]
     },
     "execution_count": 34,
     "metadata": {},
     "output_type": "execute_result"
    }
   ],
   "source": [
    "gbc_fitted.best_params_"
   ]
  },
  {
   "cell_type": "code",
   "execution_count": 35,
   "metadata": {
    "collapsed": true
   },
   "outputs": [],
   "source": [
    "N_ESTIMATORS=4000"
   ]
  },
  {
   "cell_type": "code",
   "execution_count": 36,
   "metadata": {},
   "outputs": [
    {
     "data": {
      "text/plain": [
       "GradientBoostingClassifier(criterion='friedman_mse', init=None,\n",
       "              learning_rate=0.001, loss='deviance', max_depth=2,\n",
       "              max_features=None, max_leaf_nodes=None,\n",
       "              min_impurity_split=1e-07, min_samples_leaf=1,\n",
       "              min_samples_split=2, min_weight_fraction_leaf=0.0,\n",
       "              n_estimators=4000, presort='auto', random_state=None,\n",
       "              subsample=0.8, verbose=0, warm_start=False)"
      ]
     },
     "execution_count": 36,
     "metadata": {},
     "output_type": "execute_result"
    }
   ],
   "source": [
    "model = GradientBoostingClassifier(n_estimators=N_ESTIMATORS,max_depth=2, learning_rate=0.001, subsample=0.8)\n",
    "model.fit(X_train, y_train, sample_weight=weights_train)"
   ]
  },
  {
   "cell_type": "code",
   "execution_count": 37,
   "metadata": {
    "collapsed": true
   },
   "outputs": [],
   "source": [
    "def log_loss(y, y_hat, weights):\n",
    "    return (1.0 / y.shape[0]) * np.sum(weights*(y*np.log(y_hat) + (1-y)*np.log(1-y_hat)))"
   ]
  },
  {
   "cell_type": "code",
   "execution_count": 38,
   "metadata": {
    "collapsed": true
   },
   "outputs": [],
   "source": [
    "train_score = np.zeros(N_ESTIMATORS)\n",
    "for i, y_pred in enumerate(model.staged_predict_proba(X_train)):\n",
    "    train_score[i] = -log_loss(y_train, y_pred[:, 1], weights_train)\n",
    "\n",
    "test_score = np.zeros(N_ESTIMATORS)\n",
    "for i, y_pred in enumerate(model.staged_predict_proba(X_test)):\n",
    "    test_score[i] = -log_loss(y_test, y_pred[:, 1], weights_test)"
   ]
  },
  {
   "cell_type": "code",
   "execution_count": 39,
   "metadata": {},
   "outputs": [
    {
     "data": {
      "image/png": "[encoded data removed]",
      "text/plain": [
       "<matplotlib.figure.Figure at 0x113709710>"
      ]
     },
     "metadata": {},
     "output_type": "display_data"
    }
   ],
   "source": [
    "plt.plot(np.arange(N_ESTIMATORS) + 1, train_score,\n",
    "        label=\"Training Error\")\n",
    "plt.plot(np.arange(N_ESTIMATORS) + 1, test_score,\n",
    "        label=\"Testing Error\")\n",
    "plt.title(\"Training and Hold Out Error by Boosting Stages\")\n",
    "plt.xlabel('Number of Boosting Stages', fontsize=14)\n",
    "plt.ylabel('Log-Likelihood', fontsize=14)\n",
    "plt.legend(loc=\"upper right\")\n",
    "\n",
    "\n",
    "plt.savefig('training-and-testing-error.png', bbox_inches='tight')"
   ]
  },
  {
   "cell_type": "code",
   "execution_count": 40,
   "metadata": {},
   "outputs": [
    {
     "data": {
      "text/plain": [
       "1220"
      ]
     },
     "execution_count": 40,
     "metadata": {},
     "output_type": "execute_result"
    }
   ],
   "source": [
    "np.argmin(test_score)"
   ]
  },
  {
   "cell_type": "markdown",
   "metadata": {},
   "source": [
    "## Simple model matrix"
   ]
  },
  {
   "cell_type": "code",
   "execution_count": 41,
   "metadata": {
    "collapsed": true
   },
   "outputs": [],
   "source": [
    "variables_simple = ['Percent_Less_9th','Percent_more_than_hs', 'Percent_1_unit','Avg_hh_size',\n",
    "                'Percent_hh_w_children', 'Percent_10+_units', 'Percent_Heating_electricity',\n",
    "                'yearly_sunlight_kwh_total'  , 'Percent_9_more_rooms', 'percent_qualified',\n",
    "                'Project_yes','weight','Duplicate']"
   ]
  },
  {
   "cell_type": "code",
   "execution_count": 42,
   "metadata": {
    "collapsed": true
   },
   "outputs": [],
   "source": [
    "df_simple= all_data[variables_simple]"
   ]
  },
  {
   "cell_type": "code",
   "execution_count": 43,
   "metadata": {
    "collapsed": true
   },
   "outputs": [],
   "source": [
    "y_simple=df_simple['Project_yes']\n",
    "weights_simple=df_simple['weight']\n",
    "X_simple=df_simple.drop(['Project_yes', 'weight','Duplicate'], axis=1)"
   ]
  },
  {
   "cell_type": "markdown",
   "metadata": {
    "collapsed": true
   },
   "source": [
    "## Model using small matrix"
   ]
  },
  {
   "cell_type": "code",
   "execution_count": 44,
   "metadata": {
    "collapsed": true
   },
   "outputs": [],
   "source": [
    "X_train_simple, X_test_simple, y_train_simple, y_test_simple, weights_train_simple, weights_test_simple = train_test_split(X_simple, y_simple, weights_simple, test_size=0.3, random_state=42)"
   ]
  },
  {
   "cell_type": "code",
   "execution_count": 45,
   "metadata": {
    "collapsed": true
   },
   "outputs": [],
   "source": [
    "gbc_simple = GradientBoostingClassifier()\n",
    "gbc_search_simple = GridSearchCV(gbc_simple, param_grid = {'n_estimators' : [500, 1000, 2000], 'subsample' :[0.5,0.8],\n",
    "                                           'max_depth': [2,3,4,5], 'learning_rate' : [0.1, 0.01, 0.001]}, \n",
    "                      scoring=my_auc, fit_params={'sample_weight': weights_train_simple}, n_jobs=1, iid=True, refit=True, \n",
    "             cv=None, verbose=5, pre_dispatch='2*n_jobs', error_score='raise', return_train_score=True)"
   ]
  },
  {
   "cell_type": "code",
   "execution_count": 46,
   "metadata": {
    "collapsed": true
   },
   "outputs": [
    {
     "name": "stdout",
     "output_type": "stream",
     "text": [
      "Fitting 3 folds for each of 72 candidates, totalling 216 fits\n",
      "[CV] n_estimators=500, subsample=0.5, learning_rate=0.1, max_depth=2 .\n",
      "[CV]  n_estimators=500, subsample=0.5, learning_rate=0.1, max_depth=2, score=0.563104, total=   1.1s\n",
      "[CV] n_estimators=500, subsample=0.5, learning_rate=0.1, max_depth=2 .\n"
     ]
    },
    {
     "name": "stderr",
     "output_type": "stream",
     "text": [
      "[Parallel(n_jobs=1)]: Done   1 out of   1 | elapsed:    1.1s remaining:    0.0s\n"
     ]
    },
    {
     "name": "stdout",
     "output_type": "stream",
     "text": [
      "[CV]  n_estimators=500, subsample=0.5, learning_rate=0.1, max_depth=2, score=0.587404, total=   1.1s\n",
      "[CV] n_estimators=500, subsample=0.5, learning_rate=0.1, max_depth=2 .\n"
     ]
    },
    {
     "name": "stderr",
     "output_type": "stream",
     "text": [
      "[Parallel(n_jobs=1)]: Done   2 out of   2 | elapsed:    2.3s remaining:    0.0s\n"
     ]
    },
    {
     "name": "stdout",
     "output_type": "stream",
     "text": [
      "[CV]  n_estimators=500, subsample=0.5, learning_rate=0.1, max_depth=2, score=0.518299, total=   1.1s\n",
      "[CV] n_estimators=500, subsample=0.8, learning_rate=0.1, max_depth=2 .\n"
     ]
    },
    {
     "name": "stderr",
     "output_type": "stream",
     "text": [
      "[Parallel(n_jobs=1)]: Done   3 out of   3 | elapsed:    3.4s remaining:    0.0s\n"
     ]
    },
    {
     "name": "stdout",
     "output_type": "stream",
     "text": [
      "[CV]  n_estimators=500, subsample=0.8, learning_rate=0.1, max_depth=2, score=0.539944, total=   1.2s\n",
      "[CV] n_estimators=500, subsample=0.8, learning_rate=0.1, max_depth=2 .\n"
     ]
    },
    {
     "name": "stderr",
     "output_type": "stream",
     "text": [
      "[Parallel(n_jobs=1)]: Done   4 out of   4 | elapsed:    4.6s remaining:    0.0s\n"
     ]
    },
    {
     "name": "stdout",
     "output_type": "stream",
     "text": [
      "[CV]  n_estimators=500, subsample=0.8, learning_rate=0.1, max_depth=2, score=0.581900, total=   1.2s\n",
      "[CV] n_estimators=500, subsample=0.8, learning_rate=0.1, max_depth=2 .\n",
      "[CV]  n_estimators=500, subsample=0.8, learning_rate=0.1, max_depth=2, score=0.609385, total=   1.2s\n",
      "[CV] n_estimators=1000, subsample=0.5, learning_rate=0.1, max_depth=2 \n",
      "[CV]  n_estimators=1000, subsample=0.5, learning_rate=0.1, max_depth=2, score=0.609464, total=   2.2s\n",
      "[CV] n_estimators=1000, subsample=0.5, learning_rate=0.1, max_depth=2 \n",
      "[CV]  n_estimators=1000, subsample=0.5, learning_rate=0.1, max_depth=2, score=0.634180, total=   2.2s\n",
      "[CV] n_estimators=1000, subsample=0.5, learning_rate=0.1, max_depth=2 \n",
      "[CV]  n_estimators=1000, subsample=0.5, learning_rate=0.1, max_depth=2, score=0.539220, total=   2.3s\n",
      "[CV] n_estimators=1000, subsample=0.8, learning_rate=0.1, max_depth=2 \n",
      "[CV]  n_estimators=1000, subsample=0.8, learning_rate=0.1, max_depth=2, score=0.592513, total=   2.7s\n",
      "[CV] n_estimators=1000, subsample=0.8, learning_rate=0.1, max_depth=2 \n",
      "[CV]  n_estimators=1000, subsample=0.8, learning_rate=0.1, max_depth=2, score=0.549331, total=   2.8s\n",
      "[CV] n_estimators=1000, subsample=0.8, learning_rate=0.1, max_depth=2 \n",
      "[CV]  n_estimators=1000, subsample=0.8, learning_rate=0.1, max_depth=2, score=0.592530, total=   2.5s\n",
      "[CV] n_estimators=2000, subsample=0.5, learning_rate=0.1, max_depth=2 \n",
      "[CV]  n_estimators=2000, subsample=0.5, learning_rate=0.1, max_depth=2, score=0.533089, total=   4.9s\n",
      "[CV] n_estimators=2000, subsample=0.5, learning_rate=0.1, max_depth=2 \n",
      "[CV]  n_estimators=2000, subsample=0.5, learning_rate=0.1, max_depth=2, score=0.528479, total=   4.2s\n",
      "[CV] n_estimators=2000, subsample=0.5, learning_rate=0.1, max_depth=2 \n",
      "[CV]  n_estimators=2000, subsample=0.5, learning_rate=0.1, max_depth=2, score=0.495335, total=   4.4s\n",
      "[CV] n_estimators=2000, subsample=0.8, learning_rate=0.1, max_depth=2 \n",
      "[CV]  n_estimators=2000, subsample=0.8, learning_rate=0.1, max_depth=2, score=0.530260, total=   4.5s\n",
      "[CV] n_estimators=2000, subsample=0.8, learning_rate=0.1, max_depth=2 \n",
      "[CV]  n_estimators=2000, subsample=0.8, learning_rate=0.1, max_depth=2, score=0.557368, total=   4.8s\n",
      "[CV] n_estimators=2000, subsample=0.8, learning_rate=0.1, max_depth=2 \n",
      "[CV]  n_estimators=2000, subsample=0.8, learning_rate=0.1, max_depth=2, score=0.589771, total=   4.5s\n",
      "[CV] n_estimators=500, subsample=0.5, learning_rate=0.1, max_depth=3 .\n",
      "[CV]  n_estimators=500, subsample=0.5, learning_rate=0.1, max_depth=3, score=0.615079, total=   1.5s\n",
      "[CV] n_estimators=500, subsample=0.5, learning_rate=0.1, max_depth=3 .\n",
      "[CV]  n_estimators=500, subsample=0.5, learning_rate=0.1, max_depth=3, score=0.570586, total=   1.6s\n",
      "[CV] n_estimators=500, subsample=0.5, learning_rate=0.1, max_depth=3 .\n",
      "[CV]  n_estimators=500, subsample=0.5, learning_rate=0.1, max_depth=3, score=0.521852, total=   1.5s\n",
      "[CV] n_estimators=500, subsample=0.8, learning_rate=0.1, max_depth=3 .\n",
      "[CV]  n_estimators=500, subsample=0.8, learning_rate=0.1, max_depth=3, score=0.596212, total=   1.6s\n",
      "[CV] n_estimators=500, subsample=0.8, learning_rate=0.1, max_depth=3 .\n",
      "[CV]  n_estimators=500, subsample=0.8, learning_rate=0.1, max_depth=3, score=0.581336, total=   1.6s\n",
      "[CV] n_estimators=500, subsample=0.8, learning_rate=0.1, max_depth=3 .\n",
      "[CV]  n_estimators=500, subsample=0.8, learning_rate=0.1, max_depth=3, score=0.498074, total=   1.7s\n",
      "[CV] n_estimators=1000, subsample=0.5, learning_rate=0.1, max_depth=3 \n",
      "[CV]  n_estimators=1000, subsample=0.5, learning_rate=0.1, max_depth=3, score=0.496308, total=   3.0s\n",
      "[CV] n_estimators=1000, subsample=0.5, learning_rate=0.1, max_depth=3 \n",
      "[CV]  n_estimators=1000, subsample=0.5, learning_rate=0.1, max_depth=3, score=0.474552, total=   3.2s\n",
      "[CV] n_estimators=1000, subsample=0.5, learning_rate=0.1, max_depth=3 \n",
      "[CV]  n_estimators=1000, subsample=0.5, learning_rate=0.1, max_depth=3, score=0.520052, total=   3.0s\n",
      "[CV] n_estimators=1000, subsample=0.8, learning_rate=0.1, max_depth=3 \n",
      "[CV]  n_estimators=1000, subsample=0.8, learning_rate=0.1, max_depth=3, score=0.557083, total=   3.3s\n",
      "[CV] n_estimators=1000, subsample=0.8, learning_rate=0.1, max_depth=3 \n",
      "[CV]  n_estimators=1000, subsample=0.8, learning_rate=0.1, max_depth=3, score=0.585710, total=   3.1s\n",
      "[CV] n_estimators=1000, subsample=0.8, learning_rate=0.1, max_depth=3 \n",
      "[CV]  n_estimators=1000, subsample=0.8, learning_rate=0.1, max_depth=3, score=0.569127, total=   3.2s\n",
      "[CV] n_estimators=2000, subsample=0.5, learning_rate=0.1, max_depth=3 \n",
      "[CV]  n_estimators=2000, subsample=0.5, learning_rate=0.1, max_depth=3, score=0.568988, total=   5.9s\n",
      "[CV] n_estimators=2000, subsample=0.5, learning_rate=0.1, max_depth=3 \n",
      "[CV]  n_estimators=2000, subsample=0.5, learning_rate=0.1, max_depth=3, score=0.596019, total=   5.8s\n",
      "[CV] n_estimators=2000, subsample=0.5, learning_rate=0.1, max_depth=3 \n",
      "[CV]  n_estimators=2000, subsample=0.5, learning_rate=0.1, max_depth=3, score=0.568651, total=   5.9s\n",
      "[CV] n_estimators=2000, subsample=0.8, learning_rate=0.1, max_depth=3 \n",
      "[CV]  n_estimators=2000, subsample=0.8, learning_rate=0.1, max_depth=3, score=0.516905, total=   7.0s\n",
      "[CV] n_estimators=2000, subsample=0.8, learning_rate=0.1, max_depth=3 \n",
      "[CV]  n_estimators=2000, subsample=0.8, learning_rate=0.1, max_depth=3, score=0.560964, total=   7.0s\n",
      "[CV] n_estimators=2000, subsample=0.8, learning_rate=0.1, max_depth=3 \n",
      "[CV]  n_estimators=2000, subsample=0.8, learning_rate=0.1, max_depth=3, score=0.512059, total=   6.6s\n",
      "[CV] n_estimators=500, subsample=0.5, learning_rate=0.1, max_depth=4 .\n",
      "[CV]  n_estimators=500, subsample=0.5, learning_rate=0.1, max_depth=4, score=0.559389, total=   1.8s\n",
      "[CV] n_estimators=500, subsample=0.5, learning_rate=0.1, max_depth=4 .\n",
      "[CV]  n_estimators=500, subsample=0.5, learning_rate=0.1, max_depth=4, score=0.512383, total=   1.9s\n",
      "[CV] n_estimators=500, subsample=0.5, learning_rate=0.1, max_depth=4 .\n",
      "[CV]  n_estimators=500, subsample=0.5, learning_rate=0.1, max_depth=4, score=0.514304, total=   2.0s\n",
      "[CV] n_estimators=500, subsample=0.8, learning_rate=0.1, max_depth=4 .\n",
      "[CV]  n_estimators=500, subsample=0.8, learning_rate=0.1, max_depth=4, score=0.555442, total=   2.0s\n",
      "[CV] n_estimators=500, subsample=0.8, learning_rate=0.1, max_depth=4 .\n",
      "[CV]  n_estimators=500, subsample=0.8, learning_rate=0.1, max_depth=4, score=0.528374, total=   2.0s\n",
      "[CV] n_estimators=500, subsample=0.8, learning_rate=0.1, max_depth=4 .\n",
      "[CV]  n_estimators=500, subsample=0.8, learning_rate=0.1, max_depth=4, score=0.596342, total=   2.2s\n",
      "[CV] n_estimators=1000, subsample=0.5, learning_rate=0.1, max_depth=4 \n",
      "[CV]  n_estimators=1000, subsample=0.5, learning_rate=0.1, max_depth=4, score=0.562893, total=   3.7s\n",
      "[CV] n_estimators=1000, subsample=0.5, learning_rate=0.1, max_depth=4 \n",
      "[CV]  n_estimators=1000, subsample=0.5, learning_rate=0.1, max_depth=4, score=0.582672, total=   3.4s\n",
      "[CV] n_estimators=1000, subsample=0.5, learning_rate=0.1, max_depth=4 \n",
      "[CV]  n_estimators=1000, subsample=0.5, learning_rate=0.1, max_depth=4, score=0.582659, total=   3.4s\n",
      "[CV] n_estimators=1000, subsample=0.8, learning_rate=0.1, max_depth=4 \n"
     ]
    },
    {
     "name": "stderr",
     "output_type": "stream",
     "text": [
      "/Users/mariamendieta/anaconda2/lib/python2.7/site-packages/sklearn/ensemble/gradient_boosting.py:490: RuntimeWarning: overflow encountered in multiply\n",
      "  np.sum(sample_weight * ((y * pred) - np.logaddexp(0.0, pred))))\n",
      "/Users/mariamendieta/anaconda2/lib/python2.7/site-packages/sklearn/ensemble/gradient_boosting.py:1093: RuntimeWarning: invalid value encountered in double_scalars\n",
      "  sample_weight[~sample_mask]))\n"
     ]
    },
    {
     "name": "stdout",
     "output_type": "stream",
     "text": [
      "[CV]  n_estimators=1000, subsample=0.8, learning_rate=0.1, max_depth=4, score=0.528917, total=   4.0s\n",
      "[CV] n_estimators=1000, subsample=0.8, learning_rate=0.1, max_depth=4 \n",
      "[CV]  n_estimators=1000, subsample=0.8, learning_rate=0.1, max_depth=4, score=0.490841, total=   4.2s\n",
      "[CV] n_estimators=1000, subsample=0.8, learning_rate=0.1, max_depth=4 \n",
      "[CV]  n_estimators=1000, subsample=0.8, learning_rate=0.1, max_depth=4, score=0.534208, total=   4.3s\n",
      "[CV] n_estimators=2000, subsample=0.5, learning_rate=0.1, max_depth=4 \n",
      "[CV]  n_estimators=2000, subsample=0.5, learning_rate=0.1, max_depth=4, score=0.573963, total=   7.8s\n",
      "[CV] n_estimators=2000, subsample=0.5, learning_rate=0.1, max_depth=4 \n",
      "[CV]  n_estimators=2000, subsample=0.5, learning_rate=0.1, max_depth=4, score=0.521930, total=   7.0s\n",
      "[CV] n_estimators=2000, subsample=0.5, learning_rate=0.1, max_depth=4 \n",
      "[CV]  n_estimators=2000, subsample=0.5, learning_rate=0.1, max_depth=4, score=0.505556, total=   7.1s\n",
      "[CV] n_estimators=2000, subsample=0.8, learning_rate=0.1, max_depth=4 \n",
      "[CV]  n_estimators=2000, subsample=0.8, learning_rate=0.1, max_depth=4, score=0.577562, total=   7.9s\n",
      "[CV] n_estimators=2000, subsample=0.8, learning_rate=0.1, max_depth=4 \n",
      "[CV]  n_estimators=2000, subsample=0.8, learning_rate=0.1, max_depth=4, score=0.519788, total=   7.6s\n",
      "[CV] n_estimators=2000, subsample=0.8, learning_rate=0.1, max_depth=4 \n",
      "[CV]  n_estimators=2000, subsample=0.8, learning_rate=0.1, max_depth=4, score=0.503061, total=   7.9s\n",
      "[CV] n_estimators=500, subsample=0.5, learning_rate=0.1, max_depth=5 .\n",
      "[CV]  n_estimators=500, subsample=0.5, learning_rate=0.1, max_depth=5, score=0.556589, total=   2.3s\n",
      "[CV] n_estimators=500, subsample=0.5, learning_rate=0.1, max_depth=5 .\n",
      "[CV]  n_estimators=500, subsample=0.5, learning_rate=0.1, max_depth=5, score=0.571247, total=   2.2s\n",
      "[CV] n_estimators=500, subsample=0.5, learning_rate=0.1, max_depth=5 .\n",
      "[CV]  n_estimators=500, subsample=0.5, learning_rate=0.1, max_depth=5, score=0.492592, total=   2.4s\n",
      "[CV] n_estimators=500, subsample=0.8, learning_rate=0.1, max_depth=5 .\n",
      "[CV]  n_estimators=500, subsample=0.8, learning_rate=0.1, max_depth=5, score=0.498759, total=   2.7s\n",
      "[CV] n_estimators=500, subsample=0.8, learning_rate=0.1, max_depth=5 .\n",
      "[CV]  n_estimators=500, subsample=0.8, learning_rate=0.1, max_depth=5, score=0.547211, total=   2.6s\n",
      "[CV] n_estimators=500, subsample=0.8, learning_rate=0.1, max_depth=5 .\n",
      "[CV]  n_estimators=500, subsample=0.8, learning_rate=0.1, max_depth=5, score=0.506910, total=   2.7s\n",
      "[CV] n_estimators=1000, subsample=0.5, learning_rate=0.1, max_depth=5 \n",
      "[CV]  n_estimators=1000, subsample=0.5, learning_rate=0.1, max_depth=5, score=0.602423, total=   4.6s\n",
      "[CV] n_estimators=1000, subsample=0.5, learning_rate=0.1, max_depth=5 \n",
      "[CV]  n_estimators=1000, subsample=0.5, learning_rate=0.1, max_depth=5, score=0.541475, total=   4.4s\n",
      "[CV] n_estimators=1000, subsample=0.5, learning_rate=0.1, max_depth=5 \n",
      "[CV]  n_estimators=1000, subsample=0.5, learning_rate=0.1, max_depth=5, score=0.498116, total=   4.3s\n",
      "[CV] n_estimators=1000, subsample=0.8, learning_rate=0.1, max_depth=5 \n",
      "[CV]  n_estimators=1000, subsample=0.8, learning_rate=0.1, max_depth=5, score=0.567607, total=   5.0s\n",
      "[CV] n_estimators=1000, subsample=0.8, learning_rate=0.1, max_depth=5 \n",
      "[CV]  n_estimators=1000, subsample=0.8, learning_rate=0.1, max_depth=5, score=0.475212, total=   5.1s\n",
      "[CV] n_estimators=1000, subsample=0.8, learning_rate=0.1, max_depth=5 \n",
      "[CV]  n_estimators=1000, subsample=0.8, learning_rate=0.1, max_depth=5, score=0.509373, total=   5.5s\n",
      "[CV] n_estimators=2000, subsample=0.5, learning_rate=0.1, max_depth=5 \n",
      "[CV]  n_estimators=2000, subsample=0.5, learning_rate=0.1, max_depth=5, score=0.498469, total=   9.8s\n",
      "[CV] n_estimators=2000, subsample=0.5, learning_rate=0.1, max_depth=5 \n",
      "[CV]  n_estimators=2000, subsample=0.5, learning_rate=0.1, max_depth=5, score=0.556738, total=  10.2s\n",
      "[CV] n_estimators=2000, subsample=0.5, learning_rate=0.1, max_depth=5 \n",
      "[CV]  n_estimators=2000, subsample=0.5, learning_rate=0.1, max_depth=5, score=0.553775, total=   8.9s\n",
      "[CV] n_estimators=2000, subsample=0.8, learning_rate=0.1, max_depth=5 \n",
      "[CV]  n_estimators=2000, subsample=0.8, learning_rate=0.1, max_depth=5, score=0.538234, total=  11.1s\n",
      "[CV] n_estimators=2000, subsample=0.8, learning_rate=0.1, max_depth=5 \n",
      "[CV]  n_estimators=2000, subsample=0.8, learning_rate=0.1, max_depth=5, score=0.550661, total=  10.0s\n",
      "[CV] n_estimators=2000, subsample=0.8, learning_rate=0.1, max_depth=5 \n",
      "[CV]  n_estimators=2000, subsample=0.8, learning_rate=0.1, max_depth=5, score=0.556537, total=  10.2s\n",
      "[CV] n_estimators=500, subsample=0.5, learning_rate=0.01, max_depth=2 \n",
      "[CV]  n_estimators=500, subsample=0.5, learning_rate=0.01, max_depth=2, score=0.614004, total=   1.2s\n",
      "[CV] n_estimators=500, subsample=0.5, learning_rate=0.01, max_depth=2 \n",
      "[CV]  n_estimators=500, subsample=0.5, learning_rate=0.01, max_depth=2, score=0.619109, total=   1.1s\n",
      "[CV] n_estimators=500, subsample=0.5, learning_rate=0.01, max_depth=2 \n",
      "[CV]  n_estimators=500, subsample=0.5, learning_rate=0.01, max_depth=2, score=0.628887, total=   1.1s\n",
      "[CV] n_estimators=500, subsample=0.8, learning_rate=0.01, max_depth=2 \n",
      "[CV]  n_estimators=500, subsample=0.8, learning_rate=0.01, max_depth=2, score=0.626154, total=   1.2s\n",
      "[CV] n_estimators=500, subsample=0.8, learning_rate=0.01, max_depth=2 \n",
      "[CV]  n_estimators=500, subsample=0.8, learning_rate=0.01, max_depth=2, score=0.617149, total=   1.2s\n",
      "[CV] n_estimators=500, subsample=0.8, learning_rate=0.01, max_depth=2 \n",
      "[CV]  n_estimators=500, subsample=0.8, learning_rate=0.01, max_depth=2, score=0.624409, total=   1.2s\n",
      "[CV] n_estimators=1000, subsample=0.5, learning_rate=0.01, max_depth=2 \n",
      "[CV]  n_estimators=1000, subsample=0.5, learning_rate=0.01, max_depth=2, score=0.616461, total=   2.3s\n",
      "[CV] n_estimators=1000, subsample=0.5, learning_rate=0.01, max_depth=2 \n",
      "[CV]  n_estimators=1000, subsample=0.5, learning_rate=0.01, max_depth=2, score=0.611658, total=   2.2s\n",
      "[CV] n_estimators=1000, subsample=0.5, learning_rate=0.01, max_depth=2 \n",
      "[CV]  n_estimators=1000, subsample=0.5, learning_rate=0.01, max_depth=2, score=0.610577, total=   2.2s\n",
      "[CV] n_estimators=1000, subsample=0.8, learning_rate=0.01, max_depth=2 \n",
      "[CV]  n_estimators=1000, subsample=0.8, learning_rate=0.01, max_depth=2, score=0.612077, total=   2.3s\n",
      "[CV] n_estimators=1000, subsample=0.8, learning_rate=0.01, max_depth=2 \n",
      "[CV]  n_estimators=1000, subsample=0.8, learning_rate=0.01, max_depth=2, score=0.612433, total=   2.3s\n",
      "[CV] n_estimators=1000, subsample=0.8, learning_rate=0.01, max_depth=2 \n",
      "[CV]  n_estimators=1000, subsample=0.8, learning_rate=0.01, max_depth=2, score=0.611522, total=   2.3s\n",
      "[CV] n_estimators=2000, subsample=0.5, learning_rate=0.01, max_depth=2 \n",
      "[CV]  n_estimators=2000, subsample=0.5, learning_rate=0.01, max_depth=2, score=0.600889, total=   4.4s\n",
      "[CV] n_estimators=2000, subsample=0.5, learning_rate=0.01, max_depth=2 \n",
      "[CV]  n_estimators=2000, subsample=0.5, learning_rate=0.01, max_depth=2, score=0.604807, total=   4.6s\n",
      "[CV] n_estimators=2000, subsample=0.5, learning_rate=0.01, max_depth=2 \n",
      "[CV]  n_estimators=2000, subsample=0.5, learning_rate=0.01, max_depth=2, score=0.602179, total=   4.5s\n",
      "[CV] n_estimators=2000, subsample=0.8, learning_rate=0.01, max_depth=2 \n",
      "[CV]  n_estimators=2000, subsample=0.8, learning_rate=0.01, max_depth=2, score=0.601300, total=   4.9s\n",
      "[CV] n_estimators=2000, subsample=0.8, learning_rate=0.01, max_depth=2 \n",
      "[CV]  n_estimators=2000, subsample=0.8, learning_rate=0.01, max_depth=2, score=0.590722, total=   4.7s\n",
      "[CV] n_estimators=2000, subsample=0.8, learning_rate=0.01, max_depth=2 \n",
      "[CV]  n_estimators=2000, subsample=0.8, learning_rate=0.01, max_depth=2, score=0.599923, total=   4.9s\n",
      "[CV] n_estimators=500, subsample=0.5, learning_rate=0.01, max_depth=3 \n",
      "[CV]  n_estimators=500, subsample=0.5, learning_rate=0.01, max_depth=3, score=0.597334, total=   1.5s\n",
      "[CV] n_estimators=500, subsample=0.5, learning_rate=0.01, max_depth=3 \n",
      "[CV]  n_estimators=500, subsample=0.5, learning_rate=0.01, max_depth=3, score=0.590634, total=   1.6s\n",
      "[CV] n_estimators=500, subsample=0.5, learning_rate=0.01, max_depth=3 \n",
      "[CV]  n_estimators=500, subsample=0.5, learning_rate=0.01, max_depth=3, score=0.607130, total=   1.5s\n",
      "[CV] n_estimators=500, subsample=0.8, learning_rate=0.01, max_depth=3 \n"
     ]
    },
    {
     "name": "stdout",
     "output_type": "stream",
     "text": [
      "[CV]  n_estimators=500, subsample=0.8, learning_rate=0.01, max_depth=3, score=0.606701, total=   1.7s\n",
      "[CV] n_estimators=500, subsample=0.8, learning_rate=0.01, max_depth=3 \n",
      "[CV]  n_estimators=500, subsample=0.8, learning_rate=0.01, max_depth=3, score=0.599284, total=   1.7s\n",
      "[CV] n_estimators=500, subsample=0.8, learning_rate=0.01, max_depth=3 \n",
      "[CV]  n_estimators=500, subsample=0.8, learning_rate=0.01, max_depth=3, score=0.608994, total=   1.8s\n",
      "[CV] n_estimators=1000, subsample=0.5, learning_rate=0.01, max_depth=3 \n",
      "[CV]  n_estimators=1000, subsample=0.5, learning_rate=0.01, max_depth=3, score=0.587656, total=   2.9s\n",
      "[CV] n_estimators=1000, subsample=0.5, learning_rate=0.01, max_depth=3 \n",
      "[CV]  n_estimators=1000, subsample=0.5, learning_rate=0.01, max_depth=3, score=0.592184, total=   2.9s\n",
      "[CV] n_estimators=1000, subsample=0.5, learning_rate=0.01, max_depth=3 \n",
      "[CV]  n_estimators=1000, subsample=0.5, learning_rate=0.01, max_depth=3, score=0.588488, total=   2.8s\n",
      "[CV] n_estimators=1000, subsample=0.8, learning_rate=0.01, max_depth=3 \n",
      "[CV]  n_estimators=1000, subsample=0.8, learning_rate=0.01, max_depth=3, score=0.584700, total=   3.3s\n",
      "[CV] n_estimators=1000, subsample=0.8, learning_rate=0.01, max_depth=3 \n",
      "[CV]  n_estimators=1000, subsample=0.8, learning_rate=0.01, max_depth=3, score=0.589680, total=   3.3s\n",
      "[CV] n_estimators=1000, subsample=0.8, learning_rate=0.01, max_depth=3 \n",
      "[CV]  n_estimators=1000, subsample=0.8, learning_rate=0.01, max_depth=3, score=0.593433, total=   3.2s\n",
      "[CV] n_estimators=2000, subsample=0.5, learning_rate=0.01, max_depth=3 \n",
      "[CV]  n_estimators=2000, subsample=0.5, learning_rate=0.01, max_depth=3, score=0.568020, total=   5.9s\n",
      "[CV] n_estimators=2000, subsample=0.5, learning_rate=0.01, max_depth=3 \n",
      "[CV]  n_estimators=2000, subsample=0.5, learning_rate=0.01, max_depth=3, score=0.572401, total=   6.1s\n",
      "[CV] n_estimators=2000, subsample=0.5, learning_rate=0.01, max_depth=3 \n",
      "[CV]  n_estimators=2000, subsample=0.5, learning_rate=0.01, max_depth=3, score=0.586181, total=   6.1s\n",
      "[CV] n_estimators=2000, subsample=0.8, learning_rate=0.01, max_depth=3 \n",
      "[CV]  n_estimators=2000, subsample=0.8, learning_rate=0.01, max_depth=3, score=0.575712, total=   7.1s\n",
      "[CV] n_estimators=2000, subsample=0.8, learning_rate=0.01, max_depth=3 \n",
      "[CV]  n_estimators=2000, subsample=0.8, learning_rate=0.01, max_depth=3, score=0.577236, total=   6.5s\n",
      "[CV] n_estimators=2000, subsample=0.8, learning_rate=0.01, max_depth=3 \n",
      "[CV]  n_estimators=2000, subsample=0.8, learning_rate=0.01, max_depth=3, score=0.568040, total=   6.6s\n",
      "[CV] n_estimators=500, subsample=0.5, learning_rate=0.01, max_depth=4 \n",
      "[CV]  n_estimators=500, subsample=0.5, learning_rate=0.01, max_depth=4, score=0.584570, total=   1.8s\n",
      "[CV] n_estimators=500, subsample=0.5, learning_rate=0.01, max_depth=4 \n",
      "[CV]  n_estimators=500, subsample=0.5, learning_rate=0.01, max_depth=4, score=0.583922, total=   1.9s\n",
      "[CV] n_estimators=500, subsample=0.5, learning_rate=0.01, max_depth=4 \n",
      "[CV]  n_estimators=500, subsample=0.5, learning_rate=0.01, max_depth=4, score=0.589383, total=   1.8s\n",
      "[CV] n_estimators=500, subsample=0.8, learning_rate=0.01, max_depth=4 \n",
      "[CV]  n_estimators=500, subsample=0.8, learning_rate=0.01, max_depth=4, score=0.587609, total=   2.2s\n",
      "[CV] n_estimators=500, subsample=0.8, learning_rate=0.01, max_depth=4 \n",
      "[CV]  n_estimators=500, subsample=0.8, learning_rate=0.01, max_depth=4, score=0.579359, total=   2.2s\n",
      "[CV] n_estimators=500, subsample=0.8, learning_rate=0.01, max_depth=4 \n",
      "[CV]  n_estimators=500, subsample=0.8, learning_rate=0.01, max_depth=4, score=0.595781, total=   2.1s\n",
      "[CV] n_estimators=1000, subsample=0.5, learning_rate=0.01, max_depth=4 \n",
      "[CV]  n_estimators=1000, subsample=0.5, learning_rate=0.01, max_depth=4, score=0.582801, total=   3.7s\n",
      "[CV] n_estimators=1000, subsample=0.5, learning_rate=0.01, max_depth=4 \n",
      "[CV]  n_estimators=1000, subsample=0.5, learning_rate=0.01, max_depth=4, score=0.564065, total=   3.7s\n",
      "[CV] n_estimators=1000, subsample=0.5, learning_rate=0.01, max_depth=4 \n",
      "[CV]  n_estimators=1000, subsample=0.5, learning_rate=0.01, max_depth=4, score=0.573065, total=   3.6s\n",
      "[CV] n_estimators=1000, subsample=0.8, learning_rate=0.01, max_depth=4 \n",
      "[CV]  n_estimators=1000, subsample=0.8, learning_rate=0.01, max_depth=4, score=0.569987, total=   4.1s\n",
      "[CV] n_estimators=1000, subsample=0.8, learning_rate=0.01, max_depth=4 \n",
      "[CV]  n_estimators=1000, subsample=0.8, learning_rate=0.01, max_depth=4, score=0.578237, total=   4.1s\n",
      "[CV] n_estimators=1000, subsample=0.8, learning_rate=0.01, max_depth=4 \n",
      "[CV]  n_estimators=1000, subsample=0.8, learning_rate=0.01, max_depth=4, score=0.569237, total=   4.3s\n",
      "[CV] n_estimators=2000, subsample=0.5, learning_rate=0.01, max_depth=4 \n",
      "[CV]  n_estimators=2000, subsample=0.5, learning_rate=0.01, max_depth=4, score=0.545232, total=   7.4s\n",
      "[CV] n_estimators=2000, subsample=0.5, learning_rate=0.01, max_depth=4 \n",
      "[CV]  n_estimators=2000, subsample=0.5, learning_rate=0.01, max_depth=4, score=0.542305, total=   7.4s\n",
      "[CV] n_estimators=2000, subsample=0.5, learning_rate=0.01, max_depth=4 \n",
      "[CV]  n_estimators=2000, subsample=0.5, learning_rate=0.01, max_depth=4, score=0.561399, total=   7.5s\n",
      "[CV] n_estimators=2000, subsample=0.8, learning_rate=0.01, max_depth=4 \n",
      "[CV]  n_estimators=2000, subsample=0.8, learning_rate=0.01, max_depth=4, score=0.546190, total=   8.4s\n",
      "[CV] n_estimators=2000, subsample=0.8, learning_rate=0.01, max_depth=4 \n",
      "[CV]  n_estimators=2000, subsample=0.8, learning_rate=0.01, max_depth=4, score=0.548482, total=   8.4s\n",
      "[CV] n_estimators=2000, subsample=0.8, learning_rate=0.01, max_depth=4 \n",
      "[CV]  n_estimators=2000, subsample=0.8, learning_rate=0.01, max_depth=4, score=0.563033, total=   8.5s\n",
      "[CV] n_estimators=500, subsample=0.5, learning_rate=0.01, max_depth=5 \n",
      "[CV]  n_estimators=500, subsample=0.5, learning_rate=0.01, max_depth=5, score=0.568508, total=   2.2s\n",
      "[CV] n_estimators=500, subsample=0.5, learning_rate=0.01, max_depth=5 \n",
      "[CV]  n_estimators=500, subsample=0.5, learning_rate=0.01, max_depth=5, score=0.555684, total=   2.3s\n",
      "[CV] n_estimators=500, subsample=0.5, learning_rate=0.01, max_depth=5 \n",
      "[CV]  n_estimators=500, subsample=0.5, learning_rate=0.01, max_depth=5, score=0.578041, total=   2.3s\n",
      "[CV] n_estimators=500, subsample=0.8, learning_rate=0.01, max_depth=5 \n",
      "[CV]  n_estimators=500, subsample=0.8, learning_rate=0.01, max_depth=5, score=0.563184, total=   2.7s\n",
      "[CV] n_estimators=500, subsample=0.8, learning_rate=0.01, max_depth=5 \n",
      "[CV]  n_estimators=500, subsample=0.8, learning_rate=0.01, max_depth=5, score=0.559837, total=   2.8s\n",
      "[CV] n_estimators=500, subsample=0.8, learning_rate=0.01, max_depth=5 \n",
      "[CV]  n_estimators=500, subsample=0.8, learning_rate=0.01, max_depth=5, score=0.571426, total=   2.6s\n",
      "[CV] n_estimators=1000, subsample=0.5, learning_rate=0.01, max_depth=5 \n",
      "[CV]  n_estimators=1000, subsample=0.5, learning_rate=0.01, max_depth=5, score=0.558516, total=   4.8s\n",
      "[CV] n_estimators=1000, subsample=0.5, learning_rate=0.01, max_depth=5 \n",
      "[CV]  n_estimators=1000, subsample=0.5, learning_rate=0.01, max_depth=5, score=0.554579, total=   4.8s\n",
      "[CV] n_estimators=1000, subsample=0.5, learning_rate=0.01, max_depth=5 \n",
      "[CV]  n_estimators=1000, subsample=0.5, learning_rate=0.01, max_depth=5, score=0.558425, total=   4.5s\n",
      "[CV] n_estimators=1000, subsample=0.8, learning_rate=0.01, max_depth=5 \n",
      "[CV]  n_estimators=1000, subsample=0.8, learning_rate=0.01, max_depth=5, score=0.547543, total=   5.4s\n",
      "[CV] n_estimators=1000, subsample=0.8, learning_rate=0.01, max_depth=5 \n",
      "[CV]  n_estimators=1000, subsample=0.8, learning_rate=0.01, max_depth=5, score=0.535182, total=   5.2s\n",
      "[CV] n_estimators=1000, subsample=0.8, learning_rate=0.01, max_depth=5 \n",
      "[CV]  n_estimators=1000, subsample=0.8, learning_rate=0.01, max_depth=5, score=0.538495, total=   5.3s\n",
      "[CV] n_estimators=2000, subsample=0.5, learning_rate=0.01, max_depth=5 \n",
      "[CV]  n_estimators=2000, subsample=0.5, learning_rate=0.01, max_depth=5, score=0.535613, total=   9.1s\n",
      "[CV] n_estimators=2000, subsample=0.5, learning_rate=0.01, max_depth=5 \n",
      "[CV]  n_estimators=2000, subsample=0.5, learning_rate=0.01, max_depth=5, score=0.511707, total=   9.0s\n",
      "[CV] n_estimators=2000, subsample=0.5, learning_rate=0.01, max_depth=5 \n"
     ]
    },
    {
     "name": "stdout",
     "output_type": "stream",
     "text": [
      "[CV]  n_estimators=2000, subsample=0.5, learning_rate=0.01, max_depth=5, score=0.514703, total=   9.3s\n",
      "[CV] n_estimators=2000, subsample=0.8, learning_rate=0.01, max_depth=5 \n",
      "[CV]  n_estimators=2000, subsample=0.8, learning_rate=0.01, max_depth=5, score=0.533910, total=  10.4s\n",
      "[CV] n_estimators=2000, subsample=0.8, learning_rate=0.01, max_depth=5 \n",
      "[CV]  n_estimators=2000, subsample=0.8, learning_rate=0.01, max_depth=5, score=0.515462, total=  10.1s\n",
      "[CV] n_estimators=2000, subsample=0.8, learning_rate=0.01, max_depth=5 \n",
      "[CV]  n_estimators=2000, subsample=0.8, learning_rate=0.01, max_depth=5, score=0.543621, total=  10.8s\n",
      "[CV] n_estimators=500, subsample=0.5, learning_rate=0.001, max_depth=2 \n",
      "[CV]  n_estimators=500, subsample=0.5, learning_rate=0.001, max_depth=2, score=0.626390, total=   1.2s\n",
      "[CV] n_estimators=500, subsample=0.5, learning_rate=0.001, max_depth=2 \n",
      "[CV]  n_estimators=500, subsample=0.5, learning_rate=0.001, max_depth=2, score=0.624851, total=   1.2s\n",
      "[CV] n_estimators=500, subsample=0.5, learning_rate=0.001, max_depth=2 \n",
      "[CV]  n_estimators=500, subsample=0.5, learning_rate=0.001, max_depth=2, score=0.643585, total=   1.1s\n",
      "[CV] n_estimators=500, subsample=0.8, learning_rate=0.001, max_depth=2 \n",
      "[CV]  n_estimators=500, subsample=0.8, learning_rate=0.001, max_depth=2, score=0.631343, total=   1.3s\n",
      "[CV] n_estimators=500, subsample=0.8, learning_rate=0.001, max_depth=2 \n",
      "[CV]  n_estimators=500, subsample=0.8, learning_rate=0.001, max_depth=2, score=0.633833, total=   1.3s\n",
      "[CV] n_estimators=500, subsample=0.8, learning_rate=0.001, max_depth=2 \n",
      "[CV]  n_estimators=500, subsample=0.8, learning_rate=0.001, max_depth=2, score=0.649862, total=   1.3s\n",
      "[CV] n_estimators=1000, subsample=0.5, learning_rate=0.001, max_depth=2 \n",
      "[CV]  n_estimators=1000, subsample=0.5, learning_rate=0.001, max_depth=2, score=0.625377, total=   2.3s\n",
      "[CV] n_estimators=1000, subsample=0.5, learning_rate=0.001, max_depth=2 \n",
      "[CV]  n_estimators=1000, subsample=0.5, learning_rate=0.001, max_depth=2, score=0.618763, total=   2.3s\n",
      "[CV] n_estimators=1000, subsample=0.5, learning_rate=0.001, max_depth=2 \n",
      "[CV]  n_estimators=1000, subsample=0.5, learning_rate=0.001, max_depth=2, score=0.642460, total=   2.2s\n",
      "[CV] n_estimators=1000, subsample=0.8, learning_rate=0.001, max_depth=2 \n",
      "[CV]  n_estimators=1000, subsample=0.8, learning_rate=0.001, max_depth=2, score=0.627918, total=   2.5s\n",
      "[CV] n_estimators=1000, subsample=0.8, learning_rate=0.001, max_depth=2 \n",
      "[CV]  n_estimators=1000, subsample=0.8, learning_rate=0.001, max_depth=2, score=0.631829, total=   2.5s\n",
      "[CV] n_estimators=1000, subsample=0.8, learning_rate=0.001, max_depth=2 \n",
      "[CV]  n_estimators=1000, subsample=0.8, learning_rate=0.001, max_depth=2, score=0.648239, total=   2.4s\n",
      "[CV] n_estimators=2000, subsample=0.5, learning_rate=0.001, max_depth=2 \n",
      "[CV]  n_estimators=2000, subsample=0.5, learning_rate=0.001, max_depth=2, score=0.624715, total=   4.5s\n",
      "[CV] n_estimators=2000, subsample=0.5, learning_rate=0.001, max_depth=2 \n",
      "[CV]  n_estimators=2000, subsample=0.5, learning_rate=0.001, max_depth=2, score=0.620026, total=   4.3s\n",
      "[CV] n_estimators=2000, subsample=0.5, learning_rate=0.001, max_depth=2 \n",
      "[CV]  n_estimators=2000, subsample=0.5, learning_rate=0.001, max_depth=2, score=0.631914, total=   4.5s\n",
      "[CV] n_estimators=2000, subsample=0.8, learning_rate=0.001, max_depth=2 \n",
      "[CV]  n_estimators=2000, subsample=0.8, learning_rate=0.001, max_depth=2, score=0.625527, total=   4.8s\n",
      "[CV] n_estimators=2000, subsample=0.8, learning_rate=0.001, max_depth=2 \n",
      "[CV]  n_estimators=2000, subsample=0.8, learning_rate=0.001, max_depth=2, score=0.624175, total=   4.9s\n",
      "[CV] n_estimators=2000, subsample=0.8, learning_rate=0.001, max_depth=2 \n",
      "[CV]  n_estimators=2000, subsample=0.8, learning_rate=0.001, max_depth=2, score=0.638183, total=   4.8s\n",
      "[CV] n_estimators=500, subsample=0.5, learning_rate=0.001, max_depth=3 \n",
      "[CV]  n_estimators=500, subsample=0.5, learning_rate=0.001, max_depth=3, score=0.615170, total=   1.5s\n",
      "[CV] n_estimators=500, subsample=0.5, learning_rate=0.001, max_depth=3 \n",
      "[CV]  n_estimators=500, subsample=0.5, learning_rate=0.001, max_depth=3, score=0.598846, total=   1.5s\n",
      "[CV] n_estimators=500, subsample=0.5, learning_rate=0.001, max_depth=3 \n",
      "[CV]  n_estimators=500, subsample=0.5, learning_rate=0.001, max_depth=3, score=0.613733, total=   1.5s\n",
      "[CV] n_estimators=500, subsample=0.8, learning_rate=0.001, max_depth=3 \n",
      "[CV]  n_estimators=500, subsample=0.8, learning_rate=0.001, max_depth=3, score=0.612999, total=   1.7s\n",
      "[CV] n_estimators=500, subsample=0.8, learning_rate=0.001, max_depth=3 \n",
      "[CV]  n_estimators=500, subsample=0.8, learning_rate=0.001, max_depth=3, score=0.617130, total=   1.7s\n",
      "[CV] n_estimators=500, subsample=0.8, learning_rate=0.001, max_depth=3 \n",
      "[CV]  n_estimators=500, subsample=0.8, learning_rate=0.001, max_depth=3, score=0.621534, total=   1.6s\n",
      "[CV] n_estimators=1000, subsample=0.5, learning_rate=0.001, max_depth=3 \n",
      "[CV]  n_estimators=1000, subsample=0.5, learning_rate=0.001, max_depth=3, score=0.610585, total=   2.9s\n",
      "[CV] n_estimators=1000, subsample=0.5, learning_rate=0.001, max_depth=3 \n",
      "[CV]  n_estimators=1000, subsample=0.5, learning_rate=0.001, max_depth=3, score=0.606497, total=   3.0s\n",
      "[CV] n_estimators=1000, subsample=0.5, learning_rate=0.001, max_depth=3 \n",
      "[CV]  n_estimators=1000, subsample=0.5, learning_rate=0.001, max_depth=3, score=0.618706, total=   2.9s\n",
      "[CV] n_estimators=1000, subsample=0.8, learning_rate=0.001, max_depth=3 \n",
      "[CV]  n_estimators=1000, subsample=0.8, learning_rate=0.001, max_depth=3, score=0.614764, total=   3.4s\n",
      "[CV] n_estimators=1000, subsample=0.8, learning_rate=0.001, max_depth=3 \n",
      "[CV]  n_estimators=1000, subsample=0.8, learning_rate=0.001, max_depth=3, score=0.615911, total=   3.4s\n",
      "[CV] n_estimators=1000, subsample=0.8, learning_rate=0.001, max_depth=3 \n",
      "[CV]  n_estimators=1000, subsample=0.8, learning_rate=0.001, max_depth=3, score=0.621653, total=   3.4s\n",
      "[CV] n_estimators=2000, subsample=0.5, learning_rate=0.001, max_depth=3 \n",
      "[CV]  n_estimators=2000, subsample=0.5, learning_rate=0.001, max_depth=3, score=0.610079, total=   6.0s\n",
      "[CV] n_estimators=2000, subsample=0.5, learning_rate=0.001, max_depth=3 \n",
      "[CV]  n_estimators=2000, subsample=0.5, learning_rate=0.001, max_depth=3, score=0.606088, total=   6.3s\n",
      "[CV] n_estimators=2000, subsample=0.5, learning_rate=0.001, max_depth=3 \n",
      "[CV]  n_estimators=2000, subsample=0.5, learning_rate=0.001, max_depth=3, score=0.612344, total=   5.8s\n",
      "[CV] n_estimators=2000, subsample=0.8, learning_rate=0.001, max_depth=3 \n",
      "[CV]  n_estimators=2000, subsample=0.8, learning_rate=0.001, max_depth=3, score=0.611188, total=   6.7s\n",
      "[CV] n_estimators=2000, subsample=0.8, learning_rate=0.001, max_depth=3 \n",
      "[CV]  n_estimators=2000, subsample=0.8, learning_rate=0.001, max_depth=3, score=0.606388, total=   7.2s\n",
      "[CV] n_estimators=2000, subsample=0.8, learning_rate=0.001, max_depth=3 \n",
      "[CV]  n_estimators=2000, subsample=0.8, learning_rate=0.001, max_depth=3, score=0.622461, total=   6.9s\n",
      "[CV] n_estimators=500, subsample=0.5, learning_rate=0.001, max_depth=4 \n",
      "[CV]  n_estimators=500, subsample=0.5, learning_rate=0.001, max_depth=4, score=0.589351, total=   2.0s\n",
      "[CV] n_estimators=500, subsample=0.5, learning_rate=0.001, max_depth=4 \n",
      "[CV]  n_estimators=500, subsample=0.5, learning_rate=0.001, max_depth=4, score=0.570428, total=   1.9s\n",
      "[CV] n_estimators=500, subsample=0.5, learning_rate=0.001, max_depth=4 \n",
      "[CV]  n_estimators=500, subsample=0.5, learning_rate=0.001, max_depth=4, score=0.581723, total=   1.9s\n",
      "[CV] n_estimators=500, subsample=0.8, learning_rate=0.001, max_depth=4 \n",
      "[CV]  n_estimators=500, subsample=0.8, learning_rate=0.001, max_depth=4, score=0.600765, total=   2.3s\n",
      "[CV] n_estimators=500, subsample=0.8, learning_rate=0.001, max_depth=4 \n",
      "[CV]  n_estimators=500, subsample=0.8, learning_rate=0.001, max_depth=4, score=0.597301, total=   2.3s\n",
      "[CV] n_estimators=500, subsample=0.8, learning_rate=0.001, max_depth=4 \n",
      "[CV]  n_estimators=500, subsample=0.8, learning_rate=0.001, max_depth=4, score=0.594234, total=   2.3s\n",
      "[CV] n_estimators=1000, subsample=0.5, learning_rate=0.001, max_depth=4 \n",
      "[CV]  n_estimators=1000, subsample=0.5, learning_rate=0.001, max_depth=4, score=0.595468, total=   3.8s\n",
      "[CV] n_estimators=1000, subsample=0.5, learning_rate=0.001, max_depth=4 \n"
     ]
    },
    {
     "name": "stdout",
     "output_type": "stream",
     "text": [
      "[CV]  n_estimators=1000, subsample=0.5, learning_rate=0.001, max_depth=4, score=0.589753, total=   3.9s\n",
      "[CV] n_estimators=1000, subsample=0.5, learning_rate=0.001, max_depth=4 \n",
      "[CV]  n_estimators=1000, subsample=0.5, learning_rate=0.001, max_depth=4, score=0.590640, total=   3.9s\n",
      "[CV] n_estimators=1000, subsample=0.8, learning_rate=0.001, max_depth=4 \n",
      "[CV]  n_estimators=1000, subsample=0.8, learning_rate=0.001, max_depth=4, score=0.599140, total=   4.7s\n",
      "[CV] n_estimators=1000, subsample=0.8, learning_rate=0.001, max_depth=4 \n",
      "[CV]  n_estimators=1000, subsample=0.8, learning_rate=0.001, max_depth=4, score=0.591382, total=   4.7s\n",
      "[CV] n_estimators=1000, subsample=0.8, learning_rate=0.001, max_depth=4 \n",
      "[CV]  n_estimators=1000, subsample=0.8, learning_rate=0.001, max_depth=4, score=0.595332, total=   4.7s\n",
      "[CV] n_estimators=2000, subsample=0.5, learning_rate=0.001, max_depth=4 \n",
      "[CV]  n_estimators=2000, subsample=0.5, learning_rate=0.001, max_depth=4, score=0.594179, total=   7.5s\n",
      "[CV] n_estimators=2000, subsample=0.5, learning_rate=0.001, max_depth=4 \n",
      "[CV]  n_estimators=2000, subsample=0.5, learning_rate=0.001, max_depth=4, score=0.589930, total=   7.4s\n",
      "[CV] n_estimators=2000, subsample=0.5, learning_rate=0.001, max_depth=4 \n",
      "[CV]  n_estimators=2000, subsample=0.5, learning_rate=0.001, max_depth=4, score=0.598744, total=   7.5s\n",
      "[CV] n_estimators=2000, subsample=0.8, learning_rate=0.001, max_depth=4 \n",
      "[CV]  n_estimators=2000, subsample=0.8, learning_rate=0.001, max_depth=4, score=0.597633, total=   9.2s\n",
      "[CV] n_estimators=2000, subsample=0.8, learning_rate=0.001, max_depth=4 \n",
      "[CV]  n_estimators=2000, subsample=0.8, learning_rate=0.001, max_depth=4, score=0.588392, total=   9.2s\n",
      "[CV] n_estimators=2000, subsample=0.8, learning_rate=0.001, max_depth=4 \n",
      "[CV]  n_estimators=2000, subsample=0.8, learning_rate=0.001, max_depth=4, score=0.596554, total=   9.2s\n",
      "[CV] n_estimators=500, subsample=0.5, learning_rate=0.001, max_depth=5 \n",
      "[CV]  n_estimators=500, subsample=0.5, learning_rate=0.001, max_depth=5, score=0.575410, total=   2.4s\n",
      "[CV] n_estimators=500, subsample=0.5, learning_rate=0.001, max_depth=5 \n",
      "[CV]  n_estimators=500, subsample=0.5, learning_rate=0.001, max_depth=5, score=0.552037, total=   2.4s\n",
      "[CV] n_estimators=500, subsample=0.5, learning_rate=0.001, max_depth=5 \n",
      "[CV]  n_estimators=500, subsample=0.5, learning_rate=0.001, max_depth=5, score=0.568504, total=   2.3s\n",
      "[CV] n_estimators=500, subsample=0.8, learning_rate=0.001, max_depth=5 \n",
      "[CV]  n_estimators=500, subsample=0.8, learning_rate=0.001, max_depth=5, score=0.582328, total=   3.0s\n",
      "[CV] n_estimators=500, subsample=0.8, learning_rate=0.001, max_depth=5 \n",
      "[CV]  n_estimators=500, subsample=0.8, learning_rate=0.001, max_depth=5, score=0.572490, total=   2.9s\n",
      "[CV] n_estimators=500, subsample=0.8, learning_rate=0.001, max_depth=5 \n",
      "[CV]  n_estimators=500, subsample=0.8, learning_rate=0.001, max_depth=5, score=0.563754, total=   3.0s\n",
      "[CV] n_estimators=1000, subsample=0.5, learning_rate=0.001, max_depth=5 \n",
      "[CV]  n_estimators=1000, subsample=0.5, learning_rate=0.001, max_depth=5, score=0.581648, total=   4.9s\n",
      "[CV] n_estimators=1000, subsample=0.5, learning_rate=0.001, max_depth=5 \n",
      "[CV]  n_estimators=1000, subsample=0.5, learning_rate=0.001, max_depth=5, score=0.556543, total=   4.6s\n",
      "[CV] n_estimators=1000, subsample=0.5, learning_rate=0.001, max_depth=5 \n",
      "[CV]  n_estimators=1000, subsample=0.5, learning_rate=0.001, max_depth=5, score=0.580536, total=   4.8s\n",
      "[CV] n_estimators=1000, subsample=0.8, learning_rate=0.001, max_depth=5 \n",
      "[CV]  n_estimators=1000, subsample=0.8, learning_rate=0.001, max_depth=5, score=0.584091, total=   5.8s\n",
      "[CV] n_estimators=1000, subsample=0.8, learning_rate=0.001, max_depth=5 \n",
      "[CV]  n_estimators=1000, subsample=0.8, learning_rate=0.001, max_depth=5, score=0.573281, total=   5.8s\n",
      "[CV] n_estimators=1000, subsample=0.8, learning_rate=0.001, max_depth=5 \n",
      "[CV]  n_estimators=1000, subsample=0.8, learning_rate=0.001, max_depth=5, score=0.571810, total=   6.0s\n",
      "[CV] n_estimators=2000, subsample=0.5, learning_rate=0.001, max_depth=5 \n",
      "[CV]  n_estimators=2000, subsample=0.5, learning_rate=0.001, max_depth=5, score=0.580047, total=   9.4s\n",
      "[CV] n_estimators=2000, subsample=0.5, learning_rate=0.001, max_depth=5 \n",
      "[CV]  n_estimators=2000, subsample=0.5, learning_rate=0.001, max_depth=5, score=0.569673, total=   9.1s\n",
      "[CV] n_estimators=2000, subsample=0.5, learning_rate=0.001, max_depth=5 \n",
      "[CV]  n_estimators=2000, subsample=0.5, learning_rate=0.001, max_depth=5, score=0.580931, total=   8.9s\n",
      "[CV] n_estimators=2000, subsample=0.8, learning_rate=0.001, max_depth=5 \n",
      "[CV]  n_estimators=2000, subsample=0.8, learning_rate=0.001, max_depth=5, score=0.578901, total=  11.4s\n",
      "[CV] n_estimators=2000, subsample=0.8, learning_rate=0.001, max_depth=5 \n",
      "[CV]  n_estimators=2000, subsample=0.8, learning_rate=0.001, max_depth=5, score=0.568577, total=  11.5s\n",
      "[CV] n_estimators=2000, subsample=0.8, learning_rate=0.001, max_depth=5 \n",
      "[CV]  n_estimators=2000, subsample=0.8, learning_rate=0.001, max_depth=5, score=0.572910, total=  11.7s\n"
     ]
    },
    {
     "name": "stderr",
     "output_type": "stream",
     "text": [
      "[Parallel(n_jobs=1)]: Done 216 out of 216 | elapsed: 15.5min finished\n"
     ]
    }
   ],
   "source": [
    "gbc_fitted_simple = gbc_search_simple.fit(X_train_simple,y_train_simple)"
   ]
  },
  {
   "cell_type": "code",
   "execution_count": 48,
   "metadata": {},
   "outputs": [
    {
     "data": {
      "text/plain": [
       "{'learning_rate': 0.001, 'max_depth': 2, 'n_estimators': 500, 'subsample': 0.8}"
      ]
     },
     "execution_count": 48,
     "metadata": {},
     "output_type": "execute_result"
    }
   ],
   "source": [
    "gbc_fitted_simple.best_params_"
   ]
  },
  {
   "cell_type": "code",
   "execution_count": 49,
   "metadata": {
    "collapsed": true
   },
   "outputs": [],
   "source": [
    "log_simple = LogisticRegression()\n",
    "log_fitted_simple = log_simple.fit(X_train_simple,y_train_simple,sample_weight=weights_train_simple)"
   ]
  },
  {
   "cell_type": "code",
   "execution_count": 50,
   "metadata": {
    "collapsed": true
   },
   "outputs": [],
   "source": [
    "rf_simple=RandomForestClassifier()\n",
    "\n",
    "rf_search_simple = GridSearchCV(rf, param_grid ={'n_estimators':[10, 20, 100], 'max_features':['sqrt', 'log2'], 'max_depth': [2,3,4,5]}, scoring=my_auc, fit_params={'sample_weight': np.array(weights_train_simple)}, n_jobs=1, iid=True, refit=True, \n",
    "             cv=None, verbose=5, pre_dispatch='2*n_jobs', error_score='raise', return_train_score=True)"
   ]
  },
  {
   "cell_type": "code",
   "execution_count": 51,
   "metadata": {
    "scrolled": true
   },
   "outputs": [
    {
     "name": "stdout",
     "output_type": "stream",
     "text": [
      "Fitting 3 folds for each of 24 candidates, totalling 72 fits\n",
      "[CV] max_features=sqrt, n_estimators=10, max_depth=2 .................\n",
      "[CV]  max_features=sqrt, n_estimators=10, max_depth=2, score=0.634203, total=   0.1s\n",
      "[CV] max_features=sqrt, n_estimators=10, max_depth=2 .................\n",
      "[CV]  max_features=sqrt, n_estimators=10, max_depth=2, score=0.648996, total=   0.1s\n",
      "[CV] max_features=sqrt, n_estimators=10, max_depth=2 .................\n"
     ]
    },
    {
     "name": "stderr",
     "output_type": "stream",
     "text": [
      "[Parallel(n_jobs=1)]: Done   1 out of   1 | elapsed:    0.1s remaining:    0.0s\n",
      "[Parallel(n_jobs=1)]: Done   2 out of   2 | elapsed:    0.2s remaining:    0.0s\n",
      "[Parallel(n_jobs=1)]: Done   3 out of   3 | elapsed:    0.2s remaining:    0.0s\n"
     ]
    },
    {
     "name": "stdout",
     "output_type": "stream",
     "text": [
      "[CV]  max_features=sqrt, n_estimators=10, max_depth=2, score=0.649045, total=   0.1s\n",
      "[CV] max_features=sqrt, n_estimators=20, max_depth=2 .................\n",
      "[CV]  max_features=sqrt, n_estimators=20, max_depth=2, score=0.631524, total=   0.1s\n",
      "[CV] max_features=sqrt, n_estimators=20, max_depth=2 .................\n"
     ]
    },
    {
     "name": "stderr",
     "output_type": "stream",
     "text": [
      "[Parallel(n_jobs=1)]: Done   4 out of   4 | elapsed:    0.4s remaining:    0.0s\n"
     ]
    },
    {
     "name": "stdout",
     "output_type": "stream",
     "text": [
      "[CV]  max_features=sqrt, n_estimators=20, max_depth=2, score=0.634022, total=   0.1s\n",
      "[CV] max_features=sqrt, n_estimators=20, max_depth=2 .................\n",
      "[CV]  max_features=sqrt, n_estimators=20, max_depth=2, score=0.645924, total=   0.1s\n",
      "[CV] max_features=sqrt, n_estimators=100, max_depth=2 ................\n",
      "[CV]  max_features=sqrt, n_estimators=100, max_depth=2, score=0.632403, total=   0.6s\n",
      "[CV] max_features=sqrt, n_estimators=100, max_depth=2 ................\n",
      "[CV]  max_features=sqrt, n_estimators=100, max_depth=2, score=0.631122, total=   0.6s\n",
      "[CV] max_features=sqrt, n_estimators=100, max_depth=2 ................\n",
      "[CV]  max_features=sqrt, n_estimators=100, max_depth=2, score=0.647411, total=   0.6s\n",
      "[CV] max_features=log2, n_estimators=10, max_depth=2 .................\n",
      "[CV]  max_features=log2, n_estimators=10, max_depth=2, score=0.635139, total=   0.1s\n",
      "[CV] max_features=log2, n_estimators=10, max_depth=2 .................\n",
      "[CV]  max_features=log2, n_estimators=10, max_depth=2, score=0.633283, total=   0.1s\n",
      "[CV] max_features=log2, n_estimators=10, max_depth=2 .................\n",
      "[CV]  max_features=log2, n_estimators=10, max_depth=2, score=0.628927, total=   0.1s\n",
      "[CV] max_features=log2, n_estimators=20, max_depth=2 .................\n",
      "[CV]  max_features=log2, n_estimators=20, max_depth=2, score=0.627871, total=   0.1s\n",
      "[CV] max_features=log2, n_estimators=20, max_depth=2 .................\n",
      "[CV]  max_features=log2, n_estimators=20, max_depth=2, score=0.640873, total=   0.1s\n",
      "[CV] max_features=log2, n_estimators=20, max_depth=2 .................\n",
      "[CV]  max_features=log2, n_estimators=20, max_depth=2, score=0.629507, total=   0.1s\n",
      "[CV] max_features=log2, n_estimators=100, max_depth=2 ................\n",
      "[CV]  max_features=log2, n_estimators=100, max_depth=2, score=0.622294, total=   0.6s\n",
      "[CV] max_features=log2, n_estimators=100, max_depth=2 ................\n",
      "[CV]  max_features=log2, n_estimators=100, max_depth=2, score=0.632132, total=   0.6s\n",
      "[CV] max_features=log2, n_estimators=100, max_depth=2 ................\n",
      "[CV]  max_features=log2, n_estimators=100, max_depth=2, score=0.645505, total=   0.6s\n",
      "[CV] max_features=sqrt, n_estimators=10, max_depth=3 .................\n",
      "[CV]  max_features=sqrt, n_estimators=10, max_depth=3, score=0.614273, total=   0.1s\n",
      "[CV] max_features=sqrt, n_estimators=10, max_depth=3 .................\n",
      "[CV]  max_features=sqrt, n_estimators=10, max_depth=3, score=0.614392, total=   0.1s\n",
      "[CV] max_features=sqrt, n_estimators=10, max_depth=3 .................\n",
      "[CV]  max_features=sqrt, n_estimators=10, max_depth=3, score=0.641770, total=   0.1s\n",
      "[CV] max_features=sqrt, n_estimators=20, max_depth=3 .................\n",
      "[CV]  max_features=sqrt, n_estimators=20, max_depth=3, score=0.612741, total=   0.2s\n",
      "[CV] max_features=sqrt, n_estimators=20, max_depth=3 .................\n",
      "[CV]  max_features=sqrt, n_estimators=20, max_depth=3, score=0.618379, total=   0.2s\n",
      "[CV] max_features=sqrt, n_estimators=20, max_depth=3 .................\n",
      "[CV]  max_features=sqrt, n_estimators=20, max_depth=3, score=0.615349, total=   0.1s\n",
      "[CV] max_features=sqrt, n_estimators=100, max_depth=3 ................\n",
      "[CV]  max_features=sqrt, n_estimators=100, max_depth=3, score=0.607878, total=   0.7s\n",
      "[CV] max_features=sqrt, n_estimators=100, max_depth=3 ................\n",
      "[CV]  max_features=sqrt, n_estimators=100, max_depth=3, score=0.599310, total=   0.6s\n",
      "[CV] max_features=sqrt, n_estimators=100, max_depth=3 ................\n",
      "[CV]  max_features=sqrt, n_estimators=100, max_depth=3, score=0.607048, total=   0.6s\n",
      "[CV] max_features=log2, n_estimators=10, max_depth=3 .................\n",
      "[CV]  max_features=log2, n_estimators=10, max_depth=3, score=0.616007, total=   0.1s\n",
      "[CV] max_features=log2, n_estimators=10, max_depth=3 .................\n",
      "[CV]  max_features=log2, n_estimators=10, max_depth=3, score=0.616734, total=   0.1s\n",
      "[CV] max_features=log2, n_estimators=10, max_depth=3 .................\n",
      "[CV]  max_features=log2, n_estimators=10, max_depth=3, score=0.620122, total=   0.1s\n",
      "[CV] max_features=log2, n_estimators=20, max_depth=3 .................\n",
      "[CV]  max_features=log2, n_estimators=20, max_depth=3, score=0.618840, total=   0.1s\n",
      "[CV] max_features=log2, n_estimators=20, max_depth=3 .................\n",
      "[CV]  max_features=log2, n_estimators=20, max_depth=3, score=0.624617, total=   0.1s\n",
      "[CV] max_features=log2, n_estimators=20, max_depth=3 .................\n",
      "[CV]  max_features=log2, n_estimators=20, max_depth=3, score=0.624733, total=   0.1s\n",
      "[CV] max_features=log2, n_estimators=100, max_depth=3 ................\n",
      "[CV]  max_features=log2, n_estimators=100, max_depth=3, score=0.607672, total=   0.7s\n",
      "[CV] max_features=log2, n_estimators=100, max_depth=3 ................\n",
      "[CV]  max_features=log2, n_estimators=100, max_depth=3, score=0.589759, total=   0.6s\n",
      "[CV] max_features=log2, n_estimators=100, max_depth=3 ................\n",
      "[CV]  max_features=log2, n_estimators=100, max_depth=3, score=0.603038, total=   0.6s\n",
      "[CV] max_features=sqrt, n_estimators=10, max_depth=4 .................\n",
      "[CV]  max_features=sqrt, n_estimators=10, max_depth=4, score=0.599014, total=   0.1s\n",
      "[CV] max_features=sqrt, n_estimators=10, max_depth=4 .................\n",
      "[CV]  max_features=sqrt, n_estimators=10, max_depth=4, score=0.602141, total=   0.1s\n",
      "[CV] max_features=sqrt, n_estimators=10, max_depth=4 .................\n",
      "[CV]  max_features=sqrt, n_estimators=10, max_depth=4, score=0.619076, total=   0.1s\n",
      "[CV] max_features=sqrt, n_estimators=20, max_depth=4 .................\n",
      "[CV]  max_features=sqrt, n_estimators=20, max_depth=4, score=0.613041, total=   0.2s\n",
      "[CV] max_features=sqrt, n_estimators=20, max_depth=4 .................\n",
      "[CV]  max_features=sqrt, n_estimators=20, max_depth=4, score=0.607741, total=   0.2s\n",
      "[CV] max_features=sqrt, n_estimators=20, max_depth=4 .................\n",
      "[CV]  max_features=sqrt, n_estimators=20, max_depth=4, score=0.594716, total=   0.2s\n",
      "[CV] max_features=sqrt, n_estimators=100, max_depth=4 ................\n",
      "[CV]  max_features=sqrt, n_estimators=100, max_depth=4, score=0.589494, total=   0.7s\n",
      "[CV] max_features=sqrt, n_estimators=100, max_depth=4 ................\n",
      "[CV]  max_features=sqrt, n_estimators=100, max_depth=4, score=0.581451, total=   0.7s\n",
      "[CV] max_features=sqrt, n_estimators=100, max_depth=4 ................\n",
      "[CV]  max_features=sqrt, n_estimators=100, max_depth=4, score=0.576176, total=   0.7s\n",
      "[CV] max_features=log2, n_estimators=10, max_depth=4 .................\n",
      "[CV]  max_features=log2, n_estimators=10, max_depth=4, score=0.589321, total=   0.1s\n",
      "[CV] max_features=log2, n_estimators=10, max_depth=4 .................\n",
      "[CV]  max_features=log2, n_estimators=10, max_depth=4, score=0.615889, total=   0.1s\n",
      "[CV] max_features=log2, n_estimators=10, max_depth=4 .................\n",
      "[CV]  max_features=log2, n_estimators=10, max_depth=4, score=0.611748, total=   0.1s\n",
      "[CV] max_features=log2, n_estimators=20, max_depth=4 .................\n",
      "[CV]  max_features=log2, n_estimators=20, max_depth=4, score=0.590266, total=   0.1s\n",
      "[CV] max_features=log2, n_estimators=20, max_depth=4 .................\n",
      "[CV]  max_features=log2, n_estimators=20, max_depth=4, score=0.604275, total=   0.1s\n",
      "[CV] max_features=log2, n_estimators=20, max_depth=4 .................\n",
      "[CV]  max_features=log2, n_estimators=20, max_depth=4, score=0.590051, total=   0.1s\n",
      "[CV] max_features=log2, n_estimators=100, max_depth=4 ................\n",
      "[CV]  max_features=log2, n_estimators=100, max_depth=4, score=0.571419, total=   0.7s\n",
      "[CV] max_features=log2, n_estimators=100, max_depth=4 ................\n",
      "[CV]  max_features=log2, n_estimators=100, max_depth=4, score=0.565668, total=   0.7s\n",
      "[CV] max_features=log2, n_estimators=100, max_depth=4 ................\n",
      "[CV]  max_features=log2, n_estimators=100, max_depth=4, score=0.573024, total=   0.7s\n",
      "[CV] max_features=sqrt, n_estimators=10, max_depth=5 .................\n",
      "[CV]  max_features=sqrt, n_estimators=10, max_depth=5, score=0.597595, total=   0.1s\n",
      "[CV] max_features=sqrt, n_estimators=10, max_depth=5 .................\n",
      "[CV]  max_features=sqrt, n_estimators=10, max_depth=5, score=0.607460, total=   0.1s\n",
      "[CV] max_features=sqrt, n_estimators=10, max_depth=5 .................\n",
      "[CV]  max_features=sqrt, n_estimators=10, max_depth=5, score=0.597029, total=   0.1s\n",
      "[CV] max_features=sqrt, n_estimators=20, max_depth=5 .................\n",
      "[CV]  max_features=sqrt, n_estimators=20, max_depth=5, score=0.587162, total=   0.2s\n",
      "[CV] max_features=sqrt, n_estimators=20, max_depth=5 .................\n"
     ]
    },
    {
     "name": "stdout",
     "output_type": "stream",
     "text": [
      "[CV]  max_features=sqrt, n_estimators=20, max_depth=5, score=0.583502, total=   0.2s\n",
      "[CV] max_features=sqrt, n_estimators=20, max_depth=5 .................\n",
      "[CV]  max_features=sqrt, n_estimators=20, max_depth=5, score=0.564394, total=   0.1s\n",
      "[CV] max_features=sqrt, n_estimators=100, max_depth=5 ................\n",
      "[CV]  max_features=sqrt, n_estimators=100, max_depth=5, score=0.546207, total=   0.8s\n",
      "[CV] max_features=sqrt, n_estimators=100, max_depth=5 ................\n",
      "[CV]  max_features=sqrt, n_estimators=100, max_depth=5, score=0.529956, total=   0.9s\n",
      "[CV] max_features=sqrt, n_estimators=100, max_depth=5 ................\n",
      "[CV]  max_features=sqrt, n_estimators=100, max_depth=5, score=0.543337, total=   0.8s\n",
      "[CV] max_features=log2, n_estimators=10, max_depth=5 .................\n",
      "[CV]  max_features=log2, n_estimators=10, max_depth=5, score=0.608367, total=   0.1s\n",
      "[CV] max_features=log2, n_estimators=10, max_depth=5 .................\n",
      "[CV]  max_features=log2, n_estimators=10, max_depth=5, score=0.595036, total=   0.1s\n",
      "[CV] max_features=log2, n_estimators=10, max_depth=5 .................\n",
      "[CV]  max_features=log2, n_estimators=10, max_depth=5, score=0.591807, total=   0.1s\n",
      "[CV] max_features=log2, n_estimators=20, max_depth=5 .................\n",
      "[CV]  max_features=log2, n_estimators=20, max_depth=5, score=0.575759, total=   0.1s\n",
      "[CV] max_features=log2, n_estimators=20, max_depth=5 .................\n",
      "[CV]  max_features=log2, n_estimators=20, max_depth=5, score=0.601890, total=   0.1s\n",
      "[CV] max_features=log2, n_estimators=20, max_depth=5 .................\n",
      "[CV]  max_features=log2, n_estimators=20, max_depth=5, score=0.566461, total=   0.2s\n",
      "[CV] max_features=log2, n_estimators=100, max_depth=5 ................\n",
      "[CV]  max_features=log2, n_estimators=100, max_depth=5, score=0.538567, total=   0.7s\n",
      "[CV] max_features=log2, n_estimators=100, max_depth=5 ................\n",
      "[CV]  max_features=log2, n_estimators=100, max_depth=5, score=0.519867, total=   0.7s\n",
      "[CV] max_features=log2, n_estimators=100, max_depth=5 ................\n",
      "[CV]  max_features=log2, n_estimators=100, max_depth=5, score=0.552954, total=   0.7s\n"
     ]
    },
    {
     "name": "stderr",
     "output_type": "stream",
     "text": [
      "[Parallel(n_jobs=1)]: Done  72 out of  72 | elapsed:   24.9s finished\n"
     ]
    }
   ],
   "source": [
    "rf_fitted_simple = rf_search_simple.fit(X_train_simple,y_train_simple)"
   ]
  },
  {
   "cell_type": "code",
   "execution_count": null,
   "metadata": {
    "collapsed": true
   },
   "outputs": [],
   "source": [
    "weights_train_simple.shape"
   ]
  },
  {
   "cell_type": "code",
   "execution_count": 52,
   "metadata": {},
   "outputs": [
    {
     "data": {
      "image/png": "[encoded data removed]",
      "text/plain": [
       "<matplotlib.figure.Figure at 0x11901da90>"
      ]
     },
     "metadata": {},
     "output_type": "display_data"
    }
   ],
   "source": [
    "from sklearn import metrics\n",
    "\n",
    "# calculate the fpr and tpr for all thresholds of the classification\n",
    "#Gradient Boosting\n",
    "gbc_probs_simple = gbc_fitted_simple.predict_proba(X_simple)[:,1]\n",
    "gbc_fpr_simple, gbc_tpr_simple, gbc_threshold_simple = metrics.roc_curve(y_simple, gbc_probs_simple, sample_weight=weights_simple)\n",
    "gbc_roc_auc_simple = metrics.auc(gbc_fpr_simple, gbc_tpr_simple)\n",
    "\n",
    "#Logistic Regression\n",
    "log_probs_simple = log_fitted_simple.predict_proba(X_test_simple)[:,1]\n",
    "log_fpr_simple, log_tpr_simple, log_threshold_simple = metrics.roc_curve(y_test_simple, log_probs_simple, sample_weight=weights_test_simple)\n",
    "log_roc_auc_simple = metrics.auc(log_fpr_simple, log_tpr_simple)\n",
    "\n",
    "#Random Forest\n",
    "rf_probs_simple = rf_fitted_simple.predict_proba(X_simple)[:,1]\n",
    "rf_fpr_simple, rf_tpr_simple, rf_threshold_simple = metrics.roc_curve(y_simple, gbc_probs_simple, sample_weight=weights_simple)\n",
    "rf_roc_auc_simple = metrics.auc(rf_fpr_simple, rf_tpr_simple)\n",
    "\n",
    "# method I: plt\n",
    "import matplotlib.pyplot as plt\n",
    "fig, ax = plt.subplots(figsize=(12,12))\n",
    "ax.set_title('Receiver Operating Characteristic')\n",
    "ax.plot(gbc_fpr, gbc_tpr, 'b', label = 'AUC_GBC = %0.2f' % gbc_roc_auc_simple, color='green')\n",
    "#ax.plot(log_fpr, log_tpr, 'b', label = 'AUC_LOG = %0.2f' % log_roc_auc_simple, color='red')\n",
    "ax.plot(rf_fpr, rf_tpr, 'b', label = 'AUC_RF = %0.2f' % rf_roc_auc_simple , color='blue')\n",
    "ax.legend(loc = 'lower right')\n",
    "ax.plot([0, 1], [0, 1],'r--')\n",
    "ax.set_xlim([0, 1])\n",
    "ax.set_ylim([0, 1])\n",
    "ax.set_ylabel('True Positive Rate')\n",
    "ax.set_xlabel('False Positive Rate')\n",
    "#fig.savefig('roc_sep8.png')\n",
    "plt.show()"
   ]
  },
  {
   "cell_type": "code",
   "execution_count": 74,
   "metadata": {},
   "outputs": [],
   "source": [
    "best_gbc_small = GradientBoostingClassifier(learning_rate= 0.001, max_depth= 2, n_estimators=500, subsample=0.8)\n",
    "gbc_best_fitted_small = best_gbc_small.fit(X_train_simple, y_train_simple, sample_weight=weights_train_simple)"
   ]
  },
  {
   "cell_type": "code",
   "execution_count": 78,
   "metadata": {},
   "outputs": [],
   "source": [
    "N_estimators= 1500\n",
    "train_score = np.zeros(N_ESTIMATORS)\n",
    "for i, y_pred in enumerate(best_gbc_small.staged_predict_proba(X_train_simple)):\n",
    "    train_score[i] = -log_loss(y_train_simple, y_pred[:, 1], weights_train_simple)\n",
    "\n",
    "test_score = np.zeros(N_ESTIMATORS)\n",
    "for i, y_pred in enumerate(best_gbc_small.staged_predict_proba(X_test_simple)):\n",
    "    test_score[i] = -log_loss(y_test_simple, y_pred[:, 1], weights_test_simple)"
   ]
  },
  {
   "cell_type": "code",
   "execution_count": 79,
   "metadata": {},
   "outputs": [
    {
     "data": {
      "image/png": "[encoded data removed]",
      "text/plain": [
       "<matplotlib.figure.Figure at 0x119024c10>"
      ]
     },
     "metadata": {},
     "output_type": "display_data"
    }
   ],
   "source": [
    "plt.plot(np.arange(N_ESTIMATORS) + 1, train_score,\n",
    "        label=\"Training Error\")\n",
    "plt.plot(np.arange(N_ESTIMATORS) + 1, test_score,\n",
    "        label=\"Testing Error\")\n",
    "plt.title(\"Training and Hold Out Error by Boosting Stages\")\n",
    "plt.xlabel('Number of Boosting Stages', fontsize=14)\n",
    "plt.ylabel('Log-Likelihood', fontsize=14)\n",
    "plt.legend(loc=\"upper right\")\n",
    "\n",
    "\n",
    "plt.savefig('training-and-testing-error.png', bbox_inches='tight')"
   ]
  },
  {
   "cell_type": "code",
   "execution_count": null,
   "metadata": {
    "collapsed": true
   },
   "outputs": [],
   "source": [
    "gbc_best_fitted.feature_importances_\n",
    "feature_importances = 100*gbc_best_fitted.feature_importances_ / np.sum(gbc_best_fitted.feature_importances_)\n",
    "feature_importances, feature_names, feature_idxs = zip(*sorted(zip(feature_importances, list(X_large.columns), range(len(X_large.columns)))))\n",
    "\n",
    "width = 0.8\n",
    "\n",
    "idx = np.arange(len(X_large.columns))\n",
    "\n",
    "fig, ax = plt.subplots(figsize=(10,12))\n",
    "ax.barh(idx, feature_importances, align='center')\n",
    "plt.yticks(idx, feature_names, fontsize=8)\n",
    "\n",
    "ax.set_title(\"Feature Importances in Gradient Booster\")\n",
    "ax.set_xlabel('Relative Importance of Feature', fontsize=10)\n",
    "ax.set_ylabel('Feature Name', fontsize=16)\n",
    "fig.savefig('feat_imp_sep8.png')"
   ]
  },
  {
   "cell_type": "code",
   "execution_count": null,
   "metadata": {
    "collapsed": true
   },
   "outputs": [],
   "source": []
  }
 ],
 "metadata": {
  "kernelspec": {
   "display_name": "Python 2",
   "language": "python",
   "name": "python2"
  },
  "language_info": {
   "codemirror_mode": {
    "name": "ipython",
    "version": 2
   },
   "file_extension": ".py",
   "mimetype": "text/x-python",
   "name": "python",
   "nbconvert_exporter": "python",
   "pygments_lexer": "ipython2",
   "version": "2.7.13"
  }
 },
 "nbformat": 4,
 "nbformat_minor": 2
}

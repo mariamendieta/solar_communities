{
 "cells": [
  {
   "cell_type": "code",
   "execution_count": 1,
   "metadata": {
    "collapsed": true
   },
   "outputs": [],
   "source": [
    "import pandas as pd\n",
    "import matplotlib.pyplot as plt\n",
    "import numpy as np\n",
    "import sys\n",
    "sys.path.insert(0,'src/')\n",
    "import acs5\n",
    "import nyserda_acs\n",
    "import prices\n",
    "import project_sunroof\n",
    "import nyserda\n",
    "from sklearn.model_selection import GridSearchCV\n",
    "from sklearn.ensemble import GradientBoostingClassifier\n",
    "from sklearn.linear_model import LogisticRegression\n",
    "from sklearn.ensemble import RandomForestClassifier\n",
    "from sklearn.model_selection import train_test_split\n",
    "from sklearn.preprocessing import Imputer\n",
    "from sklearn.metrics import recall_score\n",
    "from sklearn.metrics import make_scorer\n",
    "from sklearn.metrics import roc_curve, auc\n",
    "\n",
    "%matplotlib inline"
   ]
  },
  {
   "cell_type": "markdown",
   "metadata": {},
   "source": [
    "## Getting the data"
   ]
  },
  {
   "cell_type": "code",
   "execution_count": 2,
   "metadata": {
    "collapsed": true
   },
   "outputs": [],
   "source": [
    "raw_data = nyserda_acs.merging_data()\n",
    "raw_data=raw_data[raw_data['households']>0]"
   ]
  },
  {
   "cell_type": "markdown",
   "metadata": {},
   "source": [
    "## Generating sample weights"
   ]
  },
  {
   "cell_type": "code",
   "execution_count": 3,
   "metadata": {},
   "outputs": [
    {
     "name": "stderr",
     "output_type": "stream",
     "text": [
      "/Users/mariamendieta/anaconda2/lib/python2.7/site-packages/pandas/core/indexing.py:517: SettingWithCopyWarning: \n",
      "A value is trying to be set on a copy of a slice from a DataFrame.\n",
      "Try using .loc[row_indexer,col_indexer] = value instead\n",
      "\n",
      "See the caveats in the documentation: http://pandas.pydata.org/pandas-docs/stable/indexing.html#indexing-view-versus-copy\n",
      "  self.obj[item] = s\n",
      "/Users/mariamendieta/anaconda2/lib/python2.7/site-packages/pandas/core/indexing.py:337: SettingWithCopyWarning: \n",
      "A value is trying to be set on a copy of a slice from a DataFrame.\n",
      "Try using .loc[row_indexer,col_indexer] = value instead\n",
      "\n",
      "See the caveats in the documentation: http://pandas.pydata.org/pandas-docs/stable/indexing.html#indexing-view-versus-copy\n",
      "  self.obj[key] = _infer_fill_value(value)\n"
     ]
    }
   ],
   "source": [
    "#Duplicate positive rows\n",
    "duplic = raw_data.loc[raw_data['Project_yes']==1,:]\n",
    "duplic.loc[:,'Project_yes'] =0\n",
    "duplic.loc[:,'Duplicate'] = 'Yes'\n",
    "duplic.loc[:,'weight'] = (duplic.loc[:,'households']-duplic.loc[:,'Project_Number'])\n",
    "duplic=duplic[duplic['weight']>0]\n",
    "#Creating weights in old data\n",
    "raw_data.loc[raw_data['Project_yes'] == 1, 'weight'] = raw_data['Project_Number']\n",
    "raw_data.loc[raw_data['Project_yes'] == 0, 'weight'] = raw_data['households']\n",
    "raw_data['Duplicate']='No'\n",
    "#Merging data \n",
    "#Concatenating\n",
    "all_data = raw_data.append(duplic, ignore_index=True)"
   ]
  },
  {
   "cell_type": "code",
   "execution_count": 4,
   "metadata": {
    "collapsed": true
   },
   "outputs": [],
   "source": [
    "# Imputing missing values\n",
    "all_data.loc[all_data['yearly_sunlight_kwh_total'].isnull(), 'yearly_sunlight_kwh_total'] = 0\n",
    "all_data.loc[all_data['percent_qualified'].isnull(), 'percent_qualified'] = 200\n",
    "all_data.loc[all_data['Avg_hh_size'].isnull(), 'Avg_hh_size']=np.mean(all_data.Avg_hh_size)\n",
    "all_data.loc[all_data['median_rooms'].isnull(), 'median_rooms']=5.320409"
   ]
  },
  {
   "cell_type": "code",
   "execution_count": 5,
   "metadata": {},
   "outputs": [
    {
     "data": {
      "text/plain": [
       "['100k_150k',\n",
       " '10_19_units',\n",
       " '10k_15k',\n",
       " '12th_no_dip',\n",
       " '150k_200k',\n",
       " '15k_25k',\n",
       " '1_room',\n",
       " '1_unit_attached',\n",
       " '1_unit_detached',\n",
       " '20+_units',\n",
       " '200k_more',\n",
       " '25k_35k',\n",
       " '2_rooms',\n",
       " '2_units',\n",
       " '35k_50k',\n",
       " '3_4_units',\n",
       " '3_rooms',\n",
       " '4_rooms',\n",
       " '50k_75k',\n",
       " '5_9_units',\n",
       " '5_rooms',\n",
       " '6_rooms',\n",
       " '75k_100k',\n",
       " '7_rooms',\n",
       " '8_rooms',\n",
       " '9_more_rooms',\n",
       " 'Affordable_Solar',\n",
       " 'Associate',\n",
       " 'Avg_hh_size',\n",
       " 'Bachelors',\n",
       " 'Community_Distributed_Generation',\n",
       " 'Duplicate',\n",
       " 'Expected_KWh_Annual_Production',\n",
       " 'GEOID10',\n",
       " 'Graduate',\n",
       " 'Heating_coal_coke',\n",
       " 'Heating_electricity',\n",
       " 'Heating_fuelkero',\n",
       " 'Heating_gas',\n",
       " 'Heating_gas_tank',\n",
       " 'Heating_no',\n",
       " 'Heating_other',\n",
       " 'Heating_solar',\n",
       " 'Heating_wood',\n",
       " 'Hh_w_children',\n",
       " 'HighSchool',\n",
       " 'Housing_Units',\n",
       " 'Less_10k',\n",
       " 'Less_9th',\n",
       " 'Mean_income',\n",
       " 'Mean_price',\n",
       " 'Median_age',\n",
       " 'Median_income',\n",
       " 'Median_unit_values',\n",
       " 'NAME',\n",
       " 'Occupied_units',\n",
       " 'Occupied_units_heating',\n",
       " 'Percent_10+_units',\n",
       " 'Percent_100k_150k',\n",
       " 'Percent_10_19_units',\n",
       " 'Percent_10k_15k',\n",
       " 'Percent_12th_no_dip',\n",
       " 'Percent_150k_200k',\n",
       " 'Percent_15k_25k',\n",
       " 'Percent_1_room',\n",
       " 'Percent_1_unit',\n",
       " 'Percent_1_unit_attached',\n",
       " 'Percent_1_unit_detached',\n",
       " 'Percent_20+_units',\n",
       " 'Percent_200k_more',\n",
       " 'Percent_25k_35k',\n",
       " 'Percent_2_rooms',\n",
       " 'Percent_2_units',\n",
       " 'Percent_35k_50k',\n",
       " 'Percent_3_4_units',\n",
       " 'Percent_3_rooms',\n",
       " 'Percent_4_rooms',\n",
       " 'Percent_50k_75k',\n",
       " 'Percent_5_9_units',\n",
       " 'Percent_5_rooms',\n",
       " 'Percent_6_rooms',\n",
       " 'Percent_75k_100k',\n",
       " 'Percent_7_rooms',\n",
       " 'Percent_8_rooms',\n",
       " 'Percent_9_more_rooms',\n",
       " 'Percent_Associate',\n",
       " 'Percent_Bachelors',\n",
       " 'Percent_Graduate',\n",
       " 'Percent_Heating_coal_coke',\n",
       " 'Percent_Heating_electricity',\n",
       " 'Percent_Heating_fuelkero',\n",
       " 'Percent_Heating_gas',\n",
       " 'Percent_Heating_gas_tank',\n",
       " 'Percent_Heating_no',\n",
       " 'Percent_Heating_other',\n",
       " 'Percent_Heating_solar',\n",
       " 'Percent_Heating_wood',\n",
       " 'Percent_HighSchool',\n",
       " 'Percent_Less_10k',\n",
       " 'Percent_Less_9th',\n",
       " 'Percent_Some_college',\n",
       " 'Percent_hh_w_children',\n",
       " 'Percent_less_35k',\n",
       " 'Percent_more_than_hs',\n",
       " 'Percent_occupied',\n",
       " 'Pop_over_25',\n",
       " 'Project_Cost',\n",
       " 'Project_Number',\n",
       " 'Project_yes',\n",
       " 'Region',\n",
       " 'Remote_Net_Metering',\n",
       " 'Rental_vacancy_rate',\n",
       " 'Some_college',\n",
       " 'Total_Nameplate_kW_DC',\n",
       " 'Total_households_by_type',\n",
       " 'Total_housing_units_Rooms',\n",
       " 'Total_population',\n",
       " 'Total_units_structure',\n",
       " 'Under_5_years',\n",
       " 'Var_price',\n",
       " 'carbon_offset_metric_tons',\n",
       " 'cost_Kw',\n",
       " 'count_qualified',\n",
       " 'county',\n",
       " 'county_name',\n",
       " 'existing_installs_count',\n",
       " 'households',\n",
       " 'install_size_kw_buckets_json',\n",
       " 'kw_median',\n",
       " 'kw_total',\n",
       " 'lat_avg',\n",
       " 'lat_max',\n",
       " 'lat_min',\n",
       " 'lng_avg',\n",
       " 'lng_max',\n",
       " 'lng_min',\n",
       " 'median_rooms',\n",
       " 'number_of_panels_e',\n",
       " 'number_of_panels_f',\n",
       " 'number_of_panels_median',\n",
       " 'number_of_panels_n',\n",
       " 'number_of_panels_s',\n",
       " 'number_of_panels_total',\n",
       " 'number_of_panels_w',\n",
       " 'percent_covered',\n",
       " 'percent_qualified',\n",
       " 'region_name',\n",
       " 'state',\n",
       " 'state_name',\n",
       " 'tract',\n",
       " 'weight',\n",
       " 'yearly_sunlight_kwh_e',\n",
       " 'yearly_sunlight_kwh_f',\n",
       " 'yearly_sunlight_kwh_kw_threshold_avg',\n",
       " 'yearly_sunlight_kwh_median',\n",
       " 'yearly_sunlight_kwh_n',\n",
       " 'yearly_sunlight_kwh_s',\n",
       " 'yearly_sunlight_kwh_total',\n",
       " 'yearly_sunlight_kwh_w']"
      ]
     },
     "execution_count": 5,
     "metadata": {},
     "output_type": "execute_result"
    }
   ],
   "source": [
    "list(all_data.columns)"
   ]
  },
  {
   "cell_type": "markdown",
   "metadata": {},
   "source": [
    "## Creating AUC Score"
   ]
  },
  {
   "cell_type": "code",
   "execution_count": 6,
   "metadata": {
    "collapsed": true
   },
   "outputs": [],
   "source": [
    "# define scoring function \n",
    "def custom_auc(ground_truth, predictions):\n",
    "    # I need only one column of predictions[\"0\" and \"1\"]. You can get an error here\n",
    "    # while trying to return both columns at once\n",
    "    fpr, tpr, _ = roc_curve(ground_truth, predictions[:, 1], pos_label=1)    \n",
    "    return auc(fpr, tpr)\n",
    "\n",
    "# to be standart sklearn's scorer        \n",
    "my_auc = make_scorer(custom_auc, greater_is_better=True, needs_proba=True)"
   ]
  },
  {
   "cell_type": "markdown",
   "metadata": {},
   "source": [
    "## Large model matrix"
   ]
  },
  {
   "cell_type": "code",
   "execution_count": 7,
   "metadata": {
    "collapsed": true
   },
   "outputs": [],
   "source": [
    "all_columns = list(all_data.columns)\n",
    "acs= acs5.Get_census_data()\n",
    "acs_data = acs.get_acs_all()\n",
    "variables_large = acs.education_percent + acs.other_households + acs.units_percent + acs.heating_percent + acs.rooms_percent"
   ]
  },
  {
   "cell_type": "code",
   "execution_count": 8,
   "metadata": {},
   "outputs": [],
   "source": [
    "variables_large.append('Project_yes')\n",
    "#variables_large.append('Mean_price')\n",
    "#variables_large.append('Var_price')\n",
    "variables_large.append('percent_qualified')\n",
    "variables_large.append('yearly_sunlight_kwh_total')\n",
    "variables_large.append('weight')\n",
    "variables_large.append('Duplicate')\n",
    "variables_large.append('GEOID10')\n",
    "variables_large.append('county_name')\n",
    "variables_large.append('households')\n",
    "df_large=all_data[variables_large]"
   ]
  },
  {
   "cell_type": "code",
   "execution_count": 9,
   "metadata": {
    "collapsed": true
   },
   "outputs": [],
   "source": [
    "df_large =df_large.dropna()\n",
    "y_large=df_large['Project_yes']\n",
    "weights_large=df_large['weight']\n",
    "X_large=df_large.drop(['Project_yes', 'weight','Duplicate', 'GEOID10','county_name', 'households', 'Percent_1_unit'], axis=1)"
   ]
  },
  {
   "cell_type": "code",
   "execution_count": 10,
   "metadata": {},
   "outputs": [
    {
     "data": {
      "text/plain": [
       "(6015, 40)"
      ]
     },
     "execution_count": 10,
     "metadata": {},
     "output_type": "execute_result"
    }
   ],
   "source": [
    "X_large.shape"
   ]
  },
  {
   "cell_type": "markdown",
   "metadata": {},
   "source": [
    "## Models using large matrix"
   ]
  },
  {
   "cell_type": "code",
   "execution_count": 11,
   "metadata": {
    "collapsed": true
   },
   "outputs": [],
   "source": [
    "X_train, X_test, y_train, y_test, weights_train, weights_test = train_test_split(X_large, y_large, weights_large, test_size=0.3, random_state=42)"
   ]
  },
  {
   "cell_type": "markdown",
   "metadata": {},
   "source": [
    " Gradient Boosting Classifier w/sample weights"
   ]
  },
  {
   "cell_type": "code",
   "execution_count": null,
   "metadata": {
    "collapsed": true
   },
   "outputs": [],
   "source": [
    "gbc = GradientBoostingClassifier()\n",
    "gbc_search = GridSearchCV(gbc, param_grid = {'n_estimators' : [1000, 10000], 'subsample' :[0.8],\n",
    "                                           'max_depth': [2,3], 'learning_rate' : [0.01, 0.001]}, \n",
    "                     scoring=my_auc, fit_params={'sample_weight': weights_train}, n_jobs=1, iid=True, refit=True, \n",
    "             cv=None, verbose=5, pre_dispatch='2*n_jobs', error_score='raise', return_train_score=True)"
   ]
  },
  {
   "cell_type": "code",
   "execution_count": null,
   "metadata": {},
   "outputs": [],
   "source": [
    "gbc_fitted = gbc_search.fit(X_train,y_train)"
   ]
  },
  {
   "cell_type": "code",
   "execution_count": null,
   "metadata": {},
   "outputs": [],
   "source": [
    "gbc_fitted.best_estimator_"
   ]
  },
  {
   "cell_type": "code",
   "execution_count": 12,
   "metadata": {},
   "outputs": [],
   "source": [
    "gbc_best = GradientBoostingClassifier(n_estimators=1661,max_depth=2, learning_rate=0.001, subsample=0.8)\n",
    "gbc_best_fitted = gbc_best.fit(X_large, y_large, sample_weight=weights_large)"
   ]
  },
  {
   "cell_type": "code",
   "execution_count": 13,
   "metadata": {},
   "outputs": [],
   "source": [
    "importance_values = gbc_best_fitted.feature_importances_"
   ]
  },
  {
   "cell_type": "code",
   "execution_count": null,
   "metadata": {
    "collapsed": true
   },
   "outputs": [],
   "source": [
    "feature_importances = 100*gbc_best_fitted.feature_importances_ / np.sum(gbc_best_fitted.feature_importances_)"
   ]
  },
  {
   "cell_type": "code",
   "execution_count": null,
   "metadata": {},
   "outputs": [],
   "source": [
    "feature_importances"
   ]
  },
  {
   "cell_type": "code",
   "execution_count": null,
   "metadata": {},
   "outputs": [],
   "source": [
    "columns = np.array(X_large.columns)"
   ]
  },
  {
   "cell_type": "code",
   "execution_count": null,
   "metadata": {
    "collapsed": true
   },
   "outputs": [],
   "source": [
    "feat = pd.DataFrame()\n",
    "feat['relative_feature_importances']=feature_importances\n",
    "feat['feature_names']=columns\n",
    "feat['feature_importance']=importance_values"
   ]
  },
  {
   "cell_type": "code",
   "execution_count": null,
   "metadata": {},
   "outputs": [],
   "source": [
    "feat.to_csv('feature_imporance.csv')"
   ]
  },
  {
   "cell_type": "code",
   "execution_count": 14,
   "metadata": {},
   "outputs": [
    {
     "data": {
      "image/png": "[encoded data removed]",
      "text/plain": [
       "<matplotlib.figure.Figure at 0x1161556d0>"
      ]
     },
     "metadata": {},
     "output_type": "display_data"
    }
   ],
   "source": [
    "gbc_best_fitted.feature_importances_\n",
    "feature_importances = 100*gbc_best_fitted.feature_importances_ / np.sum(gbc_best_fitted.feature_importances_)\n",
    "feature_importances, feature_names, feature_idxs = zip(*sorted(zip(feature_importances, list(X_large.columns), range(len(X_large.columns)))))\n",
    "\n",
    "width = 0.8\n",
    "\n",
    "idx = np.arange(len(X_large.columns))\n",
    "\n",
    "fig, ax = plt.subplots(figsize=(10,12))\n",
    "ax.barh(idx, feature_importances, align='center')\n",
    "plt.yticks(idx, feature_names, fontsize=8)\n",
    "\n",
    "ax.set_title(\"Feature Importances in Gradient Booster\")\n",
    "ax.set_xlabel('Relative Importance of Feature', fontsize=10)\n",
    "ax.set_ylabel('Feature Name', fontsize=16)\n",
    "fig.savefig('feat_imp_sep8.png')"
   ]
  },
  {
   "cell_type": "code",
   "execution_count": null,
   "metadata": {},
   "outputs": [],
   "source": [
    "# Adding results to orginal Data Frames\n",
    "df_large['result']=gbc_best_fitted.predict_proba(X_large)[:,1]"
   ]
  },
  {
   "cell_type": "code",
   "execution_count": null,
   "metadata": {
    "collapsed": true
   },
   "outputs": [],
   "source": [
    "df_to_tableau= df_large[df_large['Project_yes']==0]"
   ]
  },
  {
   "cell_type": "code",
   "execution_count": null,
   "metadata": {
    "collapsed": true
   },
   "outputs": [],
   "source": [
    "df_to_tableau.to_csv('output_sept19.csv')"
   ]
  },
  {
   "cell_type": "code",
   "execution_count": null,
   "metadata": {},
   "outputs": [],
   "source": [
    "df_large.describe()"
   ]
  },
  {
   "cell_type": "markdown",
   "metadata": {},
   "source": [
    "Logistic Regression w/ sample weights"
   ]
  },
  {
   "cell_type": "code",
   "execution_count": null,
   "metadata": {
    "collapsed": true
   },
   "outputs": [],
   "source": [
    "log = LogisticRegression()\n",
    "log_fitted = log.fit(X_train,y_train,sample_weight=weights_train)"
   ]
  },
  {
   "cell_type": "code",
   "execution_count": null,
   "metadata": {},
   "outputs": [],
   "source": [
    "log_best = LogisticRegression()\n",
    "log_best_fitted = log_best.fit(X_large,y_large,sample_weight=weights_large)"
   ]
  },
  {
   "cell_type": "markdown",
   "metadata": {},
   "source": [
    "Random Forest w/sample weights"
   ]
  },
  {
   "cell_type": "code",
   "execution_count": 15,
   "metadata": {
    "collapsed": true
   },
   "outputs": [],
   "source": [
    "rf=RandomForestClassifier()\n",
    "\n",
    "rf_search = GridSearchCV(rf, param_grid ={'n_estimators':[10, 20, 100], 'max_features':['sqrt', 'log2'], 'max_depth': [2,3,4,5]}, scoring=my_auc, fit_params={'sample_weight': np.array(weights_train)}, n_jobs=1, iid=True, refit=True, \n",
    "             cv=None, verbose=5, pre_dispatch='2*n_jobs', error_score='raise', return_train_score=True)"
   ]
  },
  {
   "cell_type": "code",
   "execution_count": 16,
   "metadata": {},
   "outputs": [
    {
     "name": "stdout",
     "output_type": "stream",
     "text": [
      "Fitting 3 folds for each of 24 candidates, totalling 72 fits\n",
      "[CV] max_features=sqrt, n_estimators=10, max_depth=2 .................\n",
      "[CV]  max_features=sqrt, n_estimators=10, max_depth=2, score=0.683885, total=   0.1s\n",
      "[CV] max_features=sqrt, n_estimators=10, max_depth=2 .................\n",
      "[CV]  max_features=sqrt, n_estimators=10, max_depth=2, score=0.664233, total=   0.1s\n",
      "[CV] max_features=sqrt, n_estimators=10, max_depth=2 .................\n"
     ]
    },
    {
     "name": "stderr",
     "output_type": "stream",
     "text": [
      "[Parallel(n_jobs=1)]: Done   1 out of   1 | elapsed:    0.1s remaining:    0.0s\n",
      "[Parallel(n_jobs=1)]: Done   2 out of   2 | elapsed:    0.2s remaining:    0.0s\n",
      "[Parallel(n_jobs=1)]: Done   3 out of   3 | elapsed:    0.3s remaining:    0.0s\n"
     ]
    },
    {
     "name": "stdout",
     "output_type": "stream",
     "text": [
      "[CV]  max_features=sqrt, n_estimators=10, max_depth=2, score=0.615532, total=   0.1s\n",
      "[CV] max_features=sqrt, n_estimators=20, max_depth=2 .................\n",
      "[CV]  max_features=sqrt, n_estimators=20, max_depth=2, score=0.644644, total=   0.1s\n",
      "[CV] max_features=sqrt, n_estimators=20, max_depth=2 .................\n"
     ]
    },
    {
     "name": "stderr",
     "output_type": "stream",
     "text": [
      "[Parallel(n_jobs=1)]: Done   4 out of   4 | elapsed:    0.4s remaining:    0.0s\n"
     ]
    },
    {
     "name": "stdout",
     "output_type": "stream",
     "text": [
      "[CV]  max_features=sqrt, n_estimators=20, max_depth=2, score=0.632760, total=   0.1s\n",
      "[CV] max_features=sqrt, n_estimators=20, max_depth=2 .................\n",
      "[CV]  max_features=sqrt, n_estimators=20, max_depth=2, score=0.620744, total=   0.1s\n",
      "[CV] max_features=sqrt, n_estimators=100, max_depth=2 ................\n",
      "[CV]  max_features=sqrt, n_estimators=100, max_depth=2, score=0.653039, total=   0.6s\n",
      "[CV] max_features=sqrt, n_estimators=100, max_depth=2 ................\n",
      "[CV]  max_features=sqrt, n_estimators=100, max_depth=2, score=0.657899, total=   0.8s\n",
      "[CV] max_features=sqrt, n_estimators=100, max_depth=2 ................\n",
      "[CV]  max_features=sqrt, n_estimators=100, max_depth=2, score=0.595271, total=   0.7s\n",
      "[CV] max_features=log2, n_estimators=10, max_depth=2 .................\n",
      "[CV]  max_features=log2, n_estimators=10, max_depth=2, score=0.692201, total=   0.1s\n",
      "[CV] max_features=log2, n_estimators=10, max_depth=2 .................\n",
      "[CV]  max_features=log2, n_estimators=10, max_depth=2, score=0.645712, total=   0.1s\n",
      "[CV] max_features=log2, n_estimators=10, max_depth=2 .................\n",
      "[CV]  max_features=log2, n_estimators=10, max_depth=2, score=0.609535, total=   0.1s\n",
      "[CV] max_features=log2, n_estimators=20, max_depth=2 .................\n",
      "[CV]  max_features=log2, n_estimators=20, max_depth=2, score=0.661845, total=   0.1s\n",
      "[CV] max_features=log2, n_estimators=20, max_depth=2 .................\n",
      "[CV]  max_features=log2, n_estimators=20, max_depth=2, score=0.666859, total=   0.1s\n",
      "[CV] max_features=log2, n_estimators=20, max_depth=2 .................\n",
      "[CV]  max_features=log2, n_estimators=20, max_depth=2, score=0.596005, total=   0.1s\n",
      "[CV] max_features=log2, n_estimators=100, max_depth=2 ................\n",
      "[CV]  max_features=log2, n_estimators=100, max_depth=2, score=0.657959, total=   0.7s\n",
      "[CV] max_features=log2, n_estimators=100, max_depth=2 ................\n",
      "[CV]  max_features=log2, n_estimators=100, max_depth=2, score=0.658971, total=   0.7s\n",
      "[CV] max_features=log2, n_estimators=100, max_depth=2 ................\n",
      "[CV]  max_features=log2, n_estimators=100, max_depth=2, score=0.600052, total=   0.6s\n",
      "[CV] max_features=sqrt, n_estimators=10, max_depth=3 .................\n",
      "[CV]  max_features=sqrt, n_estimators=10, max_depth=3, score=0.664483, total=   0.1s\n",
      "[CV] max_features=sqrt, n_estimators=10, max_depth=3 .................\n",
      "[CV]  max_features=sqrt, n_estimators=10, max_depth=3, score=0.657102, total=   0.1s\n",
      "[CV] max_features=sqrt, n_estimators=10, max_depth=3 .................\n",
      "[CV]  max_features=sqrt, n_estimators=10, max_depth=3, score=0.601153, total=   0.1s\n",
      "[CV] max_features=sqrt, n_estimators=20, max_depth=3 .................\n",
      "[CV]  max_features=sqrt, n_estimators=20, max_depth=3, score=0.659229, total=   0.2s\n",
      "[CV] max_features=sqrt, n_estimators=20, max_depth=3 .................\n",
      "[CV]  max_features=sqrt, n_estimators=20, max_depth=3, score=0.655035, total=   0.2s\n",
      "[CV] max_features=sqrt, n_estimators=20, max_depth=3 .................\n",
      "[CV]  max_features=sqrt, n_estimators=20, max_depth=3, score=0.599737, total=   0.2s\n",
      "[CV] max_features=sqrt, n_estimators=100, max_depth=3 ................\n",
      "[CV]  max_features=sqrt, n_estimators=100, max_depth=3, score=0.650409, total=   0.8s\n",
      "[CV] max_features=sqrt, n_estimators=100, max_depth=3 ................\n",
      "[CV]  max_features=sqrt, n_estimators=100, max_depth=3, score=0.641294, total=   0.8s\n",
      "[CV] max_features=sqrt, n_estimators=100, max_depth=3 ................\n",
      "[CV]  max_features=sqrt, n_estimators=100, max_depth=3, score=0.580270, total=   0.8s\n",
      "[CV] max_features=log2, n_estimators=10, max_depth=3 .................\n",
      "[CV]  max_features=log2, n_estimators=10, max_depth=3, score=0.637813, total=   0.1s\n",
      "[CV] max_features=log2, n_estimators=10, max_depth=3 .................\n",
      "[CV]  max_features=log2, n_estimators=10, max_depth=3, score=0.650251, total=   0.1s\n",
      "[CV] max_features=log2, n_estimators=10, max_depth=3 .................\n",
      "[CV]  max_features=log2, n_estimators=10, max_depth=3, score=0.608419, total=   0.1s\n",
      "[CV] max_features=log2, n_estimators=20, max_depth=3 .................\n",
      "[CV]  max_features=log2, n_estimators=20, max_depth=3, score=0.651084, total=   0.1s\n",
      "[CV] max_features=log2, n_estimators=20, max_depth=3 .................\n",
      "[CV]  max_features=log2, n_estimators=20, max_depth=3, score=0.648202, total=   0.2s\n",
      "[CV] max_features=log2, n_estimators=20, max_depth=3 .................\n",
      "[CV]  max_features=log2, n_estimators=20, max_depth=3, score=0.592171, total=   0.2s\n",
      "[CV] max_features=log2, n_estimators=100, max_depth=3 ................\n",
      "[CV]  max_features=log2, n_estimators=100, max_depth=3, score=0.649537, total=   0.9s\n",
      "[CV] max_features=log2, n_estimators=100, max_depth=3 ................\n",
      "[CV]  max_features=log2, n_estimators=100, max_depth=3, score=0.643501, total=   0.7s\n",
      "[CV] max_features=log2, n_estimators=100, max_depth=3 ................\n",
      "[CV]  max_features=log2, n_estimators=100, max_depth=3, score=0.578644, total=   0.7s\n",
      "[CV] max_features=sqrt, n_estimators=10, max_depth=4 .................\n",
      "[CV]  max_features=sqrt, n_estimators=10, max_depth=4, score=0.664789, total=   0.1s\n",
      "[CV] max_features=sqrt, n_estimators=10, max_depth=4 .................\n",
      "[CV]  max_features=sqrt, n_estimators=10, max_depth=4, score=0.659729, total=   0.1s\n",
      "[CV] max_features=sqrt, n_estimators=10, max_depth=4 .................\n",
      "[CV]  max_features=sqrt, n_estimators=10, max_depth=4, score=0.579358, total=   0.1s\n",
      "[CV] max_features=sqrt, n_estimators=20, max_depth=4 .................\n",
      "[CV]  max_features=sqrt, n_estimators=20, max_depth=4, score=0.648989, total=   0.2s\n",
      "[CV] max_features=sqrt, n_estimators=20, max_depth=4 .................\n",
      "[CV]  max_features=sqrt, n_estimators=20, max_depth=4, score=0.645056, total=   0.2s\n",
      "[CV] max_features=sqrt, n_estimators=20, max_depth=4 .................\n",
      "[CV]  max_features=sqrt, n_estimators=20, max_depth=4, score=0.595841, total=   0.2s\n",
      "[CV] max_features=sqrt, n_estimators=100, max_depth=4 ................\n",
      "[CV]  max_features=sqrt, n_estimators=100, max_depth=4, score=0.618439, total=   0.9s\n",
      "[CV] max_features=sqrt, n_estimators=100, max_depth=4 ................\n",
      "[CV]  max_features=sqrt, n_estimators=100, max_depth=4, score=0.615825, total=   1.0s\n",
      "[CV] max_features=sqrt, n_estimators=100, max_depth=4 ................\n",
      "[CV]  max_features=sqrt, n_estimators=100, max_depth=4, score=0.568797, total=   1.0s\n",
      "[CV] max_features=log2, n_estimators=10, max_depth=4 .................\n",
      "[CV]  max_features=log2, n_estimators=10, max_depth=4, score=0.656406, total=   0.1s\n",
      "[CV] max_features=log2, n_estimators=10, max_depth=4 .................\n",
      "[CV]  max_features=log2, n_estimators=10, max_depth=4, score=0.639774, total=   0.1s\n",
      "[CV] max_features=log2, n_estimators=10, max_depth=4 .................\n",
      "[CV]  max_features=log2, n_estimators=10, max_depth=4, score=0.594983, total=   0.1s\n",
      "[CV] max_features=log2, n_estimators=20, max_depth=4 .................\n",
      "[CV]  max_features=log2, n_estimators=20, max_depth=4, score=0.634397, total=   0.2s\n",
      "[CV] max_features=log2, n_estimators=20, max_depth=4 .................\n",
      "[CV]  max_features=log2, n_estimators=20, max_depth=4, score=0.641540, total=   0.2s\n",
      "[CV] max_features=log2, n_estimators=20, max_depth=4 .................\n",
      "[CV]  max_features=log2, n_estimators=20, max_depth=4, score=0.594933, total=   0.2s\n",
      "[CV] max_features=log2, n_estimators=100, max_depth=4 ................\n",
      "[CV]  max_features=log2, n_estimators=100, max_depth=4, score=0.609321, total=   0.8s\n",
      "[CV] max_features=log2, n_estimators=100, max_depth=4 ................\n",
      "[CV]  max_features=log2, n_estimators=100, max_depth=4, score=0.609225, total=   0.8s\n",
      "[CV] max_features=log2, n_estimators=100, max_depth=4 ................\n",
      "[CV]  max_features=log2, n_estimators=100, max_depth=4, score=0.564403, total=   0.9s\n",
      "[CV] max_features=sqrt, n_estimators=10, max_depth=5 .................\n",
      "[CV]  max_features=sqrt, n_estimators=10, max_depth=5, score=0.640309, total=   0.1s\n",
      "[CV] max_features=sqrt, n_estimators=10, max_depth=5 .................\n",
      "[CV]  max_features=sqrt, n_estimators=10, max_depth=5, score=0.639814, total=   0.1s\n",
      "[CV] max_features=sqrt, n_estimators=10, max_depth=5 .................\n",
      "[CV]  max_features=sqrt, n_estimators=10, max_depth=5, score=0.589821, total=   0.1s\n",
      "[CV] max_features=sqrt, n_estimators=20, max_depth=5 .................\n"
     ]
    },
    {
     "name": "stdout",
     "output_type": "stream",
     "text": [
      "[CV]  max_features=sqrt, n_estimators=20, max_depth=5, score=0.624210, total=   0.2s\n",
      "[CV] max_features=sqrt, n_estimators=20, max_depth=5 .................\n",
      "[CV]  max_features=sqrt, n_estimators=20, max_depth=5, score=0.624792, total=   0.2s\n",
      "[CV] max_features=sqrt, n_estimators=20, max_depth=5 .................\n",
      "[CV]  max_features=sqrt, n_estimators=20, max_depth=5, score=0.602148, total=   0.2s\n",
      "[CV] max_features=sqrt, n_estimators=100, max_depth=5 ................\n",
      "[CV]  max_features=sqrt, n_estimators=100, max_depth=5, score=0.587524, total=   1.0s\n",
      "[CV] max_features=sqrt, n_estimators=100, max_depth=5 ................\n",
      "[CV]  max_features=sqrt, n_estimators=100, max_depth=5, score=0.591809, total=   1.0s\n",
      "[CV] max_features=sqrt, n_estimators=100, max_depth=5 ................\n",
      "[CV]  max_features=sqrt, n_estimators=100, max_depth=5, score=0.550091, total=   1.1s\n",
      "[CV] max_features=log2, n_estimators=10, max_depth=5 .................\n",
      "[CV]  max_features=log2, n_estimators=10, max_depth=5, score=0.631176, total=   0.1s\n",
      "[CV] max_features=log2, n_estimators=10, max_depth=5 .................\n",
      "[CV]  max_features=log2, n_estimators=10, max_depth=5, score=0.634925, total=   0.1s\n",
      "[CV] max_features=log2, n_estimators=10, max_depth=5 .................\n",
      "[CV]  max_features=log2, n_estimators=10, max_depth=5, score=0.575020, total=   0.1s\n",
      "[CV] max_features=log2, n_estimators=20, max_depth=5 .................\n",
      "[CV]  max_features=log2, n_estimators=20, max_depth=5, score=0.614589, total=   0.2s\n",
      "[CV] max_features=log2, n_estimators=20, max_depth=5 .................\n",
      "[CV]  max_features=log2, n_estimators=20, max_depth=5, score=0.611025, total=   0.2s\n",
      "[CV] max_features=log2, n_estimators=20, max_depth=5 .................\n",
      "[CV]  max_features=log2, n_estimators=20, max_depth=5, score=0.564435, total=   0.2s\n",
      "[CV] max_features=log2, n_estimators=100, max_depth=5 ................\n",
      "[CV]  max_features=log2, n_estimators=100, max_depth=5, score=0.592803, total=   1.1s\n",
      "[CV] max_features=log2, n_estimators=100, max_depth=5 ................\n",
      "[CV]  max_features=log2, n_estimators=100, max_depth=5, score=0.578973, total=   1.1s\n",
      "[CV] max_features=log2, n_estimators=100, max_depth=5 ................\n",
      "[CV]  max_features=log2, n_estimators=100, max_depth=5, score=0.561042, total=   1.1s\n"
     ]
    },
    {
     "name": "stderr",
     "output_type": "stream",
     "text": [
      "[Parallel(n_jobs=1)]: Done  72 out of  72 | elapsed:   30.3s finished\n"
     ]
    }
   ],
   "source": [
    "rf_fitted = rf_search.fit(X_train,y_train)"
   ]
  },
  {
   "cell_type": "code",
   "execution_count": 17,
   "metadata": {},
   "outputs": [
    {
     "data": {
      "text/plain": [
       "{'max_depth': 2, 'max_features': 'sqrt', 'n_estimators': 10}"
      ]
     },
     "execution_count": 17,
     "metadata": {},
     "output_type": "execute_result"
    }
   ],
   "source": [
    "rf_fitted.best_params_"
   ]
  },
  {
   "cell_type": "code",
   "execution_count": 18,
   "metadata": {
    "collapsed": true
   },
   "outputs": [],
   "source": [
    "rf_best=RandomForestClassifier(max_depth=2, max_features= 'sqrt', n_estimators=20)\n",
    "rf_best_fitted = rf_best.fit(X_large, y_large, sample_weight=np.array(weights_large))"
   ]
  },
  {
   "cell_type": "markdown",
   "metadata": {},
   "source": [
    "## ROC Curves"
   ]
  },
  {
   "cell_type": "code",
   "execution_count": 19,
   "metadata": {},
   "outputs": [
    {
     "name": "stderr",
     "output_type": "stream",
     "text": [
      "/Users/mariamendieta/anaconda2/lib/python2.7/site-packages/matplotlib/font_manager.py:1297: UserWarning: findfont: Font family [u'normal'] not found. Falling back to DejaVu Sans\n",
      "  (prop.get_family(), self.defaultFamily[fontext]))\n"
     ]
    },
    {
     "data": {
      "image/png": "[encoded data removed]",
      "text/plain": [
       "<matplotlib.figure.Figure at 0x116045190>"
      ]
     },
     "metadata": {},
     "output_type": "display_data"
    }
   ],
   "source": [
    "from sklearn import metrics\n",
    "import matplotlib \n",
    "\n",
    "font = {'family' : 'normal',\n",
    "        'weight' : 'normal',\n",
    "        'size'   : 22}\n",
    "\n",
    "matplotlib.rc('font', **font)\n",
    "\n",
    "\n",
    "# calculate the fpr and tpr for all thresholds of the classification\n",
    "#Gradient Boosting\n",
    "gbc_probs = gbc_best_fitted.predict_proba(X_large)[:,1]\n",
    "gbc_fpr, gbc_tpr, gbc_threshold = metrics.roc_curve(y_large, gbc_probs, sample_weight=weights_large)\n",
    "gbc_roc_auc = metrics.auc(gbc_fpr, gbc_tpr)\n",
    "\n",
    "#Logistic Regression\n",
    "#log_probs = log_best_fitted.predict_proba(X_large)[:,1]\n",
    "#log_fpr, log_tpr, log_threshold = metrics.roc_curve(y_large, log_probs,sample_weight=weights_large)\n",
    "#log_roc_auc = metrics.auc(log_fpr, log_tpr)\n",
    "\n",
    "#Random Forest\n",
    "rf_probs = rf_best_fitted.predict_proba(X_large)[:,1]\n",
    "rf_fpr, rf_tpr, rf_threshold = metrics.roc_curve(y_large, rf_probs,sample_weight=weights_large)\n",
    "rf_roc_auc = metrics.auc(rf_fpr, rf_tpr)\n",
    "\n",
    "# method I: plt\n",
    "import matplotlib.pyplot as plt\n",
    "fig, ax = plt.subplots(figsize=(12,12))\n",
    "ax.set_title('Receiver Operating Characteristic')\n",
    "ax.plot(gbc_fpr, gbc_tpr, 'b', label = 'AUC_GBC = %0.2f' % gbc_roc_auc, color='green')\n",
    "#ax.plot(log_fpr, log_tpr, 'b', label = 'AUC_LOG = %0.2f' % log_roc_auc, color='red')\n",
    "ax.plot(rf_fpr, rf_tpr, 'b', label = 'AUC_RF = %0.2f' % rf_roc_auc , color='blue')\n",
    "ax.legend(loc = 'lower right')\n",
    "ax.plot([0, 1], [0, 1],'r--')\n",
    "ax.set_xlim([0, 1])\n",
    "ax.set_ylim([0, 1])\n",
    "ax.set_ylabel('True Positive Rate')\n",
    "ax.set_xlabel('False Positive Rate')\n",
    "fig.savefig('roc_sep8.png')\n",
    "plt.show()"
   ]
  },
  {
   "cell_type": "markdown",
   "metadata": {},
   "source": [
    "## Selecting the number of estimators"
   ]
  },
  {
   "cell_type": "code",
   "execution_count": 20,
   "metadata": {},
   "outputs": [
    {
     "ename": "NameError",
     "evalue": "name 'gbc_fitted' is not defined",
     "output_type": "error",
     "traceback": [
      "\u001b[0;31m---------------------------------------------------------------------------\u001b[0m",
      "\u001b[0;31mNameError\u001b[0m                                 Traceback (most recent call last)",
      "\u001b[0;32m<ipython-input-20-a84009d01576>\u001b[0m in \u001b[0;36m<module>\u001b[0;34m()\u001b[0m\n\u001b[0;32m----> 1\u001b[0;31m \u001b[0mgbc_fitted\u001b[0m\u001b[0;34m.\u001b[0m\u001b[0mbest_params_\u001b[0m\u001b[0;34m\u001b[0m\u001b[0m\n\u001b[0m",
      "\u001b[0;31mNameError\u001b[0m: name 'gbc_fitted' is not defined"
     ]
    }
   ],
   "source": [
    "gbc_fitted.best_params_"
   ]
  },
  {
   "cell_type": "code",
   "execution_count": null,
   "metadata": {
    "collapsed": true
   },
   "outputs": [],
   "source": [
    "N_ESTIMATORS=4000"
   ]
  },
  {
   "cell_type": "code",
   "execution_count": null,
   "metadata": {},
   "outputs": [],
   "source": [
    "model = GradientBoostingClassifier(n_estimators=N_ESTIMATORS,max_depth=2, learning_rate=0.001, subsample=0.8)\n",
    "model.fit(X_train, y_train, sample_weight=weights_train)"
   ]
  },
  {
   "cell_type": "code",
   "execution_count": null,
   "metadata": {
    "collapsed": true
   },
   "outputs": [],
   "source": [
    "def log_loss(y, y_hat, weights):\n",
    "    return (1.0 / y.shape[0]) * np.sum(weights*(y*np.log(y_hat) + (1-y)*np.log(1-y_hat)))"
   ]
  },
  {
   "cell_type": "code",
   "execution_count": null,
   "metadata": {
    "collapsed": true
   },
   "outputs": [],
   "source": [
    "train_score = np.zeros(N_ESTIMATORS)\n",
    "for i, y_pred in enumerate(model.staged_predict_proba(X_train)):\n",
    "    train_score[i] = -log_loss(y_train, y_pred[:, 1], weights_train)\n",
    "\n",
    "test_score = np.zeros(N_ESTIMATORS)\n",
    "for i, y_pred in enumerate(model.staged_predict_proba(X_test)):\n",
    "    test_score[i] = -log_loss(y_test, y_pred[:, 1], weights_test)"
   ]
  },
  {
   "cell_type": "code",
   "execution_count": null,
   "metadata": {},
   "outputs": [],
   "source": [
    "plt.plot(np.arange(N_ESTIMATORS) + 1, train_score,\n",
    "        label=\"Training Error\")\n",
    "plt.plot(np.arange(N_ESTIMATORS) + 1, test_score,\n",
    "        label=\"Testing Error\")\n",
    "plt.title(\"Training and Hold Out Error by Boosting Stages\")\n",
    "plt.xlabel('Number of Boosting Stages', fontsize=14)\n",
    "plt.ylabel('Log-Likelihood', fontsize=14)\n",
    "plt.legend(loc=\"upper right\")\n",
    "\n",
    "\n",
    "plt.savefig('training-and-testing-error.png', bbox_inches='tight')"
   ]
  },
  {
   "cell_type": "code",
   "execution_count": null,
   "metadata": {},
   "outputs": [],
   "source": [
    "np.argmin(test_score)"
   ]
  },
  {
   "cell_type": "markdown",
   "metadata": {},
   "source": [
    "## Simple model matrix"
   ]
  },
  {
   "cell_type": "code",
   "execution_count": 21,
   "metadata": {
    "collapsed": true
   },
   "outputs": [],
   "source": [
    "variables_simple = ['Percent_Less_9th','Percent_more_than_hs', 'Percent_1_unit','Avg_hh_size',\n",
    "                'Percent_hh_w_children', 'Percent_10+_units', 'Percent_Heating_electricity',\n",
    "                'yearly_sunlight_kwh_total'  , 'Percent_9_more_rooms', 'percent_qualified',\n",
    "                'Project_yes','weight','Duplicate']"
   ]
  },
  {
   "cell_type": "code",
   "execution_count": 22,
   "metadata": {
    "collapsed": true
   },
   "outputs": [],
   "source": [
    "df_simple= all_data[variables_simple]"
   ]
  },
  {
   "cell_type": "code",
   "execution_count": 23,
   "metadata": {
    "collapsed": true
   },
   "outputs": [],
   "source": [
    "y_simple=df_simple['Project_yes']\n",
    "weights_simple=df_simple['weight']\n",
    "X_simple=df_simple.drop(['Project_yes', 'weight','Duplicate'], axis=1)"
   ]
  },
  {
   "cell_type": "markdown",
   "metadata": {
    "collapsed": true
   },
   "source": [
    "## Model using small matrix"
   ]
  },
  {
   "cell_type": "code",
   "execution_count": 24,
   "metadata": {
    "collapsed": true
   },
   "outputs": [],
   "source": [
    "X_train_simple, X_test_simple, y_train_simple, y_test_simple, weights_train_simple, weights_test_simple = train_test_split(X_simple, y_simple, weights_simple, test_size=0.3, random_state=42)"
   ]
  },
  {
   "cell_type": "code",
   "execution_count": 25,
   "metadata": {
    "collapsed": true
   },
   "outputs": [],
   "source": [
    "gbc_simple = GradientBoostingClassifier()\n",
    "gbc_search_simple = GridSearchCV(gbc_simple, param_grid = {'n_estimators' : [500, 1000, 2000], 'subsample' :[0.5,0.8],\n",
    "                                           'max_depth': [2,3,4,5], 'learning_rate' : [0.1, 0.01, 0.001]}, \n",
    "                      scoring=my_auc, fit_params={'sample_weight': weights_train_simple}, n_jobs=1, iid=True, refit=True, \n",
    "             cv=None, verbose=5, pre_dispatch='2*n_jobs', error_score='raise', return_train_score=True)"
   ]
  },
  {
   "cell_type": "code",
   "execution_count": 26,
   "metadata": {},
   "outputs": [
    {
     "name": "stdout",
     "output_type": "stream",
     "text": [
      "Fitting 3 folds for each of 72 candidates, totalling 216 fits\n",
      "[CV] n_estimators=500, subsample=0.5, learning_rate=0.1, max_depth=2 .\n",
      "[CV]  n_estimators=500, subsample=0.5, learning_rate=0.1, max_depth=2, score=0.635784, total=   1.1s\n",
      "[CV] n_estimators=500, subsample=0.5, learning_rate=0.1, max_depth=2 .\n"
     ]
    },
    {
     "name": "stderr",
     "output_type": "stream",
     "text": [
      "[Parallel(n_jobs=1)]: Done   1 out of   1 | elapsed:    1.1s remaining:    0.0s\n"
     ]
    },
    {
     "name": "stdout",
     "output_type": "stream",
     "text": [
      "[CV]  n_estimators=500, subsample=0.5, learning_rate=0.1, max_depth=2, score=0.648395, total=   1.2s\n",
      "[CV] n_estimators=500, subsample=0.5, learning_rate=0.1, max_depth=2 .\n"
     ]
    },
    {
     "name": "stderr",
     "output_type": "stream",
     "text": [
      "[Parallel(n_jobs=1)]: Done   2 out of   2 | elapsed:    2.3s remaining:    0.0s\n"
     ]
    },
    {
     "name": "stdout",
     "output_type": "stream",
     "text": [
      "[CV]  n_estimators=500, subsample=0.5, learning_rate=0.1, max_depth=2, score=0.525769, total=   1.1s\n",
      "[CV] n_estimators=500, subsample=0.8, learning_rate=0.1, max_depth=2 .\n"
     ]
    },
    {
     "name": "stderr",
     "output_type": "stream",
     "text": [
      "[Parallel(n_jobs=1)]: Done   3 out of   3 | elapsed:    3.5s remaining:    0.0s\n"
     ]
    },
    {
     "name": "stdout",
     "output_type": "stream",
     "text": [
      "[CV]  n_estimators=500, subsample=0.8, learning_rate=0.1, max_depth=2, score=0.593364, total=   1.1s\n",
      "[CV] n_estimators=500, subsample=0.8, learning_rate=0.1, max_depth=2 .\n"
     ]
    },
    {
     "name": "stderr",
     "output_type": "stream",
     "text": [
      "[Parallel(n_jobs=1)]: Done   4 out of   4 | elapsed:    4.6s remaining:    0.0s\n"
     ]
    },
    {
     "name": "stdout",
     "output_type": "stream",
     "text": [
      "[CV]  n_estimators=500, subsample=0.8, learning_rate=0.1, max_depth=2, score=0.611557, total=   1.2s\n",
      "[CV] n_estimators=500, subsample=0.8, learning_rate=0.1, max_depth=2 .\n",
      "[CV]  n_estimators=500, subsample=0.8, learning_rate=0.1, max_depth=2, score=0.609765, total=   1.1s\n",
      "[CV] n_estimators=1000, subsample=0.5, learning_rate=0.1, max_depth=2 \n",
      "[CV]  n_estimators=1000, subsample=0.5, learning_rate=0.1, max_depth=2, score=0.606956, total=   2.2s\n",
      "[CV] n_estimators=1000, subsample=0.5, learning_rate=0.1, max_depth=2 \n",
      "[CV]  n_estimators=1000, subsample=0.5, learning_rate=0.1, max_depth=2, score=0.542484, total=   2.2s\n",
      "[CV] n_estimators=1000, subsample=0.5, learning_rate=0.1, max_depth=2 \n",
      "[CV]  n_estimators=1000, subsample=0.5, learning_rate=0.1, max_depth=2, score=0.607290, total=   2.2s\n",
      "[CV] n_estimators=1000, subsample=0.8, learning_rate=0.1, max_depth=2 \n",
      "[CV]  n_estimators=1000, subsample=0.8, learning_rate=0.1, max_depth=2, score=0.531214, total=   2.4s\n",
      "[CV] n_estimators=1000, subsample=0.8, learning_rate=0.1, max_depth=2 \n",
      "[CV]  n_estimators=1000, subsample=0.8, learning_rate=0.1, max_depth=2, score=0.556404, total=   2.4s\n",
      "[CV] n_estimators=1000, subsample=0.8, learning_rate=0.1, max_depth=2 \n",
      "[CV]  n_estimators=1000, subsample=0.8, learning_rate=0.1, max_depth=2, score=0.588267, total=   2.3s\n",
      "[CV] n_estimators=2000, subsample=0.5, learning_rate=0.1, max_depth=2 \n",
      "[CV]  n_estimators=2000, subsample=0.5, learning_rate=0.1, max_depth=2, score=0.574848, total=   4.5s\n",
      "[CV] n_estimators=2000, subsample=0.5, learning_rate=0.1, max_depth=2 \n",
      "[CV]  n_estimators=2000, subsample=0.5, learning_rate=0.1, max_depth=2, score=0.496917, total=   5.0s\n",
      "[CV] n_estimators=2000, subsample=0.5, learning_rate=0.1, max_depth=2 \n",
      "[CV]  n_estimators=2000, subsample=0.5, learning_rate=0.1, max_depth=2, score=0.611857, total=   5.2s\n",
      "[CV] n_estimators=2000, subsample=0.8, learning_rate=0.1, max_depth=2 \n",
      "[CV]  n_estimators=2000, subsample=0.8, learning_rate=0.1, max_depth=2, score=0.586003, total=   5.5s\n",
      "[CV] n_estimators=2000, subsample=0.8, learning_rate=0.1, max_depth=2 \n",
      "[CV]  n_estimators=2000, subsample=0.8, learning_rate=0.1, max_depth=2, score=0.576506, total=   5.0s\n",
      "[CV] n_estimators=2000, subsample=0.8, learning_rate=0.1, max_depth=2 \n",
      "[CV]  n_estimators=2000, subsample=0.8, learning_rate=0.1, max_depth=2, score=0.580935, total=   5.2s\n",
      "[CV] n_estimators=500, subsample=0.5, learning_rate=0.1, max_depth=3 .\n",
      "[CV]  n_estimators=500, subsample=0.5, learning_rate=0.1, max_depth=3, score=0.563790, total=   1.6s\n",
      "[CV] n_estimators=500, subsample=0.5, learning_rate=0.1, max_depth=3 .\n",
      "[CV]  n_estimators=500, subsample=0.5, learning_rate=0.1, max_depth=3, score=0.610163, total=   1.5s\n",
      "[CV] n_estimators=500, subsample=0.5, learning_rate=0.1, max_depth=3 .\n",
      "[CV]  n_estimators=500, subsample=0.5, learning_rate=0.1, max_depth=3, score=0.560309, total=   1.4s\n",
      "[CV] n_estimators=500, subsample=0.8, learning_rate=0.1, max_depth=3 .\n",
      "[CV]  n_estimators=500, subsample=0.8, learning_rate=0.1, max_depth=3, score=0.583308, total=   1.5s\n",
      "[CV] n_estimators=500, subsample=0.8, learning_rate=0.1, max_depth=3 .\n",
      "[CV]  n_estimators=500, subsample=0.8, learning_rate=0.1, max_depth=3, score=0.562862, total=   1.6s\n",
      "[CV] n_estimators=500, subsample=0.8, learning_rate=0.1, max_depth=3 .\n",
      "[CV]  n_estimators=500, subsample=0.8, learning_rate=0.1, max_depth=3, score=0.564237, total=   1.6s\n",
      "[CV] n_estimators=1000, subsample=0.5, learning_rate=0.1, max_depth=3 \n",
      "[CV]  n_estimators=1000, subsample=0.5, learning_rate=0.1, max_depth=3, score=0.527510, total=   2.9s\n",
      "[CV] n_estimators=1000, subsample=0.5, learning_rate=0.1, max_depth=3 \n",
      "[CV]  n_estimators=1000, subsample=0.5, learning_rate=0.1, max_depth=3, score=0.530687, total=   2.9s\n",
      "[CV] n_estimators=1000, subsample=0.5, learning_rate=0.1, max_depth=3 \n",
      "[CV]  n_estimators=1000, subsample=0.5, learning_rate=0.1, max_depth=3, score=0.531447, total=   3.0s\n",
      "[CV] n_estimators=1000, subsample=0.8, learning_rate=0.1, max_depth=3 \n",
      "[CV]  n_estimators=1000, subsample=0.8, learning_rate=0.1, max_depth=3, score=0.547052, total=   3.1s\n",
      "[CV] n_estimators=1000, subsample=0.8, learning_rate=0.1, max_depth=3 \n",
      "[CV]  n_estimators=1000, subsample=0.8, learning_rate=0.1, max_depth=3, score=0.539779, total=   3.2s\n",
      "[CV] n_estimators=1000, subsample=0.8, learning_rate=0.1, max_depth=3 \n",
      "[CV]  n_estimators=1000, subsample=0.8, learning_rate=0.1, max_depth=3, score=0.564908, total=   3.3s\n",
      "[CV] n_estimators=2000, subsample=0.5, learning_rate=0.1, max_depth=3 \n",
      "[CV]  n_estimators=2000, subsample=0.5, learning_rate=0.1, max_depth=3, score=0.583094, total=   6.0s\n",
      "[CV] n_estimators=2000, subsample=0.5, learning_rate=0.1, max_depth=3 \n",
      "[CV]  n_estimators=2000, subsample=0.5, learning_rate=0.1, max_depth=3, score=0.582815, total=   6.2s\n",
      "[CV] n_estimators=2000, subsample=0.5, learning_rate=0.1, max_depth=3 \n",
      "[CV]  n_estimators=2000, subsample=0.5, learning_rate=0.1, max_depth=3, score=0.558255, total=   5.6s\n",
      "[CV] n_estimators=2000, subsample=0.8, learning_rate=0.1, max_depth=3 \n",
      "[CV]  n_estimators=2000, subsample=0.8, learning_rate=0.1, max_depth=3, score=0.526809, total=   6.9s\n",
      "[CV] n_estimators=2000, subsample=0.8, learning_rate=0.1, max_depth=3 \n",
      "[CV]  n_estimators=2000, subsample=0.8, learning_rate=0.1, max_depth=3, score=0.548708, total=   7.1s\n",
      "[CV] n_estimators=2000, subsample=0.8, learning_rate=0.1, max_depth=3 \n",
      "[CV]  n_estimators=2000, subsample=0.8, learning_rate=0.1, max_depth=3, score=0.573591, total=   6.5s\n",
      "[CV] n_estimators=500, subsample=0.5, learning_rate=0.1, max_depth=4 .\n",
      "[CV]  n_estimators=500, subsample=0.5, learning_rate=0.1, max_depth=4, score=0.524910, total=   2.0s\n",
      "[CV] n_estimators=500, subsample=0.5, learning_rate=0.1, max_depth=4 .\n",
      "[CV]  n_estimators=500, subsample=0.5, learning_rate=0.1, max_depth=4, score=0.550602, total=   1.9s\n",
      "[CV] n_estimators=500, subsample=0.5, learning_rate=0.1, max_depth=4 .\n",
      "[CV]  n_estimators=500, subsample=0.5, learning_rate=0.1, max_depth=4, score=0.577795, total=   1.9s\n",
      "[CV] n_estimators=500, subsample=0.8, learning_rate=0.1, max_depth=4 .\n",
      "[CV]  n_estimators=500, subsample=0.8, learning_rate=0.1, max_depth=4, score=0.549165, total=   2.0s\n",
      "[CV] n_estimators=500, subsample=0.8, learning_rate=0.1, max_depth=4 .\n",
      "[CV]  n_estimators=500, subsample=0.8, learning_rate=0.1, max_depth=4, score=0.573148, total=   2.0s\n",
      "[CV] n_estimators=500, subsample=0.8, learning_rate=0.1, max_depth=4 .\n",
      "[CV]  n_estimators=500, subsample=0.8, learning_rate=0.1, max_depth=4, score=0.512165, total=   2.1s\n",
      "[CV] n_estimators=1000, subsample=0.5, learning_rate=0.1, max_depth=4 \n",
      "[CV]  n_estimators=1000, subsample=0.5, learning_rate=0.1, max_depth=4, score=0.602253, total=   4.0s\n",
      "[CV] n_estimators=1000, subsample=0.5, learning_rate=0.1, max_depth=4 \n",
      "[CV]  n_estimators=1000, subsample=0.5, learning_rate=0.1, max_depth=4, score=0.545514, total=   4.3s\n",
      "[CV] n_estimators=1000, subsample=0.5, learning_rate=0.1, max_depth=4 \n",
      "[CV]  n_estimators=1000, subsample=0.5, learning_rate=0.1, max_depth=4, score=0.495602, total=   4.3s\n",
      "[CV] n_estimators=1000, subsample=0.8, learning_rate=0.1, max_depth=4 \n",
      "[CV]  n_estimators=1000, subsample=0.8, learning_rate=0.1, max_depth=4, score=0.534113, total=   3.9s\n",
      "[CV] n_estimators=1000, subsample=0.8, learning_rate=0.1, max_depth=4 \n",
      "[CV]  n_estimators=1000, subsample=0.8, learning_rate=0.1, max_depth=4, score=0.502029, total=   4.2s\n",
      "[CV] n_estimators=1000, subsample=0.8, learning_rate=0.1, max_depth=4 \n",
      "[CV]  n_estimators=1000, subsample=0.8, learning_rate=0.1, max_depth=4, score=0.583562, total=   4.2s\n",
      "[CV] n_estimators=2000, subsample=0.5, learning_rate=0.1, max_depth=4 \n",
      "[CV]  n_estimators=2000, subsample=0.5, learning_rate=0.1, max_depth=4, score=0.542337, total=   8.0s\n",
      "[CV] n_estimators=2000, subsample=0.5, learning_rate=0.1, max_depth=4 \n",
      "[CV]  n_estimators=2000, subsample=0.5, learning_rate=0.1, max_depth=4, score=0.539069, total=   8.2s\n",
      "[CV] n_estimators=2000, subsample=0.5, learning_rate=0.1, max_depth=4 \n",
      "[CV]  n_estimators=2000, subsample=0.5, learning_rate=0.1, max_depth=4, score=0.563707, total=   7.5s\n",
      "[CV] n_estimators=2000, subsample=0.8, learning_rate=0.1, max_depth=4 \n",
      "[CV]  n_estimators=2000, subsample=0.8, learning_rate=0.1, max_depth=4, score=0.539514, total=   8.2s\n",
      "[CV] n_estimators=2000, subsample=0.8, learning_rate=0.1, max_depth=4 \n"
     ]
    },
    {
     "name": "stdout",
     "output_type": "stream",
     "text": [
      "[CV]  n_estimators=2000, subsample=0.8, learning_rate=0.1, max_depth=4, score=0.496593, total=   8.4s\n",
      "[CV] n_estimators=2000, subsample=0.8, learning_rate=0.1, max_depth=4 \n",
      "[CV]  n_estimators=2000, subsample=0.8, learning_rate=0.1, max_depth=4, score=0.544592, total=   8.1s\n",
      "[CV] n_estimators=500, subsample=0.5, learning_rate=0.1, max_depth=5 .\n",
      "[CV]  n_estimators=500, subsample=0.5, learning_rate=0.1, max_depth=5, score=0.608598, total=   2.5s\n",
      "[CV] n_estimators=500, subsample=0.5, learning_rate=0.1, max_depth=5 .\n",
      "[CV]  n_estimators=500, subsample=0.5, learning_rate=0.1, max_depth=5, score=0.597390, total=   2.5s\n",
      "[CV] n_estimators=500, subsample=0.5, learning_rate=0.1, max_depth=5 .\n",
      "[CV]  n_estimators=500, subsample=0.5, learning_rate=0.1, max_depth=5, score=0.520991, total=   2.3s\n",
      "[CV] n_estimators=500, subsample=0.8, learning_rate=0.1, max_depth=5 .\n",
      "[CV]  n_estimators=500, subsample=0.8, learning_rate=0.1, max_depth=5, score=0.513648, total=   2.5s\n",
      "[CV] n_estimators=500, subsample=0.8, learning_rate=0.1, max_depth=5 .\n",
      "[CV]  n_estimators=500, subsample=0.8, learning_rate=0.1, max_depth=5, score=0.500987, total=   2.6s\n",
      "[CV] n_estimators=500, subsample=0.8, learning_rate=0.1, max_depth=5 .\n",
      "[CV]  n_estimators=500, subsample=0.8, learning_rate=0.1, max_depth=5, score=0.548455, total=   2.6s\n",
      "[CV] n_estimators=1000, subsample=0.5, learning_rate=0.1, max_depth=5 \n",
      "[CV]  n_estimators=1000, subsample=0.5, learning_rate=0.1, max_depth=5, score=0.544443, total=   4.4s\n",
      "[CV] n_estimators=1000, subsample=0.5, learning_rate=0.1, max_depth=5 \n",
      "[CV]  n_estimators=1000, subsample=0.5, learning_rate=0.1, max_depth=5, score=0.579487, total=   4.8s\n",
      "[CV] n_estimators=1000, subsample=0.5, learning_rate=0.1, max_depth=5 \n",
      "[CV]  n_estimators=1000, subsample=0.5, learning_rate=0.1, max_depth=5, score=0.506003, total=   4.9s\n",
      "[CV] n_estimators=1000, subsample=0.8, learning_rate=0.1, max_depth=5 \n",
      "[CV]  n_estimators=1000, subsample=0.8, learning_rate=0.1, max_depth=5, score=0.540908, total=   4.9s\n",
      "[CV] n_estimators=1000, subsample=0.8, learning_rate=0.1, max_depth=5 \n",
      "[CV]  n_estimators=1000, subsample=0.8, learning_rate=0.1, max_depth=5, score=0.541044, total=   5.2s\n",
      "[CV] n_estimators=1000, subsample=0.8, learning_rate=0.1, max_depth=5 \n",
      "[CV]  n_estimators=1000, subsample=0.8, learning_rate=0.1, max_depth=5, score=0.469664, total=   5.1s\n",
      "[CV] n_estimators=2000, subsample=0.5, learning_rate=0.1, max_depth=5 \n",
      "[CV]  n_estimators=2000, subsample=0.5, learning_rate=0.1, max_depth=5, score=0.501115, total=   9.4s\n",
      "[CV] n_estimators=2000, subsample=0.5, learning_rate=0.1, max_depth=5 \n",
      "[CV]  n_estimators=2000, subsample=0.5, learning_rate=0.1, max_depth=5, score=0.557546, total=   9.3s\n",
      "[CV] n_estimators=2000, subsample=0.5, learning_rate=0.1, max_depth=5 \n",
      "[CV]  n_estimators=2000, subsample=0.5, learning_rate=0.1, max_depth=5, score=0.570386, total=   8.8s\n",
      "[CV] n_estimators=2000, subsample=0.8, learning_rate=0.1, max_depth=5 \n",
      "[CV]  n_estimators=2000, subsample=0.8, learning_rate=0.1, max_depth=5, score=0.508211, total=   9.9s\n",
      "[CV] n_estimators=2000, subsample=0.8, learning_rate=0.1, max_depth=5 \n",
      "[CV]  n_estimators=2000, subsample=0.8, learning_rate=0.1, max_depth=5, score=0.563879, total=   9.4s\n",
      "[CV] n_estimators=2000, subsample=0.8, learning_rate=0.1, max_depth=5 \n",
      "[CV]  n_estimators=2000, subsample=0.8, learning_rate=0.1, max_depth=5, score=0.559887, total=  10.4s\n",
      "[CV] n_estimators=500, subsample=0.5, learning_rate=0.01, max_depth=2 \n",
      "[CV]  n_estimators=500, subsample=0.5, learning_rate=0.01, max_depth=2, score=0.621521, total=   1.1s\n",
      "[CV] n_estimators=500, subsample=0.5, learning_rate=0.01, max_depth=2 \n",
      "[CV]  n_estimators=500, subsample=0.5, learning_rate=0.01, max_depth=2, score=0.610657, total=   1.1s\n",
      "[CV] n_estimators=500, subsample=0.5, learning_rate=0.01, max_depth=2 \n",
      "[CV]  n_estimators=500, subsample=0.5, learning_rate=0.01, max_depth=2, score=0.626862, total=   1.2s\n",
      "[CV] n_estimators=500, subsample=0.8, learning_rate=0.01, max_depth=2 \n",
      "[CV]  n_estimators=500, subsample=0.8, learning_rate=0.01, max_depth=2, score=0.619954, total=   1.1s\n",
      "[CV] n_estimators=500, subsample=0.8, learning_rate=0.01, max_depth=2 \n",
      "[CV]  n_estimators=500, subsample=0.8, learning_rate=0.01, max_depth=2, score=0.611835, total=   1.2s\n",
      "[CV] n_estimators=500, subsample=0.8, learning_rate=0.01, max_depth=2 \n",
      "[CV]  n_estimators=500, subsample=0.8, learning_rate=0.01, max_depth=2, score=0.628660, total=   1.2s\n",
      "[CV] n_estimators=1000, subsample=0.5, learning_rate=0.01, max_depth=2 \n",
      "[CV]  n_estimators=1000, subsample=0.5, learning_rate=0.01, max_depth=2, score=0.616373, total=   2.2s\n",
      "[CV] n_estimators=1000, subsample=0.5, learning_rate=0.01, max_depth=2 \n",
      "[CV]  n_estimators=1000, subsample=0.5, learning_rate=0.01, max_depth=2, score=0.625424, total=   2.2s\n",
      "[CV] n_estimators=1000, subsample=0.5, learning_rate=0.01, max_depth=2 \n",
      "[CV]  n_estimators=1000, subsample=0.5, learning_rate=0.01, max_depth=2, score=0.622903, total=   2.3s\n",
      "[CV] n_estimators=1000, subsample=0.8, learning_rate=0.01, max_depth=2 \n",
      "[CV]  n_estimators=1000, subsample=0.8, learning_rate=0.01, max_depth=2, score=0.615020, total=   2.4s\n",
      "[CV] n_estimators=1000, subsample=0.8, learning_rate=0.01, max_depth=2 \n",
      "[CV]  n_estimators=1000, subsample=0.8, learning_rate=0.01, max_depth=2, score=0.610515, total=   2.4s\n",
      "[CV] n_estimators=1000, subsample=0.8, learning_rate=0.01, max_depth=2 \n",
      "[CV]  n_estimators=1000, subsample=0.8, learning_rate=0.01, max_depth=2, score=0.611283, total=   2.4s\n",
      "[CV] n_estimators=2000, subsample=0.5, learning_rate=0.01, max_depth=2 \n",
      "[CV]  n_estimators=2000, subsample=0.5, learning_rate=0.01, max_depth=2, score=0.597393, total=   4.4s\n",
      "[CV] n_estimators=2000, subsample=0.5, learning_rate=0.01, max_depth=2 \n",
      "[CV]  n_estimators=2000, subsample=0.5, learning_rate=0.01, max_depth=2, score=0.600783, total=   4.4s\n",
      "[CV] n_estimators=2000, subsample=0.5, learning_rate=0.01, max_depth=2 \n",
      "[CV]  n_estimators=2000, subsample=0.5, learning_rate=0.01, max_depth=2, score=0.608391, total=   4.4s\n",
      "[CV] n_estimators=2000, subsample=0.8, learning_rate=0.01, max_depth=2 \n",
      "[CV]  n_estimators=2000, subsample=0.8, learning_rate=0.01, max_depth=2, score=0.607110, total=   4.7s\n",
      "[CV] n_estimators=2000, subsample=0.8, learning_rate=0.01, max_depth=2 \n",
      "[CV]  n_estimators=2000, subsample=0.8, learning_rate=0.01, max_depth=2, score=0.598380, total=   4.7s\n",
      "[CV] n_estimators=2000, subsample=0.8, learning_rate=0.01, max_depth=2 \n",
      "[CV]  n_estimators=2000, subsample=0.8, learning_rate=0.01, max_depth=2, score=0.591115, total=   4.8s\n",
      "[CV] n_estimators=500, subsample=0.5, learning_rate=0.01, max_depth=3 \n",
      "[CV]  n_estimators=500, subsample=0.5, learning_rate=0.01, max_depth=3, score=0.606013, total=   1.5s\n",
      "[CV] n_estimators=500, subsample=0.5, learning_rate=0.01, max_depth=3 \n",
      "[CV]  n_estimators=500, subsample=0.5, learning_rate=0.01, max_depth=3, score=0.592213, total=   1.5s\n",
      "[CV] n_estimators=500, subsample=0.5, learning_rate=0.01, max_depth=3 \n",
      "[CV]  n_estimators=500, subsample=0.5, learning_rate=0.01, max_depth=3, score=0.606189, total=   1.5s\n",
      "[CV] n_estimators=500, subsample=0.8, learning_rate=0.01, max_depth=3 \n",
      "[CV]  n_estimators=500, subsample=0.8, learning_rate=0.01, max_depth=3, score=0.606306, total=   1.7s\n",
      "[CV] n_estimators=500, subsample=0.8, learning_rate=0.01, max_depth=3 \n",
      "[CV]  n_estimators=500, subsample=0.8, learning_rate=0.01, max_depth=3, score=0.597739, total=   1.6s\n",
      "[CV] n_estimators=500, subsample=0.8, learning_rate=0.01, max_depth=3 \n",
      "[CV]  n_estimators=500, subsample=0.8, learning_rate=0.01, max_depth=3, score=0.604940, total=   1.7s\n",
      "[CV] n_estimators=1000, subsample=0.5, learning_rate=0.01, max_depth=3 \n",
      "[CV]  n_estimators=1000, subsample=0.5, learning_rate=0.01, max_depth=3, score=0.579043, total=   3.0s\n",
      "[CV] n_estimators=1000, subsample=0.5, learning_rate=0.01, max_depth=3 \n",
      "[CV]  n_estimators=1000, subsample=0.5, learning_rate=0.01, max_depth=3, score=0.597398, total=   2.9s\n",
      "[CV] n_estimators=1000, subsample=0.5, learning_rate=0.01, max_depth=3 \n",
      "[CV]  n_estimators=1000, subsample=0.5, learning_rate=0.01, max_depth=3, score=0.602752, total=   2.9s\n",
      "[CV] n_estimators=1000, subsample=0.8, learning_rate=0.01, max_depth=3 \n",
      "[CV]  n_estimators=1000, subsample=0.8, learning_rate=0.01, max_depth=3, score=0.591758, total=   3.3s\n",
      "[CV] n_estimators=1000, subsample=0.8, learning_rate=0.01, max_depth=3 \n"
     ]
    },
    {
     "name": "stdout",
     "output_type": "stream",
     "text": [
      "[CV]  n_estimators=1000, subsample=0.8, learning_rate=0.01, max_depth=3, score=0.583924, total=   3.3s\n",
      "[CV] n_estimators=1000, subsample=0.8, learning_rate=0.01, max_depth=3 \n",
      "[CV]  n_estimators=1000, subsample=0.8, learning_rate=0.01, max_depth=3, score=0.585348, total=   3.3s\n",
      "[CV] n_estimators=2000, subsample=0.5, learning_rate=0.01, max_depth=3 \n",
      "[CV]  n_estimators=2000, subsample=0.5, learning_rate=0.01, max_depth=3, score=0.577348, total=   5.9s\n",
      "[CV] n_estimators=2000, subsample=0.5, learning_rate=0.01, max_depth=3 \n",
      "[CV]  n_estimators=2000, subsample=0.5, learning_rate=0.01, max_depth=3, score=0.562688, total=   6.0s\n",
      "[CV] n_estimators=2000, subsample=0.5, learning_rate=0.01, max_depth=3 \n",
      "[CV]  n_estimators=2000, subsample=0.5, learning_rate=0.01, max_depth=3, score=0.581646, total=   5.9s\n",
      "[CV] n_estimators=2000, subsample=0.8, learning_rate=0.01, max_depth=3 \n",
      "[CV]  n_estimators=2000, subsample=0.8, learning_rate=0.01, max_depth=3, score=0.576448, total=   6.4s\n",
      "[CV] n_estimators=2000, subsample=0.8, learning_rate=0.01, max_depth=3 \n",
      "[CV]  n_estimators=2000, subsample=0.8, learning_rate=0.01, max_depth=3, score=0.563768, total=   6.8s\n",
      "[CV] n_estimators=2000, subsample=0.8, learning_rate=0.01, max_depth=3 \n",
      "[CV]  n_estimators=2000, subsample=0.8, learning_rate=0.01, max_depth=3, score=0.575454, total=   6.5s\n",
      "[CV] n_estimators=500, subsample=0.5, learning_rate=0.01, max_depth=4 \n",
      "[CV]  n_estimators=500, subsample=0.5, learning_rate=0.01, max_depth=4, score=0.579339, total=   1.8s\n",
      "[CV] n_estimators=500, subsample=0.5, learning_rate=0.01, max_depth=4 \n",
      "[CV]  n_estimators=500, subsample=0.5, learning_rate=0.01, max_depth=4, score=0.578112, total=   1.8s\n",
      "[CV] n_estimators=500, subsample=0.5, learning_rate=0.01, max_depth=4 \n",
      "[CV]  n_estimators=500, subsample=0.5, learning_rate=0.01, max_depth=4, score=0.590309, total=   1.8s\n",
      "[CV] n_estimators=500, subsample=0.8, learning_rate=0.01, max_depth=4 \n",
      "[CV]  n_estimators=500, subsample=0.8, learning_rate=0.01, max_depth=4, score=0.582424, total=   2.2s\n",
      "[CV] n_estimators=500, subsample=0.8, learning_rate=0.01, max_depth=4 \n",
      "[CV]  n_estimators=500, subsample=0.8, learning_rate=0.01, max_depth=4, score=0.566727, total=   2.2s\n",
      "[CV] n_estimators=500, subsample=0.8, learning_rate=0.01, max_depth=4 \n",
      "[CV]  n_estimators=500, subsample=0.8, learning_rate=0.01, max_depth=4, score=0.585056, total=   2.2s\n",
      "[CV] n_estimators=1000, subsample=0.5, learning_rate=0.01, max_depth=4 \n",
      "[CV]  n_estimators=1000, subsample=0.5, learning_rate=0.01, max_depth=4, score=0.554778, total=   3.7s\n",
      "[CV] n_estimators=1000, subsample=0.5, learning_rate=0.01, max_depth=4 \n",
      "[CV]  n_estimators=1000, subsample=0.5, learning_rate=0.01, max_depth=4, score=0.562824, total=   3.8s\n",
      "[CV] n_estimators=1000, subsample=0.5, learning_rate=0.01, max_depth=4 \n",
      "[CV]  n_estimators=1000, subsample=0.5, learning_rate=0.01, max_depth=4, score=0.566614, total=   3.6s\n",
      "[CV] n_estimators=1000, subsample=0.8, learning_rate=0.01, max_depth=4 \n",
      "[CV]  n_estimators=1000, subsample=0.8, learning_rate=0.01, max_depth=4, score=0.571955, total=   4.3s\n",
      "[CV] n_estimators=1000, subsample=0.8, learning_rate=0.01, max_depth=4 \n",
      "[CV]  n_estimators=1000, subsample=0.8, learning_rate=0.01, max_depth=4, score=0.569455, total=   4.3s\n",
      "[CV] n_estimators=1000, subsample=0.8, learning_rate=0.01, max_depth=4 \n",
      "[CV]  n_estimators=1000, subsample=0.8, learning_rate=0.01, max_depth=4, score=0.581573, total=   4.3s\n",
      "[CV] n_estimators=2000, subsample=0.5, learning_rate=0.01, max_depth=4 \n",
      "[CV]  n_estimators=2000, subsample=0.5, learning_rate=0.01, max_depth=4, score=0.550792, total=   7.4s\n",
      "[CV] n_estimators=2000, subsample=0.5, learning_rate=0.01, max_depth=4 \n",
      "[CV]  n_estimators=2000, subsample=0.5, learning_rate=0.01, max_depth=4, score=0.521888, total=   7.7s\n",
      "[CV] n_estimators=2000, subsample=0.5, learning_rate=0.01, max_depth=4 \n",
      "[CV]  n_estimators=2000, subsample=0.5, learning_rate=0.01, max_depth=4, score=0.554737, total=   7.6s\n",
      "[CV] n_estimators=2000, subsample=0.8, learning_rate=0.01, max_depth=4 \n",
      "[CV]  n_estimators=2000, subsample=0.8, learning_rate=0.01, max_depth=4, score=0.551496, total=   8.7s\n",
      "[CV] n_estimators=2000, subsample=0.8, learning_rate=0.01, max_depth=4 \n",
      "[CV]  n_estimators=2000, subsample=0.8, learning_rate=0.01, max_depth=4, score=0.545267, total=   8.5s\n",
      "[CV] n_estimators=2000, subsample=0.8, learning_rate=0.01, max_depth=4 \n",
      "[CV]  n_estimators=2000, subsample=0.8, learning_rate=0.01, max_depth=4, score=0.553846, total=   8.8s\n",
      "[CV] n_estimators=500, subsample=0.5, learning_rate=0.01, max_depth=5 \n",
      "[CV]  n_estimators=500, subsample=0.5, learning_rate=0.01, max_depth=5, score=0.574241, total=   2.3s\n",
      "[CV] n_estimators=500, subsample=0.5, learning_rate=0.01, max_depth=5 \n",
      "[CV]  n_estimators=500, subsample=0.5, learning_rate=0.01, max_depth=5, score=0.573775, total=   2.4s\n",
      "[CV] n_estimators=500, subsample=0.5, learning_rate=0.01, max_depth=5 \n",
      "[CV]  n_estimators=500, subsample=0.5, learning_rate=0.01, max_depth=5, score=0.556769, total=   2.3s\n",
      "[CV] n_estimators=500, subsample=0.8, learning_rate=0.01, max_depth=5 \n",
      "[CV]  n_estimators=500, subsample=0.8, learning_rate=0.01, max_depth=5, score=0.568835, total=   2.8s\n",
      "[CV] n_estimators=500, subsample=0.8, learning_rate=0.01, max_depth=5 \n",
      "[CV]  n_estimators=500, subsample=0.8, learning_rate=0.01, max_depth=5, score=0.568811, total=   2.7s\n",
      "[CV] n_estimators=500, subsample=0.8, learning_rate=0.01, max_depth=5 \n",
      "[CV]  n_estimators=500, subsample=0.8, learning_rate=0.01, max_depth=5, score=0.566200, total=   2.8s\n",
      "[CV] n_estimators=1000, subsample=0.5, learning_rate=0.01, max_depth=5 \n",
      "[CV]  n_estimators=1000, subsample=0.5, learning_rate=0.01, max_depth=5, score=0.548444, total=   4.6s\n",
      "[CV] n_estimators=1000, subsample=0.5, learning_rate=0.01, max_depth=5 \n",
      "[CV]  n_estimators=1000, subsample=0.5, learning_rate=0.01, max_depth=5, score=0.532081, total=   4.9s\n",
      "[CV] n_estimators=1000, subsample=0.5, learning_rate=0.01, max_depth=5 \n",
      "[CV]  n_estimators=1000, subsample=0.5, learning_rate=0.01, max_depth=5, score=0.569765, total=   4.7s\n",
      "[CV] n_estimators=1000, subsample=0.8, learning_rate=0.01, max_depth=5 \n",
      "[CV]  n_estimators=1000, subsample=0.8, learning_rate=0.01, max_depth=5, score=0.549399, total=   5.4s\n",
      "[CV] n_estimators=1000, subsample=0.8, learning_rate=0.01, max_depth=5 \n",
      "[CV]  n_estimators=1000, subsample=0.8, learning_rate=0.01, max_depth=5, score=0.547121, total=   5.4s\n",
      "[CV] n_estimators=1000, subsample=0.8, learning_rate=0.01, max_depth=5 \n",
      "[CV]  n_estimators=1000, subsample=0.8, learning_rate=0.01, max_depth=5, score=0.541801, total=   5.3s\n",
      "[CV] n_estimators=2000, subsample=0.5, learning_rate=0.01, max_depth=5 \n",
      "[CV]  n_estimators=2000, subsample=0.5, learning_rate=0.01, max_depth=5, score=0.538482, total=   9.5s\n",
      "[CV] n_estimators=2000, subsample=0.5, learning_rate=0.01, max_depth=5 \n",
      "[CV]  n_estimators=2000, subsample=0.5, learning_rate=0.01, max_depth=5, score=0.526586, total=   9.5s\n",
      "[CV] n_estimators=2000, subsample=0.5, learning_rate=0.01, max_depth=5 \n",
      "[CV]  n_estimators=2000, subsample=0.5, learning_rate=0.01, max_depth=5, score=0.510935, total=   9.7s\n",
      "[CV] n_estimators=2000, subsample=0.8, learning_rate=0.01, max_depth=5 \n",
      "[CV]  n_estimators=2000, subsample=0.8, learning_rate=0.01, max_depth=5, score=0.527495, total=  10.7s\n",
      "[CV] n_estimators=2000, subsample=0.8, learning_rate=0.01, max_depth=5 \n",
      "[CV]  n_estimators=2000, subsample=0.8, learning_rate=0.01, max_depth=5, score=0.508572, total=  10.8s\n",
      "[CV] n_estimators=2000, subsample=0.8, learning_rate=0.01, max_depth=5 \n",
      "[CV]  n_estimators=2000, subsample=0.8, learning_rate=0.01, max_depth=5, score=0.533040, total=  10.8s\n",
      "[CV] n_estimators=500, subsample=0.5, learning_rate=0.001, max_depth=2 \n",
      "[CV]  n_estimators=500, subsample=0.5, learning_rate=0.001, max_depth=2, score=0.629962, total=   1.1s\n",
      "[CV] n_estimators=500, subsample=0.5, learning_rate=0.001, max_depth=2 \n",
      "[CV]  n_estimators=500, subsample=0.5, learning_rate=0.001, max_depth=2, score=0.619903, total=   1.1s\n",
      "[CV] n_estimators=500, subsample=0.5, learning_rate=0.001, max_depth=2 \n",
      "[CV]  n_estimators=500, subsample=0.5, learning_rate=0.001, max_depth=2, score=0.642267, total=   1.2s\n",
      "[CV] n_estimators=500, subsample=0.8, learning_rate=0.001, max_depth=2 \n"
     ]
    },
    {
     "name": "stdout",
     "output_type": "stream",
     "text": [
      "[CV]  n_estimators=500, subsample=0.8, learning_rate=0.001, max_depth=2, score=0.628436, total=   1.3s\n",
      "[CV] n_estimators=500, subsample=0.8, learning_rate=0.001, max_depth=2 \n",
      "[CV]  n_estimators=500, subsample=0.8, learning_rate=0.001, max_depth=2, score=0.632601, total=   1.3s\n",
      "[CV] n_estimators=500, subsample=0.8, learning_rate=0.001, max_depth=2 \n",
      "[CV]  n_estimators=500, subsample=0.8, learning_rate=0.001, max_depth=2, score=0.649892, total=   1.2s\n",
      "[CV] n_estimators=1000, subsample=0.5, learning_rate=0.001, max_depth=2 \n",
      "[CV]  n_estimators=1000, subsample=0.5, learning_rate=0.001, max_depth=2, score=0.625418, total=   2.4s\n",
      "[CV] n_estimators=1000, subsample=0.5, learning_rate=0.001, max_depth=2 \n",
      "[CV]  n_estimators=1000, subsample=0.5, learning_rate=0.001, max_depth=2, score=0.619195, total=   2.3s\n",
      "[CV] n_estimators=1000, subsample=0.5, learning_rate=0.001, max_depth=2 \n",
      "[CV]  n_estimators=1000, subsample=0.5, learning_rate=0.001, max_depth=2, score=0.637561, total=   2.4s\n",
      "[CV] n_estimators=1000, subsample=0.8, learning_rate=0.001, max_depth=2 \n",
      "[CV]  n_estimators=1000, subsample=0.8, learning_rate=0.001, max_depth=2, score=0.627564, total=   2.8s\n",
      "[CV] n_estimators=1000, subsample=0.8, learning_rate=0.001, max_depth=2 \n",
      "[CV]  n_estimators=1000, subsample=0.8, learning_rate=0.001, max_depth=2, score=0.628770, total=   2.5s\n",
      "[CV] n_estimators=1000, subsample=0.8, learning_rate=0.001, max_depth=2 \n",
      "[CV]  n_estimators=1000, subsample=0.8, learning_rate=0.001, max_depth=2, score=0.647288, total=   2.6s\n",
      "[CV] n_estimators=2000, subsample=0.5, learning_rate=0.001, max_depth=2 \n",
      "[CV]  n_estimators=2000, subsample=0.5, learning_rate=0.001, max_depth=2, score=0.624405, total=   4.5s\n",
      "[CV] n_estimators=2000, subsample=0.5, learning_rate=0.001, max_depth=2 \n",
      "[CV]  n_estimators=2000, subsample=0.5, learning_rate=0.001, max_depth=2, score=0.619339, total=   4.8s\n",
      "[CV] n_estimators=2000, subsample=0.5, learning_rate=0.001, max_depth=2 \n",
      "[CV]  n_estimators=2000, subsample=0.5, learning_rate=0.001, max_depth=2, score=0.635306, total=   4.8s\n",
      "[CV] n_estimators=2000, subsample=0.8, learning_rate=0.001, max_depth=2 \n",
      "[CV]  n_estimators=2000, subsample=0.8, learning_rate=0.001, max_depth=2, score=0.627227, total=   4.9s\n",
      "[CV] n_estimators=2000, subsample=0.8, learning_rate=0.001, max_depth=2 \n",
      "[CV]  n_estimators=2000, subsample=0.8, learning_rate=0.001, max_depth=2, score=0.626130, total=   5.0s\n",
      "[CV] n_estimators=2000, subsample=0.8, learning_rate=0.001, max_depth=2 \n",
      "[CV]  n_estimators=2000, subsample=0.8, learning_rate=0.001, max_depth=2, score=0.638963, total=   4.9s\n",
      "[CV] n_estimators=500, subsample=0.5, learning_rate=0.001, max_depth=3 \n",
      "[CV]  n_estimators=500, subsample=0.5, learning_rate=0.001, max_depth=3, score=0.610102, total=   1.5s\n",
      "[CV] n_estimators=500, subsample=0.5, learning_rate=0.001, max_depth=3 \n",
      "[CV]  n_estimators=500, subsample=0.5, learning_rate=0.001, max_depth=3, score=0.604653, total=   1.7s\n",
      "[CV] n_estimators=500, subsample=0.5, learning_rate=0.001, max_depth=3 \n",
      "[CV]  n_estimators=500, subsample=0.5, learning_rate=0.001, max_depth=3, score=0.615014, total=   1.5s\n",
      "[CV] n_estimators=500, subsample=0.8, learning_rate=0.001, max_depth=3 \n",
      "[CV]  n_estimators=500, subsample=0.8, learning_rate=0.001, max_depth=3, score=0.614548, total=   1.8s\n",
      "[CV] n_estimators=500, subsample=0.8, learning_rate=0.001, max_depth=3 \n",
      "[CV]  n_estimators=500, subsample=0.8, learning_rate=0.001, max_depth=3, score=0.618066, total=   1.8s\n",
      "[CV] n_estimators=500, subsample=0.8, learning_rate=0.001, max_depth=3 \n",
      "[CV]  n_estimators=500, subsample=0.8, learning_rate=0.001, max_depth=3, score=0.618597, total=   1.8s\n",
      "[CV] n_estimators=1000, subsample=0.5, learning_rate=0.001, max_depth=3 \n",
      "[CV]  n_estimators=1000, subsample=0.5, learning_rate=0.001, max_depth=3, score=0.614182, total=   3.1s\n",
      "[CV] n_estimators=1000, subsample=0.5, learning_rate=0.001, max_depth=3 \n",
      "[CV]  n_estimators=1000, subsample=0.5, learning_rate=0.001, max_depth=3, score=0.608518, total=   3.0s\n",
      "[CV] n_estimators=1000, subsample=0.5, learning_rate=0.001, max_depth=3 \n",
      "[CV]  n_estimators=1000, subsample=0.5, learning_rate=0.001, max_depth=3, score=0.617895, total=   2.9s\n",
      "[CV] n_estimators=1000, subsample=0.8, learning_rate=0.001, max_depth=3 \n",
      "[CV]  n_estimators=1000, subsample=0.8, learning_rate=0.001, max_depth=3, score=0.615459, total=   3.4s\n",
      "[CV] n_estimators=1000, subsample=0.8, learning_rate=0.001, max_depth=3 \n",
      "[CV]  n_estimators=1000, subsample=0.8, learning_rate=0.001, max_depth=3, score=0.618078, total=   3.4s\n",
      "[CV] n_estimators=1000, subsample=0.8, learning_rate=0.001, max_depth=3 \n",
      "[CV]  n_estimators=1000, subsample=0.8, learning_rate=0.001, max_depth=3, score=0.622238, total=   3.5s\n",
      "[CV] n_estimators=2000, subsample=0.5, learning_rate=0.001, max_depth=3 \n",
      "[CV]  n_estimators=2000, subsample=0.5, learning_rate=0.001, max_depth=3, score=0.607908, total=   6.0s\n",
      "[CV] n_estimators=2000, subsample=0.5, learning_rate=0.001, max_depth=3 \n",
      "[CV]  n_estimators=2000, subsample=0.5, learning_rate=0.001, max_depth=3, score=0.600121, total=   5.9s\n",
      "[CV] n_estimators=2000, subsample=0.5, learning_rate=0.001, max_depth=3 \n",
      "[CV]  n_estimators=2000, subsample=0.5, learning_rate=0.001, max_depth=3, score=0.616843, total=   5.9s\n",
      "[CV] n_estimators=2000, subsample=0.8, learning_rate=0.001, max_depth=3 \n",
      "[CV]  n_estimators=2000, subsample=0.8, learning_rate=0.001, max_depth=3, score=0.614665, total=   7.0s\n",
      "[CV] n_estimators=2000, subsample=0.8, learning_rate=0.001, max_depth=3 \n",
      "[CV]  n_estimators=2000, subsample=0.8, learning_rate=0.001, max_depth=3, score=0.607032, total=   7.1s\n",
      "[CV] n_estimators=2000, subsample=0.8, learning_rate=0.001, max_depth=3 \n",
      "[CV]  n_estimators=2000, subsample=0.8, learning_rate=0.001, max_depth=3, score=0.624460, total=   6.9s\n",
      "[CV] n_estimators=500, subsample=0.5, learning_rate=0.001, max_depth=4 \n",
      "[CV]  n_estimators=500, subsample=0.5, learning_rate=0.001, max_depth=4, score=0.585061, total=   1.9s\n",
      "[CV] n_estimators=500, subsample=0.5, learning_rate=0.001, max_depth=4 \n",
      "[CV]  n_estimators=500, subsample=0.5, learning_rate=0.001, max_depth=4, score=0.574531, total=   1.9s\n",
      "[CV] n_estimators=500, subsample=0.5, learning_rate=0.001, max_depth=4 \n",
      "[CV]  n_estimators=500, subsample=0.5, learning_rate=0.001, max_depth=4, score=0.587177, total=   1.9s\n",
      "[CV] n_estimators=500, subsample=0.8, learning_rate=0.001, max_depth=4 \n",
      "[CV]  n_estimators=500, subsample=0.8, learning_rate=0.001, max_depth=4, score=0.591870, total=   2.3s\n",
      "[CV] n_estimators=500, subsample=0.8, learning_rate=0.001, max_depth=4 \n",
      "[CV]  n_estimators=500, subsample=0.8, learning_rate=0.001, max_depth=4, score=0.590031, total=   2.3s\n",
      "[CV] n_estimators=500, subsample=0.8, learning_rate=0.001, max_depth=4 \n",
      "[CV]  n_estimators=500, subsample=0.8, learning_rate=0.001, max_depth=4, score=0.594194, total=   2.5s\n",
      "[CV] n_estimators=1000, subsample=0.5, learning_rate=0.001, max_depth=4 \n",
      "[CV]  n_estimators=1000, subsample=0.5, learning_rate=0.001, max_depth=4, score=0.593942, total=   3.8s\n",
      "[CV] n_estimators=1000, subsample=0.5, learning_rate=0.001, max_depth=4 \n",
      "[CV]  n_estimators=1000, subsample=0.5, learning_rate=0.001, max_depth=4, score=0.588581, total=   3.8s\n",
      "[CV] n_estimators=1000, subsample=0.5, learning_rate=0.001, max_depth=4 \n",
      "[CV]  n_estimators=1000, subsample=0.5, learning_rate=0.001, max_depth=4, score=0.589261, total=   3.7s\n",
      "[CV] n_estimators=1000, subsample=0.8, learning_rate=0.001, max_depth=4 \n",
      "[CV]  n_estimators=1000, subsample=0.8, learning_rate=0.001, max_depth=4, score=0.602533, total=   5.1s\n",
      "[CV] n_estimators=1000, subsample=0.8, learning_rate=0.001, max_depth=4 \n",
      "[CV]  n_estimators=1000, subsample=0.8, learning_rate=0.001, max_depth=4, score=0.594358, total=   4.8s\n",
      "[CV] n_estimators=1000, subsample=0.8, learning_rate=0.001, max_depth=4 \n",
      "[CV]  n_estimators=1000, subsample=0.8, learning_rate=0.001, max_depth=4, score=0.595443, total=   5.0s\n",
      "[CV] n_estimators=2000, subsample=0.5, learning_rate=0.001, max_depth=4 \n",
      "[CV]  n_estimators=2000, subsample=0.5, learning_rate=0.001, max_depth=4, score=0.593389, total=   7.5s\n",
      "[CV] n_estimators=2000, subsample=0.5, learning_rate=0.001, max_depth=4 \n",
      "[CV]  n_estimators=2000, subsample=0.5, learning_rate=0.001, max_depth=4, score=0.587243, total=   7.4s\n",
      "[CV] n_estimators=2000, subsample=0.5, learning_rate=0.001, max_depth=4 \n"
     ]
    },
    {
     "name": "stdout",
     "output_type": "stream",
     "text": [
      "[CV]  n_estimators=2000, subsample=0.5, learning_rate=0.001, max_depth=4, score=0.592837, total=   7.4s\n",
      "[CV] n_estimators=2000, subsample=0.8, learning_rate=0.001, max_depth=4 \n",
      "[CV]  n_estimators=2000, subsample=0.8, learning_rate=0.001, max_depth=4, score=0.596050, total=   9.3s\n",
      "[CV] n_estimators=2000, subsample=0.8, learning_rate=0.001, max_depth=4 \n",
      "[CV]  n_estimators=2000, subsample=0.8, learning_rate=0.001, max_depth=4, score=0.587784, total=   9.2s\n",
      "[CV] n_estimators=2000, subsample=0.8, learning_rate=0.001, max_depth=4 \n",
      "[CV]  n_estimators=2000, subsample=0.8, learning_rate=0.001, max_depth=4, score=0.598362, total=   9.2s\n",
      "[CV] n_estimators=500, subsample=0.5, learning_rate=0.001, max_depth=5 \n",
      "[CV]  n_estimators=500, subsample=0.5, learning_rate=0.001, max_depth=5, score=0.572514, total=   2.8s\n",
      "[CV] n_estimators=500, subsample=0.5, learning_rate=0.001, max_depth=5 \n",
      "[CV]  n_estimators=500, subsample=0.5, learning_rate=0.001, max_depth=5, score=0.559029, total=   2.4s\n",
      "[CV] n_estimators=500, subsample=0.5, learning_rate=0.001, max_depth=5 \n",
      "[CV]  n_estimators=500, subsample=0.5, learning_rate=0.001, max_depth=5, score=0.565312, total=   2.6s\n",
      "[CV] n_estimators=500, subsample=0.8, learning_rate=0.001, max_depth=5 \n",
      "[CV]  n_estimators=500, subsample=0.8, learning_rate=0.001, max_depth=5, score=0.581175, total=   3.3s\n",
      "[CV] n_estimators=500, subsample=0.8, learning_rate=0.001, max_depth=5 \n",
      "[CV]  n_estimators=500, subsample=0.8, learning_rate=0.001, max_depth=5, score=0.575594, total=   3.0s\n",
      "[CV] n_estimators=500, subsample=0.8, learning_rate=0.001, max_depth=5 \n",
      "[CV]  n_estimators=500, subsample=0.8, learning_rate=0.001, max_depth=5, score=0.561960, total=   3.2s\n",
      "[CV] n_estimators=1000, subsample=0.5, learning_rate=0.001, max_depth=5 \n",
      "[CV]  n_estimators=1000, subsample=0.5, learning_rate=0.001, max_depth=5, score=0.577053, total=   4.7s\n",
      "[CV] n_estimators=1000, subsample=0.5, learning_rate=0.001, max_depth=5 \n",
      "[CV]  n_estimators=1000, subsample=0.5, learning_rate=0.001, max_depth=5, score=0.560412, total=   4.6s\n",
      "[CV] n_estimators=1000, subsample=0.5, learning_rate=0.001, max_depth=5 \n",
      "[CV]  n_estimators=1000, subsample=0.5, learning_rate=0.001, max_depth=5, score=0.578564, total=   4.8s\n",
      "[CV] n_estimators=1000, subsample=0.8, learning_rate=0.001, max_depth=5 \n",
      "[CV]  n_estimators=1000, subsample=0.8, learning_rate=0.001, max_depth=5, score=0.584743, total=   5.9s\n",
      "[CV] n_estimators=1000, subsample=0.8, learning_rate=0.001, max_depth=5 \n",
      "[CV]  n_estimators=1000, subsample=0.8, learning_rate=0.001, max_depth=5, score=0.574075, total=   5.9s\n",
      "[CV] n_estimators=1000, subsample=0.8, learning_rate=0.001, max_depth=5 \n",
      "[CV]  n_estimators=1000, subsample=0.8, learning_rate=0.001, max_depth=5, score=0.566551, total=   6.1s\n",
      "[CV] n_estimators=2000, subsample=0.5, learning_rate=0.001, max_depth=5 \n",
      "[CV]  n_estimators=2000, subsample=0.5, learning_rate=0.001, max_depth=5, score=0.582465, total=   9.6s\n",
      "[CV] n_estimators=2000, subsample=0.5, learning_rate=0.001, max_depth=5 \n",
      "[CV]  n_estimators=2000, subsample=0.5, learning_rate=0.001, max_depth=5, score=0.574239, total=   9.3s\n",
      "[CV] n_estimators=2000, subsample=0.5, learning_rate=0.001, max_depth=5 \n",
      "[CV]  n_estimators=2000, subsample=0.5, learning_rate=0.001, max_depth=5, score=0.577076, total=  10.0s\n",
      "[CV] n_estimators=2000, subsample=0.8, learning_rate=0.001, max_depth=5 \n",
      "[CV]  n_estimators=2000, subsample=0.8, learning_rate=0.001, max_depth=5, score=0.583393, total=  12.1s\n",
      "[CV] n_estimators=2000, subsample=0.8, learning_rate=0.001, max_depth=5 \n",
      "[CV]  n_estimators=2000, subsample=0.8, learning_rate=0.001, max_depth=5, score=0.565180, total=  12.3s\n",
      "[CV] n_estimators=2000, subsample=0.8, learning_rate=0.001, max_depth=5 \n",
      "[CV]  n_estimators=2000, subsample=0.8, learning_rate=0.001, max_depth=5, score=0.567935, total=  12.1s\n"
     ]
    },
    {
     "name": "stderr",
     "output_type": "stream",
     "text": [
      "[Parallel(n_jobs=1)]: Done 216 out of 216 | elapsed: 15.8min finished\n"
     ]
    }
   ],
   "source": [
    "gbc_fitted_simple = gbc_search_simple.fit(X_train_simple,y_train_simple)"
   ]
  },
  {
   "cell_type": "code",
   "execution_count": 27,
   "metadata": {},
   "outputs": [],
   "source": [
    "log_simple = LogisticRegression()\n",
    "log_fitted_simple = log_simple.fit(X_train_simple,y_train_simple,sample_weight=weights_train_simple)"
   ]
  },
  {
   "cell_type": "code",
   "execution_count": 28,
   "metadata": {
    "collapsed": true
   },
   "outputs": [],
   "source": [
    "rf_simple=RandomForestClassifier()\n",
    "\n",
    "rf_search_simple = GridSearchCV(rf, param_grid ={'n_estimators':[10, 20, 100], 'max_features':['sqrt', 'log2'], 'max_depth': [2,3,4,5]}, scoring=my_auc, fit_params={'sample_weight': np.array(weights_train_simple)}, n_jobs=1, iid=True, refit=True, \n",
    "             cv=None, verbose=5, pre_dispatch='2*n_jobs', error_score='raise', return_train_score=True)"
   ]
  },
  {
   "cell_type": "code",
   "execution_count": 29,
   "metadata": {},
   "outputs": [
    {
     "name": "stdout",
     "output_type": "stream",
     "text": [
      "Fitting 3 folds for each of 24 candidates, totalling 72 fits\n",
      "[CV] max_features=sqrt, n_estimators=10, max_depth=2 .................\n",
      "[CV]  max_features=sqrt, n_estimators=10, max_depth=2, score=0.643857, total=   0.1s\n",
      "[CV] max_features=sqrt, n_estimators=10, max_depth=2 .................\n",
      "[CV]  max_features=sqrt, n_estimators=10, max_depth=2, score=0.617075, total=   0.1s\n",
      "[CV] max_features=sqrt, n_estimators=10, max_depth=2 .................\n"
     ]
    },
    {
     "name": "stderr",
     "output_type": "stream",
     "text": [
      "[Parallel(n_jobs=1)]: Done   1 out of   1 | elapsed:    0.1s remaining:    0.0s\n",
      "[Parallel(n_jobs=1)]: Done   2 out of   2 | elapsed:    0.2s remaining:    0.0s\n",
      "[Parallel(n_jobs=1)]: Done   3 out of   3 | elapsed:    0.2s remaining:    0.0s\n"
     ]
    },
    {
     "name": "stdout",
     "output_type": "stream",
     "text": [
      "[CV]  max_features=sqrt, n_estimators=10, max_depth=2, score=0.655613, total=   0.1s\n",
      "[CV] max_features=sqrt, n_estimators=20, max_depth=2 .................\n",
      "[CV]  max_features=sqrt, n_estimators=20, max_depth=2, score=0.630471, total=   0.1s\n",
      "[CV] max_features=sqrt, n_estimators=20, max_depth=2 .................\n"
     ]
    },
    {
     "name": "stderr",
     "output_type": "stream",
     "text": [
      "[Parallel(n_jobs=1)]: Done   4 out of   4 | elapsed:    0.4s remaining:    0.0s\n"
     ]
    },
    {
     "name": "stdout",
     "output_type": "stream",
     "text": [
      "[CV]  max_features=sqrt, n_estimators=20, max_depth=2, score=0.628095, total=   0.1s\n",
      "[CV] max_features=sqrt, n_estimators=20, max_depth=2 .................\n",
      "[CV]  max_features=sqrt, n_estimators=20, max_depth=2, score=0.642065, total=   0.1s\n",
      "[CV] max_features=sqrt, n_estimators=100, max_depth=2 ................\n",
      "[CV]  max_features=sqrt, n_estimators=100, max_depth=2, score=0.617204, total=   0.6s\n",
      "[CV] max_features=sqrt, n_estimators=100, max_depth=2 ................\n",
      "[CV]  max_features=sqrt, n_estimators=100, max_depth=2, score=0.636130, total=   0.7s\n",
      "[CV] max_features=sqrt, n_estimators=100, max_depth=2 ................\n",
      "[CV]  max_features=sqrt, n_estimators=100, max_depth=2, score=0.633639, total=   0.6s\n",
      "[CV] max_features=log2, n_estimators=10, max_depth=2 .................\n",
      "[CV]  max_features=log2, n_estimators=10, max_depth=2, score=0.626461, total=   0.1s\n",
      "[CV] max_features=log2, n_estimators=10, max_depth=2 .................\n",
      "[CV]  max_features=log2, n_estimators=10, max_depth=2, score=0.614506, total=   0.1s\n",
      "[CV] max_features=log2, n_estimators=10, max_depth=2 .................\n",
      "[CV]  max_features=log2, n_estimators=10, max_depth=2, score=0.645322, total=   0.1s\n",
      "[CV] max_features=log2, n_estimators=20, max_depth=2 .................\n",
      "[CV]  max_features=log2, n_estimators=20, max_depth=2, score=0.634169, total=   0.1s\n",
      "[CV] max_features=log2, n_estimators=20, max_depth=2 .................\n",
      "[CV]  max_features=log2, n_estimators=20, max_depth=2, score=0.624327, total=   0.1s\n",
      "[CV] max_features=log2, n_estimators=20, max_depth=2 .................\n",
      "[CV]  max_features=log2, n_estimators=20, max_depth=2, score=0.659192, total=   0.1s\n",
      "[CV] max_features=log2, n_estimators=100, max_depth=2 ................\n",
      "[CV]  max_features=log2, n_estimators=100, max_depth=2, score=0.624506, total=   0.6s\n",
      "[CV] max_features=log2, n_estimators=100, max_depth=2 ................\n",
      "[CV]  max_features=log2, n_estimators=100, max_depth=2, score=0.629028, total=   0.6s\n",
      "[CV] max_features=log2, n_estimators=100, max_depth=2 ................\n",
      "[CV]  max_features=log2, n_estimators=100, max_depth=2, score=0.639333, total=   0.8s\n",
      "[CV] max_features=sqrt, n_estimators=10, max_depth=3 .................\n",
      "[CV]  max_features=sqrt, n_estimators=10, max_depth=3, score=0.626881, total=   0.1s\n",
      "[CV] max_features=sqrt, n_estimators=10, max_depth=3 .................\n",
      "[CV]  max_features=sqrt, n_estimators=10, max_depth=3, score=0.643465, total=   0.1s\n",
      "[CV] max_features=sqrt, n_estimators=10, max_depth=3 .................\n",
      "[CV]  max_features=sqrt, n_estimators=10, max_depth=3, score=0.620223, total=   0.1s\n",
      "[CV] max_features=sqrt, n_estimators=20, max_depth=3 .................\n",
      "[CV]  max_features=sqrt, n_estimators=20, max_depth=3, score=0.615760, total=   0.1s\n",
      "[CV] max_features=sqrt, n_estimators=20, max_depth=3 .................\n",
      "[CV]  max_features=sqrt, n_estimators=20, max_depth=3, score=0.618251, total=   0.1s\n",
      "[CV] max_features=sqrt, n_estimators=20, max_depth=3 .................\n",
      "[CV]  max_features=sqrt, n_estimators=20, max_depth=3, score=0.617631, total=   0.1s\n",
      "[CV] max_features=sqrt, n_estimators=100, max_depth=3 ................\n",
      "[CV]  max_features=sqrt, n_estimators=100, max_depth=3, score=0.610367, total=   0.6s\n",
      "[CV] max_features=sqrt, n_estimators=100, max_depth=3 ................\n",
      "[CV]  max_features=sqrt, n_estimators=100, max_depth=3, score=0.603183, total=   0.7s\n",
      "[CV] max_features=sqrt, n_estimators=100, max_depth=3 ................\n",
      "[CV]  max_features=sqrt, n_estimators=100, max_depth=3, score=0.615052, total=   0.8s\n",
      "[CV] max_features=log2, n_estimators=10, max_depth=3 .................\n",
      "[CV]  max_features=log2, n_estimators=10, max_depth=3, score=0.620280, total=   0.1s\n",
      "[CV] max_features=log2, n_estimators=10, max_depth=3 .................\n",
      "[CV]  max_features=log2, n_estimators=10, max_depth=3, score=0.606861, total=   0.1s\n",
      "[CV] max_features=log2, n_estimators=10, max_depth=3 .................\n",
      "[CV]  max_features=log2, n_estimators=10, max_depth=3, score=0.628970, total=   0.1s\n",
      "[CV] max_features=log2, n_estimators=20, max_depth=3 .................\n",
      "[CV]  max_features=log2, n_estimators=20, max_depth=3, score=0.632872, total=   0.1s\n",
      "[CV] max_features=log2, n_estimators=20, max_depth=3 .................\n",
      "[CV]  max_features=log2, n_estimators=20, max_depth=3, score=0.611630, total=   0.1s\n",
      "[CV] max_features=log2, n_estimators=20, max_depth=3 .................\n",
      "[CV]  max_features=log2, n_estimators=20, max_depth=3, score=0.615801, total=   0.1s\n",
      "[CV] max_features=log2, n_estimators=100, max_depth=3 ................\n",
      "[CV]  max_features=log2, n_estimators=100, max_depth=3, score=0.603819, total=   0.7s\n",
      "[CV] max_features=log2, n_estimators=100, max_depth=3 ................\n",
      "[CV]  max_features=log2, n_estimators=100, max_depth=3, score=0.608345, total=   0.7s\n",
      "[CV] max_features=log2, n_estimators=100, max_depth=3 ................\n",
      "[CV]  max_features=log2, n_estimators=100, max_depth=3, score=0.613763, total=   0.7s\n",
      "[CV] max_features=sqrt, n_estimators=10, max_depth=4 .................\n",
      "[CV]  max_features=sqrt, n_estimators=10, max_depth=4, score=0.607615, total=   0.1s\n",
      "[CV] max_features=sqrt, n_estimators=10, max_depth=4 .................\n",
      "[CV]  max_features=sqrt, n_estimators=10, max_depth=4, score=0.635596, total=   0.1s\n",
      "[CV] max_features=sqrt, n_estimators=10, max_depth=4 .................\n",
      "[CV]  max_features=sqrt, n_estimators=10, max_depth=4, score=0.610574, total=   0.1s\n",
      "[CV] max_features=sqrt, n_estimators=20, max_depth=4 .................\n",
      "[CV]  max_features=sqrt, n_estimators=20, max_depth=4, score=0.599218, total=   0.2s\n",
      "[CV] max_features=sqrt, n_estimators=20, max_depth=4 .................\n",
      "[CV]  max_features=sqrt, n_estimators=20, max_depth=4, score=0.596621, total=   0.2s\n",
      "[CV] max_features=sqrt, n_estimators=20, max_depth=4 .................\n",
      "[CV]  max_features=sqrt, n_estimators=20, max_depth=4, score=0.587493, total=   0.2s\n",
      "[CV] max_features=sqrt, n_estimators=100, max_depth=4 ................\n",
      "[CV]  max_features=sqrt, n_estimators=100, max_depth=4, score=0.575553, total=   0.8s\n",
      "[CV] max_features=sqrt, n_estimators=100, max_depth=4 ................\n",
      "[CV]  max_features=sqrt, n_estimators=100, max_depth=4, score=0.559066, total=   0.7s\n",
      "[CV] max_features=sqrt, n_estimators=100, max_depth=4 ................\n",
      "[CV]  max_features=sqrt, n_estimators=100, max_depth=4, score=0.575800, total=   0.7s\n",
      "[CV] max_features=log2, n_estimators=10, max_depth=4 .................\n",
      "[CV]  max_features=log2, n_estimators=10, max_depth=4, score=0.617154, total=   0.1s\n",
      "[CV] max_features=log2, n_estimators=10, max_depth=4 .................\n",
      "[CV]  max_features=log2, n_estimators=10, max_depth=4, score=0.611090, total=   0.1s\n",
      "[CV] max_features=log2, n_estimators=10, max_depth=4 .................\n",
      "[CV]  max_features=log2, n_estimators=10, max_depth=4, score=0.613866, total=   0.1s\n",
      "[CV] max_features=log2, n_estimators=20, max_depth=4 .................\n",
      "[CV]  max_features=log2, n_estimators=20, max_depth=4, score=0.591143, total=   0.1s\n",
      "[CV] max_features=log2, n_estimators=20, max_depth=4 .................\n",
      "[CV]  max_features=log2, n_estimators=20, max_depth=4, score=0.590898, total=   0.1s\n",
      "[CV] max_features=log2, n_estimators=20, max_depth=4 .................\n",
      "[CV]  max_features=log2, n_estimators=20, max_depth=4, score=0.617683, total=   0.2s\n",
      "[CV] max_features=log2, n_estimators=100, max_depth=4 ................\n",
      "[CV]  max_features=log2, n_estimators=100, max_depth=4, score=0.589464, total=   0.7s\n",
      "[CV] max_features=log2, n_estimators=100, max_depth=4 ................\n",
      "[CV]  max_features=log2, n_estimators=100, max_depth=4, score=0.572913, total=   0.8s\n",
      "[CV] max_features=log2, n_estimators=100, max_depth=4 ................\n",
      "[CV]  max_features=log2, n_estimators=100, max_depth=4, score=0.573046, total=   0.8s\n",
      "[CV] max_features=sqrt, n_estimators=10, max_depth=5 .................\n",
      "[CV]  max_features=sqrt, n_estimators=10, max_depth=5, score=0.587693, total=   0.1s\n",
      "[CV] max_features=sqrt, n_estimators=10, max_depth=5 .................\n",
      "[CV]  max_features=sqrt, n_estimators=10, max_depth=5, score=0.605158, total=   0.1s\n",
      "[CV] max_features=sqrt, n_estimators=10, max_depth=5 .................\n",
      "[CV]  max_features=sqrt, n_estimators=10, max_depth=5, score=0.586842, total=   0.1s\n",
      "[CV] max_features=sqrt, n_estimators=20, max_depth=5 .................\n",
      "[CV]  max_features=sqrt, n_estimators=20, max_depth=5, score=0.583684, total=   0.1s\n",
      "[CV] max_features=sqrt, n_estimators=20, max_depth=5 .................\n"
     ]
    },
    {
     "name": "stdout",
     "output_type": "stream",
     "text": [
      "[CV]  max_features=sqrt, n_estimators=20, max_depth=5, score=0.591283, total=   0.2s\n",
      "[CV] max_features=sqrt, n_estimators=20, max_depth=5 .................\n",
      "[CV]  max_features=sqrt, n_estimators=20, max_depth=5, score=0.583610, total=   0.2s\n",
      "[CV] max_features=sqrt, n_estimators=100, max_depth=5 ................\n",
      "[CV]  max_features=sqrt, n_estimators=100, max_depth=5, score=0.550373, total=   0.7s\n",
      "[CV] max_features=sqrt, n_estimators=100, max_depth=5 ................\n",
      "[CV]  max_features=sqrt, n_estimators=100, max_depth=5, score=0.530783, total=   0.8s\n",
      "[CV] max_features=sqrt, n_estimators=100, max_depth=5 ................\n",
      "[CV]  max_features=sqrt, n_estimators=100, max_depth=5, score=0.537136, total=   0.8s\n",
      "[CV] max_features=log2, n_estimators=10, max_depth=5 .................\n",
      "[CV]  max_features=log2, n_estimators=10, max_depth=5, score=0.607882, total=   0.1s\n",
      "[CV] max_features=log2, n_estimators=10, max_depth=5 .................\n",
      "[CV]  max_features=log2, n_estimators=10, max_depth=5, score=0.599684, total=   0.1s\n",
      "[CV] max_features=log2, n_estimators=10, max_depth=5 .................\n",
      "[CV]  max_features=log2, n_estimators=10, max_depth=5, score=0.599060, total=   0.1s\n",
      "[CV] max_features=log2, n_estimators=20, max_depth=5 .................\n",
      "[CV]  max_features=log2, n_estimators=20, max_depth=5, score=0.578177, total=   0.2s\n",
      "[CV] max_features=log2, n_estimators=20, max_depth=5 .................\n",
      "[CV]  max_features=log2, n_estimators=20, max_depth=5, score=0.564734, total=   0.2s\n",
      "[CV] max_features=log2, n_estimators=20, max_depth=5 .................\n",
      "[CV]  max_features=log2, n_estimators=20, max_depth=5, score=0.590356, total=   0.2s\n",
      "[CV] max_features=log2, n_estimators=100, max_depth=5 ................\n",
      "[CV]  max_features=log2, n_estimators=100, max_depth=5, score=0.555621, total=   0.9s\n",
      "[CV] max_features=log2, n_estimators=100, max_depth=5 ................\n",
      "[CV]  max_features=log2, n_estimators=100, max_depth=5, score=0.526623, total=   0.7s\n",
      "[CV] max_features=log2, n_estimators=100, max_depth=5 ................\n",
      "[CV]  max_features=log2, n_estimators=100, max_depth=5, score=0.543207, total=   0.8s\n"
     ]
    },
    {
     "name": "stderr",
     "output_type": "stream",
     "text": [
      "[Parallel(n_jobs=1)]: Done  72 out of  72 | elapsed:   25.8s finished\n"
     ]
    }
   ],
   "source": [
    "rf_fitted_simple = rf_search_simple.fit(X_train_simple,y_train_simple)"
   ]
  },
  {
   "cell_type": "code",
   "execution_count": null,
   "metadata": {},
   "outputs": [],
   "source": [
    "weights_train_simple.shape"
   ]
  },
  {
   "cell_type": "code",
   "execution_count": 32,
   "metadata": {},
   "outputs": [
    {
     "data": {
      "image/png": "[encoded data removed]",
      "text/plain": [
       "<matplotlib.figure.Figure at 0x1169f7910>"
      ]
     },
     "metadata": {},
     "output_type": "display_data"
    }
   ],
   "source": [
    "from sklearn import metrics\n",
    "\n",
    "# calculate the fpr and tpr for all thresholds of the classification\n",
    "#Gradient Boosting\n",
    "gbc_probs_simple = gbc_fitted_simple.predict_proba(X_simple)[:,1]\n",
    "gbc_fpr_simple, gbc_tpr_simple, gbc_threshold_simple = metrics.roc_curve(y_simple, gbc_probs_simple, sample_weight=weights_simple)\n",
    "gbc_roc_auc_simple = metrics.auc(gbc_fpr_simple, gbc_tpr_simple)\n",
    "\n",
    "#Logistic Regression\n",
    "log_probs_simple = log_fitted_simple.predict_proba(X_test_simple)[:,1]\n",
    "log_fpr_simple, log_tpr_simple, log_threshold_simple = metrics.roc_curve(y_test_simple, log_probs_simple, sample_weight=weights_test_simple)\n",
    "log_roc_auc_simple = metrics.auc(log_fpr_simple, log_tpr_simple)\n",
    "\n",
    "#Random Forest\n",
    "rf_probs_simple = rf_fitted_simple.predict_proba(X_simple)[:,1]\n",
    "rf_fpr_simple, rf_tpr_simple, rf_threshold_simple = metrics.roc_curve(y_simple, gbc_probs_simple, sample_weight=weights_simple)\n",
    "rf_roc_auc_simple = metrics.auc(rf_fpr_simple, rf_tpr_simple)\n",
    "\n",
    "# method I: plt\n",
    "import matplotlib.pyplot as plt\n",
    "fig, ax = plt.subplots(figsize=(12,12))\n",
    "ax.set_title('Receiver Operating Characteristic')\n",
    "ax.plot(gbc_fpr, gbc_tpr, 'b', label = 'AUC_GBC = %0.2f' % gbc_roc_auc_simple, color='green')\n",
    "#ax.plot(log_fpr, log_tpr, 'b', label = 'AUC_LOG = %0.2f' % log_roc_auc_simple, color='red')\n",
    "ax.plot(rf_fpr, rf_tpr, 'b', label = 'AUC_RF = %0.2f' % rf_roc_auc_simple , color='blue')\n",
    "ax.legend(loc = 'lower right')\n",
    "ax.plot([0, 1], [0, 1],'r--')\n",
    "ax.set_xlim([0, 1])\n",
    "ax.set_ylim([0, 1])\n",
    "ax.set_ylabel('True Positive Rate')\n",
    "ax.set_xlabel('False Positive Rate')\n",
    "fig.savefig('roc_sep8.png')\n",
    "plt.show()"
   ]
  },
  {
   "cell_type": "code",
   "execution_count": null,
   "metadata": {
    "collapsed": true
   },
   "outputs": [],
   "source": [
    "gbc_best_fitted.feature_importances_\n",
    "feature_importances = 100*gbc_best_fitted.feature_importances_ / np.sum(gbc_best_fitted.feature_importances_)\n",
    "feature_importances, feature_names, feature_idxs = zip(*sorted(zip(feature_importances, list(X_large.columns), range(len(X_large.columns)))))\n",
    "\n",
    "width = 0.8\n",
    "\n",
    "idx = np.arange(len(X_large.columns))\n",
    "\n",
    "fig, ax = plt.subplots(figsize=(10,12))\n",
    "ax.barh(idx, feature_importances, align='center')\n",
    "plt.yticks(idx, feature_names, fontsize=8)\n",
    "\n",
    "ax.set_title(\"Feature Importances in Gradient Booster\")\n",
    "ax.set_xlabel('Relative Importance of Feature', fontsize=10)\n",
    "ax.set_ylabel('Feature Name', fontsize=16)\n",
    "fig.savefig('feat_imp_sep8.png')"
   ]
  }
 ],
 "metadata": {
  "kernelspec": {
   "display_name": "Python 2",
   "language": "python",
   "name": "python2"
  },
  "language_info": {
   "codemirror_mode": {
    "name": "ipython",
    "version": 2
   },
   "file_extension": ".py",
   "mimetype": "text/x-python",
   "name": "python",
   "nbconvert_exporter": "python",
   "pygments_lexer": "ipython2",
   "version": "2.7.13"
  }
 },
 "nbformat": 4,
 "nbformat_minor": 2
}

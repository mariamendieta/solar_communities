{
 "cells": [
  {
   "cell_type": "code",
   "execution_count": 1,
   "metadata": {
    "collapsed": true
   },
   "outputs": [],
   "source": [
    "import pandas as pd\n",
    "import matplotlib.pyplot as plt\n",
    "import numpy as np\n",
    "import sys\n",
    "sys.path.insert(0,'src/')\n",
    "import acs5\n",
    "import nyserda_acs\n",
    "import prices\n",
    "import project_sunroof\n",
    "import nyserda\n",
    "from sklearn.model_selection import GridSearchCV\n",
    "from sklearn.ensemble import GradientBoostingClassifier\n",
    "from sklearn.model_selection import train_test_split\n",
    "\n",
    "\n",
    "%matplotlib inline"
   ]
  },
  {
   "cell_type": "code",
   "execution_count": 2,
   "metadata": {
    "collapsed": true
   },
   "outputs": [],
   "source": [
    "acs = nyserda_acs.merging_data()"
   ]
  },
  {
   "cell_type": "code",
   "execution_count": 3,
   "metadata": {},
   "outputs": [
    {
     "data": {
      "text/plain": [
       "0       78.120617\n",
       "1       79.876977\n",
       "2       74.554854\n",
       "3       76.398601\n",
       "4       73.556797\n",
       "5       90.909091\n",
       "6       76.121372\n",
       "7       63.058419\n",
       "8       78.975454\n",
       "9       73.863636\n",
       "10      80.763116\n",
       "11      87.527840\n",
       "12      74.967575\n",
       "13      73.318872\n",
       "14      72.017937\n",
       "15      67.903365\n",
       "16      77.061069\n",
       "17      73.918829\n",
       "18      72.539370\n",
       "19      83.591065\n",
       "20      75.898030\n",
       "21      79.552716\n",
       "22      76.033058\n",
       "23      79.707113\n",
       "24      75.397974\n",
       "25      73.762712\n",
       "26      82.939633\n",
       "27      79.482759\n",
       "28      85.400314\n",
       "29      81.603774\n",
       "          ...    \n",
       "4888    64.017991\n",
       "4889    59.493671\n",
       "4890    53.996824\n",
       "4891    53.111111\n",
       "4892    63.047138\n",
       "4893    42.575882\n",
       "4894    58.888889\n",
       "4895    71.319797\n",
       "4896    45.796064\n",
       "4897          NaN\n",
       "4898          NaN\n",
       "4899    82.758621\n",
       "4900    82.692308\n",
       "4901          NaN\n",
       "4902          NaN\n",
       "4903          NaN\n",
       "4904          NaN\n",
       "4905          NaN\n",
       "4906          NaN\n",
       "4907          NaN\n",
       "4908          NaN\n",
       "4909          NaN\n",
       "4910          NaN\n",
       "4911          NaN\n",
       "4912          NaN\n",
       "4913          NaN\n",
       "4914          NaN\n",
       "4915          NaN\n",
       "4916          NaN\n",
       "4917          NaN\n",
       "Name: percent_qualified, Length: 4918, dtype: float64"
      ]
     },
     "execution_count": 3,
     "metadata": {},
     "output_type": "execute_result"
    }
   ],
   "source": [
    "acs.percent_qualified"
   ]
  },
  {
   "cell_type": "code",
   "execution_count": 4,
   "metadata": {},
   "outputs": [
    {
     "data": {
      "text/plain": [
       "(4918, 157)"
      ]
     },
     "execution_count": 4,
     "metadata": {},
     "output_type": "execute_result"
    }
   ],
   "source": [
    "acs.shape"
   ]
  },
  {
   "cell_type": "code",
   "execution_count": 24,
   "metadata": {},
   "outputs": [
    {
     "ename": "ValueError",
     "evalue": "cannot reshape array of size 157 into shape (26,6)",
     "output_type": "error",
     "traceback": [
      "\u001b[0;31m---------------------------------------------------------------------------\u001b[0m",
      "\u001b[0;31mValueError\u001b[0m                                Traceback (most recent call last)",
      "\u001b[0;32m<ipython-input-24-947e1528f1f6>\u001b[0m in \u001b[0;36m<module>\u001b[0;34m()\u001b[0m\n\u001b[0;32m----> 1\u001b[0;31m \u001b[0mpd\u001b[0m\u001b[0;34m.\u001b[0m\u001b[0mDataFrame\u001b[0m\u001b[0;34m(\u001b[0m\u001b[0mnp\u001b[0m\u001b[0;34m.\u001b[0m\u001b[0marray\u001b[0m\u001b[0;34m(\u001b[0m\u001b[0macs\u001b[0m\u001b[0;34m.\u001b[0m\u001b[0mcolumns\u001b[0m\u001b[0;34m)\u001b[0m\u001b[0;34m.\u001b[0m\u001b[0mreshape\u001b[0m\u001b[0;34m(\u001b[0m\u001b[0;36m26\u001b[0m\u001b[0;34m,\u001b[0m\u001b[0;36m6\u001b[0m\u001b[0;34m)\u001b[0m\u001b[0;34m)\u001b[0m\u001b[0;34m\u001b[0m\u001b[0m\n\u001b[0m",
      "\u001b[0;31mValueError\u001b[0m: cannot reshape array of size 157 into shape (26,6)"
     ]
    }
   ],
   "source": [
    "pd.DataFrame(np.array(acs.columns).reshape(26,6))"
   ]
  },
  {
   "cell_type": "code",
   "execution_count": 5,
   "metadata": {},
   "outputs": [],
   "source": [
    "a = acs5.Get_census_data()\n",
    "b = a.get_acs_all()"
   ]
  },
  {
   "cell_type": "code",
   "execution_count": 6,
   "metadata": {},
   "outputs": [],
   "source": [
    "acs_variables = a.education_percent + a.other_households + a.units_percent + a.heating_percent + a.rooms_percent"
   ]
  },
  {
   "cell_type": "code",
   "execution_count": 7,
   "metadata": {},
   "outputs": [
    {
     "data": {
      "text/plain": [
       "['Percent_Less_9th',\n",
       " 'Percent_12th_no_dip',\n",
       " 'Percent_HighSchool',\n",
       " 'Percent_Some_college',\n",
       " 'Percent_Associate',\n",
       " 'Percent_Bachelors',\n",
       " 'Percent_Graduate',\n",
       " 'Percent_more_than_hs',\n",
       " 'Avg_hh_size',\n",
       " 'Median_age',\n",
       " 'Percent_hh_w_children',\n",
       " 'Percent_1_unit_detached',\n",
       " 'Percent_1_unit_attached',\n",
       " 'Percent_2_units',\n",
       " 'Percent_3_4_units',\n",
       " 'Percent_5_9_units',\n",
       " 'Percent_10_19_units',\n",
       " 'Percent_20+_units',\n",
       " 'Percent_10+_units',\n",
       " 'Percent_1_unit',\n",
       " 'Percent_Heating_gas',\n",
       " 'Percent_Heating_gas_tank',\n",
       " 'Percent_Heating_electricity',\n",
       " 'Percent_Heating_fuelkero',\n",
       " 'Percent_Heating_coal_coke',\n",
       " 'Percent_Heating_wood',\n",
       " 'Percent_Heating_solar',\n",
       " 'Percent_Heating_other',\n",
       " 'Percent_Heating_no',\n",
       " 'Percent_1_room',\n",
       " 'Percent_2_rooms',\n",
       " 'Percent_3_rooms',\n",
       " 'Percent_4_rooms',\n",
       " 'Percent_5_rooms',\n",
       " 'Percent_6_rooms',\n",
       " 'Percent_7_rooms',\n",
       " 'Percent_8_rooms',\n",
       " 'Percent_9_more_rooms',\n",
       " 'median_rooms']"
      ]
     },
     "execution_count": 7,
     "metadata": {},
     "output_type": "execute_result"
    }
   ],
   "source": [
    "acs_variables"
   ]
  },
  {
   "cell_type": "code",
   "execution_count": 8,
   "metadata": {},
   "outputs": [
    {
     "name": "stderr",
     "output_type": "stream",
     "text": [
      "/Users/mariamendieta/anaconda2/lib/python2.7/site-packages/pandas/core/indexing.py:337: SettingWithCopyWarning: \n",
      "A value is trying to be set on a copy of a slice from a DataFrame.\n",
      "Try using .loc[row_indexer,col_indexer] = value instead\n",
      "\n",
      "See the caveats in the documentation: http://pandas.pydata.org/pandas-docs/stable/indexing.html#indexing-view-versus-copy\n",
      "  self.obj[key] = _infer_fill_value(value)\n",
      "/Users/mariamendieta/anaconda2/lib/python2.7/site-packages/pandas/core/indexing.py:517: SettingWithCopyWarning: \n",
      "A value is trying to be set on a copy of a slice from a DataFrame.\n",
      "Try using .loc[row_indexer,col_indexer] = value instead\n",
      "\n",
      "See the caveats in the documentation: http://pandas.pydata.org/pandas-docs/stable/indexing.html#indexing-view-versus-copy\n",
      "  self.obj[item] = s\n"
     ]
    }
   ],
   "source": [
    "#Creating new dataframe with only positive cases\n",
    "temp = acs.loc[acs['Project_yes']==1,:]\n",
    "#Creating weights for negative class in positive cases\n",
    "temp.loc[:,'Project_yes'] ==0\n",
    "temp.loc[:,'weight'] = temp.loc[:,'households']-temp.loc[:,'Project_Number']\n",
    "#Creating weights for positive class\n",
    "temp2 = acs.loc[acs['Project_yes']==1,:]\n",
    "temp2.loc[:,'weight']=temp2.loc[:,'Project_Number']\n",
    "#Creating weights for negative classe\n",
    "temp3 =acs.loc[acs['Project_yes']==0,:]\n",
    "temp3.loc[:,'weight']=temp3.loc[:,'households']\n",
    "#Concatenating\n",
    "data = temp.append(temp2.append(temp3, ignore_index=True), ignore_index=True)"
   ]
  },
  {
   "cell_type": "code",
   "execution_count": 9,
   "metadata": {},
   "outputs": [
    {
     "data": {
      "text/html": [
       "<div>\n",
       "<style>\n",
       "    .dataframe thead tr:only-child th {\n",
       "        text-align: right;\n",
       "    }\n",
       "\n",
       "    .dataframe thead th {\n",
       "        text-align: left;\n",
       "    }\n",
       "\n",
       "    .dataframe tbody tr th {\n",
       "        vertical-align: top;\n",
       "    }\n",
       "</style>\n",
       "<table border=\"1\" class=\"dataframe\">\n",
       "  <thead>\n",
       "    <tr style=\"text-align: right;\">\n",
       "      <th></th>\n",
       "      <th>Percent_Less_9th</th>\n",
       "      <th>Percent_12th_no_dip</th>\n",
       "      <th>Percent_HighSchool</th>\n",
       "      <th>Percent_Some_college</th>\n",
       "      <th>Percent_Associate</th>\n",
       "      <th>Percent_Bachelors</th>\n",
       "      <th>Percent_Graduate</th>\n",
       "      <th>Percent_more_than_hs</th>\n",
       "      <th>Avg_hh_size</th>\n",
       "      <th>Median_age</th>\n",
       "      <th>...</th>\n",
       "      <th>Percent_9_more_rooms</th>\n",
       "      <th>median_rooms</th>\n",
       "      <th>Project_yes</th>\n",
       "      <th>Mean_price</th>\n",
       "      <th>Var_price</th>\n",
       "      <th>percent_qualified</th>\n",
       "      <th>yearly_sunlight_kwh_total</th>\n",
       "      <th>number_of_panels_median</th>\n",
       "      <th>kw_median</th>\n",
       "      <th>weight</th>\n",
       "    </tr>\n",
       "  </thead>\n",
       "  <tbody>\n",
       "    <tr>\n",
       "      <th>count</th>\n",
       "      <td>4289.000000</td>\n",
       "      <td>4289.000000</td>\n",
       "      <td>4289.000000</td>\n",
       "      <td>4289.000000</td>\n",
       "      <td>4289.000000</td>\n",
       "      <td>4289.000000</td>\n",
       "      <td>4289.000000</td>\n",
       "      <td>4289.000000</td>\n",
       "      <td>4289.000000</td>\n",
       "      <td>4289.000000</td>\n",
       "      <td>...</td>\n",
       "      <td>4289.000000</td>\n",
       "      <td>4289.000000</td>\n",
       "      <td>4289.000000</td>\n",
       "      <td>4289.000000</td>\n",
       "      <td>4289.000000</td>\n",
       "      <td>4289.000000</td>\n",
       "      <td>4.289000e+03</td>\n",
       "      <td>4289.000000</td>\n",
       "      <td>4289.000000</td>\n",
       "      <td>4289.000000</td>\n",
       "    </tr>\n",
       "    <tr>\n",
       "      <th>mean</th>\n",
       "      <td>0.072581</td>\n",
       "      <td>0.080996</td>\n",
       "      <td>0.262341</td>\n",
       "      <td>0.160854</td>\n",
       "      <td>0.081335</td>\n",
       "      <td>0.195876</td>\n",
       "      <td>0.146016</td>\n",
       "      <td>0.584081</td>\n",
       "      <td>2.729811</td>\n",
       "      <td>38.466869</td>\n",
       "      <td>...</td>\n",
       "      <td>0.085623</td>\n",
       "      <td>5.103031</td>\n",
       "      <td>0.273723</td>\n",
       "      <td>30.042286</td>\n",
       "      <td>228.467833</td>\n",
       "      <td>73.995353</td>\n",
       "      <td>9.928035e+06</td>\n",
       "      <td>35.380975</td>\n",
       "      <td>8.845244</td>\n",
       "      <td>1308.478900</td>\n",
       "    </tr>\n",
       "    <tr>\n",
       "      <th>std</th>\n",
       "      <td>0.069038</td>\n",
       "      <td>0.058684</td>\n",
       "      <td>0.095372</td>\n",
       "      <td>0.052144</td>\n",
       "      <td>0.038141</td>\n",
       "      <td>0.094246</td>\n",
       "      <td>0.110758</td>\n",
       "      <td>0.170069</td>\n",
       "      <td>0.559815</td>\n",
       "      <td>6.977699</td>\n",
       "      <td>...</td>\n",
       "      <td>0.084252</td>\n",
       "      <td>1.287503</td>\n",
       "      <td>0.445921</td>\n",
       "      <td>3.926662</td>\n",
       "      <td>116.457813</td>\n",
       "      <td>13.072101</td>\n",
       "      <td>1.235339e+07</td>\n",
       "      <td>73.379695</td>\n",
       "      <td>18.344924</td>\n",
       "      <td>919.860618</td>\n",
       "    </tr>\n",
       "    <tr>\n",
       "      <th>min</th>\n",
       "      <td>0.000000</td>\n",
       "      <td>0.000000</td>\n",
       "      <td>0.000000</td>\n",
       "      <td>0.000000</td>\n",
       "      <td>0.000000</td>\n",
       "      <td>0.000000</td>\n",
       "      <td>0.000000</td>\n",
       "      <td>0.096257</td>\n",
       "      <td>1.030000</td>\n",
       "      <td>12.400000</td>\n",
       "      <td>...</td>\n",
       "      <td>0.000000</td>\n",
       "      <td>1.300000</td>\n",
       "      <td>0.000000</td>\n",
       "      <td>18.309167</td>\n",
       "      <td>95.470254</td>\n",
       "      <td>21.212121</td>\n",
       "      <td>2.178341e+03</td>\n",
       "      <td>8.000000</td>\n",
       "      <td>2.000000</td>\n",
       "      <td>-81.000000</td>\n",
       "    </tr>\n",
       "    <tr>\n",
       "      <th>25%</th>\n",
       "      <td>0.020797</td>\n",
       "      <td>0.034765</td>\n",
       "      <td>0.204070</td>\n",
       "      <td>0.124364</td>\n",
       "      <td>0.053374</td>\n",
       "      <td>0.126248</td>\n",
       "      <td>0.061810</td>\n",
       "      <td>0.457612</td>\n",
       "      <td>2.350000</td>\n",
       "      <td>33.400000</td>\n",
       "      <td>...</td>\n",
       "      <td>0.022272</td>\n",
       "      <td>4.000000</td>\n",
       "      <td>0.000000</td>\n",
       "      <td>29.881834</td>\n",
       "      <td>188.915562</td>\n",
       "      <td>66.229508</td>\n",
       "      <td>3.033521e+06</td>\n",
       "      <td>20.000000</td>\n",
       "      <td>5.000000</td>\n",
       "      <td>704.000000</td>\n",
       "    </tr>\n",
       "    <tr>\n",
       "      <th>50%</th>\n",
       "      <td>0.049110</td>\n",
       "      <td>0.067789</td>\n",
       "      <td>0.269750</td>\n",
       "      <td>0.160604</td>\n",
       "      <td>0.078947</td>\n",
       "      <td>0.183888</td>\n",
       "      <td>0.117902</td>\n",
       "      <td>0.583501</td>\n",
       "      <td>2.690000</td>\n",
       "      <td>38.500000</td>\n",
       "      <td>...</td>\n",
       "      <td>0.059374</td>\n",
       "      <td>5.100000</td>\n",
       "      <td>0.000000</td>\n",
       "      <td>30.932676</td>\n",
       "      <td>188.915562</td>\n",
       "      <td>75.785582</td>\n",
       "      <td>5.319926e+06</td>\n",
       "      <td>25.000000</td>\n",
       "      <td>6.250000</td>\n",
       "      <td>1232.000000</td>\n",
       "    </tr>\n",
       "    <tr>\n",
       "      <th>75%</th>\n",
       "      <td>0.103478</td>\n",
       "      <td>0.114107</td>\n",
       "      <td>0.326675</td>\n",
       "      <td>0.195069</td>\n",
       "      <td>0.104987</td>\n",
       "      <td>0.252895</td>\n",
       "      <td>0.200171</td>\n",
       "      <td>0.703412</td>\n",
       "      <td>3.080000</td>\n",
       "      <td>43.300000</td>\n",
       "      <td>...</td>\n",
       "      <td>0.125581</td>\n",
       "      <td>6.100000</td>\n",
       "      <td>1.000000</td>\n",
       "      <td>30.932676</td>\n",
       "      <td>195.928370</td>\n",
       "      <td>83.448276</td>\n",
       "      <td>1.292156e+07</td>\n",
       "      <td>31.000000</td>\n",
       "      <td>7.750000</td>\n",
       "      <td>1785.000000</td>\n",
       "    </tr>\n",
       "    <tr>\n",
       "      <th>max</th>\n",
       "      <td>0.445956</td>\n",
       "      <td>0.356589</td>\n",
       "      <td>0.666667</td>\n",
       "      <td>0.448276</td>\n",
       "      <td>0.222928</td>\n",
       "      <td>0.590695</td>\n",
       "      <td>0.695565</td>\n",
       "      <td>1.000000</td>\n",
       "      <td>6.270000</td>\n",
       "      <td>82.000000</td>\n",
       "      <td>...</td>\n",
       "      <td>0.490280</td>\n",
       "      <td>8.500000</td>\n",
       "      <td>1.000000</td>\n",
       "      <td>35.571604</td>\n",
       "      <td>477.108098</td>\n",
       "      <td>100.000000</td>\n",
       "      <td>1.720241e+08</td>\n",
       "      <td>3980.000000</td>\n",
       "      <td>995.000000</td>\n",
       "      <td>12305.000000</td>\n",
       "    </tr>\n",
       "  </tbody>\n",
       "</table>\n",
       "<p>8 rows × 47 columns</p>\n",
       "</div>"
      ],
      "text/plain": [
       "       Percent_Less_9th  Percent_12th_no_dip  Percent_HighSchool  \\\n",
       "count       4289.000000          4289.000000         4289.000000   \n",
       "mean           0.072581             0.080996            0.262341   \n",
       "std            0.069038             0.058684            0.095372   \n",
       "min            0.000000             0.000000            0.000000   \n",
       "25%            0.020797             0.034765            0.204070   \n",
       "50%            0.049110             0.067789            0.269750   \n",
       "75%            0.103478             0.114107            0.326675   \n",
       "max            0.445956             0.356589            0.666667   \n",
       "\n",
       "       Percent_Some_college  Percent_Associate  Percent_Bachelors  \\\n",
       "count           4289.000000        4289.000000        4289.000000   \n",
       "mean               0.160854           0.081335           0.195876   \n",
       "std                0.052144           0.038141           0.094246   \n",
       "min                0.000000           0.000000           0.000000   \n",
       "25%                0.124364           0.053374           0.126248   \n",
       "50%                0.160604           0.078947           0.183888   \n",
       "75%                0.195069           0.104987           0.252895   \n",
       "max                0.448276           0.222928           0.590695   \n",
       "\n",
       "       Percent_Graduate  Percent_more_than_hs  Avg_hh_size   Median_age  \\\n",
       "count       4289.000000           4289.000000  4289.000000  4289.000000   \n",
       "mean           0.146016              0.584081     2.729811    38.466869   \n",
       "std            0.110758              0.170069     0.559815     6.977699   \n",
       "min            0.000000              0.096257     1.030000    12.400000   \n",
       "25%            0.061810              0.457612     2.350000    33.400000   \n",
       "50%            0.117902              0.583501     2.690000    38.500000   \n",
       "75%            0.200171              0.703412     3.080000    43.300000   \n",
       "max            0.695565              1.000000     6.270000    82.000000   \n",
       "\n",
       "           ...       Percent_9_more_rooms  median_rooms  Project_yes  \\\n",
       "count      ...                4289.000000   4289.000000  4289.000000   \n",
       "mean       ...                   0.085623      5.103031     0.273723   \n",
       "std        ...                   0.084252      1.287503     0.445921   \n",
       "min        ...                   0.000000      1.300000     0.000000   \n",
       "25%        ...                   0.022272      4.000000     0.000000   \n",
       "50%        ...                   0.059374      5.100000     0.000000   \n",
       "75%        ...                   0.125581      6.100000     1.000000   \n",
       "max        ...                   0.490280      8.500000     1.000000   \n",
       "\n",
       "        Mean_price    Var_price  percent_qualified  yearly_sunlight_kwh_total  \\\n",
       "count  4289.000000  4289.000000        4289.000000               4.289000e+03   \n",
       "mean     30.042286   228.467833          73.995353               9.928035e+06   \n",
       "std       3.926662   116.457813          13.072101               1.235339e+07   \n",
       "min      18.309167    95.470254          21.212121               2.178341e+03   \n",
       "25%      29.881834   188.915562          66.229508               3.033521e+06   \n",
       "50%      30.932676   188.915562          75.785582               5.319926e+06   \n",
       "75%      30.932676   195.928370          83.448276               1.292156e+07   \n",
       "max      35.571604   477.108098         100.000000               1.720241e+08   \n",
       "\n",
       "       number_of_panels_median    kw_median        weight  \n",
       "count              4289.000000  4289.000000   4289.000000  \n",
       "mean                 35.380975     8.845244   1308.478900  \n",
       "std                  73.379695    18.344924    919.860618  \n",
       "min                   8.000000     2.000000    -81.000000  \n",
       "25%                  20.000000     5.000000    704.000000  \n",
       "50%                  25.000000     6.250000   1232.000000  \n",
       "75%                  31.000000     7.750000   1785.000000  \n",
       "max                3980.000000   995.000000  12305.000000  \n",
       "\n",
       "[8 rows x 47 columns]"
      ]
     },
     "execution_count": 9,
     "metadata": {},
     "output_type": "execute_result"
    }
   ],
   "source": [
    "acs_variables.append('Project_yes')\n",
    "acs_variables.append('Mean_price')\n",
    "acs_variables.append('Var_price')\n",
    "acs_variables.append('percent_qualified')\n",
    "acs_variables.append('yearly_sunlight_kwh_total')\n",
    "acs_variables.append('number_of_panels_median')\n",
    "acs_variables.append('kw_median')\n",
    "acs_variables.append('weight')\n",
    "X=data[acs_variables].dropna()\n",
    "X.describe()"
   ]
  },
  {
   "cell_type": "code",
   "execution_count": 10,
   "metadata": {},
   "outputs": [
    {
     "data": {
      "text/html": [
       "<div>\n",
       "<style>\n",
       "    .dataframe thead tr:only-child th {\n",
       "        text-align: right;\n",
       "    }\n",
       "\n",
       "    .dataframe thead th {\n",
       "        text-align: left;\n",
       "    }\n",
       "\n",
       "    .dataframe tbody tr th {\n",
       "        vertical-align: top;\n",
       "    }\n",
       "</style>\n",
       "<table border=\"1\" class=\"dataframe\">\n",
       "  <thead>\n",
       "    <tr style=\"text-align: right;\">\n",
       "      <th></th>\n",
       "      <th>Percent_Less_9th</th>\n",
       "      <th>Percent_12th_no_dip</th>\n",
       "      <th>Percent_HighSchool</th>\n",
       "      <th>Percent_Some_college</th>\n",
       "      <th>Percent_Associate</th>\n",
       "      <th>Percent_Bachelors</th>\n",
       "      <th>Percent_Graduate</th>\n",
       "      <th>Percent_more_than_hs</th>\n",
       "      <th>Avg_hh_size</th>\n",
       "      <th>Median_age</th>\n",
       "      <th>...</th>\n",
       "      <th>Percent_9_more_rooms</th>\n",
       "      <th>median_rooms</th>\n",
       "      <th>Project_yes</th>\n",
       "      <th>Mean_price</th>\n",
       "      <th>Var_price</th>\n",
       "      <th>percent_qualified</th>\n",
       "      <th>yearly_sunlight_kwh_total</th>\n",
       "      <th>number_of_panels_median</th>\n",
       "      <th>kw_median</th>\n",
       "      <th>weight</th>\n",
       "    </tr>\n",
       "  </thead>\n",
       "  <tbody>\n",
       "    <tr>\n",
       "      <th>0</th>\n",
       "      <td>0.027919</td>\n",
       "      <td>0.095722</td>\n",
       "      <td>0.489123</td>\n",
       "      <td>0.209935</td>\n",
       "      <td>0.052212</td>\n",
       "      <td>0.079768</td>\n",
       "      <td>0.045323</td>\n",
       "      <td>0.387237</td>\n",
       "      <td>2.21</td>\n",
       "      <td>32.9</td>\n",
       "      <td>...</td>\n",
       "      <td>0.043718</td>\n",
       "      <td>4.6</td>\n",
       "      <td>1</td>\n",
       "      <td>29.951927</td>\n",
       "      <td>195.92837</td>\n",
       "      <td>79.876977</td>\n",
       "      <td>1.909611e+07</td>\n",
       "      <td>25.0</td>\n",
       "      <td>6.25</td>\n",
       "      <td>1990.0</td>\n",
       "    </tr>\n",
       "    <tr>\n",
       "      <th>1</th>\n",
       "      <td>0.048816</td>\n",
       "      <td>0.063724</td>\n",
       "      <td>0.404560</td>\n",
       "      <td>0.149664</td>\n",
       "      <td>0.064893</td>\n",
       "      <td>0.123356</td>\n",
       "      <td>0.144987</td>\n",
       "      <td>0.482900</td>\n",
       "      <td>2.19</td>\n",
       "      <td>34.2</td>\n",
       "      <td>...</td>\n",
       "      <td>0.036364</td>\n",
       "      <td>5.1</td>\n",
       "      <td>1</td>\n",
       "      <td>29.951927</td>\n",
       "      <td>195.92837</td>\n",
       "      <td>74.554854</td>\n",
       "      <td>4.708499e+07</td>\n",
       "      <td>28.0</td>\n",
       "      <td>7.00</td>\n",
       "      <td>2310.0</td>\n",
       "    </tr>\n",
       "    <tr>\n",
       "      <th>2</th>\n",
       "      <td>0.055459</td>\n",
       "      <td>0.082096</td>\n",
       "      <td>0.341921</td>\n",
       "      <td>0.169869</td>\n",
       "      <td>0.093013</td>\n",
       "      <td>0.157205</td>\n",
       "      <td>0.100437</td>\n",
       "      <td>0.520524</td>\n",
       "      <td>2.17</td>\n",
       "      <td>30.8</td>\n",
       "      <td>...</td>\n",
       "      <td>0.043165</td>\n",
       "      <td>5.0</td>\n",
       "      <td>1</td>\n",
       "      <td>29.951927</td>\n",
       "      <td>195.92837</td>\n",
       "      <td>76.121372</td>\n",
       "      <td>8.430451e+06</td>\n",
       "      <td>25.0</td>\n",
       "      <td>6.25</td>\n",
       "      <td>1656.0</td>\n",
       "    </tr>\n",
       "    <tr>\n",
       "      <th>3</th>\n",
       "      <td>0.116367</td>\n",
       "      <td>0.069063</td>\n",
       "      <td>0.349101</td>\n",
       "      <td>0.145695</td>\n",
       "      <td>0.054872</td>\n",
       "      <td>0.173132</td>\n",
       "      <td>0.091769</td>\n",
       "      <td>0.465468</td>\n",
       "      <td>1.44</td>\n",
       "      <td>47.2</td>\n",
       "      <td>...</td>\n",
       "      <td>0.006024</td>\n",
       "      <td>3.1</td>\n",
       "      <td>1</td>\n",
       "      <td>29.951927</td>\n",
       "      <td>195.92837</td>\n",
       "      <td>87.527840</td>\n",
       "      <td>3.000767e+07</td>\n",
       "      <td>62.0</td>\n",
       "      <td>15.50</td>\n",
       "      <td>660.0</td>\n",
       "    </tr>\n",
       "    <tr>\n",
       "      <th>4</th>\n",
       "      <td>0.006625</td>\n",
       "      <td>0.021078</td>\n",
       "      <td>0.123457</td>\n",
       "      <td>0.183077</td>\n",
       "      <td>0.114724</td>\n",
       "      <td>0.271304</td>\n",
       "      <td>0.279735</td>\n",
       "      <td>0.848841</td>\n",
       "      <td>2.40</td>\n",
       "      <td>36.3</td>\n",
       "      <td>...</td>\n",
       "      <td>0.111748</td>\n",
       "      <td>5.6</td>\n",
       "      <td>1</td>\n",
       "      <td>29.951927</td>\n",
       "      <td>195.92837</td>\n",
       "      <td>67.903365</td>\n",
       "      <td>1.061949e+07</td>\n",
       "      <td>23.0</td>\n",
       "      <td>5.75</td>\n",
       "      <td>1847.0</td>\n",
       "    </tr>\n",
       "  </tbody>\n",
       "</table>\n",
       "<p>5 rows × 47 columns</p>\n",
       "</div>"
      ],
      "text/plain": [
       "   Percent_Less_9th  Percent_12th_no_dip  Percent_HighSchool  \\\n",
       "0          0.027919             0.095722            0.489123   \n",
       "1          0.048816             0.063724            0.404560   \n",
       "2          0.055459             0.082096            0.341921   \n",
       "3          0.116367             0.069063            0.349101   \n",
       "4          0.006625             0.021078            0.123457   \n",
       "\n",
       "   Percent_Some_college  Percent_Associate  Percent_Bachelors  \\\n",
       "0              0.209935           0.052212           0.079768   \n",
       "1              0.149664           0.064893           0.123356   \n",
       "2              0.169869           0.093013           0.157205   \n",
       "3              0.145695           0.054872           0.173132   \n",
       "4              0.183077           0.114724           0.271304   \n",
       "\n",
       "   Percent_Graduate  Percent_more_than_hs  Avg_hh_size  Median_age   ...    \\\n",
       "0          0.045323              0.387237         2.21        32.9   ...     \n",
       "1          0.144987              0.482900         2.19        34.2   ...     \n",
       "2          0.100437              0.520524         2.17        30.8   ...     \n",
       "3          0.091769              0.465468         1.44        47.2   ...     \n",
       "4          0.279735              0.848841         2.40        36.3   ...     \n",
       "\n",
       "   Percent_9_more_rooms  median_rooms  Project_yes  Mean_price  Var_price  \\\n",
       "0              0.043718           4.6            1   29.951927  195.92837   \n",
       "1              0.036364           5.1            1   29.951927  195.92837   \n",
       "2              0.043165           5.0            1   29.951927  195.92837   \n",
       "3              0.006024           3.1            1   29.951927  195.92837   \n",
       "4              0.111748           5.6            1   29.951927  195.92837   \n",
       "\n",
       "   percent_qualified  yearly_sunlight_kwh_total  number_of_panels_median  \\\n",
       "0          79.876977               1.909611e+07                     25.0   \n",
       "1          74.554854               4.708499e+07                     28.0   \n",
       "2          76.121372               8.430451e+06                     25.0   \n",
       "3          87.527840               3.000767e+07                     62.0   \n",
       "4          67.903365               1.061949e+07                     23.0   \n",
       "\n",
       "   kw_median  weight  \n",
       "0       6.25  1990.0  \n",
       "1       7.00  2310.0  \n",
       "2       6.25  1656.0  \n",
       "3      15.50   660.0  \n",
       "4       5.75  1847.0  \n",
       "\n",
       "[5 rows x 47 columns]"
      ]
     },
     "execution_count": 10,
     "metadata": {},
     "output_type": "execute_result"
    }
   ],
   "source": [
    "X.head()"
   ]
  },
  {
   "cell_type": "code",
   "execution_count": 11,
   "metadata": {},
   "outputs": [
    {
     "data": {
      "text/plain": [
       "array([1, 0])"
      ]
     },
     "execution_count": 11,
     "metadata": {},
     "output_type": "execute_result"
    }
   ],
   "source": [
    "X.Project_yes.unique()"
   ]
  },
  {
   "cell_type": "code",
   "execution_count": 12,
   "metadata": {},
   "outputs": [
    {
     "data": {
      "text/plain": [
       "0.27372347866635577"
      ]
     },
     "execution_count": 12,
     "metadata": {},
     "output_type": "execute_result"
    }
   ],
   "source": [
    "np.mean(X.Project_yes)"
   ]
  },
  {
   "cell_type": "code",
   "execution_count": 13,
   "metadata": {},
   "outputs": [],
   "source": [
    "y=X['Project_yes']\n",
    "weights=X['weight']\n",
    "X=X.drop(['Project_yes', 'weight'], axis=1)"
   ]
  },
  {
   "cell_type": "code",
   "execution_count": 14,
   "metadata": {},
   "outputs": [
    {
     "data": {
      "text/plain": [
       "array([1, 0])"
      ]
     },
     "execution_count": 14,
     "metadata": {},
     "output_type": "execute_result"
    }
   ],
   "source": [
    "y.unique()"
   ]
  },
  {
   "cell_type": "code",
   "execution_count": 15,
   "metadata": {
    "collapsed": true
   },
   "outputs": [],
   "source": [
    "X_train, X_test, y_train, y_test, weights_train, weights_test = train_test_split(X, y, weights, test_size=0.3, random_state=42)"
   ]
  },
  {
   "cell_type": "code",
   "execution_count": 58,
   "metadata": {},
   "outputs": [],
   "source": [
    "model = GradientBoostingClassifier()\n",
    "search = GridSearchCV(model, param_grid = {'n_estimators' : [500, 1000], 'subsample' :[0.5,0.8],\n",
    "                                           'max_depth': [2,3,4,5], 'learning_rate' : [0.01, 0.001]}, \n",
    "             scoring='recall', fit_params={'sample_weight': weights_train}, n_jobs=1, iid=True, refit=True, \n",
    "             cv=None, verbose=5, pre_dispatch='2*n_jobs', error_score='raise', return_train_score=True)"
   ]
  },
  {
   "cell_type": "code",
   "execution_count": 59,
   "metadata": {
    "scrolled": true
   },
   "outputs": [
    {
     "name": "stdout",
     "output_type": "stream",
     "text": [
      "Fitting 3 folds for each of 32 candidates, totalling 96 fits\n",
      "[CV] n_estimators=500, subsample=0.5, learning_rate=0.01, max_depth=2 \n",
      "[CV]  n_estimators=500, subsample=0.5, learning_rate=0.01, max_depth=2, score=0.453039, total=   2.7s\n",
      "[CV] n_estimators=500, subsample=0.5, learning_rate=0.01, max_depth=2 \n"
     ]
    },
    {
     "name": "stderr",
     "output_type": "stream",
     "text": [
      "[Parallel(n_jobs=1)]: Done   1 out of   1 | elapsed:    2.7s remaining:    0.0s\n"
     ]
    },
    {
     "name": "stdout",
     "output_type": "stream",
     "text": [
      "[CV]  n_estimators=500, subsample=0.5, learning_rate=0.01, max_depth=2, score=0.488930, total=   2.6s\n",
      "[CV] n_estimators=500, subsample=0.5, learning_rate=0.01, max_depth=2 \n"
     ]
    },
    {
     "name": "stderr",
     "output_type": "stream",
     "text": [
      "[Parallel(n_jobs=1)]: Done   2 out of   2 | elapsed:    5.3s remaining:    0.0s\n"
     ]
    },
    {
     "name": "stdout",
     "output_type": "stream",
     "text": [
      "[CV]  n_estimators=500, subsample=0.5, learning_rate=0.01, max_depth=2, score=0.464945, total=   2.6s\n",
      "[CV] n_estimators=500, subsample=0.8, learning_rate=0.01, max_depth=2 \n"
     ]
    },
    {
     "name": "stderr",
     "output_type": "stream",
     "text": [
      "[Parallel(n_jobs=1)]: Done   3 out of   3 | elapsed:    8.0s remaining:    0.0s\n"
     ]
    },
    {
     "name": "stdout",
     "output_type": "stream",
     "text": [
      "[CV]  n_estimators=500, subsample=0.8, learning_rate=0.01, max_depth=2, score=0.447514, total=   3.2s\n",
      "[CV] n_estimators=500, subsample=0.8, learning_rate=0.01, max_depth=2 \n"
     ]
    },
    {
     "name": "stderr",
     "output_type": "stream",
     "text": [
      "[Parallel(n_jobs=1)]: Done   4 out of   4 | elapsed:   11.3s remaining:    0.0s\n"
     ]
    },
    {
     "name": "stdout",
     "output_type": "stream",
     "text": [
      "[CV]  n_estimators=500, subsample=0.8, learning_rate=0.01, max_depth=2, score=0.476015, total=   3.1s\n",
      "[CV] n_estimators=500, subsample=0.8, learning_rate=0.01, max_depth=2 \n",
      "[CV]  n_estimators=500, subsample=0.8, learning_rate=0.01, max_depth=2, score=0.459410, total=   3.0s\n",
      "[CV] n_estimators=1000, subsample=0.5, learning_rate=0.01, max_depth=2 \n",
      "[CV]  n_estimators=1000, subsample=0.5, learning_rate=0.01, max_depth=2, score=0.475138, total=   5.8s\n",
      "[CV] n_estimators=1000, subsample=0.5, learning_rate=0.01, max_depth=2 \n",
      "[CV]  n_estimators=1000, subsample=0.5, learning_rate=0.01, max_depth=2, score=0.511070, total=   5.5s\n",
      "[CV] n_estimators=1000, subsample=0.5, learning_rate=0.01, max_depth=2 \n",
      "[CV]  n_estimators=1000, subsample=0.5, learning_rate=0.01, max_depth=2, score=0.476015, total=   5.2s\n",
      "[CV] n_estimators=1000, subsample=0.8, learning_rate=0.01, max_depth=2 \n",
      "[CV]  n_estimators=1000, subsample=0.8, learning_rate=0.01, max_depth=2, score=0.465930, total=   6.2s\n",
      "[CV] n_estimators=1000, subsample=0.8, learning_rate=0.01, max_depth=2 \n",
      "[CV]  n_estimators=1000, subsample=0.8, learning_rate=0.01, max_depth=2, score=0.496310, total=   6.1s\n",
      "[CV] n_estimators=1000, subsample=0.8, learning_rate=0.01, max_depth=2 \n",
      "[CV]  n_estimators=1000, subsample=0.8, learning_rate=0.01, max_depth=2, score=0.476015, total=   6.1s\n",
      "[CV] n_estimators=500, subsample=0.5, learning_rate=0.01, max_depth=3 \n",
      "[CV]  n_estimators=500, subsample=0.5, learning_rate=0.01, max_depth=3, score=0.471455, total=   3.9s\n",
      "[CV] n_estimators=500, subsample=0.5, learning_rate=0.01, max_depth=3 \n",
      "[CV]  n_estimators=500, subsample=0.5, learning_rate=0.01, max_depth=3, score=0.512915, total=   4.3s\n",
      "[CV] n_estimators=500, subsample=0.5, learning_rate=0.01, max_depth=3 \n",
      "[CV]  n_estimators=500, subsample=0.5, learning_rate=0.01, max_depth=3, score=0.476015, total=   4.0s\n",
      "[CV] n_estimators=500, subsample=0.8, learning_rate=0.01, max_depth=3 \n",
      "[CV]  n_estimators=500, subsample=0.8, learning_rate=0.01, max_depth=3, score=0.462247, total=   5.1s\n",
      "[CV] n_estimators=500, subsample=0.8, learning_rate=0.01, max_depth=3 \n",
      "[CV]  n_estimators=500, subsample=0.8, learning_rate=0.01, max_depth=3, score=0.501845, total=   4.9s\n",
      "[CV] n_estimators=500, subsample=0.8, learning_rate=0.01, max_depth=3 \n",
      "[CV]  n_estimators=500, subsample=0.8, learning_rate=0.01, max_depth=3, score=0.470480, total=   5.3s\n",
      "[CV] n_estimators=1000, subsample=0.5, learning_rate=0.01, max_depth=3 \n",
      "[CV]  n_estimators=1000, subsample=0.5, learning_rate=0.01, max_depth=3, score=0.495396, total=   8.4s\n",
      "[CV] n_estimators=1000, subsample=0.5, learning_rate=0.01, max_depth=3 \n",
      "[CV]  n_estimators=1000, subsample=0.5, learning_rate=0.01, max_depth=3, score=0.549815, total=   7.9s\n",
      "[CV] n_estimators=1000, subsample=0.5, learning_rate=0.01, max_depth=3 \n",
      "[CV]  n_estimators=1000, subsample=0.5, learning_rate=0.01, max_depth=3, score=0.505535, total=   7.7s\n",
      "[CV] n_estimators=1000, subsample=0.8, learning_rate=0.01, max_depth=3 \n",
      "[CV]  n_estimators=1000, subsample=0.8, learning_rate=0.01, max_depth=3, score=0.491713, total=   9.5s\n",
      "[CV] n_estimators=1000, subsample=0.8, learning_rate=0.01, max_depth=3 \n",
      "[CV]  n_estimators=1000, subsample=0.8, learning_rate=0.01, max_depth=3, score=0.542435, total=   9.5s\n",
      "[CV] n_estimators=1000, subsample=0.8, learning_rate=0.01, max_depth=3 \n",
      "[CV]  n_estimators=1000, subsample=0.8, learning_rate=0.01, max_depth=3, score=0.496310, total=   9.7s\n",
      "[CV] n_estimators=500, subsample=0.5, learning_rate=0.01, max_depth=4 \n",
      "[CV]  n_estimators=500, subsample=0.5, learning_rate=0.01, max_depth=4, score=0.486188, total=   5.5s\n",
      "[CV] n_estimators=500, subsample=0.5, learning_rate=0.01, max_depth=4 \n",
      "[CV]  n_estimators=500, subsample=0.5, learning_rate=0.01, max_depth=4, score=0.540590, total=   5.4s\n",
      "[CV] n_estimators=500, subsample=0.5, learning_rate=0.01, max_depth=4 \n",
      "[CV]  n_estimators=500, subsample=0.5, learning_rate=0.01, max_depth=4, score=0.498155, total=   5.7s\n",
      "[CV] n_estimators=500, subsample=0.8, learning_rate=0.01, max_depth=4 \n",
      "[CV]  n_estimators=500, subsample=0.8, learning_rate=0.01, max_depth=4, score=0.484346, total=   6.9s\n",
      "[CV] n_estimators=500, subsample=0.8, learning_rate=0.01, max_depth=4 \n",
      "[CV]  n_estimators=500, subsample=0.8, learning_rate=0.01, max_depth=4, score=0.540590, total=   6.9s\n",
      "[CV] n_estimators=500, subsample=0.8, learning_rate=0.01, max_depth=4 \n",
      "[CV]  n_estimators=500, subsample=0.8, learning_rate=0.01, max_depth=4, score=0.496310, total=   7.2s\n",
      "[CV] n_estimators=1000, subsample=0.5, learning_rate=0.01, max_depth=4 \n",
      "[CV]  n_estimators=1000, subsample=0.5, learning_rate=0.01, max_depth=4, score=0.543278, total=  11.0s\n",
      "[CV] n_estimators=1000, subsample=0.5, learning_rate=0.01, max_depth=4 \n",
      "[CV]  n_estimators=1000, subsample=0.5, learning_rate=0.01, max_depth=4, score=0.592251, total=  10.9s\n",
      "[CV] n_estimators=1000, subsample=0.5, learning_rate=0.01, max_depth=4 \n",
      "[CV]  n_estimators=1000, subsample=0.5, learning_rate=0.01, max_depth=4, score=0.533210, total=  10.8s\n",
      "[CV] n_estimators=1000, subsample=0.8, learning_rate=0.01, max_depth=4 \n",
      "[CV]  n_estimators=1000, subsample=0.8, learning_rate=0.01, max_depth=4, score=0.543278, total=  13.2s\n",
      "[CV] n_estimators=1000, subsample=0.8, learning_rate=0.01, max_depth=4 \n",
      "[CV]  n_estimators=1000, subsample=0.8, learning_rate=0.01, max_depth=4, score=0.594096, total=  13.7s\n",
      "[CV] n_estimators=1000, subsample=0.8, learning_rate=0.01, max_depth=4 \n",
      "[CV]  n_estimators=1000, subsample=0.8, learning_rate=0.01, max_depth=4, score=0.535055, total=  13.6s\n",
      "[CV] n_estimators=500, subsample=0.5, learning_rate=0.01, max_depth=5 \n",
      "[CV]  n_estimators=500, subsample=0.5, learning_rate=0.01, max_depth=5, score=0.519337, total=   7.3s\n",
      "[CV] n_estimators=500, subsample=0.5, learning_rate=0.01, max_depth=5 \n",
      "[CV]  n_estimators=500, subsample=0.5, learning_rate=0.01, max_depth=5, score=0.584871, total=   7.3s\n",
      "[CV] n_estimators=500, subsample=0.5, learning_rate=0.01, max_depth=5 \n",
      "[CV]  n_estimators=500, subsample=0.5, learning_rate=0.01, max_depth=5, score=0.512915, total=   7.5s\n",
      "[CV] n_estimators=500, subsample=0.8, learning_rate=0.01, max_depth=5 \n",
      "[CV]  n_estimators=500, subsample=0.8, learning_rate=0.01, max_depth=5, score=0.513812, total=   9.4s\n",
      "[CV] n_estimators=500, subsample=0.8, learning_rate=0.01, max_depth=5 \n",
      "[CV]  n_estimators=500, subsample=0.8, learning_rate=0.01, max_depth=5, score=0.590406, total=   9.4s\n",
      "[CV] n_estimators=500, subsample=0.8, learning_rate=0.01, max_depth=5 \n",
      "[CV]  n_estimators=500, subsample=0.8, learning_rate=0.01, max_depth=5, score=0.523985, total=   9.3s\n",
      "[CV] n_estimators=1000, subsample=0.5, learning_rate=0.01, max_depth=5 \n",
      "[CV]  n_estimators=1000, subsample=0.5, learning_rate=0.01, max_depth=5, score=0.598527, total=  14.8s\n",
      "[CV] n_estimators=1000, subsample=0.5, learning_rate=0.01, max_depth=5 \n",
      "[CV]  n_estimators=1000, subsample=0.5, learning_rate=0.01, max_depth=5, score=0.610701, total=  17.9s\n",
      "[CV] n_estimators=1000, subsample=0.5, learning_rate=0.01, max_depth=5 \n",
      "[CV]  n_estimators=1000, subsample=0.5, learning_rate=0.01, max_depth=5, score=0.560886, total=  16.8s\n",
      "[CV] n_estimators=1000, subsample=0.8, learning_rate=0.01, max_depth=5 \n",
      "[CV]  n_estimators=1000, subsample=0.8, learning_rate=0.01, max_depth=5, score=0.598527, total=  19.6s\n",
      "[CV] n_estimators=1000, subsample=0.8, learning_rate=0.01, max_depth=5 \n",
      "[CV]  n_estimators=1000, subsample=0.8, learning_rate=0.01, max_depth=5, score=0.605166, total=  18.3s\n",
      "[CV] n_estimators=1000, subsample=0.8, learning_rate=0.01, max_depth=5 \n",
      "[CV]  n_estimators=1000, subsample=0.8, learning_rate=0.01, max_depth=5, score=0.571956, total=  18.6s\n",
      "[CV] n_estimators=500, subsample=0.5, learning_rate=0.001, max_depth=2 \n",
      "[CV]  n_estimators=500, subsample=0.5, learning_rate=0.001, max_depth=2, score=0.222836, total=   3.0s\n",
      "[CV] n_estimators=500, subsample=0.5, learning_rate=0.001, max_depth=2 \n",
      "[CV]  n_estimators=500, subsample=0.5, learning_rate=0.001, max_depth=2, score=0.000000, total=   3.4s\n",
      "[CV] n_estimators=500, subsample=0.5, learning_rate=0.001, max_depth=2 \n",
      "[CV]  n_estimators=500, subsample=0.5, learning_rate=0.001, max_depth=2, score=0.175277, total=   2.9s\n",
      "[CV] n_estimators=500, subsample=0.8, learning_rate=0.001, max_depth=2 \n",
      "[CV]  n_estimators=500, subsample=0.8, learning_rate=0.001, max_depth=2, score=0.000000, total=   3.0s\n",
      "[CV] n_estimators=500, subsample=0.8, learning_rate=0.001, max_depth=2 \n"
     ]
    },
    {
     "name": "stdout",
     "output_type": "stream",
     "text": [
      "[CV]  n_estimators=500, subsample=0.8, learning_rate=0.001, max_depth=2, score=0.000000, total=   3.3s\n",
      "[CV] n_estimators=500, subsample=0.8, learning_rate=0.001, max_depth=2 \n",
      "[CV]  n_estimators=500, subsample=0.8, learning_rate=0.001, max_depth=2, score=0.175277, total=   3.1s\n",
      "[CV] n_estimators=1000, subsample=0.5, learning_rate=0.001, max_depth=2 \n",
      "[CV]  n_estimators=1000, subsample=0.5, learning_rate=0.001, max_depth=2, score=0.394107, total=   5.5s\n",
      "[CV] n_estimators=1000, subsample=0.5, learning_rate=0.001, max_depth=2 \n",
      "[CV]  n_estimators=1000, subsample=0.5, learning_rate=0.001, max_depth=2, score=0.428044, total=   6.6s\n",
      "[CV] n_estimators=1000, subsample=0.5, learning_rate=0.001, max_depth=2 \n",
      "[CV]  n_estimators=1000, subsample=0.5, learning_rate=0.001, max_depth=2, score=0.396679, total=   5.5s\n",
      "[CV] n_estimators=1000, subsample=0.8, learning_rate=0.001, max_depth=2 \n",
      "[CV]  n_estimators=1000, subsample=0.8, learning_rate=0.001, max_depth=2, score=0.397790, total=   6.5s\n",
      "[CV] n_estimators=1000, subsample=0.8, learning_rate=0.001, max_depth=2 \n",
      "[CV]  n_estimators=1000, subsample=0.8, learning_rate=0.001, max_depth=2, score=0.429889, total=   6.2s\n",
      "[CV] n_estimators=1000, subsample=0.8, learning_rate=0.001, max_depth=2 \n",
      "[CV]  n_estimators=1000, subsample=0.8, learning_rate=0.001, max_depth=2, score=0.396679, total=   6.3s\n",
      "[CV] n_estimators=500, subsample=0.5, learning_rate=0.001, max_depth=3 \n",
      "[CV]  n_estimators=500, subsample=0.5, learning_rate=0.001, max_depth=3, score=0.252302, total=   4.0s\n",
      "[CV] n_estimators=500, subsample=0.5, learning_rate=0.001, max_depth=3 \n",
      "[CV]  n_estimators=500, subsample=0.5, learning_rate=0.001, max_depth=3, score=0.088561, total=   4.0s\n",
      "[CV] n_estimators=500, subsample=0.5, learning_rate=0.001, max_depth=3 \n",
      "[CV]  n_estimators=500, subsample=0.5, learning_rate=0.001, max_depth=3, score=0.202952, total=   4.2s\n",
      "[CV] n_estimators=500, subsample=0.8, learning_rate=0.001, max_depth=3 \n",
      "[CV]  n_estimators=500, subsample=0.8, learning_rate=0.001, max_depth=3, score=0.254144, total=   4.9s\n",
      "[CV] n_estimators=500, subsample=0.8, learning_rate=0.001, max_depth=3 \n",
      "[CV]  n_estimators=500, subsample=0.8, learning_rate=0.001, max_depth=3, score=0.000000, total=   5.0s\n",
      "[CV] n_estimators=500, subsample=0.8, learning_rate=0.001, max_depth=3 \n",
      "[CV]  n_estimators=500, subsample=0.8, learning_rate=0.001, max_depth=3, score=0.215867, total=   5.1s\n",
      "[CV] n_estimators=1000, subsample=0.5, learning_rate=0.001, max_depth=3 \n",
      "[CV]  n_estimators=1000, subsample=0.5, learning_rate=0.001, max_depth=3, score=0.395948, total=   8.6s\n",
      "[CV] n_estimators=1000, subsample=0.5, learning_rate=0.001, max_depth=3 \n",
      "[CV]  n_estimators=1000, subsample=0.5, learning_rate=0.001, max_depth=3, score=0.422509, total=   8.6s\n",
      "[CV] n_estimators=1000, subsample=0.5, learning_rate=0.001, max_depth=3 \n",
      "[CV]  n_estimators=1000, subsample=0.5, learning_rate=0.001, max_depth=3, score=0.398524, total=   8.3s\n",
      "[CV] n_estimators=1000, subsample=0.8, learning_rate=0.001, max_depth=3 \n",
      "[CV]  n_estimators=1000, subsample=0.8, learning_rate=0.001, max_depth=3, score=0.406998, total=  10.5s\n",
      "[CV] n_estimators=1000, subsample=0.8, learning_rate=0.001, max_depth=3 \n",
      "[CV]  n_estimators=1000, subsample=0.8, learning_rate=0.001, max_depth=3, score=0.426199, total=  11.4s\n",
      "[CV] n_estimators=1000, subsample=0.8, learning_rate=0.001, max_depth=3 \n",
      "[CV]  n_estimators=1000, subsample=0.8, learning_rate=0.001, max_depth=3, score=0.402214, total=  10.8s\n",
      "[CV] n_estimators=500, subsample=0.5, learning_rate=0.001, max_depth=4 \n",
      "[CV]  n_estimators=500, subsample=0.5, learning_rate=0.001, max_depth=4, score=0.259669, total=   5.8s\n",
      "[CV] n_estimators=500, subsample=0.5, learning_rate=0.001, max_depth=4 \n",
      "[CV]  n_estimators=500, subsample=0.5, learning_rate=0.001, max_depth=4, score=0.182657, total=   5.8s\n",
      "[CV] n_estimators=500, subsample=0.5, learning_rate=0.001, max_depth=4 \n",
      "[CV]  n_estimators=500, subsample=0.5, learning_rate=0.001, max_depth=4, score=0.241697, total=   5.8s\n",
      "[CV] n_estimators=500, subsample=0.8, learning_rate=0.001, max_depth=4 \n",
      "[CV]  n_estimators=500, subsample=0.8, learning_rate=0.001, max_depth=4, score=0.270718, total=   7.3s\n",
      "[CV] n_estimators=500, subsample=0.8, learning_rate=0.001, max_depth=4 \n",
      "[CV]  n_estimators=500, subsample=0.8, learning_rate=0.001, max_depth=4, score=0.173432, total=   7.3s\n",
      "[CV] n_estimators=500, subsample=0.8, learning_rate=0.001, max_depth=4 \n",
      "[CV]  n_estimators=500, subsample=0.8, learning_rate=0.001, max_depth=4, score=0.226937, total=   7.6s\n",
      "[CV] n_estimators=1000, subsample=0.5, learning_rate=0.001, max_depth=4 \n",
      "[CV]  n_estimators=1000, subsample=0.5, learning_rate=0.001, max_depth=4, score=0.410681, total=  11.5s\n",
      "[CV] n_estimators=1000, subsample=0.5, learning_rate=0.001, max_depth=4 \n",
      "[CV]  n_estimators=1000, subsample=0.5, learning_rate=0.001, max_depth=4, score=0.435424, total=  11.4s\n",
      "[CV] n_estimators=1000, subsample=0.5, learning_rate=0.001, max_depth=4 \n",
      "[CV]  n_estimators=1000, subsample=0.5, learning_rate=0.001, max_depth=4, score=0.396679, total=  11.9s\n",
      "[CV] n_estimators=1000, subsample=0.8, learning_rate=0.001, max_depth=4 \n",
      "[CV]  n_estimators=1000, subsample=0.8, learning_rate=0.001, max_depth=4, score=0.416206, total=  14.9s\n",
      "[CV] n_estimators=1000, subsample=0.8, learning_rate=0.001, max_depth=4 \n",
      "[CV]  n_estimators=1000, subsample=0.8, learning_rate=0.001, max_depth=4, score=0.440959, total=  15.4s\n",
      "[CV] n_estimators=1000, subsample=0.8, learning_rate=0.001, max_depth=4 \n",
      "[CV]  n_estimators=1000, subsample=0.8, learning_rate=0.001, max_depth=4, score=0.389299, total=  14.4s\n",
      "[CV] n_estimators=500, subsample=0.5, learning_rate=0.001, max_depth=5 \n",
      "[CV]  n_estimators=500, subsample=0.5, learning_rate=0.001, max_depth=5, score=0.276243, total=   7.8s\n",
      "[CV] n_estimators=500, subsample=0.5, learning_rate=0.001, max_depth=5 \n",
      "[CV]  n_estimators=500, subsample=0.5, learning_rate=0.001, max_depth=5, score=0.217712, total=   8.5s\n",
      "[CV] n_estimators=500, subsample=0.5, learning_rate=0.001, max_depth=5 \n",
      "[CV]  n_estimators=500, subsample=0.5, learning_rate=0.001, max_depth=5, score=0.260148, total=   7.9s\n",
      "[CV] n_estimators=500, subsample=0.8, learning_rate=0.001, max_depth=5 \n",
      "[CV]  n_estimators=500, subsample=0.8, learning_rate=0.001, max_depth=5, score=0.290976, total=  10.2s\n",
      "[CV] n_estimators=500, subsample=0.8, learning_rate=0.001, max_depth=5 \n",
      "[CV]  n_estimators=500, subsample=0.8, learning_rate=0.001, max_depth=5, score=0.236162, total=  10.5s\n",
      "[CV] n_estimators=500, subsample=0.8, learning_rate=0.001, max_depth=5 \n",
      "[CV]  n_estimators=500, subsample=0.8, learning_rate=0.001, max_depth=5, score=0.256458, total=  10.2s\n",
      "[CV] n_estimators=1000, subsample=0.5, learning_rate=0.001, max_depth=5 \n",
      "[CV]  n_estimators=1000, subsample=0.5, learning_rate=0.001, max_depth=5, score=0.423573, total=  16.3s\n",
      "[CV] n_estimators=1000, subsample=0.5, learning_rate=0.001, max_depth=5 \n",
      "[CV]  n_estimators=1000, subsample=0.5, learning_rate=0.001, max_depth=5, score=0.444649, total=  16.1s\n",
      "[CV] n_estimators=1000, subsample=0.5, learning_rate=0.001, max_depth=5 \n",
      "[CV]  n_estimators=1000, subsample=0.5, learning_rate=0.001, max_depth=5, score=0.404059, total=  15.7s\n",
      "[CV] n_estimators=1000, subsample=0.8, learning_rate=0.001, max_depth=5 \n",
      "[CV]  n_estimators=1000, subsample=0.8, learning_rate=0.001, max_depth=5, score=0.419890, total=  19.5s\n",
      "[CV] n_estimators=1000, subsample=0.8, learning_rate=0.001, max_depth=5 \n",
      "[CV]  n_estimators=1000, subsample=0.8, learning_rate=0.001, max_depth=5, score=0.455720, total=  20.7s\n",
      "[CV] n_estimators=1000, subsample=0.8, learning_rate=0.001, max_depth=5 \n",
      "[CV]  n_estimators=1000, subsample=0.8, learning_rate=0.001, max_depth=5, score=0.402214, total=  23.4s\n"
     ]
    },
    {
     "name": "stderr",
     "output_type": "stream",
     "text": [
      "[Parallel(n_jobs=1)]: Done  96 out of  96 | elapsed: 13.9min finished\n"
     ]
    }
   ],
   "source": [
    "fitted = search.fit(X_train,y_train)"
   ]
  },
  {
   "cell_type": "code",
   "execution_count": 60,
   "metadata": {},
   "outputs": [
    {
     "data": {
      "text/plain": [
       "0.5953991880920162"
      ]
     },
     "execution_count": 60,
     "metadata": {},
     "output_type": "execute_result"
    }
   ],
   "source": [
    "fitted.score(X_test, y_test)"
   ]
  },
  {
   "cell_type": "code",
   "execution_count": 66,
   "metadata": {},
   "outputs": [
    {
     "data": {
      "text/plain": [
       "0.59188600531660407"
      ]
     },
     "execution_count": 66,
     "metadata": {},
     "output_type": "execute_result"
    }
   ],
   "source": [
    "fitted.best_score_"
   ]
  },
  {
   "cell_type": "code",
   "execution_count": 67,
   "metadata": {},
   "outputs": [
    {
     "data": {
      "text/plain": [
       "{'learning_rate': 0.01, 'max_depth': 5, 'n_estimators': 1000, 'subsample': 0.8}"
      ]
     },
     "execution_count": 67,
     "metadata": {},
     "output_type": "execute_result"
    }
   ],
   "source": [
    "fitted.best_params_"
   ]
  },
  {
   "cell_type": "code",
   "execution_count": 30,
   "metadata": {
    "collapsed": true
   },
   "outputs": [],
   "source": [
    "model = GradientBoostingClassifier(learning_rate=0.01, max_depth=5, n_estimators=1000, subsample=0.8)"
   ]
  },
  {
   "cell_type": "code",
   "execution_count": 31,
   "metadata": {},
   "outputs": [],
   "source": [
    "fitted = model.fit(X,y, sample_weight= weights)"
   ]
  },
  {
   "cell_type": "code",
   "execution_count": 23,
   "metadata": {},
   "outputs": [
    {
     "ename": "TypeError",
     "evalue": "score() got an unexpected keyword argument 'sample_weights'",
     "output_type": "error",
     "traceback": [
      "\u001b[0;31m---------------------------------------------------------------------------\u001b[0m",
      "\u001b[0;31mTypeError\u001b[0m                                 Traceback (most recent call last)",
      "\u001b[0;32m<ipython-input-23-c26d7ab064ae>\u001b[0m in \u001b[0;36m<module>\u001b[0;34m()\u001b[0m\n\u001b[0;32m----> 1\u001b[0;31m \u001b[0mfitted\u001b[0m\u001b[0;34m.\u001b[0m\u001b[0mscore\u001b[0m\u001b[0;34m(\u001b[0m\u001b[0mX_test\u001b[0m\u001b[0;34m,\u001b[0m\u001b[0my_test\u001b[0m\u001b[0;34m,\u001b[0m \u001b[0msample_weights\u001b[0m\u001b[0;34m=\u001b[0m \u001b[0mweights_test\u001b[0m\u001b[0;34m)\u001b[0m\u001b[0;34m\u001b[0m\u001b[0m\n\u001b[0m",
      "\u001b[0;31mTypeError\u001b[0m: score() got an unexpected keyword argument 'sample_weights'"
     ]
    }
   ],
   "source": [
    "fitted.score(X_test,y_test, sample_weights= weights_test)"
   ]
  },
  {
   "cell_type": "code",
   "execution_count": 32,
   "metadata": {},
   "outputs": [
    {
     "data": {
      "text/plain": [
       "array([1, 1, 1, ..., 0, 0, 0])"
      ]
     },
     "execution_count": 32,
     "metadata": {},
     "output_type": "execute_result"
    }
   ],
   "source": [
    "fitted.predict(X)"
   ]
  },
  {
   "cell_type": "code",
   "execution_count": 33,
   "metadata": {},
   "outputs": [
    {
     "data": {
      "text/plain": [
       "0.68143100511073251"
      ]
     },
     "execution_count": 33,
     "metadata": {},
     "output_type": "execute_result"
    }
   ],
   "source": [
    "from sklearn.metrics import recall_score\n",
    "\n",
    "recall_score(y, fitted.predict(X))"
   ]
  },
  {
   "cell_type": "code",
   "execution_count": 34,
   "metadata": {},
   "outputs": [
    {
     "data": {
      "image/png": "[encoded data removed]",
      "text/plain": [
       "<matplotlib.figure.Figure at 0x12139f590>"
      ]
     },
     "metadata": {},
     "output_type": "display_data"
    }
   ],
   "source": [
    "feature_importances = 100*fitted.feature_importances_ / np.sum(fitted.feature_importances_)\n",
    "feature_importances, feature_names, feature_idxs = zip(*sorted(zip(feature_importances, list(X.columns), range(len(X.columns)))))\n",
    "\n",
    "width = 0.8\n",
    "\n",
    "idx = np.arange(len(X.columns))\n",
    "\n",
    "fig, ax = plt.subplots(figsize=(12,15))\n",
    "ax.barh(idx, feature_importances, align='center')\n",
    "plt.yticks(idx, feature_names, fontsize=8)\n",
    "\n",
    "ax.set_title(\"Feature Importances in Gradient Booster\")\n",
    "ax.set_xlabel('Relative Importance of Feature', fontsize=10)\n",
    "ax.set_ylabel('Feature Name', fontsize=14)\n",
    "fig.savefig('feat_imp_sep8.png')"
   ]
  },
  {
   "cell_type": "code",
   "execution_count": null,
   "metadata": {
    "collapsed": true
   },
   "outputs": [],
   "source": []
  }
 ],
 "metadata": {
  "kernelspec": {
   "display_name": "Python 2",
   "language": "python",
   "name": "python2"
  },
  "language_info": {
   "codemirror_mode": {
    "name": "ipython",
    "version": 2
   },
   "file_extension": ".py",
   "mimetype": "text/x-python",
   "name": "python",
   "nbconvert_exporter": "python",
   "pygments_lexer": "ipython2",
   "version": "2.7.13"
  }
 },
 "nbformat": 4,
 "nbformat_minor": 2
}

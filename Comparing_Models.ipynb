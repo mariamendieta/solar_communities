{
 "cells": [
  {
   "cell_type": "code",
   "execution_count": 3,
   "metadata": {
    "collapsed": true
   },
   "outputs": [],
   "source": [
    "import pandas as pd\n",
    "import matplotlib.pyplot as plt\n",
    "import numpy as np\n",
    "import sys\n",
    "sys.path.insert(0,'src/')\n",
    "import acs5\n",
    "import nyserda_acs\n",
    "import prices\n",
    "import project_sunroof\n",
    "import nyserda\n",
    "from sklearn.model_selection import GridSearchCV\n",
    "from sklearn.ensemble import GradientBoostingClassifier\n",
    "from sklearn.linear_model import LogisticRegression\n",
    "from sklearn.ensemble import RandomForestClassifier\n",
    "from sklearn.model_selection import train_test_split\n",
    "from sklearn.preprocessing import Imputer\n",
    "from sklearn.metrics import recall_score\n",
    "from sklearn.metrics import make_scorer\n",
    "from sklearn.metrics import roc_curve, auc\n",
    "\n",
    "%matplotlib inline"
   ]
  },
  {
   "cell_type": "markdown",
   "metadata": {},
   "source": [
    "## Getting the data"
   ]
  },
  {
   "cell_type": "code",
   "execution_count": 4,
   "metadata": {},
   "outputs": [],
   "source": [
    "raw_data = nyserda_acs.merging_data()\n",
    "raw_data=raw_data[raw_data['households']>0]"
   ]
  },
  {
   "cell_type": "markdown",
   "metadata": {},
   "source": [
    "## Generating sample weights"
   ]
  },
  {
   "cell_type": "code",
   "execution_count": 5,
   "metadata": {},
   "outputs": [
    {
     "name": "stderr",
     "output_type": "stream",
     "text": [
      "/home/ubuntu/anaconda/lib/python2.7/site-packages/pandas/core/indexing.py:517: SettingWithCopyWarning: \n",
      "A value is trying to be set on a copy of a slice from a DataFrame.\n",
      "Try using .loc[row_indexer,col_indexer] = value instead\n",
      "\n",
      "See the caveats in the documentation: http://pandas.pydata.org/pandas-docs/stable/indexing.html#indexing-view-versus-copy\n",
      "  self.obj[item] = s\n",
      "/home/ubuntu/anaconda/lib/python2.7/site-packages/pandas/core/indexing.py:337: SettingWithCopyWarning: \n",
      "A value is trying to be set on a copy of a slice from a DataFrame.\n",
      "Try using .loc[row_indexer,col_indexer] = value instead\n",
      "\n",
      "See the caveats in the documentation: http://pandas.pydata.org/pandas-docs/stable/indexing.html#indexing-view-versus-copy\n",
      "  self.obj[key] = _infer_fill_value(value)\n"
     ]
    }
   ],
   "source": [
    "#Duplicate positive rows\n",
    "duplic = raw_data.loc[raw_data['Project_yes']==1,:]\n",
    "duplic.loc[:,'Project_yes'] =0\n",
    "duplic.loc[:,'Duplicate'] = 'Yes'\n",
    "duplic.loc[:,'weight'] = (duplic.loc[:,'households']-duplic.loc[:,'Project_Number'])\n",
    "duplic=duplic[duplic['weight']>0]\n",
    "#Creating weights in old data\n",
    "raw_data.loc[raw_data['Project_yes'] == 1, 'weight'] = raw_data['Project_Number']\n",
    "raw_data.loc[raw_data['Project_yes'] == 0, 'weight'] = raw_data['households']\n",
    "raw_data['Duplicate']='No'\n",
    "#Merging data \n",
    "#Concatenating\n",
    "all_data = raw_data.append(duplic, ignore_index=True)"
   ]
  },
  {
   "cell_type": "code",
   "execution_count": 6,
   "metadata": {
    "collapsed": true
   },
   "outputs": [],
   "source": [
    "# Imputing missing values\n",
    "all_data.loc[all_data['yearly_sunlight_kwh_total'].isnull(), 'yearly_sunlight_kwh_total'] = 0\n",
    "all_data.loc[all_data['percent_qualified'].isnull(), 'percent_qualified'] = 200\n",
    "all_data.loc[all_data['Avg_hh_size'].isnull(), 'Avg_hh_size']=np.mean(all_data.Avg_hh_size)\n",
    "all_data.loc[all_data['median_rooms'].isnull(), 'median_rooms']=5.320409"
   ]
  },
  {
   "cell_type": "markdown",
   "metadata": {},
   "source": [
    "## Creating AUC Score"
   ]
  },
  {
   "cell_type": "code",
   "execution_count": 7,
   "metadata": {
    "collapsed": true
   },
   "outputs": [],
   "source": [
    "# define scoring function \n",
    "def custom_auc(ground_truth, predictions):\n",
    "    # I need only one column of predictions[\"0\" and \"1\"]. You can get an error here\n",
    "    # while trying to return both columns at once\n",
    "    fpr, tpr, _ = roc_curve(ground_truth, predictions[:, 1], pos_label=1)    \n",
    "    return auc(fpr, tpr)\n",
    "\n",
    "# to be standart sklearn's scorer        \n",
    "my_auc = make_scorer(custom_auc, greater_is_better=True, needs_proba=True)"
   ]
  },
  {
   "cell_type": "markdown",
   "metadata": {},
   "source": [
    "## Large model matrix"
   ]
  },
  {
   "cell_type": "code",
   "execution_count": 8,
   "metadata": {
    "collapsed": true
   },
   "outputs": [],
   "source": [
    "all_columns = list(all_data.columns)\n",
    "acs= acs5.Get_census_data()\n",
    "acs_data = acs.get_acs_all()\n",
    "variables_large = acs.education_percent + acs.other_households + acs.units_percent + acs.heating_percent + acs.rooms_percent"
   ]
  },
  {
   "cell_type": "code",
   "execution_count": 9,
   "metadata": {
    "collapsed": true
   },
   "outputs": [],
   "source": [
    "variables_large.append('Project_yes')\n",
    "variables_large.append('Mean_price')\n",
    "variables_large.append('Var_price')\n",
    "variables_large.append('percent_qualified')\n",
    "variables_large.append('yearly_sunlight_kwh_total')\n",
    "variables_large.append('weight')\n",
    "variables_large.append('Duplicate')\n",
    "df_large=all_data[variables_large]"
   ]
  },
  {
   "cell_type": "code",
   "execution_count": 10,
   "metadata": {
    "collapsed": true
   },
   "outputs": [],
   "source": [
    "df_large =df_large.dropna()\n",
    "y_large=df_large['Project_yes']\n",
    "weights_large=df_large['weight']\n",
    "X_large=df_large.drop(['Project_yes', 'weight','Duplicate'], axis=1)"
   ]
  },
  {
   "cell_type": "code",
   "execution_count": 11,
   "metadata": {},
   "outputs": [
    {
     "data": {
      "text/html": [
       "<div>\n",
       "<style>\n",
       "    .dataframe thead tr:only-child th {\n",
       "        text-align: right;\n",
       "    }\n",
       "\n",
       "    .dataframe thead th {\n",
       "        text-align: left;\n",
       "    }\n",
       "\n",
       "    .dataframe tbody tr th {\n",
       "        vertical-align: top;\n",
       "    }\n",
       "</style>\n",
       "<table border=\"1\" class=\"dataframe\">\n",
       "  <thead>\n",
       "    <tr style=\"text-align: right;\">\n",
       "      <th></th>\n",
       "      <th>Percent_Less_9th</th>\n",
       "      <th>Percent_12th_no_dip</th>\n",
       "      <th>Percent_HighSchool</th>\n",
       "      <th>Percent_Some_college</th>\n",
       "      <th>Percent_Associate</th>\n",
       "      <th>Percent_Bachelors</th>\n",
       "      <th>Percent_Graduate</th>\n",
       "      <th>Percent_more_than_hs</th>\n",
       "      <th>Avg_hh_size</th>\n",
       "      <th>Median_age</th>\n",
       "      <th>...</th>\n",
       "      <th>Percent_5_rooms</th>\n",
       "      <th>Percent_6_rooms</th>\n",
       "      <th>Percent_7_rooms</th>\n",
       "      <th>Percent_8_rooms</th>\n",
       "      <th>Percent_9_more_rooms</th>\n",
       "      <th>median_rooms</th>\n",
       "      <th>Mean_price</th>\n",
       "      <th>Var_price</th>\n",
       "      <th>percent_qualified</th>\n",
       "      <th>yearly_sunlight_kwh_total</th>\n",
       "    </tr>\n",
       "  </thead>\n",
       "  <tbody>\n",
       "    <tr>\n",
       "      <th>count</th>\n",
       "      <td>6015.000000</td>\n",
       "      <td>6015.000000</td>\n",
       "      <td>6015.000000</td>\n",
       "      <td>6015.000000</td>\n",
       "      <td>6015.000000</td>\n",
       "      <td>6015.000000</td>\n",
       "      <td>6015.000000</td>\n",
       "      <td>6015.000000</td>\n",
       "      <td>6015.000000</td>\n",
       "      <td>6015.000000</td>\n",
       "      <td>...</td>\n",
       "      <td>6015.000000</td>\n",
       "      <td>6015.000000</td>\n",
       "      <td>6015.000000</td>\n",
       "      <td>6015.000000</td>\n",
       "      <td>6015.000000</td>\n",
       "      <td>6015.000000</td>\n",
       "      <td>6015.000000</td>\n",
       "      <td>6015.000000</td>\n",
       "      <td>6015.000000</td>\n",
       "      <td>6.015000e+03</td>\n",
       "    </tr>\n",
       "    <tr>\n",
       "      <th>mean</th>\n",
       "      <td>0.062039</td>\n",
       "      <td>0.078039</td>\n",
       "      <td>0.280322</td>\n",
       "      <td>0.166529</td>\n",
       "      <td>0.088960</td>\n",
       "      <td>0.183708</td>\n",
       "      <td>0.140403</td>\n",
       "      <td>0.579601</td>\n",
       "      <td>2.692034</td>\n",
       "      <td>39.544472</td>\n",
       "      <td>...</td>\n",
       "      <td>0.172484</td>\n",
       "      <td>0.161023</td>\n",
       "      <td>0.111923</td>\n",
       "      <td>0.082252</td>\n",
       "      <td>0.101888</td>\n",
       "      <td>5.320745</td>\n",
       "      <td>28.991892</td>\n",
       "      <td>209.943795</td>\n",
       "      <td>109.311963</td>\n",
       "      <td>7.147635e+06</td>\n",
       "    </tr>\n",
       "    <tr>\n",
       "      <th>std</th>\n",
       "      <td>0.063335</td>\n",
       "      <td>0.054188</td>\n",
       "      <td>0.100124</td>\n",
       "      <td>0.050862</td>\n",
       "      <td>0.040072</td>\n",
       "      <td>0.091024</td>\n",
       "      <td>0.105248</td>\n",
       "      <td>0.160102</td>\n",
       "      <td>0.531530</td>\n",
       "      <td>7.017340</td>\n",
       "      <td>...</td>\n",
       "      <td>0.077076</td>\n",
       "      <td>0.086341</td>\n",
       "      <td>0.077412</td>\n",
       "      <td>0.068406</td>\n",
       "      <td>0.091098</td>\n",
       "      <td>1.205510</td>\n",
       "      <td>4.221908</td>\n",
       "      <td>109.421116</td>\n",
       "      <td>57.705506</td>\n",
       "      <td>1.138075e+07</td>\n",
       "    </tr>\n",
       "    <tr>\n",
       "      <th>min</th>\n",
       "      <td>0.000000</td>\n",
       "      <td>0.000000</td>\n",
       "      <td>0.000000</td>\n",
       "      <td>0.000000</td>\n",
       "      <td>0.000000</td>\n",
       "      <td>0.000000</td>\n",
       "      <td>0.000000</td>\n",
       "      <td>0.000000</td>\n",
       "      <td>1.030000</td>\n",
       "      <td>11.300000</td>\n",
       "      <td>...</td>\n",
       "      <td>0.000000</td>\n",
       "      <td>0.000000</td>\n",
       "      <td>0.000000</td>\n",
       "      <td>0.000000</td>\n",
       "      <td>0.000000</td>\n",
       "      <td>1.300000</td>\n",
       "      <td>18.309167</td>\n",
       "      <td>95.470254</td>\n",
       "      <td>21.212121</td>\n",
       "      <td>0.000000e+00</td>\n",
       "    </tr>\n",
       "    <tr>\n",
       "      <th>25%</th>\n",
       "      <td>0.019440</td>\n",
       "      <td>0.037396</td>\n",
       "      <td>0.219068</td>\n",
       "      <td>0.133333</td>\n",
       "      <td>0.058932</td>\n",
       "      <td>0.114544</td>\n",
       "      <td>0.064054</td>\n",
       "      <td>0.462948</td>\n",
       "      <td>2.350000</td>\n",
       "      <td>34.700000</td>\n",
       "      <td>...</td>\n",
       "      <td>0.119899</td>\n",
       "      <td>0.094288</td>\n",
       "      <td>0.043603</td>\n",
       "      <td>0.023482</td>\n",
       "      <td>0.033709</td>\n",
       "      <td>4.300000</td>\n",
       "      <td>25.463787</td>\n",
       "      <td>163.361579</td>\n",
       "      <td>70.098957</td>\n",
       "      <td>0.000000e+00</td>\n",
       "    </tr>\n",
       "    <tr>\n",
       "      <th>50%</th>\n",
       "      <td>0.038308</td>\n",
       "      <td>0.067114</td>\n",
       "      <td>0.286698</td>\n",
       "      <td>0.167415</td>\n",
       "      <td>0.086894</td>\n",
       "      <td>0.169708</td>\n",
       "      <td>0.111167</td>\n",
       "      <td>0.572153</td>\n",
       "      <td>2.610000</td>\n",
       "      <td>40.300000</td>\n",
       "      <td>...</td>\n",
       "      <td>0.168263</td>\n",
       "      <td>0.166474</td>\n",
       "      <td>0.114379</td>\n",
       "      <td>0.072031</td>\n",
       "      <td>0.085898</td>\n",
       "      <td>5.500000</td>\n",
       "      <td>30.932676</td>\n",
       "      <td>188.915562</td>\n",
       "      <td>81.764706</td>\n",
       "      <td>3.381567e+06</td>\n",
       "    </tr>\n",
       "    <tr>\n",
       "      <th>75%</th>\n",
       "      <td>0.083015</td>\n",
       "      <td>0.106013</td>\n",
       "      <td>0.350957</td>\n",
       "      <td>0.198669</td>\n",
       "      <td>0.116232</td>\n",
       "      <td>0.238077</td>\n",
       "      <td>0.187382</td>\n",
       "      <td>0.687781</td>\n",
       "      <td>2.980000</td>\n",
       "      <td>44.400000</td>\n",
       "      <td>...</td>\n",
       "      <td>0.217399</td>\n",
       "      <td>0.217535</td>\n",
       "      <td>0.164569</td>\n",
       "      <td>0.123052</td>\n",
       "      <td>0.144573</td>\n",
       "      <td>6.200000</td>\n",
       "      <td>30.932676</td>\n",
       "      <td>195.928370</td>\n",
       "      <td>200.000000</td>\n",
       "      <td>9.007294e+06</td>\n",
       "    </tr>\n",
       "    <tr>\n",
       "      <th>max</th>\n",
       "      <td>0.445956</td>\n",
       "      <td>0.400000</td>\n",
       "      <td>0.793103</td>\n",
       "      <td>0.448276</td>\n",
       "      <td>0.318182</td>\n",
       "      <td>0.764706</td>\n",
       "      <td>0.695565</td>\n",
       "      <td>1.000000</td>\n",
       "      <td>6.270000</td>\n",
       "      <td>82.000000</td>\n",
       "      <td>...</td>\n",
       "      <td>1.000000</td>\n",
       "      <td>1.000000</td>\n",
       "      <td>1.000000</td>\n",
       "      <td>0.809524</td>\n",
       "      <td>1.000000</td>\n",
       "      <td>8.500000</td>\n",
       "      <td>35.571604</td>\n",
       "      <td>477.108098</td>\n",
       "      <td>200.000000</td>\n",
       "      <td>1.720241e+08</td>\n",
       "    </tr>\n",
       "  </tbody>\n",
       "</table>\n",
       "<p>8 rows × 43 columns</p>\n",
       "</div>"
      ],
      "text/plain": [
       "       Percent_Less_9th  Percent_12th_no_dip  Percent_HighSchool  \\\n",
       "count       6015.000000          6015.000000         6015.000000   \n",
       "mean           0.062039             0.078039            0.280322   \n",
       "std            0.063335             0.054188            0.100124   \n",
       "min            0.000000             0.000000            0.000000   \n",
       "25%            0.019440             0.037396            0.219068   \n",
       "50%            0.038308             0.067114            0.286698   \n",
       "75%            0.083015             0.106013            0.350957   \n",
       "max            0.445956             0.400000            0.793103   \n",
       "\n",
       "       Percent_Some_college  Percent_Associate  Percent_Bachelors  \\\n",
       "count           6015.000000        6015.000000        6015.000000   \n",
       "mean               0.166529           0.088960           0.183708   \n",
       "std                0.050862           0.040072           0.091024   \n",
       "min                0.000000           0.000000           0.000000   \n",
       "25%                0.133333           0.058932           0.114544   \n",
       "50%                0.167415           0.086894           0.169708   \n",
       "75%                0.198669           0.116232           0.238077   \n",
       "max                0.448276           0.318182           0.764706   \n",
       "\n",
       "       Percent_Graduate  Percent_more_than_hs  Avg_hh_size   Median_age  \\\n",
       "count       6015.000000           6015.000000  6015.000000  6015.000000   \n",
       "mean           0.140403              0.579601     2.692034    39.544472   \n",
       "std            0.105248              0.160102     0.531530     7.017340   \n",
       "min            0.000000              0.000000     1.030000    11.300000   \n",
       "25%            0.064054              0.462948     2.350000    34.700000   \n",
       "50%            0.111167              0.572153     2.610000    40.300000   \n",
       "75%            0.187382              0.687781     2.980000    44.400000   \n",
       "max            0.695565              1.000000     6.270000    82.000000   \n",
       "\n",
       "                 ...              Percent_5_rooms  Percent_6_rooms  \\\n",
       "count            ...                  6015.000000      6015.000000   \n",
       "mean             ...                     0.172484         0.161023   \n",
       "std              ...                     0.077076         0.086341   \n",
       "min              ...                     0.000000         0.000000   \n",
       "25%              ...                     0.119899         0.094288   \n",
       "50%              ...                     0.168263         0.166474   \n",
       "75%              ...                     0.217399         0.217535   \n",
       "max              ...                     1.000000         1.000000   \n",
       "\n",
       "       Percent_7_rooms  Percent_8_rooms  Percent_9_more_rooms  median_rooms  \\\n",
       "count      6015.000000      6015.000000           6015.000000   6015.000000   \n",
       "mean          0.111923         0.082252              0.101888      5.320745   \n",
       "std           0.077412         0.068406              0.091098      1.205510   \n",
       "min           0.000000         0.000000              0.000000      1.300000   \n",
       "25%           0.043603         0.023482              0.033709      4.300000   \n",
       "50%           0.114379         0.072031              0.085898      5.500000   \n",
       "75%           0.164569         0.123052              0.144573      6.200000   \n",
       "max           1.000000         0.809524              1.000000      8.500000   \n",
       "\n",
       "        Mean_price    Var_price  percent_qualified  yearly_sunlight_kwh_total  \n",
       "count  6015.000000  6015.000000        6015.000000               6.015000e+03  \n",
       "mean     28.991892   209.943795         109.311963               7.147635e+06  \n",
       "std       4.221908   109.421116          57.705506               1.138075e+07  \n",
       "min      18.309167    95.470254          21.212121               0.000000e+00  \n",
       "25%      25.463787   163.361579          70.098957               0.000000e+00  \n",
       "50%      30.932676   188.915562          81.764706               3.381567e+06  \n",
       "75%      30.932676   195.928370         200.000000               9.007294e+06  \n",
       "max      35.571604   477.108098         200.000000               1.720241e+08  \n",
       "\n",
       "[8 rows x 43 columns]"
      ]
     },
     "execution_count": 11,
     "metadata": {},
     "output_type": "execute_result"
    }
   ],
   "source": [
    "X_large.describe()"
   ]
  },
  {
   "cell_type": "markdown",
   "metadata": {},
   "source": [
    "## Simple model matrix"
   ]
  },
  {
   "cell_type": "code",
   "execution_count": 28,
   "metadata": {
    "collapsed": true
   },
   "outputs": [],
   "source": [
    "variables_simple = ['Percent_Less_9th','Percent_more_than_hs', 'Percent_1_unit','Avg_hh_size',\n",
    "                'Percent_hh_w_children', 'Percent_10+_units', 'Percent_Heating_electricity',\n",
    "                'yearly_sunlight_kwh_total'  , 'Percent_6_rooms', 'percent_qualified',\n",
    "                'Project_yes','weight','Duplicate']"
   ]
  },
  {
   "cell_type": "code",
   "execution_count": 29,
   "metadata": {
    "collapsed": true
   },
   "outputs": [],
   "source": [
    "df_simple= all_data[variables_simple]"
   ]
  },
  {
   "cell_type": "code",
   "execution_count": 30,
   "metadata": {
    "collapsed": true
   },
   "outputs": [],
   "source": [
    "y_simple=df_simple['Project_yes']\n",
    "weights_simple=df_simple['weight']\n",
    "X_simple=df_simple.drop(['Project_yes', 'weight','Duplicate'], axis=1)"
   ]
  },
  {
   "cell_type": "markdown",
   "metadata": {},
   "source": [
    "## Models using large matrix"
   ]
  },
  {
   "cell_type": "code",
   "execution_count": 12,
   "metadata": {
    "collapsed": true
   },
   "outputs": [],
   "source": [
    "X_train, X_test, y_train, y_test, weights_train, weights_test = train_test_split(X_large, y_large, weights_large, test_size=0.3, random_state=42)"
   ]
  },
  {
   "cell_type": "markdown",
   "metadata": {},
   "source": [
    " Gradient Boosting Classifier w/sample weights"
   ]
  },
  {
   "cell_type": "code",
   "execution_count": 13,
   "metadata": {
    "collapsed": true
   },
   "outputs": [],
   "source": [
    "gbc = GradientBoostingClassifier()\n",
    "gbc_search = GridSearchCV(gbc, param_grid = {'n_estimators' : [1000, 10000], 'subsample' :[0.8],\n",
    "                                           'max_depth': [2,3], 'learning_rate' : [0.01, 0.001]}, \n",
    "                     scoring=my_auc, fit_params={'sample_weight': weights_train}, n_jobs=1, iid=True, refit=True, \n",
    "             cv=None, verbose=5, pre_dispatch='2*n_jobs', error_score='raise', return_train_score=True)"
   ]
  },
  {
   "cell_type": "code",
   "execution_count": 14,
   "metadata": {},
   "outputs": [
    {
     "name": "stdout",
     "output_type": "stream",
     "text": [
      "Fitting 3 folds for each of 8 candidates, totalling 24 fits\n",
      "[CV] n_estimators=1000, subsample=0.8, learning_rate=0.01, max_depth=2 \n",
      "[CV]  n_estimators=1000, subsample=0.8, learning_rate=0.01, max_depth=2, score=0.630297, total=   4.4s\n",
      "[CV] n_estimators=1000, subsample=0.8, learning_rate=0.01, max_depth=2 \n"
     ]
    },
    {
     "name": "stderr",
     "output_type": "stream",
     "text": [
      "[Parallel(n_jobs=1)]: Done   1 out of   1 | elapsed:    4.4s remaining:    0.0s\n"
     ]
    },
    {
     "name": "stdout",
     "output_type": "stream",
     "text": [
      "[CV]  n_estimators=1000, subsample=0.8, learning_rate=0.01, max_depth=2, score=0.645649, total=   4.4s\n",
      "[CV] n_estimators=1000, subsample=0.8, learning_rate=0.01, max_depth=2 \n"
     ]
    },
    {
     "name": "stderr",
     "output_type": "stream",
     "text": [
      "[Parallel(n_jobs=1)]: Done   2 out of   2 | elapsed:    8.8s remaining:    0.0s\n"
     ]
    },
    {
     "name": "stdout",
     "output_type": "stream",
     "text": [
      "[CV]  n_estimators=1000, subsample=0.8, learning_rate=0.01, max_depth=2, score=0.586899, total=   4.4s\n",
      "[CV] n_estimators=10000, subsample=0.8, learning_rate=0.01, max_depth=2 \n"
     ]
    },
    {
     "name": "stderr",
     "output_type": "stream",
     "text": [
      "[Parallel(n_jobs=1)]: Done   3 out of   3 | elapsed:   13.2s remaining:    0.0s\n"
     ]
    },
    {
     "name": "stdout",
     "output_type": "stream",
     "text": [
      "[CV]  n_estimators=10000, subsample=0.8, learning_rate=0.01, max_depth=2, score=0.602998, total=  42.8s\n",
      "[CV] n_estimators=10000, subsample=0.8, learning_rate=0.01, max_depth=2 \n"
     ]
    },
    {
     "name": "stderr",
     "output_type": "stream",
     "text": [
      "[Parallel(n_jobs=1)]: Done   4 out of   4 | elapsed:   56.2s remaining:    0.0s\n"
     ]
    },
    {
     "name": "stdout",
     "output_type": "stream",
     "text": [
      "[CV]  n_estimators=10000, subsample=0.8, learning_rate=0.01, max_depth=2, score=0.632538, total=  43.1s\n",
      "[CV] n_estimators=10000, subsample=0.8, learning_rate=0.01, max_depth=2 \n",
      "[CV]  n_estimators=10000, subsample=0.8, learning_rate=0.01, max_depth=2, score=0.587067, total=  43.5s\n",
      "[CV] n_estimators=1000, subsample=0.8, learning_rate=0.01, max_depth=3 \n",
      "[CV]  n_estimators=1000, subsample=0.8, learning_rate=0.01, max_depth=3, score=0.608747, total=   6.5s\n",
      "[CV] n_estimators=1000, subsample=0.8, learning_rate=0.01, max_depth=3 \n",
      "[CV]  n_estimators=1000, subsample=0.8, learning_rate=0.01, max_depth=3, score=0.632080, total=   6.4s\n",
      "[CV] n_estimators=1000, subsample=0.8, learning_rate=0.01, max_depth=3 \n",
      "[CV]  n_estimators=1000, subsample=0.8, learning_rate=0.01, max_depth=3, score=0.575738, total=   6.4s\n",
      "[CV] n_estimators=10000, subsample=0.8, learning_rate=0.01, max_depth=3 \n",
      "[CV]  n_estimators=10000, subsample=0.8, learning_rate=0.01, max_depth=3, score=0.586520, total= 1.1min\n",
      "[CV] n_estimators=10000, subsample=0.8, learning_rate=0.01, max_depth=3 \n",
      "[CV]  n_estimators=10000, subsample=0.8, learning_rate=0.01, max_depth=3, score=0.588295, total= 1.0min\n",
      "[CV] n_estimators=10000, subsample=0.8, learning_rate=0.01, max_depth=3 \n",
      "[CV]  n_estimators=10000, subsample=0.8, learning_rate=0.01, max_depth=3, score=0.556011, total= 1.0min\n",
      "[CV] n_estimators=1000, subsample=0.8, learning_rate=0.001, max_depth=2 \n",
      "[CV]  n_estimators=1000, subsample=0.8, learning_rate=0.001, max_depth=2, score=0.658375, total=   4.6s\n",
      "[CV] n_estimators=1000, subsample=0.8, learning_rate=0.001, max_depth=2 \n",
      "[CV]  n_estimators=1000, subsample=0.8, learning_rate=0.001, max_depth=2, score=0.652107, total=   4.7s\n",
      "[CV] n_estimators=1000, subsample=0.8, learning_rate=0.001, max_depth=2 \n",
      "[CV]  n_estimators=1000, subsample=0.8, learning_rate=0.001, max_depth=2, score=0.587241, total=   4.8s\n",
      "[CV] n_estimators=10000, subsample=0.8, learning_rate=0.001, max_depth=2 \n",
      "[CV]  n_estimators=10000, subsample=0.8, learning_rate=0.001, max_depth=2, score=0.626166, total=  44.7s\n",
      "[CV] n_estimators=10000, subsample=0.8, learning_rate=0.001, max_depth=2 \n",
      "[CV]  n_estimators=10000, subsample=0.8, learning_rate=0.001, max_depth=2, score=0.648424, total=  45.8s\n",
      "[CV] n_estimators=10000, subsample=0.8, learning_rate=0.001, max_depth=2 \n",
      "[CV]  n_estimators=10000, subsample=0.8, learning_rate=0.001, max_depth=2, score=0.586542, total=  48.3s\n",
      "[CV] n_estimators=1000, subsample=0.8, learning_rate=0.001, max_depth=3 \n",
      "[CV]  n_estimators=1000, subsample=0.8, learning_rate=0.001, max_depth=3, score=0.643302, total=   7.6s\n",
      "[CV] n_estimators=1000, subsample=0.8, learning_rate=0.001, max_depth=3 \n",
      "[CV]  n_estimators=1000, subsample=0.8, learning_rate=0.001, max_depth=3, score=0.645722, total=   7.5s\n",
      "[CV] n_estimators=1000, subsample=0.8, learning_rate=0.001, max_depth=3 \n",
      "[CV]  n_estimators=1000, subsample=0.8, learning_rate=0.001, max_depth=3, score=0.575356, total=   8.0s\n",
      "[CV] n_estimators=10000, subsample=0.8, learning_rate=0.001, max_depth=3 \n",
      "[CV]  n_estimators=10000, subsample=0.8, learning_rate=0.001, max_depth=3, score=0.616755, total= 1.2min\n",
      "[CV] n_estimators=10000, subsample=0.8, learning_rate=0.001, max_depth=3 \n",
      "[CV]  n_estimators=10000, subsample=0.8, learning_rate=0.001, max_depth=3, score=0.634507, total= 1.2min\n",
      "[CV] n_estimators=10000, subsample=0.8, learning_rate=0.001, max_depth=3 \n",
      "[CV]  n_estimators=10000, subsample=0.8, learning_rate=0.001, max_depth=3, score=0.578375, total= 1.2min\n"
     ]
    },
    {
     "name": "stderr",
     "output_type": "stream",
     "text": [
      "[Parallel(n_jobs=1)]: Done  24 out of  24 | elapsed: 12.3min finished\n"
     ]
    }
   ],
   "source": [
    "gbc_fitted = gbc_search.fit(X_train,y_train)"
   ]
  },
  {
   "cell_type": "code",
   "execution_count": 25,
   "metadata": {},
   "outputs": [
    {
     "data": {
      "text/plain": [
       "GradientBoostingClassifier(criterion='friedman_mse', init=None,\n",
       "              learning_rate=0.001, loss='deviance', max_depth=2,\n",
       "              max_features=None, max_leaf_nodes=None,\n",
       "              min_impurity_split=1e-07, min_samples_leaf=1,\n",
       "              min_samples_split=2, min_weight_fraction_leaf=0.0,\n",
       "              n_estimators=1000, presort='auto', random_state=None,\n",
       "              subsample=0.8, verbose=0, warm_start=False)"
      ]
     },
     "execution_count": 25,
     "metadata": {},
     "output_type": "execute_result"
    }
   ],
   "source": [
    "gbc_fitted.best_estimator_"
   ]
  },
  {
   "cell_type": "code",
   "execution_count": null,
   "metadata": {
    "collapsed": true
   },
   "outputs": [],
   "source": []
  },
  {
   "cell_type": "markdown",
   "metadata": {},
   "source": [
    "Logistic Regression w/ sample weights"
   ]
  },
  {
   "cell_type": "code",
   "execution_count": 62,
   "metadata": {},
   "outputs": [],
   "source": [
    "log = LogisticRegression()\n",
    "log_fitted = log.fit(X_train,y_train,sample_weight=weights_train)"
   ]
  },
  {
   "cell_type": "code",
   "execution_count": 107,
   "metadata": {
    "collapsed": true
   },
   "outputs": [],
   "source": [
    "log_best = LogisticRegression()\n",
    "log_best_fitted = log.fit(X_large,y_large,sample_weight=weights_large)"
   ]
  },
  {
   "cell_type": "markdown",
   "metadata": {},
   "source": [
    "Random Forest w/sample weights"
   ]
  },
  {
   "cell_type": "code",
   "execution_count": 21,
   "metadata": {},
   "outputs": [],
   "source": [
    "rf=RandomForestClassifier()\n",
    "\n",
    "rf_search = GridSearchCV(rf, param_grid ={'n_estimators':[10, 20, 100], 'max_features':['sqrt', 'log2'], 'max_depth': [2,3,4,5]}, scoring=my_auc, fit_params={'sample_weight': np.array(weights_train)}, n_jobs=1, iid=True, refit=True, \n",
    "             cv=None, verbose=5, pre_dispatch='2*n_jobs', error_score='raise', return_train_score=True)"
   ]
  },
  {
   "cell_type": "code",
   "execution_count": 22,
   "metadata": {},
   "outputs": [
    {
     "name": "stdout",
     "output_type": "stream",
     "text": [
      "Fitting 3 folds for each of 24 candidates, totalling 72 fits\n",
      "[CV] max_features=sqrt, n_estimators=10, max_depth=2 .................\n",
      "[CV]  max_features=sqrt, n_estimators=10, max_depth=2, score=0.650356, total=   0.1s\n",
      "[CV] max_features=sqrt, n_estimators=10, max_depth=2 .................\n",
      "[CV]  max_features=sqrt, n_estimators=10, max_depth=2, score=0.679385, total=   0.1s\n",
      "[CV] max_features=sqrt, n_estimators=10, max_depth=2 .................\n"
     ]
    },
    {
     "name": "stderr",
     "output_type": "stream",
     "text": [
      "[Parallel(n_jobs=1)]: Done   1 out of   1 | elapsed:    0.1s remaining:    0.0s\n",
      "[Parallel(n_jobs=1)]: Done   2 out of   2 | elapsed:    0.1s remaining:    0.0s\n",
      "[Parallel(n_jobs=1)]: Done   3 out of   3 | elapsed:    0.2s remaining:    0.0s\n"
     ]
    },
    {
     "name": "stdout",
     "output_type": "stream",
     "text": [
      "[CV]  max_features=sqrt, n_estimators=10, max_depth=2, score=0.607933, total=   0.1s\n",
      "[CV] max_features=sqrt, n_estimators=20, max_depth=2 .................\n",
      "[CV]  max_features=sqrt, n_estimators=20, max_depth=2, score=0.683536, total=   0.1s\n",
      "[CV] max_features=sqrt, n_estimators=20, max_depth=2 .................\n"
     ]
    },
    {
     "name": "stderr",
     "output_type": "stream",
     "text": [
      "[Parallel(n_jobs=1)]: Done   4 out of   4 | elapsed:    0.3s remaining:    0.0s\n"
     ]
    },
    {
     "name": "stdout",
     "output_type": "stream",
     "text": [
      "[CV]  max_features=sqrt, n_estimators=20, max_depth=2, score=0.651541, total=   0.1s\n",
      "[CV] max_features=sqrt, n_estimators=20, max_depth=2 .................\n",
      "[CV]  max_features=sqrt, n_estimators=20, max_depth=2, score=0.611804, total=   0.1s\n",
      "[CV] max_features=sqrt, n_estimators=100, max_depth=2 ................\n",
      "[CV]  max_features=sqrt, n_estimators=100, max_depth=2, score=0.650869, total=   0.5s\n",
      "[CV] max_features=sqrt, n_estimators=100, max_depth=2 ................\n",
      "[CV]  max_features=sqrt, n_estimators=100, max_depth=2, score=0.658947, total=   0.5s\n",
      "[CV] max_features=sqrt, n_estimators=100, max_depth=2 ................\n",
      "[CV]  max_features=sqrt, n_estimators=100, max_depth=2, score=0.606296, total=   0.5s\n",
      "[CV] max_features=log2, n_estimators=10, max_depth=2 .................\n",
      "[CV]  max_features=log2, n_estimators=10, max_depth=2, score=0.675836, total=   0.1s\n",
      "[CV] max_features=log2, n_estimators=10, max_depth=2 .................\n",
      "[CV]  max_features=log2, n_estimators=10, max_depth=2, score=0.634742, total=   0.1s\n",
      "[CV] max_features=log2, n_estimators=10, max_depth=2 .................\n",
      "[CV]  max_features=log2, n_estimators=10, max_depth=2, score=0.596484, total=   0.1s\n",
      "[CV] max_features=log2, n_estimators=20, max_depth=2 .................\n",
      "[CV]  max_features=log2, n_estimators=20, max_depth=2, score=0.671049, total=   0.1s\n",
      "[CV] max_features=log2, n_estimators=20, max_depth=2 .................\n",
      "[CV]  max_features=log2, n_estimators=20, max_depth=2, score=0.654109, total=   0.1s\n",
      "[CV] max_features=log2, n_estimators=20, max_depth=2 .................\n",
      "[CV]  max_features=log2, n_estimators=20, max_depth=2, score=0.599561, total=   0.1s\n",
      "[CV] max_features=log2, n_estimators=100, max_depth=2 ................\n",
      "[CV]  max_features=log2, n_estimators=100, max_depth=2, score=0.648640, total=   0.5s\n",
      "[CV] max_features=log2, n_estimators=100, max_depth=2 ................\n",
      "[CV]  max_features=log2, n_estimators=100, max_depth=2, score=0.664991, total=   0.5s\n",
      "[CV] max_features=log2, n_estimators=100, max_depth=2 ................\n",
      "[CV]  max_features=log2, n_estimators=100, max_depth=2, score=0.606608, total=   0.5s\n",
      "[CV] max_features=sqrt, n_estimators=10, max_depth=3 .................\n",
      "[CV]  max_features=sqrt, n_estimators=10, max_depth=3, score=0.664113, total=   0.1s\n",
      "[CV] max_features=sqrt, n_estimators=10, max_depth=3 .................\n",
      "[CV]  max_features=sqrt, n_estimators=10, max_depth=3, score=0.650256, total=   0.1s\n",
      "[CV] max_features=sqrt, n_estimators=10, max_depth=3 .................\n",
      "[CV]  max_features=sqrt, n_estimators=10, max_depth=3, score=0.593120, total=   0.1s\n",
      "[CV] max_features=sqrt, n_estimators=20, max_depth=3 .................\n",
      "[CV]  max_features=sqrt, n_estimators=20, max_depth=3, score=0.648828, total=   0.1s\n",
      "[CV] max_features=sqrt, n_estimators=20, max_depth=3 .................\n",
      "[CV]  max_features=sqrt, n_estimators=20, max_depth=3, score=0.659117, total=   0.1s\n",
      "[CV] max_features=sqrt, n_estimators=20, max_depth=3 .................\n",
      "[CV]  max_features=sqrt, n_estimators=20, max_depth=3, score=0.594333, total=   0.1s\n",
      "[CV] max_features=sqrt, n_estimators=100, max_depth=3 ................\n",
      "[CV]  max_features=sqrt, n_estimators=100, max_depth=3, score=0.636108, total=   0.6s\n",
      "[CV] max_features=sqrt, n_estimators=100, max_depth=3 ................\n",
      "[CV]  max_features=sqrt, n_estimators=100, max_depth=3, score=0.637712, total=   0.6s\n",
      "[CV] max_features=sqrt, n_estimators=100, max_depth=3 ................\n",
      "[CV]  max_features=sqrt, n_estimators=100, max_depth=3, score=0.580244, total=   0.6s\n",
      "[CV] max_features=log2, n_estimators=10, max_depth=3 .................\n",
      "[CV]  max_features=log2, n_estimators=10, max_depth=3, score=0.673370, total=   0.1s\n",
      "[CV] max_features=log2, n_estimators=10, max_depth=3 .................\n",
      "[CV]  max_features=log2, n_estimators=10, max_depth=3, score=0.639608, total=   0.1s\n",
      "[CV] max_features=log2, n_estimators=10, max_depth=3 .................\n",
      "[CV]  max_features=log2, n_estimators=10, max_depth=3, score=0.613572, total=   0.1s\n",
      "[CV] max_features=log2, n_estimators=20, max_depth=3 .................\n",
      "[CV]  max_features=log2, n_estimators=20, max_depth=3, score=0.637421, total=   0.1s\n",
      "[CV] max_features=log2, n_estimators=20, max_depth=3 .................\n",
      "[CV]  max_features=log2, n_estimators=20, max_depth=3, score=0.654168, total=   0.1s\n",
      "[CV] max_features=log2, n_estimators=20, max_depth=3 .................\n",
      "[CV]  max_features=log2, n_estimators=20, max_depth=3, score=0.596172, total=   0.1s\n",
      "[CV] max_features=log2, n_estimators=100, max_depth=3 ................\n",
      "[CV]  max_features=log2, n_estimators=100, max_depth=3, score=0.637998, total=   0.6s\n",
      "[CV] max_features=log2, n_estimators=100, max_depth=3 ................\n",
      "[CV]  max_features=log2, n_estimators=100, max_depth=3, score=0.636363, total=   0.6s\n",
      "[CV] max_features=log2, n_estimators=100, max_depth=3 ................\n",
      "[CV]  max_features=log2, n_estimators=100, max_depth=3, score=0.579074, total=   0.6s\n",
      "[CV] max_features=sqrt, n_estimators=10, max_depth=4 .................\n",
      "[CV]  max_features=sqrt, n_estimators=10, max_depth=4, score=0.670461, total=   0.1s\n",
      "[CV] max_features=sqrt, n_estimators=10, max_depth=4 .................\n",
      "[CV]  max_features=sqrt, n_estimators=10, max_depth=4, score=0.666611, total=   0.1s\n",
      "[CV] max_features=sqrt, n_estimators=10, max_depth=4 .................\n",
      "[CV]  max_features=sqrt, n_estimators=10, max_depth=4, score=0.586107, total=   0.1s\n",
      "[CV] max_features=sqrt, n_estimators=20, max_depth=4 .................\n",
      "[CV]  max_features=sqrt, n_estimators=20, max_depth=4, score=0.645679, total=   0.1s\n",
      "[CV] max_features=sqrt, n_estimators=20, max_depth=4 .................\n",
      "[CV]  max_features=sqrt, n_estimators=20, max_depth=4, score=0.650257, total=   0.2s\n",
      "[CV] max_features=sqrt, n_estimators=20, max_depth=4 .................\n",
      "[CV]  max_features=sqrt, n_estimators=20, max_depth=4, score=0.580766, total=   0.2s\n",
      "[CV] max_features=sqrt, n_estimators=100, max_depth=4 ................\n",
      "[CV]  max_features=sqrt, n_estimators=100, max_depth=4, score=0.613982, total=   0.7s\n",
      "[CV] max_features=sqrt, n_estimators=100, max_depth=4 ................\n",
      "[CV]  max_features=sqrt, n_estimators=100, max_depth=4, score=0.616564, total=   0.7s\n",
      "[CV] max_features=sqrt, n_estimators=100, max_depth=4 ................\n",
      "[CV]  max_features=sqrt, n_estimators=100, max_depth=4, score=0.566121, total=   0.7s\n",
      "[CV] max_features=log2, n_estimators=10, max_depth=4 .................\n",
      "[CV]  max_features=log2, n_estimators=10, max_depth=4, score=0.656255, total=   0.1s\n",
      "[CV] max_features=log2, n_estimators=10, max_depth=4 .................\n",
      "[CV]  max_features=log2, n_estimators=10, max_depth=4, score=0.634542, total=   0.1s\n",
      "[CV] max_features=log2, n_estimators=10, max_depth=4 .................\n",
      "[CV]  max_features=log2, n_estimators=10, max_depth=4, score=0.584491, total=   0.1s\n",
      "[CV] max_features=log2, n_estimators=20, max_depth=4 .................\n",
      "[CV]  max_features=log2, n_estimators=20, max_depth=4, score=0.640572, total=   0.1s\n",
      "[CV] max_features=log2, n_estimators=20, max_depth=4 .................\n",
      "[CV]  max_features=log2, n_estimators=20, max_depth=4, score=0.625427, total=   0.1s\n",
      "[CV] max_features=log2, n_estimators=20, max_depth=4 .................\n",
      "[CV]  max_features=log2, n_estimators=20, max_depth=4, score=0.593973, total=   0.1s\n",
      "[CV] max_features=log2, n_estimators=100, max_depth=4 ................\n",
      "[CV]  max_features=log2, n_estimators=100, max_depth=4, score=0.628988, total=   0.7s\n",
      "[CV] max_features=log2, n_estimators=100, max_depth=4 ................\n",
      "[CV]  max_features=log2, n_estimators=100, max_depth=4, score=0.625341, total=   0.7s\n",
      "[CV] max_features=log2, n_estimators=100, max_depth=4 ................\n",
      "[CV]  max_features=log2, n_estimators=100, max_depth=4, score=0.559474, total=   0.7s\n",
      "[CV] max_features=sqrt, n_estimators=10, max_depth=5 .................\n",
      "[CV]  max_features=sqrt, n_estimators=10, max_depth=5, score=0.619231, total=   0.1s\n",
      "[CV] max_features=sqrt, n_estimators=10, max_depth=5 .................\n",
      "[CV]  max_features=sqrt, n_estimators=10, max_depth=5, score=0.654421, total=   0.1s\n",
      "[CV] max_features=sqrt, n_estimators=10, max_depth=5 .................\n",
      "[CV]  max_features=sqrt, n_estimators=10, max_depth=5, score=0.565027, total=   0.1s\n",
      "[CV] max_features=sqrt, n_estimators=20, max_depth=5 .................\n",
      "[CV]  max_features=sqrt, n_estimators=20, max_depth=5, score=0.618358, total=   0.2s\n",
      "[CV] max_features=sqrt, n_estimators=20, max_depth=5 .................\n"
     ]
    },
    {
     "name": "stdout",
     "output_type": "stream",
     "text": [
      "[CV]  max_features=sqrt, n_estimators=20, max_depth=5, score=0.611038, total=   0.2s\n",
      "[CV] max_features=sqrt, n_estimators=20, max_depth=5 .................\n",
      "[CV]  max_features=sqrt, n_estimators=20, max_depth=5, score=0.571749, total=   0.2s\n",
      "[CV] max_features=sqrt, n_estimators=100, max_depth=5 ................\n",
      "[CV]  max_features=sqrt, n_estimators=100, max_depth=5, score=0.590652, total=   0.8s\n",
      "[CV] max_features=sqrt, n_estimators=100, max_depth=5 ................\n",
      "[CV]  max_features=sqrt, n_estimators=100, max_depth=5, score=0.586541, total=   0.8s\n",
      "[CV] max_features=sqrt, n_estimators=100, max_depth=5 ................\n",
      "[CV]  max_features=sqrt, n_estimators=100, max_depth=5, score=0.538931, total=   0.8s\n",
      "[CV] max_features=log2, n_estimators=10, max_depth=5 .................\n",
      "[CV]  max_features=log2, n_estimators=10, max_depth=5, score=0.626060, total=   0.1s\n",
      "[CV] max_features=log2, n_estimators=10, max_depth=5 .................\n",
      "[CV]  max_features=log2, n_estimators=10, max_depth=5, score=0.622886, total=   0.1s\n",
      "[CV] max_features=log2, n_estimators=10, max_depth=5 .................\n",
      "[CV]  max_features=log2, n_estimators=10, max_depth=5, score=0.577511, total=   0.1s\n",
      "[CV] max_features=log2, n_estimators=20, max_depth=5 .................\n",
      "[CV]  max_features=log2, n_estimators=20, max_depth=5, score=0.627540, total=   0.2s\n",
      "[CV] max_features=log2, n_estimators=20, max_depth=5 .................\n",
      "[CV]  max_features=log2, n_estimators=20, max_depth=5, score=0.609705, total=   0.2s\n",
      "[CV] max_features=log2, n_estimators=20, max_depth=5 .................\n",
      "[CV]  max_features=log2, n_estimators=20, max_depth=5, score=0.568417, total=   0.2s\n",
      "[CV] max_features=log2, n_estimators=100, max_depth=5 ................\n",
      "[CV]  max_features=log2, n_estimators=100, max_depth=5, score=0.588846, total=   0.7s\n",
      "[CV] max_features=log2, n_estimators=100, max_depth=5 ................\n",
      "[CV]  max_features=log2, n_estimators=100, max_depth=5, score=0.589786, total=   0.7s\n",
      "[CV] max_features=log2, n_estimators=100, max_depth=5 ................\n",
      "[CV]  max_features=log2, n_estimators=100, max_depth=5, score=0.547956, total=   0.7s\n"
     ]
    },
    {
     "name": "stderr",
     "output_type": "stream",
     "text": [
      "[Parallel(n_jobs=1)]: Done  72 out of  72 | elapsed:   23.3s finished\n"
     ]
    }
   ],
   "source": [
    "rf_fitted = rf_search.fit(X_train,y_train)"
   ]
  },
  {
   "cell_type": "code",
   "execution_count": 97,
   "metadata": {},
   "outputs": [
    {
     "data": {
      "text/plain": [
       "{'max_depth': 2, 'max_features': 'sqrt', 'n_estimators': 20}"
      ]
     },
     "execution_count": 97,
     "metadata": {},
     "output_type": "execute_result"
    }
   ],
   "source": [
    "rf_fitted.best_params_"
   ]
  },
  {
   "cell_type": "code",
   "execution_count": 101,
   "metadata": {},
   "outputs": [],
   "source": [
    "rf_best=RandomForestClassifier(max_depth=2, max_features= 'sqrt', n_estimators=20)\n",
    "rf_best_fitted = rf_best.fit(X_large, y_large, sample_weight=np.array(weights_large))"
   ]
  },
  {
   "cell_type": "markdown",
   "metadata": {},
   "source": [
    "## ROC Curves"
   ]
  },
  {
   "cell_type": "code",
   "execution_count": 95,
   "metadata": {
    "collapsed": true
   },
   "outputs": [],
   "source": [
    "gbc_best = GradientBoostingClassifier(n_estimators=1661,max_depth=2, learning_rate=0.001, subsample=0.8)\n",
    "gbc_best_fitted = model.fit(X_large, y_large, sample_weight=weights_large)"
   ]
  },
  {
   "cell_type": "code",
   "execution_count": 113,
   "metadata": {},
   "outputs": [
    {
     "data": {
      "image/png": "[encoded data removed]",
      "text/plain": [
       "<matplotlib.figure.Figure at 0x7f591b3feed0>"
      ]
     },
     "metadata": {},
     "output_type": "display_data"
    }
   ],
   "source": [
    "from sklearn import metrics\n",
    "\n",
    "# calculate the fpr and tpr for all thresholds of the classification\n",
    "#Gradient Boosting\n",
    "gbc_probs = gbc_best_fitted.predict_proba(X_large)[:,1]\n",
    "gbc_fpr, gbc_tpr, gbc_threshold = metrics.roc_curve(y_large, gbc_probs, sample_weight=weights_large)\n",
    "gbc_roc_auc = metrics.auc(gbc_fpr, gbc_tpr)\n",
    "\n",
    "#Logistic Regression\n",
    "log_probs = log_best_fitted.predict_proba(X_large)[:,1]\n",
    "log_fpr, log_tpr, log_threshold = metrics.roc_curve(y_large, log_probs,sample_weight=weights_large)\n",
    "log_roc_auc = metrics.auc(log_fpr, log_tpr)\n",
    "\n",
    "#Random Forest\n",
    "rf_probs = rf_best_fitted.predict_proba(X_large)[:,1]\n",
    "rf_fpr, rf_tpr, rf_threshold = metrics.roc_curve(y_large, rf_probs,sample_weight=weights_large)\n",
    "rf_roc_auc = metrics.auc(rf_fpr, rf_tpr)\n",
    "\n",
    "# method I: plt\n",
    "import matplotlib.pyplot as plt\n",
    "fig, ax = plt.subplots(figsize=(12,12))\n",
    "ax.set_title('Receiver Operating Characteristic')\n",
    "ax.plot(gbc_fpr, gbc_tpr, 'b', label = 'AUC_GBC = %0.2f' % gbc_roc_auc, color='green')\n",
    "ax.plot(log_fpr, log_tpr, 'b', label = 'AUC_LOG = %0.2f' % log_roc_auc, color='red')\n",
    "ax.plot(rf_fpr, rf_tpr, 'b', label = 'AUC_RF = %0.2f' % rf_roc_auc , color='blue')\n",
    "ax.legend(loc = 'lower right')\n",
    "ax.plot([0, 1], [0, 1],'r--')\n",
    "ax.set_xlim([0, 1])\n",
    "ax.set_ylim([0, 1])\n",
    "ax.set_ylabel('True Positive Rate')\n",
    "ax.set_xlabel('False Positive Rate')\n",
    "fig.savefig('roc_sep8.png')\n",
    "plt.show()"
   ]
  },
  {
   "cell_type": "code",
   "execution_count": 66,
   "metadata": {},
   "outputs": [
    {
     "data": {
      "text/plain": [
       "{'learning_rate': 0.001,\n",
       " 'max_depth': 2,\n",
       " 'n_estimators': 1000,\n",
       " 'subsample': 0.8}"
      ]
     },
     "execution_count": 66,
     "metadata": {},
     "output_type": "execute_result"
    }
   ],
   "source": [
    "gbc_fitted.best_params_"
   ]
  },
  {
   "cell_type": "code",
   "execution_count": 82,
   "metadata": {
    "collapsed": true
   },
   "outputs": [],
   "source": [
    "N_ESTIMATORS=4000"
   ]
  },
  {
   "cell_type": "code",
   "execution_count": 83,
   "metadata": {},
   "outputs": [
    {
     "data": {
      "text/plain": [
       "GradientBoostingClassifier(criterion='friedman_mse', init=None,\n",
       "              learning_rate=0.001, loss='deviance', max_depth=2,\n",
       "              max_features=None, max_leaf_nodes=None,\n",
       "              min_impurity_split=1e-07, min_samples_leaf=1,\n",
       "              min_samples_split=2, min_weight_fraction_leaf=0.0,\n",
       "              n_estimators=4000, presort='auto', random_state=None,\n",
       "              subsample=0.8, verbose=0, warm_start=False)"
      ]
     },
     "execution_count": 83,
     "metadata": {},
     "output_type": "execute_result"
    }
   ],
   "source": [
    "model = GradientBoostingClassifier(n_estimators=N_ESTIMATORS,max_depth=2, learning_rate=0.001, subsample=0.8)\n",
    "model.fit(X_train, y_train, sample_weight=weights_train)"
   ]
  },
  {
   "cell_type": "code",
   "execution_count": 84,
   "metadata": {
    "collapsed": true
   },
   "outputs": [],
   "source": [
    "def log_loss(y, y_hat, weights):\n",
    "    return (1.0 / y.shape[0]) * np.sum(weights*(y*np.log(y_hat) + (1-y)*np.log(1-y_hat)))"
   ]
  },
  {
   "cell_type": "code",
   "execution_count": 85,
   "metadata": {
    "collapsed": true
   },
   "outputs": [],
   "source": [
    "train_score = np.zeros(N_ESTIMATORS)\n",
    "for i, y_pred in enumerate(model.staged_predict_proba(X_train)):\n",
    "    train_score[i] = -log_loss(y_train, y_pred[:, 1], weights_train)\n",
    "\n",
    "test_score = np.zeros(N_ESTIMATORS)\n",
    "for i, y_pred in enumerate(model.staged_predict_proba(X_test)):\n",
    "    test_score[i] = -log_loss(y_test, y_pred[:, 1], weights_test)"
   ]
  },
  {
   "cell_type": "code",
   "execution_count": 86,
   "metadata": {},
   "outputs": [
    {
     "data": {
      "image/png": "[encoded data removed]",
      "text/plain": [
       "<matplotlib.figure.Figure at 0x7f591c438950>"
      ]
     },
     "metadata": {},
     "output_type": "display_data"
    }
   ],
   "source": [
    "plt.plot(np.arange(N_ESTIMATORS) + 1, train_score,\n",
    "        label=\"Training Error\")\n",
    "plt.plot(np.arange(N_ESTIMATORS) + 1, test_score,\n",
    "        label=\"Testing Error\")\n",
    "plt.title(\"Training and Hold Out Error by Boosting Stages\")\n",
    "plt.xlabel('Number of Boosting Stages', fontsize=14)\n",
    "plt.ylabel('Log-Likelihood', fontsize=14)\n",
    "plt.legend(loc=\"upper right\")\n",
    "\n",
    "\n",
    "plt.savefig('training-and-testing-error.png', bbox_inches='tight')"
   ]
  },
  {
   "cell_type": "code",
   "execution_count": 88,
   "metadata": {},
   "outputs": [
    {
     "data": {
      "text/plain": [
       "1661"
      ]
     },
     "execution_count": 88,
     "metadata": {},
     "output_type": "execute_result"
    }
   ],
   "source": [
    "np.argmin(test_score)"
   ]
  },
  {
   "cell_type": "markdown",
   "metadata": {
    "collapsed": true
   },
   "source": [
    "## Model using small matrix"
   ]
  },
  {
   "cell_type": "code",
   "execution_count": null,
   "metadata": {
    "collapsed": true
   },
   "outputs": [],
   "source": []
  },
  {
   "cell_type": "code",
   "execution_count": 31,
   "metadata": {},
   "outputs": [],
   "source": [
    "X_train_simple, X_test_simple, y_train_simple, y_test_simple, weights_train_simple, weights_test_simple = train_test_split(X_simple, y_simple, weights_simple, test_size=0.3, random_state=42)"
   ]
  },
  {
   "cell_type": "code",
   "execution_count": 51,
   "metadata": {
    "collapsed": true
   },
   "outputs": [],
   "source": [
    "gbc_simple = GradientBoostingClassifier()\n",
    "gbc_search_simple = GridSearchCV(gbc_simple, param_grid = {'n_estimators' : [500, 1000, 2000], 'subsample' :[0.5,0.8],\n",
    "                                           'max_depth': [2,3,4,5], 'learning_rate' : [0.1, 0.01, 0.001]}, \n",
    "                      scoring=my_auc, fit_params={'sample_weight': weights_train_simple}, n_jobs=1, iid=True, refit=True, \n",
    "             cv=None, verbose=5, pre_dispatch='2*n_jobs', error_score='raise', return_train_score=True)"
   ]
  },
  {
   "cell_type": "code",
   "execution_count": 52,
   "metadata": {},
   "outputs": [
    {
     "name": "stdout",
     "output_type": "stream",
     "text": [
      "Fitting 3 folds for each of 72 candidates, totalling 216 fits\n",
      "[CV] n_estimators=500, subsample=0.5, learning_rate=0.1, max_depth=2 .\n",
      "[CV]  n_estimators=500, subsample=0.5, learning_rate=0.1, max_depth=2, score=0.602905, total=   1.0s\n",
      "[CV] n_estimators=500, subsample=0.5, learning_rate=0.1, max_depth=2 .\n"
     ]
    },
    {
     "name": "stderr",
     "output_type": "stream",
     "text": [
      "[Parallel(n_jobs=1)]: Done   1 out of   1 | elapsed:    1.0s remaining:    0.0s\n"
     ]
    },
    {
     "name": "stdout",
     "output_type": "stream",
     "text": [
      "[CV]  n_estimators=500, subsample=0.5, learning_rate=0.1, max_depth=2, score=0.632619, total=   1.0s\n",
      "[CV] n_estimators=500, subsample=0.5, learning_rate=0.1, max_depth=2 .\n"
     ]
    },
    {
     "name": "stderr",
     "output_type": "stream",
     "text": [
      "[Parallel(n_jobs=1)]: Done   2 out of   2 | elapsed:    1.9s remaining:    0.0s\n"
     ]
    },
    {
     "name": "stdout",
     "output_type": "stream",
     "text": [
      "[CV]  n_estimators=500, subsample=0.5, learning_rate=0.1, max_depth=2, score=0.588888, total=   1.0s\n",
      "[CV] n_estimators=500, subsample=0.8, learning_rate=0.1, max_depth=2 .\n"
     ]
    },
    {
     "name": "stderr",
     "output_type": "stream",
     "text": [
      "[Parallel(n_jobs=1)]: Done   3 out of   3 | elapsed:    2.9s remaining:    0.0s\n"
     ]
    },
    {
     "name": "stdout",
     "output_type": "stream",
     "text": [
      "[CV]  n_estimators=500, subsample=0.8, learning_rate=0.1, max_depth=2, score=0.612964, total=   1.0s\n",
      "[CV] n_estimators=500, subsample=0.8, learning_rate=0.1, max_depth=2 .\n"
     ]
    },
    {
     "name": "stderr",
     "output_type": "stream",
     "text": [
      "[Parallel(n_jobs=1)]: Done   4 out of   4 | elapsed:    3.9s remaining:    0.0s\n"
     ]
    },
    {
     "name": "stdout",
     "output_type": "stream",
     "text": [
      "[CV]  n_estimators=500, subsample=0.8, learning_rate=0.1, max_depth=2, score=0.534847, total=   1.0s\n",
      "[CV] n_estimators=500, subsample=0.8, learning_rate=0.1, max_depth=2 .\n",
      "[CV]  n_estimators=500, subsample=0.8, learning_rate=0.1, max_depth=2, score=0.527130, total=   1.0s\n",
      "[CV] n_estimators=1000, subsample=0.5, learning_rate=0.1, max_depth=2 \n",
      "[CV]  n_estimators=1000, subsample=0.5, learning_rate=0.1, max_depth=2, score=0.567987, total=   1.9s\n",
      "[CV] n_estimators=1000, subsample=0.5, learning_rate=0.1, max_depth=2 \n",
      "[CV]  n_estimators=1000, subsample=0.5, learning_rate=0.1, max_depth=2, score=0.607172, total=   1.9s\n",
      "[CV] n_estimators=1000, subsample=0.5, learning_rate=0.1, max_depth=2 \n",
      "[CV]  n_estimators=1000, subsample=0.5, learning_rate=0.1, max_depth=2, score=0.517174, total=   1.9s\n",
      "[CV] n_estimators=1000, subsample=0.8, learning_rate=0.1, max_depth=2 \n",
      "[CV]  n_estimators=1000, subsample=0.8, learning_rate=0.1, max_depth=2, score=0.559583, total=   1.9s\n",
      "[CV] n_estimators=1000, subsample=0.8, learning_rate=0.1, max_depth=2 \n",
      "[CV]  n_estimators=1000, subsample=0.8, learning_rate=0.1, max_depth=2, score=0.602346, total=   2.0s\n",
      "[CV] n_estimators=1000, subsample=0.8, learning_rate=0.1, max_depth=2 \n",
      "[CV]  n_estimators=1000, subsample=0.8, learning_rate=0.1, max_depth=2, score=0.591936, total=   1.9s\n",
      "[CV] n_estimators=2000, subsample=0.5, learning_rate=0.1, max_depth=2 \n",
      "[CV]  n_estimators=2000, subsample=0.5, learning_rate=0.1, max_depth=2, score=0.589324, total=   3.8s\n",
      "[CV] n_estimators=2000, subsample=0.5, learning_rate=0.1, max_depth=2 \n",
      "[CV]  n_estimators=2000, subsample=0.5, learning_rate=0.1, max_depth=2, score=0.556561, total=   3.8s\n",
      "[CV] n_estimators=2000, subsample=0.5, learning_rate=0.1, max_depth=2 \n",
      "[CV]  n_estimators=2000, subsample=0.5, learning_rate=0.1, max_depth=2, score=0.565045, total=   3.9s\n",
      "[CV] n_estimators=2000, subsample=0.8, learning_rate=0.1, max_depth=2 \n",
      "[CV]  n_estimators=2000, subsample=0.8, learning_rate=0.1, max_depth=2, score=0.611115, total=   3.7s\n",
      "[CV] n_estimators=2000, subsample=0.8, learning_rate=0.1, max_depth=2 \n",
      "[CV]  n_estimators=2000, subsample=0.8, learning_rate=0.1, max_depth=2, score=0.619817, total=   3.7s\n",
      "[CV] n_estimators=2000, subsample=0.8, learning_rate=0.1, max_depth=2 \n",
      "[CV]  n_estimators=2000, subsample=0.8, learning_rate=0.1, max_depth=2, score=0.609795, total=   3.8s\n",
      "[CV] n_estimators=500, subsample=0.5, learning_rate=0.1, max_depth=3 .\n",
      "[CV]  n_estimators=500, subsample=0.5, learning_rate=0.1, max_depth=3, score=0.593616, total=   1.2s\n",
      "[CV] n_estimators=500, subsample=0.5, learning_rate=0.1, max_depth=3 .\n",
      "[CV]  n_estimators=500, subsample=0.5, learning_rate=0.1, max_depth=3, score=0.537662, total=   1.2s\n",
      "[CV] n_estimators=500, subsample=0.5, learning_rate=0.1, max_depth=3 .\n",
      "[CV]  n_estimators=500, subsample=0.5, learning_rate=0.1, max_depth=3, score=0.539525, total=   1.3s\n",
      "[CV] n_estimators=500, subsample=0.8, learning_rate=0.1, max_depth=3 .\n",
      "[CV]  n_estimators=500, subsample=0.8, learning_rate=0.1, max_depth=3, score=0.610631, total=   1.3s\n",
      "[CV] n_estimators=500, subsample=0.8, learning_rate=0.1, max_depth=3 .\n",
      "[CV]  n_estimators=500, subsample=0.8, learning_rate=0.1, max_depth=3, score=0.572453, total=   1.3s\n",
      "[CV] n_estimators=500, subsample=0.8, learning_rate=0.1, max_depth=3 .\n",
      "[CV]  n_estimators=500, subsample=0.8, learning_rate=0.1, max_depth=3, score=0.582965, total=   1.3s\n",
      "[CV] n_estimators=1000, subsample=0.5, learning_rate=0.1, max_depth=3 \n",
      "[CV]  n_estimators=1000, subsample=0.5, learning_rate=0.1, max_depth=3, score=0.581967, total=   2.4s\n",
      "[CV] n_estimators=1000, subsample=0.5, learning_rate=0.1, max_depth=3 \n",
      "[CV]  n_estimators=1000, subsample=0.5, learning_rate=0.1, max_depth=3, score=0.427029, total=   2.4s\n",
      "[CV] n_estimators=1000, subsample=0.5, learning_rate=0.1, max_depth=3 \n",
      "[CV]  n_estimators=1000, subsample=0.5, learning_rate=0.1, max_depth=3, score=0.548108, total=   2.5s\n",
      "[CV] n_estimators=1000, subsample=0.8, learning_rate=0.1, max_depth=3 \n",
      "[CV]  n_estimators=1000, subsample=0.8, learning_rate=0.1, max_depth=3, score=0.574586, total=   2.6s\n",
      "[CV] n_estimators=1000, subsample=0.8, learning_rate=0.1, max_depth=3 \n",
      "[CV]  n_estimators=1000, subsample=0.8, learning_rate=0.1, max_depth=3, score=0.565317, total=   2.6s\n",
      "[CV] n_estimators=1000, subsample=0.8, learning_rate=0.1, max_depth=3 \n",
      "[CV]  n_estimators=1000, subsample=0.8, learning_rate=0.1, max_depth=3, score=0.551643, total=   2.6s\n",
      "[CV] n_estimators=2000, subsample=0.5, learning_rate=0.1, max_depth=3 \n",
      "[CV]  n_estimators=2000, subsample=0.5, learning_rate=0.1, max_depth=3, score=0.592416, total=   4.9s\n",
      "[CV] n_estimators=2000, subsample=0.5, learning_rate=0.1, max_depth=3 \n",
      "[CV]  n_estimators=2000, subsample=0.5, learning_rate=0.1, max_depth=3, score=0.594987, total=   4.8s\n",
      "[CV] n_estimators=2000, subsample=0.5, learning_rate=0.1, max_depth=3 \n",
      "[CV]  n_estimators=2000, subsample=0.5, learning_rate=0.1, max_depth=3, score=0.567818, total=   5.0s\n",
      "[CV] n_estimators=2000, subsample=0.8, learning_rate=0.1, max_depth=3 \n",
      "[CV]  n_estimators=2000, subsample=0.8, learning_rate=0.1, max_depth=3, score=0.590351, total=   5.1s\n",
      "[CV] n_estimators=2000, subsample=0.8, learning_rate=0.1, max_depth=3 \n",
      "[CV]  n_estimators=2000, subsample=0.8, learning_rate=0.1, max_depth=3, score=0.587678, total=   5.1s\n",
      "[CV] n_estimators=2000, subsample=0.8, learning_rate=0.1, max_depth=3 \n",
      "[CV]  n_estimators=2000, subsample=0.8, learning_rate=0.1, max_depth=3, score=0.557011, total=   5.1s\n",
      "[CV] n_estimators=500, subsample=0.5, learning_rate=0.1, max_depth=4 .\n",
      "[CV]  n_estimators=500, subsample=0.5, learning_rate=0.1, max_depth=4, score=0.568326, total=   1.5s\n",
      "[CV] n_estimators=500, subsample=0.5, learning_rate=0.1, max_depth=4 .\n",
      "[CV]  n_estimators=500, subsample=0.5, learning_rate=0.1, max_depth=4, score=0.537798, total=   1.5s\n",
      "[CV] n_estimators=500, subsample=0.5, learning_rate=0.1, max_depth=4 .\n",
      "[CV]  n_estimators=500, subsample=0.5, learning_rate=0.1, max_depth=4, score=0.474512, total=   1.5s\n",
      "[CV] n_estimators=500, subsample=0.8, learning_rate=0.1, max_depth=4 .\n",
      "[CV]  n_estimators=500, subsample=0.8, learning_rate=0.1, max_depth=4, score=0.577046, total=   1.6s\n",
      "[CV] n_estimators=500, subsample=0.8, learning_rate=0.1, max_depth=4 .\n",
      "[CV]  n_estimators=500, subsample=0.8, learning_rate=0.1, max_depth=4, score=0.536026, total=   1.6s\n",
      "[CV] n_estimators=500, subsample=0.8, learning_rate=0.1, max_depth=4 .\n",
      "[CV]  n_estimators=500, subsample=0.8, learning_rate=0.1, max_depth=4, score=0.556736, total=   1.6s\n",
      "[CV] n_estimators=1000, subsample=0.5, learning_rate=0.1, max_depth=4 \n",
      "[CV]  n_estimators=1000, subsample=0.5, learning_rate=0.1, max_depth=4, score=0.573571, total=   3.0s\n",
      "[CV] n_estimators=1000, subsample=0.5, learning_rate=0.1, max_depth=4 \n",
      "[CV]  n_estimators=1000, subsample=0.5, learning_rate=0.1, max_depth=4, score=0.563798, total=   3.2s\n",
      "[CV] n_estimators=1000, subsample=0.5, learning_rate=0.1, max_depth=4 \n",
      "[CV]  n_estimators=1000, subsample=0.5, learning_rate=0.1, max_depth=4, score=0.603897, total=   3.1s\n",
      "[CV] n_estimators=1000, subsample=0.8, learning_rate=0.1, max_depth=4 \n",
      "[CV]  n_estimators=1000, subsample=0.8, learning_rate=0.1, max_depth=4, score=0.576944, total=   3.1s\n",
      "[CV] n_estimators=1000, subsample=0.8, learning_rate=0.1, max_depth=4 \n",
      "[CV]  n_estimators=1000, subsample=0.8, learning_rate=0.1, max_depth=4, score=0.526717, total=   3.2s\n",
      "[CV] n_estimators=1000, subsample=0.8, learning_rate=0.1, max_depth=4 \n",
      "[CV]  n_estimators=1000, subsample=0.8, learning_rate=0.1, max_depth=4, score=0.546588, total=   3.3s\n",
      "[CV] n_estimators=2000, subsample=0.5, learning_rate=0.1, max_depth=4 \n",
      "[CV]  n_estimators=2000, subsample=0.5, learning_rate=0.1, max_depth=4, score=0.611389, total=   6.2s\n",
      "[CV] n_estimators=2000, subsample=0.5, learning_rate=0.1, max_depth=4 \n",
      "[CV]  n_estimators=2000, subsample=0.5, learning_rate=0.1, max_depth=4, score=0.513463, total=   6.3s\n",
      "[CV] n_estimators=2000, subsample=0.5, learning_rate=0.1, max_depth=4 \n",
      "[CV]  n_estimators=2000, subsample=0.5, learning_rate=0.1, max_depth=4, score=0.553961, total=   6.5s\n",
      "[CV] n_estimators=2000, subsample=0.8, learning_rate=0.1, max_depth=4 \n",
      "[CV]  n_estimators=2000, subsample=0.8, learning_rate=0.1, max_depth=4, score=0.507210, total=   6.5s\n",
      "[CV] n_estimators=2000, subsample=0.8, learning_rate=0.1, max_depth=4 \n"
     ]
    },
    {
     "name": "stdout",
     "output_type": "stream",
     "text": [
      "[CV]  n_estimators=2000, subsample=0.8, learning_rate=0.1, max_depth=4, score=0.543403, total=   6.4s\n",
      "[CV] n_estimators=2000, subsample=0.8, learning_rate=0.1, max_depth=4 \n",
      "[CV]  n_estimators=2000, subsample=0.8, learning_rate=0.1, max_depth=4, score=0.566575, total=   6.4s\n",
      "[CV] n_estimators=500, subsample=0.5, learning_rate=0.1, max_depth=5 .\n",
      "[CV]  n_estimators=500, subsample=0.5, learning_rate=0.1, max_depth=5, score=0.497418, total=   2.0s\n",
      "[CV] n_estimators=500, subsample=0.5, learning_rate=0.1, max_depth=5 .\n",
      "[CV]  n_estimators=500, subsample=0.5, learning_rate=0.1, max_depth=5, score=0.577146, total=   1.8s\n",
      "[CV] n_estimators=500, subsample=0.5, learning_rate=0.1, max_depth=5 .\n",
      "[CV]  n_estimators=500, subsample=0.5, learning_rate=0.1, max_depth=5, score=0.560698, total=   2.0s\n",
      "[CV] n_estimators=500, subsample=0.8, learning_rate=0.1, max_depth=5 .\n",
      "[CV]  n_estimators=500, subsample=0.8, learning_rate=0.1, max_depth=5, score=0.589068, total=   2.1s\n",
      "[CV] n_estimators=500, subsample=0.8, learning_rate=0.1, max_depth=5 .\n",
      "[CV]  n_estimators=500, subsample=0.8, learning_rate=0.1, max_depth=5, score=0.567275, total=   1.9s\n",
      "[CV] n_estimators=500, subsample=0.8, learning_rate=0.1, max_depth=5 .\n",
      "[CV]  n_estimators=500, subsample=0.8, learning_rate=0.1, max_depth=5, score=0.573721, total=   1.9s\n",
      "[CV] n_estimators=1000, subsample=0.5, learning_rate=0.1, max_depth=5 \n",
      "[CV]  n_estimators=1000, subsample=0.5, learning_rate=0.1, max_depth=5, score=0.568831, total=   3.6s\n",
      "[CV] n_estimators=1000, subsample=0.5, learning_rate=0.1, max_depth=5 \n",
      "[CV]  n_estimators=1000, subsample=0.5, learning_rate=0.1, max_depth=5, score=0.595132, total=   3.7s\n",
      "[CV] n_estimators=1000, subsample=0.5, learning_rate=0.1, max_depth=5 \n",
      "[CV]  n_estimators=1000, subsample=0.5, learning_rate=0.1, max_depth=5, score=0.572893, total=   3.9s\n",
      "[CV] n_estimators=1000, subsample=0.8, learning_rate=0.1, max_depth=5 \n",
      "[CV]  n_estimators=1000, subsample=0.8, learning_rate=0.1, max_depth=5, score=0.505801, total=   4.2s\n",
      "[CV] n_estimators=1000, subsample=0.8, learning_rate=0.1, max_depth=5 \n",
      "[CV]  n_estimators=1000, subsample=0.8, learning_rate=0.1, max_depth=5, score=0.515212, total=   4.2s\n",
      "[CV] n_estimators=1000, subsample=0.8, learning_rate=0.1, max_depth=5 \n",
      "[CV]  n_estimators=1000, subsample=0.8, learning_rate=0.1, max_depth=5, score=0.553922, total=   4.2s\n",
      "[CV] n_estimators=2000, subsample=0.5, learning_rate=0.1, max_depth=5 \n",
      "[CV]  n_estimators=2000, subsample=0.5, learning_rate=0.1, max_depth=5, score=0.498403, total=   8.0s\n",
      "[CV] n_estimators=2000, subsample=0.5, learning_rate=0.1, max_depth=5 \n",
      "[CV]  n_estimators=2000, subsample=0.5, learning_rate=0.1, max_depth=5, score=0.523740, total=   7.5s\n",
      "[CV] n_estimators=2000, subsample=0.5, learning_rate=0.1, max_depth=5 \n",
      "[CV]  n_estimators=2000, subsample=0.5, learning_rate=0.1, max_depth=5, score=0.564354, total=   7.9s\n",
      "[CV] n_estimators=2000, subsample=0.8, learning_rate=0.1, max_depth=5 \n",
      "[CV]  n_estimators=2000, subsample=0.8, learning_rate=0.1, max_depth=5, score=0.584861, total=   7.9s\n",
      "[CV] n_estimators=2000, subsample=0.8, learning_rate=0.1, max_depth=5 \n",
      "[CV]  n_estimators=2000, subsample=0.8, learning_rate=0.1, max_depth=5, score=0.540392, total=   8.2s\n",
      "[CV] n_estimators=2000, subsample=0.8, learning_rate=0.1, max_depth=5 \n",
      "[CV]  n_estimators=2000, subsample=0.8, learning_rate=0.1, max_depth=5, score=0.543448, total=   8.2s\n",
      "[CV] n_estimators=500, subsample=0.5, learning_rate=0.01, max_depth=2 \n",
      "[CV]  n_estimators=500, subsample=0.5, learning_rate=0.01, max_depth=2, score=0.625739, total=   1.0s\n",
      "[CV] n_estimators=500, subsample=0.5, learning_rate=0.01, max_depth=2 \n",
      "[CV]  n_estimators=500, subsample=0.5, learning_rate=0.01, max_depth=2, score=0.617418, total=   1.0s\n",
      "[CV] n_estimators=500, subsample=0.5, learning_rate=0.01, max_depth=2 \n",
      "[CV]  n_estimators=500, subsample=0.5, learning_rate=0.01, max_depth=2, score=0.620095, total=   1.0s\n",
      "[CV] n_estimators=500, subsample=0.8, learning_rate=0.01, max_depth=2 \n",
      "[CV]  n_estimators=500, subsample=0.8, learning_rate=0.01, max_depth=2, score=0.624897, total=   1.0s\n",
      "[CV] n_estimators=500, subsample=0.8, learning_rate=0.01, max_depth=2 \n",
      "[CV]  n_estimators=500, subsample=0.8, learning_rate=0.01, max_depth=2, score=0.614026, total=   1.0s\n",
      "[CV] n_estimators=500, subsample=0.8, learning_rate=0.01, max_depth=2 \n",
      "[CV]  n_estimators=500, subsample=0.8, learning_rate=0.01, max_depth=2, score=0.625205, total=   1.0s\n",
      "[CV] n_estimators=1000, subsample=0.5, learning_rate=0.01, max_depth=2 \n",
      "[CV]  n_estimators=1000, subsample=0.5, learning_rate=0.01, max_depth=2, score=0.612601, total=   1.9s\n",
      "[CV] n_estimators=1000, subsample=0.5, learning_rate=0.01, max_depth=2 \n",
      "[CV]  n_estimators=1000, subsample=0.5, learning_rate=0.01, max_depth=2, score=0.613723, total=   1.9s\n",
      "[CV] n_estimators=1000, subsample=0.5, learning_rate=0.01, max_depth=2 \n",
      "[CV]  n_estimators=1000, subsample=0.5, learning_rate=0.01, max_depth=2, score=0.614385, total=   1.9s\n",
      "[CV] n_estimators=1000, subsample=0.8, learning_rate=0.01, max_depth=2 \n",
      "[CV]  n_estimators=1000, subsample=0.8, learning_rate=0.01, max_depth=2, score=0.613541, total=   2.0s\n",
      "[CV] n_estimators=1000, subsample=0.8, learning_rate=0.01, max_depth=2 \n",
      "[CV]  n_estimators=1000, subsample=0.8, learning_rate=0.01, max_depth=2, score=0.610280, total=   2.0s\n",
      "[CV] n_estimators=1000, subsample=0.8, learning_rate=0.01, max_depth=2 \n",
      "[CV]  n_estimators=1000, subsample=0.8, learning_rate=0.01, max_depth=2, score=0.616441, total=   2.0s\n",
      "[CV] n_estimators=2000, subsample=0.5, learning_rate=0.01, max_depth=2 \n",
      "[CV]  n_estimators=2000, subsample=0.5, learning_rate=0.01, max_depth=2, score=0.620903, total=   3.9s\n",
      "[CV] n_estimators=2000, subsample=0.5, learning_rate=0.01, max_depth=2 \n",
      "[CV]  n_estimators=2000, subsample=0.5, learning_rate=0.01, max_depth=2, score=0.613050, total=   3.8s\n",
      "[CV] n_estimators=2000, subsample=0.5, learning_rate=0.01, max_depth=2 \n",
      "[CV]  n_estimators=2000, subsample=0.5, learning_rate=0.01, max_depth=2, score=0.613067, total=   3.8s\n",
      "[CV] n_estimators=2000, subsample=0.8, learning_rate=0.01, max_depth=2 \n",
      "[CV]  n_estimators=2000, subsample=0.8, learning_rate=0.01, max_depth=2, score=0.611008, total=   3.9s\n",
      "[CV] n_estimators=2000, subsample=0.8, learning_rate=0.01, max_depth=2 \n",
      "[CV]  n_estimators=2000, subsample=0.8, learning_rate=0.01, max_depth=2, score=0.611074, total=   4.0s\n",
      "[CV] n_estimators=2000, subsample=0.8, learning_rate=0.01, max_depth=2 \n",
      "[CV]  n_estimators=2000, subsample=0.8, learning_rate=0.01, max_depth=2, score=0.601740, total=   4.0s\n",
      "[CV] n_estimators=500, subsample=0.5, learning_rate=0.01, max_depth=3 \n",
      "[CV]  n_estimators=500, subsample=0.5, learning_rate=0.01, max_depth=3, score=0.609696, total=   1.2s\n",
      "[CV] n_estimators=500, subsample=0.5, learning_rate=0.01, max_depth=3 \n",
      "[CV]  n_estimators=500, subsample=0.5, learning_rate=0.01, max_depth=3, score=0.590912, total=   1.2s\n",
      "[CV] n_estimators=500, subsample=0.5, learning_rate=0.01, max_depth=3 \n",
      "[CV]  n_estimators=500, subsample=0.5, learning_rate=0.01, max_depth=3, score=0.595535, total=   1.2s\n",
      "[CV] n_estimators=500, subsample=0.8, learning_rate=0.01, max_depth=3 \n",
      "[CV]  n_estimators=500, subsample=0.8, learning_rate=0.01, max_depth=3, score=0.609075, total=   1.4s\n",
      "[CV] n_estimators=500, subsample=0.8, learning_rate=0.01, max_depth=3 \n",
      "[CV]  n_estimators=500, subsample=0.8, learning_rate=0.01, max_depth=3, score=0.591299, total=   1.4s\n",
      "[CV] n_estimators=500, subsample=0.8, learning_rate=0.01, max_depth=3 \n",
      "[CV]  n_estimators=500, subsample=0.8, learning_rate=0.01, max_depth=3, score=0.611031, total=   1.4s\n",
      "[CV] n_estimators=1000, subsample=0.5, learning_rate=0.01, max_depth=3 \n",
      "[CV]  n_estimators=1000, subsample=0.5, learning_rate=0.01, max_depth=3, score=0.605762, total=   2.5s\n",
      "[CV] n_estimators=1000, subsample=0.5, learning_rate=0.01, max_depth=3 \n",
      "[CV]  n_estimators=1000, subsample=0.5, learning_rate=0.01, max_depth=3, score=0.595232, total=   2.5s\n",
      "[CV] n_estimators=1000, subsample=0.5, learning_rate=0.01, max_depth=3 \n",
      "[CV]  n_estimators=1000, subsample=0.5, learning_rate=0.01, max_depth=3, score=0.602473, total=   2.5s\n",
      "[CV] n_estimators=1000, subsample=0.8, learning_rate=0.01, max_depth=3 \n",
      "[CV]  n_estimators=1000, subsample=0.8, learning_rate=0.01, max_depth=3, score=0.599217, total=   2.7s\n",
      "[CV] n_estimators=1000, subsample=0.8, learning_rate=0.01, max_depth=3 \n"
     ]
    },
    {
     "name": "stdout",
     "output_type": "stream",
     "text": [
      "[CV]  n_estimators=1000, subsample=0.8, learning_rate=0.01, max_depth=3, score=0.595412, total=   2.7s\n",
      "[CV] n_estimators=1000, subsample=0.8, learning_rate=0.01, max_depth=3 \n",
      "[CV]  n_estimators=1000, subsample=0.8, learning_rate=0.01, max_depth=3, score=0.602322, total=   2.7s\n",
      "[CV] n_estimators=2000, subsample=0.5, learning_rate=0.01, max_depth=3 \n",
      "[CV]  n_estimators=2000, subsample=0.5, learning_rate=0.01, max_depth=3, score=0.595298, total=   4.9s\n",
      "[CV] n_estimators=2000, subsample=0.5, learning_rate=0.01, max_depth=3 \n",
      "[CV]  n_estimators=2000, subsample=0.5, learning_rate=0.01, max_depth=3, score=0.574113, total=   4.9s\n",
      "[CV] n_estimators=2000, subsample=0.5, learning_rate=0.01, max_depth=3 \n",
      "[CV]  n_estimators=2000, subsample=0.5, learning_rate=0.01, max_depth=3, score=0.590381, total=   4.9s\n",
      "[CV] n_estimators=2000, subsample=0.8, learning_rate=0.01, max_depth=3 \n",
      "[CV]  n_estimators=2000, subsample=0.8, learning_rate=0.01, max_depth=3, score=0.596366, total=   5.2s\n",
      "[CV] n_estimators=2000, subsample=0.8, learning_rate=0.01, max_depth=3 \n",
      "[CV]  n_estimators=2000, subsample=0.8, learning_rate=0.01, max_depth=3, score=0.580463, total=   5.3s\n",
      "[CV] n_estimators=2000, subsample=0.8, learning_rate=0.01, max_depth=3 \n",
      "[CV]  n_estimators=2000, subsample=0.8, learning_rate=0.01, max_depth=3, score=0.582420, total=   5.3s\n",
      "[CV] n_estimators=500, subsample=0.5, learning_rate=0.01, max_depth=4 \n",
      "[CV]  n_estimators=500, subsample=0.5, learning_rate=0.01, max_depth=4, score=0.591928, total=   1.5s\n",
      "[CV] n_estimators=500, subsample=0.5, learning_rate=0.01, max_depth=4 \n",
      "[CV]  n_estimators=500, subsample=0.5, learning_rate=0.01, max_depth=4, score=0.586740, total=   1.5s\n",
      "[CV] n_estimators=500, subsample=0.5, learning_rate=0.01, max_depth=4 \n",
      "[CV]  n_estimators=500, subsample=0.5, learning_rate=0.01, max_depth=4, score=0.605893, total=   1.5s\n",
      "[CV] n_estimators=500, subsample=0.8, learning_rate=0.01, max_depth=4 \n",
      "[CV]  n_estimators=500, subsample=0.8, learning_rate=0.01, max_depth=4, score=0.592139, total=   1.7s\n",
      "[CV] n_estimators=500, subsample=0.8, learning_rate=0.01, max_depth=4 \n",
      "[CV]  n_estimators=500, subsample=0.8, learning_rate=0.01, max_depth=4, score=0.576203, total=   1.8s\n",
      "[CV] n_estimators=500, subsample=0.8, learning_rate=0.01, max_depth=4 \n",
      "[CV]  n_estimators=500, subsample=0.8, learning_rate=0.01, max_depth=4, score=0.592907, total=   1.8s\n",
      "[CV] n_estimators=1000, subsample=0.5, learning_rate=0.01, max_depth=4 \n",
      "[CV]  n_estimators=1000, subsample=0.5, learning_rate=0.01, max_depth=4, score=0.585002, total=   3.0s\n",
      "[CV] n_estimators=1000, subsample=0.5, learning_rate=0.01, max_depth=4 \n",
      "[CV]  n_estimators=1000, subsample=0.5, learning_rate=0.01, max_depth=4, score=0.567715, total=   3.1s\n",
      "[CV] n_estimators=1000, subsample=0.5, learning_rate=0.01, max_depth=4 \n",
      "[CV]  n_estimators=1000, subsample=0.5, learning_rate=0.01, max_depth=4, score=0.593387, total=   3.1s\n",
      "[CV] n_estimators=1000, subsample=0.8, learning_rate=0.01, max_depth=4 \n",
      "[CV]  n_estimators=1000, subsample=0.8, learning_rate=0.01, max_depth=4, score=0.583239, total=   3.4s\n",
      "[CV] n_estimators=1000, subsample=0.8, learning_rate=0.01, max_depth=4 \n",
      "[CV]  n_estimators=1000, subsample=0.8, learning_rate=0.01, max_depth=4, score=0.570254, total=   3.4s\n",
      "[CV] n_estimators=1000, subsample=0.8, learning_rate=0.01, max_depth=4 \n",
      "[CV]  n_estimators=1000, subsample=0.8, learning_rate=0.01, max_depth=4, score=0.579658, total=   3.5s\n",
      "[CV] n_estimators=2000, subsample=0.5, learning_rate=0.01, max_depth=4 \n",
      "[CV]  n_estimators=2000, subsample=0.5, learning_rate=0.01, max_depth=4, score=0.575695, total=   6.1s\n",
      "[CV] n_estimators=2000, subsample=0.5, learning_rate=0.01, max_depth=4 \n",
      "[CV]  n_estimators=2000, subsample=0.5, learning_rate=0.01, max_depth=4, score=0.547932, total=   6.2s\n",
      "[CV] n_estimators=2000, subsample=0.5, learning_rate=0.01, max_depth=4 \n",
      "[CV]  n_estimators=2000, subsample=0.5, learning_rate=0.01, max_depth=4, score=0.540205, total=   6.2s\n",
      "[CV] n_estimators=2000, subsample=0.8, learning_rate=0.01, max_depth=4 \n",
      "[CV]  n_estimators=2000, subsample=0.8, learning_rate=0.01, max_depth=4, score=0.574208, total=   6.6s\n",
      "[CV] n_estimators=2000, subsample=0.8, learning_rate=0.01, max_depth=4 \n",
      "[CV]  n_estimators=2000, subsample=0.8, learning_rate=0.01, max_depth=4, score=0.557529, total=   6.8s\n",
      "[CV] n_estimators=2000, subsample=0.8, learning_rate=0.01, max_depth=4 \n",
      "[CV]  n_estimators=2000, subsample=0.8, learning_rate=0.01, max_depth=4, score=0.570862, total=   6.8s\n",
      "[CV] n_estimators=500, subsample=0.5, learning_rate=0.01, max_depth=5 \n",
      "[CV]  n_estimators=500, subsample=0.5, learning_rate=0.01, max_depth=5, score=0.577740, total=   1.9s\n",
      "[CV] n_estimators=500, subsample=0.5, learning_rate=0.01, max_depth=5 \n",
      "[CV]  n_estimators=500, subsample=0.5, learning_rate=0.01, max_depth=5, score=0.561720, total=   1.9s\n",
      "[CV] n_estimators=500, subsample=0.5, learning_rate=0.01, max_depth=5 \n",
      "[CV]  n_estimators=500, subsample=0.5, learning_rate=0.01, max_depth=5, score=0.561295, total=   1.9s\n",
      "[CV] n_estimators=500, subsample=0.8, learning_rate=0.01, max_depth=5 \n",
      "[CV]  n_estimators=500, subsample=0.8, learning_rate=0.01, max_depth=5, score=0.576585, total=   2.1s\n",
      "[CV] n_estimators=500, subsample=0.8, learning_rate=0.01, max_depth=5 \n",
      "[CV]  n_estimators=500, subsample=0.8, learning_rate=0.01, max_depth=5, score=0.558029, total=   2.2s\n",
      "[CV] n_estimators=500, subsample=0.8, learning_rate=0.01, max_depth=5 \n",
      "[CV]  n_estimators=500, subsample=0.8, learning_rate=0.01, max_depth=5, score=0.569351, total=   2.2s\n",
      "[CV] n_estimators=1000, subsample=0.5, learning_rate=0.01, max_depth=5 \n",
      "[CV]  n_estimators=1000, subsample=0.5, learning_rate=0.01, max_depth=5, score=0.552141, total=   3.8s\n",
      "[CV] n_estimators=1000, subsample=0.5, learning_rate=0.01, max_depth=5 \n",
      "[CV]  n_estimators=1000, subsample=0.5, learning_rate=0.01, max_depth=5, score=0.556354, total=   3.8s\n",
      "[CV] n_estimators=1000, subsample=0.5, learning_rate=0.01, max_depth=5 \n",
      "[CV]  n_estimators=1000, subsample=0.5, learning_rate=0.01, max_depth=5, score=0.545774, total=   3.8s\n",
      "[CV] n_estimators=1000, subsample=0.8, learning_rate=0.01, max_depth=5 \n",
      "[CV]  n_estimators=1000, subsample=0.8, learning_rate=0.01, max_depth=5, score=0.570690, total=   4.2s\n",
      "[CV] n_estimators=1000, subsample=0.8, learning_rate=0.01, max_depth=5 \n",
      "[CV]  n_estimators=1000, subsample=0.8, learning_rate=0.01, max_depth=5, score=0.551052, total=   4.3s\n",
      "[CV] n_estimators=1000, subsample=0.8, learning_rate=0.01, max_depth=5 \n",
      "[CV]  n_estimators=1000, subsample=0.8, learning_rate=0.01, max_depth=5, score=0.566703, total=   4.3s\n",
      "[CV] n_estimators=2000, subsample=0.5, learning_rate=0.01, max_depth=5 \n",
      "[CV]  n_estimators=2000, subsample=0.5, learning_rate=0.01, max_depth=5, score=0.546298, total=   7.5s\n",
      "[CV] n_estimators=2000, subsample=0.5, learning_rate=0.01, max_depth=5 \n",
      "[CV]  n_estimators=2000, subsample=0.5, learning_rate=0.01, max_depth=5, score=0.534294, total=   7.6s\n",
      "[CV] n_estimators=2000, subsample=0.5, learning_rate=0.01, max_depth=5 \n",
      "[CV]  n_estimators=2000, subsample=0.5, learning_rate=0.01, max_depth=5, score=0.537795, total=   7.8s\n",
      "[CV] n_estimators=2000, subsample=0.8, learning_rate=0.01, max_depth=5 \n",
      "[CV]  n_estimators=2000, subsample=0.8, learning_rate=0.01, max_depth=5, score=0.563290, total=   8.2s\n",
      "[CV] n_estimators=2000, subsample=0.8, learning_rate=0.01, max_depth=5 \n",
      "[CV]  n_estimators=2000, subsample=0.8, learning_rate=0.01, max_depth=5, score=0.526829, total=   8.4s\n",
      "[CV] n_estimators=2000, subsample=0.8, learning_rate=0.01, max_depth=5 \n",
      "[CV]  n_estimators=2000, subsample=0.8, learning_rate=0.01, max_depth=5, score=0.539797, total=   8.4s\n",
      "[CV] n_estimators=500, subsample=0.5, learning_rate=0.001, max_depth=2 \n",
      "[CV]  n_estimators=500, subsample=0.5, learning_rate=0.001, max_depth=2, score=0.624243, total=   1.0s\n",
      "[CV] n_estimators=500, subsample=0.5, learning_rate=0.001, max_depth=2 \n",
      "[CV]  n_estimators=500, subsample=0.5, learning_rate=0.001, max_depth=2, score=0.625407, total=   1.0s\n",
      "[CV] n_estimators=500, subsample=0.5, learning_rate=0.001, max_depth=2 \n",
      "[CV]  n_estimators=500, subsample=0.5, learning_rate=0.001, max_depth=2, score=0.634576, total=   1.0s\n",
      "[CV] n_estimators=500, subsample=0.8, learning_rate=0.001, max_depth=2 \n"
     ]
    },
    {
     "name": "stdout",
     "output_type": "stream",
     "text": [
      "[CV]  n_estimators=500, subsample=0.8, learning_rate=0.001, max_depth=2, score=0.633991, total=   1.1s\n",
      "[CV] n_estimators=500, subsample=0.8, learning_rate=0.001, max_depth=2 \n",
      "[CV]  n_estimators=500, subsample=0.8, learning_rate=0.001, max_depth=2, score=0.632216, total=   1.1s\n",
      "[CV] n_estimators=500, subsample=0.8, learning_rate=0.001, max_depth=2 \n",
      "[CV]  n_estimators=500, subsample=0.8, learning_rate=0.001, max_depth=2, score=0.641574, total=   1.1s\n",
      "[CV] n_estimators=1000, subsample=0.5, learning_rate=0.001, max_depth=2 \n",
      "[CV]  n_estimators=1000, subsample=0.5, learning_rate=0.001, max_depth=2, score=0.629293, total=   2.0s\n",
      "[CV] n_estimators=1000, subsample=0.5, learning_rate=0.001, max_depth=2 \n",
      "[CV]  n_estimators=1000, subsample=0.5, learning_rate=0.001, max_depth=2, score=0.615411, total=   1.9s\n",
      "[CV] n_estimators=1000, subsample=0.5, learning_rate=0.001, max_depth=2 \n",
      "[CV]  n_estimators=1000, subsample=0.5, learning_rate=0.001, max_depth=2, score=0.634482, total=   1.9s\n",
      "[CV] n_estimators=1000, subsample=0.8, learning_rate=0.001, max_depth=2 \n",
      "[CV]  n_estimators=1000, subsample=0.8, learning_rate=0.001, max_depth=2, score=0.631801, total=   2.1s\n",
      "[CV] n_estimators=1000, subsample=0.8, learning_rate=0.001, max_depth=2 \n",
      "[CV]  n_estimators=1000, subsample=0.8, learning_rate=0.001, max_depth=2, score=0.624773, total=   2.1s\n",
      "[CV] n_estimators=1000, subsample=0.8, learning_rate=0.001, max_depth=2 \n",
      "[CV]  n_estimators=1000, subsample=0.8, learning_rate=0.001, max_depth=2, score=0.638737, total=   2.1s\n",
      "[CV] n_estimators=2000, subsample=0.5, learning_rate=0.001, max_depth=2 \n",
      "[CV]  n_estimators=2000, subsample=0.5, learning_rate=0.001, max_depth=2, score=0.627218, total=   3.8s\n",
      "[CV] n_estimators=2000, subsample=0.5, learning_rate=0.001, max_depth=2 \n",
      "[CV]  n_estimators=2000, subsample=0.5, learning_rate=0.001, max_depth=2, score=0.611028, total=   3.9s\n",
      "[CV] n_estimators=2000, subsample=0.5, learning_rate=0.001, max_depth=2 \n",
      "[CV]  n_estimators=2000, subsample=0.5, learning_rate=0.001, max_depth=2, score=0.629510, total=   3.8s\n",
      "[CV] n_estimators=2000, subsample=0.8, learning_rate=0.001, max_depth=2 \n",
      "[CV]  n_estimators=2000, subsample=0.8, learning_rate=0.001, max_depth=2, score=0.628846, total=   4.1s\n",
      "[CV] n_estimators=2000, subsample=0.8, learning_rate=0.001, max_depth=2 \n",
      "[CV]  n_estimators=2000, subsample=0.8, learning_rate=0.001, max_depth=2, score=0.619707, total=   4.1s\n",
      "[CV] n_estimators=2000, subsample=0.8, learning_rate=0.001, max_depth=2 \n",
      "[CV]  n_estimators=2000, subsample=0.8, learning_rate=0.001, max_depth=2, score=0.629727, total=   4.1s\n",
      "[CV] n_estimators=500, subsample=0.5, learning_rate=0.001, max_depth=3 \n",
      "[CV]  n_estimators=500, subsample=0.5, learning_rate=0.001, max_depth=3, score=0.609958, total=   1.3s\n",
      "[CV] n_estimators=500, subsample=0.5, learning_rate=0.001, max_depth=3 \n",
      "[CV]  n_estimators=500, subsample=0.5, learning_rate=0.001, max_depth=3, score=0.594600, total=   1.3s\n",
      "[CV] n_estimators=500, subsample=0.5, learning_rate=0.001, max_depth=3 \n",
      "[CV]  n_estimators=500, subsample=0.5, learning_rate=0.001, max_depth=3, score=0.614025, total=   1.3s\n",
      "[CV] n_estimators=500, subsample=0.8, learning_rate=0.001, max_depth=3 \n",
      "[CV]  n_estimators=500, subsample=0.8, learning_rate=0.001, max_depth=3, score=0.613674, total=   1.4s\n",
      "[CV] n_estimators=500, subsample=0.8, learning_rate=0.001, max_depth=3 \n",
      "[CV]  n_estimators=500, subsample=0.8, learning_rate=0.001, max_depth=3, score=0.619097, total=   1.4s\n",
      "[CV] n_estimators=500, subsample=0.8, learning_rate=0.001, max_depth=3 \n",
      "[CV]  n_estimators=500, subsample=0.8, learning_rate=0.001, max_depth=3, score=0.619036, total=   1.4s\n",
      "[CV] n_estimators=1000, subsample=0.5, learning_rate=0.001, max_depth=3 \n",
      "[CV]  n_estimators=1000, subsample=0.5, learning_rate=0.001, max_depth=3, score=0.612355, total=   2.5s\n",
      "[CV] n_estimators=1000, subsample=0.5, learning_rate=0.001, max_depth=3 \n",
      "[CV]  n_estimators=1000, subsample=0.5, learning_rate=0.001, max_depth=3, score=0.605931, total=   2.5s\n",
      "[CV] n_estimators=1000, subsample=0.5, learning_rate=0.001, max_depth=3 \n",
      "[CV]  n_estimators=1000, subsample=0.5, learning_rate=0.001, max_depth=3, score=0.613698, total=   2.5s\n",
      "[CV] n_estimators=1000, subsample=0.8, learning_rate=0.001, max_depth=3 \n",
      "[CV]  n_estimators=1000, subsample=0.8, learning_rate=0.001, max_depth=3, score=0.612588, total=   2.9s\n",
      "[CV] n_estimators=1000, subsample=0.8, learning_rate=0.001, max_depth=3 \n",
      "[CV]  n_estimators=1000, subsample=0.8, learning_rate=0.001, max_depth=3, score=0.616316, total=   2.9s\n",
      "[CV] n_estimators=1000, subsample=0.8, learning_rate=0.001, max_depth=3 \n",
      "[CV]  n_estimators=1000, subsample=0.8, learning_rate=0.001, max_depth=3, score=0.621278, total=   2.9s\n",
      "[CV] n_estimators=2000, subsample=0.5, learning_rate=0.001, max_depth=3 \n",
      "[CV]  n_estimators=2000, subsample=0.5, learning_rate=0.001, max_depth=3, score=0.612695, total=   5.0s\n",
      "[CV] n_estimators=2000, subsample=0.5, learning_rate=0.001, max_depth=3 \n",
      "[CV]  n_estimators=2000, subsample=0.5, learning_rate=0.001, max_depth=3, score=0.601141, total=   5.0s\n",
      "[CV] n_estimators=2000, subsample=0.5, learning_rate=0.001, max_depth=3 \n",
      "[CV]  n_estimators=2000, subsample=0.5, learning_rate=0.001, max_depth=3, score=0.618044, total=   4.9s\n",
      "[CV] n_estimators=2000, subsample=0.8, learning_rate=0.001, max_depth=3 \n",
      "[CV]  n_estimators=2000, subsample=0.8, learning_rate=0.001, max_depth=3, score=0.613683, total=   5.7s\n",
      "[CV] n_estimators=2000, subsample=0.8, learning_rate=0.001, max_depth=3 \n",
      "[CV]  n_estimators=2000, subsample=0.8, learning_rate=0.001, max_depth=3, score=0.608650, total=   5.7s\n",
      "[CV] n_estimators=2000, subsample=0.8, learning_rate=0.001, max_depth=3 \n",
      "[CV]  n_estimators=2000, subsample=0.8, learning_rate=0.001, max_depth=3, score=0.620849, total=   5.6s\n",
      "[CV] n_estimators=500, subsample=0.5, learning_rate=0.001, max_depth=4 \n",
      "[CV]  n_estimators=500, subsample=0.5, learning_rate=0.001, max_depth=4, score=0.588418, total=   1.6s\n",
      "[CV] n_estimators=500, subsample=0.5, learning_rate=0.001, max_depth=4 \n",
      "[CV]  n_estimators=500, subsample=0.5, learning_rate=0.001, max_depth=4, score=0.579299, total=   1.6s\n",
      "[CV] n_estimators=500, subsample=0.5, learning_rate=0.001, max_depth=4 \n",
      "[CV]  n_estimators=500, subsample=0.5, learning_rate=0.001, max_depth=4, score=0.590482, total=   1.6s\n",
      "[CV] n_estimators=500, subsample=0.8, learning_rate=0.001, max_depth=4 \n",
      "[CV]  n_estimators=500, subsample=0.8, learning_rate=0.001, max_depth=4, score=0.598378, total=   1.9s\n",
      "[CV] n_estimators=500, subsample=0.8, learning_rate=0.001, max_depth=4 \n",
      "[CV]  n_estimators=500, subsample=0.8, learning_rate=0.001, max_depth=4, score=0.596038, total=   1.9s\n",
      "[CV] n_estimators=500, subsample=0.8, learning_rate=0.001, max_depth=4 \n",
      "[CV]  n_estimators=500, subsample=0.8, learning_rate=0.001, max_depth=4, score=0.597872, total=   1.9s\n",
      "[CV] n_estimators=1000, subsample=0.5, learning_rate=0.001, max_depth=4 \n",
      "[CV]  n_estimators=1000, subsample=0.5, learning_rate=0.001, max_depth=4, score=0.595018, total=   3.1s\n",
      "[CV] n_estimators=1000, subsample=0.5, learning_rate=0.001, max_depth=4 \n",
      "[CV]  n_estimators=1000, subsample=0.5, learning_rate=0.001, max_depth=4, score=0.584677, total=   3.1s\n",
      "[CV] n_estimators=1000, subsample=0.5, learning_rate=0.001, max_depth=4 \n",
      "[CV]  n_estimators=1000, subsample=0.5, learning_rate=0.001, max_depth=4, score=0.601323, total=   3.2s\n",
      "[CV] n_estimators=1000, subsample=0.8, learning_rate=0.001, max_depth=4 \n",
      "[CV]  n_estimators=1000, subsample=0.8, learning_rate=0.001, max_depth=4, score=0.599539, total=   3.8s\n",
      "[CV] n_estimators=1000, subsample=0.8, learning_rate=0.001, max_depth=4 \n",
      "[CV]  n_estimators=1000, subsample=0.8, learning_rate=0.001, max_depth=4, score=0.594609, total=   3.7s\n",
      "[CV] n_estimators=1000, subsample=0.8, learning_rate=0.001, max_depth=4 \n",
      "[CV]  n_estimators=1000, subsample=0.8, learning_rate=0.001, max_depth=4, score=0.595710, total=   3.8s\n",
      "[CV] n_estimators=2000, subsample=0.5, learning_rate=0.001, max_depth=4 \n",
      "[CV]  n_estimators=2000, subsample=0.5, learning_rate=0.001, max_depth=4, score=0.596748, total=   6.2s\n",
      "[CV] n_estimators=2000, subsample=0.5, learning_rate=0.001, max_depth=4 \n",
      "[CV]  n_estimators=2000, subsample=0.5, learning_rate=0.001, max_depth=4, score=0.578398, total=   6.2s\n",
      "[CV] n_estimators=2000, subsample=0.5, learning_rate=0.001, max_depth=4 \n"
     ]
    },
    {
     "name": "stdout",
     "output_type": "stream",
     "text": [
      "[CV]  n_estimators=2000, subsample=0.5, learning_rate=0.001, max_depth=4, score=0.602391, total=   6.2s\n",
      "[CV] n_estimators=2000, subsample=0.8, learning_rate=0.001, max_depth=4 \n",
      "[CV]  n_estimators=2000, subsample=0.8, learning_rate=0.001, max_depth=4, score=0.600603, total=   7.3s\n",
      "[CV] n_estimators=2000, subsample=0.8, learning_rate=0.001, max_depth=4 \n",
      "[CV]  n_estimators=2000, subsample=0.8, learning_rate=0.001, max_depth=4, score=0.588381, total=   7.3s\n",
      "[CV] n_estimators=2000, subsample=0.8, learning_rate=0.001, max_depth=4 \n",
      "[CV]  n_estimators=2000, subsample=0.8, learning_rate=0.001, max_depth=4, score=0.602173, total=   7.3s\n",
      "[CV] n_estimators=500, subsample=0.5, learning_rate=0.001, max_depth=5 \n",
      "[CV]  n_estimators=500, subsample=0.5, learning_rate=0.001, max_depth=5, score=0.567618, total=   2.0s\n",
      "[CV] n_estimators=500, subsample=0.5, learning_rate=0.001, max_depth=5 \n",
      "[CV]  n_estimators=500, subsample=0.5, learning_rate=0.001, max_depth=5, score=0.548551, total=   1.9s\n",
      "[CV] n_estimators=500, subsample=0.5, learning_rate=0.001, max_depth=5 \n",
      "[CV]  n_estimators=500, subsample=0.5, learning_rate=0.001, max_depth=5, score=0.563109, total=   2.0s\n",
      "[CV] n_estimators=500, subsample=0.8, learning_rate=0.001, max_depth=5 \n",
      "[CV]  n_estimators=500, subsample=0.8, learning_rate=0.001, max_depth=5, score=0.584397, total=   2.4s\n",
      "[CV] n_estimators=500, subsample=0.8, learning_rate=0.001, max_depth=5 \n",
      "[CV]  n_estimators=500, subsample=0.8, learning_rate=0.001, max_depth=5, score=0.571383, total=   2.4s\n",
      "[CV] n_estimators=500, subsample=0.8, learning_rate=0.001, max_depth=5 \n",
      "[CV]  n_estimators=500, subsample=0.8, learning_rate=0.001, max_depth=5, score=0.568454, total=   2.4s\n",
      "[CV] n_estimators=1000, subsample=0.5, learning_rate=0.001, max_depth=5 \n",
      "[CV]  n_estimators=1000, subsample=0.5, learning_rate=0.001, max_depth=5, score=0.575456, total=   3.8s\n",
      "[CV] n_estimators=1000, subsample=0.5, learning_rate=0.001, max_depth=5 \n",
      "[CV]  n_estimators=1000, subsample=0.5, learning_rate=0.001, max_depth=5, score=0.566354, total=   3.8s\n",
      "[CV] n_estimators=1000, subsample=0.5, learning_rate=0.001, max_depth=5 \n",
      "[CV]  n_estimators=1000, subsample=0.5, learning_rate=0.001, max_depth=5, score=0.580568, total=   3.9s\n",
      "[CV] n_estimators=1000, subsample=0.8, learning_rate=0.001, max_depth=5 \n",
      "[CV]  n_estimators=1000, subsample=0.8, learning_rate=0.001, max_depth=5, score=0.582208, total=   4.7s\n",
      "[CV] n_estimators=1000, subsample=0.8, learning_rate=0.001, max_depth=5 \n",
      "[CV]  n_estimators=1000, subsample=0.8, learning_rate=0.001, max_depth=5, score=0.570090, total=   4.7s\n",
      "[CV] n_estimators=1000, subsample=0.8, learning_rate=0.001, max_depth=5 \n",
      "[CV]  n_estimators=1000, subsample=0.8, learning_rate=0.001, max_depth=5, score=0.575679, total=   4.8s\n",
      "[CV] n_estimators=2000, subsample=0.5, learning_rate=0.001, max_depth=5 \n",
      "[CV]  n_estimators=2000, subsample=0.5, learning_rate=0.001, max_depth=5, score=0.584791, total=   7.5s\n",
      "[CV] n_estimators=2000, subsample=0.5, learning_rate=0.001, max_depth=5 \n",
      "[CV]  n_estimators=2000, subsample=0.5, learning_rate=0.001, max_depth=5, score=0.559641, total=   7.5s\n",
      "[CV] n_estimators=2000, subsample=0.5, learning_rate=0.001, max_depth=5 \n",
      "[CV]  n_estimators=2000, subsample=0.5, learning_rate=0.001, max_depth=5, score=0.587031, total=   7.5s\n",
      "[CV] n_estimators=2000, subsample=0.8, learning_rate=0.001, max_depth=5 \n",
      "[CV]  n_estimators=2000, subsample=0.8, learning_rate=0.001, max_depth=5, score=0.583652, total=   9.1s\n",
      "[CV] n_estimators=2000, subsample=0.8, learning_rate=0.001, max_depth=5 \n",
      "[CV]  n_estimators=2000, subsample=0.8, learning_rate=0.001, max_depth=5, score=0.567390, total=   9.2s\n",
      "[CV] n_estimators=2000, subsample=0.8, learning_rate=0.001, max_depth=5 \n",
      "[CV]  n_estimators=2000, subsample=0.8, learning_rate=0.001, max_depth=5, score=0.580678, total=   9.3s\n"
     ]
    },
    {
     "name": "stderr",
     "output_type": "stream",
     "text": [
      "[Parallel(n_jobs=1)]: Done 216 out of 216 | elapsed: 12.7min finished\n"
     ]
    }
   ],
   "source": [
    "gbc_fitted_simple = gbc_search_simple.fit(X_train_simple,y_train_simple)"
   ]
  },
  {
   "cell_type": "code",
   "execution_count": 35,
   "metadata": {
    "collapsed": true
   },
   "outputs": [],
   "source": [
    "log_simple = LogisticRegression()\n",
    "log_fitted_simple = log.fit(X_train_simple,y_train_simple,sample_weight=weights_train_simple)"
   ]
  },
  {
   "cell_type": "code",
   "execution_count": 43,
   "metadata": {
    "collapsed": true
   },
   "outputs": [],
   "source": [
    "rf_simple=RandomForestClassifier()\n",
    "\n",
    "rf_search_simple = GridSearchCV(rf, param_grid ={'n_estimators':[10, 20, 100], 'max_features':['sqrt', 'log2'], 'max_depth': [2,3,4,5]}, scoring=my_auc, fit_params={'sample_weight': np.array(weights_train_simple)}, n_jobs=1, iid=True, refit=True, \n",
    "             cv=None, verbose=5, pre_dispatch='2*n_jobs', error_score='raise', return_train_score=True)"
   ]
  },
  {
   "cell_type": "code",
   "execution_count": 45,
   "metadata": {},
   "outputs": [
    {
     "name": "stdout",
     "output_type": "stream",
     "text": [
      "Fitting 3 folds for each of 24 candidates, totalling 72 fits\n",
      "[CV] max_features=sqrt, n_estimators=10, max_depth=2 .................\n",
      "[CV]  max_features=sqrt, n_estimators=10, max_depth=2, score=0.632954, total=   0.0s\n",
      "[CV] max_features=sqrt, n_estimators=10, max_depth=2 .................\n",
      "[CV]  max_features=sqrt, n_estimators=10, max_depth=2, score=0.616008, total=   0.0s\n",
      "[CV] max_features=sqrt, n_estimators=10, max_depth=2 .................\n",
      "[CV]  max_features=sqrt, n_estimators=10, max_depth=2, score=0.639979, total=   0.1s\n",
      "[CV] max_features=sqrt, n_estimators=20, max_depth=2 .................\n"
     ]
    },
    {
     "name": "stderr",
     "output_type": "stream",
     "text": [
      "[Parallel(n_jobs=1)]: Done   1 out of   1 | elapsed:    0.1s remaining:    0.0s\n",
      "[Parallel(n_jobs=1)]: Done   2 out of   2 | elapsed:    0.1s remaining:    0.0s\n",
      "[Parallel(n_jobs=1)]: Done   3 out of   3 | elapsed:    0.2s remaining:    0.0s\n"
     ]
    },
    {
     "name": "stdout",
     "output_type": "stream",
     "text": [
      "[CV]  max_features=sqrt, n_estimators=20, max_depth=2, score=0.630998, total=   0.1s\n",
      "[CV] max_features=sqrt, n_estimators=20, max_depth=2 .................\n",
      "[CV]  max_features=sqrt, n_estimators=20, max_depth=2, score=0.607059, total=   0.1s\n",
      "[CV] max_features=sqrt, n_estimators=20, max_depth=2 .................\n"
     ]
    },
    {
     "name": "stderr",
     "output_type": "stream",
     "text": [
      "[Parallel(n_jobs=1)]: Done   4 out of   4 | elapsed:    0.3s remaining:    0.0s\n"
     ]
    },
    {
     "name": "stdout",
     "output_type": "stream",
     "text": [
      "[CV]  max_features=sqrt, n_estimators=20, max_depth=2, score=0.637103, total=   0.1s\n",
      "[CV] max_features=sqrt, n_estimators=100, max_depth=2 ................\n",
      "[CV]  max_features=sqrt, n_estimators=100, max_depth=2, score=0.632089, total=   0.5s\n",
      "[CV] max_features=sqrt, n_estimators=100, max_depth=2 ................\n",
      "[CV]  max_features=sqrt, n_estimators=100, max_depth=2, score=0.623221, total=   0.5s\n",
      "[CV] max_features=sqrt, n_estimators=100, max_depth=2 ................\n",
      "[CV]  max_features=sqrt, n_estimators=100, max_depth=2, score=0.637253, total=   0.5s\n",
      "[CV] max_features=log2, n_estimators=10, max_depth=2 .................\n",
      "[CV]  max_features=log2, n_estimators=10, max_depth=2, score=0.649546, total=   0.0s\n",
      "[CV] max_features=log2, n_estimators=10, max_depth=2 .................\n",
      "[CV]  max_features=log2, n_estimators=10, max_depth=2, score=0.614135, total=   0.0s\n",
      "[CV] max_features=log2, n_estimators=10, max_depth=2 .................\n",
      "[CV]  max_features=log2, n_estimators=10, max_depth=2, score=0.652583, total=   0.1s\n",
      "[CV] max_features=log2, n_estimators=20, max_depth=2 .................\n",
      "[CV]  max_features=log2, n_estimators=20, max_depth=2, score=0.617623, total=   0.1s\n",
      "[CV] max_features=log2, n_estimators=20, max_depth=2 .................\n",
      "[CV]  max_features=log2, n_estimators=20, max_depth=2, score=0.628364, total=   0.1s\n",
      "[CV] max_features=log2, n_estimators=20, max_depth=2 .................\n",
      "[CV]  max_features=log2, n_estimators=20, max_depth=2, score=0.660188, total=   0.1s\n",
      "[CV] max_features=log2, n_estimators=100, max_depth=2 ................\n",
      "[CV]  max_features=log2, n_estimators=100, max_depth=2, score=0.630615, total=   0.4s\n",
      "[CV] max_features=log2, n_estimators=100, max_depth=2 ................\n",
      "[CV]  max_features=log2, n_estimators=100, max_depth=2, score=0.629106, total=   0.4s\n",
      "[CV] max_features=log2, n_estimators=100, max_depth=2 ................\n",
      "[CV]  max_features=log2, n_estimators=100, max_depth=2, score=0.623965, total=   0.4s\n",
      "[CV] max_features=sqrt, n_estimators=10, max_depth=3 .................\n",
      "[CV]  max_features=sqrt, n_estimators=10, max_depth=3, score=0.627317, total=   0.1s\n",
      "[CV] max_features=sqrt, n_estimators=10, max_depth=3 .................\n",
      "[CV]  max_features=sqrt, n_estimators=10, max_depth=3, score=0.619314, total=   0.1s\n",
      "[CV] max_features=sqrt, n_estimators=10, max_depth=3 .................\n",
      "[CV]  max_features=sqrt, n_estimators=10, max_depth=3, score=0.620887, total=   0.1s\n",
      "[CV] max_features=sqrt, n_estimators=20, max_depth=3 .................\n",
      "[CV]  max_features=sqrt, n_estimators=20, max_depth=3, score=0.598935, total=   0.1s\n",
      "[CV] max_features=sqrt, n_estimators=20, max_depth=3 .................\n",
      "[CV]  max_features=sqrt, n_estimators=20, max_depth=3, score=0.602291, total=   0.1s\n",
      "[CV] max_features=sqrt, n_estimators=20, max_depth=3 .................\n",
      "[CV]  max_features=sqrt, n_estimators=20, max_depth=3, score=0.613689, total=   0.1s\n",
      "[CV] max_features=sqrt, n_estimators=100, max_depth=3 ................\n",
      "[CV]  max_features=sqrt, n_estimators=100, max_depth=3, score=0.594299, total=   0.5s\n",
      "[CV] max_features=sqrt, n_estimators=100, max_depth=3 ................\n",
      "[CV]  max_features=sqrt, n_estimators=100, max_depth=3, score=0.586327, total=   0.5s\n",
      "[CV] max_features=sqrt, n_estimators=100, max_depth=3 ................\n",
      "[CV]  max_features=sqrt, n_estimators=100, max_depth=3, score=0.602510, total=   0.5s\n",
      "[CV] max_features=log2, n_estimators=10, max_depth=3 .................\n",
      "[CV]  max_features=log2, n_estimators=10, max_depth=3, score=0.612170, total=   0.1s\n",
      "[CV] max_features=log2, n_estimators=10, max_depth=3 .................\n",
      "[CV]  max_features=log2, n_estimators=10, max_depth=3, score=0.589204, total=   0.0s\n",
      "[CV] max_features=log2, n_estimators=10, max_depth=3 .................\n",
      "[CV]  max_features=log2, n_estimators=10, max_depth=3, score=0.597225, total=   0.1s\n",
      "[CV] max_features=log2, n_estimators=20, max_depth=3 .................\n",
      "[CV]  max_features=log2, n_estimators=20, max_depth=3, score=0.591404, total=   0.1s\n",
      "[CV] max_features=log2, n_estimators=20, max_depth=3 .................\n",
      "[CV]  max_features=log2, n_estimators=20, max_depth=3, score=0.615106, total=   0.1s\n",
      "[CV] max_features=log2, n_estimators=20, max_depth=3 .................\n",
      "[CV]  max_features=log2, n_estimators=20, max_depth=3, score=0.616312, total=   0.1s\n",
      "[CV] max_features=log2, n_estimators=100, max_depth=3 ................\n",
      "[CV]  max_features=log2, n_estimators=100, max_depth=3, score=0.600291, total=   0.5s\n",
      "[CV] max_features=log2, n_estimators=100, max_depth=3 ................\n",
      "[CV]  max_features=log2, n_estimators=100, max_depth=3, score=0.584326, total=   0.5s\n",
      "[CV] max_features=log2, n_estimators=100, max_depth=3 ................\n",
      "[CV]  max_features=log2, n_estimators=100, max_depth=3, score=0.597951, total=   0.5s\n",
      "[CV] max_features=sqrt, n_estimators=10, max_depth=4 .................\n",
      "[CV]  max_features=sqrt, n_estimators=10, max_depth=4, score=0.590466, total=   0.1s\n",
      "[CV] max_features=sqrt, n_estimators=10, max_depth=4 .................\n",
      "[CV]  max_features=sqrt, n_estimators=10, max_depth=4, score=0.594911, total=   0.1s\n",
      "[CV] max_features=sqrt, n_estimators=10, max_depth=4 .................\n",
      "[CV]  max_features=sqrt, n_estimators=10, max_depth=4, score=0.576894, total=   0.1s\n",
      "[CV] max_features=sqrt, n_estimators=20, max_depth=4 .................\n",
      "[CV]  max_features=sqrt, n_estimators=20, max_depth=4, score=0.603284, total=   0.1s\n",
      "[CV] max_features=sqrt, n_estimators=20, max_depth=4 .................\n",
      "[CV]  max_features=sqrt, n_estimators=20, max_depth=4, score=0.570693, total=   0.1s\n",
      "[CV] max_features=sqrt, n_estimators=20, max_depth=4 .................\n",
      "[CV]  max_features=sqrt, n_estimators=20, max_depth=4, score=0.589539, total=   0.1s\n",
      "[CV] max_features=sqrt, n_estimators=100, max_depth=4 ................\n",
      "[CV]  max_features=sqrt, n_estimators=100, max_depth=4, score=0.562703, total=   0.6s\n",
      "[CV] max_features=sqrt, n_estimators=100, max_depth=4 ................\n",
      "[CV]  max_features=sqrt, n_estimators=100, max_depth=4, score=0.556862, total=   0.6s\n",
      "[CV] max_features=sqrt, n_estimators=100, max_depth=4 ................\n",
      "[CV]  max_features=sqrt, n_estimators=100, max_depth=4, score=0.558850, total=   0.6s\n",
      "[CV] max_features=log2, n_estimators=10, max_depth=4 .................\n",
      "[CV]  max_features=log2, n_estimators=10, max_depth=4, score=0.587243, total=   0.1s\n",
      "[CV] max_features=log2, n_estimators=10, max_depth=4 .................\n",
      "[CV]  max_features=log2, n_estimators=10, max_depth=4, score=0.605649, total=   0.1s\n",
      "[CV] max_features=log2, n_estimators=10, max_depth=4 .................\n",
      "[CV]  max_features=log2, n_estimators=10, max_depth=4, score=0.592336, total=   0.1s\n",
      "[CV] max_features=log2, n_estimators=20, max_depth=4 .................\n",
      "[CV]  max_features=log2, n_estimators=20, max_depth=4, score=0.598436, total=   0.1s\n",
      "[CV] max_features=log2, n_estimators=20, max_depth=4 .................\n",
      "[CV]  max_features=log2, n_estimators=20, max_depth=4, score=0.597887, total=   0.1s\n",
      "[CV] max_features=log2, n_estimators=20, max_depth=4 .................\n",
      "[CV]  max_features=log2, n_estimators=20, max_depth=4, score=0.581320, total=   0.1s\n",
      "[CV] max_features=log2, n_estimators=100, max_depth=4 ................\n",
      "[CV]  max_features=log2, n_estimators=100, max_depth=4, score=0.573311, total=   0.6s\n",
      "[CV] max_features=log2, n_estimators=100, max_depth=4 ................\n",
      "[CV]  max_features=log2, n_estimators=100, max_depth=4, score=0.562110, total=   0.6s\n",
      "[CV] max_features=log2, n_estimators=100, max_depth=4 ................\n",
      "[CV]  max_features=log2, n_estimators=100, max_depth=4, score=0.568185, total=   0.6s\n",
      "[CV] max_features=sqrt, n_estimators=10, max_depth=5 .................\n",
      "[CV]  max_features=sqrt, n_estimators=10, max_depth=5, score=0.603693, total=   0.1s\n",
      "[CV] max_features=sqrt, n_estimators=10, max_depth=5 .................\n",
      "[CV]  max_features=sqrt, n_estimators=10, max_depth=5, score=0.573286, total=   0.1s\n",
      "[CV] max_features=sqrt, n_estimators=10, max_depth=5 .................\n",
      "[CV]  max_features=sqrt, n_estimators=10, max_depth=5, score=0.602309, total=   0.1s\n",
      "[CV] max_features=sqrt, n_estimators=20, max_depth=5 .................\n",
      "[CV]  max_features=sqrt, n_estimators=20, max_depth=5, score=0.569325, total=   0.1s\n",
      "[CV] max_features=sqrt, n_estimators=20, max_depth=5 .................\n"
     ]
    },
    {
     "name": "stdout",
     "output_type": "stream",
     "text": [
      "[CV]  max_features=sqrt, n_estimators=20, max_depth=5, score=0.580286, total=   0.1s\n",
      "[CV] max_features=sqrt, n_estimators=20, max_depth=5 .................\n",
      "[CV]  max_features=sqrt, n_estimators=20, max_depth=5, score=0.576799, total=   0.1s\n",
      "[CV] max_features=sqrt, n_estimators=100, max_depth=5 ................\n",
      "[CV]  max_features=sqrt, n_estimators=100, max_depth=5, score=0.553347, total=   0.6s\n",
      "[CV] max_features=sqrt, n_estimators=100, max_depth=5 ................\n",
      "[CV]  max_features=sqrt, n_estimators=100, max_depth=5, score=0.517363, total=   0.6s\n",
      "[CV] max_features=sqrt, n_estimators=100, max_depth=5 ................\n",
      "[CV]  max_features=sqrt, n_estimators=100, max_depth=5, score=0.548198, total=   0.6s\n",
      "[CV] max_features=log2, n_estimators=10, max_depth=5 .................\n",
      "[CV]  max_features=log2, n_estimators=10, max_depth=5, score=0.599357, total=   0.1s\n",
      "[CV] max_features=log2, n_estimators=10, max_depth=5 .................\n",
      "[CV]  max_features=log2, n_estimators=10, max_depth=5, score=0.576113, total=   0.1s\n",
      "[CV] max_features=log2, n_estimators=10, max_depth=5 .................\n",
      "[CV]  max_features=log2, n_estimators=10, max_depth=5, score=0.576369, total=   0.1s\n",
      "[CV] max_features=log2, n_estimators=20, max_depth=5 .................\n",
      "[CV]  max_features=log2, n_estimators=20, max_depth=5, score=0.578470, total=   0.1s\n",
      "[CV] max_features=log2, n_estimators=20, max_depth=5 .................\n",
      "[CV]  max_features=log2, n_estimators=20, max_depth=5, score=0.579069, total=   0.1s\n",
      "[CV] max_features=log2, n_estimators=20, max_depth=5 .................\n",
      "[CV]  max_features=log2, n_estimators=20, max_depth=5, score=0.598976, total=   0.1s\n",
      "[CV] max_features=log2, n_estimators=100, max_depth=5 ................\n",
      "[CV]  max_features=log2, n_estimators=100, max_depth=5, score=0.523552, total=   0.6s\n",
      "[CV] max_features=log2, n_estimators=100, max_depth=5 ................\n",
      "[CV]  max_features=log2, n_estimators=100, max_depth=5, score=0.546395, total=   0.6s\n",
      "[CV] max_features=log2, n_estimators=100, max_depth=5 ................\n",
      "[CV]  max_features=log2, n_estimators=100, max_depth=5, score=0.536501, total=   0.6s\n"
     ]
    },
    {
     "name": "stderr",
     "output_type": "stream",
     "text": [
      "[Parallel(n_jobs=1)]: Done  72 out of  72 | elapsed:   19.4s finished\n"
     ]
    }
   ],
   "source": [
    "rf_fitted_simple = rf_search_simple.fit(X_train_simple,y_train_simple)"
   ]
  },
  {
   "cell_type": "code",
   "execution_count": 46,
   "metadata": {},
   "outputs": [
    {
     "data": {
      "text/plain": [
       "(4215,)"
      ]
     },
     "execution_count": 46,
     "metadata": {},
     "output_type": "execute_result"
    }
   ],
   "source": [
    "weights_train_simple.shape"
   ]
  },
  {
   "cell_type": "code",
   "execution_count": 56,
   "metadata": {},
   "outputs": [
    {
     "data": {
      "image/png": "[encoded data removed]",
      "text/plain": [
       "<matplotlib.figure.Figure at 0x7f591b048790>"
      ]
     },
     "metadata": {},
     "output_type": "display_data"
    }
   ],
   "source": [
    "from sklearn import metrics\n",
    "\n",
    "# calculate the fpr and tpr for all thresholds of the classification\n",
    "#Gradient Boosting\n",
    "gbc_probs_simple = gbc_fitted_simple.predict_proba(X_test_simple)[:,1]\n",
    "gbc_fpr_simple, gbc_tpr_simple, gbc_threshold_simple = metrics.roc_curve(y_test_simple, gbc_probs_simple, sample_weight=weights_test_simple)\n",
    "gbc_roc_auc_simple = metrics.auc(gbc_fpr_simple, gbc_tpr_simple)\n",
    "\n",
    "#Logistic Regression\n",
    "log_probs_simple = log_fitted_simple.predict_proba(X_test_simple)[:,1]\n",
    "log_fpr_simple, log_tpr_simple, log_threshold_simple = metrics.roc_curve(y_test_simple, log_probs_simple, sample_weight=weights_test_simple)\n",
    "log_roc_auc_simple = metrics.auc(log_fpr_simple, log_tpr_simple)\n",
    "\n",
    "#Random Forest\n",
    "rf_probs_simple = rf_fitted_simple.predict_proba(X_test_simple)[:,1]\n",
    "rf_fpr_simple, rf_tpr_simple, rf_threshold_simple = metrics.roc_curve(y_test_simple, rf_probs_simple, sample_weight=weights_test_simple)\n",
    "rf_roc_auc_simple = metrics.auc(rf_fpr_simple, rf_tpr_simple)\n",
    "\n",
    "# method I: plt\n",
    "import matplotlib.pyplot as plt\n",
    "fig, ax = plt.subplots(figsize=(12,12))\n",
    "ax.set_title('Receiver Operating Characteristic')\n",
    "ax.plot(gbc_fpr, gbc_tpr, 'b', label = 'AUC_GBC = %0.2f' % gbc_roc_auc_simple, color='green')\n",
    "ax.plot(log_fpr, log_tpr, 'b', label = 'AUC_LOG = %0.2f' % log_roc_auc_simple, color='red')\n",
    "ax.plot(rf_fpr, rf_tpr, 'b', label = 'AUC_RF = %0.2f' % rf_roc_auc_simple , color='blue')\n",
    "ax.legend(loc = 'lower right')\n",
    "ax.plot([0, 1], [0, 1],'r--')\n",
    "ax.set_xlim([0, 1])\n",
    "ax.set_ylim([0, 1])\n",
    "ax.set_ylabel('True Positive Rate')\n",
    "ax.set_xlabel('False Positive Rate')\n",
    "fig.savefig('roc_sep8.png')\n",
    "plt.show()"
   ]
  },
  {
   "cell_type": "code",
   "execution_count": null,
   "metadata": {
    "collapsed": true
   },
   "outputs": [],
   "source": []
  }
 ],
 "metadata": {
  "kernelspec": {
   "display_name": "Python 2",
   "language": "python",
   "name": "python2"
  },
  "language_info": {
   "codemirror_mode": {
    "name": "ipython",
    "version": 2
   },
   "file_extension": ".py",
   "mimetype": "text/x-python",
   "name": "python",
   "nbconvert_exporter": "python",
   "pygments_lexer": "ipython2",
   "version": "2.7.13"
  }
 },
 "nbformat": 4,
 "nbformat_minor": 2
}
